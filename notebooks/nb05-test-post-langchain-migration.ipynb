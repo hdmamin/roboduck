{
 "cells": [
  {
   "cell_type": "code",
   "execution_count": 1,
   "metadata": {
    "ExecuteTime": {
     "end_time": "2023-04-15T05:16:27.951484Z",
     "start_time": "2023-04-15T05:16:27.927783Z"
    }
   },
   "outputs": [
    {
     "name": "stdout",
     "output_type": "stream",
     "text": [
      "The autoreload extension is already loaded. To reload it, use:\n",
      "  %reload_ext autoreload\n"
     ]
    }
   ],
   "source": [
    "%load_ext autoreload\n",
    "%autoreload 2"
   ]
  },
  {
   "cell_type": "code",
   "execution_count": 2,
   "metadata": {
    "ExecuteTime": {
     "end_time": "2023-04-15T05:16:29.964570Z",
     "start_time": "2023-04-15T05:16:27.955946Z"
    }
   },
   "outputs": [],
   "source": [
    "import matplotlib.pyplot as plt\n",
    "import numpy as np\n",
    "import os\n",
    "import pandas as pd\n",
    "from pathlib import Path\n",
    "\n",
    "from htools import *"
   ]
  },
  {
   "cell_type": "code",
   "execution_count": 3,
   "metadata": {
    "ExecuteTime": {
     "end_time": "2023-04-15T05:16:30.024999Z",
     "start_time": "2023-04-15T05:16:29.968712Z"
    }
   },
   "outputs": [
    {
     "name": "stdout",
     "output_type": "stream",
     "text": [
      "Current directory: /Users/hmamin/roboduck\n"
     ]
    }
   ],
   "source": [
    "cd_root()"
   ]
  },
  {
   "cell_type": "code",
   "execution_count": 4,
   "metadata": {
    "ExecuteTime": {
     "end_time": "2023-04-15T05:16:33.262391Z",
     "start_time": "2023-04-15T05:16:33.168061Z"
    }
   },
   "outputs": [],
   "source": [
    "def bubble_sort(nums):\n",
    "    for i in range(len(nums)):\n",
    "        for j in range(len(nums)):\n",
    "            if nums[j] > nums[j + 1]:\n",
    "                nums[j + 1], nums[j] = nums[j], nums[j + 1]\n",
    "    return nums"
   ]
  },
  {
   "cell_type": "code",
   "execution_count": 5,
   "metadata": {
    "ExecuteTime": {
     "end_time": "2023-04-15T05:16:33.334055Z",
     "start_time": "2023-04-15T05:16:33.301396Z"
    }
   },
   "outputs": [],
   "source": [
    "nums = [3, 4, 1, 22, 9, -100, 5, 5, 5, 33]"
   ]
  },
  {
   "cell_type": "code",
   "execution_count": 6,
   "metadata": {
    "ExecuteTime": {
     "end_time": "2023-04-15T05:16:34.398042Z",
     "start_time": "2023-04-15T05:16:34.316294Z"
    }
   },
   "outputs": [
    {
     "ename": "IndexError",
     "evalue": "list index out of range",
     "output_type": "error",
     "traceback": [
      "\u001b[0;31m---------------------------------------------------------------------------\u001b[0m",
      "\u001b[0;31mIndexError\u001b[0m                                Traceback (most recent call last)",
      "\u001b[0;32m<ipython-input-6-9bb1c33833ca>\u001b[0m in \u001b[0;36m<module>\u001b[0;34m\u001b[0m\n\u001b[0;32m----> 1\u001b[0;31m \u001b[0mbubble_sort\u001b[0m\u001b[0;34m(\u001b[0m\u001b[0mnums\u001b[0m\u001b[0;34m)\u001b[0m\u001b[0;34m\u001b[0m\u001b[0;34m\u001b[0m\u001b[0m\n\u001b[0m",
      "\u001b[0;32m<ipython-input-4-3f12a9f434a7>\u001b[0m in \u001b[0;36mbubble_sort\u001b[0;34m(nums)\u001b[0m\n\u001b[1;32m      2\u001b[0m     \u001b[0;32mfor\u001b[0m \u001b[0mi\u001b[0m \u001b[0;32min\u001b[0m \u001b[0mrange\u001b[0m\u001b[0;34m(\u001b[0m\u001b[0mlen\u001b[0m\u001b[0;34m(\u001b[0m\u001b[0mnums\u001b[0m\u001b[0;34m)\u001b[0m\u001b[0;34m)\u001b[0m\u001b[0;34m:\u001b[0m\u001b[0;34m\u001b[0m\u001b[0;34m\u001b[0m\u001b[0m\n\u001b[1;32m      3\u001b[0m         \u001b[0;32mfor\u001b[0m \u001b[0mj\u001b[0m \u001b[0;32min\u001b[0m \u001b[0mrange\u001b[0m\u001b[0;34m(\u001b[0m\u001b[0mlen\u001b[0m\u001b[0;34m(\u001b[0m\u001b[0mnums\u001b[0m\u001b[0;34m)\u001b[0m\u001b[0;34m)\u001b[0m\u001b[0;34m:\u001b[0m\u001b[0;34m\u001b[0m\u001b[0;34m\u001b[0m\u001b[0m\n\u001b[0;32m----> 4\u001b[0;31m             \u001b[0;32mif\u001b[0m \u001b[0mnums\u001b[0m\u001b[0;34m[\u001b[0m\u001b[0mj\u001b[0m\u001b[0;34m]\u001b[0m \u001b[0;34m>\u001b[0m \u001b[0mnums\u001b[0m\u001b[0;34m[\u001b[0m\u001b[0mj\u001b[0m \u001b[0;34m+\u001b[0m \u001b[0;36m1\u001b[0m\u001b[0;34m]\u001b[0m\u001b[0;34m:\u001b[0m\u001b[0;34m\u001b[0m\u001b[0;34m\u001b[0m\u001b[0m\n\u001b[0m\u001b[1;32m      5\u001b[0m                 \u001b[0mnums\u001b[0m\u001b[0;34m[\u001b[0m\u001b[0mj\u001b[0m \u001b[0;34m+\u001b[0m \u001b[0;36m1\u001b[0m\u001b[0;34m]\u001b[0m\u001b[0;34m,\u001b[0m \u001b[0mnums\u001b[0m\u001b[0;34m[\u001b[0m\u001b[0mj\u001b[0m\u001b[0;34m]\u001b[0m \u001b[0;34m=\u001b[0m \u001b[0mnums\u001b[0m\u001b[0;34m[\u001b[0m\u001b[0mj\u001b[0m\u001b[0;34m]\u001b[0m\u001b[0;34m,\u001b[0m \u001b[0mnums\u001b[0m\u001b[0;34m[\u001b[0m\u001b[0mj\u001b[0m \u001b[0;34m+\u001b[0m \u001b[0;36m1\u001b[0m\u001b[0;34m]\u001b[0m\u001b[0;34m\u001b[0m\u001b[0;34m\u001b[0m\u001b[0m\n\u001b[1;32m      6\u001b[0m     \u001b[0;32mreturn\u001b[0m \u001b[0mnums\u001b[0m\u001b[0;34m\u001b[0m\u001b[0;34m\u001b[0m\u001b[0m\n",
      "\u001b[0;31mIndexError\u001b[0m: list index out of range"
     ]
    }
   ],
   "source": [
    "bubble_sort(nums)"
   ]
  },
  {
   "cell_type": "markdown",
   "metadata": {},
   "source": [
    "## Debugger"
   ]
  },
  {
   "cell_type": "markdown",
   "metadata": {},
   "source": [
    "**Dummy Chat Model**"
   ]
  },
  {
   "cell_type": "code",
   "execution_count": 7,
   "metadata": {
    "ExecuteTime": {
     "end_time": "2023-04-15T05:16:36.689191Z",
     "start_time": "2023-04-15T05:16:35.455570Z"
    }
   },
   "outputs": [],
   "source": [
    "from roboduck.debug import duck\n",
    "from roboduck.langchain.chat import DummyChatModel\n",
    "from roboduck.debug import CodeCompletionCache\n",
    "from roboduck.utils import parse_completion"
   ]
  },
  {
   "cell_type": "code",
   "execution_count": 8,
   "metadata": {
    "ExecuteTime": {
     "end_time": "2023-04-15T05:16:36.811806Z",
     "start_time": "2023-04-15T05:16:36.693427Z"
    }
   },
   "outputs": [],
   "source": [
    "def bubble_sort(nums):\n",
    "    for i in range(len(nums)):\n",
    "        for j in range(len(nums)):\n",
    "            if nums[j] > nums[j + 1]:\n",
    "                nums[j + 1], nums[j] = nums[j], nums[j + 1]\n",
    "                duck(chat_class=DummyChatModel)\n",
    "    return nums"
   ]
  },
  {
   "cell_type": "code",
   "execution_count": 9,
   "metadata": {
    "ExecuteTime": {
     "end_time": "2023-04-15T05:19:40.861315Z",
     "start_time": "2023-04-15T05:16:37.667182Z"
    }
   },
   "outputs": [
    {
     "name": "stdout",
     "output_type": "stream",
     "text": [
      "--Return--\n",
      "> /Users/hmamin/anaconda3/envs/py38/lib/python3.8/site-packages/htools/meta.py(1966)wrapper()->None\n",
      "-> return new_func(*args, **kwargs)\n",
      ">>> n\n",
      "> <ipython-input-8-ce72152daa37>(3)bubble_sort()\n",
      "-> for j in range(len(nums)):\n",
      ">>> n\n",
      "> <ipython-input-8-ce72152daa37>(4)bubble_sort()\n",
      "-> if nums[j] > nums[j + 1]:\n",
      ">>> i,j\n",
      "(0, 1)\n",
      ">>> \n",
      "(0, 1)\n",
      ">>> nn\n",
      "*** NameError: name 'nn' is not defined\n",
      ">>> n\n",
      "> <ipython-input-8-ce72152daa37>(3)bubble_sort()\n",
      "-> for j in range(len(nums)):\n",
      ">>> n\n",
      "> <ipython-input-8-ce72152daa37>(4)bubble_sort()\n",
      "-> if nums[j] > nums[j + 1]:\n",
      ">>> n\n",
      "> <ipython-input-8-ce72152daa37>(3)bubble_sort()\n",
      "-> for j in range(len(nums)):\n",
      ">>> n\n",
      "> <ipython-input-8-ce72152daa37>(4)bubble_sort()\n",
      "-> if nums[j] > nums[j + 1]:\n",
      ">>> n\n",
      "> <ipython-input-8-ce72152daa37>(5)bubble_sort()\n",
      "-> nums[j + 1], nums[j] = nums[j], nums[j + 1]\n",
      ">>> n\n",
      "> <ipython-input-8-ce72152daa37>(6)bubble_sort()\n",
      "-> duck(chat_class=DummyChatModel)\n",
      ">>> n\n",
      "--Return--\n",
      "> /Users/hmamin/anaconda3/envs/py38/lib/python3.8/site-packages/htools/meta.py(1966)wrapper()->None\n",
      "-> return new_func(*args, **kwargs)\n",
      ">>> i,j\n",
      "*** NameError: name 'i' is not defined\n",
      ">>> nums\n",
      "*** NameError: name 'nums' is not defined\n",
      ">>> n\n",
      "> <ipython-input-8-ce72152daa37>(3)bubble_sort()\n",
      "-> for j in range(len(nums)):\n",
      ">>> n\n",
      "> <ipython-input-8-ce72152daa37>(4)bubble_sort()\n",
      "-> if nums[j] > nums[j + 1]:\n",
      ">>> nums\n",
      "[1, 3, 4, -100, 9, 5, 5, 5, 22, 33]\n",
      ">>> i,j\n",
      "(0, 4)\n",
      ">>> n\n",
      "> <ipython-input-8-ce72152daa37>(5)bubble_sort()\n",
      "-> nums[j + 1], nums[j] = nums[j], nums[j + 1]\n",
      ">>> n\n",
      "> <ipython-input-8-ce72152daa37>(6)bubble_sort()\n",
      "-> duck(chat_class=DummyChatModel)\n",
      ">>> i,j\n",
      "(0, 4)\n",
      ">>> n\n",
      "--Return--\n",
      "> /Users/hmamin/anaconda3/envs/py38/lib/python3.8/site-packages/htools/meta.py(1966)wrapper()->None\n",
      "-> return new_func(*args, **kwargs)\n",
      ">>> n\n",
      "> <ipython-input-8-ce72152daa37>(3)bubble_sort()\n",
      "-> for j in range(len(nums)):\n",
      ">>> i,j\n",
      "(0, 4)\n",
      ">>> n\n",
      "> <ipython-input-8-ce72152daa37>(4)bubble_sort()\n",
      "-> if nums[j] > nums[j + 1]:\n",
      ">>> n\n",
      "> <ipython-input-8-ce72152daa37>(5)bubble_sort()\n",
      "-> nums[j + 1], nums[j] = nums[j], nums[j + 1]\n",
      ">>> i,j\n",
      "(0, 5)\n",
      ">>> Why are we able to increment j but hit an error before we increment i even once?\n"
     ]
    },
    {
     "name": "stdout",
     "output_type": "stream",
     "text": [
      "\u001b[32m[Duck] \u001b[0m\u001b[32mI\u001b[0m\u001b[32m'\u001b[0m\u001b[32mM\u001b[0m\u001b[32m \u001b[0m\u001b[32mD\u001b[0m\u001b[32mE\u001b[0m\u001b[32mB\u001b[0m\u001b[32mU\u001b[0m\u001b[32mG\u001b[0m\u001b[32mG\u001b[0m\u001b[32mI\u001b[0m\u001b[32mN\u001b[0m\u001b[32mG\u001b[0m\u001b[32m \u001b[0m\u001b[32mS\u001b[0m\u001b[32mO\u001b[0m\u001b[32mM\u001b[0m\u001b[32mE\u001b[0m\u001b[32m \u001b[0m\u001b[32mC\u001b[0m\u001b[32mO\u001b[0m\u001b[32mD\u001b[0m\u001b[32mE\u001b[0m\u001b[32m \u001b[0m\u001b[32mT\u001b[0m\u001b[32mH\u001b[0m\u001b[32mA\u001b[0m\u001b[32mT\u001b[0m\u001b[32m \u001b[0m\u001b[32mI\u001b[0m\u001b[32mS\u001b[0m\u001b[32m \u001b[0m\u001b[32mN\u001b[0m\u001b[32mO\u001b[0m\u001b[32mT\u001b[0m\u001b[32m \u001b[0m\u001b[32mW\u001b[0m\u001b[32mO\u001b[0m\u001b[32mR\u001b[0m\u001b[32mK\u001b[0m\u001b[32mI\u001b[0m\u001b[32mN\u001b[0m\u001b[32mG\u001b[0m\u001b[32m \u001b[0m\u001b[32mA\u001b[0m\u001b[32mS\u001b[0m\u001b[32m \u001b[0m\u001b[32mE\u001b[0m\u001b[32mX\u001b[0m\u001b[32mP\u001b[0m\u001b[32mE\u001b[0m\u001b[32mC\u001b[0m\u001b[32mT\u001b[0m\u001b[32mE\u001b[0m\u001b[32mD\u001b[0m\u001b[32m \u001b[0m\u001b[32mA\u001b[0m\u001b[32mN\u001b[0m\u001b[32mD\u001b[0m\u001b[32m \u001b[0m\u001b[32mI\u001b[0m\u001b[32m \u001b[0m\u001b[32mN\u001b[0m\u001b[32mE\u001b[0m\u001b[32mE\u001b[0m\u001b[32mD\u001b[0m\u001b[32m \u001b[0m\u001b[32mY\u001b[0m\u001b[32mO\u001b[0m\u001b[32mU\u001b[0m\u001b[32mR\u001b[0m\u001b[32m \u001b[0m\u001b[32mH\u001b[0m\u001b[32mE\u001b[0m\u001b[32mL\u001b[0m\u001b[32mP\u001b[0m\u001b[32m.\u001b[0m\u001b[32m \u001b[0m\u001b[32mF\u001b[0m\u001b[32mI\u001b[0m\u001b[32mR\u001b[0m\u001b[32mS\u001b[0m\u001b[32mT\u001b[0m\u001b[32m \u001b[0m\u001b[32mR\u001b[0m\u001b[32mE\u001b[0m\u001b[32mA\u001b[0m\u001b[32mD\u001b[0m\u001b[32m \u001b[0m\u001b[32mM\u001b[0m\u001b[32mY\u001b[0m\u001b[32m \u001b[0m\u001b[32mQ\u001b[0m\u001b[32mU\u001b[0m\u001b[32mE\u001b[0m\u001b[32mS\u001b[0m\u001b[32mT\u001b[0m\u001b[32mI\u001b[0m\u001b[32mO\u001b[0m\u001b[32mN\u001b[0m\u001b[32m,\u001b[0m\u001b[32m \u001b[0m\u001b[32mT\u001b[0m\u001b[32mH\u001b[0m\u001b[32mE\u001b[0m\u001b[32mN\u001b[0m\u001b[32m \u001b[0m\u001b[32mE\u001b[0m\u001b[32mX\u001b[0m\u001b[32mA\u001b[0m\u001b[32mM\u001b[0m\u001b[32mI\u001b[0m\u001b[32mN\u001b[0m\u001b[32mE\u001b[0m\u001b[32m \u001b[0m\u001b[32mT\u001b[0m\u001b[32mH\u001b[0m\u001b[32mE\u001b[0m\u001b[32m \u001b[0m\u001b[32mP\u001b[0m\u001b[32mR\u001b[0m\u001b[32mO\u001b[0m\u001b[32mB\u001b[0m\u001b[32mL\u001b[0m\u001b[32mE\u001b[0m\u001b[32mM\u001b[0m\u001b[32mA\u001b[0m\u001b[32mT\u001b[0m\u001b[32mI\u001b[0m\u001b[32mC\u001b[0m\u001b[32m \u001b[0m\u001b[32mC\u001b[0m\u001b[32mO\u001b[0m\u001b[32mD\u001b[0m\u001b[32mE\u001b[0m\u001b[32m \u001b[0m\u001b[32mS\u001b[0m\u001b[32mN\u001b[0m\u001b[32mI\u001b[0m\u001b[32mP\u001b[0m\u001b[32mP\u001b[0m\u001b[32mE\u001b[0m\u001b[32mT\u001b[0m\u001b[32m \u001b[0m\u001b[32mA\u001b[0m\u001b[32mN\u001b[0m\u001b[32mD\u001b[0m\u001b[32m \u001b[0m\u001b[32mT\u001b[0m\u001b[32mH\u001b[0m\u001b[32mE\u001b[0m\u001b[32m \u001b[0m\u001b[32mC\u001b[0m\u001b[32mU\u001b[0m\u001b[32mR\u001b[0m\u001b[32mR\u001b[0m\u001b[32mE\u001b[0m\u001b[32mN\u001b[0m\u001b[32mT\u001b[0m\u001b[32m \u001b[0m\u001b[32mP\u001b[0m\u001b[32mR\u001b[0m\u001b[32mO\u001b[0m\u001b[32mG\u001b[0m\u001b[32mR\u001b[0m\u001b[32mA\u001b[0m\u001b[32mM\u001b[0m\u001b[32m \u001b[0m\u001b[32mS\u001b[0m\u001b[32mT\u001b[0m\u001b[32mA\u001b[0m\u001b[32mT\u001b[0m\u001b[32mE\u001b[0m\u001b[32m.\u001b[0m\u001b[32m \u001b[0m\u001b[32mY\u001b[0m\u001b[32mO\u001b[0m\u001b[32mU\u001b[0m\u001b[32mR\u001b[0m\u001b[32m \u001b[0m\u001b[32mR\u001b[0m\u001b[32mE\u001b[0m\u001b[32mS\u001b[0m\u001b[32mP\u001b[0m\u001b[32mO\u001b[0m\u001b[32mN\u001b[0m\u001b[32mS\u001b[0m\u001b[32mE\u001b[0m\u001b[32m \u001b[0m\u001b[32mM\u001b[0m\u001b[32mU\u001b[0m\u001b[32mS\u001b[0m\u001b[32mT\u001b[0m\u001b[32m \u001b[0m\u001b[32mH\u001b[0m\u001b[32mA\u001b[0m\u001b[32mV\u001b[0m\u001b[32mE\u001b[0m\u001b[32m \u001b[0m\u001b[32mE\u001b[0m\u001b[32mX\u001b[0m\u001b[32mA\u001b[0m\u001b[32mC\u001b[0m\u001b[32mT\u001b[0m\u001b[32mL\u001b[0m\u001b[32mY\u001b[0m\u001b[32m \u001b[0m\u001b[32mT\u001b[0m\u001b[32mW\u001b[0m\u001b[32mO\u001b[0m\u001b[32m \u001b[0m\u001b[32mS\u001b[0m\u001b[32mE\u001b[0m\u001b[32mC\u001b[0m\u001b[32mT\u001b[0m\u001b[32mI\u001b[0m\u001b[32mO\u001b[0m\u001b[32mN\u001b[0m\u001b[32mS\u001b[0m\u001b[32m \u001b[0m\u001b[32m(\u001b[0m\u001b[32m1\u001b[0m\u001b[32m.\u001b[0m\u001b[32m \u001b[0m\u001b[32mN\u001b[0m\u001b[32mA\u001b[0m\u001b[32mT\u001b[0m\u001b[32mU\u001b[0m\u001b[32mR\u001b[0m\u001b[32mA\u001b[0m\u001b[32mL\u001b[0m\u001b[32m \u001b[0m\u001b[32mL\u001b[0m\u001b[32mA\u001b[0m\u001b[32mN\u001b[0m\u001b[32mG\u001b[0m\u001b[32mU\u001b[0m\u001b[32mA\u001b[0m\u001b[32mG\u001b[0m\u001b[32mE\u001b[0m\u001b[32m \u001b[0m\u001b[32mE\u001b[0m\u001b[32mX\u001b[0m\u001b[32mP\u001b[0m\u001b[32mL\u001b[0m\u001b[32mA\u001b[0m\u001b[32mN\u001b[0m\u001b[32mA\u001b[0m\u001b[32mT\u001b[0m\u001b[32mI\u001b[0m\u001b[32mO\u001b[0m\u001b[32mN\u001b[0m\u001b[32m,\u001b[0m\u001b[32m \u001b[0m\u001b[32mA\u001b[0m\u001b[32mN\u001b[0m\u001b[32mD\u001b[0m\u001b[32m \u001b[0m\u001b[32m2\u001b[0m\u001b[32m.\u001b[0m\u001b[32m \u001b[0m\u001b[32mC\u001b[0m\u001b[32mO\u001b[0m\u001b[32mD\u001b[0m\u001b[32mE\u001b[0m\u001b[32m)\u001b[0m\u001b[32m \u001b[0m\u001b[32mS\u001b[0m\u001b[32mE\u001b[0m\u001b[32mP\u001b[0m\u001b[32mA\u001b[0m\u001b[32mR\u001b[0m\u001b[32mA\u001b[0m\u001b[32mT\u001b[0m\u001b[32mE\u001b[0m\u001b[32mD\u001b[0m\u001b[32m \u001b[0m\u001b[32mB\u001b[0m\u001b[32mY\u001b[0m\u001b[32m \u001b[0m\u001b[32mA\u001b[0m\u001b[32mN\u001b[0m\u001b[32m \u001b[0m\u001b[32mE\u001b[0m\u001b[32mM\u001b[0m\u001b[32mP\u001b[0m\u001b[32mT\u001b[0m\u001b[32mY\u001b[0m\u001b[32m \u001b[0m\u001b[32mL\u001b[0m\u001b[32mI\u001b[0m\u001b[32mN\u001b[0m\u001b[32mE\u001b[0m\u001b[32m.\u001b[0m\u001b[32m \u001b[0m\u001b[32mT\u001b[0m\u001b[32mH\u001b[0m\u001b[32mE\u001b[0m\u001b[32mY\u001b[0m\u001b[32m \u001b[0m\u001b[32mS\u001b[0m\u001b[32mH\u001b[0m\u001b[32mO\u001b[0m\u001b[32mU\u001b[0m\u001b[32mL\u001b[0m\u001b[32mD\u001b[0m\u001b[32m \u001b[0m\u001b[32mA\u001b[0m\u001b[32mP\u001b[0m\u001b[32mP\u001b[0m\u001b[32mE\u001b[0m\u001b[32mA\u001b[0m\u001b[32mR\u001b[0m\u001b[32m \u001b[0m\u001b[32mT\u001b[0m\u001b[32mO\u001b[0m\u001b[32m \u001b[0m\u001b[32mT\u001b[0m\u001b[32mH\u001b[0m\u001b[32mE\u001b[0m\u001b[32m \u001b[0m\u001b[32mU\u001b[0m\u001b[32mS\u001b[0m\u001b[32mE\u001b[0m\u001b[32mR\u001b[0m\u001b[32m \u001b[0m\u001b[32mA\u001b[0m\u001b[32mS\u001b[0m\u001b[32m \u001b[0m\u001b[32mA\u001b[0m\u001b[32m \u001b[0m\u001b[32mS\u001b[0m\u001b[32mI\u001b[0m\u001b[32mN\u001b[0m\u001b[32mG\u001b[0m\u001b[32mL\u001b[0m\u001b[32mE\u001b[0m\u001b[32m \u001b[0m\u001b[32mS\u001b[0m\u001b[32mE\u001b[0m\u001b[32mC\u001b[0m\u001b[32mT\u001b[0m\u001b[32mI\u001b[0m\u001b[32mO\u001b[0m\u001b[32mN\u001b[0m\u001b[32m,\u001b[0m\u001b[32m \u001b[0m\u001b[32mH\u001b[0m\u001b[32mO\u001b[0m\u001b[32mW\u001b[0m\u001b[32mE\u001b[0m\u001b[32mV\u001b[0m\u001b[32mE\u001b[0m\u001b[32mR\u001b[0m\u001b[32m \u001b[0m\u001b[32m-\u001b[0m\u001b[32m \u001b[0m\u001b[32mD\u001b[0m\u001b[32mO\u001b[0m\u001b[32m \u001b[0m\u001b[32mN\u001b[0m\u001b[32mO\u001b[0m\u001b[32mT\u001b[0m\u001b[32m \u001b[0m\u001b[32mI\u001b[0m\u001b[32mN\u001b[0m\u001b[32mC\u001b[0m\u001b[32mL\u001b[0m\u001b[32mU\u001b[0m\u001b[32mD\u001b[0m\u001b[32mE\u001b[0m\u001b[32m \u001b[0m\u001b[32mS\u001b[0m\u001b[32mE\u001b[0m\u001b[32mC\u001b[0m\u001b[32mT\u001b[0m\u001b[32mI\u001b[0m\u001b[32mO\u001b[0m\u001b[32mN\u001b[0m\u001b[32m \u001b[0m\u001b[32mT\u001b[0m\u001b[32mI\u001b[0m\u001b[32mT\u001b[0m\u001b[32mL\u001b[0m\u001b[32mE\u001b[0m\u001b[32mS\u001b[0m\u001b[32m \u001b[0m\u001b[32mO\u001b[0m\u001b[32mF\u001b[0m\u001b[32m \u001b[0m\u001b[32mA\u001b[0m\u001b[32mN\u001b[0m\u001b[32mY\u001b[0m\u001b[32m \u001b[0m\u001b[32mK\u001b[0m\u001b[32mI\u001b[0m\u001b[32mN\u001b[0m\u001b[32mD\u001b[0m\u001b[32m.\u001b[0m\u001b[32m \u001b[0m\u001b[32mI\u001b[0m\u001b[32mN\u001b[0m\u001b[32m \u001b[0m\u001b[32mS\u001b[0m\u001b[32mE\u001b[0m\u001b[32mC\u001b[0m\u001b[32mT\u001b[0m\u001b[32mI\u001b[0m\u001b[32mO\u001b[0m\u001b[32mN\u001b[0m\u001b[32m \u001b[0m\u001b[32m1\u001b[0m\u001b[32m,\u001b[0m\u001b[32m \u001b[0m\u001b[32mU\u001b[0m\u001b[32mS\u001b[0m\u001b[32mE\u001b[0m\u001b[32m \u001b[0m\u001b[32mP\u001b[0m\u001b[32mL\u001b[0m\u001b[32mA\u001b[0m\u001b[32mI\u001b[0m\u001b[32mN\u001b[0m\u001b[32m \u001b[0m\u001b[32mE\u001b[0m\u001b[32mN\u001b[0m\u001b[32mG\u001b[0m\u001b[32mL\u001b[0m\u001b[32mI\u001b[0m\u001b[32mS\u001b[0m\u001b[32mH\u001b[0m\u001b[32m \u001b[0m\u001b[32mT\u001b[0m\u001b[32mO\u001b[0m\u001b[32m \u001b[0m\u001b[32mA\u001b[0m\u001b[32mN\u001b[0m\u001b[32mS\u001b[0m\u001b[32mW\u001b[0m\u001b[32mE\u001b[0m\u001b[32mR\u001b[0m\u001b[32m \u001b[0m\u001b[32mM\u001b[0m\u001b[32mY\u001b[0m\u001b[32m \u001b[0m\u001b[32mQ\u001b[0m\u001b[32mU\u001b[0m\u001b[32mE\u001b[0m\u001b[32mS\u001b[0m\u001b[32mT\u001b[0m\u001b[32mI\u001b[0m\u001b[32mO\u001b[0m\u001b[32mN\u001b[0m\u001b[32m.\u001b[0m\u001b[32m \u001b[0m\u001b[32mI\u001b[0m\u001b[32mF\u001b[0m\u001b[32m \u001b[0m\u001b[32mY\u001b[0m\u001b[32mO\u001b[0m\u001b[32mU\u001b[0m\u001b[32m \u001b[0m\u001b[32mD\u001b[0m\u001b[32mO\u001b[0m\u001b[32mN\u001b[0m\u001b[32m'\u001b[0m\u001b[32mT\u001b[0m\u001b[32m \u001b[0m\u001b[32mK\u001b[0m\u001b[32mN\u001b[0m\u001b[32mO\u001b[0m\u001b[32mW\u001b[0m\u001b[32m \u001b[0m\u001b[32mT\u001b[0m\u001b[32mH\u001b[0m\u001b[32mE\u001b[0m\u001b[32m \u001b[0m\u001b[32mA\u001b[0m\u001b[32mN\u001b[0m\u001b[32mS\u001b[0m\u001b[32mW\u001b[0m\u001b[32mE\u001b[0m\u001b[32mR\u001b[0m\u001b[32m,\u001b[0m\u001b[32m \u001b[0m\u001b[32mS\u001b[0m\u001b[32mE\u001b[0m\u001b[32mC\u001b[0m\u001b[32mT\u001b[0m\u001b[32mI\u001b[0m\u001b[32mO\u001b[0m\u001b[32mN\u001b[0m\u001b[32m \u001b[0m\u001b[32m1\u001b[0m\u001b[32m \u001b[0m\u001b[32mS\u001b[0m\u001b[32mH\u001b[0m\u001b[32mO\u001b[0m\u001b[32mU\u001b[0m\u001b[32mL\u001b[0m\u001b[32mD\u001b[0m\u001b[32m \u001b[0m\u001b[32mI\u001b[0m\u001b[32mN\u001b[0m\u001b[32mS\u001b[0m\u001b[32mT\u001b[0m\u001b[32mE\u001b[0m\u001b[32mA\u001b[0m\u001b[32mD\u001b[0m\u001b[32m \u001b[0m\u001b[32mL\u001b[0m\u001b[32mI\u001b[0m\u001b[32mS\u001b[0m\u001b[32mT\u001b[0m\u001b[32m \u001b[0m\u001b[32mA\u001b[0m\u001b[32m \u001b[0m\u001b[32mF\u001b[0m\u001b[32mE\u001b[0m\u001b[32mW\u001b[0m\u001b[32m \u001b[0m\u001b[32mP\u001b[0m\u001b[32mO\u001b[0m\u001b[32mS\u001b[0m\u001b[32mS\u001b[0m\u001b[32mI\u001b[0m\u001b[32mB\u001b[0m\u001b[32mL\u001b[0m\u001b[32mE\u001b[0m\u001b[32m \u001b[0m\u001b[32mE\u001b[0m\u001b[32mX\u001b[0m\u001b[32mP\u001b[0m\u001b[32mL\u001b[0m\u001b[32mA\u001b[0m\u001b[32mN\u001b[0m\u001b[32mA\u001b[0m\u001b[32mT\u001b[0m\u001b[32mI\u001b[0m\u001b[32mO\u001b[0m\u001b[32mN\u001b[0m\u001b[32mS\u001b[0m\u001b[32m \u001b[0m\u001b[32mO\u001b[0m\u001b[32mR\u001b[0m\u001b[32m \u001b[0m\u001b[32mA\u001b[0m\u001b[32mC\u001b[0m\u001b[32mT\u001b[0m\u001b[32mI\u001b[0m\u001b[32mO\u001b[0m\u001b[32mN\u001b[0m\u001b[32mS\u001b[0m\u001b[32m \u001b[0m\u001b[32mI\u001b[0m\u001b[32m \u001b[0m\u001b[32mC\u001b[0m\u001b[32mO\u001b[0m\u001b[32mU\u001b[0m\u001b[32mL\u001b[0m\u001b[32mD\u001b[0m\u001b[32m \u001b[0m\u001b[32mT\u001b[0m\u001b[32mA\u001b[0m\u001b[32mK\u001b[0m\u001b[32mE\u001b[0m\u001b[32m \u001b[0m\u001b[32mI\u001b[0m\u001b[32mN\u001b[0m\u001b[32m \u001b[0m\u001b[32mO\u001b[0m\u001b[32mR\u001b[0m\u001b[32mD\u001b[0m\u001b[32mE\u001b[0m\u001b[32mR\u001b[0m\u001b[32m \u001b[0m\u001b[32mT\u001b[0m\u001b[32mO\u001b[0m\u001b[32m \u001b[0m\u001b[32mI\u001b[0m\u001b[32mD\u001b[0m\u001b[32mE\u001b[0m\u001b[32mN\u001b[0m\u001b[32mT\u001b[0m\u001b[32mI\u001b[0m\u001b[32mF\u001b[0m\u001b[32mY\u001b[0m\u001b[32m \u001b[0m\u001b[32mT\u001b[0m\u001b[32mH\u001b[0m\u001b[32mE\u001b[0m\u001b[32m \u001b[0m\u001b[32mI\u001b[0m\u001b[32mS\u001b[0m\u001b[32mS\u001b[0m\u001b[32mU\u001b[0m\u001b[32mE\u001b[0m\u001b[32m.\u001b[0m\u001b[32m \u001b[0m\u001b[32mI\u001b[0m\u001b[32mF\u001b[0m\u001b[32m \u001b[0m\u001b[32mI\u001b[0m\u001b[32mT\u001b[0m\u001b[32m \u001b[0m\u001b[32mW\u001b[0m\u001b[32mO\u001b[0m\u001b[32mU\u001b[0m\u001b[32mL\u001b[0m\u001b[32mD\u001b[0m\u001b[32m \u001b[0m\u001b[32mC\u001b[0m\u001b[32mO\u001b[0m\u001b[32mN\u001b[0m\u001b[32mT\u001b[0m\u001b[32mR\u001b[0m\u001b[32mI\u001b[0m\u001b[32mB\u001b[0m\u001b[32mU\u001b[0m\u001b[32mT\u001b[0m\u001b[32mE\u001b[0m\u001b[32m \u001b[0m\u001b[32mT\u001b[0m\u001b[32mO\u001b[0m\u001b[32m \u001b[0m\u001b[32mA\u001b[0m\u001b[32m \u001b[0m\u001b[32mM\u001b[0m\u001b[32mO\u001b[0m\u001b[32mR\u001b[0m\u001b[32mE\u001b[0m\u001b[32m \u001b[0m\u001b[32mH\u001b[0m\u001b[32mE\u001b[0m\u001b[32mL\u001b[0m\u001b[32mP\u001b[0m\u001b[32mF\u001b[0m\u001b[32mU\u001b[0m\u001b[32mL\u001b[0m\u001b[32m \u001b[0m\u001b[32mA\u001b[0m\u001b[32mN\u001b[0m\u001b[32mS\u001b[0m\u001b[32mW\u001b[0m\u001b[32mE\u001b[0m\u001b[32mR\u001b[0m\u001b[32m,\u001b[0m\u001b[32m \u001b[0m\u001b[32mU\u001b[0m\u001b[32mS\u001b[0m\u001b[32mE\u001b[0m\u001b[32m \u001b[0m\u001b[32mS\u001b[0m\u001b[32mE\u001b[0m\u001b[32mC\u001b[0m\u001b[32mT\u001b[0m\u001b[32mI\u001b[0m\u001b[32mO\u001b[0m\u001b[32mN\u001b[0m\u001b[32m \u001b[0m\u001b[32m2\u001b[0m\u001b[32m \u001b[0m\u001b[32mT\u001b[0m\u001b[32mO\u001b[0m\u001b[32m \u001b[0m\u001b[32mP\u001b[0m\u001b[32mR\u001b[0m\u001b[32mO\u001b[0m\u001b[32mV\u001b[0m\u001b[32mI\u001b[0m\u001b[32mD\u001b[0m\u001b[32mE\u001b[0m\u001b[32m \u001b[0m\u001b[32mA\u001b[0m\u001b[32m \u001b[0m\u001b[32mC\u001b[0m\u001b[32mO\u001b[0m\u001b[32mR\u001b[0m\u001b[32mR\u001b[0m\u001b[32mE\u001b[0m\u001b[32mC\u001b[0m\u001b[32mT\u001b[0m\u001b[32mE\u001b[0m\u001b[32mD\u001b[0m\u001b[32m \u001b[0m\u001b[32mV\u001b[0m\u001b[32mE\u001b[0m\u001b[32mR\u001b[0m\u001b[32mS\u001b[0m\u001b[32mI\u001b[0m\u001b[32mO\u001b[0m\u001b[32mN\u001b[0m\u001b[32m \u001b[0m\u001b[32mO\u001b[0m\u001b[32mF\u001b[0m\u001b[32m \u001b[0m\u001b[32mT\u001b[0m\u001b[32mH\u001b[0m\u001b[32mE\u001b[0m\u001b[32m \u001b[0m\u001b[32mI\u001b[0m\u001b[32mN\u001b[0m\u001b[32mP\u001b[0m\u001b[32mU\u001b[0m\u001b[32mT\u001b[0m\u001b[32m \u001b[0m\u001b[32mC\u001b[0m\u001b[32mO\u001b[0m\u001b[32mD\u001b[0m\u001b[32mE\u001b[0m\u001b[32m \u001b[0m\u001b[32mS\u001b[0m\u001b[32mN\u001b[0m\u001b[32mI\u001b[0m\u001b[32mP\u001b[0m\u001b[32mP\u001b[0m\u001b[32mE\u001b[0m\u001b[32mT\u001b[0m\u001b[32m \u001b[0m\u001b[32m(\u001b[0m\u001b[32mL\u001b[0m\u001b[32mE\u001b[0m\u001b[32mA\u001b[0m\u001b[32mV\u001b[0m\u001b[32mE\u001b[0m\u001b[32m \u001b[0m\u001b[32mS\u001b[0m\u001b[32mE\u001b[0m\u001b[32mC\u001b[0m\u001b[32mT\u001b[0m\u001b[32mI\u001b[0m\u001b[32mO\u001b[0m\u001b[32mN\u001b[0m\u001b[32m \u001b[0m\u001b[32m2\u001b[0m\u001b[32m \u001b[0m\u001b[32mE\u001b[0m\u001b[32mM\u001b[0m\u001b[32mP\u001b[0m\u001b[32mT\u001b[0m\u001b[32mY\u001b[0m\u001b[32m \u001b[0m\u001b[32mO\u001b[0m\u001b[32mT\u001b[0m\u001b[32mH\u001b[0m\u001b[32mE\u001b[0m\u001b[32mR\u001b[0m\u001b[32mW\u001b[0m\u001b[32mI\u001b[0m\u001b[32mS\u001b[0m\u001b[32mE\u001b[0m\u001b[32m)\u001b[0m\u001b[32m.\u001b[0m\u001b[32m \u001b[0m\u001b[32mI\u001b[0m\u001b[32mF\u001b[0m\u001b[32m \u001b[0m\u001b[32mS\u001b[0m\u001b[32mE\u001b[0m\u001b[32mC\u001b[0m\u001b[32mT\u001b[0m\u001b[32mI\u001b[0m\u001b[32mO\u001b[0m\u001b[32mN\u001b[0m\u001b[32m \u001b[0m\u001b[32m2\u001b[0m\u001b[32m \u001b[0m\u001b[32mI\u001b[0m\u001b[32mS\u001b[0m\u001b[32m \u001b[0m\u001b[32mN\u001b[0m\u001b[32mO\u001b[0m\u001b[32mT\u001b[0m\u001b[32m \u001b[0m\u001b[32mE\u001b[0m\u001b[32mM\u001b[0m\u001b[32mP\u001b[0m\u001b[32mT\u001b[0m\u001b[32mY\u001b[0m\u001b[32m,\u001b[0m\u001b[32m \u001b[0m\u001b[32mI\u001b[0m\u001b[32mT\u001b[0m\u001b[32m \u001b[0m\u001b[32mM\u001b[0m\u001b[32mU\u001b[0m\u001b[32mS\u001b[0m\u001b[32mT\u001b[0m\u001b[32m \u001b[0m\u001b[32mM\u001b[0m\u001b[32mU\u001b[0m\u001b[32mS\u001b[0m\u001b[32mT\u001b[0m\u001b[32m \u001b[0m\u001b[32mB\u001b[0m\u001b[32mE\u001b[0m\u001b[32m \u001b[0m\u001b[32mE\u001b[0m\u001b[32mN\u001b[0m\u001b[32mT\u001b[0m\u001b[32mI\u001b[0m\u001b[32mR\u001b[0m\u001b[32mE\u001b[0m\u001b[32mL\u001b[0m\u001b[32mY\u001b[0m\u001b[32m \u001b[0m\u001b[32mE\u001b[0m\u001b[32mN\u001b[0m\u001b[32mC\u001b[0m\u001b[32mL\u001b[0m\u001b[32mO\u001b[0m\u001b[32mS\u001b[0m\u001b[32mE\u001b[0m\u001b[32mD\u001b[0m\u001b[32m \u001b[0m\u001b[32mI\u001b[0m\u001b[32mN\u001b[0m\u001b[32m \u001b[0m"
     ]
    },
    {
     "name": "stdout",
     "output_type": "stream",
     "text": [
      "\u001b[32mO\u001b[0m\u001b[32mN\u001b[0m\u001b[32mE\u001b[0m\u001b[32m \u001b[0m\u001b[32mP\u001b[0m\u001b[32mA\u001b[0m\u001b[32mI\u001b[0m\u001b[32mR\u001b[0m\u001b[32m \u001b[0m\u001b[32mO\u001b[0m\u001b[32mF\u001b[0m\u001b[32m \u001b[0m\u001b[32mT\u001b[0m\u001b[32mR\u001b[0m\u001b[32mI\u001b[0m\u001b[32mP\u001b[0m\u001b[32mL\u001b[0m\u001b[32mE\u001b[0m\u001b[32m \u001b[0m\u001b[32mB\u001b[0m\u001b[32mA\u001b[0m\u001b[32mC\u001b[0m\u001b[32mK\u001b[0m\u001b[32mT\u001b[0m\u001b[32mI\u001b[0m\u001b[32mC\u001b[0m\u001b[32mK\u001b[0m\u001b[32mS\u001b[0m\u001b[32m \u001b[0m\u001b[32m(\u001b[0m\u001b[32m\"\u001b[0m\u001b[32m`\u001b[0m\u001b[32m`\u001b[0m\u001b[32m`\u001b[0m\u001b[32m\"\u001b[0m\u001b[32m)\u001b[0m\u001b[32m \u001b[0m\u001b[32mA\u001b[0m\u001b[32mN\u001b[0m\u001b[32mD\u001b[0m\u001b[32m \u001b[0m\u001b[32mC\u001b[0m\u001b[32mO\u001b[0m\u001b[32mN\u001b[0m\u001b[32mT\u001b[0m\u001b[32mA\u001b[0m\u001b[32mI\u001b[0m\u001b[32mN\u001b[0m\u001b[32m \u001b[0m\u001b[32mO\u001b[0m\u001b[32mN\u001b[0m\u001b[32mL\u001b[0m\u001b[32mY\u001b[0m\u001b[32m \u001b[0m\u001b[32mP\u001b[0m\u001b[32mY\u001b[0m\u001b[32mT\u001b[0m\u001b[32mH\u001b[0m\u001b[32mO\u001b[0m\u001b[32mN\u001b[0m\u001b[32m \u001b[0m\u001b[32mC\u001b[0m\u001b[32mO\u001b[0m\u001b[32mD\u001b[0m\u001b[32mE\u001b[0m\u001b[32m \u001b[0m\u001b[32m-\u001b[0m\u001b[32m \u001b[0m\u001b[32mI\u001b[0m\u001b[32mT\u001b[0m\u001b[32m \u001b[0m\u001b[32mC\u001b[0m\u001b[32mA\u001b[0m\u001b[32mN\u001b[0m\u001b[32mN\u001b[0m\u001b[32mO\u001b[0m\u001b[32mT\u001b[0m\u001b[32m \u001b[0m\u001b[32mI\u001b[0m\u001b[32mN\u001b[0m\u001b[32mC\u001b[0m\u001b[32mL\u001b[0m\u001b[32mU\u001b[0m\u001b[32mD\u001b[0m\u001b[32mE\u001b[0m\u001b[32m \u001b[0m\u001b[32mA\u001b[0m\u001b[32mN\u001b[0m\u001b[32mY\u001b[0m\u001b[32m \u001b[0m\u001b[32mE\u001b[0m\u001b[32mN\u001b[0m\u001b[32mG\u001b[0m\u001b[32mL\u001b[0m\u001b[32mI\u001b[0m\u001b[32mS\u001b[0m\u001b[32mH\u001b[0m\u001b[32m \u001b[0m\u001b[32mE\u001b[0m\u001b[32mX\u001b[0m\u001b[32mP\u001b[0m\u001b[32mL\u001b[0m\u001b[32mA\u001b[0m\u001b[32mN\u001b[0m\u001b[32mA\u001b[0m\u001b[32mT\u001b[0m\u001b[32mI\u001b[0m\u001b[32mO\u001b[0m\u001b[32mN\u001b[0m\u001b[32m \u001b[0m\u001b[32mO\u001b[0m\u001b[32mU\u001b[0m\u001b[32mT\u001b[0m\u001b[32mS\u001b[0m\u001b[32mI\u001b[0m\u001b[32mD\u001b[0m\u001b[32mE\u001b[0m\u001b[32m \u001b[0m\u001b[32mO\u001b[0m\u001b[32mF\u001b[0m\u001b[32m \u001b[0m\u001b[32mC\u001b[0m\u001b[32mO\u001b[0m\u001b[32mD\u001b[0m\u001b[32mE\u001b[0m\u001b[32m \u001b[0m\u001b[32mC\u001b[0m\u001b[32mO\u001b[0m\u001b[32mM\u001b[0m\u001b[32mM\u001b[0m\u001b[32mE\u001b[0m\u001b[32mN\u001b[0m\u001b[32mT\u001b[0m\u001b[32mS\u001b[0m\u001b[32m \u001b[0m\u001b[32mO\u001b[0m\u001b[32mR\u001b[0m\u001b[32m \u001b[0m\u001b[32mD\u001b[0m\u001b[32mO\u001b[0m\u001b[32mC\u001b[0m\u001b[32mS\u001b[0m\u001b[32mT\u001b[0m\u001b[32mR\u001b[0m\u001b[32mI\u001b[0m\u001b[32mN\u001b[0m\u001b[32mG\u001b[0m\u001b[32mS\u001b[0m\u001b[32m.\u001b[0m\u001b[32m\n",
      "\u001b[0m\u001b[32m\n",
      "\u001b[0m\u001b[32mQ\u001b[0m\u001b[32mU\u001b[0m\u001b[32mE\u001b[0m\u001b[32mS\u001b[0m\u001b[32mT\u001b[0m\u001b[32mI\u001b[0m\u001b[32mO\u001b[0m\u001b[32mN\u001b[0m\u001b[32m:\u001b[0m\u001b[32m\n",
      "\u001b[0m\u001b[32mW\u001b[0m\u001b[32mH\u001b[0m\u001b[32mY\u001b[0m\u001b[32m \u001b[0m\u001b[32mA\u001b[0m\u001b[32mR\u001b[0m\u001b[32mE\u001b[0m\u001b[32m \u001b[0m\u001b[32mW\u001b[0m\u001b[32mE\u001b[0m\u001b[32m \u001b[0m\u001b[32mA\u001b[0m\u001b[32mB\u001b[0m\u001b[32mL\u001b[0m\u001b[32mE\u001b[0m\u001b[32m \u001b[0m\u001b[32mT\u001b[0m\u001b[32mO\u001b[0m\u001b[32m \u001b[0m\u001b[32mI\u001b[0m\u001b[32mN\u001b[0m\u001b[32mC\u001b[0m\u001b[32mR\u001b[0m\u001b[32mE\u001b[0m\u001b[32mM\u001b[0m\u001b[32mE\u001b[0m\u001b[32mN\u001b[0m\u001b[32mT\u001b[0m\u001b[32m \u001b[0m\u001b[32mJ\u001b[0m\u001b[32m \u001b[0m\u001b[32mB\u001b[0m\u001b[32mU\u001b[0m\u001b[32mT\u001b[0m\u001b[32m \u001b[0m\u001b[32mH\u001b[0m\u001b[32mI\u001b[0m\u001b[32mT\u001b[0m\u001b[32m \u001b[0m\u001b[32mA\u001b[0m\u001b[32mN\u001b[0m\u001b[32m \u001b[0m\u001b[32mE\u001b[0m\u001b[32mR\u001b[0m\u001b[32mR\u001b[0m\u001b[32mO\u001b[0m\u001b[32mR\u001b[0m\u001b[32m \u001b[0m\u001b[32mB\u001b[0m\u001b[32mE\u001b[0m\u001b[32mF\u001b[0m\u001b[32mO\u001b[0m\u001b[32mR\u001b[0m\u001b[32mE\u001b[0m\u001b[32m \u001b[0m\u001b[32mW\u001b[0m\u001b[32mE\u001b[0m\u001b[32m \u001b[0m\u001b[32mI\u001b[0m\u001b[32mN\u001b[0m\u001b[32mC\u001b[0m\u001b[32mR\u001b[0m\u001b[32mE\u001b[0m\u001b[32mM\u001b[0m\u001b[32mE\u001b[0m\u001b[32mN\u001b[0m\u001b[32mT\u001b[0m\u001b[32m \u001b[0m\u001b[32mI\u001b[0m\u001b[32m \u001b[0m\u001b[32mE\u001b[0m\u001b[32mV\u001b[0m\u001b[32mE\u001b[0m\u001b[32mN\u001b[0m\u001b[32m \u001b[0m\u001b[32mO\u001b[0m\u001b[32mN\u001b[0m\u001b[32mC\u001b[0m\u001b[32mE\u001b[0m\u001b[32m?\u001b[0m\u001b[32m\n",
      "\u001b[0m\u001b[32m\n",
      "\u001b[0m\u001b[32mC\u001b[0m\u001b[32mO\u001b[0m\u001b[32mD\u001b[0m\u001b[32mE\u001b[0m\u001b[32m \u001b[0m\u001b[32mS\u001b[0m\u001b[32mN\u001b[0m\u001b[32mI\u001b[0m\u001b[32mP\u001b[0m\u001b[32mP\u001b[0m\u001b[32mE\u001b[0m\u001b[32mT\u001b[0m\u001b[32m:\u001b[0m\u001b[32m\n",
      "\u001b[0m\u001b[32mD\u001b[0m\u001b[32mE\u001b[0m\u001b[32mF\u001b[0m\u001b[32m \u001b[0m\u001b[32mB\u001b[0m\u001b[32mU\u001b[0m\u001b[32mB\u001b[0m\u001b[32mB\u001b[0m\u001b[32mL\u001b[0m\u001b[32mE\u001b[0m\u001b[32m_\u001b[0m\u001b[32mS\u001b[0m\u001b[32mO\u001b[0m\u001b[32mR\u001b[0m\u001b[32mT\u001b[0m\u001b[32m(\u001b[0m\u001b[32mN\u001b[0m\u001b[32mU\u001b[0m\u001b[32mM\u001b[0m\u001b[32mS\u001b[0m\u001b[32m)\u001b[0m\u001b[32m:\u001b[0m\u001b[32m\n",
      "\u001b[0m\u001b[32m \u001b[0m\u001b[32m \u001b[0m\u001b[32m \u001b[0m\u001b[32m \u001b[0m\u001b[32mF\u001b[0m\u001b[32mO\u001b[0m\u001b[32mR\u001b[0m\u001b[32m \u001b[0m\u001b[32mI\u001b[0m\u001b[32m \u001b[0m\u001b[32mI\u001b[0m\u001b[32mN\u001b[0m\u001b[32m \u001b[0m\u001b[32mR\u001b[0m\u001b[32mA\u001b[0m\u001b[32mN\u001b[0m\u001b[32mG\u001b[0m\u001b[32mE\u001b[0m\u001b[32m(\u001b[0m\u001b[32mL\u001b[0m\u001b[32mE\u001b[0m\u001b[32mN\u001b[0m\u001b[32m(\u001b[0m\u001b[32mN\u001b[0m\u001b[32mU\u001b[0m\u001b[32mM\u001b[0m\u001b[32mS\u001b[0m\u001b[32m)\u001b[0m\u001b[32m)\u001b[0m\u001b[32m:\u001b[0m\u001b[32m\n",
      "\u001b[0m\u001b[32m \u001b[0m\u001b[32m \u001b[0m\u001b[32m \u001b[0m\u001b[32m \u001b[0m\u001b[32m \u001b[0m\u001b[32m \u001b[0m\u001b[32m \u001b[0m\u001b[32m \u001b[0m\u001b[32mF\u001b[0m\u001b[32mO\u001b[0m\u001b[32mR\u001b[0m\u001b[32m \u001b[0m\u001b[32mJ\u001b[0m\u001b[32m \u001b[0m\u001b[32mI\u001b[0m\u001b[32mN\u001b[0m\u001b[32m \u001b[0m\u001b[32mR\u001b[0m\u001b[32mA\u001b[0m\u001b[32mN\u001b[0m\u001b[32mG\u001b[0m\u001b[32mE\u001b[0m\u001b[32m(\u001b[0m\u001b[32mL\u001b[0m\u001b[32mE\u001b[0m\u001b[32mN\u001b[0m\u001b[32m(\u001b[0m\u001b[32mN\u001b[0m\u001b[32mU\u001b[0m\u001b[32mM\u001b[0m\u001b[32mS\u001b[0m\u001b[32m)\u001b[0m\u001b[32m)\u001b[0m\u001b[32m:\u001b[0m\u001b[32m\n",
      "\u001b[0m\u001b[32m \u001b[0m\u001b[32m \u001b[0m\u001b[32m \u001b[0m\u001b[32m \u001b[0m\u001b[32m \u001b[0m\u001b[32m \u001b[0m\u001b[32m \u001b[0m\u001b[32m \u001b[0m\u001b[32m \u001b[0m\u001b[32m \u001b[0m\u001b[32m \u001b[0m\u001b[32m \u001b[0m\u001b[32mI\u001b[0m\u001b[32mF\u001b[0m\u001b[32m \u001b[0m\u001b[32mN\u001b[0m\u001b[32mU\u001b[0m\u001b[32mM\u001b[0m\u001b[32mS\u001b[0m\u001b[32m[\u001b[0m\u001b[32mJ\u001b[0m\u001b[32m]\u001b[0m\u001b[32m \u001b[0m\u001b[32m>\u001b[0m\u001b[32m \u001b[0m\u001b[32mN\u001b[0m\u001b[32mU\u001b[0m\u001b[32mM\u001b[0m\u001b[32mS\u001b[0m\u001b[32m[\u001b[0m\u001b[32mJ\u001b[0m\u001b[32m \u001b[0m\u001b[32m+\u001b[0m\u001b[32m \u001b[0m\u001b[32m1\u001b[0m\u001b[32m]\u001b[0m\u001b[32m:\u001b[0m\u001b[32m\n",
      "\u001b[0m\u001b[32m \u001b[0m\u001b[32m \u001b[0m\u001b[32m \u001b[0m\u001b[32m \u001b[0m\u001b[32m \u001b[0m\u001b[32m \u001b[0m\u001b[32m \u001b[0m\u001b[32m \u001b[0m\u001b[32m \u001b[0m\u001b[32m \u001b[0m\u001b[32m \u001b[0m\u001b[32m \u001b[0m\u001b[32m \u001b[0m\u001b[32m \u001b[0m\u001b[32m \u001b[0m\u001b[32m \u001b[0m\u001b[32mN\u001b[0m\u001b[32mU\u001b[0m\u001b[32mM\u001b[0m\u001b[32mS\u001b[0m\u001b[32m[\u001b[0m\u001b[32mJ\u001b[0m\u001b[32m \u001b[0m\u001b[32m+\u001b[0m\u001b[32m \u001b[0m\u001b[32m1\u001b[0m\u001b[32m]\u001b[0m\u001b[32m,\u001b[0m\u001b[32m \u001b[0m\u001b[32mN\u001b[0m\u001b[32mU\u001b[0m\u001b[32mM\u001b[0m\u001b[32mS\u001b[0m\u001b[32m[\u001b[0m\u001b[32mJ\u001b[0m\u001b[32m]\u001b[0m\u001b[32m \u001b[0m\u001b[32m=\u001b[0m\u001b[32m \u001b[0m\u001b[32mN\u001b[0m\u001b[32mU\u001b[0m\u001b[32mM\u001b[0m\u001b[32mS\u001b[0m\u001b[32m[\u001b[0m\u001b[32mJ\u001b[0m\u001b[32m]\u001b[0m\u001b[32m,\u001b[0m\u001b[32m \u001b[0m\u001b[32mN\u001b[0m\u001b[32mU\u001b[0m\u001b[32mM\u001b[0m\u001b[32mS\u001b[0m\u001b[32m[\u001b[0m\u001b[32mJ\u001b[0m\u001b[32m \u001b[0m\u001b[32m+\u001b[0m\u001b[32m \u001b[0m\u001b[32m1\u001b[0m\u001b[32m]\u001b[0m\u001b[32m\n",
      "\u001b[0m\u001b[32m \u001b[0m\u001b[32m \u001b[0m\u001b[32m \u001b[0m\u001b[32m \u001b[0m\u001b[32mR\u001b[0m\u001b[32mE\u001b[0m\u001b[32mT\u001b[0m\u001b[32mU\u001b[0m\u001b[32mR\u001b[0m\u001b[32mN\u001b[0m\u001b[32m \u001b[0m\u001b[32mN\u001b[0m\u001b[32mU\u001b[0m\u001b[32mM\u001b[0m\u001b[32mS\u001b[0m\u001b[32m\n",
      "\u001b[0m\u001b[32m\n",
      "\u001b[0m\u001b[32mN\u001b[0m\u001b[32mE\u001b[0m\u001b[32mX\u001b[0m\u001b[32mT\u001b[0m\u001b[32m \u001b[0m\u001b[32mL\u001b[0m\u001b[32mI\u001b[0m\u001b[32mN\u001b[0m\u001b[32mE\u001b[0m\u001b[32m \u001b[0m\u001b[32mT\u001b[0m\u001b[32mO\u001b[0m\u001b[32m \u001b[0m\u001b[32mE\u001b[0m\u001b[32mX\u001b[0m\u001b[32mE\u001b[0m\u001b[32mC\u001b[0m\u001b[32mU\u001b[0m\u001b[32mT\u001b[0m\u001b[32mE\u001b[0m\u001b[32m:\u001b[0m\u001b[32m\n",
      "\u001b[0m\u001b[32m \u001b[0m\u001b[32m \u001b[0m\u001b[32m \u001b[0m\u001b[32m \u001b[0m\u001b[32m \u001b[0m\u001b[32m \u001b[0m\u001b[32m \u001b[0m\u001b[32m \u001b[0m\u001b[32m \u001b[0m\u001b[32m \u001b[0m\u001b[32m \u001b[0m\u001b[32m \u001b[0m\u001b[32m \u001b[0m\u001b[32m \u001b[0m\u001b[32m \u001b[0m\u001b[32m \u001b[0m\u001b[32mN\u001b[0m\u001b[32mU\u001b[0m\u001b[32mM\u001b[0m\u001b[32mS\u001b[0m\u001b[32m[\u001b[0m\u001b[32mJ\u001b[0m\u001b[32m \u001b[0m\u001b[32m+\u001b[0m\u001b[32m \u001b[0m\u001b[32m1\u001b[0m\u001b[32m]\u001b[0m\u001b[32m,\u001b[0m\u001b[32m \u001b[0m\u001b[32mN\u001b[0m\u001b[32mU\u001b[0m\u001b[32mM\u001b[0m\u001b[32mS\u001b[0m\u001b[32m[\u001b[0m\u001b[32mJ\u001b[0m\u001b[32m]\u001b[0m\u001b[32m \u001b[0m\u001b[32m=\u001b[0m\u001b[32m \u001b[0m\u001b[32mN\u001b[0m\u001b[32mU\u001b[0m\u001b[32mM\u001b[0m\u001b[32mS\u001b[0m\u001b[32m[\u001b[0m\u001b[32mJ\u001b[0m\u001b[32m]\u001b[0m\u001b[32m,\u001b[0m\u001b[32m \u001b[0m\u001b[32mN\u001b[0m\u001b[32mU\u001b[0m\u001b[32mM\u001b[0m\u001b[32mS\u001b[0m\u001b[32m[\u001b[0m\u001b[32mJ\u001b[0m\u001b[32m \u001b[0m\u001b[32m+\u001b[0m\u001b[32m \u001b[0m\u001b[32m1\u001b[0m\u001b[32m]\u001b[0m\u001b[32m\n",
      "\u001b[0m\u001b[32m\n",
      "\u001b[0m\u001b[32mL\u001b[0m\u001b[32mO\u001b[0m\u001b[32mC\u001b[0m\u001b[32mA\u001b[0m\u001b[32mL\u001b[0m\u001b[32m \u001b[0m\u001b[32mV\u001b[0m\u001b[32mA\u001b[0m\u001b[32mR\u001b[0m\u001b[32mI\u001b[0m\u001b[32mA\u001b[0m\u001b[32mB\u001b[0m\u001b[32mL\u001b[0m\u001b[32mE\u001b[0m\u001b[32mS\u001b[0m\u001b[32m:\u001b[0m\u001b[32m\n",
      "\u001b[0m\u001b[32m{\u001b[0m\u001b[32m\n",
      "\u001b[0m\u001b[32m \u001b[0m\u001b[32m \u001b[0m\u001b[32m \u001b[0m\u001b[32m \u001b[0m\u001b[32m'\u001b[0m\u001b[32mN\u001b[0m\u001b[32mU\u001b[0m\u001b[32mM\u001b[0m\u001b[32mS\u001b[0m\u001b[32m'\u001b[0m\u001b[32m:\u001b[0m\u001b[32m \u001b[0m\u001b[32m[\u001b[0m\u001b[32m1\u001b[0m\u001b[32m,\u001b[0m\u001b[32m \u001b[0m\u001b[32m3\u001b[0m\u001b[32m,\u001b[0m\u001b[32m \u001b[0m\u001b[32m4\u001b[0m\u001b[32m,\u001b[0m\u001b[32m \u001b[0m\u001b[32m-\u001b[0m\u001b[32m1\u001b[0m\u001b[32m0\u001b[0m\u001b[32m0\u001b[0m\u001b[32m,\u001b[0m\u001b[32m \u001b[0m\u001b[32m5\u001b[0m\u001b[32m,\u001b[0m\u001b[32m \u001b[0m\u001b[32m9\u001b[0m\u001b[32m,\u001b[0m\u001b[32m \u001b[0m\u001b[32m5\u001b[0m\u001b[32m,\u001b[0m\u001b[32m \u001b[0m\u001b[32m5\u001b[0m\u001b[32m,\u001b[0m\u001b[32m \u001b[0m\u001b[32m2\u001b[0m\u001b[32m2\u001b[0m\u001b[32m,\u001b[0m\u001b[32m \u001b[0m\u001b[32m3\u001b[0m\u001b[32m3\u001b[0m\u001b[32m]\u001b[0m\u001b[32m,\u001b[0m\u001b[32m \u001b[0m\u001b[32m \u001b[0m\u001b[32m \u001b[0m\u001b[32m#\u001b[0m\u001b[32m \u001b[0m\u001b[32mT\u001b[0m\u001b[32mY\u001b[0m\u001b[32mP\u001b[0m\u001b[32mE\u001b[0m\u001b[32m:\u001b[0m\u001b[32m \u001b[0m\u001b[32mL\u001b[0m\u001b[32mI\u001b[0m\u001b[32mS\u001b[0m\u001b[32mT\u001b[0m\u001b[32m\n",
      "\u001b[0m\u001b[32m \u001b[0m\u001b[32m \u001b[0m\u001b[32m \u001b[0m\u001b[32m \u001b[0m\u001b[32m'\u001b[0m\u001b[32mI\u001b[0m\u001b[32m'\u001b[0m\u001b[32m:\u001b[0m\u001b[32m \u001b[0m\u001b[32m0\u001b[0m\u001b[32m,\u001b[0m\u001b[32m \u001b[0m\u001b[32m \u001b[0m\u001b[32m \u001b[0m\u001b[32m#\u001b[0m\u001b[32m \u001b[0m\u001b[32mT\u001b[0m\u001b[32mY\u001b[0m\u001b[32mP\u001b[0m\u001b[32mE\u001b[0m\u001b[32m:\u001b[0m\u001b[32m \u001b[0m\u001b[32mI\u001b[0m\u001b[32mN\u001b[0m\u001b[32mT\u001b[0m\u001b[32m\n",
      "\u001b[0m\u001b[32m \u001b[0m\u001b[32m \u001b[0m\u001b[32m \u001b[0m\u001b[32m \u001b[0m\u001b[32m'\u001b[0m\u001b[32mJ\u001b[0m\u001b[32m'\u001b[0m\u001b[32m:\u001b[0m\u001b[32m \u001b[0m\u001b[32m5\u001b[0m\u001b[32m,\u001b[0m\u001b[32m \u001b[0m\u001b[32m \u001b[0m\u001b[32m \u001b[0m\u001b[32m#\u001b[0m\u001b[32m \u001b[0m\u001b[32mT\u001b[0m\u001b[32mY\u001b[0m\u001b[32mP\u001b[0m\u001b[32mE\u001b[0m\u001b[32m:\u001b[0m\u001b[32m \u001b[0m\u001b[32mI\u001b[0m\u001b[32mN\u001b[0m\u001b[32mT\u001b[0m\u001b[32m\n",
      "\u001b[0m\u001b[32m}\u001b[0m\u001b[32m\n",
      "\u001b[0m\u001b[32m\n",
      "\u001b[0m\u001b[32mG\u001b[0m\u001b[32mL\u001b[0m\u001b[32mO\u001b[0m\u001b[32mB\u001b[0m\u001b[32mA\u001b[0m\u001b[32mL\u001b[0m\u001b[32m \u001b[0m\u001b[32mV\u001b[0m\u001b[32mA\u001b[0m\u001b[32mR\u001b[0m\u001b[32mI\u001b[0m\u001b[32mA\u001b[0m\u001b[32mB\u001b[0m\u001b[32mL\u001b[0m\u001b[32mE\u001b[0m\u001b[32mS\u001b[0m\u001b[32m:\u001b[0m\u001b[32m\n",
      "\u001b[0m\u001b[32m{\u001b[0m\u001b[32m\n",
      "\u001b[0m\u001b[32m \u001b[0m\u001b[32m \u001b[0m\u001b[32m \u001b[0m\u001b[32m \u001b[0m\u001b[32m'\u001b[0m\u001b[32mN\u001b[0m\u001b[32mU\u001b[0m\u001b[32mM\u001b[0m\u001b[32mS\u001b[0m\u001b[32m'\u001b[0m\u001b[32m:\u001b[0m\u001b[32m \u001b[0m\u001b[32m[\u001b[0m\u001b[32m1\u001b[0m\u001b[32m,\u001b[0m\u001b[32m \u001b[0m\u001b[32m3\u001b[0m\u001b[32m,\u001b[0m\u001b[32m \u001b[0m\u001b[32m4\u001b[0m\u001b[32m,\u001b[0m\u001b[32m \u001b[0m\u001b[32m-\u001b[0m\u001b[32m1\u001b[0m\u001b[32m0\u001b[0m\u001b[32m0\u001b[0m\u001b[32m,\u001b[0m\u001b[32m \u001b[0m\u001b[32m5\u001b[0m\u001b[32m,\u001b[0m\u001b[32m \u001b[0m\u001b[32m9\u001b[0m\u001b[32m,\u001b[0m\u001b[32m \u001b[0m\u001b[32m5\u001b[0m\u001b[32m,\u001b[0m\u001b[32m \u001b[0m\u001b[32m5\u001b[0m\u001b[32m,\u001b[0m\u001b[32m \u001b[0m\u001b[32m2\u001b[0m\u001b[32m2\u001b[0m\u001b[32m,\u001b[0m\u001b[32m \u001b[0m\u001b[32m3\u001b[0m\u001b[32m3\u001b[0m\u001b[32m]\u001b[0m\u001b[32m,\u001b[0m\u001b[32m \u001b[0m\u001b[32m \u001b[0m\u001b[32m \u001b[0m\u001b[32m#\u001b[0m\u001b[32m \u001b[0m\u001b[32mT\u001b[0m\u001b[32mY\u001b[0m\u001b[32mP\u001b[0m\u001b[32mE\u001b[0m\u001b[32m:\u001b[0m\u001b[32m \u001b[0m\u001b[32mL\u001b[0m\u001b[32mI\u001b[0m\u001b[32mS\u001b[0m\u001b[32mT\u001b[0m\u001b[32m\n",
      "\u001b[0m\u001b[32m}\u001b[0m>>> q\n"
     ]
    },
    {
     "ename": "BdbQuit",
     "evalue": "",
     "output_type": "error",
     "traceback": [
      "\u001b[0;31m---------------------------------------------------------------------------\u001b[0m",
      "\u001b[0;31mBdbQuit\u001b[0m                                   Traceback (most recent call last)",
      "\u001b[0;32m<ipython-input-9-9bb1c33833ca>\u001b[0m in \u001b[0;36m<module>\u001b[0;34m\u001b[0m\n\u001b[0;32m----> 1\u001b[0;31m \u001b[0mbubble_sort\u001b[0m\u001b[0;34m(\u001b[0m\u001b[0mnums\u001b[0m\u001b[0;34m)\u001b[0m\u001b[0;34m\u001b[0m\u001b[0;34m\u001b[0m\u001b[0m\n\u001b[0m",
      "\u001b[0;32m<ipython-input-8-ce72152daa37>\u001b[0m in \u001b[0;36mbubble_sort\u001b[0;34m(nums)\u001b[0m\n\u001b[1;32m      3\u001b[0m         \u001b[0;32mfor\u001b[0m \u001b[0mj\u001b[0m \u001b[0;32min\u001b[0m \u001b[0mrange\u001b[0m\u001b[0;34m(\u001b[0m\u001b[0mlen\u001b[0m\u001b[0;34m(\u001b[0m\u001b[0mnums\u001b[0m\u001b[0;34m)\u001b[0m\u001b[0;34m)\u001b[0m\u001b[0;34m:\u001b[0m\u001b[0;34m\u001b[0m\u001b[0;34m\u001b[0m\u001b[0m\n\u001b[1;32m      4\u001b[0m             \u001b[0;32mif\u001b[0m \u001b[0mnums\u001b[0m\u001b[0;34m[\u001b[0m\u001b[0mj\u001b[0m\u001b[0;34m]\u001b[0m \u001b[0;34m>\u001b[0m \u001b[0mnums\u001b[0m\u001b[0;34m[\u001b[0m\u001b[0mj\u001b[0m \u001b[0;34m+\u001b[0m \u001b[0;36m1\u001b[0m\u001b[0;34m]\u001b[0m\u001b[0;34m:\u001b[0m\u001b[0;34m\u001b[0m\u001b[0;34m\u001b[0m\u001b[0m\n\u001b[0;32m----> 5\u001b[0;31m                 \u001b[0mnums\u001b[0m\u001b[0;34m[\u001b[0m\u001b[0mj\u001b[0m \u001b[0;34m+\u001b[0m \u001b[0;36m1\u001b[0m\u001b[0;34m]\u001b[0m\u001b[0;34m,\u001b[0m \u001b[0mnums\u001b[0m\u001b[0;34m[\u001b[0m\u001b[0mj\u001b[0m\u001b[0;34m]\u001b[0m \u001b[0;34m=\u001b[0m \u001b[0mnums\u001b[0m\u001b[0;34m[\u001b[0m\u001b[0mj\u001b[0m\u001b[0;34m]\u001b[0m\u001b[0;34m,\u001b[0m \u001b[0mnums\u001b[0m\u001b[0;34m[\u001b[0m\u001b[0mj\u001b[0m \u001b[0;34m+\u001b[0m \u001b[0;36m1\u001b[0m\u001b[0;34m]\u001b[0m\u001b[0;34m\u001b[0m\u001b[0;34m\u001b[0m\u001b[0m\n\u001b[0m\u001b[1;32m      6\u001b[0m                 \u001b[0mduck\u001b[0m\u001b[0;34m(\u001b[0m\u001b[0mchat_class\u001b[0m\u001b[0;34m=\u001b[0m\u001b[0mDummyChatModel\u001b[0m\u001b[0;34m)\u001b[0m\u001b[0;34m\u001b[0m\u001b[0;34m\u001b[0m\u001b[0m\n\u001b[1;32m      7\u001b[0m     \u001b[0;32mreturn\u001b[0m \u001b[0mnums\u001b[0m\u001b[0;34m\u001b[0m\u001b[0;34m\u001b[0m\u001b[0m\n",
      "\u001b[0;32m<ipython-input-8-ce72152daa37>\u001b[0m in \u001b[0;36mbubble_sort\u001b[0;34m(nums)\u001b[0m\n\u001b[1;32m      3\u001b[0m         \u001b[0;32mfor\u001b[0m \u001b[0mj\u001b[0m \u001b[0;32min\u001b[0m \u001b[0mrange\u001b[0m\u001b[0;34m(\u001b[0m\u001b[0mlen\u001b[0m\u001b[0;34m(\u001b[0m\u001b[0mnums\u001b[0m\u001b[0;34m)\u001b[0m\u001b[0;34m)\u001b[0m\u001b[0;34m:\u001b[0m\u001b[0;34m\u001b[0m\u001b[0;34m\u001b[0m\u001b[0m\n\u001b[1;32m      4\u001b[0m             \u001b[0;32mif\u001b[0m \u001b[0mnums\u001b[0m\u001b[0;34m[\u001b[0m\u001b[0mj\u001b[0m\u001b[0;34m]\u001b[0m \u001b[0;34m>\u001b[0m \u001b[0mnums\u001b[0m\u001b[0;34m[\u001b[0m\u001b[0mj\u001b[0m \u001b[0;34m+\u001b[0m \u001b[0;36m1\u001b[0m\u001b[0;34m]\u001b[0m\u001b[0;34m:\u001b[0m\u001b[0;34m\u001b[0m\u001b[0;34m\u001b[0m\u001b[0m\n\u001b[0;32m----> 5\u001b[0;31m                 \u001b[0mnums\u001b[0m\u001b[0;34m[\u001b[0m\u001b[0mj\u001b[0m \u001b[0;34m+\u001b[0m \u001b[0;36m1\u001b[0m\u001b[0;34m]\u001b[0m\u001b[0;34m,\u001b[0m \u001b[0mnums\u001b[0m\u001b[0;34m[\u001b[0m\u001b[0mj\u001b[0m\u001b[0;34m]\u001b[0m \u001b[0;34m=\u001b[0m \u001b[0mnums\u001b[0m\u001b[0;34m[\u001b[0m\u001b[0mj\u001b[0m\u001b[0;34m]\u001b[0m\u001b[0;34m,\u001b[0m \u001b[0mnums\u001b[0m\u001b[0;34m[\u001b[0m\u001b[0mj\u001b[0m \u001b[0;34m+\u001b[0m \u001b[0;36m1\u001b[0m\u001b[0;34m]\u001b[0m\u001b[0;34m\u001b[0m\u001b[0;34m\u001b[0m\u001b[0m\n\u001b[0m\u001b[1;32m      6\u001b[0m                 \u001b[0mduck\u001b[0m\u001b[0;34m(\u001b[0m\u001b[0mchat_class\u001b[0m\u001b[0;34m=\u001b[0m\u001b[0mDummyChatModel\u001b[0m\u001b[0;34m)\u001b[0m\u001b[0;34m\u001b[0m\u001b[0;34m\u001b[0m\u001b[0m\n\u001b[1;32m      7\u001b[0m     \u001b[0;32mreturn\u001b[0m \u001b[0mnums\u001b[0m\u001b[0;34m\u001b[0m\u001b[0;34m\u001b[0m\u001b[0m\n",
      "\u001b[0;32m~/anaconda3/envs/py38/lib/python3.8/bdb.py\u001b[0m in \u001b[0;36mtrace_dispatch\u001b[0;34m(self, frame, event, arg)\u001b[0m\n\u001b[1;32m     86\u001b[0m             \u001b[0;32mreturn\u001b[0m \u001b[0;31m# None\u001b[0m\u001b[0;34m\u001b[0m\u001b[0;34m\u001b[0m\u001b[0m\n\u001b[1;32m     87\u001b[0m         \u001b[0;32mif\u001b[0m \u001b[0mevent\u001b[0m \u001b[0;34m==\u001b[0m \u001b[0;34m'line'\u001b[0m\u001b[0;34m:\u001b[0m\u001b[0;34m\u001b[0m\u001b[0;34m\u001b[0m\u001b[0m\n\u001b[0;32m---> 88\u001b[0;31m             \u001b[0;32mreturn\u001b[0m \u001b[0mself\u001b[0m\u001b[0;34m.\u001b[0m\u001b[0mdispatch_line\u001b[0m\u001b[0;34m(\u001b[0m\u001b[0mframe\u001b[0m\u001b[0;34m)\u001b[0m\u001b[0;34m\u001b[0m\u001b[0;34m\u001b[0m\u001b[0m\n\u001b[0m\u001b[1;32m     89\u001b[0m         \u001b[0;32mif\u001b[0m \u001b[0mevent\u001b[0m \u001b[0;34m==\u001b[0m \u001b[0;34m'call'\u001b[0m\u001b[0;34m:\u001b[0m\u001b[0;34m\u001b[0m\u001b[0;34m\u001b[0m\u001b[0m\n\u001b[1;32m     90\u001b[0m             \u001b[0;32mreturn\u001b[0m \u001b[0mself\u001b[0m\u001b[0;34m.\u001b[0m\u001b[0mdispatch_call\u001b[0m\u001b[0;34m(\u001b[0m\u001b[0mframe\u001b[0m\u001b[0;34m,\u001b[0m \u001b[0marg\u001b[0m\u001b[0;34m)\u001b[0m\u001b[0;34m\u001b[0m\u001b[0;34m\u001b[0m\u001b[0m\n",
      "\u001b[0;32m~/anaconda3/envs/py38/lib/python3.8/bdb.py\u001b[0m in \u001b[0;36mdispatch_line\u001b[0;34m(self, frame)\u001b[0m\n\u001b[1;32m    111\u001b[0m         \u001b[0;32mif\u001b[0m \u001b[0mself\u001b[0m\u001b[0;34m.\u001b[0m\u001b[0mstop_here\u001b[0m\u001b[0;34m(\u001b[0m\u001b[0mframe\u001b[0m\u001b[0;34m)\u001b[0m \u001b[0;32mor\u001b[0m \u001b[0mself\u001b[0m\u001b[0;34m.\u001b[0m\u001b[0mbreak_here\u001b[0m\u001b[0;34m(\u001b[0m\u001b[0mframe\u001b[0m\u001b[0;34m)\u001b[0m\u001b[0;34m:\u001b[0m\u001b[0;34m\u001b[0m\u001b[0;34m\u001b[0m\u001b[0m\n\u001b[1;32m    112\u001b[0m             \u001b[0mself\u001b[0m\u001b[0;34m.\u001b[0m\u001b[0muser_line\u001b[0m\u001b[0;34m(\u001b[0m\u001b[0mframe\u001b[0m\u001b[0;34m)\u001b[0m\u001b[0;34m\u001b[0m\u001b[0;34m\u001b[0m\u001b[0m\n\u001b[0;32m--> 113\u001b[0;31m             \u001b[0;32mif\u001b[0m \u001b[0mself\u001b[0m\u001b[0;34m.\u001b[0m\u001b[0mquitting\u001b[0m\u001b[0;34m:\u001b[0m \u001b[0;32mraise\u001b[0m \u001b[0mBdbQuit\u001b[0m\u001b[0;34m\u001b[0m\u001b[0;34m\u001b[0m\u001b[0m\n\u001b[0m\u001b[1;32m    114\u001b[0m         \u001b[0;32mreturn\u001b[0m \u001b[0mself\u001b[0m\u001b[0;34m.\u001b[0m\u001b[0mtrace_dispatch\u001b[0m\u001b[0;34m\u001b[0m\u001b[0;34m\u001b[0m\u001b[0m\n\u001b[1;32m    115\u001b[0m \u001b[0;34m\u001b[0m\u001b[0m\n",
      "\u001b[0;31mBdbQuit\u001b[0m: "
     ]
    }
   ],
   "source": [
    "bubble_sort(nums)"
   ]
  },
  {
   "cell_type": "markdown",
   "metadata": {},
   "source": [
    "**ChatGPT**"
   ]
  },
  {
   "cell_type": "code",
   "execution_count": 10,
   "metadata": {
    "ExecuteTime": {
     "end_time": "2023-04-15T05:19:51.109018Z",
     "start_time": "2023-04-15T05:19:51.039330Z"
    }
   },
   "outputs": [],
   "source": [
    "def bubble_sort(nums):\n",
    "    for i in range(len(nums)):\n",
    "        for j in range(len(nums)):\n",
    "            if nums[j] > nums[j + 1]:\n",
    "                nums[j + 1], nums[j] = nums[j], nums[j + 1]\n",
    "                duck()\n",
    "    return nums"
   ]
  },
  {
   "cell_type": "code",
   "execution_count": 11,
   "metadata": {
    "ExecuteTime": {
     "end_time": "2023-04-15T05:20:14.749158Z",
     "start_time": "2023-04-15T05:19:52.337074Z"
    }
   },
   "outputs": [
    {
     "name": "stdout",
     "output_type": "stream",
     "text": [
      "--Return--\n",
      "> /Users/hmamin/anaconda3/envs/py38/lib/python3.8/site-packages/htools/meta.py(1966)wrapper()->None\n",
      "-> return new_func(*args, **kwargs)\n",
      ">>> n\n",
      "> <ipython-input-10-ea640e3b8b2d>(3)bubble_sort()\n",
      "-> for j in range(len(nums)):\n",
      ">>> n\n",
      "> <ipython-input-10-ea640e3b8b2d>(4)bubble_sort()\n",
      "-> if nums[j] > nums[j + 1]:\n",
      ">>> n\n",
      "> <ipython-input-10-ea640e3b8b2d>(3)bubble_sort()\n",
      "-> for j in range(len(nums)):\n",
      ">>> n\n",
      "> <ipython-input-10-ea640e3b8b2d>(4)bubble_sort()\n",
      "-> if nums[j] > nums[j + 1]:\n",
      ">>> n\n",
      "> <ipython-input-10-ea640e3b8b2d>(3)bubble_sort()\n",
      "-> for j in range(len(nums)):\n",
      ">>> n\n",
      "> <ipython-input-10-ea640e3b8b2d>(4)bubble_sort()\n",
      "-> if nums[j] > nums[j + 1]:\n",
      ">>> n\n",
      "> <ipython-input-10-ea640e3b8b2d>(5)bubble_sort()\n",
      "-> nums[j + 1], nums[j] = nums[j], nums[j + 1]\n",
      ">>> i,j\n",
      "(0, 5)\n",
      ">>> Why are we able to increment j but hit an error before we increment i even once?\n",
      "\u001b[32m[Duck] \u001b[0m\u001b[32mT\u001b[0m\u001b[32mh\u001b[0m\u001b[32me\u001b[0m\u001b[32m \u001b[0m\u001b[32me\u001b[0m\u001b[32mr\u001b[0m\u001b[32mr\u001b[0m\u001b[32mo\u001b[0m\u001b[32mr\u001b[0m\u001b[32m \u001b[0m\u001b[32mo\u001b[0m\u001b[32mc\u001b[0m\u001b[32mc\u001b[0m\u001b[32mu\u001b[0m\u001b[32mr\u001b[0m\u001b[32ms\u001b[0m\u001b[32m \u001b[0m\u001b[32mb\u001b[0m\u001b[32me\u001b[0m\u001b[32mc\u001b[0m\u001b[32ma\u001b[0m\u001b[32mu\u001b[0m\u001b[32ms\u001b[0m\u001b[32me\u001b[0m\u001b[32m \u001b[0m\u001b[32mt\u001b[0m\u001b[32mh\u001b[0m\u001b[32me\u001b[0m\u001b[32m \u001b[0m\u001b[32mc\u001b[0m\u001b[32mo\u001b[0m\u001b[32md\u001b[0m\u001b[32me\u001b[0m\u001b[32m \u001b[0m\u001b[32mt\u001b[0m\u001b[32mr\u001b[0m\u001b[32mi\u001b[0m\u001b[32me\u001b[0m\u001b[32ms\u001b[0m\u001b[32m \u001b[0m\u001b[32mt\u001b[0m\u001b[32mo\u001b[0m\u001b[32m \u001b[0m\u001b[32ma\u001b[0m\u001b[32mc\u001b[0m\u001b[32mc\u001b[0m\u001b[32me\u001b[0m\u001b[32ms\u001b[0m\u001b[32ms\u001b[0m\u001b[32m \u001b[0m\u001b[32ma\u001b[0m\u001b[32mn\u001b[0m\u001b[32m \u001b[0m\u001b[32mi\u001b[0m\u001b[32mn\u001b[0m\u001b[32md\u001b[0m\u001b[32me\u001b[0m\u001b[32mx\u001b[0m\u001b[32m \u001b[0m\u001b[32mt\u001b[0m\u001b[32mh\u001b[0m\u001b[32ma\u001b[0m\u001b[32mt\u001b[0m\u001b[32m \u001b[0m\u001b[32mi\u001b[0m\u001b[32ms\u001b[0m\u001b[32m \u001b[0m\u001b[32mo\u001b[0m\u001b[32mu\u001b[0m\u001b[32mt\u001b[0m\u001b[32m \u001b[0m\u001b[32mo\u001b[0m\u001b[32mf\u001b[0m\u001b[32m \u001b[0m\u001b[32mr\u001b[0m\u001b[32ma\u001b[0m\u001b[32mn\u001b[0m\u001b[32mg\u001b[0m\u001b[32me\u001b[0m\u001b[32m.\u001b[0m\u001b[32m \u001b[0m\u001b[32mS\u001b[0m\u001b[32mp\u001b[0m\u001b[32me\u001b[0m\u001b[32mc\u001b[0m\u001b[32mi\u001b[0m\u001b[32mf\u001b[0m\u001b[32mi\u001b[0m\u001b[32mc\u001b[0m\u001b[32ma\u001b[0m\u001b[32ml\u001b[0m\u001b[32ml\u001b[0m\u001b[32my\u001b[0m\u001b[32m,\u001b[0m\u001b[32m \u001b[0m\u001b[32mt\u001b[0m\u001b[32mh\u001b[0m\u001b[32me\u001b[0m\u001b[32m \u001b[0m\u001b[32ml\u001b[0m\u001b[32mi\u001b[0m\u001b[32mn\u001b[0m\u001b[32me\u001b[0m\u001b[32m \u001b[0m\u001b[32m`\u001b[0m\u001b[32mi\u001b[0m\u001b[32mf\u001b[0m\u001b[32m \u001b[0m\u001b[32mn\u001b[0m\u001b[32mu\u001b[0m\u001b[32mm\u001b[0m\u001b[32ms\u001b[0m\u001b[32m[\u001b[0m\u001b[32mj\u001b[0m\u001b[32m]\u001b[0m\u001b[32m \u001b[0m\u001b[32m>\u001b[0m\u001b[32m \u001b[0m\u001b[32mn\u001b[0m\u001b[32mu\u001b[0m\u001b[32mm\u001b[0m\u001b[32ms\u001b[0m\u001b[32m[\u001b[0m\u001b[32mj\u001b[0m\u001b[32m \u001b[0m\u001b[32m+\u001b[0m\u001b[32m \u001b[0m\u001b[32m1\u001b[0m\u001b[32m]\u001b[0m\u001b[32m:\u001b[0m\u001b[32m`\u001b[0m\u001b[32m \u001b[0m\u001b[32mt\u001b[0m\u001b[32mr\u001b[0m\u001b[32mi\u001b[0m\u001b[32me\u001b[0m\u001b[32ms\u001b[0m\u001b[32m \u001b[0m\u001b[32mt\u001b[0m\u001b[32mo\u001b[0m\u001b[32m \u001b[0m\u001b[32ma\u001b[0m\u001b[32mc\u001b[0m\u001b[32mc\u001b[0m\u001b[32me\u001b[0m\u001b[32ms\u001b[0m\u001b[32ms\u001b[0m\u001b[32m \u001b[0m\u001b[32mt\u001b[0m\u001b[32mh\u001b[0m\u001b[32me\u001b[0m\u001b[32m \u001b[0m\u001b[32mi\u001b[0m\u001b[32mn\u001b[0m\u001b[32md\u001b[0m\u001b[32me\u001b[0m\u001b[32mx\u001b[0m\u001b[32m \u001b[0m\u001b[32m`\u001b[0m\u001b[32mj\u001b[0m\u001b[32m \u001b[0m\u001b[32m+\u001b[0m\u001b[32m \u001b[0m\u001b[32m1\u001b[0m\u001b[32m`\u001b[0m\u001b[32m,\u001b[0m\u001b[32m \u001b[0m\u001b[32mw\u001b[0m\u001b[32mh\u001b[0m\u001b[32mi\u001b[0m\u001b[32mc\u001b[0m\u001b[32mh\u001b[0m\u001b[32m \u001b[0m\u001b[32mi\u001b[0m\u001b[32ms\u001b[0m\u001b[32m \u001b[0m\u001b[32mo\u001b[0m\u001b[32mu\u001b[0m\u001b[32mt\u001b[0m\u001b[32m \u001b[0m\u001b[32mo\u001b[0m\u001b[32mf\u001b[0m\u001b[32m \u001b[0m\u001b[32mr\u001b[0m\u001b[32ma\u001b[0m\u001b[32mn\u001b[0m\u001b[32mg\u001b[0m\u001b[32me\u001b[0m\u001b[32m \u001b[0m\u001b[32mw\u001b[0m\u001b[32mh\u001b[0m\u001b[32me\u001b[0m\u001b[32mn\u001b[0m\u001b[32m \u001b[0m\u001b[32m`\u001b[0m\u001b[32mj\u001b[0m\u001b[32m`\u001b[0m\u001b[32m \u001b[0m\u001b[32mi\u001b[0m\u001b[32ms\u001b[0m\u001b[32m \u001b[0m\u001b[32me\u001b[0m\u001b[32mq\u001b[0m\u001b[32mu\u001b[0m\u001b[32ma\u001b[0m\u001b[32ml\u001b[0m\u001b[32m \u001b[0m\u001b[32mt\u001b[0m\u001b[32mo\u001b[0m\u001b[32m \u001b[0m\u001b[32mt\u001b[0m\u001b[32mh\u001b[0m\u001b[32me\u001b[0m\u001b[32m \u001b[0m\u001b[32ml\u001b[0m\u001b[32ma\u001b[0m\u001b[32ms\u001b[0m\u001b[32mt\u001b[0m\u001b[32m \u001b[0m\u001b[32mi\u001b[0m\u001b[32mn\u001b[0m\u001b[32md\u001b[0m\u001b[32me\u001b[0m\u001b[32mx\u001b[0m\u001b[32m \u001b[0m\u001b[32mo\u001b[0m\u001b[32mf\u001b[0m\u001b[32m \u001b[0m\u001b[32mt\u001b[0m\u001b[32mh\u001b[0m\u001b[32me\u001b[0m\u001b[32m \u001b[0m\u001b[32ml\u001b[0m\u001b[32mi\u001b[0m\u001b[32ms\u001b[0m\u001b[32mt\u001b[0m\u001b[32m.\u001b[0m\u001b[32m \u001b[0m\u001b[32mT\u001b[0m\u001b[32mh\u001b[0m\u001b[32mi\u001b[0m\u001b[32ms\u001b[0m\u001b[32m \u001b[0m\u001b[32mm\u001b[0m\u001b[32me\u001b[0m\u001b[32ma\u001b[0m\u001b[32mn\u001b[0m\u001b[32ms\u001b[0m\u001b[32m \u001b[0m\u001b[32mt\u001b[0m\u001b[32mh\u001b[0m\u001b[32ma\u001b[0m\u001b[32mt\u001b[0m\u001b[32m \u001b[0m\u001b[32mt\u001b[0m\u001b[32mh\u001b[0m\u001b[32me\u001b[0m\u001b[32m \u001b[0m\u001b[32mi\u001b[0m\u001b[32mn\u001b[0m\u001b[32mn\u001b[0m\u001b[32me\u001b[0m\u001b[32mr\u001b[0m\u001b[32m \u001b[0m\u001b[32ml\u001b[0m\u001b[32mo\u001b[0m\u001b[32mo\u001b[0m\u001b[32mp\u001b[0m\u001b[32m \u001b[0m\u001b[32mi\u001b[0m\u001b[32ms\u001b[0m\u001b[32m \u001b[0m\u001b[32mi\u001b[0m\u001b[32mt\u001b[0m\u001b[32me\u001b[0m\u001b[32mr\u001b[0m\u001b[32ma\u001b[0m\u001b[32mt\u001b[0m\u001b[32mi\u001b[0m\u001b[32mn\u001b[0m\u001b[32mg\u001b[0m\u001b[32m \u001b[0m\u001b[32mo\u001b[0m\u001b[32mn\u001b[0m\u001b[32me\u001b[0m\u001b[32m \u001b[0m\u001b[32mt\u001b[0m\u001b[32mi\u001b[0m\u001b[32mm\u001b[0m\u001b[32me\u001b[0m\u001b[32m \u001b[0m\u001b[32mt\u001b[0m\u001b[32mo\u001b[0m\u001b[32mo\u001b[0m\u001b[32m \u001b[0m\u001b[32mm\u001b[0m\u001b[32ma\u001b[0m\u001b[32mn\u001b[0m\u001b[32my\u001b[0m\u001b[32m.\u001b[0m\u001b[32m \u001b[0m\u001b[32mT\u001b[0m\u001b[32mo\u001b[0m\u001b[32m \u001b[0m\u001b[32mf\u001b[0m\u001b[32mi\u001b[0m\u001b[32mx\u001b[0m\u001b[32m \u001b[0m\u001b[32mt\u001b[0m\u001b[32mh\u001b[0m\u001b[32mi\u001b[0m\u001b[32ms\u001b[0m\u001b[32m,\u001b[0m\u001b[32m \u001b[0m\u001b[32mw\u001b[0m\u001b[32me\u001b[0m\u001b[32m \u001b[0m\u001b[32mn\u001b[0m\u001b[32me\u001b[0m\u001b[32me\u001b[0m\u001b[32md\u001b[0m\u001b[32m \u001b[0m\u001b[32mt\u001b[0m\u001b[32mo\u001b[0m\u001b[32m \u001b[0m\u001b[32mc\u001b[0m\u001b[32mh\u001b[0m\u001b[32ma\u001b[0m\u001b[32mn\u001b[0m\u001b[32mg\u001b[0m\u001b[32me\u001b[0m\u001b[32m \u001b[0m\u001b[32mt\u001b[0m\u001b[32mh\u001b[0m\u001b[32me\u001b[0m\u001b[32m \u001b[0m\u001b[32mr\u001b[0m\u001b[32ma\u001b[0m\u001b[32mn\u001b[0m\u001b[32mg\u001b[0m\u001b[32me\u001b[0m\u001b[32m \u001b[0m\u001b[32mo\u001b[0m\u001b[32mf\u001b[0m\u001b[32m \u001b[0m\u001b[32mt\u001b[0m\u001b[32mh\u001b[0m\u001b[32me\u001b[0m\u001b[32m \u001b[0m\u001b[32mi\u001b[0m\u001b[32mn\u001b[0m\u001b[32mn\u001b[0m\u001b[32me\u001b[0m\u001b[32mr\u001b[0m\u001b[32m \u001b[0m\u001b[32ml\u001b[0m\u001b[32mo\u001b[0m\u001b[32mo\u001b[0m\u001b[32mp\u001b[0m\u001b[32m \u001b[0m\u001b[32mt\u001b[0m\u001b[32mo\u001b[0m\u001b[32m \u001b[0m\u001b[32me\u001b[0m\u001b[32mx\u001b[0m\u001b[32mc\u001b[0m\u001b[32ml\u001b[0m\u001b[32mu\u001b[0m\u001b[32md\u001b[0m\u001b[32me\u001b[0m\u001b[32m \u001b[0m\u001b[32mt\u001b[0m\u001b[32mh\u001b[0m\u001b[32me\u001b[0m\u001b[32m \u001b[0m\u001b[32ml\u001b[0m\u001b[32ma\u001b[0m\u001b[32ms\u001b[0m\u001b[32mt\u001b[0m\u001b[32m \u001b[0m\u001b[32mi\u001b[0m\u001b[32mn\u001b[0m\u001b[32md\u001b[0m\u001b[32me\u001b[0m\u001b[32mx\u001b[0m\u001b[32m.\u001b[0m\u001b[32m\n",
      "\u001b[0m\u001b[32m\n",
      "\u001b[0m\u001b[32m`\u001b[0m\u001b[32m`\u001b[0m\u001b[32m`\u001b[0m\u001b[32mp\u001b[0m\u001b[32my\u001b[0m\u001b[32mt\u001b[0m\u001b[32mh\u001b[0m\u001b[32mo\u001b[0m\u001b[32mn\u001b[0m\u001b[32m\n",
      "\u001b[0m\u001b[32md\u001b[0m\u001b[32me\u001b[0m\u001b[32mf\u001b[0m\u001b[32m \u001b[0m\u001b[32mb\u001b[0m\u001b[32mu\u001b[0m\u001b[32mb\u001b[0m\u001b[32mb\u001b[0m\u001b[32ml\u001b[0m\u001b[32me\u001b[0m\u001b[32m_\u001b[0m\u001b[32ms\u001b[0m\u001b[32mo\u001b[0m\u001b[32mr\u001b[0m\u001b[32mt\u001b[0m\u001b[32m(\u001b[0m\u001b[32mn\u001b[0m\u001b[32mu\u001b[0m\u001b[32mm\u001b[0m\u001b[32ms\u001b[0m\u001b[32m)\u001b[0m\u001b[32m:\u001b[0m\u001b[32m\n",
      "\u001b[0m\u001b[32m \u001b[0m\u001b[32m \u001b[0m\u001b[32m \u001b[0m\u001b[32m \u001b[0m\u001b[32mf\u001b[0m\u001b[32mo\u001b[0m\u001b[32mr\u001b[0m\u001b[32m \u001b[0m\u001b[32mi\u001b[0m\u001b[32m \u001b[0m\u001b[32mi\u001b[0m\u001b[32mn\u001b[0m\u001b[32m \u001b[0m\u001b[32mr\u001b[0m\u001b[32ma\u001b[0m\u001b[32mn\u001b[0m\u001b[32mg\u001b[0m\u001b[32me\u001b[0m\u001b[32m(\u001b[0m\u001b[32ml\u001b[0m\u001b[32me\u001b[0m\u001b[32mn\u001b[0m\u001b[32m(\u001b[0m\u001b[32mn\u001b[0m\u001b[32mu\u001b[0m\u001b[32mm\u001b[0m\u001b[32ms\u001b[0m\u001b[32m)\u001b[0m\u001b[32m)\u001b[0m\u001b[32m:\u001b[0m\u001b[32m\n",
      "\u001b[0m\u001b[32m \u001b[0m\u001b[32m \u001b[0m\u001b[32m \u001b[0m\u001b[32m \u001b[0m\u001b[32m \u001b[0m\u001b[32m \u001b[0m\u001b[32m \u001b[0m\u001b[32m \u001b[0m\u001b[32mf\u001b[0m\u001b[32mo\u001b[0m\u001b[32mr\u001b[0m\u001b[32m \u001b[0m\u001b[32mj\u001b[0m\u001b[32m \u001b[0m\u001b[32mi\u001b[0m\u001b[32mn\u001b[0m\u001b[32m \u001b[0m\u001b[32mr\u001b[0m\u001b[32ma\u001b[0m\u001b[32mn\u001b[0m\u001b[32mg\u001b[0m\u001b[32me\u001b[0m\u001b[32m(\u001b[0m\u001b[32ml\u001b[0m\u001b[32me\u001b[0m\u001b[32mn\u001b[0m\u001b[32m(\u001b[0m\u001b[32mn\u001b[0m\u001b[32mu\u001b[0m\u001b[32mm\u001b[0m\u001b[32ms\u001b[0m\u001b[32m)\u001b[0m\u001b[32m \u001b[0m\u001b[32m-\u001b[0m\u001b[32m \u001b[0m\u001b[32m1\u001b[0m\u001b[32m)\u001b[0m\u001b[32m:\u001b[0m\u001b[32m \u001b[0m\u001b[32m \u001b[0m\u001b[32m#\u001b[0m\u001b[32m \u001b[0m\u001b[32mc\u001b[0m\u001b[32mh\u001b[0m\u001b[32ma\u001b[0m\u001b[32mn\u001b[0m\u001b[32mg\u001b[0m\u001b[32me\u001b[0m\u001b[32m \u001b[0m\u001b[32mr\u001b[0m\u001b[32ma\u001b[0m\u001b[32mn\u001b[0m\u001b[32mg\u001b[0m\u001b[32me\u001b[0m\u001b[32m \u001b[0m\u001b[32mt\u001b[0m\u001b[32mo\u001b[0m\u001b[32m \u001b[0m\u001b[32me\u001b[0m\u001b[32mx\u001b[0m\u001b[32mc\u001b[0m\u001b[32ml\u001b[0m\u001b[32mu\u001b[0m\u001b[32md\u001b[0m\u001b[32me\u001b[0m\u001b[32m \u001b[0m\u001b[32ml\u001b[0m\u001b[32ma\u001b[0m\u001b[32ms\u001b[0m\u001b[32mt\u001b[0m\u001b[32m \u001b[0m\u001b[32mi\u001b[0m\u001b[32mn\u001b[0m\u001b[32md\u001b[0m\u001b[32me\u001b[0m\u001b[32mx\u001b[0m\u001b[32m\n",
      "\u001b[0m\u001b[32m \u001b[0m\u001b[32m \u001b[0m\u001b[32m \u001b[0m\u001b[32m \u001b[0m\u001b[32m \u001b[0m\u001b[32m \u001b[0m\u001b[32m \u001b[0m\u001b[32m \u001b[0m\u001b[32m \u001b[0m\u001b[32m \u001b[0m\u001b[32m \u001b[0m\u001b[32m \u001b[0m\u001b[32mi\u001b[0m\u001b[32mf\u001b[0m\u001b[32m \u001b[0m\u001b[32mn\u001b[0m\u001b[32mu\u001b[0m\u001b[32mm\u001b[0m\u001b[32ms\u001b[0m\u001b[32m[\u001b[0m\u001b[32mj\u001b[0m\u001b[32m]\u001b[0m\u001b[32m \u001b[0m\u001b[32m>\u001b[0m\u001b[32m \u001b[0m\u001b[32mn\u001b[0m\u001b[32mu\u001b[0m\u001b[32mm\u001b[0m\u001b[32ms\u001b[0m\u001b[32m[\u001b[0m\u001b[32mj\u001b[0m\u001b[32m \u001b[0m\u001b[32m+\u001b[0m\u001b[32m \u001b[0m\u001b[32m1\u001b[0m\u001b[32m]\u001b[0m\u001b[32m:\u001b[0m\u001b[32m\n",
      "\u001b[0m\u001b[32m \u001b[0m\u001b[32m \u001b[0m\u001b[32m \u001b[0m\u001b[32m \u001b[0m\u001b[32m \u001b[0m\u001b[32m \u001b[0m\u001b[32m \u001b[0m\u001b[32m \u001b[0m\u001b[32m \u001b[0m\u001b[32m \u001b[0m\u001b[32m \u001b[0m\u001b[32m \u001b[0m\u001b[32m \u001b[0m\u001b[32m \u001b[0m\u001b[32m \u001b[0m\u001b[32m \u001b[0m\u001b[32mn\u001b[0m\u001b[32mu\u001b[0m\u001b[32mm\u001b[0m\u001b[32ms\u001b[0m\u001b[32m[\u001b[0m\u001b[32mj\u001b[0m\u001b[32m \u001b[0m\u001b[32m+\u001b[0m\u001b[32m \u001b[0m\u001b[32m1\u001b[0m\u001b[32m]\u001b[0m\u001b[32m,\u001b[0m\u001b[32m \u001b[0m\u001b[32mn\u001b[0m\u001b[32mu\u001b[0m\u001b[32mm\u001b[0m\u001b[32ms\u001b[0m\u001b[32m[\u001b[0m\u001b[32mj\u001b[0m\u001b[32m]\u001b[0m\u001b[32m \u001b[0m\u001b[32m=\u001b[0m\u001b[32m \u001b[0m\u001b[32mn\u001b[0m\u001b[32mu\u001b[0m\u001b[32mm\u001b[0m\u001b[32ms\u001b[0m\u001b[32m[\u001b[0m\u001b[32mj\u001b[0m\u001b[32m]\u001b[0m\u001b[32m,\u001b[0m\u001b[32m \u001b[0m\u001b[32mn\u001b[0m\u001b[32mu\u001b[0m\u001b[32mm\u001b[0m\u001b[32ms\u001b[0m\u001b[32m[\u001b[0m\u001b[32mj\u001b[0m\u001b[32m \u001b[0m\u001b[32m+\u001b[0m\u001b[32m \u001b[0m\u001b[32m1\u001b[0m\u001b[32m]\u001b[0m\u001b[32m\n",
      "\u001b[0m\u001b[32m \u001b[0m\u001b[32m \u001b[0m\u001b[32m \u001b[0m\u001b[32m \u001b[0m\u001b[32mr\u001b[0m\u001b[32me\u001b[0m\u001b[32mt\u001b[0m\u001b[32mu\u001b[0m\u001b[32mr\u001b[0m\u001b[32mn\u001b[0m\u001b[32m \u001b[0m\u001b[32mn\u001b[0m\u001b[32mu\u001b[0m\u001b[32mm\u001b[0m\u001b[32ms\u001b[0m\u001b[32m\n",
      "\u001b[0m\u001b[32m`\u001b[0m\u001b[32m`\u001b[0m\u001b[32m`\u001b[0m>>> q\n"
     ]
    },
    {
     "ename": "BdbQuit",
     "evalue": "",
     "output_type": "error",
     "traceback": [
      "\u001b[0;31m---------------------------------------------------------------------------\u001b[0m",
      "\u001b[0;31mBdbQuit\u001b[0m                                   Traceback (most recent call last)",
      "\u001b[0;32m<ipython-input-11-9bb1c33833ca>\u001b[0m in \u001b[0;36m<module>\u001b[0;34m\u001b[0m\n\u001b[0;32m----> 1\u001b[0;31m \u001b[0mbubble_sort\u001b[0m\u001b[0;34m(\u001b[0m\u001b[0mnums\u001b[0m\u001b[0;34m)\u001b[0m\u001b[0;34m\u001b[0m\u001b[0;34m\u001b[0m\u001b[0m\n\u001b[0m",
      "\u001b[0;32m<ipython-input-10-ea640e3b8b2d>\u001b[0m in \u001b[0;36mbubble_sort\u001b[0;34m(nums)\u001b[0m\n\u001b[1;32m      3\u001b[0m         \u001b[0;32mfor\u001b[0m \u001b[0mj\u001b[0m \u001b[0;32min\u001b[0m \u001b[0mrange\u001b[0m\u001b[0;34m(\u001b[0m\u001b[0mlen\u001b[0m\u001b[0;34m(\u001b[0m\u001b[0mnums\u001b[0m\u001b[0;34m)\u001b[0m\u001b[0;34m)\u001b[0m\u001b[0;34m:\u001b[0m\u001b[0;34m\u001b[0m\u001b[0;34m\u001b[0m\u001b[0m\n\u001b[1;32m      4\u001b[0m             \u001b[0;32mif\u001b[0m \u001b[0mnums\u001b[0m\u001b[0;34m[\u001b[0m\u001b[0mj\u001b[0m\u001b[0;34m]\u001b[0m \u001b[0;34m>\u001b[0m \u001b[0mnums\u001b[0m\u001b[0;34m[\u001b[0m\u001b[0mj\u001b[0m \u001b[0;34m+\u001b[0m \u001b[0;36m1\u001b[0m\u001b[0;34m]\u001b[0m\u001b[0;34m:\u001b[0m\u001b[0;34m\u001b[0m\u001b[0;34m\u001b[0m\u001b[0m\n\u001b[0;32m----> 5\u001b[0;31m                 \u001b[0mnums\u001b[0m\u001b[0;34m[\u001b[0m\u001b[0mj\u001b[0m \u001b[0;34m+\u001b[0m \u001b[0;36m1\u001b[0m\u001b[0;34m]\u001b[0m\u001b[0;34m,\u001b[0m \u001b[0mnums\u001b[0m\u001b[0;34m[\u001b[0m\u001b[0mj\u001b[0m\u001b[0;34m]\u001b[0m \u001b[0;34m=\u001b[0m \u001b[0mnums\u001b[0m\u001b[0;34m[\u001b[0m\u001b[0mj\u001b[0m\u001b[0;34m]\u001b[0m\u001b[0;34m,\u001b[0m \u001b[0mnums\u001b[0m\u001b[0;34m[\u001b[0m\u001b[0mj\u001b[0m \u001b[0;34m+\u001b[0m \u001b[0;36m1\u001b[0m\u001b[0;34m]\u001b[0m\u001b[0;34m\u001b[0m\u001b[0;34m\u001b[0m\u001b[0m\n\u001b[0m\u001b[1;32m      6\u001b[0m                 \u001b[0mduck\u001b[0m\u001b[0;34m(\u001b[0m\u001b[0;34m)\u001b[0m\u001b[0;34m\u001b[0m\u001b[0;34m\u001b[0m\u001b[0m\n\u001b[1;32m      7\u001b[0m     \u001b[0;32mreturn\u001b[0m \u001b[0mnums\u001b[0m\u001b[0;34m\u001b[0m\u001b[0;34m\u001b[0m\u001b[0m\n",
      "\u001b[0;32m<ipython-input-10-ea640e3b8b2d>\u001b[0m in \u001b[0;36mbubble_sort\u001b[0;34m(nums)\u001b[0m\n\u001b[1;32m      3\u001b[0m         \u001b[0;32mfor\u001b[0m \u001b[0mj\u001b[0m \u001b[0;32min\u001b[0m \u001b[0mrange\u001b[0m\u001b[0;34m(\u001b[0m\u001b[0mlen\u001b[0m\u001b[0;34m(\u001b[0m\u001b[0mnums\u001b[0m\u001b[0;34m)\u001b[0m\u001b[0;34m)\u001b[0m\u001b[0;34m:\u001b[0m\u001b[0;34m\u001b[0m\u001b[0;34m\u001b[0m\u001b[0m\n\u001b[1;32m      4\u001b[0m             \u001b[0;32mif\u001b[0m \u001b[0mnums\u001b[0m\u001b[0;34m[\u001b[0m\u001b[0mj\u001b[0m\u001b[0;34m]\u001b[0m \u001b[0;34m>\u001b[0m \u001b[0mnums\u001b[0m\u001b[0;34m[\u001b[0m\u001b[0mj\u001b[0m \u001b[0;34m+\u001b[0m \u001b[0;36m1\u001b[0m\u001b[0;34m]\u001b[0m\u001b[0;34m:\u001b[0m\u001b[0;34m\u001b[0m\u001b[0;34m\u001b[0m\u001b[0m\n\u001b[0;32m----> 5\u001b[0;31m                 \u001b[0mnums\u001b[0m\u001b[0;34m[\u001b[0m\u001b[0mj\u001b[0m \u001b[0;34m+\u001b[0m \u001b[0;36m1\u001b[0m\u001b[0;34m]\u001b[0m\u001b[0;34m,\u001b[0m \u001b[0mnums\u001b[0m\u001b[0;34m[\u001b[0m\u001b[0mj\u001b[0m\u001b[0;34m]\u001b[0m \u001b[0;34m=\u001b[0m \u001b[0mnums\u001b[0m\u001b[0;34m[\u001b[0m\u001b[0mj\u001b[0m\u001b[0;34m]\u001b[0m\u001b[0;34m,\u001b[0m \u001b[0mnums\u001b[0m\u001b[0;34m[\u001b[0m\u001b[0mj\u001b[0m \u001b[0;34m+\u001b[0m \u001b[0;36m1\u001b[0m\u001b[0;34m]\u001b[0m\u001b[0;34m\u001b[0m\u001b[0;34m\u001b[0m\u001b[0m\n\u001b[0m\u001b[1;32m      6\u001b[0m                 \u001b[0mduck\u001b[0m\u001b[0;34m(\u001b[0m\u001b[0;34m)\u001b[0m\u001b[0;34m\u001b[0m\u001b[0;34m\u001b[0m\u001b[0m\n\u001b[1;32m      7\u001b[0m     \u001b[0;32mreturn\u001b[0m \u001b[0mnums\u001b[0m\u001b[0;34m\u001b[0m\u001b[0;34m\u001b[0m\u001b[0m\n",
      "\u001b[0;32m~/anaconda3/envs/py38/lib/python3.8/bdb.py\u001b[0m in \u001b[0;36mtrace_dispatch\u001b[0;34m(self, frame, event, arg)\u001b[0m\n\u001b[1;32m     86\u001b[0m             \u001b[0;32mreturn\u001b[0m \u001b[0;31m# None\u001b[0m\u001b[0;34m\u001b[0m\u001b[0;34m\u001b[0m\u001b[0m\n\u001b[1;32m     87\u001b[0m         \u001b[0;32mif\u001b[0m \u001b[0mevent\u001b[0m \u001b[0;34m==\u001b[0m \u001b[0;34m'line'\u001b[0m\u001b[0;34m:\u001b[0m\u001b[0;34m\u001b[0m\u001b[0;34m\u001b[0m\u001b[0m\n\u001b[0;32m---> 88\u001b[0;31m             \u001b[0;32mreturn\u001b[0m \u001b[0mself\u001b[0m\u001b[0;34m.\u001b[0m\u001b[0mdispatch_line\u001b[0m\u001b[0;34m(\u001b[0m\u001b[0mframe\u001b[0m\u001b[0;34m)\u001b[0m\u001b[0;34m\u001b[0m\u001b[0;34m\u001b[0m\u001b[0m\n\u001b[0m\u001b[1;32m     89\u001b[0m         \u001b[0;32mif\u001b[0m \u001b[0mevent\u001b[0m \u001b[0;34m==\u001b[0m \u001b[0;34m'call'\u001b[0m\u001b[0;34m:\u001b[0m\u001b[0;34m\u001b[0m\u001b[0;34m\u001b[0m\u001b[0m\n\u001b[1;32m     90\u001b[0m             \u001b[0;32mreturn\u001b[0m \u001b[0mself\u001b[0m\u001b[0;34m.\u001b[0m\u001b[0mdispatch_call\u001b[0m\u001b[0;34m(\u001b[0m\u001b[0mframe\u001b[0m\u001b[0;34m,\u001b[0m \u001b[0marg\u001b[0m\u001b[0;34m)\u001b[0m\u001b[0;34m\u001b[0m\u001b[0;34m\u001b[0m\u001b[0m\n",
      "\u001b[0;32m~/anaconda3/envs/py38/lib/python3.8/bdb.py\u001b[0m in \u001b[0;36mdispatch_line\u001b[0;34m(self, frame)\u001b[0m\n\u001b[1;32m    111\u001b[0m         \u001b[0;32mif\u001b[0m \u001b[0mself\u001b[0m\u001b[0;34m.\u001b[0m\u001b[0mstop_here\u001b[0m\u001b[0;34m(\u001b[0m\u001b[0mframe\u001b[0m\u001b[0;34m)\u001b[0m \u001b[0;32mor\u001b[0m \u001b[0mself\u001b[0m\u001b[0;34m.\u001b[0m\u001b[0mbreak_here\u001b[0m\u001b[0;34m(\u001b[0m\u001b[0mframe\u001b[0m\u001b[0;34m)\u001b[0m\u001b[0;34m:\u001b[0m\u001b[0;34m\u001b[0m\u001b[0;34m\u001b[0m\u001b[0m\n\u001b[1;32m    112\u001b[0m             \u001b[0mself\u001b[0m\u001b[0;34m.\u001b[0m\u001b[0muser_line\u001b[0m\u001b[0;34m(\u001b[0m\u001b[0mframe\u001b[0m\u001b[0;34m)\u001b[0m\u001b[0;34m\u001b[0m\u001b[0;34m\u001b[0m\u001b[0m\n\u001b[0;32m--> 113\u001b[0;31m             \u001b[0;32mif\u001b[0m \u001b[0mself\u001b[0m\u001b[0;34m.\u001b[0m\u001b[0mquitting\u001b[0m\u001b[0;34m:\u001b[0m \u001b[0;32mraise\u001b[0m \u001b[0mBdbQuit\u001b[0m\u001b[0;34m\u001b[0m\u001b[0;34m\u001b[0m\u001b[0m\n\u001b[0m\u001b[1;32m    114\u001b[0m         \u001b[0;32mreturn\u001b[0m \u001b[0mself\u001b[0m\u001b[0;34m.\u001b[0m\u001b[0mtrace_dispatch\u001b[0m\u001b[0;34m\u001b[0m\u001b[0;34m\u001b[0m\u001b[0m\n\u001b[1;32m    115\u001b[0m \u001b[0;34m\u001b[0m\u001b[0m\n",
      "\u001b[0;31mBdbQuit\u001b[0m: "
     ]
    }
   ],
   "source": [
    "bubble_sort(nums)"
   ]
  },
  {
   "cell_type": "code",
   "execution_count": 14,
   "metadata": {
    "ExecuteTime": {
     "end_time": "2023-04-13T04:17:16.026336Z",
     "start_time": "2023-04-13T04:17:15.988721Z"
    }
   },
   "outputs": [
    {
     "data": {
      "text/plain": [
       "{'last_completion': \"Certainly! Here's the corrected code snippet with type annotations:\\n\\n```python\\nfrom typing import List\\n\\ndef bubble_sort(nums: List[int]) -> List[int]:\\n    for i in range(len(nums)):\\n        for j in range(len(nums) - i - 1):\\n            if nums[j] > nums[j + 1]:\\n                nums[j + 1], nums[j] = nums[j], nums[j + 1]\\n    return nums\\n``` \\n\\nIn this version, we've added type annotations to the function definition to indicate that the `nums` parameter is a list of integers, and that the function returns a list of integers. This can help catch type-related errors earlier in the development process, and also make the code more readable and self-documenting.\",\n",
       " 'last_explanation': \"Certainly! Here's the corrected code snippet with type annotations:\\n\",\n",
       " 'last_code': '',\n",
       " 'last_new_code': 'from typing import List\\n\\ndef bubble_sort(nums: List[int]) -> List[int]:\\n    for i in range(len(nums)):\\n        for j in range(len(nums) - i - 1):\\n            if nums[j] > nums[j + 1]:\\n                nums[j + 1], nums[j] = nums[j], nums[j + 1]\\n    return nums',\n",
       " 'last_code_diff': '\\x1b[32mfrom typing import List\\n\\ndef bubble_sort(nums: List[int]) -> List[int]:\\n    for i in range(len(nums)):\\n        for j in range(len(nums) - i - 1):\\n            if nums[j] > nums[j + 1]:\\n                nums[j + 1], nums[j] = nums[j], nums[j + 1]\\n    return nums\\x1b[0m',\n",
       " 'last_extra': {}}"
      ]
     },
     "execution_count": 14,
     "metadata": {},
     "output_type": "execute_result"
    }
   ],
   "source": [
    "{k: v for k, v in vars(CodeCompletionCache).items() if k.startswith('last_')}"
   ]
  },
  {
   "cell_type": "code",
   "execution_count": 12,
   "metadata": {
    "ExecuteTime": {
     "end_time": "2023-04-13T04:17:02.865961Z",
     "start_time": "2023-04-13T04:17:02.815152Z"
    }
   },
   "outputs": [
    {
     "name": "stdout",
     "output_type": "stream",
     "text": [
      "from typing import List\n",
      "\n",
      "def bubble_sort(nums: List[int]) -> List[int]:\n",
      "    for i in range(len(nums)):\n",
      "        for j in range(len(nums) - i - 1):\n",
      "            if nums[j] > nums[j + 1]:\n",
      "                nums[j + 1], nums[j] = nums[j], nums[j + 1]\n",
      "    return nums\n"
     ]
    }
   ],
   "source": [
    "print(parse_completion(CodeCompletionCache.last_completion)['code'])"
   ]
  },
  {
   "cell_type": "code",
   "execution_count": 13,
   "metadata": {
    "ExecuteTime": {
     "end_time": "2023-04-13T04:17:03.269896Z",
     "start_time": "2023-04-13T04:17:03.228407Z"
    }
   },
   "outputs": [
    {
     "name": "stdout",
     "output_type": "stream",
     "text": [
      "\u001b[32mfrom typing import List\n",
      "\n",
      "def bubble_sort(nums: List[int]) -> List[int]:\n",
      "    for i in range(len(nums)):\n",
      "        for j in range(len(nums) - i - 1):\n",
      "            if nums[j] > nums[j + 1]:\n",
      "                nums[j + 1], nums[j] = nums[j], nums[j + 1]\n",
      "    return nums\u001b[0m\n"
     ]
    }
   ],
   "source": [
    "print(CodeCompletionCache.last_code_diff)"
   ]
  },
  {
   "cell_type": "markdown",
   "metadata": {},
   "source": [
    "## Errors"
   ]
  },
  {
   "cell_type": "code",
   "execution_count": 9,
   "metadata": {
    "ExecuteTime": {
     "end_time": "2023-04-15T04:47:49.187196Z",
     "start_time": "2023-04-15T04:47:49.121122Z"
    }
   },
   "outputs": [],
   "source": [
    "from roboduck import errors"
   ]
  },
  {
   "cell_type": "code",
   "execution_count": 25,
   "metadata": {
    "ExecuteTime": {
     "end_time": "2023-04-13T04:33:18.987211Z",
     "start_time": "2023-04-13T04:33:18.944848Z"
    }
   },
   "outputs": [],
   "source": [
    "def bubble_sort(nums):\n",
    "    for i in range(len(nums)):\n",
    "        for j in range(len(nums)):\n",
    "            if nums[j] > nums[j + 1]:\n",
    "                nums[j + 1], nums[j] = nums[j], nums[j + 1]\n",
    "    return nums"
   ]
  },
  {
   "cell_type": "code",
   "execution_count": 26,
   "metadata": {
    "ExecuteTime": {
     "end_time": "2023-04-13T04:33:21.857169Z",
     "start_time": "2023-04-13T04:33:20.866830Z"
    }
   },
   "outputs": [
    {
     "name": "stdout",
     "output_type": "stream",
     "text": [
      "Traceback (most recent call last):\n",
      "  File \"/Users/hmamin/anaconda3/envs/py38/lib/python3.8/site-packages/IPython/core/interactiveshell.py\", line 3441, in run_code\n",
      "    exec(code_obj, self.user_global_ns, self.user_ns)\n",
      "  File \"<ipython-input-26-9bb1c33833ca>\", line 1, in <module>\n",
      "    bubble_sort(nums)\n",
      "  File \"<ipython-input-25-3f12a9f434a7>\", line 4, in bubble_sort\n",
      "    if nums[j] > nums[j + 1]:\n",
      "IndexError: list index out of range\n",
      "\n",
      "Explain error message? [y/n]\n",
      "n\n"
     ]
    }
   ],
   "source": [
    "bubble_sort(nums)"
   ]
  },
  {
   "cell_type": "code",
   "execution_count": 27,
   "metadata": {
    "ExecuteTime": {
     "end_time": "2023-04-13T04:33:24.471545Z",
     "start_time": "2023-04-13T04:33:24.365294Z"
    }
   },
   "outputs": [],
   "source": [
    "errors.enable(chat_class=DummyChatModel)"
   ]
  },
  {
   "cell_type": "code",
   "execution_count": 28,
   "metadata": {
    "ExecuteTime": {
     "end_time": "2023-04-13T04:34:10.731567Z",
     "start_time": "2023-04-13T04:33:44.150515Z"
    }
   },
   "outputs": [
    {
     "name": "stdout",
     "output_type": "stream",
     "text": [
      "Traceback (most recent call last):\n",
      "  File \"/Users/hmamin/anaconda3/envs/py38/lib/python3.8/site-packages/IPython/core/interactiveshell.py\", line 3441, in run_code\n",
      "    exec(code_obj, self.user_global_ns, self.user_ns)\n",
      "  File \"<ipython-input-28-84875605ccea>\", line 1, in <module>\n",
      "    res = bubble_sort(nums)\n",
      "  File \"<ipython-input-25-3f12a9f434a7>\", line 4, in bubble_sort\n",
      "    if nums[j] > nums[j + 1]:\n",
      "IndexError: list index out of range\n",
      "\n",
      "Explain error message? [y/n]\n",
      "y\n",
      "chat: <roboduck.langchain.chat.DummyChatModel object at 0x7fc01de408e0>\n",
      "> <ipython-input-25-3f12a9f434a7>(4)bubble_sort()\n",
      "-> if nums[j] > nums[j + 1]:\n"
     ]
    },
    {
     "name": "stdout",
     "output_type": "stream",
     "text": [
      "\u001b[32m[Duck] \u001b[0m\u001b[32mT\u001b[0m\u001b[32mH\u001b[0m\u001b[32mI\u001b[0m\u001b[32mS\u001b[0m\u001b[32m \u001b[0m\u001b[32mC\u001b[0m\u001b[32mO\u001b[0m\u001b[32mD\u001b[0m\u001b[32mE\u001b[0m\u001b[32m \u001b[0m\u001b[32mS\u001b[0m\u001b[32mN\u001b[0m\u001b[32mI\u001b[0m\u001b[32mP\u001b[0m\u001b[32mP\u001b[0m\u001b[32mE\u001b[0m\u001b[32mT\u001b[0m\u001b[32m \u001b[0m\u001b[32mT\u001b[0m\u001b[32mH\u001b[0m\u001b[32mR\u001b[0m\u001b[32mO\u001b[0m\u001b[32mW\u001b[0m\u001b[32mS\u001b[0m\u001b[32m \u001b[0m\u001b[32mA\u001b[0m\u001b[32mN\u001b[0m\u001b[32m \u001b[0m\u001b[32mE\u001b[0m\u001b[32mR\u001b[0m\u001b[32mR\u001b[0m\u001b[32mO\u001b[0m\u001b[32mR\u001b[0m\u001b[32m.\u001b[0m\u001b[32m \u001b[0m\u001b[32mH\u001b[0m\u001b[32mE\u001b[0m\u001b[32mL\u001b[0m\u001b[32mP\u001b[0m\u001b[32m \u001b[0m\u001b[32mM\u001b[0m\u001b[32mE\u001b[0m\u001b[32m \u001b[0m\u001b[32mF\u001b[0m\u001b[32mI\u001b[0m\u001b[32mX\u001b[0m\u001b[32m \u001b[0m\u001b[32mI\u001b[0m\u001b[32mT\u001b[0m\u001b[32m.\u001b[0m\u001b[32m \u001b[0m\u001b[32mF\u001b[0m\u001b[32mI\u001b[0m\u001b[32mR\u001b[0m\u001b[32mS\u001b[0m\u001b[32mT\u001b[0m\u001b[32m \u001b[0m\u001b[32mE\u001b[0m\u001b[32mX\u001b[0m\u001b[32mA\u001b[0m\u001b[32mM\u001b[0m\u001b[32mI\u001b[0m\u001b[32mN\u001b[0m\u001b[32mE\u001b[0m\u001b[32m \u001b[0m\u001b[32mT\u001b[0m\u001b[32mH\u001b[0m\u001b[32mE\u001b[0m\u001b[32m \u001b[0m\u001b[32mS\u001b[0m\u001b[32mN\u001b[0m\u001b[32mI\u001b[0m\u001b[32mP\u001b[0m\u001b[32mP\u001b[0m\u001b[32mE\u001b[0m\u001b[32mT\u001b[0m\u001b[32m \u001b[0m\u001b[32mO\u001b[0m\u001b[32mF\u001b[0m\u001b[32m \u001b[0m\u001b[32mC\u001b[0m\u001b[32mO\u001b[0m\u001b[32mD\u001b[0m\u001b[32mE\u001b[0m\u001b[32m \u001b[0m\u001b[32mT\u001b[0m\u001b[32mH\u001b[0m\u001b[32mA\u001b[0m\u001b[32mT\u001b[0m\u001b[32m \u001b[0m\u001b[32mC\u001b[0m\u001b[32mA\u001b[0m\u001b[32mU\u001b[0m\u001b[32mS\u001b[0m\u001b[32mE\u001b[0m\u001b[32mS\u001b[0m\u001b[32m \u001b[0m\u001b[32mT\u001b[0m\u001b[32mH\u001b[0m\u001b[32mE\u001b[0m\u001b[32m \u001b[0m\u001b[32mI\u001b[0m\u001b[32mS\u001b[0m\u001b[32mS\u001b[0m\u001b[32mU\u001b[0m\u001b[32mE\u001b[0m\u001b[32m \u001b[0m\u001b[32mA\u001b[0m\u001b[32mN\u001b[0m\u001b[32mD\u001b[0m\u001b[32m \u001b[0m\u001b[32mL\u001b[0m\u001b[32mO\u001b[0m\u001b[32mO\u001b[0m\u001b[32mK\u001b[0m\u001b[32m \u001b[0m\u001b[32mA\u001b[0m\u001b[32mT\u001b[0m\u001b[32m \u001b[0m\u001b[32mT\u001b[0m\u001b[32mH\u001b[0m\u001b[32mE\u001b[0m\u001b[32m \u001b[0m\u001b[32mV\u001b[0m\u001b[32mA\u001b[0m\u001b[32mL\u001b[0m\u001b[32mU\u001b[0m\u001b[32mE\u001b[0m\u001b[32mS\u001b[0m\u001b[32m \u001b[0m\u001b[32mO\u001b[0m\u001b[32mF\u001b[0m\u001b[32m \u001b[0m\u001b[32mT\u001b[0m\u001b[32mH\u001b[0m\u001b[32mE\u001b[0m\u001b[32m \u001b[0m\u001b[32mL\u001b[0m\u001b[32mO\u001b[0m\u001b[32mC\u001b[0m\u001b[32mA\u001b[0m\u001b[32mL\u001b[0m\u001b[32m \u001b[0m\u001b[32mA\u001b[0m\u001b[32mN\u001b[0m\u001b[32mD\u001b[0m\u001b[32m \u001b[0m\u001b[32mG\u001b[0m\u001b[32mL\u001b[0m\u001b[32mO\u001b[0m\u001b[32mB\u001b[0m\u001b[32mA\u001b[0m\u001b[32mL\u001b[0m\u001b[32m \u001b[0m\u001b[32mV\u001b[0m\u001b[32mA\u001b[0m\u001b[32mR\u001b[0m\u001b[32mI\u001b[0m\u001b[32mA\u001b[0m\u001b[32mB\u001b[0m\u001b[32mL\u001b[0m\u001b[32mE\u001b[0m\u001b[32mS\u001b[0m\u001b[32m.\u001b[0m\u001b[32m \u001b[0m\u001b[32mT\u001b[0m\u001b[32mH\u001b[0m\u001b[32mE\u001b[0m\u001b[32mN\u001b[0m\u001b[32m \u001b[0m\u001b[32mP\u001b[0m\u001b[32mR\u001b[0m\u001b[32mO\u001b[0m\u001b[32mV\u001b[0m\u001b[32mI\u001b[0m\u001b[32mD\u001b[0m\u001b[32mE\u001b[0m\u001b[32m \u001b[0m\u001b[32mA\u001b[0m\u001b[32m \u001b[0m\u001b[32mR\u001b[0m\u001b[32mE\u001b[0m\u001b[32mS\u001b[0m\u001b[32mP\u001b[0m\u001b[32mO\u001b[0m\u001b[32mN\u001b[0m\u001b[32mS\u001b[0m\u001b[32mE\u001b[0m\u001b[32m \u001b[0m\u001b[32mW\u001b[0m\u001b[32mI\u001b[0m\u001b[32mT\u001b[0m\u001b[32mH\u001b[0m\u001b[32m \u001b[0m\u001b[32mE\u001b[0m\u001b[32mX\u001b[0m\u001b[32mA\u001b[0m\u001b[32mC\u001b[0m\u001b[32mT\u001b[0m\u001b[32mL\u001b[0m\u001b[32mY\u001b[0m\u001b[32m \u001b[0m\u001b[32mT\u001b[0m\u001b[32mW\u001b[0m\u001b[32mO\u001b[0m\u001b[32m \u001b[0m\u001b[32mS\u001b[0m\u001b[32mE\u001b[0m\u001b[32mC\u001b[0m\u001b[32mT\u001b[0m\u001b[32mI\u001b[0m\u001b[32mO\u001b[0m\u001b[32mN\u001b[0m\u001b[32mS\u001b[0m\u001b[32m,\u001b[0m\u001b[32m \u001b[0m\u001b[32mS\u001b[0m\u001b[32mE\u001b[0m\u001b[32mP\u001b[0m\u001b[32mA\u001b[0m\u001b[32mR\u001b[0m\u001b[32mA\u001b[0m\u001b[32mT\u001b[0m\u001b[32mE\u001b[0m\u001b[32mD\u001b[0m\u001b[32m \u001b[0m\u001b[32mB\u001b[0m\u001b[32mY\u001b[0m\u001b[32m \u001b[0m\u001b[32mA\u001b[0m\u001b[32mN\u001b[0m\u001b[32m \u001b[0m\u001b[32mE\u001b[0m\u001b[32mM\u001b[0m\u001b[32mP\u001b[0m\u001b[32mT\u001b[0m\u001b[32mY\u001b[0m\u001b[32m \u001b[0m\u001b[32mL\u001b[0m\u001b[32mI\u001b[0m\u001b[32mN\u001b[0m\u001b[32mE\u001b[0m\u001b[32m.\u001b[0m\u001b[32m \u001b[0m\u001b[32m(\u001b[0m\u001b[32mT\u001b[0m\u001b[32mH\u001b[0m\u001b[32mE\u001b[0m\u001b[32mY\u001b[0m\u001b[32m \u001b[0m\u001b[32mS\u001b[0m\u001b[32mH\u001b[0m\u001b[32mO\u001b[0m\u001b[32mU\u001b[0m\u001b[32mL\u001b[0m\u001b[32mD\u001b[0m\u001b[32m \u001b[0m\u001b[32mA\u001b[0m\u001b[32mP\u001b[0m\u001b[32mP\u001b[0m\u001b[32mE\u001b[0m\u001b[32mA\u001b[0m\u001b[32mR\u001b[0m\u001b[32m \u001b[0m\u001b[32mT\u001b[0m\u001b[32mO\u001b[0m\u001b[32m \u001b[0m\u001b[32mT\u001b[0m\u001b[32mH\u001b[0m\u001b[32mE\u001b[0m\u001b[32m \u001b[0m\u001b[32mU\u001b[0m\u001b[32mS\u001b[0m\u001b[32mE\u001b[0m\u001b[32mR\u001b[0m\u001b[32m \u001b[0m\u001b[32mA\u001b[0m\u001b[32mS\u001b[0m\u001b[32m \u001b[0m\u001b[32mA\u001b[0m\u001b[32m \u001b[0m\u001b[32mS\u001b[0m\u001b[32mI\u001b[0m\u001b[32mN\u001b[0m\u001b[32mG\u001b[0m\u001b[32mL\u001b[0m\u001b[32mE\u001b[0m\u001b[32m \u001b[0m\u001b[32mS\u001b[0m\u001b[32mE\u001b[0m\u001b[32mC\u001b[0m\u001b[32mT\u001b[0m\u001b[32mI\u001b[0m\u001b[32mO\u001b[0m\u001b[32mN\u001b[0m\u001b[32m,\u001b[0m\u001b[32m \u001b[0m\u001b[32mH\u001b[0m\u001b[32mO\u001b[0m\u001b[32mW\u001b[0m\u001b[32mE\u001b[0m\u001b[32mV\u001b[0m\u001b[32mE\u001b[0m\u001b[32mR\u001b[0m\u001b[32m \u001b[0m\u001b[32m-\u001b[0m\u001b[32m \u001b[0m\u001b[32mD\u001b[0m\u001b[32mO\u001b[0m\u001b[32m \u001b[0m\u001b[32mN\u001b[0m\u001b[32mO\u001b[0m\u001b[32mT\u001b[0m\u001b[32m \u001b[0m\u001b[32mI\u001b[0m\u001b[32mN\u001b[0m\u001b[32mC\u001b[0m\u001b[32mL\u001b[0m\u001b[32mU\u001b[0m\u001b[32mD\u001b[0m\u001b[32mE\u001b[0m\u001b[32m \u001b[0m\u001b[32mS\u001b[0m\u001b[32mE\u001b[0m\u001b[32mC\u001b[0m\u001b[32mT\u001b[0m\u001b[32mI\u001b[0m\u001b[32mO\u001b[0m\u001b[32mN\u001b[0m\u001b[32m \u001b[0m\u001b[32mT\u001b[0m\u001b[32mI\u001b[0m\u001b[32mT\u001b[0m\u001b[32mL\u001b[0m\u001b[32mE\u001b[0m\u001b[32mS\u001b[0m\u001b[32m \u001b[0m\u001b[32mO\u001b[0m\u001b[32mF\u001b[0m\u001b[32m \u001b[0m\u001b[32mA\u001b[0m\u001b[32mN\u001b[0m\u001b[32mY\u001b[0m\u001b[32m \u001b[0m\u001b[32mK\u001b[0m\u001b[32mI\u001b[0m\u001b[32mN\u001b[0m\u001b[32mD\u001b[0m\u001b[32m.\u001b[0m\u001b[32m)\u001b[0m\u001b[32m \u001b[0m\u001b[32mI\u001b[0m\u001b[32mN\u001b[0m\u001b[32m \u001b[0m\u001b[32mS\u001b[0m\u001b[32mE\u001b[0m\u001b[32mC\u001b[0m\u001b[32mT\u001b[0m\u001b[32mI\u001b[0m\u001b[32mO\u001b[0m\u001b[32mN\u001b[0m\u001b[32m \u001b[0m\u001b[32m1\u001b[0m\u001b[32m,\u001b[0m\u001b[32m \u001b[0m\u001b[32mU\u001b[0m\u001b[32mS\u001b[0m\u001b[32mE\u001b[0m\u001b[32m \u001b[0m\u001b[32mP\u001b[0m\u001b[32mL\u001b[0m\u001b[32mA\u001b[0m\u001b[32mI\u001b[0m\u001b[32mN\u001b[0m\u001b[32m \u001b[0m\u001b[32mE\u001b[0m\u001b[32mN\u001b[0m\u001b[32mG\u001b[0m\u001b[32mL\u001b[0m\u001b[32mI\u001b[0m\u001b[32mS\u001b[0m\u001b[32mH\u001b[0m\u001b[32m \u001b[0m\u001b[32mT\u001b[0m\u001b[32mO\u001b[0m\u001b[32m \u001b[0m\u001b[32mE\u001b[0m\u001b[32mX\u001b[0m\u001b[32mP\u001b[0m\u001b[32mL\u001b[0m\u001b[32mA\u001b[0m\u001b[32mI\u001b[0m\u001b[32mN\u001b[0m\u001b[32m \u001b[0m\u001b[32mW\u001b[0m\u001b[32mH\u001b[0m\u001b[32mA\u001b[0m\u001b[32mT\u001b[0m\u001b[32m \u001b[0m\u001b[32mT\u001b[0m\u001b[32mH\u001b[0m\u001b[32mE\u001b[0m\u001b[32m \u001b[0m\u001b[32mP\u001b[0m\u001b[32mR\u001b[0m\u001b[32mO\u001b[0m\u001b[32mB\u001b[0m\u001b[32mL\u001b[0m\u001b[32mE\u001b[0m\u001b[32mM\u001b[0m\u001b[32m \u001b[0m\u001b[32mI\u001b[0m\u001b[32mS\u001b[0m\u001b[32m \u001b[0m\u001b[32mA\u001b[0m\u001b[32mN\u001b[0m\u001b[32mD\u001b[0m\u001b[32m \u001b[0m\u001b[32mH\u001b[0m\u001b[32mO\u001b[0m\u001b[32mW\u001b[0m\u001b[32m \u001b[0m\u001b[32mT\u001b[0m\u001b[32mO\u001b[0m\u001b[32m \u001b[0m\u001b[32mF\u001b[0m\u001b[32mI\u001b[0m\u001b[32mX\u001b[0m\u001b[32m \u001b[0m\u001b[32mI\u001b[0m\u001b[32mT\u001b[0m\u001b[32m \u001b[0m\u001b[32m(\u001b[0m\u001b[32mI\u001b[0m\u001b[32mF\u001b[0m\u001b[32m \u001b[0m\u001b[32mY\u001b[0m\u001b[32mO\u001b[0m\u001b[32mU\u001b[0m\u001b[32m \u001b[0m\u001b[32mC\u001b[0m\u001b[32mA\u001b[0m\u001b[32mN\u001b[0m\u001b[32m'\u001b[0m\u001b[32mT\u001b[0m\u001b[32m \u001b[0m\u001b[32mI\u001b[0m\u001b[32mD\u001b[0m\u001b[32mE\u001b[0m\u001b[32mN\u001b[0m\u001b[32mT\u001b[0m\u001b[32mI\u001b[0m\u001b[32mF\u001b[0m\u001b[32mY\u001b[0m\u001b[32m \u001b[0m\u001b[32mT\u001b[0m\u001b[32mH\u001b[0m\u001b[32mE\u001b[0m\u001b[32m \u001b[0m\u001b[32mP\u001b[0m\u001b[32mR\u001b[0m\u001b[32mO\u001b[0m\u001b[32mB\u001b[0m\u001b[32mL\u001b[0m\u001b[32mE\u001b[0m\u001b[32mM\u001b[0m\u001b[32m,\u001b[0m\u001b[32m \u001b[0m\u001b[32mS\u001b[0m\u001b[32mE\u001b[0m\u001b[32mC\u001b[0m\u001b[32mT\u001b[0m\u001b[32mI\u001b[0m\u001b[32mO\u001b[0m\u001b[32mN\u001b[0m\u001b[32m \u001b[0m\u001b[32m1\u001b[0m\u001b[32m \u001b[0m\u001b[32mS\u001b[0m\u001b[32mH\u001b[0m\u001b[32mO\u001b[0m\u001b[32mU\u001b[0m\u001b[32mL\u001b[0m\u001b[32mD\u001b[0m\u001b[32m \u001b[0m\u001b[32mI\u001b[0m\u001b[32mN\u001b[0m\u001b[32mS\u001b[0m\u001b[32mT\u001b[0m\u001b[32mE\u001b[0m\u001b[32mA\u001b[0m\u001b[32mD\u001b[0m\u001b[32m \u001b[0m\u001b[32mL\u001b[0m\u001b[32mI\u001b[0m\u001b[32mS\u001b[0m\u001b[32mT\u001b[0m\u001b[32m \u001b[0m\u001b[32mA\u001b[0m\u001b[32m \u001b[0m\u001b[32mF\u001b[0m\u001b[32mE\u001b[0m\u001b[32mW\u001b[0m\u001b[32m \u001b[0m\u001b[32mP\u001b[0m\u001b[32mO\u001b[0m\u001b[32mS\u001b[0m\u001b[32mS\u001b[0m\u001b[32mI\u001b[0m\u001b[32mB\u001b[0m\u001b[32mL\u001b[0m\u001b[32mE\u001b[0m\u001b[32m \u001b[0m\u001b[32mC\u001b[0m\u001b[32mA\u001b[0m\u001b[32mU\u001b[0m\u001b[32mS\u001b[0m\u001b[32mE\u001b[0m\u001b[32mS\u001b[0m\u001b[32m \u001b[0m\u001b[32mO\u001b[0m\u001b[32mR\u001b[0m\u001b[32m \u001b[0m\u001b[32mT\u001b[0m\u001b[32mH\u001b[0m\u001b[32mI\u001b[0m\u001b[32mN\u001b[0m\u001b[32mG\u001b[0m\u001b[32mS\u001b[0m\u001b[32m \u001b[0m\u001b[32mI\u001b[0m\u001b[32m \u001b[0m\u001b[32mC\u001b[0m\u001b[32mO\u001b[0m\u001b[32mU\u001b[0m\u001b[32mL\u001b[0m\u001b[32mD\u001b[0m\u001b[32m \u001b[0m\u001b[32mT\u001b[0m\u001b[32mR\u001b[0m\u001b[32mY\u001b[0m\u001b[32m \u001b[0m\u001b[32mI\u001b[0m\u001b[32mN\u001b[0m\u001b[32m \u001b[0m\u001b[32mO\u001b[0m\u001b[32mR\u001b[0m\u001b[32mD\u001b[0m\u001b[32mE\u001b[0m\u001b[32mR\u001b[0m\u001b[32m \u001b[0m\u001b[32mT\u001b[0m\u001b[32mO\u001b[0m\u001b[32m \u001b[0m\u001b[32mI\u001b[0m\u001b[32mD\u001b[0m\u001b[32mE\u001b[0m\u001b[32mN\u001b[0m\u001b[32mT\u001b[0m\u001b[32mI\u001b[0m\u001b[32mF\u001b[0m\u001b[32mY\u001b[0m\u001b[32m \u001b[0m\u001b[32mT\u001b[0m\u001b[32mH\u001b[0m\u001b[32mE\u001b[0m\u001b[32m \u001b[0m\u001b[32mI\u001b[0m\u001b[32mS\u001b[0m\u001b[32mS\u001b[0m\u001b[32mU\u001b[0m\u001b[32mE\u001b[0m\u001b[32m)\u001b[0m\u001b[32m.\u001b[0m\u001b[32m \u001b[0m\u001b[32mI\u001b[0m\u001b[32mN\u001b[0m\u001b[32m \u001b[0m\u001b[32mS\u001b[0m\u001b[32mE\u001b[0m\u001b[32mC\u001b[0m\u001b[32mT\u001b[0m\u001b[32mI\u001b[0m\u001b[32mO\u001b[0m\u001b[32mN\u001b[0m\u001b[32m \u001b[0m\u001b[32m2\u001b[0m\u001b[32m,\u001b[0m\u001b[32m \u001b[0m\u001b[32mW\u001b[0m\u001b[32mR\u001b[0m\u001b[32mI\u001b[0m\u001b[32mT\u001b[0m\u001b[32mE\u001b[0m\u001b[32m \u001b[0m\u001b[32mA\u001b[0m\u001b[32m \u001b[0m\u001b[32mC\u001b[0m\u001b[32mO\u001b[0m\u001b[32mR\u001b[0m\u001b[32mR\u001b[0m\u001b[32mE\u001b[0m\u001b[32mC\u001b[0m\u001b[32mT\u001b[0m\u001b[32mE\u001b[0m\u001b[32mD\u001b[0m\u001b[32m \u001b[0m\u001b[32mV\u001b[0m\u001b[32mE\u001b[0m\u001b[32mR\u001b[0m\u001b[32mS\u001b[0m\u001b[32mI\u001b[0m\u001b[32mO\u001b[0m\u001b[32mN\u001b[0m\u001b[32m \u001b[0m\u001b[32mO\u001b[0m\u001b[32mF\u001b[0m\u001b[32m \u001b[0m\u001b[32mT\u001b[0m\u001b[32mH\u001b[0m\u001b[32mE\u001b[0m\u001b[32m \u001b[0m\u001b[32mI\u001b[0m\u001b[32mN\u001b[0m\u001b[32mP\u001b[0m\u001b[32mU\u001b[0m\u001b[32mT\u001b[0m\u001b[32m \u001b[0m\u001b[32mC\u001b[0m\u001b[32mO\u001b[0m\u001b[32mD\u001b[0m\u001b[32mE\u001b[0m\u001b[32m \u001b[0m\u001b[32mS\u001b[0m\u001b[32mN\u001b[0m\u001b[32mI\u001b[0m\u001b[32mP\u001b[0m\u001b[32mP\u001b[0m\u001b[32mE\u001b[0m\u001b[32mT\u001b[0m\u001b[32m \u001b[0m\u001b[32m(\u001b[0m\u001b[32mI\u001b[0m\u001b[32mF\u001b[0m\u001b[32m \u001b[0m\u001b[32mY\u001b[0m\u001b[32mO\u001b[0m\u001b[32mU\u001b[0m\u001b[32m \u001b[0m\u001b[32mD\u001b[0m\u001b[32mO\u001b[0m\u001b[32mN\u001b[0m\u001b[32m'\u001b[0m\u001b[32mT\u001b[0m\u001b[32m \u001b[0m\u001b[32mK\u001b[0m\u001b[32mN\u001b[0m\u001b[32mO\u001b[0m\u001b[32mW\u001b[0m\u001b[32m,\u001b[0m\u001b[32m \u001b[0m\u001b[32mS\u001b[0m\u001b[32mE\u001b[0m\u001b[32mC\u001b[0m\u001b[32mT\u001b[0m\u001b[32mI\u001b[0m\u001b[32mO\u001b[0m\u001b[32mN\u001b[0m\u001b[32m \u001b[0m\u001b[32m2\u001b[0m\u001b[32m \u001b[0m\u001b[32mS\u001b[0m\u001b[32mH\u001b[0m\u001b[32mO\u001b[0m\u001b[32mU\u001b[0m\u001b[32mL\u001b[0m\u001b[32mD\u001b[0m\u001b[32m \u001b[0m\u001b[32mB\u001b[0m\u001b[32mE\u001b[0m\u001b[32m \u001b[0m\u001b[32mE\u001b[0m\u001b[32mM\u001b[0m\u001b[32mP\u001b[0m\u001b[32mT\u001b[0m\u001b[32mY\u001b[0m\u001b[32m)\u001b[0m\u001b[32m.\u001b[0m\u001b[32m \u001b[0m\u001b[32mS\u001b[0m\u001b[32mE\u001b[0m\u001b[32mC\u001b[0m\u001b[32mT\u001b[0m\u001b[32mI\u001b[0m\u001b[32mO\u001b[0m\u001b[32mN\u001b[0m\u001b[32m \u001b[0m\u001b[32m2\u001b[0m\u001b[32m \u001b[0m\u001b[32mM\u001b[0m\u001b[32mU\u001b[0m\u001b[32mS\u001b[0m\u001b[32mT\u001b[0m\u001b[32m \u001b[0m\u001b[32mC\u001b[0m\u001b[32mO\u001b[0m\u001b[32mN\u001b[0m\u001b[32mT\u001b[0m\u001b[32mA\u001b[0m\u001b[32mI\u001b[0m\u001b[32mN\u001b[0m\u001b[32m \u001b[0m\u001b[32mO\u001b[0m\u001b[32mN\u001b[0m\u001b[32mL\u001b[0m\u001b[32mY\u001b[0m\u001b[32m \u001b[0m\u001b[32mP\u001b[0m\u001b[32mY\u001b[0m\u001b[32mT\u001b[0m\u001b[32mH\u001b[0m\u001b[32mO\u001b[0m\u001b[32mN\u001b[0m\u001b[32m \u001b[0m\u001b[32mC\u001b[0m\u001b[32mO\u001b[0m\u001b[32mD\u001b[0m\u001b[32mE\u001b[0m\u001b[32m \u001b[0m\u001b[32m-\u001b[0m\u001b[32m \u001b[0m\u001b[32mT\u001b[0m\u001b[32mH\u001b[0m\u001b[32mE\u001b[0m\u001b[32mR\u001b[0m\u001b[32mE\u001b[0m\u001b[32m \u001b[0m\u001b[32mM\u001b[0m\u001b[32mU\u001b[0m\u001b[32mS\u001b[0m\u001b[32mT\u001b[0m\u001b[32m \u001b[0m\u001b[32mN\u001b[0m\u001b[32mO\u001b[0m\u001b[32mT\u001b[0m\u001b[32m \u001b[0m\u001b[32mB\u001b[0m\u001b[32mE\u001b[0m\u001b[32m \u001b[0m\u001b[32mA\u001b[0m\u001b[32mN\u001b[0m\u001b[32mY\u001b[0m\u001b[32m \u001b[0m\u001b[32mE\u001b[0m\u001b[32mN\u001b[0m\u001b[32mG\u001b[0m\u001b[32mL\u001b[0m\u001b[32mI\u001b[0m\u001b[32mS\u001b[0m\u001b[32mH\u001b[0m\u001b[32m \u001b[0m\u001b[32mE\u001b[0m\u001b[32mX\u001b[0m\u001b[32mP\u001b[0m\u001b[32mL\u001b[0m\u001b[32mA\u001b[0m\u001b[32mN\u001b[0m\u001b[32mA\u001b[0m\u001b[32mT\u001b[0m\u001b[32mI\u001b[0m\u001b[32mO\u001b[0m\u001b[32mN\u001b[0m\u001b[32m \u001b[0m\u001b[32mO\u001b[0m\u001b[32mU\u001b[0m\u001b[32mT\u001b[0m\u001b[32mS\u001b[0m\u001b[32mI\u001b[0m\u001b[32mD\u001b[0m\u001b[32mE\u001b[0m\u001b[32m \u001b[0m\u001b[32mO\u001b[0m\u001b[32mF\u001b[0m\u001b[32m \u001b[0m\u001b[32mC\u001b[0m\u001b[32mO\u001b[0m\u001b[32mD\u001b[0m\u001b[32mE\u001b[0m\u001b[32m \u001b[0m\u001b[32mC\u001b[0m\u001b[32mO\u001b[0m\u001b[32mM\u001b[0m\u001b[32mM\u001b[0m\u001b[32mE\u001b[0m\u001b[32mN\u001b[0m\u001b[32mT\u001b[0m\u001b[32mS\u001b[0m\u001b[32m \u001b[0m\u001b[32mO\u001b[0m\u001b[32mR\u001b[0m\u001b[32m \u001b[0m\u001b[32mD\u001b[0m\u001b[32mO\u001b[0m\u001b[32mC\u001b[0m\u001b[32mS\u001b[0m\u001b[32mT\u001b[0m\u001b[32mR\u001b[0m\u001b[32mI\u001b[0m\u001b[32mN\u001b[0m\u001b[32mG\u001b[0m\u001b[32mS\u001b[0m\u001b[32m.\u001b[0m\u001b[32m \u001b[0m\u001b[32mS\u001b[0m\u001b[32mE\u001b[0m\u001b[32mC\u001b[0m\u001b[32mT\u001b[0m\u001b[32mI\u001b[0m\u001b[32mO\u001b[0m\u001b[32mN\u001b[0m\u001b[32m \u001b[0m\u001b[32m2\u001b[0m\u001b[32m \u001b[0m\u001b[32mM\u001b[0m\u001b[32mU\u001b[0m\u001b[32mS\u001b[0m\u001b[32mT\u001b[0m\u001b[32m \u001b[0m\u001b[32mB\u001b[0m\u001b[32mE\u001b[0m\u001b[32m \u001b[0m\u001b[32mE\u001b[0m\u001b[32mN\u001b[0m\u001b[32mT\u001b[0m\u001b[32mI\u001b[0m\u001b[32mR\u001b[0m\u001b[32mE\u001b[0m\u001b[32mL\u001b[0m\u001b[32mY\u001b[0m\u001b[32m \u001b[0m\u001b[32mE\u001b[0m\u001b[32mN\u001b[0m\u001b[32mC\u001b[0m\u001b[32mL\u001b[0m\u001b[32mO\u001b[0m\u001b[32mS\u001b[0m\u001b[32mE\u001b[0m\u001b[32mD\u001b[0m\u001b[32m \u001b[0m\u001b[32mI\u001b[0m\u001b[32mN\u001b[0m\u001b[32m \u001b[0m\u001b[32mO\u001b[0m\u001b[32mN\u001b[0m\u001b[32mE\u001b[0m\u001b[32m \u001b[0m\u001b[32mP\u001b[0m\u001b[32mA\u001b[0m\u001b[32mI\u001b[0m\u001b[32mR\u001b[0m\u001b[32m \u001b[0m\u001b[32mO\u001b[0m\u001b[32mF\u001b[0m\u001b[32m \u001b[0m\u001b[32mT\u001b[0m\u001b[32mR\u001b[0m\u001b[32mI\u001b[0m\u001b[32mP\u001b[0m\u001b[32mL\u001b[0m\u001b[32mE\u001b[0m\u001b[32m \u001b[0m\u001b[32mB\u001b[0m\u001b[32mA\u001b[0m\u001b[32mC\u001b[0m\u001b[32mK\u001b[0m\u001b[32mT\u001b[0m\u001b[32mI\u001b[0m\u001b[32mC\u001b[0m\u001b[32mK\u001b[0m\u001b[32mS\u001b[0m\u001b[32m \u001b[0m\u001b[32m(\u001b[0m\u001b[32m\"\u001b[0m\u001b[32m`\u001b[0m\u001b[32m`\u001b[0m\u001b[32m`\u001b[0m\u001b[32m\"\u001b[0m\u001b[32m)\u001b[0m\u001b[32m.\u001b[0m\u001b[32m\n",
      "\u001b[0m\u001b[32m\n",
      "\u001b[0m\u001b[32mC\u001b[0m\u001b[32mU\u001b[0m\u001b[32mR\u001b[0m\u001b[32mR\u001b[0m\u001b[32mE\u001b[0m\u001b[32mN\u001b[0m\u001b[32mT\u001b[0m\u001b[32m \u001b[0m\u001b[32mC\u001b[0m\u001b[32mO\u001b[0m\u001b[32mD\u001b[0m\u001b[32mE\u001b[0m\u001b[32m \u001b[0m\u001b[32mS\u001b[0m\u001b[32mN\u001b[0m\u001b[32mI\u001b[0m\u001b[32mP\u001b[0m\u001b[32mP\u001b[0m\u001b[32mE\u001b[0m\u001b[32mT\u001b[0m\u001b[32m:\u001b[0m\u001b[32m\n",
      "\u001b[0m\u001b[32mD\u001b[0m\u001b[32mE\u001b[0m\u001b[32mF\u001b[0m\u001b[32m \u001b[0m\u001b[32mB\u001b[0m\u001b[32mU\u001b[0m\u001b[32mB\u001b[0m\u001b[32mB\u001b[0m\u001b[32mL\u001b[0m\u001b[32mE\u001b[0m\u001b[32m_\u001b[0m\u001b[32mS\u001b[0m\u001b[32mO\u001b[0m\u001b[32mR\u001b[0m\u001b[32mT\u001b[0m\u001b[32m(\u001b[0m\u001b[32mN\u001b[0m\u001b[32mU\u001b[0m\u001b[32mM\u001b[0m\u001b[32mS\u001b[0m\u001b[32m)\u001b[0m\u001b[32m:\u001b[0m\u001b[32m\n",
      "\u001b[0m\u001b[32m \u001b[0m\u001b[32m \u001b[0m\u001b[32m \u001b[0m\u001b[32m \u001b[0m\u001b[32mF\u001b[0m\u001b[32mO\u001b[0m\u001b[32mR\u001b[0m\u001b[32m \u001b[0m\u001b[32mI\u001b[0m\u001b[32m \u001b[0m\u001b[32mI\u001b[0m\u001b[32mN\u001b[0m\u001b[32m \u001b[0m\u001b[32mR\u001b[0m\u001b[32mA\u001b[0m\u001b[32mN\u001b[0m\u001b[32mG\u001b[0m\u001b[32mE\u001b[0m\u001b[32m(\u001b[0m\u001b[32mL\u001b[0m\u001b[32mE\u001b[0m\u001b[32mN\u001b[0m\u001b[32m(\u001b[0m\u001b[32mN\u001b[0m\u001b[32mU\u001b[0m\u001b[32mM\u001b[0m\u001b[32mS\u001b[0m\u001b[32m)\u001b[0m\u001b[32m)\u001b[0m\u001b[32m:\u001b[0m\u001b[32m\n",
      "\u001b[0m\u001b[32m \u001b[0m\u001b[32m \u001b[0m\u001b[32m \u001b[0m\u001b[32m \u001b[0m\u001b[32m \u001b[0m\u001b[32m \u001b[0m\u001b[32m \u001b[0m\u001b[32m \u001b[0m\u001b[32mF\u001b[0m\u001b[32mO\u001b[0m\u001b[32mR\u001b[0m\u001b[32m \u001b[0m\u001b[32mJ\u001b[0m\u001b[32m \u001b[0m\u001b[32mI\u001b[0m\u001b[32mN\u001b[0m\u001b[32m \u001b[0m\u001b[32mR\u001b[0m\u001b[32mA\u001b[0m\u001b[32mN\u001b[0m\u001b[32mG\u001b[0m\u001b[32mE\u001b[0m\u001b[32m(\u001b[0m\u001b[32mL\u001b[0m\u001b[32mE\u001b[0m\u001b[32mN\u001b[0m\u001b[32m(\u001b[0m\u001b[32mN\u001b[0m\u001b[32mU\u001b[0m\u001b[32mM\u001b[0m\u001b[32mS\u001b[0m\u001b[32m)\u001b[0m\u001b[32m)\u001b[0m\u001b[32m:\u001b[0m\u001b[32m\n",
      "\u001b[0m\u001b[32m \u001b[0m\u001b[32m \u001b[0m\u001b[32m \u001b[0m\u001b[32m \u001b[0m\u001b[32m \u001b[0m\u001b[32m \u001b[0m\u001b[32m \u001b[0m\u001b[32m \u001b[0m\u001b[32m \u001b[0m\u001b[32m \u001b[0m\u001b[32m \u001b[0m\u001b[32m \u001b[0m\u001b[32mI\u001b[0m\u001b[32mF\u001b[0m\u001b[32m \u001b[0m\u001b[32mN\u001b[0m\u001b[32mU\u001b[0m\u001b[32mM\u001b[0m\u001b[32mS\u001b[0m\u001b[32m[\u001b[0m\u001b[32mJ\u001b[0m\u001b[32m]\u001b[0m\u001b[32m \u001b[0m\u001b[32m>\u001b[0m\u001b[32m \u001b[0m\u001b[32mN\u001b[0m\u001b[32mU\u001b[0m\u001b[32mM\u001b[0m\u001b[32mS\u001b[0m\u001b[32m[\u001b[0m\u001b[32mJ\u001b[0m\u001b[32m \u001b[0m\u001b[32m+\u001b[0m\u001b[32m \u001b[0m\u001b[32m1\u001b[0m\u001b[32m]\u001b[0m\u001b[32m:\u001b[0m\u001b[32m\n",
      "\u001b[0m\u001b[32m \u001b[0m\u001b[32m \u001b[0m\u001b[32m \u001b[0m\u001b[32m \u001b[0m\u001b[32m \u001b[0m\u001b[32m \u001b[0m\u001b[32m \u001b[0m\u001b[32m \u001b[0m\u001b[32m \u001b[0m\u001b[32m \u001b[0m\u001b[32m \u001b[0m\u001b[32m \u001b[0m\u001b[32m \u001b[0m\u001b[32m \u001b[0m\u001b[32m \u001b[0m\u001b[32m \u001b[0m\u001b[32mN\u001b[0m\u001b[32mU\u001b[0m\u001b[32mM\u001b[0m\u001b[32mS\u001b[0m\u001b[32m[\u001b[0m\u001b[32mJ\u001b[0m\u001b[32m \u001b[0m\u001b[32m+\u001b[0m\u001b[32m \u001b[0m\u001b[32m1\u001b[0m\u001b[32m]\u001b[0m\u001b[32m,\u001b[0m\u001b[32m \u001b[0m\u001b[32mN\u001b[0m\u001b[32mU\u001b[0m\u001b[32mM\u001b[0m\u001b[32mS\u001b[0m\u001b[32m[\u001b[0m\u001b[32mJ\u001b[0m\u001b[32m]\u001b[0m\u001b[32m \u001b[0m\u001b[32m=\u001b[0m\u001b[32m \u001b[0m\u001b[32mN\u001b[0m\u001b[32mU\u001b[0m\u001b[32mM\u001b[0m\u001b[32mS\u001b[0m\u001b[32m[\u001b[0m\u001b[32mJ\u001b[0m\u001b[32m]\u001b[0m\u001b[32m,\u001b[0m\u001b[32m \u001b[0m\u001b[32mN\u001b[0m\u001b[32mU\u001b[0m\u001b[32mM\u001b[0m\u001b[32mS\u001b[0m\u001b[32m[\u001b[0m\u001b[32mJ\u001b[0m\u001b[32m \u001b[0m\u001b[32m+\u001b[0m\u001b[32m \u001b[0m\u001b[32m1\u001b[0m\u001b[32m]\u001b[0m\u001b[32m\n",
      "\u001b[0m\u001b[32m \u001b[0m\u001b[32m \u001b[0m\u001b[32m \u001b[0m\u001b[32m \u001b[0m\u001b[32mR\u001b[0m\u001b[32mE\u001b[0m\u001b[32mT\u001b[0m\u001b[32mU\u001b[0m\u001b[32mR\u001b[0m\u001b[32mN\u001b[0m\u001b[32m \u001b[0m\u001b[32mN\u001b[0m\u001b[32mU\u001b[0m\u001b[32mM\u001b[0m\u001b[32mS\u001b[0m\u001b[32m\n",
      "\u001b[0m\u001b[32m\n",
      "\u001b[0m\u001b[32mS\u001b[0m\u001b[32mT\u001b[0m\u001b[32mA\u001b[0m\u001b[32mC\u001b[0m\u001b[32mK\u001b[0m\u001b[32m \u001b[0m\u001b[32mT\u001b[0m\u001b[32mR\u001b[0m\u001b[32mA\u001b[0m\u001b[32mC\u001b[0m\u001b[32mE\u001b[0m\u001b[32m:\u001b[0m\u001b[32m\n",
      "\u001b[0m\u001b[32mT\u001b[0m\u001b[32mR\u001b[0m\u001b[32mA\u001b[0m\u001b[32mC\u001b[0m\u001b[32mE\u001b[0m\u001b[32mB\u001b[0m\u001b[32mA\u001b[0m\u001b[32mC\u001b[0m\u001b[32mK\u001b[0m\u001b[32m \u001b[0m\u001b[32m(\u001b[0m\u001b[32mM\u001b[0m\u001b[32mO\u001b[0m\u001b[32mS\u001b[0m\u001b[32mT\u001b[0m\u001b[32m \u001b[0m\u001b[32mR\u001b[0m\u001b[32mE\u001b[0m\u001b[32mC\u001b[0m\u001b[32mE\u001b[0m\u001b[32mN\u001b[0m\u001b[32mT\u001b[0m\u001b[32m \u001b[0m\u001b[32mC\u001b[0m\u001b[32mA\u001b[0m\u001b[32mL\u001b[0m\u001b[32mL\u001b[0m\u001b[32m \u001b[0m\u001b[32mL\u001b[0m\u001b[32mA\u001b[0m\u001b[32mS\u001b[0m\u001b[32mT\u001b[0m\u001b[32m)\u001b[0m\u001b[32m:\u001b[0m\u001b[32m\n",
      "\u001b[0m\u001b[32m \u001b[0m\u001b[32m \u001b[0m\u001b[32mF\u001b[0m\u001b[32mI\u001b[0m\u001b[32mL\u001b[0m\u001b[32mE\u001b[0m\u001b[32m \u001b[0m\u001b[32m\"\u001b[0m\u001b[32m/\u001b[0m\u001b[32mU\u001b[0m\u001b[32mS\u001b[0m\u001b[32mE\u001b[0m\u001b[32mR\u001b[0m\u001b[32mS\u001b[0m\u001b[32m/\u001b[0m\u001b[32mH\u001b[0m\u001b[32mM\u001b[0m\u001b[32mA\u001b[0m\u001b[32mM\u001b[0m\u001b[32mI\u001b[0m\u001b[32mN\u001b[0m\u001b[32m/\u001b[0m\u001b[32mA\u001b[0m\u001b[32mN\u001b[0m\u001b[32mA\u001b[0m\u001b[32mC\u001b[0m\u001b[32mO\u001b[0m\u001b[32mN\u001b[0m\u001b[32mD\u001b[0m\u001b[32mA\u001b[0m\u001b[32m3\u001b[0m\u001b[32m/\u001b[0m\u001b[32mE\u001b[0m\u001b[32mN\u001b[0m\u001b[32mV\u001b[0m\u001b[32mS\u001b[0m\u001b[32m/\u001b[0m\u001b[32mP\u001b[0m\u001b[32mY\u001b[0m\u001b[32m3\u001b[0m\u001b[32m8\u001b[0m\u001b[32m/\u001b[0m\u001b[32mL\u001b[0m\u001b[32mI\u001b[0m\u001b[32mB\u001b[0m\u001b[32m/\u001b[0m\u001b[32mP\u001b[0m\u001b[32mY\u001b[0m\u001b[32mT\u001b[0m\u001b[32mH\u001b[0m\u001b[32mO\u001b[0m\u001b[32mN\u001b[0m\u001b[32m3\u001b[0m\u001b[32m.\u001b[0m\u001b[32m8\u001b[0m\u001b[32m/\u001b[0m\u001b[32mS\u001b[0m\u001b[32mI\u001b[0m\u001b[32mT\u001b[0m\u001b[32mE\u001b[0m\u001b[32m-\u001b[0m\u001b[32mP\u001b[0m\u001b[32mA\u001b[0m\u001b[32mC\u001b[0m\u001b[32mK\u001b[0m\u001b[32mA\u001b[0m\u001b[32mG\u001b[0m\u001b[32mE\u001b[0m\u001b[32mS\u001b[0m\u001b[32m/\u001b[0m\u001b[32mI\u001b[0m\u001b[32mP\u001b[0m\u001b[32mY\u001b[0m\u001b[32mT\u001b[0m\u001b[32mH\u001b[0m\u001b[32mO\u001b[0m\u001b[32mN\u001b[0m\u001b[32m/\u001b[0m\u001b[32mC\u001b[0m\u001b[32mO\u001b[0m\u001b[32mR\u001b[0m\u001b[32mE\u001b[0m\u001b[32m/\u001b[0m\u001b[32mI\u001b[0m\u001b[32mN\u001b[0m\u001b[32mT\u001b[0m\u001b[32mE\u001b[0m\u001b[32mR\u001b[0m\u001b[32mA\u001b[0m\u001b[32mC\u001b[0m\u001b[32mT\u001b[0m\u001b[32mI\u001b[0m\u001b[32mV\u001b[0m\u001b[32mE\u001b[0m\u001b[32mS\u001b[0m\u001b[32mH\u001b[0m\u001b[32mE\u001b[0m\u001b[32mL\u001b[0m\u001b[32mL\u001b[0m\u001b[32m.\u001b[0m\u001b[32mP\u001b[0m\u001b[32mY\u001b[0m\u001b[32m\"\u001b[0m\u001b[32m,\u001b[0m\u001b[32m \u001b[0m\u001b[32mL\u001b[0m\u001b[32mI\u001b[0m\u001b[32mN\u001b[0m\u001b[32mE\u001b[0m\u001b[32m \u001b[0m\u001b[32m3\u001b[0m\u001b[32m4\u001b[0m\u001b[32m4\u001b[0m\u001b[32m1\u001b[0m\u001b[32m,\u001b[0m\u001b[32m \u001b[0m\u001b[32mI\u001b[0m\u001b[32mN\u001b[0m\u001b[32m \u001b[0m\u001b[32mR\u001b[0m\u001b[32mU\u001b[0m\u001b[32mN\u001b[0m\u001b[32m_\u001b[0m\u001b[32mC\u001b[0m\u001b[32mO\u001b[0m\u001b[32mD\u001b[0m\u001b[32mE\u001b[0m\u001b[32m\n",
      "\u001b[0m\u001b[32m \u001b[0m\u001b[32m \u001b[0m\u001b[32m \u001b[0m\u001b[32m \u001b[0m\u001b[32mE\u001b[0m\u001b[32mX\u001b[0m\u001b[32mE\u001b[0m\u001b[32mC\u001b[0m\u001b[32m(\u001b[0m\u001b[32mC\u001b[0m\u001b[32mO\u001b[0m\u001b[32mD\u001b[0m\u001b[32mE\u001b[0m\u001b[32m_\u001b[0m\u001b[32mO\u001b[0m\u001b[32mB\u001b[0m\u001b[32mJ\u001b[0m\u001b[32m,\u001b[0m\u001b[32m \u001b[0m\u001b[32mS\u001b[0m\u001b[32mE\u001b[0m\u001b[32mL\u001b[0m\u001b[32mF\u001b[0m\u001b[32m.\u001b[0m\u001b[32mU\u001b[0m\u001b[32mS\u001b[0m\u001b[32mE\u001b[0m\u001b[32mR\u001b[0m\u001b[32m_\u001b[0m\u001b[32mG\u001b[0m\u001b[32mL\u001b[0m\u001b[32mO\u001b[0m\u001b[32mB\u001b[0m\u001b[32mA\u001b[0m\u001b[32mL\u001b[0m\u001b[32m_\u001b[0m\u001b[32mN\u001b[0m\u001b[32mS\u001b[0m\u001b[32m,\u001b[0m\u001b[32m \u001b[0m\u001b[32mS\u001b[0m\u001b[32mE\u001b[0m\u001b[32mL\u001b[0m\u001b[32mF\u001b[0m\u001b[32m.\u001b[0m\u001b[32mU\u001b[0m\u001b[32mS\u001b[0m\u001b[32mE\u001b[0m\u001b[32mR\u001b[0m\u001b[32m_\u001b[0m\u001b[32mN\u001b[0m\u001b[32mS\u001b[0m\u001b[32m)\u001b[0m\u001b[32m\n",
      "\u001b[0m\u001b[32m \u001b[0m\u001b[32m \u001b[0m\u001b[32mF\u001b[0m\u001b[32mI\u001b[0m\u001b[32mL\u001b[0m\u001b[32mE\u001b[0m\u001b[32m \u001b[0m\u001b[32m\"\u001b[0m\u001b[32m<\u001b[0m\u001b[32mI\u001b[0m\u001b[32mP\u001b[0m\u001b[32mY\u001b[0m\u001b[32mT\u001b[0m\u001b[32mH\u001b[0m\u001b[32mO\u001b[0m\u001b[32mN\u001b[0m\u001b[32m-\u001b[0m\u001b[32mI\u001b[0m\u001b[32mN\u001b[0m\u001b[32mP\u001b[0m\u001b[32mU\u001b[0m\u001b[32mT\u001b[0m\u001b[32m-\u001b[0m\u001b[32m2\u001b[0m\u001b[32m8\u001b[0m\u001b[32m-\u001b[0m\u001b[32m8\u001b[0m\u001b[32m4\u001b[0m\u001b[32m8\u001b[0m\u001b[32m7\u001b[0m\u001b[32m5\u001b[0m\u001b[32m6\u001b[0m\u001b[32m0\u001b[0m\u001b[32m5\u001b[0m\u001b[32mC\u001b[0m\u001b[32mC\u001b[0m\u001b[32mE\u001b[0m\u001b[32mA\u001b[0m\u001b[32m>\u001b[0m\u001b[32m\"\u001b[0m\u001b[32m,\u001b[0m\u001b[32m \u001b[0m\u001b[32mL\u001b[0m\u001b[32mI\u001b[0m\u001b[32mN\u001b[0m\u001b[32mE\u001b[0m\u001b[32m \u001b[0m\u001b[32m1\u001b[0m\u001b[32m,\u001b[0m\u001b[32m \u001b[0m\u001b[32mI\u001b[0m\u001b[32mN\u001b[0m\u001b[32m \u001b[0m\u001b[32m<\u001b[0m\u001b[32mM\u001b[0m\u001b[32mO\u001b[0m\u001b[32mD\u001b[0m\u001b[32mU\u001b[0m\u001b[32mL\u001b[0m\u001b[32mE\u001b[0m\u001b[32m>\u001b[0m\u001b[32m\n",
      "\u001b[0m\u001b[32m \u001b[0m\u001b[32m \u001b[0m\u001b[32m \u001b[0m\u001b[32m \u001b[0m\u001b[32mR\u001b[0m\u001b[32mE\u001b[0m\u001b[32mS\u001b[0m\u001b[32m \u001b[0m\u001b[32m=\u001b[0m\u001b[32m \u001b[0m\u001b[32mB\u001b[0m\u001b[32mU\u001b[0m\u001b[32mB\u001b[0m\u001b[32mB\u001b[0m\u001b[32mL\u001b[0m\u001b[32mE\u001b[0m\u001b[32m_\u001b[0m\u001b[32mS\u001b[0m\u001b[32mO\u001b[0m\u001b[32mR\u001b[0m\u001b[32mT\u001b[0m\u001b[32m(\u001b[0m\u001b[32mN\u001b[0m\u001b[32mU\u001b[0m\u001b[32mM\u001b[0m\u001b[32mS\u001b[0m\u001b[32m)\u001b[0m\u001b[32m\n",
      "\u001b[0m\u001b[32m \u001b[0m\u001b[32m \u001b[0m\u001b[32mF\u001b[0m\u001b[32mI\u001b[0m\u001b[32mL\u001b[0m\u001b[32mE\u001b[0m\u001b[32m \u001b[0m\u001b[32m\"\u001b[0m\u001b[32m<\u001b[0m\u001b[32mI\u001b[0m\u001b[32mP\u001b[0m\u001b[32mY\u001b[0m\u001b[32mT\u001b[0m\u001b[32mH\u001b[0m\u001b[32mO\u001b[0m\u001b[32mN\u001b[0m\u001b[32m-\u001b[0m\u001b[32mI\u001b[0m\u001b[32mN\u001b[0m\u001b[32mP\u001b[0m\u001b[32mU\u001b[0m\u001b[32mT\u001b[0m\u001b[32m-\u001b[0m\u001b[32m2\u001b[0m\u001b[32m5\u001b[0m\u001b[32m-\u001b[0m\u001b[32m3\u001b[0m\u001b[32mF\u001b[0m\u001b[32m1\u001b[0m\u001b[32m2\u001b[0m\u001b[32mA\u001b[0m\u001b[32m9\u001b[0m\u001b[32mF\u001b[0m\u001b[32m4\u001b[0m\u001b[32m3\u001b[0m\u001b[32m4\u001b[0m\u001b[32mA\u001b[0m\u001b[32m7\u001b[0m\u001b[32m>\u001b[0m\u001b[32m\"\u001b[0m\u001b[32m,\u001b[0m\u001b[32m \u001b[0m\u001b[32mL\u001b[0m\u001b[32mI\u001b[0m\u001b[32mN\u001b[0m\u001b[32mE\u001b[0m\u001b[32m \u001b[0m\u001b[32m4\u001b[0m\u001b[32m,\u001b[0m\u001b[32m \u001b[0m\u001b[32mI\u001b[0m\u001b[32mN\u001b[0m\u001b[32m \u001b[0m\u001b[32mB\u001b[0m\u001b[32mU\u001b[0m\u001b[32mB\u001b[0m\u001b[32mB\u001b[0m\u001b[32mL\u001b[0m\u001b[32mE\u001b[0m\u001b[32m_\u001b[0m\u001b[32mS\u001b[0m\u001b[32mO\u001b[0m\u001b[32mR\u001b[0m\u001b[32mT\u001b[0m\u001b[32m\n",
      "\u001b[0m\u001b[32m \u001b[0m\u001b[32m \u001b[0m\u001b[32m \u001b[0m\u001b[32m \u001b[0m\u001b[32mI\u001b[0m\u001b[32mF\u001b[0m\u001b[32m \u001b[0m\u001b[32mN\u001b[0m\u001b[32mU\u001b[0m\u001b[32mM\u001b[0m\u001b[32mS\u001b[0m\u001b[32m[\u001b[0m\u001b[32mJ\u001b[0m\u001b[32m]\u001b[0m\u001b[32m \u001b[0m\u001b[32m>\u001b[0m\u001b[32m \u001b[0m\u001b[32mN\u001b[0m\u001b[32mU\u001b[0m\u001b[32mM\u001b[0m\u001b[32mS\u001b[0m\u001b[32m[\u001b[0m\u001b[32mJ\u001b[0m\u001b[32m \u001b[0m\u001b[32m+\u001b[0m\u001b[32m \u001b[0m\u001b[32m1\u001b[0m\u001b[32m]\u001b[0m\u001b[32m:\u001b[0m\u001b[32m\n",
      "\u001b[0m\u001b[32mI\u001b[0m\u001b[32mN\u001b[0m\u001b[32mD\u001b[0m\u001b[32mE\u001b[0m\u001b[32mX\u001b[0m\u001b[32mE\u001b[0m\u001b[32mR\u001b[0m\u001b[32mR\u001b[0m\u001b[32mO\u001b[0m\u001b[32mR\u001b[0m\u001b[32m:\u001b[0m\u001b[32m \u001b[0m\u001b[32mL\u001b[0m\u001b[32mI\u001b[0m\u001b[32mS\u001b[0m\u001b[32mT\u001b[0m\u001b[32m \u001b[0m\u001b[32mI\u001b[0m\u001b[32mN\u001b[0m\u001b[32mD\u001b[0m\u001b[32mE\u001b[0m\u001b[32mX\u001b[0m\u001b[32m \u001b[0m\u001b[32mO\u001b[0m\u001b[32mU\u001b[0m\u001b[32mT\u001b[0m\u001b[32m \u001b[0m\u001b[32mO\u001b[0m\u001b[32mF\u001b[0m\u001b[32m \u001b[0m\u001b[32mR\u001b[0m\u001b[32mA\u001b[0m\u001b[32mN\u001b[0m\u001b[32mG\u001b[0m\u001b[32mE\u001b[0m\u001b[32m\n",
      "\u001b[0m\u001b[32m\n",
      "\u001b[0m\u001b[32m\n",
      "\u001b[0m\u001b[32mN\u001b[0m\u001b[32mE\u001b[0m\u001b[32mX\u001b[0m\u001b[32mT\u001b[0m\u001b[32m \u001b[0m\u001b[32mL\u001b[0m\u001b[32mI\u001b[0m\u001b[32mN\u001b[0m\u001b[32mE\u001b[0m\u001b[32m:\u001b[0m\u001b[32m\n",
      "\u001b[0m\u001b[32m \u001b[0m\u001b[32m \u001b[0m\u001b[32m \u001b[0m\u001b[32m \u001b[0m\u001b[32m \u001b[0m\u001b[32m \u001b[0m\u001b[32m \u001b[0m\u001b[32m \u001b[0m\u001b[32m \u001b[0m\u001b[32m \u001b[0m\u001b[32m \u001b[0m\u001b[32m \u001b[0m\u001b[32mI\u001b[0m\u001b[32mF\u001b[0m\u001b[32m \u001b[0m\u001b[32mN\u001b[0m\u001b[32mU\u001b[0m\u001b[32mM\u001b[0m\u001b[32mS\u001b[0m\u001b[32m[\u001b[0m\u001b[32mJ\u001b[0m\u001b[32m]\u001b[0m\u001b[32m \u001b[0m\u001b[32m>\u001b[0m\u001b[32m \u001b[0m\u001b[32mN\u001b[0m\u001b[32mU\u001b[0m\u001b[32mM\u001b[0m\u001b[32mS\u001b[0m\u001b[32m[\u001b[0m\u001b[32mJ\u001b[0m\u001b[32m \u001b[0m\u001b[32m+\u001b[0m\u001b[32m \u001b[0m\u001b[32m1\u001b[0m\u001b[32m]\u001b[0m\u001b[32m:\u001b[0m\u001b[32m\n",
      "\u001b[0m\u001b[32m\n",
      "\u001b[0m\u001b[32mL\u001b[0m\u001b[32mO\u001b[0m\u001b[32mC\u001b[0m\u001b[32mA\u001b[0m\u001b[32mL\u001b[0m\u001b[32m \u001b[0m\u001b[32mV\u001b[0m\u001b[32mA\u001b[0m\u001b[32mR\u001b[0m\u001b[32mI\u001b[0m\u001b[32mA\u001b[0m\u001b[32mB\u001b[0m\u001b[32mL\u001b[0m\u001b[32mE\u001b[0m\u001b[32mS\u001b[0m\u001b[32m:\u001b[0m\u001b[32m\n",
      "\u001b[0m\u001b[32m{\u001b[0m\u001b[32m\n"
     ]
    },
    {
     "name": "stdout",
     "output_type": "stream",
     "text": [
      "\u001b[0m\u001b[32m \u001b[0m\u001b[32m \u001b[0m\u001b[32m \u001b[0m\u001b[32m \u001b[0m\u001b[32m'\u001b[0m\u001b[32mN\u001b[0m\u001b[32mU\u001b[0m\u001b[32mM\u001b[0m\u001b[32mS\u001b[0m\u001b[32m'\u001b[0m\u001b[32m:\u001b[0m\u001b[32m \u001b[0m\u001b[32m[\u001b[0m\u001b[32m1\u001b[0m\u001b[32m,\u001b[0m\u001b[32m \u001b[0m\u001b[32m3\u001b[0m\u001b[32m,\u001b[0m\u001b[32m \u001b[0m\u001b[32m4\u001b[0m\u001b[32m,\u001b[0m\u001b[32m \u001b[0m\u001b[32m-\u001b[0m\u001b[32m1\u001b[0m\u001b[32m0\u001b[0m\u001b[32m0\u001b[0m\u001b[32m,\u001b[0m\u001b[32m \u001b[0m\u001b[32m5\u001b[0m\u001b[32m,\u001b[0m\u001b[32m \u001b[0m\u001b[32m5\u001b[0m\u001b[32m,\u001b[0m\u001b[32m \u001b[0m\u001b[32m5\u001b[0m\u001b[32m,\u001b[0m\u001b[32m \u001b[0m\u001b[32m9\u001b[0m\u001b[32m,\u001b[0m\u001b[32m \u001b[0m\u001b[32m2\u001b[0m\u001b[32m2\u001b[0m\u001b[32m,\u001b[0m\u001b[32m \u001b[0m\u001b[32m3\u001b[0m\u001b[32m3\u001b[0m\u001b[32m]\u001b[0m\u001b[32m,\u001b[0m\u001b[32m \u001b[0m\u001b[32m \u001b[0m\u001b[32m \u001b[0m\u001b[32m#\u001b[0m\u001b[32m \u001b[0m\u001b[32mT\u001b[0m\u001b[32mY\u001b[0m\u001b[32mP\u001b[0m\u001b[32mE\u001b[0m\u001b[32m:\u001b[0m\u001b[32m \u001b[0m\u001b[32mL\u001b[0m\u001b[32mI\u001b[0m\u001b[32mS\u001b[0m\u001b[32mT\u001b[0m\u001b[32m\n",
      "\u001b[0m\u001b[32m \u001b[0m\u001b[32m \u001b[0m\u001b[32m \u001b[0m\u001b[32m \u001b[0m\u001b[32m'\u001b[0m\u001b[32mI\u001b[0m\u001b[32m'\u001b[0m\u001b[32m:\u001b[0m\u001b[32m \u001b[0m\u001b[32m0\u001b[0m\u001b[32m,\u001b[0m\u001b[32m \u001b[0m\u001b[32m \u001b[0m\u001b[32m \u001b[0m\u001b[32m#\u001b[0m\u001b[32m \u001b[0m\u001b[32mT\u001b[0m\u001b[32mY\u001b[0m\u001b[32mP\u001b[0m\u001b[32mE\u001b[0m\u001b[32m:\u001b[0m\u001b[32m \u001b[0m\u001b[32mI\u001b[0m\u001b[32mN\u001b[0m\u001b[32mT\u001b[0m\u001b[32m\n",
      "\u001b[0m\u001b[32m \u001b[0m\u001b[32m \u001b[0m\u001b[32m \u001b[0m\u001b[32m \u001b[0m\u001b[32m'\u001b[0m\u001b[32mJ\u001b[0m\u001b[32m'\u001b[0m\u001b[32m:\u001b[0m\u001b[32m \u001b[0m\u001b[32m9\u001b[0m\u001b[32m,\u001b[0m\u001b[32m \u001b[0m\u001b[32m \u001b[0m\u001b[32m \u001b[0m\u001b[32m#\u001b[0m\u001b[32m \u001b[0m\u001b[32mT\u001b[0m\u001b[32mY\u001b[0m\u001b[32mP\u001b[0m\u001b[32mE\u001b[0m\u001b[32m:\u001b[0m\u001b[32m \u001b[0m\u001b[32mI\u001b[0m\u001b[32mN\u001b[0m\u001b[32mT\u001b[0m\u001b[32m\n",
      "\u001b[0m\u001b[32m}\u001b[0m\u001b[32m\n",
      "\u001b[0m\u001b[32m\n",
      "\u001b[0m\u001b[32mG\u001b[0m\u001b[32mL\u001b[0m\u001b[32mO\u001b[0m\u001b[32mB\u001b[0m\u001b[32mA\u001b[0m\u001b[32mL\u001b[0m\u001b[32m \u001b[0m\u001b[32mV\u001b[0m\u001b[32mA\u001b[0m\u001b[32mR\u001b[0m\u001b[32mI\u001b[0m\u001b[32mA\u001b[0m\u001b[32mB\u001b[0m\u001b[32mL\u001b[0m\u001b[32mE\u001b[0m\u001b[32mS\u001b[0m\u001b[32m:\u001b[0m\u001b[32m\n",
      "\u001b[0m\u001b[32m{\u001b[0m\u001b[32m\n",
      "\u001b[0m\u001b[32m \u001b[0m\u001b[32m \u001b[0m\u001b[32m \u001b[0m\u001b[32m \u001b[0m\u001b[32m'\u001b[0m\u001b[32mN\u001b[0m\u001b[32mU\u001b[0m\u001b[32mM\u001b[0m\u001b[32mS\u001b[0m\u001b[32m'\u001b[0m\u001b[32m:\u001b[0m\u001b[32m \u001b[0m\u001b[32m[\u001b[0m\u001b[32m1\u001b[0m\u001b[32m,\u001b[0m\u001b[32m \u001b[0m\u001b[32m3\u001b[0m\u001b[32m,\u001b[0m\u001b[32m \u001b[0m\u001b[32m4\u001b[0m\u001b[32m,\u001b[0m\u001b[32m \u001b[0m\u001b[32m-\u001b[0m\u001b[32m1\u001b[0m\u001b[32m0\u001b[0m\u001b[32m0\u001b[0m\u001b[32m,\u001b[0m\u001b[32m \u001b[0m\u001b[32m5\u001b[0m\u001b[32m,\u001b[0m\u001b[32m \u001b[0m\u001b[32m5\u001b[0m\u001b[32m,\u001b[0m\u001b[32m \u001b[0m\u001b[32m5\u001b[0m\u001b[32m,\u001b[0m\u001b[32m \u001b[0m\u001b[32m9\u001b[0m\u001b[32m,\u001b[0m\u001b[32m \u001b[0m\u001b[32m2\u001b[0m\u001b[32m2\u001b[0m\u001b[32m,\u001b[0m\u001b[32m \u001b[0m\u001b[32m3\u001b[0m\u001b[32m3\u001b[0m\u001b[32m]\u001b[0m\u001b[32m,\u001b[0m\u001b[32m \u001b[0m\u001b[32m \u001b[0m\u001b[32m \u001b[0m\u001b[32m#\u001b[0m\u001b[32m \u001b[0m\u001b[32mT\u001b[0m\u001b[32mY\u001b[0m\u001b[32mP\u001b[0m\u001b[32mE\u001b[0m\u001b[32m:\u001b[0m\u001b[32m \u001b[0m\u001b[32mL\u001b[0m\u001b[32mI\u001b[0m\u001b[32mS\u001b[0m\u001b[32mT\u001b[0m\u001b[32m\n",
      "\u001b[0m\u001b[32m}\u001b[0m"
     ]
    }
   ],
   "source": [
    "# Not totally obvious but this does not finish executing. The fact that it\n",
    "# doesn't finish is intended, but it should be obvious that that's the case.\n",
    "res = bubble_sort(nums)\n",
    "print('after code')"
   ]
  },
  {
   "cell_type": "code",
   "execution_count": 29,
   "metadata": {
    "ExecuteTime": {
     "end_time": "2023-04-13T04:34:29.564406Z",
     "start_time": "2023-04-13T04:34:26.023785Z"
    }
   },
   "outputs": [
    {
     "name": "stdout",
     "output_type": "stream",
     "text": [
      "Traceback (most recent call last):\n",
      "  File \"/Users/hmamin/anaconda3/envs/py38/lib/python3.8/site-packages/IPython/core/interactiveshell.py\", line 3441, in run_code\n",
      "    exec(code_obj, self.user_global_ns, self.user_ns)\n",
      "  File \"<ipython-input-29-c08785e04264>\", line 1, in <module>\n",
      "    res\n",
      "NameError: name 'res' is not defined\n",
      "\n",
      "Explain error message? [y/n]\n",
      "n\n"
     ]
    }
   ],
   "source": [
    "res"
   ]
  },
  {
   "cell_type": "code",
   "execution_count": 30,
   "metadata": {
    "ExecuteTime": {
     "end_time": "2023-04-13T04:35:34.029135Z",
     "start_time": "2023-04-13T04:35:33.966413Z"
    }
   },
   "outputs": [
    {
     "name": "stdout",
     "output_type": "stream",
     "text": [
      "In except\n",
      "list index out of range\n"
     ]
    }
   ],
   "source": [
    "# Excepthook does not execute if we catch it.\n",
    "try:\n",
    "    res = bubble_sort(nums)\n",
    "except Exception as e:\n",
    "    print('In except')\n",
    "    print(e)"
   ]
  },
  {
   "cell_type": "code",
   "execution_count": 31,
   "metadata": {
    "ExecuteTime": {
     "end_time": "2023-04-13T04:35:58.315413Z",
     "start_time": "2023-04-13T04:35:58.247042Z"
    }
   },
   "outputs": [],
   "source": [
    "errors.enable(auto=True, chat_class=DummyChatModel)"
   ]
  },
  {
   "cell_type": "code",
   "execution_count": 32,
   "metadata": {
    "ExecuteTime": {
     "end_time": "2023-04-13T04:36:31.616049Z",
     "start_time": "2023-04-13T04:36:06.855335Z"
    }
   },
   "outputs": [
    {
     "name": "stdout",
     "output_type": "stream",
     "text": [
      "Traceback (most recent call last):\n",
      "  File \"/Users/hmamin/anaconda3/envs/py38/lib/python3.8/site-packages/IPython/core/interactiveshell.py\", line 3441, in run_code\n",
      "    exec(code_obj, self.user_global_ns, self.user_ns)\n",
      "  File \"<ipython-input-32-0b73b9fcb66d>\", line 1, in <module>\n",
      "    res = bubble_sort(nums)\n",
      "  File \"<ipython-input-25-3f12a9f434a7>\", line 4, in bubble_sort\n",
      "    if nums[j] > nums[j + 1]:\n",
      "IndexError: list index out of range\n",
      "\n",
      "chat: <roboduck.langchain.chat.DummyChatModel object at 0x7fc01c9d4b80>\n",
      "> <ipython-input-25-3f12a9f434a7>(4)bubble_sort()\n",
      "-> if nums[j] > nums[j + 1]:\n"
     ]
    },
    {
     "name": "stdout",
     "output_type": "stream",
     "text": [
      "\u001b[32m[Duck] \u001b[0m\u001b[32mT\u001b[0m\u001b[32mH\u001b[0m\u001b[32mI\u001b[0m\u001b[32mS\u001b[0m\u001b[32m \u001b[0m\u001b[32mC\u001b[0m\u001b[32mO\u001b[0m\u001b[32mD\u001b[0m\u001b[32mE\u001b[0m\u001b[32m \u001b[0m\u001b[32mS\u001b[0m\u001b[32mN\u001b[0m\u001b[32mI\u001b[0m\u001b[32mP\u001b[0m\u001b[32mP\u001b[0m\u001b[32mE\u001b[0m\u001b[32mT\u001b[0m\u001b[32m \u001b[0m\u001b[32mT\u001b[0m\u001b[32mH\u001b[0m\u001b[32mR\u001b[0m\u001b[32mO\u001b[0m\u001b[32mW\u001b[0m\u001b[32mS\u001b[0m\u001b[32m \u001b[0m\u001b[32mA\u001b[0m\u001b[32mN\u001b[0m\u001b[32m \u001b[0m\u001b[32mE\u001b[0m\u001b[32mR\u001b[0m\u001b[32mR\u001b[0m\u001b[32mO\u001b[0m\u001b[32mR\u001b[0m\u001b[32m.\u001b[0m\u001b[32m \u001b[0m\u001b[32mH\u001b[0m\u001b[32mE\u001b[0m\u001b[32mL\u001b[0m\u001b[32mP\u001b[0m\u001b[32m \u001b[0m\u001b[32mM\u001b[0m\u001b[32mE\u001b[0m\u001b[32m \u001b[0m\u001b[32mF\u001b[0m\u001b[32mI\u001b[0m\u001b[32mX\u001b[0m\u001b[32m \u001b[0m\u001b[32mI\u001b[0m\u001b[32mT\u001b[0m\u001b[32m.\u001b[0m\u001b[32m \u001b[0m\u001b[32mF\u001b[0m\u001b[32mI\u001b[0m\u001b[32mR\u001b[0m\u001b[32mS\u001b[0m\u001b[32mT\u001b[0m\u001b[32m \u001b[0m\u001b[32mE\u001b[0m\u001b[32mX\u001b[0m\u001b[32mA\u001b[0m\u001b[32mM\u001b[0m\u001b[32mI\u001b[0m\u001b[32mN\u001b[0m\u001b[32mE\u001b[0m\u001b[32m \u001b[0m\u001b[32mT\u001b[0m\u001b[32mH\u001b[0m\u001b[32mE\u001b[0m\u001b[32m \u001b[0m\u001b[32mS\u001b[0m\u001b[32mN\u001b[0m\u001b[32mI\u001b[0m\u001b[32mP\u001b[0m\u001b[32mP\u001b[0m\u001b[32mE\u001b[0m\u001b[32mT\u001b[0m\u001b[32m \u001b[0m\u001b[32mO\u001b[0m\u001b[32mF\u001b[0m\u001b[32m \u001b[0m\u001b[32mC\u001b[0m\u001b[32mO\u001b[0m\u001b[32mD\u001b[0m\u001b[32mE\u001b[0m\u001b[32m \u001b[0m\u001b[32mT\u001b[0m\u001b[32mH\u001b[0m\u001b[32mA\u001b[0m\u001b[32mT\u001b[0m\u001b[32m \u001b[0m\u001b[32mC\u001b[0m\u001b[32mA\u001b[0m\u001b[32mU\u001b[0m\u001b[32mS\u001b[0m\u001b[32mE\u001b[0m\u001b[32mS\u001b[0m\u001b[32m \u001b[0m\u001b[32mT\u001b[0m\u001b[32mH\u001b[0m\u001b[32mE\u001b[0m\u001b[32m \u001b[0m\u001b[32mI\u001b[0m\u001b[32mS\u001b[0m\u001b[32mS\u001b[0m\u001b[32mU\u001b[0m\u001b[32mE\u001b[0m\u001b[32m \u001b[0m\u001b[32mA\u001b[0m\u001b[32mN\u001b[0m\u001b[32mD\u001b[0m\u001b[32m \u001b[0m\u001b[32mL\u001b[0m\u001b[32mO\u001b[0m\u001b[32mO\u001b[0m\u001b[32mK\u001b[0m\u001b[32m \u001b[0m\u001b[32mA\u001b[0m\u001b[32mT\u001b[0m\u001b[32m \u001b[0m\u001b[32mT\u001b[0m\u001b[32mH\u001b[0m\u001b[32mE\u001b[0m\u001b[32m \u001b[0m\u001b[32mV\u001b[0m\u001b[32mA\u001b[0m\u001b[32mL\u001b[0m\u001b[32mU\u001b[0m\u001b[32mE\u001b[0m\u001b[32mS\u001b[0m\u001b[32m \u001b[0m\u001b[32mO\u001b[0m\u001b[32mF\u001b[0m\u001b[32m \u001b[0m\u001b[32mT\u001b[0m\u001b[32mH\u001b[0m\u001b[32mE\u001b[0m\u001b[32m \u001b[0m\u001b[32mL\u001b[0m\u001b[32mO\u001b[0m\u001b[32mC\u001b[0m\u001b[32mA\u001b[0m\u001b[32mL\u001b[0m\u001b[32m \u001b[0m\u001b[32mA\u001b[0m\u001b[32mN\u001b[0m\u001b[32mD\u001b[0m\u001b[32m \u001b[0m\u001b[32mG\u001b[0m\u001b[32mL\u001b[0m\u001b[32mO\u001b[0m\u001b[32mB\u001b[0m\u001b[32mA\u001b[0m\u001b[32mL\u001b[0m\u001b[32m \u001b[0m\u001b[32mV\u001b[0m\u001b[32mA\u001b[0m\u001b[32mR\u001b[0m\u001b[32mI\u001b[0m\u001b[32mA\u001b[0m\u001b[32mB\u001b[0m\u001b[32mL\u001b[0m\u001b[32mE\u001b[0m\u001b[32mS\u001b[0m\u001b[32m.\u001b[0m\u001b[32m \u001b[0m\u001b[32mT\u001b[0m\u001b[32mH\u001b[0m\u001b[32mE\u001b[0m\u001b[32mN\u001b[0m\u001b[32m \u001b[0m\u001b[32mP\u001b[0m\u001b[32mR\u001b[0m\u001b[32mO\u001b[0m\u001b[32mV\u001b[0m\u001b[32mI\u001b[0m\u001b[32mD\u001b[0m\u001b[32mE\u001b[0m\u001b[32m \u001b[0m\u001b[32mA\u001b[0m\u001b[32m \u001b[0m\u001b[32mR\u001b[0m\u001b[32mE\u001b[0m\u001b[32mS\u001b[0m\u001b[32mP\u001b[0m\u001b[32mO\u001b[0m\u001b[32mN\u001b[0m\u001b[32mS\u001b[0m\u001b[32mE\u001b[0m\u001b[32m \u001b[0m\u001b[32mW\u001b[0m\u001b[32mI\u001b[0m\u001b[32mT\u001b[0m\u001b[32mH\u001b[0m\u001b[32m \u001b[0m\u001b[32mE\u001b[0m\u001b[32mX\u001b[0m\u001b[32mA\u001b[0m\u001b[32mC\u001b[0m\u001b[32mT\u001b[0m\u001b[32mL\u001b[0m\u001b[32mY\u001b[0m\u001b[32m \u001b[0m\u001b[32mT\u001b[0m\u001b[32mW\u001b[0m\u001b[32mO\u001b[0m\u001b[32m \u001b[0m\u001b[32mS\u001b[0m\u001b[32mE\u001b[0m\u001b[32mC\u001b[0m\u001b[32mT\u001b[0m\u001b[32mI\u001b[0m\u001b[32mO\u001b[0m\u001b[32mN\u001b[0m\u001b[32mS\u001b[0m\u001b[32m,\u001b[0m\u001b[32m \u001b[0m\u001b[32mS\u001b[0m\u001b[32mE\u001b[0m\u001b[32mP\u001b[0m\u001b[32mA\u001b[0m\u001b[32mR\u001b[0m\u001b[32mA\u001b[0m\u001b[32mT\u001b[0m\u001b[32mE\u001b[0m\u001b[32mD\u001b[0m\u001b[32m \u001b[0m\u001b[32mB\u001b[0m\u001b[32mY\u001b[0m\u001b[32m \u001b[0m\u001b[32mA\u001b[0m\u001b[32mN\u001b[0m\u001b[32m \u001b[0m\u001b[32mE\u001b[0m\u001b[32mM\u001b[0m\u001b[32mP\u001b[0m\u001b[32mT\u001b[0m\u001b[32mY\u001b[0m\u001b[32m \u001b[0m\u001b[32mL\u001b[0m\u001b[32mI\u001b[0m\u001b[32mN\u001b[0m\u001b[32mE\u001b[0m\u001b[32m.\u001b[0m\u001b[32m \u001b[0m\u001b[32m(\u001b[0m\u001b[32mT\u001b[0m\u001b[32mH\u001b[0m\u001b[32mE\u001b[0m\u001b[32mY\u001b[0m\u001b[32m \u001b[0m\u001b[32mS\u001b[0m\u001b[32mH\u001b[0m\u001b[32mO\u001b[0m\u001b[32mU\u001b[0m\u001b[32mL\u001b[0m\u001b[32mD\u001b[0m\u001b[32m \u001b[0m\u001b[32mA\u001b[0m\u001b[32mP\u001b[0m\u001b[32mP\u001b[0m\u001b[32mE\u001b[0m\u001b[32mA\u001b[0m\u001b[32mR\u001b[0m\u001b[32m \u001b[0m\u001b[32mT\u001b[0m\u001b[32mO\u001b[0m\u001b[32m \u001b[0m\u001b[32mT\u001b[0m\u001b[32mH\u001b[0m\u001b[32mE\u001b[0m\u001b[32m \u001b[0m\u001b[32mU\u001b[0m\u001b[32mS\u001b[0m\u001b[32mE\u001b[0m\u001b[32mR\u001b[0m\u001b[32m \u001b[0m\u001b[32mA\u001b[0m\u001b[32mS\u001b[0m\u001b[32m \u001b[0m\u001b[32mA\u001b[0m\u001b[32m \u001b[0m\u001b[32mS\u001b[0m\u001b[32mI\u001b[0m\u001b[32mN\u001b[0m\u001b[32mG\u001b[0m\u001b[32mL\u001b[0m\u001b[32mE\u001b[0m\u001b[32m \u001b[0m\u001b[32mS\u001b[0m\u001b[32mE\u001b[0m\u001b[32mC\u001b[0m\u001b[32mT\u001b[0m\u001b[32mI\u001b[0m\u001b[32mO\u001b[0m\u001b[32mN\u001b[0m\u001b[32m,\u001b[0m\u001b[32m \u001b[0m\u001b[32mH\u001b[0m\u001b[32mO\u001b[0m\u001b[32mW\u001b[0m\u001b[32mE\u001b[0m\u001b[32mV\u001b[0m\u001b[32mE\u001b[0m\u001b[32mR\u001b[0m\u001b[32m \u001b[0m\u001b[32m-\u001b[0m\u001b[32m \u001b[0m\u001b[32mD\u001b[0m\u001b[32mO\u001b[0m\u001b[32m \u001b[0m\u001b[32mN\u001b[0m\u001b[32mO\u001b[0m\u001b[32mT\u001b[0m\u001b[32m \u001b[0m\u001b[32mI\u001b[0m\u001b[32mN\u001b[0m\u001b[32mC\u001b[0m\u001b[32mL\u001b[0m\u001b[32mU\u001b[0m\u001b[32mD\u001b[0m\u001b[32mE\u001b[0m\u001b[32m \u001b[0m\u001b[32mS\u001b[0m\u001b[32mE\u001b[0m\u001b[32mC\u001b[0m\u001b[32mT\u001b[0m\u001b[32mI\u001b[0m\u001b[32mO\u001b[0m\u001b[32mN\u001b[0m\u001b[32m \u001b[0m\u001b[32mT\u001b[0m\u001b[32mI\u001b[0m\u001b[32mT\u001b[0m\u001b[32mL\u001b[0m\u001b[32mE\u001b[0m\u001b[32mS\u001b[0m\u001b[32m \u001b[0m\u001b[32mO\u001b[0m\u001b[32mF\u001b[0m\u001b[32m \u001b[0m\u001b[32mA\u001b[0m\u001b[32mN\u001b[0m\u001b[32mY\u001b[0m\u001b[32m \u001b[0m\u001b[32mK\u001b[0m\u001b[32mI\u001b[0m\u001b[32mN\u001b[0m\u001b[32mD\u001b[0m\u001b[32m.\u001b[0m\u001b[32m)\u001b[0m\u001b[32m \u001b[0m\u001b[32mI\u001b[0m\u001b[32mN\u001b[0m\u001b[32m \u001b[0m\u001b[32mS\u001b[0m\u001b[32mE\u001b[0m\u001b[32mC\u001b[0m\u001b[32mT\u001b[0m\u001b[32mI\u001b[0m\u001b[32mO\u001b[0m\u001b[32mN\u001b[0m\u001b[32m \u001b[0m\u001b[32m1\u001b[0m\u001b[32m,\u001b[0m\u001b[32m \u001b[0m\u001b[32mU\u001b[0m\u001b[32mS\u001b[0m\u001b[32mE\u001b[0m\u001b[32m \u001b[0m\u001b[32mP\u001b[0m\u001b[32mL\u001b[0m\u001b[32mA\u001b[0m\u001b[32mI\u001b[0m\u001b[32mN\u001b[0m\u001b[32m \u001b[0m\u001b[32mE\u001b[0m\u001b[32mN\u001b[0m\u001b[32mG\u001b[0m\u001b[32mL\u001b[0m\u001b[32mI\u001b[0m\u001b[32mS\u001b[0m\u001b[32mH\u001b[0m\u001b[32m \u001b[0m\u001b[32mT\u001b[0m\u001b[32mO\u001b[0m\u001b[32m \u001b[0m\u001b[32mE\u001b[0m\u001b[32mX\u001b[0m\u001b[32mP\u001b[0m\u001b[32mL\u001b[0m\u001b[32mA\u001b[0m\u001b[32mI\u001b[0m\u001b[32mN\u001b[0m\u001b[32m \u001b[0m\u001b[32mW\u001b[0m\u001b[32mH\u001b[0m\u001b[32mA\u001b[0m\u001b[32mT\u001b[0m\u001b[32m \u001b[0m\u001b[32mT\u001b[0m\u001b[32mH\u001b[0m\u001b[32mE\u001b[0m\u001b[32m \u001b[0m\u001b[32mP\u001b[0m\u001b[32mR\u001b[0m\u001b[32mO\u001b[0m\u001b[32mB\u001b[0m\u001b[32mL\u001b[0m\u001b[32mE\u001b[0m\u001b[32mM\u001b[0m\u001b[32m \u001b[0m\u001b[32mI\u001b[0m\u001b[32mS\u001b[0m\u001b[32m \u001b[0m\u001b[32mA\u001b[0m\u001b[32mN\u001b[0m\u001b[32mD\u001b[0m\u001b[32m \u001b[0m\u001b[32mH\u001b[0m\u001b[32mO\u001b[0m\u001b[32mW\u001b[0m\u001b[32m \u001b[0m\u001b[32mT\u001b[0m\u001b[32mO\u001b[0m\u001b[32m \u001b[0m\u001b[32mF\u001b[0m\u001b[32mI\u001b[0m\u001b[32mX\u001b[0m\u001b[32m \u001b[0m\u001b[32mI\u001b[0m\u001b[32mT\u001b[0m\u001b[32m \u001b[0m\u001b[32m(\u001b[0m\u001b[32mI\u001b[0m\u001b[32mF\u001b[0m\u001b[32m \u001b[0m\u001b[32mY\u001b[0m\u001b[32mO\u001b[0m\u001b[32mU\u001b[0m\u001b[32m \u001b[0m\u001b[32mC\u001b[0m\u001b[32mA\u001b[0m\u001b[32mN\u001b[0m\u001b[32m'\u001b[0m\u001b[32mT\u001b[0m\u001b[32m \u001b[0m\u001b[32mI\u001b[0m\u001b[32mD\u001b[0m\u001b[32mE\u001b[0m\u001b[32mN\u001b[0m\u001b[32mT\u001b[0m\u001b[32mI\u001b[0m\u001b[32mF\u001b[0m\u001b[32mY\u001b[0m\u001b[32m \u001b[0m\u001b[32mT\u001b[0m\u001b[32mH\u001b[0m\u001b[32mE\u001b[0m\u001b[32m \u001b[0m\u001b[32mP\u001b[0m\u001b[32mR\u001b[0m\u001b[32mO\u001b[0m\u001b[32mB\u001b[0m\u001b[32mL\u001b[0m\u001b[32mE\u001b[0m\u001b[32mM\u001b[0m\u001b[32m,\u001b[0m\u001b[32m \u001b[0m\u001b[32mS\u001b[0m\u001b[32mE\u001b[0m\u001b[32mC\u001b[0m\u001b[32mT\u001b[0m\u001b[32mI\u001b[0m\u001b[32mO\u001b[0m\u001b[32mN\u001b[0m\u001b[32m \u001b[0m\u001b[32m1\u001b[0m\u001b[32m \u001b[0m\u001b[32mS\u001b[0m\u001b[32mH\u001b[0m\u001b[32mO\u001b[0m\u001b[32mU\u001b[0m\u001b[32mL\u001b[0m\u001b[32mD\u001b[0m\u001b[32m \u001b[0m\u001b[32mI\u001b[0m\u001b[32mN\u001b[0m\u001b[32mS\u001b[0m\u001b[32mT\u001b[0m\u001b[32mE\u001b[0m\u001b[32mA\u001b[0m\u001b[32mD\u001b[0m\u001b[32m \u001b[0m\u001b[32mL\u001b[0m\u001b[32mI\u001b[0m\u001b[32mS\u001b[0m\u001b[32mT\u001b[0m\u001b[32m \u001b[0m\u001b[32mA\u001b[0m\u001b[32m \u001b[0m\u001b[32mF\u001b[0m\u001b[32mE\u001b[0m\u001b[32mW\u001b[0m\u001b[32m \u001b[0m\u001b[32mP\u001b[0m\u001b[32mO\u001b[0m\u001b[32mS\u001b[0m\u001b[32mS\u001b[0m\u001b[32mI\u001b[0m\u001b[32mB\u001b[0m\u001b[32mL\u001b[0m\u001b[32mE\u001b[0m\u001b[32m \u001b[0m\u001b[32mC\u001b[0m\u001b[32mA\u001b[0m\u001b[32mU\u001b[0m\u001b[32mS\u001b[0m\u001b[32mE\u001b[0m\u001b[32mS\u001b[0m\u001b[32m \u001b[0m\u001b[32mO\u001b[0m\u001b[32mR\u001b[0m\u001b[32m \u001b[0m\u001b[32mT\u001b[0m\u001b[32mH\u001b[0m\u001b[32mI\u001b[0m\u001b[32mN\u001b[0m\u001b[32mG\u001b[0m\u001b[32mS\u001b[0m\u001b[32m \u001b[0m\u001b[32mI\u001b[0m\u001b[32m \u001b[0m\u001b[32mC\u001b[0m\u001b[32mO\u001b[0m\u001b[32mU\u001b[0m\u001b[32mL\u001b[0m\u001b[32mD\u001b[0m\u001b[32m \u001b[0m\u001b[32mT\u001b[0m\u001b[32mR\u001b[0m\u001b[32mY\u001b[0m\u001b[32m \u001b[0m\u001b[32mI\u001b[0m\u001b[32mN\u001b[0m\u001b[32m \u001b[0m\u001b[32mO\u001b[0m\u001b[32mR\u001b[0m\u001b[32mD\u001b[0m\u001b[32mE\u001b[0m\u001b[32mR\u001b[0m\u001b[32m \u001b[0m\u001b[32mT\u001b[0m\u001b[32mO\u001b[0m\u001b[32m \u001b[0m\u001b[32mI\u001b[0m\u001b[32mD\u001b[0m\u001b[32mE\u001b[0m\u001b[32mN\u001b[0m\u001b[32mT\u001b[0m\u001b[32mI\u001b[0m\u001b[32mF\u001b[0m\u001b[32mY\u001b[0m\u001b[32m \u001b[0m\u001b[32mT\u001b[0m\u001b[32mH\u001b[0m\u001b[32mE\u001b[0m\u001b[32m \u001b[0m\u001b[32mI\u001b[0m\u001b[32mS\u001b[0m\u001b[32mS\u001b[0m\u001b[32mU\u001b[0m\u001b[32mE\u001b[0m\u001b[32m)\u001b[0m\u001b[32m.\u001b[0m\u001b[32m \u001b[0m\u001b[32mI\u001b[0m\u001b[32mN\u001b[0m\u001b[32m \u001b[0m\u001b[32mS\u001b[0m\u001b[32mE\u001b[0m\u001b[32mC\u001b[0m\u001b[32mT\u001b[0m\u001b[32mI\u001b[0m\u001b[32mO\u001b[0m\u001b[32mN\u001b[0m\u001b[32m \u001b[0m\u001b[32m2\u001b[0m\u001b[32m,\u001b[0m\u001b[32m \u001b[0m\u001b[32mW\u001b[0m\u001b[32mR\u001b[0m\u001b[32mI\u001b[0m\u001b[32mT\u001b[0m\u001b[32mE\u001b[0m\u001b[32m \u001b[0m\u001b[32mA\u001b[0m\u001b[32m \u001b[0m\u001b[32mC\u001b[0m\u001b[32mO\u001b[0m\u001b[32mR\u001b[0m\u001b[32mR\u001b[0m\u001b[32mE\u001b[0m\u001b[32mC\u001b[0m\u001b[32mT\u001b[0m\u001b[32mE\u001b[0m\u001b[32mD\u001b[0m\u001b[32m \u001b[0m\u001b[32mV\u001b[0m\u001b[32mE\u001b[0m\u001b[32mR\u001b[0m\u001b[32mS\u001b[0m\u001b[32mI\u001b[0m\u001b[32mO\u001b[0m\u001b[32mN\u001b[0m\u001b[32m \u001b[0m\u001b[32mO\u001b[0m\u001b[32mF\u001b[0m\u001b[32m \u001b[0m\u001b[32mT\u001b[0m\u001b[32mH\u001b[0m\u001b[32mE\u001b[0m\u001b[32m \u001b[0m\u001b[32mI\u001b[0m\u001b[32mN\u001b[0m\u001b[32mP\u001b[0m\u001b[32mU\u001b[0m\u001b[32mT\u001b[0m\u001b[32m \u001b[0m\u001b[32mC\u001b[0m\u001b[32mO\u001b[0m\u001b[32mD\u001b[0m\u001b[32mE\u001b[0m\u001b[32m \u001b[0m\u001b[32mS\u001b[0m\u001b[32mN\u001b[0m\u001b[32mI\u001b[0m\u001b[32mP\u001b[0m\u001b[32mP\u001b[0m\u001b[32mE\u001b[0m\u001b[32mT\u001b[0m\u001b[32m \u001b[0m\u001b[32m(\u001b[0m\u001b[32mI\u001b[0m\u001b[32mF\u001b[0m\u001b[32m \u001b[0m\u001b[32mY\u001b[0m\u001b[32mO\u001b[0m\u001b[32mU\u001b[0m\u001b[32m \u001b[0m\u001b[32mD\u001b[0m\u001b[32mO\u001b[0m\u001b[32mN\u001b[0m\u001b[32m'\u001b[0m\u001b[32mT\u001b[0m\u001b[32m \u001b[0m\u001b[32mK\u001b[0m\u001b[32mN\u001b[0m\u001b[32mO\u001b[0m\u001b[32mW\u001b[0m\u001b[32m,\u001b[0m\u001b[32m \u001b[0m\u001b[32mS\u001b[0m\u001b[32mE\u001b[0m\u001b[32mC\u001b[0m\u001b[32mT\u001b[0m\u001b[32mI\u001b[0m\u001b[32mO\u001b[0m\u001b[32mN\u001b[0m\u001b[32m \u001b[0m\u001b[32m2\u001b[0m\u001b[32m \u001b[0m\u001b[32mS\u001b[0m\u001b[32mH\u001b[0m\u001b[32mO\u001b[0m\u001b[32mU\u001b[0m\u001b[32mL\u001b[0m\u001b[32mD\u001b[0m\u001b[32m \u001b[0m\u001b[32mB\u001b[0m\u001b[32mE\u001b[0m\u001b[32m \u001b[0m\u001b[32mE\u001b[0m\u001b[32mM\u001b[0m\u001b[32mP\u001b[0m\u001b[32mT\u001b[0m\u001b[32mY\u001b[0m\u001b[32m)\u001b[0m\u001b[32m.\u001b[0m\u001b[32m \u001b[0m\u001b[32mS\u001b[0m\u001b[32mE\u001b[0m\u001b[32mC\u001b[0m\u001b[32mT\u001b[0m\u001b[32mI\u001b[0m\u001b[32mO\u001b[0m\u001b[32mN\u001b[0m\u001b[32m \u001b[0m\u001b[32m2\u001b[0m\u001b[32m \u001b[0m\u001b[32mM\u001b[0m\u001b[32mU\u001b[0m\u001b[32mS\u001b[0m\u001b[32mT\u001b[0m\u001b[32m \u001b[0m\u001b[32mC\u001b[0m\u001b[32mO\u001b[0m\u001b[32mN\u001b[0m\u001b[32mT\u001b[0m\u001b[32mA\u001b[0m\u001b[32mI\u001b[0m\u001b[32mN\u001b[0m\u001b[32m \u001b[0m\u001b[32mO\u001b[0m\u001b[32mN\u001b[0m\u001b[32mL\u001b[0m\u001b[32mY\u001b[0m\u001b[32m \u001b[0m\u001b[32mP\u001b[0m\u001b[32mY\u001b[0m\u001b[32mT\u001b[0m\u001b[32mH\u001b[0m\u001b[32mO\u001b[0m\u001b[32mN\u001b[0m\u001b[32m \u001b[0m\u001b[32mC\u001b[0m\u001b[32mO\u001b[0m\u001b[32mD\u001b[0m\u001b[32mE\u001b[0m\u001b[32m \u001b[0m\u001b[32m-\u001b[0m\u001b[32m \u001b[0m\u001b[32mT\u001b[0m\u001b[32mH\u001b[0m\u001b[32mE\u001b[0m\u001b[32mR\u001b[0m\u001b[32mE\u001b[0m\u001b[32m \u001b[0m\u001b[32mM\u001b[0m\u001b[32mU\u001b[0m\u001b[32mS\u001b[0m\u001b[32mT\u001b[0m\u001b[32m \u001b[0m\u001b[32mN\u001b[0m\u001b[32mO\u001b[0m\u001b[32mT\u001b[0m\u001b[32m \u001b[0m\u001b[32mB\u001b[0m\u001b[32mE\u001b[0m\u001b[32m \u001b[0m\u001b[32mA\u001b[0m\u001b[32mN\u001b[0m\u001b[32mY\u001b[0m\u001b[32m \u001b[0m\u001b[32mE\u001b[0m\u001b[32mN\u001b[0m\u001b[32mG\u001b[0m\u001b[32mL\u001b[0m\u001b[32mI\u001b[0m\u001b[32mS\u001b[0m\u001b[32mH\u001b[0m\u001b[32m \u001b[0m\u001b[32mE\u001b[0m\u001b[32mX\u001b[0m\u001b[32mP\u001b[0m\u001b[32mL\u001b[0m\u001b[32mA\u001b[0m\u001b[32mN\u001b[0m\u001b[32mA\u001b[0m\u001b[32mT\u001b[0m\u001b[32mI\u001b[0m\u001b[32mO\u001b[0m\u001b[32mN\u001b[0m\u001b[32m \u001b[0m\u001b[32mO\u001b[0m\u001b[32mU\u001b[0m\u001b[32mT\u001b[0m\u001b[32mS\u001b[0m\u001b[32mI\u001b[0m\u001b[32mD\u001b[0m\u001b[32mE\u001b[0m\u001b[32m \u001b[0m\u001b[32mO\u001b[0m\u001b[32mF\u001b[0m\u001b[32m \u001b[0m\u001b[32mC\u001b[0m\u001b[32mO\u001b[0m\u001b[32mD\u001b[0m\u001b[32mE\u001b[0m\u001b[32m \u001b[0m\u001b[32mC\u001b[0m\u001b[32mO\u001b[0m\u001b[32mM\u001b[0m\u001b[32mM\u001b[0m\u001b[32mE\u001b[0m\u001b[32mN\u001b[0m\u001b[32mT\u001b[0m\u001b[32mS\u001b[0m\u001b[32m \u001b[0m\u001b[32mO\u001b[0m\u001b[32mR\u001b[0m\u001b[32m \u001b[0m\u001b[32mD\u001b[0m\u001b[32mO\u001b[0m\u001b[32mC\u001b[0m\u001b[32mS\u001b[0m\u001b[32mT\u001b[0m\u001b[32mR\u001b[0m\u001b[32mI\u001b[0m\u001b[32mN\u001b[0m\u001b[32mG\u001b[0m\u001b[32mS\u001b[0m\u001b[32m.\u001b[0m\u001b[32m \u001b[0m\u001b[32mS\u001b[0m\u001b[32mE\u001b[0m\u001b[32mC\u001b[0m\u001b[32mT\u001b[0m\u001b[32mI\u001b[0m\u001b[32mO\u001b[0m\u001b[32mN\u001b[0m\u001b[32m \u001b[0m\u001b[32m2\u001b[0m\u001b[32m \u001b[0m\u001b[32mM\u001b[0m\u001b[32mU\u001b[0m\u001b[32mS\u001b[0m\u001b[32mT\u001b[0m\u001b[32m \u001b[0m\u001b[32mB\u001b[0m\u001b[32mE\u001b[0m\u001b[32m \u001b[0m\u001b[32mE\u001b[0m\u001b[32mN\u001b[0m\u001b[32mT\u001b[0m\u001b[32mI\u001b[0m\u001b[32mR\u001b[0m\u001b[32mE\u001b[0m\u001b[32mL\u001b[0m\u001b[32mY\u001b[0m\u001b[32m \u001b[0m\u001b[32mE\u001b[0m\u001b[32mN\u001b[0m\u001b[32mC\u001b[0m\u001b[32mL\u001b[0m\u001b[32mO\u001b[0m\u001b[32mS\u001b[0m\u001b[32mE\u001b[0m\u001b[32mD\u001b[0m\u001b[32m \u001b[0m\u001b[32mI\u001b[0m\u001b[32mN\u001b[0m\u001b[32m \u001b[0m\u001b[32mO\u001b[0m\u001b[32mN\u001b[0m\u001b[32mE\u001b[0m\u001b[32m \u001b[0m\u001b[32mP\u001b[0m\u001b[32mA\u001b[0m\u001b[32mI\u001b[0m\u001b[32mR\u001b[0m\u001b[32m \u001b[0m\u001b[32mO\u001b[0m\u001b[32mF\u001b[0m\u001b[32m \u001b[0m\u001b[32mT\u001b[0m\u001b[32mR\u001b[0m\u001b[32mI\u001b[0m\u001b[32mP\u001b[0m\u001b[32mL\u001b[0m\u001b[32mE\u001b[0m\u001b[32m \u001b[0m\u001b[32mB\u001b[0m\u001b[32mA\u001b[0m\u001b[32mC\u001b[0m\u001b[32mK\u001b[0m\u001b[32mT\u001b[0m\u001b[32mI\u001b[0m\u001b[32mC\u001b[0m\u001b[32mK\u001b[0m\u001b[32mS\u001b[0m\u001b[32m \u001b[0m\u001b[32m(\u001b[0m\u001b[32m\"\u001b[0m\u001b[32m`\u001b[0m\u001b[32m`\u001b[0m\u001b[32m`\u001b[0m\u001b[32m\"\u001b[0m\u001b[32m)\u001b[0m\u001b[32m.\u001b[0m\u001b[32m\n",
      "\u001b[0m\u001b[32m\n",
      "\u001b[0m\u001b[32mC\u001b[0m\u001b[32mU\u001b[0m\u001b[32mR\u001b[0m\u001b[32mR\u001b[0m\u001b[32mE\u001b[0m\u001b[32mN\u001b[0m\u001b[32mT\u001b[0m\u001b[32m \u001b[0m\u001b[32mC\u001b[0m\u001b[32mO\u001b[0m\u001b[32mD\u001b[0m\u001b[32mE\u001b[0m\u001b[32m \u001b[0m\u001b[32mS\u001b[0m\u001b[32mN\u001b[0m\u001b[32mI\u001b[0m\u001b[32mP\u001b[0m\u001b[32mP\u001b[0m\u001b[32mE\u001b[0m\u001b[32mT\u001b[0m\u001b[32m:\u001b[0m\u001b[32m\n",
      "\u001b[0m\u001b[32mD\u001b[0m\u001b[32mE\u001b[0m\u001b[32mF\u001b[0m\u001b[32m \u001b[0m\u001b[32mB\u001b[0m\u001b[32mU\u001b[0m\u001b[32mB\u001b[0m\u001b[32mB\u001b[0m\u001b[32mL\u001b[0m\u001b[32mE\u001b[0m\u001b[32m_\u001b[0m\u001b[32mS\u001b[0m\u001b[32mO\u001b[0m\u001b[32mR\u001b[0m\u001b[32mT\u001b[0m\u001b[32m(\u001b[0m\u001b[32mN\u001b[0m\u001b[32mU\u001b[0m\u001b[32mM\u001b[0m\u001b[32mS\u001b[0m\u001b[32m)\u001b[0m\u001b[32m:\u001b[0m\u001b[32m\n",
      "\u001b[0m\u001b[32m \u001b[0m\u001b[32m \u001b[0m\u001b[32m \u001b[0m\u001b[32m \u001b[0m\u001b[32mF\u001b[0m\u001b[32mO\u001b[0m\u001b[32mR\u001b[0m\u001b[32m \u001b[0m\u001b[32mI\u001b[0m\u001b[32m \u001b[0m\u001b[32mI\u001b[0m\u001b[32mN\u001b[0m\u001b[32m \u001b[0m\u001b[32mR\u001b[0m\u001b[32mA\u001b[0m\u001b[32mN\u001b[0m\u001b[32mG\u001b[0m\u001b[32mE\u001b[0m\u001b[32m(\u001b[0m\u001b[32mL\u001b[0m\u001b[32mE\u001b[0m\u001b[32mN\u001b[0m\u001b[32m(\u001b[0m\u001b[32mN\u001b[0m\u001b[32mU\u001b[0m\u001b[32mM\u001b[0m\u001b[32mS\u001b[0m\u001b[32m)\u001b[0m\u001b[32m)\u001b[0m\u001b[32m:\u001b[0m\u001b[32m\n",
      "\u001b[0m\u001b[32m \u001b[0m\u001b[32m \u001b[0m\u001b[32m \u001b[0m\u001b[32m \u001b[0m\u001b[32m \u001b[0m\u001b[32m \u001b[0m\u001b[32m \u001b[0m\u001b[32m \u001b[0m\u001b[32mF\u001b[0m\u001b[32mO\u001b[0m\u001b[32mR\u001b[0m\u001b[32m \u001b[0m\u001b[32mJ\u001b[0m\u001b[32m \u001b[0m\u001b[32mI\u001b[0m\u001b[32mN\u001b[0m\u001b[32m \u001b[0m\u001b[32mR\u001b[0m\u001b[32mA\u001b[0m\u001b[32mN\u001b[0m\u001b[32mG\u001b[0m\u001b[32mE\u001b[0m\u001b[32m(\u001b[0m\u001b[32mL\u001b[0m\u001b[32mE\u001b[0m\u001b[32mN\u001b[0m\u001b[32m(\u001b[0m\u001b[32mN\u001b[0m\u001b[32mU\u001b[0m\u001b[32mM\u001b[0m\u001b[32mS\u001b[0m\u001b[32m)\u001b[0m\u001b[32m)\u001b[0m\u001b[32m:\u001b[0m\u001b[32m\n",
      "\u001b[0m\u001b[32m \u001b[0m\u001b[32m \u001b[0m\u001b[32m \u001b[0m\u001b[32m \u001b[0m\u001b[32m \u001b[0m\u001b[32m \u001b[0m\u001b[32m \u001b[0m\u001b[32m \u001b[0m\u001b[32m \u001b[0m\u001b[32m \u001b[0m\u001b[32m \u001b[0m\u001b[32m \u001b[0m\u001b[32mI\u001b[0m\u001b[32mF\u001b[0m\u001b[32m \u001b[0m\u001b[32mN\u001b[0m\u001b[32mU\u001b[0m\u001b[32mM\u001b[0m\u001b[32mS\u001b[0m\u001b[32m[\u001b[0m\u001b[32mJ\u001b[0m\u001b[32m]\u001b[0m\u001b[32m \u001b[0m\u001b[32m>\u001b[0m\u001b[32m \u001b[0m\u001b[32mN\u001b[0m\u001b[32mU\u001b[0m\u001b[32mM\u001b[0m\u001b[32mS\u001b[0m\u001b[32m[\u001b[0m\u001b[32mJ\u001b[0m\u001b[32m \u001b[0m\u001b[32m+\u001b[0m\u001b[32m \u001b[0m\u001b[32m1\u001b[0m\u001b[32m]\u001b[0m\u001b[32m:\u001b[0m\u001b[32m\n",
      "\u001b[0m\u001b[32m \u001b[0m\u001b[32m \u001b[0m\u001b[32m \u001b[0m\u001b[32m \u001b[0m\u001b[32m \u001b[0m\u001b[32m \u001b[0m\u001b[32m \u001b[0m\u001b[32m \u001b[0m\u001b[32m \u001b[0m\u001b[32m \u001b[0m\u001b[32m \u001b[0m\u001b[32m \u001b[0m\u001b[32m \u001b[0m\u001b[32m \u001b[0m\u001b[32m \u001b[0m\u001b[32m \u001b[0m\u001b[32mN\u001b[0m\u001b[32mU\u001b[0m\u001b[32mM\u001b[0m\u001b[32mS\u001b[0m\u001b[32m[\u001b[0m\u001b[32mJ\u001b[0m\u001b[32m \u001b[0m\u001b[32m+\u001b[0m\u001b[32m \u001b[0m\u001b[32m1\u001b[0m\u001b[32m]\u001b[0m\u001b[32m,\u001b[0m\u001b[32m \u001b[0m\u001b[32mN\u001b[0m\u001b[32mU\u001b[0m\u001b[32mM\u001b[0m\u001b[32mS\u001b[0m\u001b[32m[\u001b[0m\u001b[32mJ\u001b[0m\u001b[32m]\u001b[0m\u001b[32m \u001b[0m\u001b[32m=\u001b[0m\u001b[32m \u001b[0m\u001b[32mN\u001b[0m\u001b[32mU\u001b[0m\u001b[32mM\u001b[0m\u001b[32mS\u001b[0m\u001b[32m[\u001b[0m\u001b[32mJ\u001b[0m\u001b[32m]\u001b[0m\u001b[32m,\u001b[0m\u001b[32m \u001b[0m\u001b[32mN\u001b[0m\u001b[32mU\u001b[0m\u001b[32mM\u001b[0m\u001b[32mS\u001b[0m\u001b[32m[\u001b[0m\u001b[32mJ\u001b[0m\u001b[32m \u001b[0m\u001b[32m+\u001b[0m\u001b[32m \u001b[0m\u001b[32m1\u001b[0m\u001b[32m]\u001b[0m\u001b[32m\n",
      "\u001b[0m\u001b[32m \u001b[0m\u001b[32m \u001b[0m\u001b[32m \u001b[0m\u001b[32m \u001b[0m\u001b[32mR\u001b[0m\u001b[32mE\u001b[0m\u001b[32mT\u001b[0m\u001b[32mU\u001b[0m\u001b[32mR\u001b[0m\u001b[32mN\u001b[0m\u001b[32m \u001b[0m\u001b[32mN\u001b[0m\u001b[32mU\u001b[0m\u001b[32mM\u001b[0m\u001b[32mS\u001b[0m\u001b[32m\n",
      "\u001b[0m\u001b[32m\n",
      "\u001b[0m\u001b[32mS\u001b[0m\u001b[32mT\u001b[0m\u001b[32mA\u001b[0m\u001b[32mC\u001b[0m\u001b[32mK\u001b[0m\u001b[32m \u001b[0m\u001b[32mT\u001b[0m\u001b[32mR\u001b[0m\u001b[32mA\u001b[0m\u001b[32mC\u001b[0m\u001b[32mE\u001b[0m\u001b[32m:\u001b[0m\u001b[32m\n",
      "\u001b[0m\u001b[32mT\u001b[0m\u001b[32mR\u001b[0m\u001b[32mA\u001b[0m\u001b[32mC\u001b[0m\u001b[32mE\u001b[0m\u001b[32mB\u001b[0m\u001b[32mA\u001b[0m\u001b[32mC\u001b[0m\u001b[32mK\u001b[0m\u001b[32m \u001b[0m\u001b[32m(\u001b[0m\u001b[32mM\u001b[0m\u001b[32mO\u001b[0m\u001b[32mS\u001b[0m\u001b[32mT\u001b[0m\u001b[32m \u001b[0m\u001b[32mR\u001b[0m\u001b[32mE\u001b[0m\u001b[32mC\u001b[0m\u001b[32mE\u001b[0m\u001b[32mN\u001b[0m\u001b[32mT\u001b[0m\u001b[32m \u001b[0m\u001b[32mC\u001b[0m\u001b[32mA\u001b[0m\u001b[32mL\u001b[0m\u001b[32mL\u001b[0m\u001b[32m \u001b[0m\u001b[32mL\u001b[0m\u001b[32mA\u001b[0m\u001b[32mS\u001b[0m\u001b[32mT\u001b[0m\u001b[32m)\u001b[0m\u001b[32m:\u001b[0m\u001b[32m\n",
      "\u001b[0m\u001b[32m \u001b[0m\u001b[32m \u001b[0m\u001b[32mF\u001b[0m\u001b[32mI\u001b[0m\u001b[32mL\u001b[0m\u001b[32mE\u001b[0m\u001b[32m \u001b[0m\u001b[32m\"\u001b[0m\u001b[32m/\u001b[0m\u001b[32mU\u001b[0m\u001b[32mS\u001b[0m\u001b[32mE\u001b[0m\u001b[32mR\u001b[0m\u001b[32mS\u001b[0m\u001b[32m/\u001b[0m\u001b[32mH\u001b[0m\u001b[32mM\u001b[0m\u001b[32mA\u001b[0m\u001b[32mM\u001b[0m\u001b[32mI\u001b[0m\u001b[32mN\u001b[0m\u001b[32m/\u001b[0m\u001b[32mA\u001b[0m\u001b[32mN\u001b[0m\u001b[32mA\u001b[0m\u001b[32mC\u001b[0m\u001b[32mO\u001b[0m\u001b[32mN\u001b[0m\u001b[32mD\u001b[0m\u001b[32mA\u001b[0m\u001b[32m3\u001b[0m\u001b[32m/\u001b[0m\u001b[32mE\u001b[0m\u001b[32mN\u001b[0m\u001b[32mV\u001b[0m\u001b[32mS\u001b[0m\u001b[32m/\u001b[0m\u001b[32mP\u001b[0m\u001b[32mY\u001b[0m\u001b[32m3\u001b[0m\u001b[32m8\u001b[0m\u001b[32m/\u001b[0m\u001b[32mL\u001b[0m\u001b[32mI\u001b[0m\u001b[32mB\u001b[0m\u001b[32m/\u001b[0m\u001b[32mP\u001b[0m\u001b[32mY\u001b[0m\u001b[32mT\u001b[0m\u001b[32mH\u001b[0m\u001b[32mO\u001b[0m\u001b[32mN\u001b[0m\u001b[32m3\u001b[0m\u001b[32m.\u001b[0m\u001b[32m8\u001b[0m\u001b[32m/\u001b[0m\u001b[32mS\u001b[0m\u001b[32mI\u001b[0m\u001b[32mT\u001b[0m\u001b[32mE\u001b[0m\u001b[32m-\u001b[0m\u001b[32mP\u001b[0m\u001b[32mA\u001b[0m\u001b[32mC\u001b[0m\u001b[32mK\u001b[0m\u001b[32mA\u001b[0m\u001b[32mG\u001b[0m\u001b[32mE\u001b[0m\u001b[32mS\u001b[0m\u001b[32m/\u001b[0m\u001b[32mI\u001b[0m\u001b[32mP\u001b[0m\u001b[32mY\u001b[0m\u001b[32mT\u001b[0m\u001b[32mH\u001b[0m\u001b[32mO\u001b[0m\u001b[32mN\u001b[0m\u001b[32m/\u001b[0m\u001b[32mC\u001b[0m\u001b[32mO\u001b[0m\u001b[32mR\u001b[0m\u001b[32mE\u001b[0m\u001b[32m/\u001b[0m\u001b[32mI\u001b[0m\u001b[32mN\u001b[0m\u001b[32mT\u001b[0m\u001b[32mE\u001b[0m\u001b[32mR\u001b[0m\u001b[32mA\u001b[0m\u001b[32mC\u001b[0m\u001b[32mT\u001b[0m\u001b[32mI\u001b[0m\u001b[32mV\u001b[0m\u001b[32mE\u001b[0m\u001b[32mS\u001b[0m\u001b[32mH\u001b[0m\u001b[32mE\u001b[0m\u001b[32mL\u001b[0m\u001b[32mL\u001b[0m\u001b[32m.\u001b[0m\u001b[32mP\u001b[0m\u001b[32mY\u001b[0m\u001b[32m\"\u001b[0m\u001b[32m,\u001b[0m\u001b[32m \u001b[0m\u001b[32mL\u001b[0m\u001b[32mI\u001b[0m\u001b[32mN\u001b[0m\u001b[32mE\u001b[0m\u001b[32m \u001b[0m\u001b[32m3\u001b[0m\u001b[32m4\u001b[0m\u001b[32m4\u001b[0m\u001b[32m1\u001b[0m\u001b[32m,\u001b[0m\u001b[32m \u001b[0m\u001b[32mI\u001b[0m\u001b[32mN\u001b[0m\u001b[32m \u001b[0m\u001b[32mR\u001b[0m\u001b[32mU\u001b[0m\u001b[32mN\u001b[0m\u001b[32m_\u001b[0m\u001b[32mC\u001b[0m\u001b[32mO\u001b[0m\u001b[32mD\u001b[0m\u001b[32mE\u001b[0m\u001b[32m\n",
      "\u001b[0m\u001b[32m \u001b[0m\u001b[32m \u001b[0m\u001b[32m \u001b[0m\u001b[32m \u001b[0m\u001b[32mE\u001b[0m\u001b[32mX\u001b[0m\u001b[32mE\u001b[0m\u001b[32mC\u001b[0m\u001b[32m(\u001b[0m\u001b[32mC\u001b[0m\u001b[32mO\u001b[0m\u001b[32mD\u001b[0m\u001b[32mE\u001b[0m\u001b[32m_\u001b[0m\u001b[32mO\u001b[0m\u001b[32mB\u001b[0m\u001b[32mJ\u001b[0m\u001b[32m,\u001b[0m\u001b[32m \u001b[0m\u001b[32mS\u001b[0m\u001b[32mE\u001b[0m\u001b[32mL\u001b[0m\u001b[32mF\u001b[0m\u001b[32m.\u001b[0m\u001b[32mU\u001b[0m\u001b[32mS\u001b[0m\u001b[32mE\u001b[0m\u001b[32mR\u001b[0m\u001b[32m_\u001b[0m\u001b[32mG\u001b[0m\u001b[32mL\u001b[0m\u001b[32mO\u001b[0m\u001b[32mB\u001b[0m\u001b[32mA\u001b[0m\u001b[32mL\u001b[0m\u001b[32m_\u001b[0m\u001b[32mN\u001b[0m\u001b[32mS\u001b[0m\u001b[32m,\u001b[0m\u001b[32m \u001b[0m\u001b[32mS\u001b[0m\u001b[32mE\u001b[0m\u001b[32mL\u001b[0m\u001b[32mF\u001b[0m\u001b[32m.\u001b[0m\u001b[32mU\u001b[0m\u001b[32mS\u001b[0m\u001b[32mE\u001b[0m\u001b[32mR\u001b[0m\u001b[32m_\u001b[0m\u001b[32mN\u001b[0m\u001b[32mS\u001b[0m\u001b[32m)\u001b[0m\u001b[32m\n",
      "\u001b[0m\u001b[32m \u001b[0m\u001b[32m \u001b[0m\u001b[32mF\u001b[0m\u001b[32mI\u001b[0m\u001b[32mL\u001b[0m\u001b[32mE\u001b[0m\u001b[32m \u001b[0m\u001b[32m\"\u001b[0m\u001b[32m<\u001b[0m\u001b[32mI\u001b[0m\u001b[32mP\u001b[0m\u001b[32mY\u001b[0m\u001b[32mT\u001b[0m\u001b[32mH\u001b[0m\u001b[32mO\u001b[0m\u001b[32mN\u001b[0m\u001b[32m-\u001b[0m\u001b[32mI\u001b[0m\u001b[32mN\u001b[0m\u001b[32mP\u001b[0m\u001b[32mU\u001b[0m\u001b[32mT\u001b[0m\u001b[32m-\u001b[0m\u001b[32m3\u001b[0m\u001b[32m2\u001b[0m\u001b[32m-\u001b[0m\u001b[32m0\u001b[0m\u001b[32mB\u001b[0m\u001b[32m7\u001b[0m\u001b[32m3\u001b[0m\u001b[32mB\u001b[0m\u001b[32m9\u001b[0m\u001b[32mF\u001b[0m\u001b[32mC\u001b[0m\u001b[32mB\u001b[0m\u001b[32m6\u001b[0m\u001b[32m6\u001b[0m\u001b[32mD\u001b[0m\u001b[32m>\u001b[0m\u001b[32m\"\u001b[0m\u001b[32m,\u001b[0m\u001b[32m \u001b[0m\u001b[32mL\u001b[0m\u001b[32mI\u001b[0m\u001b[32mN\u001b[0m\u001b[32mE\u001b[0m\u001b[32m \u001b[0m\u001b[32m1\u001b[0m\u001b[32m,\u001b[0m\u001b[32m \u001b[0m\u001b[32mI\u001b[0m\u001b[32mN\u001b[0m\u001b[32m \u001b[0m\u001b[32m<\u001b[0m\u001b[32mM\u001b[0m\u001b[32mO\u001b[0m\u001b[32mD\u001b[0m\u001b[32mU\u001b[0m\u001b[32mL\u001b[0m\u001b[32mE\u001b[0m\u001b[32m>\u001b[0m\u001b[32m\n",
      "\u001b[0m\u001b[32m \u001b[0m\u001b[32m \u001b[0m\u001b[32m \u001b[0m\u001b[32m \u001b[0m\u001b[32mR\u001b[0m\u001b[32mE\u001b[0m\u001b[32mS\u001b[0m\u001b[32m \u001b[0m\u001b[32m=\u001b[0m\u001b[32m \u001b[0m\u001b[32mB\u001b[0m\u001b[32mU\u001b[0m\u001b[32mB\u001b[0m\u001b[32mB\u001b[0m\u001b[32mL\u001b[0m\u001b[32mE\u001b[0m\u001b[32m_\u001b[0m\u001b[32mS\u001b[0m\u001b[32mO\u001b[0m\u001b[32mR\u001b[0m\u001b[32mT\u001b[0m\u001b[32m(\u001b[0m\u001b[32mN\u001b[0m\u001b[32mU\u001b[0m\u001b[32mM\u001b[0m\u001b[32mS\u001b[0m\u001b[32m)\u001b[0m\u001b[32m\n",
      "\u001b[0m\u001b[32m \u001b[0m\u001b[32m \u001b[0m\u001b[32mF\u001b[0m\u001b[32mI\u001b[0m\u001b[32mL\u001b[0m\u001b[32mE\u001b[0m\u001b[32m \u001b[0m\u001b[32m\"\u001b[0m\u001b[32m<\u001b[0m\u001b[32mI\u001b[0m\u001b[32mP\u001b[0m\u001b[32mY\u001b[0m\u001b[32mT\u001b[0m\u001b[32mH\u001b[0m\u001b[32mO\u001b[0m\u001b[32mN\u001b[0m\u001b[32m-\u001b[0m\u001b[32mI\u001b[0m\u001b[32mN\u001b[0m\u001b[32mP\u001b[0m\u001b[32mU\u001b[0m\u001b[32mT\u001b[0m\u001b[32m-\u001b[0m\u001b[32m2\u001b[0m\u001b[32m5\u001b[0m\u001b[32m-\u001b[0m\u001b[32m3\u001b[0m\u001b[32mF\u001b[0m\u001b[32m1\u001b[0m\u001b[32m2\u001b[0m\u001b[32mA\u001b[0m\u001b[32m9\u001b[0m\u001b[32mF\u001b[0m\u001b[32m4\u001b[0m\u001b[32m3\u001b[0m\u001b[32m4\u001b[0m\u001b[32mA\u001b[0m\u001b[32m7\u001b[0m\u001b[32m>\u001b[0m\u001b[32m\"\u001b[0m\u001b[32m,\u001b[0m\u001b[32m \u001b[0m\u001b[32mL\u001b[0m\u001b[32mI\u001b[0m\u001b[32mN\u001b[0m\u001b[32mE\u001b[0m\u001b[32m \u001b[0m\u001b[32m4\u001b[0m\u001b[32m,\u001b[0m\u001b[32m \u001b[0m\u001b[32mI\u001b[0m\u001b[32mN\u001b[0m\u001b[32m \u001b[0m\u001b[32mB\u001b[0m\u001b[32mU\u001b[0m\u001b[32mB\u001b[0m\u001b[32mB\u001b[0m\u001b[32mL\u001b[0m\u001b[32mE\u001b[0m\u001b[32m_\u001b[0m\u001b[32mS\u001b[0m\u001b[32mO\u001b[0m\u001b[32mR\u001b[0m\u001b[32mT\u001b[0m\u001b[32m\n",
      "\u001b[0m\u001b[32m \u001b[0m\u001b[32m \u001b[0m\u001b[32m \u001b[0m\u001b[32m \u001b[0m\u001b[32mI\u001b[0m\u001b[32mF\u001b[0m\u001b[32m \u001b[0m\u001b[32mN\u001b[0m\u001b[32mU\u001b[0m\u001b[32mM\u001b[0m\u001b[32mS\u001b[0m\u001b[32m[\u001b[0m\u001b[32mJ\u001b[0m\u001b[32m]\u001b[0m\u001b[32m \u001b[0m\u001b[32m>\u001b[0m\u001b[32m \u001b[0m\u001b[32mN\u001b[0m\u001b[32mU\u001b[0m\u001b[32mM\u001b[0m\u001b[32mS\u001b[0m\u001b[32m[\u001b[0m\u001b[32mJ\u001b[0m\u001b[32m \u001b[0m\u001b[32m+\u001b[0m\u001b[32m \u001b[0m\u001b[32m1\u001b[0m\u001b[32m]\u001b[0m\u001b[32m:\u001b[0m\u001b[32m\n",
      "\u001b[0m\u001b[32mI\u001b[0m\u001b[32mN\u001b[0m\u001b[32mD\u001b[0m\u001b[32mE\u001b[0m\u001b[32mX\u001b[0m\u001b[32mE\u001b[0m\u001b[32mR\u001b[0m\u001b[32mR\u001b[0m\u001b[32mO\u001b[0m\u001b[32mR\u001b[0m\u001b[32m:\u001b[0m\u001b[32m \u001b[0m\u001b[32mL\u001b[0m\u001b[32mI\u001b[0m\u001b[32mS\u001b[0m\u001b[32mT\u001b[0m\u001b[32m \u001b[0m\u001b[32mI\u001b[0m\u001b[32mN\u001b[0m\u001b[32mD\u001b[0m\u001b[32mE\u001b[0m\u001b[32mX\u001b[0m\u001b[32m \u001b[0m\u001b[32mO\u001b[0m\u001b[32mU\u001b[0m\u001b[32mT\u001b[0m\u001b[32m \u001b[0m\u001b[32mO\u001b[0m\u001b[32mF\u001b[0m\u001b[32m \u001b[0m\u001b[32mR\u001b[0m\u001b[32mA\u001b[0m\u001b[32mN\u001b[0m\u001b[32mG\u001b[0m\u001b[32mE\u001b[0m\u001b[32m\n",
      "\u001b[0m\u001b[32m\n",
      "\u001b[0m\u001b[32m\n",
      "\u001b[0m\u001b[32mN\u001b[0m\u001b[32mE\u001b[0m\u001b[32mX\u001b[0m\u001b[32mT\u001b[0m\u001b[32m \u001b[0m\u001b[32mL\u001b[0m\u001b[32mI\u001b[0m\u001b[32mN\u001b[0m\u001b[32mE\u001b[0m\u001b[32m:\u001b[0m\u001b[32m\n",
      "\u001b[0m\u001b[32m \u001b[0m\u001b[32m \u001b[0m\u001b[32m \u001b[0m\u001b[32m \u001b[0m\u001b[32m \u001b[0m\u001b[32m \u001b[0m\u001b[32m \u001b[0m\u001b[32m \u001b[0m\u001b[32m \u001b[0m\u001b[32m \u001b[0m\u001b[32m \u001b[0m\u001b[32m \u001b[0m\u001b[32mI\u001b[0m\u001b[32mF\u001b[0m\u001b[32m \u001b[0m\u001b[32mN\u001b[0m\u001b[32mU\u001b[0m\u001b[32mM\u001b[0m\u001b[32mS\u001b[0m\u001b[32m[\u001b[0m\u001b[32mJ\u001b[0m\u001b[32m]\u001b[0m\u001b[32m \u001b[0m\u001b[32m>\u001b[0m\u001b[32m \u001b[0m\u001b[32mN\u001b[0m\u001b[32mU\u001b[0m\u001b[32mM\u001b[0m\u001b[32mS\u001b[0m\u001b[32m[\u001b[0m\u001b[32mJ\u001b[0m\u001b[32m \u001b[0m\u001b[32m+\u001b[0m\u001b[32m \u001b[0m\u001b[32m1\u001b[0m\u001b[32m]\u001b[0m\u001b[32m:\u001b[0m\u001b[32m\n",
      "\u001b[0m\u001b[32m\n",
      "\u001b[0m\u001b[32mL\u001b[0m\u001b[32mO\u001b[0m\u001b[32mC\u001b[0m\u001b[32mA\u001b[0m\u001b[32mL\u001b[0m\u001b[32m \u001b[0m\u001b[32mV\u001b[0m\u001b[32mA\u001b[0m\u001b[32mR\u001b[0m\u001b[32mI\u001b[0m\u001b[32mA\u001b[0m\u001b[32mB\u001b[0m\u001b[32mL\u001b[0m\u001b[32mE\u001b[0m\u001b[32mS\u001b[0m\u001b[32m:\u001b[0m\u001b[32m\n",
      "\u001b[0m\u001b[32m{\u001b[0m\u001b[32m\n"
     ]
    },
    {
     "name": "stdout",
     "output_type": "stream",
     "text": [
      "\u001b[0m\u001b[32m \u001b[0m\u001b[32m \u001b[0m\u001b[32m \u001b[0m\u001b[32m \u001b[0m\u001b[32m'\u001b[0m\u001b[32mN\u001b[0m\u001b[32mU\u001b[0m\u001b[32mM\u001b[0m\u001b[32mS\u001b[0m\u001b[32m'\u001b[0m\u001b[32m:\u001b[0m\u001b[32m \u001b[0m\u001b[32m[\u001b[0m\u001b[32m1\u001b[0m\u001b[32m,\u001b[0m\u001b[32m \u001b[0m\u001b[32m-\u001b[0m\u001b[32m1\u001b[0m\u001b[32m0\u001b[0m\u001b[32m0\u001b[0m\u001b[32m,\u001b[0m\u001b[32m \u001b[0m\u001b[32m3\u001b[0m\u001b[32m,\u001b[0m\u001b[32m \u001b[0m\u001b[32m4\u001b[0m\u001b[32m,\u001b[0m\u001b[32m \u001b[0m\u001b[32m5\u001b[0m\u001b[32m,\u001b[0m\u001b[32m \u001b[0m\u001b[32m5\u001b[0m\u001b[32m,\u001b[0m\u001b[32m \u001b[0m\u001b[32m5\u001b[0m\u001b[32m,\u001b[0m\u001b[32m \u001b[0m\u001b[32m9\u001b[0m\u001b[32m,\u001b[0m\u001b[32m \u001b[0m\u001b[32m2\u001b[0m\u001b[32m2\u001b[0m\u001b[32m,\u001b[0m\u001b[32m \u001b[0m\u001b[32m3\u001b[0m\u001b[32m3\u001b[0m\u001b[32m]\u001b[0m\u001b[32m,\u001b[0m\u001b[32m \u001b[0m\u001b[32m \u001b[0m\u001b[32m \u001b[0m\u001b[32m#\u001b[0m\u001b[32m \u001b[0m\u001b[32mT\u001b[0m\u001b[32mY\u001b[0m\u001b[32mP\u001b[0m\u001b[32mE\u001b[0m\u001b[32m:\u001b[0m\u001b[32m \u001b[0m\u001b[32mL\u001b[0m\u001b[32mI\u001b[0m\u001b[32mS\u001b[0m\u001b[32mT\u001b[0m\u001b[32m\n",
      "\u001b[0m\u001b[32m \u001b[0m\u001b[32m \u001b[0m\u001b[32m \u001b[0m\u001b[32m \u001b[0m\u001b[32m'\u001b[0m\u001b[32mI\u001b[0m\u001b[32m'\u001b[0m\u001b[32m:\u001b[0m\u001b[32m \u001b[0m\u001b[32m0\u001b[0m\u001b[32m,\u001b[0m\u001b[32m \u001b[0m\u001b[32m \u001b[0m\u001b[32m \u001b[0m\u001b[32m#\u001b[0m\u001b[32m \u001b[0m\u001b[32mT\u001b[0m\u001b[32mY\u001b[0m\u001b[32mP\u001b[0m\u001b[32mE\u001b[0m\u001b[32m:\u001b[0m\u001b[32m \u001b[0m\u001b[32mI\u001b[0m\u001b[32mN\u001b[0m\u001b[32mT\u001b[0m\u001b[32m\n",
      "\u001b[0m\u001b[32m \u001b[0m\u001b[32m \u001b[0m\u001b[32m \u001b[0m\u001b[32m \u001b[0m\u001b[32m'\u001b[0m\u001b[32mJ\u001b[0m\u001b[32m'\u001b[0m\u001b[32m:\u001b[0m\u001b[32m \u001b[0m\u001b[32m9\u001b[0m\u001b[32m,\u001b[0m\u001b[32m \u001b[0m\u001b[32m \u001b[0m\u001b[32m \u001b[0m\u001b[32m#\u001b[0m\u001b[32m \u001b[0m\u001b[32mT\u001b[0m\u001b[32mY\u001b[0m\u001b[32mP\u001b[0m\u001b[32mE\u001b[0m\u001b[32m:\u001b[0m\u001b[32m \u001b[0m\u001b[32mI\u001b[0m\u001b[32mN\u001b[0m\u001b[32mT\u001b[0m\u001b[32m\n",
      "\u001b[0m\u001b[32m}\u001b[0m\u001b[32m\n",
      "\u001b[0m\u001b[32m\n",
      "\u001b[0m\u001b[32mG\u001b[0m\u001b[32mL\u001b[0m\u001b[32mO\u001b[0m\u001b[32mB\u001b[0m\u001b[32mA\u001b[0m\u001b[32mL\u001b[0m\u001b[32m \u001b[0m\u001b[32mV\u001b[0m\u001b[32mA\u001b[0m\u001b[32mR\u001b[0m\u001b[32mI\u001b[0m\u001b[32mA\u001b[0m\u001b[32mB\u001b[0m\u001b[32mL\u001b[0m\u001b[32mE\u001b[0m\u001b[32mS\u001b[0m\u001b[32m:\u001b[0m\u001b[32m\n",
      "\u001b[0m\u001b[32m{\u001b[0m\u001b[32m\n",
      "\u001b[0m\u001b[32m \u001b[0m\u001b[32m \u001b[0m\u001b[32m \u001b[0m\u001b[32m \u001b[0m\u001b[32m'\u001b[0m\u001b[32mN\u001b[0m\u001b[32mU\u001b[0m\u001b[32mM\u001b[0m\u001b[32mS\u001b[0m\u001b[32m'\u001b[0m\u001b[32m:\u001b[0m\u001b[32m \u001b[0m\u001b[32m[\u001b[0m\u001b[32m1\u001b[0m\u001b[32m,\u001b[0m\u001b[32m \u001b[0m\u001b[32m-\u001b[0m\u001b[32m1\u001b[0m\u001b[32m0\u001b[0m\u001b[32m0\u001b[0m\u001b[32m,\u001b[0m\u001b[32m \u001b[0m\u001b[32m3\u001b[0m\u001b[32m,\u001b[0m\u001b[32m \u001b[0m\u001b[32m4\u001b[0m\u001b[32m,\u001b[0m\u001b[32m \u001b[0m\u001b[32m5\u001b[0m\u001b[32m,\u001b[0m\u001b[32m \u001b[0m\u001b[32m5\u001b[0m\u001b[32m,\u001b[0m\u001b[32m \u001b[0m\u001b[32m5\u001b[0m\u001b[32m,\u001b[0m\u001b[32m \u001b[0m\u001b[32m9\u001b[0m\u001b[32m,\u001b[0m\u001b[32m \u001b[0m\u001b[32m2\u001b[0m\u001b[32m2\u001b[0m\u001b[32m,\u001b[0m\u001b[32m \u001b[0m\u001b[32m3\u001b[0m\u001b[32m3\u001b[0m\u001b[32m]\u001b[0m\u001b[32m,\u001b[0m\u001b[32m \u001b[0m\u001b[32m \u001b[0m\u001b[32m \u001b[0m\u001b[32m#\u001b[0m\u001b[32m \u001b[0m\u001b[32mT\u001b[0m\u001b[32mY\u001b[0m\u001b[32mP\u001b[0m\u001b[32mE\u001b[0m\u001b[32m:\u001b[0m\u001b[32m \u001b[0m\u001b[32mL\u001b[0m\u001b[32mI\u001b[0m\u001b[32mS\u001b[0m\u001b[32mT\u001b[0m\u001b[32m\n",
      "\u001b[0m\u001b[32m}\u001b[0m"
     ]
    }
   ],
   "source": [
    "res = bubble_sort(nums)\n",
    "print('after')"
   ]
  },
  {
   "cell_type": "code",
   "execution_count": 33,
   "metadata": {
    "ExecuteTime": {
     "end_time": "2023-04-13T04:36:55.586380Z",
     "start_time": "2023-04-13T04:36:55.507169Z"
    }
   },
   "outputs": [],
   "source": [
    "errors.disable()"
   ]
  },
  {
   "cell_type": "code",
   "execution_count": 35,
   "metadata": {
    "ExecuteTime": {
     "end_time": "2023-04-13T04:37:02.948504Z",
     "start_time": "2023-04-13T04:37:02.874537Z"
    }
   },
   "outputs": [
    {
     "ename": "TypeError",
     "evalue": "unsupported operand type(s) for +: 'int' and 'str'",
     "output_type": "error",
     "traceback": [
      "\u001b[0;31m---------------------------------------------------------------------------\u001b[0m",
      "\u001b[0;31mTypeError\u001b[0m                                 Traceback (most recent call last)",
      "\u001b[0;32m<ipython-input-35-ba2e8bbdb292>\u001b[0m in \u001b[0;36m<module>\u001b[0;34m\u001b[0m\n\u001b[0;32m----> 1\u001b[0;31m \u001b[0;36m3\u001b[0m \u001b[0;34m+\u001b[0m \u001b[0;34m'z'\u001b[0m\u001b[0;34m\u001b[0m\u001b[0;34m\u001b[0m\u001b[0m\n\u001b[0m",
      "\u001b[0;31mTypeError\u001b[0m: unsupported operand type(s) for +: 'int' and 'str'"
     ]
    }
   ],
   "source": [
    "3 + 'z'"
   ]
  },
  {
   "cell_type": "code",
   "execution_count": 40,
   "metadata": {
    "ExecuteTime": {
     "end_time": "2023-04-13T04:46:14.719953Z",
     "start_time": "2023-04-13T04:46:14.457396Z"
    }
   },
   "outputs": [],
   "source": [
    "errors.enable(chat_class=DummyChatModel)"
   ]
  },
  {
   "cell_type": "code",
   "execution_count": 41,
   "metadata": {
    "ExecuteTime": {
     "end_time": "2023-04-13T04:46:42.566334Z",
     "start_time": "2023-04-13T04:46:14.877925Z"
    }
   },
   "outputs": [
    {
     "name": "stdout",
     "output_type": "stream",
     "text": [
      "Traceback (most recent call last):\n",
      "  File \"/Users/hmamin/anaconda3/envs/py38/lib/python3.8/site-packages/IPython/core/interactiveshell.py\", line 3441, in run_code\n",
      "    exec(code_obj, self.user_global_ns, self.user_ns)\n",
      "  File \"<ipython-input-41-0b73b9fcb66d>\", line 1, in <module>\n",
      "    res = bubble_sort(nums)\n",
      "  File \"<ipython-input-25-3f12a9f434a7>\", line 4, in bubble_sort\n",
      "    if nums[j] > nums[j + 1]:\n",
      "IndexError: list index out of range\n",
      "\n",
      "Explain error message? [y/n]\n",
      "y\n",
      "> <ipython-input-25-3f12a9f434a7>(4)bubble_sort()\n",
      "-> if nums[j] > nums[j + 1]:\n"
     ]
    },
    {
     "name": "stdout",
     "output_type": "stream",
     "text": [
      "\u001b[31m[Duck] \u001b[0m\u001b[31mT\u001b[0m\u001b[31mH\u001b[0m\u001b[31mI\u001b[0m\u001b[31mS\u001b[0m\u001b[31m \u001b[0m\u001b[31mC\u001b[0m\u001b[31mO\u001b[0m\u001b[31mD\u001b[0m\u001b[31mE\u001b[0m\u001b[31m \u001b[0m\u001b[31mS\u001b[0m\u001b[31mN\u001b[0m\u001b[31mI\u001b[0m\u001b[31mP\u001b[0m\u001b[31mP\u001b[0m\u001b[31mE\u001b[0m\u001b[31mT\u001b[0m\u001b[31m \u001b[0m\u001b[31mT\u001b[0m\u001b[31mH\u001b[0m\u001b[31mR\u001b[0m\u001b[31mO\u001b[0m\u001b[31mW\u001b[0m\u001b[31mS\u001b[0m\u001b[31m \u001b[0m\u001b[31mA\u001b[0m\u001b[31mN\u001b[0m\u001b[31m \u001b[0m\u001b[31mE\u001b[0m\u001b[31mR\u001b[0m\u001b[31mR\u001b[0m\u001b[31mO\u001b[0m\u001b[31mR\u001b[0m\u001b[31m.\u001b[0m\u001b[31m \u001b[0m\u001b[31mH\u001b[0m\u001b[31mE\u001b[0m\u001b[31mL\u001b[0m\u001b[31mP\u001b[0m\u001b[31m \u001b[0m\u001b[31mM\u001b[0m\u001b[31mE\u001b[0m\u001b[31m \u001b[0m\u001b[31mF\u001b[0m\u001b[31mI\u001b[0m\u001b[31mX\u001b[0m\u001b[31m \u001b[0m\u001b[31mI\u001b[0m\u001b[31mT\u001b[0m\u001b[31m.\u001b[0m\u001b[31m \u001b[0m\u001b[31mF\u001b[0m\u001b[31mI\u001b[0m\u001b[31mR\u001b[0m\u001b[31mS\u001b[0m\u001b[31mT\u001b[0m\u001b[31m \u001b[0m\u001b[31mE\u001b[0m\u001b[31mX\u001b[0m\u001b[31mA\u001b[0m\u001b[31mM\u001b[0m\u001b[31mI\u001b[0m\u001b[31mN\u001b[0m\u001b[31mE\u001b[0m\u001b[31m \u001b[0m\u001b[31mT\u001b[0m\u001b[31mH\u001b[0m\u001b[31mE\u001b[0m\u001b[31m \u001b[0m\u001b[31mS\u001b[0m\u001b[31mN\u001b[0m\u001b[31mI\u001b[0m\u001b[31mP\u001b[0m\u001b[31mP\u001b[0m\u001b[31mE\u001b[0m\u001b[31mT\u001b[0m\u001b[31m \u001b[0m\u001b[31mO\u001b[0m\u001b[31mF\u001b[0m\u001b[31m \u001b[0m\u001b[31mC\u001b[0m\u001b[31mO\u001b[0m\u001b[31mD\u001b[0m\u001b[31mE\u001b[0m\u001b[31m \u001b[0m\u001b[31mT\u001b[0m\u001b[31mH\u001b[0m\u001b[31mA\u001b[0m\u001b[31mT\u001b[0m\u001b[31m \u001b[0m\u001b[31mC\u001b[0m\u001b[31mA\u001b[0m\u001b[31mU\u001b[0m\u001b[31mS\u001b[0m\u001b[31mE\u001b[0m\u001b[31mS\u001b[0m\u001b[31m \u001b[0m\u001b[31mT\u001b[0m\u001b[31mH\u001b[0m\u001b[31mE\u001b[0m\u001b[31m \u001b[0m\u001b[31mI\u001b[0m\u001b[31mS\u001b[0m\u001b[31mS\u001b[0m\u001b[31mU\u001b[0m\u001b[31mE\u001b[0m\u001b[31m \u001b[0m\u001b[31mA\u001b[0m\u001b[31mN\u001b[0m\u001b[31mD\u001b[0m\u001b[31m \u001b[0m\u001b[31mL\u001b[0m\u001b[31mO\u001b[0m\u001b[31mO\u001b[0m\u001b[31mK\u001b[0m\u001b[31m \u001b[0m\u001b[31mA\u001b[0m\u001b[31mT\u001b[0m\u001b[31m \u001b[0m\u001b[31mT\u001b[0m\u001b[31mH\u001b[0m\u001b[31mE\u001b[0m\u001b[31m \u001b[0m\u001b[31mV\u001b[0m\u001b[31mA\u001b[0m\u001b[31mL\u001b[0m\u001b[31mU\u001b[0m\u001b[31mE\u001b[0m\u001b[31mS\u001b[0m\u001b[31m \u001b[0m\u001b[31mO\u001b[0m\u001b[31mF\u001b[0m\u001b[31m \u001b[0m\u001b[31mT\u001b[0m\u001b[31mH\u001b[0m\u001b[31mE\u001b[0m\u001b[31m \u001b[0m\u001b[31mL\u001b[0m\u001b[31mO\u001b[0m\u001b[31mC\u001b[0m\u001b[31mA\u001b[0m\u001b[31mL\u001b[0m\u001b[31m \u001b[0m\u001b[31mA\u001b[0m\u001b[31mN\u001b[0m\u001b[31mD\u001b[0m\u001b[31m \u001b[0m\u001b[31mG\u001b[0m\u001b[31mL\u001b[0m\u001b[31mO\u001b[0m\u001b[31mB\u001b[0m\u001b[31mA\u001b[0m\u001b[31mL\u001b[0m\u001b[31m \u001b[0m\u001b[31mV\u001b[0m\u001b[31mA\u001b[0m\u001b[31mR\u001b[0m\u001b[31mI\u001b[0m\u001b[31mA\u001b[0m\u001b[31mB\u001b[0m\u001b[31mL\u001b[0m\u001b[31mE\u001b[0m\u001b[31mS\u001b[0m\u001b[31m.\u001b[0m\u001b[31m \u001b[0m\u001b[31mT\u001b[0m\u001b[31mH\u001b[0m\u001b[31mE\u001b[0m\u001b[31mN\u001b[0m\u001b[31m \u001b[0m\u001b[31mP\u001b[0m\u001b[31mR\u001b[0m\u001b[31mO\u001b[0m\u001b[31mV\u001b[0m\u001b[31mI\u001b[0m\u001b[31mD\u001b[0m\u001b[31mE\u001b[0m\u001b[31m \u001b[0m\u001b[31mA\u001b[0m\u001b[31m \u001b[0m\u001b[31mR\u001b[0m\u001b[31mE\u001b[0m\u001b[31mS\u001b[0m\u001b[31mP\u001b[0m\u001b[31mO\u001b[0m\u001b[31mN\u001b[0m\u001b[31mS\u001b[0m\u001b[31mE\u001b[0m\u001b[31m \u001b[0m\u001b[31mW\u001b[0m\u001b[31mI\u001b[0m\u001b[31mT\u001b[0m\u001b[31mH\u001b[0m\u001b[31m \u001b[0m\u001b[31mE\u001b[0m\u001b[31mX\u001b[0m\u001b[31mA\u001b[0m\u001b[31mC\u001b[0m\u001b[31mT\u001b[0m\u001b[31mL\u001b[0m\u001b[31mY\u001b[0m\u001b[31m \u001b[0m\u001b[31mT\u001b[0m\u001b[31mW\u001b[0m\u001b[31mO\u001b[0m\u001b[31m \u001b[0m\u001b[31mS\u001b[0m\u001b[31mE\u001b[0m\u001b[31mC\u001b[0m\u001b[31mT\u001b[0m\u001b[31mI\u001b[0m\u001b[31mO\u001b[0m\u001b[31mN\u001b[0m\u001b[31mS\u001b[0m\u001b[31m,\u001b[0m\u001b[31m \u001b[0m\u001b[31mS\u001b[0m\u001b[31mE\u001b[0m\u001b[31mP\u001b[0m\u001b[31mA\u001b[0m\u001b[31mR\u001b[0m\u001b[31mA\u001b[0m\u001b[31mT\u001b[0m\u001b[31mE\u001b[0m\u001b[31mD\u001b[0m\u001b[31m \u001b[0m\u001b[31mB\u001b[0m\u001b[31mY\u001b[0m\u001b[31m \u001b[0m\u001b[31mA\u001b[0m\u001b[31mN\u001b[0m\u001b[31m \u001b[0m\u001b[31mE\u001b[0m\u001b[31mM\u001b[0m\u001b[31mP\u001b[0m\u001b[31mT\u001b[0m\u001b[31mY\u001b[0m\u001b[31m \u001b[0m\u001b[31mL\u001b[0m\u001b[31mI\u001b[0m\u001b[31mN\u001b[0m\u001b[31mE\u001b[0m\u001b[31m.\u001b[0m\u001b[31m \u001b[0m\u001b[31m(\u001b[0m\u001b[31mT\u001b[0m\u001b[31mH\u001b[0m\u001b[31mE\u001b[0m\u001b[31mY\u001b[0m\u001b[31m \u001b[0m\u001b[31mS\u001b[0m\u001b[31mH\u001b[0m\u001b[31mO\u001b[0m\u001b[31mU\u001b[0m\u001b[31mL\u001b[0m\u001b[31mD\u001b[0m\u001b[31m \u001b[0m\u001b[31mA\u001b[0m\u001b[31mP\u001b[0m\u001b[31mP\u001b[0m\u001b[31mE\u001b[0m\u001b[31mA\u001b[0m\u001b[31mR\u001b[0m\u001b[31m \u001b[0m\u001b[31mT\u001b[0m\u001b[31mO\u001b[0m\u001b[31m \u001b[0m\u001b[31mT\u001b[0m\u001b[31mH\u001b[0m\u001b[31mE\u001b[0m\u001b[31m \u001b[0m\u001b[31mU\u001b[0m\u001b[31mS\u001b[0m\u001b[31mE\u001b[0m\u001b[31mR\u001b[0m\u001b[31m \u001b[0m\u001b[31mA\u001b[0m\u001b[31mS\u001b[0m\u001b[31m \u001b[0m\u001b[31mA\u001b[0m\u001b[31m \u001b[0m\u001b[31mS\u001b[0m\u001b[31mI\u001b[0m\u001b[31mN\u001b[0m\u001b[31mG\u001b[0m\u001b[31mL\u001b[0m\u001b[31mE\u001b[0m\u001b[31m \u001b[0m\u001b[31mS\u001b[0m\u001b[31mE\u001b[0m\u001b[31mC\u001b[0m\u001b[31mT\u001b[0m\u001b[31mI\u001b[0m\u001b[31mO\u001b[0m\u001b[31mN\u001b[0m\u001b[31m,\u001b[0m\u001b[31m \u001b[0m\u001b[31mH\u001b[0m\u001b[31mO\u001b[0m\u001b[31mW\u001b[0m\u001b[31mE\u001b[0m\u001b[31mV\u001b[0m\u001b[31mE\u001b[0m\u001b[31mR\u001b[0m\u001b[31m \u001b[0m\u001b[31m-\u001b[0m\u001b[31m \u001b[0m\u001b[31mD\u001b[0m\u001b[31mO\u001b[0m\u001b[31m \u001b[0m\u001b[31mN\u001b[0m\u001b[31mO\u001b[0m\u001b[31mT\u001b[0m\u001b[31m \u001b[0m\u001b[31mI\u001b[0m\u001b[31mN\u001b[0m\u001b[31mC\u001b[0m\u001b[31mL\u001b[0m\u001b[31mU\u001b[0m\u001b[31mD\u001b[0m\u001b[31mE\u001b[0m\u001b[31m \u001b[0m\u001b[31mS\u001b[0m\u001b[31mE\u001b[0m\u001b[31mC\u001b[0m\u001b[31mT\u001b[0m\u001b[31mI\u001b[0m\u001b[31mO\u001b[0m\u001b[31mN\u001b[0m\u001b[31m \u001b[0m\u001b[31mT\u001b[0m\u001b[31mI\u001b[0m\u001b[31mT\u001b[0m\u001b[31mL\u001b[0m\u001b[31mE\u001b[0m\u001b[31mS\u001b[0m\u001b[31m \u001b[0m\u001b[31mO\u001b[0m\u001b[31mF\u001b[0m\u001b[31m \u001b[0m\u001b[31mA\u001b[0m\u001b[31mN\u001b[0m\u001b[31mY\u001b[0m\u001b[31m \u001b[0m\u001b[31mK\u001b[0m\u001b[31mI\u001b[0m\u001b[31mN\u001b[0m\u001b[31mD\u001b[0m\u001b[31m.\u001b[0m\u001b[31m)\u001b[0m\u001b[31m \u001b[0m\u001b[31mI\u001b[0m\u001b[31mN\u001b[0m\u001b[31m \u001b[0m\u001b[31mS\u001b[0m\u001b[31mE\u001b[0m\u001b[31mC\u001b[0m\u001b[31mT\u001b[0m\u001b[31mI\u001b[0m\u001b[31mO\u001b[0m\u001b[31mN\u001b[0m\u001b[31m \u001b[0m\u001b[31m1\u001b[0m\u001b[31m,\u001b[0m\u001b[31m \u001b[0m\u001b[31mU\u001b[0m\u001b[31mS\u001b[0m\u001b[31mE\u001b[0m\u001b[31m \u001b[0m\u001b[31mP\u001b[0m\u001b[31mL\u001b[0m\u001b[31mA\u001b[0m\u001b[31mI\u001b[0m\u001b[31mN\u001b[0m\u001b[31m \u001b[0m\u001b[31mE\u001b[0m\u001b[31mN\u001b[0m\u001b[31mG\u001b[0m\u001b[31mL\u001b[0m\u001b[31mI\u001b[0m\u001b[31mS\u001b[0m\u001b[31mH\u001b[0m\u001b[31m \u001b[0m\u001b[31mT\u001b[0m\u001b[31mO\u001b[0m\u001b[31m \u001b[0m\u001b[31mE\u001b[0m\u001b[31mX\u001b[0m\u001b[31mP\u001b[0m\u001b[31mL\u001b[0m\u001b[31mA\u001b[0m\u001b[31mI\u001b[0m\u001b[31mN\u001b[0m\u001b[31m \u001b[0m\u001b[31mW\u001b[0m\u001b[31mH\u001b[0m\u001b[31mA\u001b[0m\u001b[31mT\u001b[0m\u001b[31m \u001b[0m\u001b[31mT\u001b[0m\u001b[31mH\u001b[0m\u001b[31mE\u001b[0m\u001b[31m \u001b[0m\u001b[31mP\u001b[0m\u001b[31mR\u001b[0m\u001b[31mO\u001b[0m\u001b[31mB\u001b[0m\u001b[31mL\u001b[0m\u001b[31mE\u001b[0m\u001b[31mM\u001b[0m\u001b[31m \u001b[0m\u001b[31mI\u001b[0m\u001b[31mS\u001b[0m\u001b[31m \u001b[0m\u001b[31mA\u001b[0m\u001b[31mN\u001b[0m\u001b[31mD\u001b[0m\u001b[31m \u001b[0m\u001b[31mH\u001b[0m\u001b[31mO\u001b[0m\u001b[31mW\u001b[0m\u001b[31m \u001b[0m\u001b[31mT\u001b[0m\u001b[31mO\u001b[0m\u001b[31m \u001b[0m\u001b[31mF\u001b[0m\u001b[31mI\u001b[0m\u001b[31mX\u001b[0m\u001b[31m \u001b[0m\u001b[31mI\u001b[0m\u001b[31mT\u001b[0m\u001b[31m \u001b[0m\u001b[31m(\u001b[0m\u001b[31mI\u001b[0m\u001b[31mF\u001b[0m\u001b[31m \u001b[0m\u001b[31mY\u001b[0m\u001b[31mO\u001b[0m\u001b[31mU\u001b[0m\u001b[31m \u001b[0m\u001b[31mC\u001b[0m\u001b[31mA\u001b[0m\u001b[31mN\u001b[0m\u001b[31m'\u001b[0m\u001b[31mT\u001b[0m\u001b[31m \u001b[0m\u001b[31mI\u001b[0m\u001b[31mD\u001b[0m\u001b[31mE\u001b[0m\u001b[31mN\u001b[0m\u001b[31mT\u001b[0m\u001b[31mI\u001b[0m\u001b[31mF\u001b[0m\u001b[31mY\u001b[0m\u001b[31m \u001b[0m\u001b[31mT\u001b[0m\u001b[31mH\u001b[0m\u001b[31mE\u001b[0m\u001b[31m \u001b[0m\u001b[31mP\u001b[0m\u001b[31mR\u001b[0m\u001b[31mO\u001b[0m\u001b[31mB\u001b[0m\u001b[31mL\u001b[0m\u001b[31mE\u001b[0m\u001b[31mM\u001b[0m\u001b[31m,\u001b[0m\u001b[31m \u001b[0m\u001b[31mS\u001b[0m\u001b[31mE\u001b[0m\u001b[31mC\u001b[0m\u001b[31mT\u001b[0m\u001b[31mI\u001b[0m\u001b[31mO\u001b[0m\u001b[31mN\u001b[0m\u001b[31m \u001b[0m\u001b[31m1\u001b[0m\u001b[31m \u001b[0m\u001b[31mS\u001b[0m\u001b[31mH\u001b[0m\u001b[31mO\u001b[0m\u001b[31mU\u001b[0m\u001b[31mL\u001b[0m\u001b[31mD\u001b[0m\u001b[31m \u001b[0m\u001b[31mI\u001b[0m\u001b[31mN\u001b[0m\u001b[31mS\u001b[0m\u001b[31mT\u001b[0m\u001b[31mE\u001b[0m\u001b[31mA\u001b[0m\u001b[31mD\u001b[0m\u001b[31m \u001b[0m\u001b[31mL\u001b[0m\u001b[31mI\u001b[0m\u001b[31mS\u001b[0m\u001b[31mT\u001b[0m\u001b[31m \u001b[0m\u001b[31mA\u001b[0m\u001b[31m \u001b[0m\u001b[31mF\u001b[0m\u001b[31mE\u001b[0m\u001b[31mW\u001b[0m\u001b[31m \u001b[0m\u001b[31mP\u001b[0m\u001b[31mO\u001b[0m\u001b[31mS\u001b[0m\u001b[31mS\u001b[0m\u001b[31mI\u001b[0m\u001b[31mB\u001b[0m\u001b[31mL\u001b[0m\u001b[31mE\u001b[0m\u001b[31m \u001b[0m\u001b[31mC\u001b[0m\u001b[31mA\u001b[0m\u001b[31mU\u001b[0m\u001b[31mS\u001b[0m\u001b[31mE\u001b[0m\u001b[31mS\u001b[0m\u001b[31m \u001b[0m\u001b[31mO\u001b[0m\u001b[31mR\u001b[0m\u001b[31m \u001b[0m\u001b[31mT\u001b[0m\u001b[31mH\u001b[0m\u001b[31mI\u001b[0m\u001b[31mN\u001b[0m\u001b[31mG\u001b[0m\u001b[31mS\u001b[0m\u001b[31m \u001b[0m\u001b[31mI\u001b[0m\u001b[31m \u001b[0m\u001b[31mC\u001b[0m\u001b[31mO\u001b[0m\u001b[31mU\u001b[0m\u001b[31mL\u001b[0m\u001b[31mD\u001b[0m\u001b[31m \u001b[0m\u001b[31mT\u001b[0m\u001b[31mR\u001b[0m\u001b[31mY\u001b[0m\u001b[31m \u001b[0m\u001b[31mI\u001b[0m\u001b[31mN\u001b[0m\u001b[31m \u001b[0m\u001b[31mO\u001b[0m\u001b[31mR\u001b[0m\u001b[31mD\u001b[0m\u001b[31mE\u001b[0m\u001b[31mR\u001b[0m\u001b[31m \u001b[0m\u001b[31mT\u001b[0m\u001b[31mO\u001b[0m\u001b[31m \u001b[0m\u001b[31mI\u001b[0m\u001b[31mD\u001b[0m\u001b[31mE\u001b[0m\u001b[31mN\u001b[0m\u001b[31mT\u001b[0m\u001b[31mI\u001b[0m\u001b[31mF\u001b[0m\u001b[31mY\u001b[0m\u001b[31m \u001b[0m\u001b[31mT\u001b[0m\u001b[31mH\u001b[0m\u001b[31mE\u001b[0m\u001b[31m \u001b[0m\u001b[31mI\u001b[0m\u001b[31mS\u001b[0m\u001b[31mS\u001b[0m\u001b[31mU\u001b[0m\u001b[31mE\u001b[0m\u001b[31m)\u001b[0m\u001b[31m.\u001b[0m\u001b[31m \u001b[0m\u001b[31mI\u001b[0m\u001b[31mN\u001b[0m\u001b[31m \u001b[0m\u001b[31mS\u001b[0m\u001b[31mE\u001b[0m\u001b[31mC\u001b[0m\u001b[31mT\u001b[0m\u001b[31mI\u001b[0m\u001b[31mO\u001b[0m\u001b[31mN\u001b[0m\u001b[31m \u001b[0m\u001b[31m2\u001b[0m\u001b[31m,\u001b[0m\u001b[31m \u001b[0m\u001b[31mW\u001b[0m\u001b[31mR\u001b[0m\u001b[31mI\u001b[0m\u001b[31mT\u001b[0m\u001b[31mE\u001b[0m\u001b[31m \u001b[0m\u001b[31mA\u001b[0m\u001b[31m \u001b[0m\u001b[31mC\u001b[0m\u001b[31mO\u001b[0m\u001b[31mR\u001b[0m\u001b[31mR\u001b[0m\u001b[31mE\u001b[0m\u001b[31mC\u001b[0m\u001b[31mT\u001b[0m\u001b[31mE\u001b[0m\u001b[31mD\u001b[0m\u001b[31m \u001b[0m\u001b[31mV\u001b[0m\u001b[31mE\u001b[0m\u001b[31mR\u001b[0m\u001b[31mS\u001b[0m\u001b[31mI\u001b[0m\u001b[31mO\u001b[0m\u001b[31mN\u001b[0m\u001b[31m \u001b[0m\u001b[31mO\u001b[0m\u001b[31mF\u001b[0m\u001b[31m \u001b[0m\u001b[31mT\u001b[0m\u001b[31mH\u001b[0m\u001b[31mE\u001b[0m\u001b[31m \u001b[0m\u001b[31mI\u001b[0m\u001b[31mN\u001b[0m\u001b[31mP\u001b[0m\u001b[31mU\u001b[0m\u001b[31mT\u001b[0m\u001b[31m \u001b[0m\u001b[31mC\u001b[0m\u001b[31mO\u001b[0m\u001b[31mD\u001b[0m\u001b[31mE\u001b[0m\u001b[31m \u001b[0m\u001b[31mS\u001b[0m\u001b[31mN\u001b[0m\u001b[31mI\u001b[0m\u001b[31mP\u001b[0m\u001b[31mP\u001b[0m\u001b[31mE\u001b[0m\u001b[31mT\u001b[0m\u001b[31m \u001b[0m\u001b[31m(\u001b[0m\u001b[31mI\u001b[0m\u001b[31mF\u001b[0m\u001b[31m \u001b[0m\u001b[31mY\u001b[0m\u001b[31mO\u001b[0m\u001b[31mU\u001b[0m\u001b[31m \u001b[0m\u001b[31mD\u001b[0m\u001b[31mO\u001b[0m\u001b[31mN\u001b[0m\u001b[31m'\u001b[0m\u001b[31mT\u001b[0m\u001b[31m \u001b[0m\u001b[31mK\u001b[0m\u001b[31mN\u001b[0m\u001b[31mO\u001b[0m\u001b[31mW\u001b[0m\u001b[31m,\u001b[0m\u001b[31m \u001b[0m\u001b[31mS\u001b[0m\u001b[31mE\u001b[0m\u001b[31mC\u001b[0m\u001b[31mT\u001b[0m\u001b[31mI\u001b[0m\u001b[31mO\u001b[0m\u001b[31mN\u001b[0m\u001b[31m \u001b[0m\u001b[31m2\u001b[0m\u001b[31m \u001b[0m\u001b[31mS\u001b[0m\u001b[31mH\u001b[0m\u001b[31mO\u001b[0m\u001b[31mU\u001b[0m\u001b[31mL\u001b[0m\u001b[31mD\u001b[0m\u001b[31m \u001b[0m\u001b[31mB\u001b[0m\u001b[31mE\u001b[0m\u001b[31m \u001b[0m\u001b[31mE\u001b[0m\u001b[31mM\u001b[0m\u001b[31mP\u001b[0m\u001b[31mT\u001b[0m\u001b[31mY\u001b[0m\u001b[31m)\u001b[0m\u001b[31m.\u001b[0m\u001b[31m \u001b[0m\u001b[31mS\u001b[0m\u001b[31mE\u001b[0m\u001b[31mC\u001b[0m\u001b[31mT\u001b[0m\u001b[31mI\u001b[0m\u001b[31mO\u001b[0m\u001b[31mN\u001b[0m\u001b[31m \u001b[0m\u001b[31m2\u001b[0m\u001b[31m \u001b[0m\u001b[31mM\u001b[0m\u001b[31mU\u001b[0m\u001b[31mS\u001b[0m\u001b[31mT\u001b[0m\u001b[31m \u001b[0m\u001b[31mC\u001b[0m\u001b[31mO\u001b[0m\u001b[31mN\u001b[0m\u001b[31mT\u001b[0m\u001b[31mA\u001b[0m\u001b[31mI\u001b[0m\u001b[31mN\u001b[0m\u001b[31m \u001b[0m\u001b[31mO\u001b[0m\u001b[31mN\u001b[0m\u001b[31mL\u001b[0m\u001b[31mY\u001b[0m\u001b[31m \u001b[0m\u001b[31mP\u001b[0m\u001b[31mY\u001b[0m\u001b[31mT\u001b[0m\u001b[31mH\u001b[0m\u001b[31mO\u001b[0m\u001b[31mN\u001b[0m\u001b[31m \u001b[0m\u001b[31mC\u001b[0m\u001b[31mO\u001b[0m\u001b[31mD\u001b[0m\u001b[31mE\u001b[0m\u001b[31m \u001b[0m\u001b[31m-\u001b[0m\u001b[31m \u001b[0m\u001b[31mT\u001b[0m\u001b[31mH\u001b[0m\u001b[31mE\u001b[0m\u001b[31mR\u001b[0m\u001b[31mE\u001b[0m\u001b[31m \u001b[0m\u001b[31mM\u001b[0m\u001b[31mU\u001b[0m\u001b[31mS\u001b[0m\u001b[31mT\u001b[0m\u001b[31m \u001b[0m\u001b[31mN\u001b[0m\u001b[31mO\u001b[0m\u001b[31mT\u001b[0m\u001b[31m \u001b[0m\u001b[31mB\u001b[0m\u001b[31mE\u001b[0m\u001b[31m \u001b[0m\u001b[31mA\u001b[0m\u001b[31mN\u001b[0m\u001b[31mY\u001b[0m\u001b[31m \u001b[0m\u001b[31mE\u001b[0m\u001b[31mN\u001b[0m\u001b[31mG\u001b[0m\u001b[31mL\u001b[0m\u001b[31mI\u001b[0m\u001b[31mS\u001b[0m\u001b[31mH\u001b[0m\u001b[31m \u001b[0m\u001b[31mE\u001b[0m\u001b[31mX\u001b[0m\u001b[31mP\u001b[0m\u001b[31mL\u001b[0m\u001b[31mA\u001b[0m\u001b[31mN\u001b[0m\u001b[31mA\u001b[0m\u001b[31mT\u001b[0m\u001b[31mI\u001b[0m\u001b[31mO\u001b[0m\u001b[31mN\u001b[0m\u001b[31m \u001b[0m\u001b[31mO\u001b[0m\u001b[31mU\u001b[0m\u001b[31mT\u001b[0m\u001b[31mS\u001b[0m\u001b[31mI\u001b[0m\u001b[31mD\u001b[0m\u001b[31mE\u001b[0m\u001b[31m \u001b[0m\u001b[31mO\u001b[0m\u001b[31mF\u001b[0m\u001b[31m \u001b[0m\u001b[31mC\u001b[0m\u001b[31mO\u001b[0m\u001b[31mD\u001b[0m\u001b[31mE\u001b[0m\u001b[31m \u001b[0m\u001b[31mC\u001b[0m\u001b[31mO\u001b[0m\u001b[31mM\u001b[0m\u001b[31mM\u001b[0m\u001b[31mE\u001b[0m\u001b[31mN\u001b[0m\u001b[31mT\u001b[0m\u001b[31mS\u001b[0m\u001b[31m \u001b[0m\u001b[31mO\u001b[0m\u001b[31mR\u001b[0m\u001b[31m \u001b[0m\u001b[31mD\u001b[0m\u001b[31mO\u001b[0m\u001b[31mC\u001b[0m\u001b[31mS\u001b[0m\u001b[31mT\u001b[0m\u001b[31mR\u001b[0m\u001b[31mI\u001b[0m\u001b[31mN\u001b[0m\u001b[31mG\u001b[0m\u001b[31mS\u001b[0m\u001b[31m.\u001b[0m\u001b[31m \u001b[0m\u001b[31mS\u001b[0m\u001b[31mE\u001b[0m\u001b[31mC\u001b[0m\u001b[31mT\u001b[0m\u001b[31mI\u001b[0m\u001b[31mO\u001b[0m\u001b[31mN\u001b[0m\u001b[31m \u001b[0m\u001b[31m2\u001b[0m\u001b[31m \u001b[0m\u001b[31mM\u001b[0m\u001b[31mU\u001b[0m\u001b[31mS\u001b[0m\u001b[31mT\u001b[0m\u001b[31m \u001b[0m\u001b[31mB\u001b[0m\u001b[31mE\u001b[0m\u001b[31m \u001b[0m\u001b[31mE\u001b[0m\u001b[31mN\u001b[0m\u001b[31mT\u001b[0m\u001b[31mI\u001b[0m\u001b[31mR\u001b[0m\u001b[31mE\u001b[0m\u001b[31mL\u001b[0m\u001b[31mY\u001b[0m\u001b[31m \u001b[0m\u001b[31mE\u001b[0m\u001b[31mN\u001b[0m\u001b[31mC\u001b[0m\u001b[31mL\u001b[0m\u001b[31mO\u001b[0m\u001b[31mS\u001b[0m\u001b[31mE\u001b[0m\u001b[31mD\u001b[0m\u001b[31m \u001b[0m\u001b[31mI\u001b[0m\u001b[31mN\u001b[0m\u001b[31m \u001b[0m\u001b[31mO\u001b[0m\u001b[31mN\u001b[0m\u001b[31mE\u001b[0m\u001b[31m \u001b[0m\u001b[31mP\u001b[0m\u001b[31mA\u001b[0m\u001b[31mI\u001b[0m\u001b[31mR\u001b[0m\u001b[31m \u001b[0m\u001b[31mO\u001b[0m\u001b[31mF\u001b[0m\u001b[31m \u001b[0m\u001b[31mT\u001b[0m\u001b[31mR\u001b[0m\u001b[31mI\u001b[0m\u001b[31mP\u001b[0m\u001b[31mL\u001b[0m\u001b[31mE\u001b[0m\u001b[31m \u001b[0m\u001b[31mB\u001b[0m\u001b[31mA\u001b[0m\u001b[31mC\u001b[0m\u001b[31mK\u001b[0m\u001b[31mT\u001b[0m\u001b[31mI\u001b[0m\u001b[31mC\u001b[0m\u001b[31mK\u001b[0m\u001b[31mS\u001b[0m\u001b[31m \u001b[0m\u001b[31m(\u001b[0m\u001b[31m\"\u001b[0m\u001b[31m`\u001b[0m\u001b[31m`\u001b[0m\u001b[31m`\u001b[0m\u001b[31m\"\u001b[0m\u001b[31m)\u001b[0m\u001b[31m.\u001b[0m\u001b[31m\n",
      "\u001b[0m\u001b[31m\n",
      "\u001b[0m\u001b[31mC\u001b[0m\u001b[31mU\u001b[0m\u001b[31mR\u001b[0m\u001b[31mR\u001b[0m\u001b[31mE\u001b[0m\u001b[31mN\u001b[0m\u001b[31mT\u001b[0m\u001b[31m \u001b[0m\u001b[31mC\u001b[0m\u001b[31mO\u001b[0m\u001b[31mD\u001b[0m\u001b[31mE\u001b[0m\u001b[31m \u001b[0m\u001b[31mS\u001b[0m\u001b[31mN\u001b[0m\u001b[31mI\u001b[0m\u001b[31mP\u001b[0m\u001b[31mP\u001b[0m\u001b[31mE\u001b[0m\u001b[31mT\u001b[0m\u001b[31m:\u001b[0m\u001b[31m\n",
      "\u001b[0m\u001b[31mD\u001b[0m\u001b[31mE\u001b[0m\u001b[31mF\u001b[0m\u001b[31m \u001b[0m\u001b[31mB\u001b[0m\u001b[31mU\u001b[0m\u001b[31mB\u001b[0m\u001b[31mB\u001b[0m\u001b[31mL\u001b[0m\u001b[31mE\u001b[0m\u001b[31m_\u001b[0m\u001b[31mS\u001b[0m\u001b[31mO\u001b[0m\u001b[31mR\u001b[0m\u001b[31mT\u001b[0m\u001b[31m(\u001b[0m\u001b[31mN\u001b[0m\u001b[31mU\u001b[0m\u001b[31mM\u001b[0m\u001b[31mS\u001b[0m\u001b[31m)\u001b[0m\u001b[31m:\u001b[0m\u001b[31m\n",
      "\u001b[0m\u001b[31m \u001b[0m\u001b[31m \u001b[0m\u001b[31m \u001b[0m\u001b[31m \u001b[0m\u001b[31mF\u001b[0m\u001b[31mO\u001b[0m\u001b[31mR\u001b[0m\u001b[31m \u001b[0m\u001b[31mI\u001b[0m\u001b[31m \u001b[0m\u001b[31mI\u001b[0m\u001b[31mN\u001b[0m\u001b[31m \u001b[0m\u001b[31mR\u001b[0m\u001b[31mA\u001b[0m\u001b[31mN\u001b[0m\u001b[31mG\u001b[0m\u001b[31mE\u001b[0m\u001b[31m(\u001b[0m\u001b[31mL\u001b[0m\u001b[31mE\u001b[0m\u001b[31mN\u001b[0m\u001b[31m(\u001b[0m\u001b[31mN\u001b[0m\u001b[31mU\u001b[0m\u001b[31mM\u001b[0m\u001b[31mS\u001b[0m\u001b[31m)\u001b[0m\u001b[31m)\u001b[0m\u001b[31m:\u001b[0m\u001b[31m\n",
      "\u001b[0m\u001b[31m \u001b[0m\u001b[31m \u001b[0m\u001b[31m \u001b[0m\u001b[31m \u001b[0m\u001b[31m \u001b[0m\u001b[31m \u001b[0m\u001b[31m \u001b[0m\u001b[31m \u001b[0m\u001b[31mF\u001b[0m\u001b[31mO\u001b[0m\u001b[31mR\u001b[0m\u001b[31m \u001b[0m\u001b[31mJ\u001b[0m\u001b[31m \u001b[0m\u001b[31mI\u001b[0m\u001b[31mN\u001b[0m\u001b[31m \u001b[0m\u001b[31mR\u001b[0m\u001b[31mA\u001b[0m\u001b[31mN\u001b[0m\u001b[31mG\u001b[0m\u001b[31mE\u001b[0m\u001b[31m(\u001b[0m\u001b[31mL\u001b[0m\u001b[31mE\u001b[0m\u001b[31mN\u001b[0m\u001b[31m(\u001b[0m\u001b[31mN\u001b[0m\u001b[31mU\u001b[0m\u001b[31mM\u001b[0m\u001b[31mS\u001b[0m\u001b[31m)\u001b[0m\u001b[31m)\u001b[0m\u001b[31m:\u001b[0m\u001b[31m\n",
      "\u001b[0m\u001b[31m \u001b[0m\u001b[31m \u001b[0m\u001b[31m \u001b[0m\u001b[31m \u001b[0m\u001b[31m \u001b[0m\u001b[31m \u001b[0m\u001b[31m \u001b[0m\u001b[31m \u001b[0m\u001b[31m \u001b[0m\u001b[31m \u001b[0m\u001b[31m \u001b[0m\u001b[31m \u001b[0m\u001b[31mI\u001b[0m\u001b[31mF\u001b[0m\u001b[31m \u001b[0m\u001b[31mN\u001b[0m\u001b[31mU\u001b[0m\u001b[31mM\u001b[0m\u001b[31mS\u001b[0m\u001b[31m[\u001b[0m\u001b[31mJ\u001b[0m\u001b[31m]\u001b[0m\u001b[31m \u001b[0m\u001b[31m>\u001b[0m\u001b[31m \u001b[0m\u001b[31mN\u001b[0m\u001b[31mU\u001b[0m\u001b[31mM\u001b[0m\u001b[31mS\u001b[0m\u001b[31m[\u001b[0m\u001b[31mJ\u001b[0m\u001b[31m \u001b[0m\u001b[31m+\u001b[0m\u001b[31m \u001b[0m\u001b[31m1\u001b[0m\u001b[31m]\u001b[0m\u001b[31m:\u001b[0m\u001b[31m\n",
      "\u001b[0m\u001b[31m \u001b[0m\u001b[31m \u001b[0m\u001b[31m \u001b[0m\u001b[31m \u001b[0m\u001b[31m \u001b[0m\u001b[31m \u001b[0m\u001b[31m \u001b[0m\u001b[31m \u001b[0m\u001b[31m \u001b[0m\u001b[31m \u001b[0m\u001b[31m \u001b[0m\u001b[31m \u001b[0m\u001b[31m \u001b[0m\u001b[31m \u001b[0m\u001b[31m \u001b[0m\u001b[31m \u001b[0m\u001b[31mN\u001b[0m\u001b[31mU\u001b[0m\u001b[31mM\u001b[0m\u001b[31mS\u001b[0m\u001b[31m[\u001b[0m\u001b[31mJ\u001b[0m\u001b[31m \u001b[0m\u001b[31m+\u001b[0m\u001b[31m \u001b[0m\u001b[31m1\u001b[0m\u001b[31m]\u001b[0m\u001b[31m,\u001b[0m\u001b[31m \u001b[0m\u001b[31mN\u001b[0m\u001b[31mU\u001b[0m\u001b[31mM\u001b[0m\u001b[31mS\u001b[0m\u001b[31m[\u001b[0m\u001b[31mJ\u001b[0m\u001b[31m]\u001b[0m\u001b[31m \u001b[0m\u001b[31m=\u001b[0m\u001b[31m \u001b[0m\u001b[31mN\u001b[0m\u001b[31mU\u001b[0m\u001b[31mM\u001b[0m\u001b[31mS\u001b[0m\u001b[31m[\u001b[0m\u001b[31mJ\u001b[0m\u001b[31m]\u001b[0m\u001b[31m,\u001b[0m\u001b[31m \u001b[0m\u001b[31mN\u001b[0m\u001b[31mU\u001b[0m\u001b[31mM\u001b[0m\u001b[31mS\u001b[0m\u001b[31m[\u001b[0m\u001b[31mJ\u001b[0m\u001b[31m \u001b[0m\u001b[31m+\u001b[0m\u001b[31m \u001b[0m\u001b[31m1\u001b[0m\u001b[31m]\u001b[0m\u001b[31m\n",
      "\u001b[0m\u001b[31m \u001b[0m\u001b[31m \u001b[0m\u001b[31m \u001b[0m\u001b[31m \u001b[0m\u001b[31mR\u001b[0m\u001b[31mE\u001b[0m\u001b[31mT\u001b[0m\u001b[31mU\u001b[0m\u001b[31mR\u001b[0m\u001b[31mN\u001b[0m\u001b[31m \u001b[0m\u001b[31mN\u001b[0m\u001b[31mU\u001b[0m\u001b[31mM\u001b[0m\u001b[31mS\u001b[0m\u001b[31m\n",
      "\u001b[0m\u001b[31m\n",
      "\u001b[0m\u001b[31mS\u001b[0m\u001b[31mT\u001b[0m\u001b[31mA\u001b[0m\u001b[31mC\u001b[0m\u001b[31mK\u001b[0m\u001b[31m \u001b[0m\u001b[31mT\u001b[0m\u001b[31mR\u001b[0m\u001b[31mA\u001b[0m\u001b[31mC\u001b[0m\u001b[31mE\u001b[0m\u001b[31m:\u001b[0m\u001b[31m\n",
      "\u001b[0m\u001b[31mT\u001b[0m\u001b[31mR\u001b[0m\u001b[31mA\u001b[0m\u001b[31mC\u001b[0m\u001b[31mE\u001b[0m\u001b[31mB\u001b[0m\u001b[31mA\u001b[0m\u001b[31mC\u001b[0m\u001b[31mK\u001b[0m\u001b[31m \u001b[0m\u001b[31m(\u001b[0m\u001b[31mM\u001b[0m\u001b[31mO\u001b[0m\u001b[31mS\u001b[0m\u001b[31mT\u001b[0m\u001b[31m \u001b[0m\u001b[31mR\u001b[0m\u001b[31mE\u001b[0m\u001b[31mC\u001b[0m\u001b[31mE\u001b[0m\u001b[31mN\u001b[0m\u001b[31mT\u001b[0m\u001b[31m \u001b[0m\u001b[31mC\u001b[0m\u001b[31mA\u001b[0m\u001b[31mL\u001b[0m\u001b[31mL\u001b[0m\u001b[31m \u001b[0m\u001b[31mL\u001b[0m\u001b[31mA\u001b[0m\u001b[31mS\u001b[0m\u001b[31mT\u001b[0m\u001b[31m)\u001b[0m\u001b[31m:\u001b[0m\u001b[31m\n",
      "\u001b[0m\u001b[31m \u001b[0m\u001b[31m \u001b[0m\u001b[31mF\u001b[0m\u001b[31mI\u001b[0m\u001b[31mL\u001b[0m\u001b[31mE\u001b[0m\u001b[31m \u001b[0m\u001b[31m\"\u001b[0m\u001b[31m/\u001b[0m\u001b[31mU\u001b[0m\u001b[31mS\u001b[0m\u001b[31mE\u001b[0m\u001b[31mR\u001b[0m\u001b[31mS\u001b[0m\u001b[31m/\u001b[0m\u001b[31mH\u001b[0m\u001b[31mM\u001b[0m\u001b[31mA\u001b[0m\u001b[31mM\u001b[0m\u001b[31mI\u001b[0m\u001b[31mN\u001b[0m\u001b[31m/\u001b[0m\u001b[31mA\u001b[0m\u001b[31mN\u001b[0m\u001b[31mA\u001b[0m\u001b[31mC\u001b[0m\u001b[31mO\u001b[0m\u001b[31mN\u001b[0m\u001b[31mD\u001b[0m\u001b[31mA\u001b[0m\u001b[31m3\u001b[0m\u001b[31m/\u001b[0m\u001b[31mE\u001b[0m\u001b[31mN\u001b[0m\u001b[31mV\u001b[0m\u001b[31mS\u001b[0m\u001b[31m/\u001b[0m\u001b[31mP\u001b[0m\u001b[31mY\u001b[0m\u001b[31m3\u001b[0m\u001b[31m8\u001b[0m\u001b[31m/\u001b[0m\u001b[31mL\u001b[0m\u001b[31mI\u001b[0m\u001b[31mB\u001b[0m\u001b[31m/\u001b[0m\u001b[31mP\u001b[0m\u001b[31mY\u001b[0m\u001b[31mT\u001b[0m\u001b[31mH\u001b[0m\u001b[31mO\u001b[0m\u001b[31mN\u001b[0m\u001b[31m3\u001b[0m\u001b[31m.\u001b[0m\u001b[31m8\u001b[0m\u001b[31m/\u001b[0m\u001b[31mS\u001b[0m\u001b[31mI\u001b[0m\u001b[31mT\u001b[0m\u001b[31mE\u001b[0m\u001b[31m-\u001b[0m\u001b[31mP\u001b[0m\u001b[31mA\u001b[0m\u001b[31mC\u001b[0m\u001b[31mK\u001b[0m\u001b[31mA\u001b[0m\u001b[31mG\u001b[0m\u001b[31mE\u001b[0m\u001b[31mS\u001b[0m\u001b[31m/\u001b[0m\u001b[31mI\u001b[0m\u001b[31mP\u001b[0m\u001b[31mY\u001b[0m\u001b[31mT\u001b[0m\u001b[31mH\u001b[0m\u001b[31mO\u001b[0m\u001b[31mN\u001b[0m\u001b[31m/\u001b[0m\u001b[31mC\u001b[0m\u001b[31mO\u001b[0m\u001b[31mR\u001b[0m\u001b[31mE\u001b[0m\u001b[31m/\u001b[0m\u001b[31mI\u001b[0m\u001b[31mN\u001b[0m\u001b[31mT\u001b[0m\u001b[31mE\u001b[0m\u001b[31mR\u001b[0m\u001b[31mA\u001b[0m\u001b[31mC\u001b[0m\u001b[31mT\u001b[0m\u001b[31mI\u001b[0m\u001b[31mV\u001b[0m\u001b[31mE\u001b[0m\u001b[31mS\u001b[0m\u001b[31mH\u001b[0m\u001b[31mE\u001b[0m\u001b[31mL\u001b[0m\u001b[31mL\u001b[0m\u001b[31m.\u001b[0m\u001b[31mP\u001b[0m\u001b[31mY\u001b[0m\u001b[31m\"\u001b[0m\u001b[31m,\u001b[0m\u001b[31m \u001b[0m\u001b[31mL\u001b[0m\u001b[31mI\u001b[0m\u001b[31mN\u001b[0m\u001b[31mE\u001b[0m\u001b[31m \u001b[0m\u001b[31m3\u001b[0m\u001b[31m4\u001b[0m\u001b[31m4\u001b[0m\u001b[31m1\u001b[0m\u001b[31m,\u001b[0m\u001b[31m \u001b[0m\u001b[31mI\u001b[0m\u001b[31mN\u001b[0m\u001b[31m \u001b[0m\u001b[31mR\u001b[0m\u001b[31mU\u001b[0m\u001b[31mN\u001b[0m\u001b[31m_\u001b[0m\u001b[31mC\u001b[0m\u001b[31mO\u001b[0m\u001b[31mD\u001b[0m\u001b[31mE\u001b[0m\u001b[31m\n",
      "\u001b[0m\u001b[31m \u001b[0m\u001b[31m \u001b[0m\u001b[31m \u001b[0m\u001b[31m \u001b[0m\u001b[31mE\u001b[0m\u001b[31mX\u001b[0m\u001b[31mE\u001b[0m\u001b[31mC\u001b[0m\u001b[31m(\u001b[0m\u001b[31mC\u001b[0m\u001b[31mO\u001b[0m\u001b[31mD\u001b[0m\u001b[31mE\u001b[0m\u001b[31m_\u001b[0m\u001b[31mO\u001b[0m\u001b[31mB\u001b[0m\u001b[31mJ\u001b[0m\u001b[31m,\u001b[0m\u001b[31m \u001b[0m\u001b[31mS\u001b[0m\u001b[31mE\u001b[0m\u001b[31mL\u001b[0m\u001b[31mF\u001b[0m\u001b[31m.\u001b[0m\u001b[31mU\u001b[0m\u001b[31mS\u001b[0m\u001b[31mE\u001b[0m\u001b[31mR\u001b[0m\u001b[31m_\u001b[0m\u001b[31mG\u001b[0m\u001b[31mL\u001b[0m\u001b[31mO\u001b[0m\u001b[31mB\u001b[0m\u001b[31mA\u001b[0m\u001b[31mL\u001b[0m\u001b[31m_\u001b[0m\u001b[31mN\u001b[0m\u001b[31mS\u001b[0m\u001b[31m,\u001b[0m\u001b[31m \u001b[0m\u001b[31mS\u001b[0m\u001b[31mE\u001b[0m\u001b[31mL\u001b[0m\u001b[31mF\u001b[0m\u001b[31m.\u001b[0m\u001b[31mU\u001b[0m\u001b[31mS\u001b[0m\u001b[31mE\u001b[0m\u001b[31mR\u001b[0m\u001b[31m_\u001b[0m\u001b[31mN\u001b[0m\u001b[31mS\u001b[0m\u001b[31m)\u001b[0m\u001b[31m\n",
      "\u001b[0m\u001b[31m \u001b[0m\u001b[31m \u001b[0m\u001b[31mF\u001b[0m\u001b[31mI\u001b[0m\u001b[31mL\u001b[0m\u001b[31mE\u001b[0m\u001b[31m \u001b[0m\u001b[31m\"\u001b[0m\u001b[31m<\u001b[0m\u001b[31mI\u001b[0m\u001b[31mP\u001b[0m\u001b[31mY\u001b[0m\u001b[31mT\u001b[0m\u001b[31mH\u001b[0m\u001b[31mO\u001b[0m\u001b[31mN\u001b[0m\u001b[31m-\u001b[0m\u001b[31mI\u001b[0m\u001b[31mN\u001b[0m\u001b[31mP\u001b[0m\u001b[31mU\u001b[0m\u001b[31mT\u001b[0m\u001b[31m-\u001b[0m\u001b[31m4\u001b[0m\u001b[31m1\u001b[0m\u001b[31m-\u001b[0m\u001b[31m0\u001b[0m\u001b[31mB\u001b[0m\u001b[31m7\u001b[0m\u001b[31m3\u001b[0m\u001b[31mB\u001b[0m\u001b[31m9\u001b[0m\u001b[31mF\u001b[0m\u001b[31mC\u001b[0m\u001b[31mB\u001b[0m\u001b[31m6\u001b[0m\u001b[31m6\u001b[0m\u001b[31mD\u001b[0m\u001b[31m>\u001b[0m\u001b[31m\"\u001b[0m\u001b[31m,\u001b[0m\u001b[31m \u001b[0m\u001b[31mL\u001b[0m\u001b[31mI\u001b[0m\u001b[31mN\u001b[0m\u001b[31mE\u001b[0m\u001b[31m \u001b[0m\u001b[31m1\u001b[0m\u001b[31m,\u001b[0m\u001b[31m \u001b[0m\u001b[31mI\u001b[0m\u001b[31mN\u001b[0m\u001b[31m \u001b[0m\u001b[31m<\u001b[0m\u001b[31mM\u001b[0m\u001b[31mO\u001b[0m\u001b[31mD\u001b[0m\u001b[31mU\u001b[0m\u001b[31mL\u001b[0m\u001b[31mE\u001b[0m\u001b[31m>\u001b[0m\u001b[31m\n",
      "\u001b[0m\u001b[31m \u001b[0m\u001b[31m \u001b[0m\u001b[31m \u001b[0m\u001b[31m \u001b[0m\u001b[31mR\u001b[0m\u001b[31mE\u001b[0m\u001b[31mS\u001b[0m\u001b[31m \u001b[0m\u001b[31m=\u001b[0m\u001b[31m \u001b[0m\u001b[31mB\u001b[0m\u001b[31mU\u001b[0m\u001b[31mB\u001b[0m\u001b[31mB\u001b[0m\u001b[31mL\u001b[0m\u001b[31mE\u001b[0m\u001b[31m_\u001b[0m\u001b[31mS\u001b[0m\u001b[31mO\u001b[0m\u001b[31mR\u001b[0m\u001b[31mT\u001b[0m\u001b[31m(\u001b[0m\u001b[31mN\u001b[0m\u001b[31mU\u001b[0m\u001b[31mM\u001b[0m\u001b[31mS\u001b[0m\u001b[31m)\u001b[0m\u001b[31m\n",
      "\u001b[0m\u001b[31m \u001b[0m\u001b[31m \u001b[0m\u001b[31mF\u001b[0m\u001b[31mI\u001b[0m\u001b[31mL\u001b[0m\u001b[31mE\u001b[0m\u001b[31m \u001b[0m\u001b[31m\"\u001b[0m\u001b[31m<\u001b[0m\u001b[31mI\u001b[0m\u001b[31mP\u001b[0m\u001b[31mY\u001b[0m\u001b[31mT\u001b[0m\u001b[31mH\u001b[0m\u001b[31mO\u001b[0m\u001b[31mN\u001b[0m\u001b[31m-\u001b[0m\u001b[31mI\u001b[0m\u001b[31mN\u001b[0m\u001b[31mP\u001b[0m\u001b[31mU\u001b[0m\u001b[31mT\u001b[0m\u001b[31m-\u001b[0m\u001b[31m2\u001b[0m\u001b[31m5\u001b[0m\u001b[31m-\u001b[0m\u001b[31m3\u001b[0m\u001b[31mF\u001b[0m\u001b[31m1\u001b[0m\u001b[31m2\u001b[0m\u001b[31mA\u001b[0m\u001b[31m9\u001b[0m\u001b[31mF\u001b[0m\u001b[31m4\u001b[0m\u001b[31m3\u001b[0m\u001b[31m4\u001b[0m\u001b[31mA\u001b[0m\u001b[31m7\u001b[0m\u001b[31m>\u001b[0m\u001b[31m\"\u001b[0m\u001b[31m,\u001b[0m\u001b[31m \u001b[0m\u001b[31mL\u001b[0m\u001b[31mI\u001b[0m\u001b[31mN\u001b[0m\u001b[31mE\u001b[0m\u001b[31m \u001b[0m\u001b[31m4\u001b[0m\u001b[31m,\u001b[0m\u001b[31m \u001b[0m\u001b[31mI\u001b[0m\u001b[31mN\u001b[0m\u001b[31m \u001b[0m\u001b[31mB\u001b[0m\u001b[31mU\u001b[0m\u001b[31mB\u001b[0m\u001b[31mB\u001b[0m\u001b[31mL\u001b[0m\u001b[31mE\u001b[0m\u001b[31m_\u001b[0m\u001b[31mS\u001b[0m\u001b[31mO\u001b[0m\u001b[31mR\u001b[0m\u001b[31mT\u001b[0m\u001b[31m\n",
      "\u001b[0m\u001b[31m \u001b[0m\u001b[31m \u001b[0m\u001b[31m \u001b[0m\u001b[31m \u001b[0m\u001b[31mI\u001b[0m\u001b[31mF\u001b[0m\u001b[31m \u001b[0m\u001b[31mN\u001b[0m\u001b[31mU\u001b[0m\u001b[31mM\u001b[0m\u001b[31mS\u001b[0m\u001b[31m[\u001b[0m\u001b[31mJ\u001b[0m\u001b[31m]\u001b[0m\u001b[31m \u001b[0m\u001b[31m>\u001b[0m\u001b[31m \u001b[0m\u001b[31mN\u001b[0m\u001b[31mU\u001b[0m\u001b[31mM\u001b[0m\u001b[31mS\u001b[0m\u001b[31m[\u001b[0m\u001b[31mJ\u001b[0m\u001b[31m \u001b[0m\u001b[31m+\u001b[0m\u001b[31m \u001b[0m\u001b[31m1\u001b[0m\u001b[31m]\u001b[0m\u001b[31m:\u001b[0m\u001b[31m\n",
      "\u001b[0m\u001b[31mI\u001b[0m\u001b[31mN\u001b[0m\u001b[31mD\u001b[0m\u001b[31mE\u001b[0m\u001b[31mX\u001b[0m\u001b[31mE\u001b[0m\u001b[31mR\u001b[0m\u001b[31mR\u001b[0m\u001b[31mO\u001b[0m\u001b[31mR\u001b[0m\u001b[31m:\u001b[0m\u001b[31m \u001b[0m\u001b[31mL\u001b[0m\u001b[31mI\u001b[0m\u001b[31mS\u001b[0m\u001b[31mT\u001b[0m\u001b[31m \u001b[0m\u001b[31mI\u001b[0m\u001b[31mN\u001b[0m\u001b[31mD\u001b[0m\u001b[31mE\u001b[0m\u001b[31mX\u001b[0m\u001b[31m \u001b[0m\u001b[31mO\u001b[0m\u001b[31mU\u001b[0m\u001b[31mT\u001b[0m\u001b[31m \u001b[0m\u001b[31mO\u001b[0m\u001b[31mF\u001b[0m\u001b[31m \u001b[0m\u001b[31mR\u001b[0m\u001b[31mA\u001b[0m\u001b[31mN\u001b[0m\u001b[31mG\u001b[0m\u001b[31mE\u001b[0m\u001b[31m\n",
      "\u001b[0m\u001b[31m\n",
      "\u001b[0m\u001b[31m\n",
      "\u001b[0m\u001b[31mN\u001b[0m\u001b[31mE\u001b[0m\u001b[31mX\u001b[0m\u001b[31mT\u001b[0m\u001b[31m \u001b[0m\u001b[31mL\u001b[0m\u001b[31mI\u001b[0m\u001b[31mN\u001b[0m\u001b[31mE\u001b[0m\u001b[31m:\u001b[0m\u001b[31m\n",
      "\u001b[0m\u001b[31m \u001b[0m\u001b[31m \u001b[0m\u001b[31m \u001b[0m\u001b[31m \u001b[0m\u001b[31m \u001b[0m\u001b[31m \u001b[0m\u001b[31m \u001b[0m\u001b[31m \u001b[0m\u001b[31m \u001b[0m\u001b[31m \u001b[0m\u001b[31m \u001b[0m\u001b[31m \u001b[0m\u001b[31mI\u001b[0m\u001b[31mF\u001b[0m\u001b[31m \u001b[0m\u001b[31mN\u001b[0m\u001b[31mU\u001b[0m\u001b[31mM\u001b[0m\u001b[31mS\u001b[0m\u001b[31m[\u001b[0m\u001b[31mJ\u001b[0m\u001b[31m]\u001b[0m\u001b[31m \u001b[0m\u001b[31m>\u001b[0m\u001b[31m \u001b[0m\u001b[31mN\u001b[0m\u001b[31mU\u001b[0m\u001b[31mM\u001b[0m\u001b[31mS\u001b[0m\u001b[31m[\u001b[0m\u001b[31mJ\u001b[0m\u001b[31m \u001b[0m\u001b[31m+\u001b[0m\u001b[31m \u001b[0m\u001b[31m1\u001b[0m\u001b[31m]\u001b[0m\u001b[31m:\u001b[0m\u001b[31m\n",
      "\u001b[0m\u001b[31m\n",
      "\u001b[0m\u001b[31mL\u001b[0m\u001b[31mO\u001b[0m\u001b[31mC\u001b[0m\u001b[31mA\u001b[0m\u001b[31mL\u001b[0m\u001b[31m \u001b[0m\u001b[31mV\u001b[0m\u001b[31mA\u001b[0m\u001b[31mR\u001b[0m\u001b[31mI\u001b[0m\u001b[31mA\u001b[0m\u001b[31mB\u001b[0m\u001b[31mL\u001b[0m\u001b[31mE\u001b[0m\u001b[31mS\u001b[0m\u001b[31m:\u001b[0m\u001b[31m\n",
      "\u001b[0m\u001b[31m{\u001b[0m\u001b[31m\n"
     ]
    },
    {
     "name": "stdout",
     "output_type": "stream",
     "text": [
      "\u001b[0m\u001b[31m \u001b[0m\u001b[31m \u001b[0m\u001b[31m \u001b[0m\u001b[31m \u001b[0m\u001b[31m'\u001b[0m\u001b[31mN\u001b[0m\u001b[31mU\u001b[0m\u001b[31mM\u001b[0m\u001b[31mS\u001b[0m\u001b[31m'\u001b[0m\u001b[31m:\u001b[0m\u001b[31m \u001b[0m\u001b[31m[\u001b[0m\u001b[31m-\u001b[0m\u001b[31m1\u001b[0m\u001b[31m0\u001b[0m\u001b[31m0\u001b[0m\u001b[31m,\u001b[0m\u001b[31m \u001b[0m\u001b[31m1\u001b[0m\u001b[31m,\u001b[0m\u001b[31m \u001b[0m\u001b[31m3\u001b[0m\u001b[31m,\u001b[0m\u001b[31m \u001b[0m\u001b[31m4\u001b[0m\u001b[31m,\u001b[0m\u001b[31m \u001b[0m\u001b[31m5\u001b[0m\u001b[31m,\u001b[0m\u001b[31m \u001b[0m\u001b[31m5\u001b[0m\u001b[31m,\u001b[0m\u001b[31m \u001b[0m\u001b[31m5\u001b[0m\u001b[31m,\u001b[0m\u001b[31m \u001b[0m\u001b[31m9\u001b[0m\u001b[31m,\u001b[0m\u001b[31m \u001b[0m\u001b[31m2\u001b[0m\u001b[31m2\u001b[0m\u001b[31m,\u001b[0m\u001b[31m \u001b[0m\u001b[31m3\u001b[0m\u001b[31m3\u001b[0m\u001b[31m]\u001b[0m\u001b[31m,\u001b[0m\u001b[31m \u001b[0m\u001b[31m \u001b[0m\u001b[31m \u001b[0m\u001b[31m#\u001b[0m\u001b[31m \u001b[0m\u001b[31mT\u001b[0m\u001b[31mY\u001b[0m\u001b[31mP\u001b[0m\u001b[31mE\u001b[0m\u001b[31m:\u001b[0m\u001b[31m \u001b[0m\u001b[31mL\u001b[0m\u001b[31mI\u001b[0m\u001b[31mS\u001b[0m\u001b[31mT\u001b[0m\u001b[31m\n",
      "\u001b[0m\u001b[31m \u001b[0m\u001b[31m \u001b[0m\u001b[31m \u001b[0m\u001b[31m \u001b[0m\u001b[31m'\u001b[0m\u001b[31mI\u001b[0m\u001b[31m'\u001b[0m\u001b[31m:\u001b[0m\u001b[31m \u001b[0m\u001b[31m0\u001b[0m\u001b[31m,\u001b[0m\u001b[31m \u001b[0m\u001b[31m \u001b[0m\u001b[31m \u001b[0m\u001b[31m#\u001b[0m\u001b[31m \u001b[0m\u001b[31mT\u001b[0m\u001b[31mY\u001b[0m\u001b[31mP\u001b[0m\u001b[31mE\u001b[0m\u001b[31m:\u001b[0m\u001b[31m \u001b[0m\u001b[31mI\u001b[0m\u001b[31mN\u001b[0m\u001b[31mT\u001b[0m\u001b[31m\n",
      "\u001b[0m\u001b[31m \u001b[0m\u001b[31m \u001b[0m\u001b[31m \u001b[0m\u001b[31m \u001b[0m\u001b[31m'\u001b[0m\u001b[31mJ\u001b[0m\u001b[31m'\u001b[0m\u001b[31m:\u001b[0m\u001b[31m \u001b[0m\u001b[31m9\u001b[0m\u001b[31m,\u001b[0m\u001b[31m \u001b[0m\u001b[31m \u001b[0m\u001b[31m \u001b[0m\u001b[31m#\u001b[0m\u001b[31m \u001b[0m\u001b[31mT\u001b[0m\u001b[31mY\u001b[0m\u001b[31mP\u001b[0m\u001b[31mE\u001b[0m\u001b[31m:\u001b[0m\u001b[31m \u001b[0m\u001b[31mI\u001b[0m\u001b[31mN\u001b[0m\u001b[31mT\u001b[0m\u001b[31m\n",
      "\u001b[0m\u001b[31m}\u001b[0m\u001b[31m\n",
      "\u001b[0m\u001b[31m\n",
      "\u001b[0m\u001b[31mG\u001b[0m\u001b[31mL\u001b[0m\u001b[31mO\u001b[0m\u001b[31mB\u001b[0m\u001b[31mA\u001b[0m\u001b[31mL\u001b[0m\u001b[31m \u001b[0m\u001b[31mV\u001b[0m\u001b[31mA\u001b[0m\u001b[31mR\u001b[0m\u001b[31mI\u001b[0m\u001b[31mA\u001b[0m\u001b[31mB\u001b[0m\u001b[31mL\u001b[0m\u001b[31mE\u001b[0m\u001b[31mS\u001b[0m\u001b[31m:\u001b[0m\u001b[31m\n",
      "\u001b[0m\u001b[31m{\u001b[0m\u001b[31m\n",
      "\u001b[0m\u001b[31m \u001b[0m\u001b[31m \u001b[0m\u001b[31m \u001b[0m\u001b[31m'\u001b[0m\u001b[31mN\u001b[0m\u001b[31mU\u001b[0m\u001b[31mM\u001b[0m\u001b[31mS\u001b[0m\u001b[31m'\u001b[0m\u001b[31m:\u001b[0m\u001b[31m \u001b[0m\u001b[31m[\u001b[0m\u001b[31m-\u001b[0m\u001b[31m1\u001b[0m\u001b[31m0\u001b[0m\u001b[31m0\u001b[0m\u001b[31m,\u001b[0m\u001b[31m \u001b[0m\u001b[31m1\u001b[0m\u001b[31m,\u001b[0m\u001b[31m \u001b[0m\u001b[31m3\u001b[0m\u001b[31m,\u001b[0m\u001b[31m \u001b[0m\u001b[31m4\u001b[0m\u001b[31m,\u001b[0m\u001b[31m \u001b[0m\u001b[31m5\u001b[0m\u001b[31m,\u001b[0m\u001b[31m \u001b[0m\u001b[31m5\u001b[0m\u001b[31m,\u001b[0m\u001b[31m \u001b[0m\u001b[31m5\u001b[0m\u001b[31m,\u001b[0m\u001b[31m \u001b[0m\u001b[31m9\u001b[0m\u001b[31m,\u001b[0m\u001b[31m \u001b[0m\u001b[31m2\u001b[0m\u001b[31m2\u001b[0m\u001b[31m,\u001b[0m\u001b[31m \u001b[0m\u001b[31m3\u001b[0m\u001b[31m3\u001b[0m\u001b[31m]\u001b[0m\u001b[31m,\u001b[0m\u001b[31m \u001b[0m\u001b[31m \u001b[0m\u001b[31m \u001b[0m\u001b[31m#\u001b[0m\u001b[31m \u001b[0m\u001b[31mT\u001b[0m\u001b[31mY\u001b[0m\u001b[31mP\u001b[0m\u001b[31mE\u001b[0m\u001b[31m:\u001b[0m\u001b[31m \u001b[0m\u001b[31mL\u001b[0m\u001b[31mI\u001b[0m\u001b[31mS\u001b[0m\u001b[31mT\u001b[0m\u001b[31m\n",
      "\u001b[0m\u001b[31m}\u001b[0m"
     ]
    }
   ],
   "source": [
    "res = bubble_sort(nums)\n",
    "print('after')"
   ]
  },
  {
   "cell_type": "code",
   "execution_count": 11,
   "metadata": {
    "ExecuteTime": {
     "end_time": "2023-04-15T04:48:09.428034Z",
     "start_time": "2023-04-15T04:48:09.394206Z"
    }
   },
   "outputs": [],
   "source": [
    "errors.disable()"
   ]
  },
  {
   "cell_type": "markdown",
   "metadata": {},
   "source": [
    "## Magic"
   ]
  },
  {
   "cell_type": "code",
   "execution_count": 10,
   "metadata": {
    "ExecuteTime": {
     "end_time": "2023-04-15T04:48:05.166542Z",
     "start_time": "2023-04-15T04:48:05.118747Z"
    }
   },
   "outputs": [],
   "source": [
    "from roboduck import magic"
   ]
  },
  {
   "cell_type": "code",
   "execution_count": 62,
   "metadata": {
    "ExecuteTime": {
     "end_time": "2023-04-14T04:48:34.341533Z",
     "start_time": "2023-04-14T04:48:34.060651Z"
    }
   },
   "outputs": [],
   "source": [
    "def bubble_sort(nums):\n",
    "    for i in range(len(nums)):\n",
    "        for j in range(len(nums)):\n",
    "            if nums[j] > nums[j + 1]:\n",
    "                nums[j + 1], nums[j] = nums[j], nums[j + 1]\n",
    "    return nums"
   ]
  },
  {
   "cell_type": "code",
   "execution_count": 12,
   "metadata": {
    "ExecuteTime": {
     "end_time": "2023-04-15T04:48:13.267221Z",
     "start_time": "2023-04-15T04:48:13.240429Z"
    }
   },
   "outputs": [],
   "source": [
    "errors.disable()"
   ]
  },
  {
   "cell_type": "code",
   "execution_count": 72,
   "metadata": {
    "ExecuteTime": {
     "end_time": "2023-04-14T04:59:04.205825Z",
     "start_time": "2023-04-14T04:59:04.082201Z"
    }
   },
   "outputs": [
    {
     "ename": "IndexError",
     "evalue": "list index out of range",
     "output_type": "error",
     "traceback": [
      "\u001b[0;31m---------------------------------------------------------------------------\u001b[0m",
      "\u001b[0;31mIndexError\u001b[0m                                Traceback (most recent call last)",
      "\u001b[0;32m<ipython-input-72-9bb1c33833ca>\u001b[0m in \u001b[0;36m<module>\u001b[0;34m\u001b[0m\n\u001b[0;32m----> 1\u001b[0;31m \u001b[0mbubble_sort\u001b[0m\u001b[0;34m(\u001b[0m\u001b[0mnums\u001b[0m\u001b[0;34m)\u001b[0m\u001b[0;34m\u001b[0m\u001b[0;34m\u001b[0m\u001b[0m\n\u001b[0m",
      "\u001b[0;32m<ipython-input-62-3f12a9f434a7>\u001b[0m in \u001b[0;36mbubble_sort\u001b[0;34m(nums)\u001b[0m\n\u001b[1;32m      2\u001b[0m     \u001b[0;32mfor\u001b[0m \u001b[0mi\u001b[0m \u001b[0;32min\u001b[0m \u001b[0mrange\u001b[0m\u001b[0;34m(\u001b[0m\u001b[0mlen\u001b[0m\u001b[0;34m(\u001b[0m\u001b[0mnums\u001b[0m\u001b[0;34m)\u001b[0m\u001b[0;34m)\u001b[0m\u001b[0;34m:\u001b[0m\u001b[0;34m\u001b[0m\u001b[0;34m\u001b[0m\u001b[0m\n\u001b[1;32m      3\u001b[0m         \u001b[0;32mfor\u001b[0m \u001b[0mj\u001b[0m \u001b[0;32min\u001b[0m \u001b[0mrange\u001b[0m\u001b[0;34m(\u001b[0m\u001b[0mlen\u001b[0m\u001b[0;34m(\u001b[0m\u001b[0mnums\u001b[0m\u001b[0;34m)\u001b[0m\u001b[0;34m)\u001b[0m\u001b[0;34m:\u001b[0m\u001b[0;34m\u001b[0m\u001b[0;34m\u001b[0m\u001b[0m\n\u001b[0;32m----> 4\u001b[0;31m             \u001b[0;32mif\u001b[0m \u001b[0mnums\u001b[0m\u001b[0;34m[\u001b[0m\u001b[0mj\u001b[0m\u001b[0;34m]\u001b[0m \u001b[0;34m>\u001b[0m \u001b[0mnums\u001b[0m\u001b[0;34m[\u001b[0m\u001b[0mj\u001b[0m \u001b[0;34m+\u001b[0m \u001b[0;36m1\u001b[0m\u001b[0;34m]\u001b[0m\u001b[0;34m:\u001b[0m\u001b[0;34m\u001b[0m\u001b[0;34m\u001b[0m\u001b[0m\n\u001b[0m\u001b[1;32m      5\u001b[0m                 \u001b[0mnums\u001b[0m\u001b[0;34m[\u001b[0m\u001b[0mj\u001b[0m \u001b[0;34m+\u001b[0m \u001b[0;36m1\u001b[0m\u001b[0;34m]\u001b[0m\u001b[0;34m,\u001b[0m \u001b[0mnums\u001b[0m\u001b[0;34m[\u001b[0m\u001b[0mj\u001b[0m\u001b[0;34m]\u001b[0m \u001b[0;34m=\u001b[0m \u001b[0mnums\u001b[0m\u001b[0;34m[\u001b[0m\u001b[0mj\u001b[0m\u001b[0;34m]\u001b[0m\u001b[0;34m,\u001b[0m \u001b[0mnums\u001b[0m\u001b[0;34m[\u001b[0m\u001b[0mj\u001b[0m \u001b[0;34m+\u001b[0m \u001b[0;36m1\u001b[0m\u001b[0;34m]\u001b[0m\u001b[0;34m\u001b[0m\u001b[0;34m\u001b[0m\u001b[0m\n\u001b[1;32m      6\u001b[0m     \u001b[0;32mreturn\u001b[0m \u001b[0mnums\u001b[0m\u001b[0;34m\u001b[0m\u001b[0;34m\u001b[0m\u001b[0m\n",
      "\u001b[0;31mIndexError\u001b[0m: list index out of range"
     ]
    }
   ],
   "source": [
    "bubble_sort(nums)"
   ]
  },
  {
   "cell_type": "code",
   "execution_count": 73,
   "metadata": {
    "ExecuteTime": {
     "end_time": "2023-04-14T04:59:36.715663Z",
     "start_time": "2023-04-14T04:59:28.873259Z"
    }
   },
   "outputs": [
    {
     "name": "stdout",
     "output_type": "stream",
     "text": [
      "Traceback (most recent call last):\n",
      "  File \"/Users/hmamin/anaconda3/envs/py38/lib/python3.8/site-packages/IPython/core/interactiveshell.py\", line 3441, in run_code\n",
      "    exec(code_obj, self.user_global_ns, self.user_ns)\n",
      "  File \"<ipython-input-72-9bb1c33833ca>\", line 1, in <module>\n",
      "    bubble_sort(nums)\n",
      "  File \"<ipython-input-62-3f12a9f434a7>\", line 4, in bubble_sort\n",
      "    if nums[j] > nums[j + 1]:\n",
      "IndexError: list index out of range\n",
      "\n",
      "> <ipython-input-62-3f12a9f434a7>(4)bubble_sort()\n",
      "-> if nums[j] > nums[j + 1]:\n",
      "\u001b[32m[Duck] \u001b[0m\u001b[32mT\u001b[0m\u001b[32mh\u001b[0m\u001b[32me\u001b[0m\u001b[32m \u001b[0m\u001b[32mp\u001b[0m\u001b[32mr\u001b[0m\u001b[32mo\u001b[0m\u001b[32mb\u001b[0m\u001b[32ml\u001b[0m\u001b[32me\u001b[0m\u001b[32mm\u001b[0m\u001b[32m \u001b[0m\u001b[32mw\u001b[0m\u001b[32mi\u001b[0m\u001b[32mt\u001b[0m\u001b[32mh\u001b[0m\u001b[32m \u001b[0m\u001b[32mt\u001b[0m\u001b[32mh\u001b[0m\u001b[32me\u001b[0m\u001b[32m \u001b[0m\u001b[32mc\u001b[0m\u001b[32mo\u001b[0m\u001b[32md\u001b[0m\u001b[32me\u001b[0m\u001b[32m \u001b[0m\u001b[32mi\u001b[0m\u001b[32ms\u001b[0m\u001b[32m \u001b[0m\u001b[32mt\u001b[0m\u001b[32mh\u001b[0m\u001b[32ma\u001b[0m\u001b[32mt\u001b[0m\u001b[32m \u001b[0m\u001b[32mt\u001b[0m\u001b[32mh\u001b[0m\u001b[32me\u001b[0m\u001b[32m \u001b[0m\u001b[32mi\u001b[0m\u001b[32mn\u001b[0m\u001b[32mn\u001b[0m\u001b[32me\u001b[0m\u001b[32mr\u001b[0m\u001b[32m \u001b[0m\u001b[32ml\u001b[0m\u001b[32mo\u001b[0m\u001b[32mo\u001b[0m\u001b[32mp\u001b[0m\u001b[32m \u001b[0m\u001b[32mi\u001b[0m\u001b[32ms\u001b[0m\u001b[32m \u001b[0m\u001b[32mi\u001b[0m\u001b[32mt\u001b[0m\u001b[32me\u001b[0m\u001b[32mr\u001b[0m\u001b[32ma\u001b[0m\u001b[32mt\u001b[0m\u001b[32mi\u001b[0m\u001b[32mn\u001b[0m\u001b[32mg\u001b[0m\u001b[32m \u001b[0m\u001b[32mo\u001b[0m\u001b[32mv\u001b[0m\u001b[32me\u001b[0m\u001b[32mr\u001b[0m\u001b[32m \u001b[0m\u001b[32mt\u001b[0m\u001b[32mh\u001b[0m\u001b[32me\u001b[0m\u001b[32m \u001b[0m\u001b[32me\u001b[0m\u001b[32mn\u001b[0m\u001b[32mt\u001b[0m\u001b[32mi\u001b[0m\u001b[32mr\u001b[0m\u001b[32me\u001b[0m\u001b[32m \u001b[0m\u001b[32ml\u001b[0m\u001b[32mi\u001b[0m\u001b[32ms\u001b[0m\u001b[32mt\u001b[0m\u001b[32m,\u001b[0m\u001b[32m \u001b[0m\u001b[32mi\u001b[0m\u001b[32mn\u001b[0m\u001b[32mc\u001b[0m\u001b[32ml\u001b[0m\u001b[32mu\u001b[0m\u001b[32md\u001b[0m\u001b[32mi\u001b[0m\u001b[32mn\u001b[0m\u001b[32mg\u001b[0m\u001b[32m \u001b[0m\u001b[32mt\u001b[0m\u001b[32mh\u001b[0m\u001b[32me\u001b[0m\u001b[32m \u001b[0m\u001b[32ml\u001b[0m\u001b[32ma\u001b[0m\u001b[32ms\u001b[0m\u001b[32mt\u001b[0m\u001b[32m \u001b[0m\u001b[32me\u001b[0m\u001b[32ml\u001b[0m\u001b[32me\u001b[0m\u001b[32mm\u001b[0m\u001b[32me\u001b[0m\u001b[32mn\u001b[0m\u001b[32mt\u001b[0m\u001b[32m,\u001b[0m\u001b[32m \u001b[0m\u001b[32mw\u001b[0m\u001b[32mh\u001b[0m\u001b[32mi\u001b[0m\u001b[32mc\u001b[0m\u001b[32mh\u001b[0m\u001b[32m \u001b[0m\u001b[32mc\u001b[0m\u001b[32ma\u001b[0m\u001b[32mu\u001b[0m\u001b[32ms\u001b[0m\u001b[32me\u001b[0m\u001b[32ms\u001b[0m\u001b[32m \u001b[0m\u001b[32ma\u001b[0m\u001b[32mn\u001b[0m\u001b[32m \u001b[0m\u001b[32mI\u001b[0m\u001b[32mn\u001b[0m\u001b[32md\u001b[0m\u001b[32me\u001b[0m\u001b[32mx\u001b[0m\u001b[32mE\u001b[0m\u001b[32mr\u001b[0m\u001b[32mr\u001b[0m\u001b[32mo\u001b[0m\u001b[32mr\u001b[0m\u001b[32m \u001b[0m\u001b[32mw\u001b[0m\u001b[32mh\u001b[0m\u001b[32me\u001b[0m\u001b[32mn\u001b[0m\u001b[32m \u001b[0m\u001b[32mt\u001b[0m\u001b[32mr\u001b[0m\u001b[32my\u001b[0m\u001b[32mi\u001b[0m\u001b[32mn\u001b[0m\u001b[32mg\u001b[0m\u001b[32m \u001b[0m\u001b[32mt\u001b[0m\u001b[32mo\u001b[0m\u001b[32m \u001b[0m\u001b[32ma\u001b[0m\u001b[32mc\u001b[0m\u001b[32mc\u001b[0m\u001b[32me\u001b[0m\u001b[32ms\u001b[0m\u001b[32ms\u001b[0m\u001b[32m \u001b[0m\u001b[32mn\u001b[0m\u001b[32mu\u001b[0m\u001b[32mm\u001b[0m\u001b[32ms\u001b[0m\u001b[32m[\u001b[0m\u001b[32mj\u001b[0m\u001b[32m+\u001b[0m\u001b[32m1\u001b[0m\u001b[32m]\u001b[0m\u001b[32m.\u001b[0m\u001b[32m \u001b[0m\u001b[32mT\u001b[0m\u001b[32mo\u001b[0m\u001b[32m \u001b[0m\u001b[32mf\u001b[0m\u001b[32mi\u001b[0m\u001b[32mx\u001b[0m\u001b[32m \u001b[0m\u001b[32mt\u001b[0m\u001b[32mh\u001b[0m\u001b[32mi\u001b[0m\u001b[32ms\u001b[0m\u001b[32m,\u001b[0m\u001b[32m \u001b[0m\u001b[32mc\u001b[0m\u001b[32mh\u001b[0m\u001b[32ma\u001b[0m\u001b[32mn\u001b[0m\u001b[32mg\u001b[0m\u001b[32me\u001b[0m\u001b[32m \u001b[0m\u001b[32mt\u001b[0m\u001b[32mh\u001b[0m\u001b[32me\u001b[0m\u001b[32m \u001b[0m\u001b[32mr\u001b[0m\u001b[32ma\u001b[0m\u001b[32mn\u001b[0m\u001b[32mg\u001b[0m\u001b[32me\u001b[0m\u001b[32m \u001b[0m\u001b[32mo\u001b[0m\u001b[32mf\u001b[0m\u001b[32m \u001b[0m\u001b[32mt\u001b[0m\u001b[32mh\u001b[0m\u001b[32me\u001b[0m\u001b[32m \u001b[0m\u001b[32mi\u001b[0m\u001b[32mn\u001b[0m\u001b[32mn\u001b[0m\u001b[32me\u001b[0m\u001b[32mr\u001b[0m\u001b[32m \u001b[0m\u001b[32ml\u001b[0m\u001b[32mo\u001b[0m\u001b[32mo\u001b[0m\u001b[32mp\u001b[0m\u001b[32m \u001b[0m\u001b[32mt\u001b[0m\u001b[32mo\u001b[0m\u001b[32m \u001b[0m\u001b[32me\u001b[0m\u001b[32mx\u001b[0m\u001b[32mc\u001b[0m\u001b[32ml\u001b[0m\u001b[32mu\u001b[0m\u001b[32md\u001b[0m\u001b[32me\u001b[0m\u001b[32m \u001b[0m\u001b[32mt\u001b[0m\u001b[32mh\u001b[0m\u001b[32me\u001b[0m\u001b[32m \u001b[0m\u001b[32ml\u001b[0m\u001b[32ma\u001b[0m\u001b[32ms\u001b[0m\u001b[32mt\u001b[0m\u001b[32m \u001b[0m\u001b[32me\u001b[0m\u001b[32ml\u001b[0m\u001b[32me\u001b[0m\u001b[32mm\u001b[0m\u001b[32me\u001b[0m\u001b[32mn\u001b[0m\u001b[32mt\u001b[0m\u001b[32m \u001b[0m\u001b[32mb\u001b[0m\u001b[32my\u001b[0m\u001b[32m \u001b[0m\u001b[32ms\u001b[0m\u001b[32mu\u001b[0m\u001b[32mb\u001b[0m\u001b[32mt\u001b[0m\u001b[32mr\u001b[0m\u001b[32ma\u001b[0m\u001b[32mc\u001b[0m\u001b[32mt\u001b[0m\u001b[32mi\u001b[0m\u001b[32mn\u001b[0m\u001b[32mg\u001b[0m\u001b[32m \u001b[0m\u001b[32m1\u001b[0m\u001b[32m \u001b[0m\u001b[32mf\u001b[0m\u001b[32mr\u001b[0m\u001b[32mo\u001b[0m\u001b[32mm\u001b[0m\u001b[32m \u001b[0m\u001b[32mt\u001b[0m\u001b[32mh\u001b[0m\u001b[32me\u001b[0m\u001b[32m \u001b[0m\u001b[32ml\u001b[0m\u001b[32me\u001b[0m\u001b[32mn\u001b[0m\u001b[32mg\u001b[0m\u001b[32mt\u001b[0m\u001b[32mh\u001b[0m\u001b[32m \u001b[0m\u001b[32mo\u001b[0m\u001b[32mf\u001b[0m\u001b[32m \u001b[0m\u001b[32mt\u001b[0m\u001b[32mh\u001b[0m\u001b[32me\u001b[0m\u001b[32m \u001b[0m\u001b[32ml\u001b[0m\u001b[32mi\u001b[0m\u001b[32ms\u001b[0m\u001b[32mt\u001b[0m\u001b[32m.\u001b[0m\u001b[32m \u001b[0m\u001b[32m\n",
      "\u001b[0m\u001b[32m\n",
      "\u001b[0m\u001b[32m`\u001b[0m\u001b[32m`\u001b[0m\u001b[32m`\u001b[0m\u001b[32m\n",
      "\u001b[0m\u001b[32md\u001b[0m\u001b[32me\u001b[0m\u001b[32mf\u001b[0m\u001b[32m \u001b[0m\u001b[32mb\u001b[0m\u001b[32mu\u001b[0m\u001b[32mb\u001b[0m\u001b[32mb\u001b[0m\u001b[32ml\u001b[0m\u001b[32me\u001b[0m\u001b[32m_\u001b[0m\u001b[32ms\u001b[0m\u001b[32mo\u001b[0m\u001b[32mr\u001b[0m\u001b[32mt\u001b[0m\u001b[32m(\u001b[0m\u001b[32mn\u001b[0m\u001b[32mu\u001b[0m\u001b[32mm\u001b[0m\u001b[32ms\u001b[0m\u001b[32m)\u001b[0m\u001b[32m:\u001b[0m\u001b[32m\n",
      "\u001b[0m\u001b[32m \u001b[0m\u001b[32m \u001b[0m\u001b[32m \u001b[0m\u001b[32m \u001b[0m\u001b[32mf\u001b[0m\u001b[32mo\u001b[0m\u001b[32mr\u001b[0m\u001b[32m \u001b[0m\u001b[32mi\u001b[0m\u001b[32m \u001b[0m\u001b[32mi\u001b[0m\u001b[32mn\u001b[0m\u001b[32m \u001b[0m\u001b[32mr\u001b[0m\u001b[32ma\u001b[0m\u001b[32mn\u001b[0m\u001b[32mg\u001b[0m\u001b[32me\u001b[0m\u001b[32m(\u001b[0m\u001b[32ml\u001b[0m\u001b[32me\u001b[0m\u001b[32mn\u001b[0m\u001b[32m(\u001b[0m\u001b[32mn\u001b[0m\u001b[32mu\u001b[0m\u001b[32mm\u001b[0m\u001b[32ms\u001b[0m\u001b[32m)\u001b[0m\u001b[32m)\u001b[0m\u001b[32m:\u001b[0m\u001b[32m\n",
      "\u001b[0m\u001b[32m \u001b[0m\u001b[32m \u001b[0m\u001b[32m \u001b[0m\u001b[32m \u001b[0m\u001b[32m \u001b[0m\u001b[32m \u001b[0m\u001b[32m \u001b[0m\u001b[32m \u001b[0m\u001b[32mf\u001b[0m\u001b[32mo\u001b[0m\u001b[32mr\u001b[0m\u001b[32m \u001b[0m\u001b[32mj\u001b[0m\u001b[32m \u001b[0m\u001b[32mi\u001b[0m\u001b[32mn\u001b[0m\u001b[32m \u001b[0m\u001b[32mr\u001b[0m\u001b[32ma\u001b[0m\u001b[32mn\u001b[0m\u001b[32mg\u001b[0m\u001b[32me\u001b[0m\u001b[32m(\u001b[0m\u001b[32ml\u001b[0m\u001b[32me\u001b[0m\u001b[32mn\u001b[0m\u001b[32m(\u001b[0m\u001b[32mn\u001b[0m\u001b[32mu\u001b[0m\u001b[32mm\u001b[0m\u001b[32ms\u001b[0m\u001b[32m)\u001b[0m\u001b[32m \u001b[0m\u001b[32m-\u001b[0m\u001b[32m \u001b[0m\u001b[32m1\u001b[0m\u001b[32m)\u001b[0m\u001b[32m:\u001b[0m\u001b[32m \u001b[0m\u001b[32m \u001b[0m\u001b[32m#\u001b[0m\u001b[32m \u001b[0m\u001b[32ms\u001b[0m\u001b[32mu\u001b[0m\u001b[32mb\u001b[0m\u001b[32mt\u001b[0m\u001b[32mr\u001b[0m\u001b[32ma\u001b[0m\u001b[32mc\u001b[0m\u001b[32mt\u001b[0m\u001b[32m \u001b[0m\u001b[32m1\u001b[0m\u001b[32m \u001b[0m\u001b[32mf\u001b[0m\u001b[32mr\u001b[0m\u001b[32mo\u001b[0m\u001b[32mm\u001b[0m\u001b[32m \u001b[0m\u001b[32mt\u001b[0m\u001b[32mh\u001b[0m\u001b[32me\u001b[0m\u001b[32m \u001b[0m\u001b[32ml\u001b[0m\u001b[32me\u001b[0m\u001b[32mn\u001b[0m\u001b[32mg\u001b[0m\u001b[32mt\u001b[0m\u001b[32mh\u001b[0m\u001b[32m \u001b[0m\u001b[32mo\u001b[0m\u001b[32mf\u001b[0m\u001b[32m \u001b[0m\u001b[32mt\u001b[0m\u001b[32mh\u001b[0m\u001b[32me\u001b[0m\u001b[32m \u001b[0m\u001b[32ml\u001b[0m\u001b[32mi\u001b[0m\u001b[32ms\u001b[0m\u001b[32mt\u001b[0m\u001b[32m\n",
      "\u001b[0m\u001b[32m \u001b[0m\u001b[32m \u001b[0m\u001b[32m \u001b[0m\u001b[32m \u001b[0m\u001b[32m \u001b[0m\u001b[32m \u001b[0m\u001b[32m \u001b[0m\u001b[32m \u001b[0m\u001b[32m \u001b[0m\u001b[32m \u001b[0m\u001b[32m \u001b[0m\u001b[32m \u001b[0m\u001b[32mi\u001b[0m\u001b[32mf\u001b[0m\u001b[32m \u001b[0m\u001b[32mn\u001b[0m\u001b[32mu\u001b[0m\u001b[32mm\u001b[0m\u001b[32ms\u001b[0m\u001b[32m[\u001b[0m\u001b[32mj\u001b[0m\u001b[32m]\u001b[0m\u001b[32m \u001b[0m\u001b[32m>\u001b[0m\u001b[32m \u001b[0m\u001b[32mn\u001b[0m\u001b[32mu\u001b[0m\u001b[32mm\u001b[0m\u001b[32ms\u001b[0m\u001b[32m[\u001b[0m\u001b[32mj\u001b[0m\u001b[32m \u001b[0m\u001b[32m+\u001b[0m\u001b[32m \u001b[0m\u001b[32m1\u001b[0m\u001b[32m]\u001b[0m\u001b[32m:\u001b[0m\u001b[32m\n",
      "\u001b[0m\u001b[32m \u001b[0m\u001b[32m \u001b[0m\u001b[32m \u001b[0m\u001b[32m \u001b[0m\u001b[32m \u001b[0m\u001b[32m \u001b[0m\u001b[32m \u001b[0m\u001b[32m \u001b[0m\u001b[32m \u001b[0m\u001b[32m \u001b[0m\u001b[32m \u001b[0m\u001b[32m \u001b[0m\u001b[32m \u001b[0m\u001b[32m \u001b[0m\u001b[32m \u001b[0m\u001b[32m \u001b[0m\u001b[32mn\u001b[0m\u001b[32mu\u001b[0m\u001b[32mm\u001b[0m\u001b[32ms\u001b[0m\u001b[32m[\u001b[0m\u001b[32mj\u001b[0m\u001b[32m \u001b[0m\u001b[32m+\u001b[0m\u001b[32m \u001b[0m\u001b[32m1\u001b[0m\u001b[32m]\u001b[0m\u001b[32m,\u001b[0m\u001b[32m \u001b[0m\u001b[32mn\u001b[0m\u001b[32mu\u001b[0m\u001b[32mm\u001b[0m\u001b[32ms\u001b[0m\u001b[32m[\u001b[0m\u001b[32mj\u001b[0m\u001b[32m]\u001b[0m\u001b[32m \u001b[0m\u001b[32m=\u001b[0m\u001b[32m \u001b[0m\u001b[32mn\u001b[0m\u001b[32mu\u001b[0m\u001b[32mm\u001b[0m\u001b[32ms\u001b[0m\u001b[32m[\u001b[0m\u001b[32mj\u001b[0m\u001b[32m]\u001b[0m\u001b[32m,\u001b[0m\u001b[32m \u001b[0m\u001b[32mn\u001b[0m\u001b[32mu\u001b[0m\u001b[32mm\u001b[0m\u001b[32ms\u001b[0m\u001b[32m[\u001b[0m\u001b[32mj\u001b[0m\u001b[32m \u001b[0m\u001b[32m+\u001b[0m\u001b[32m \u001b[0m\u001b[32m1\u001b[0m\u001b[32m]\u001b[0m\u001b[32m\n",
      "\u001b[0m\u001b[32m \u001b[0m\u001b[32m \u001b[0m\u001b[32m \u001b[0m\u001b[32m \u001b[0m\u001b[32mr\u001b[0m\u001b[32me\u001b[0m\u001b[32mt\u001b[0m\u001b[32mu\u001b[0m\u001b[32mr\u001b[0m\u001b[32mn\u001b[0m\u001b[32m \u001b[0m\u001b[32mn\u001b[0m\u001b[32mu\u001b[0m\u001b[32mm\u001b[0m\u001b[32ms\u001b[0m\u001b[32m\n",
      "\u001b[0m\u001b[32m`\u001b[0m\u001b[32m`\u001b[0m\u001b[32m`\u001b[0m"
     ]
    }
   ],
   "source": [
    "%duck -p"
   ]
  },
  {
   "cell_type": "code",
   "execution_count": 75,
   "metadata": {
    "ExecuteTime": {
     "end_time": "2023-04-14T04:59:55.047767Z",
     "start_time": "2023-04-14T04:59:54.984173Z"
    }
   },
   "outputs": [],
   "source": [
    "def bubble_sort(nums):\n",
    "    for i in range(len(nums)):\n",
    "        for j in range(len(nums) - 1):  # subtract 1 from the length of the list\n",
    "            if nums[j] > nums[j + 1]:\n",
    "                nums[j + 1], nums[j] = nums[j], nums[j + 1]\n",
    "    return nums"
   ]
  },
  {
   "cell_type": "code",
   "execution_count": 76,
   "metadata": {
    "ExecuteTime": {
     "end_time": "2023-04-14T04:59:55.667645Z",
     "start_time": "2023-04-14T04:59:55.620685Z"
    }
   },
   "outputs": [
    {
     "data": {
      "text/plain": [
       "[-100, 1, 3, 4, 5, 5, 5, 9, 22, 33]"
      ]
     },
     "execution_count": 76,
     "metadata": {},
     "output_type": "execute_result"
    }
   ],
   "source": [
    "bubble_sort(nums)"
   ]
  },
  {
   "cell_type": "markdown",
   "metadata": {},
   "source": [
    "## Logging"
   ]
  },
  {
   "cell_type": "code",
   "execution_count": 13,
   "metadata": {
    "ExecuteTime": {
     "end_time": "2023-04-15T04:48:16.925740Z",
     "start_time": "2023-04-15T04:48:16.896647Z"
    }
   },
   "outputs": [],
   "source": [
    "from roboduck import logging"
   ]
  },
  {
   "cell_type": "code",
   "execution_count": 14,
   "metadata": {
    "ExecuteTime": {
     "end_time": "2023-04-15T04:48:17.224255Z",
     "start_time": "2023-04-15T04:48:17.108669Z"
    }
   },
   "outputs": [],
   "source": [
    "def bubble_sort(nums):\n",
    "    for i in range(len(nums)):\n",
    "        for j in range(len(nums)):\n",
    "            if nums[j] > nums[j + 1]:\n",
    "                nums[j + 1], nums[j] = nums[j], nums[j + 1]\n",
    "    return nums"
   ]
  },
  {
   "cell_type": "markdown",
   "metadata": {
    "ExecuteTime": {
     "end_time": "2023-04-15T04:50:08.817566Z",
     "start_time": "2023-04-15T04:50:08.736782Z"
    }
   },
   "source": [
    "Dummy model, stdout only."
   ]
  },
  {
   "cell_type": "code",
   "execution_count": 16,
   "metadata": {
    "ExecuteTime": {
     "end_time": "2023-04-15T04:48:24.584579Z",
     "start_time": "2023-04-15T04:48:24.557871Z"
    },
    "run_control": {
     "marked": false
    }
   },
   "outputs": [],
   "source": [
    "logger = logging.getLogger(chat_class=DummyChatModel)"
   ]
  },
  {
   "cell_type": "code",
   "execution_count": 18,
   "metadata": {
    "ExecuteTime": {
     "end_time": "2023-04-15T04:48:43.830984Z",
     "start_time": "2023-04-15T04:48:43.752012Z"
    }
   },
   "outputs": [
    {
     "name": "stdout",
     "output_type": "stream",
     "text": [
      "isinstance(msg, Exception) -> True\n",
      "exc_info: <traceback object at 0x7fa22c542d00> True\n",
      "Traceback (most recent call last):\n",
      "  File \"<ipython-input-18-165e55a87f8f>\", line 2, in <module>\n",
      "    result = bubble_sort(nums)\n",
      "  File \"<ipython-input-14-3f12a9f434a7>\", line 4, in bubble_sort\n",
      "    if nums[j] > nums[j + 1]:\n",
      "IndexError: list index out of range\n",
      "\n",
      "> <ipython-input-14-3f12a9f434a7>(4)bubble_sort()\n",
      "-> if nums[j] > nums[j + 1]:\n",
      "2023-04-14 21:48:43,828 [INFO]: list index out of range\n",
      "\n",
      "THIS CODE SNIPPET THROWS AN ERROR. HELP ME FIX IT. FIRST EXAMINE THE SNIPPET OF CODE THAT CAUSES THE ISSUE AND LOOK AT THE VALUES OF THE LOCAL AND GLOBAL VARIABLES. THEN PROVIDE A RESPONSE WITH EXACTLY TWO SECTIONS, SEPARATED BY AN EMPTY LINE. (THEY SHOULD APPEAR TO THE USER AS A SINGLE SECTION, HOWEVER - DO NOT INCLUDE SECTION TITLES OF ANY KIND.) IN SECTION 1, USE PLAIN ENGLISH TO EXPLAIN WHAT THE PROBLEM IS AND HOW TO FIX IT (IF YOU CAN'T IDENTIFY THE PROBLEM, SECTION 1 SHOULD INSTEAD LIST A FEW POSSIBLE CAUSES OR THINGS I COULD TRY IN ORDER TO IDENTIFY THE ISSUE). IN SECTION 2, WRITE A CORRECTED VERSION OF THE INPUT CODE SNIPPET (IF YOU DON'T KNOW, SECTION 2 SHOULD BE EMPTY). SECTION 2 MUST CONTAIN ONLY PYTHON CODE - THERE MUST NOT BE ANY ENGLISH EXPLANATION OUTSIDE OF CODE COMMENTS OR DOCSTRINGS. SECTION 2 MUST BE ENTIRELY ENCLOSED IN ONE PAIR OF TRIPLE BACKTICKS (\"```\").\n",
      "\n",
      "CURRENT CODE SNIPPET:\n",
      "DEF BUBBLE_SORT(NUMS):\n",
      "    FOR I IN RANGE(LEN(NUMS)):\n",
      "        FOR J IN RANGE(LEN(NUMS)):\n",
      "            IF NUMS[J] > NUMS[J + 1]:\n",
      "                NUMS[J + 1], NUMS[J] = NUMS[J], NUMS[J + 1]\n",
      "    RETURN NUMS\n",
      "\n",
      "STACK TRACE:\n",
      "TRACEBACK (MOST RECENT CALL LAST):\n",
      "  FILE \"<IPYTHON-INPUT-18-165E55A87F8F>\", LINE 2, IN <MODULE>\n",
      "    RESULT = BUBBLE_SORT(NUMS)\n",
      "  FILE \"<IPYTHON-INPUT-14-3F12A9F434A7>\", LINE 4, IN BUBBLE_SORT\n",
      "    IF NUMS[J] > NUMS[J + 1]:\n",
      "INDEXERROR: LIST INDEX OUT OF RANGE\n",
      "\n",
      "\n",
      "NEXT LINE:\n",
      "            IF NUMS[J] > NUMS[J + 1]:\n",
      "\n",
      "LOCAL VARIABLES:\n",
      "{\n",
      "    'NUMS': [1, 3, -100, 4, 5, 5, 5, 9, 22, 33],   # TYPE: LIST\n",
      "    'I': 0,   # TYPE: INT\n",
      "    'J': 9,   # TYPE: INT\n",
      "}\n",
      "\n",
      "GLOBAL VARIABLES:\n",
      "{\n",
      "    'NUMS': [1, 3, -100, 4, 5, 5, 5, 9, 22, 33],   # TYPE: LIST\n",
      "}\n",
      "\n",
      "\n"
     ]
    }
   ],
   "source": [
    "try:\n",
    "    result = bubble_sort(nums)\n",
    "except Exception as e:\n",
    "    logger.info(e)"
   ]
  },
  {
   "cell_type": "markdown",
   "metadata": {
    "ExecuteTime": {
     "end_time": "2023-04-15T04:50:08.817566Z",
     "start_time": "2023-04-15T04:50:08.736782Z"
    }
   },
   "source": [
    "Dummy model, file only."
   ]
  },
  {
   "cell_type": "code",
   "execution_count": 21,
   "metadata": {
    "ExecuteTime": {
     "end_time": "2023-04-15T04:49:17.128408Z",
     "start_time": "2023-04-15T04:49:17.051839Z"
    },
    "run_control": {
     "marked": false
    }
   },
   "outputs": [],
   "source": [
    "logger = logging.getLogger(chat_class=DummyChatModel, \n",
    "                           path='data/tmp/test.log',\n",
    "                           stdout=False)"
   ]
  },
  {
   "cell_type": "code",
   "execution_count": 22,
   "metadata": {
    "ExecuteTime": {
     "end_time": "2023-04-15T04:49:19.804804Z",
     "start_time": "2023-04-15T04:49:19.750816Z"
    }
   },
   "outputs": [
    {
     "name": "stdout",
     "output_type": "stream",
     "text": [
      "isinstance(msg, Exception) -> True\n",
      "exc_info: <traceback object at 0x7fa22d854980> True\n",
      "Traceback (most recent call last):\n",
      "  File \"<ipython-input-22-165e55a87f8f>\", line 2, in <module>\n",
      "    result = bubble_sort(nums)\n",
      "  File \"<ipython-input-14-3f12a9f434a7>\", line 4, in bubble_sort\n",
      "    if nums[j] > nums[j + 1]:\n",
      "IndexError: list index out of range\n",
      "\n",
      "> <ipython-input-14-3f12a9f434a7>(4)bubble_sort()\n",
      "-> if nums[j] > nums[j + 1]:\n"
     ]
    }
   ],
   "source": [
    "try:\n",
    "    result = bubble_sort(nums)\n",
    "except Exception as e:\n",
    "    logger.info(e)"
   ]
  },
  {
   "cell_type": "code",
   "execution_count": 23,
   "metadata": {
    "ExecuteTime": {
     "end_time": "2023-04-15T04:49:29.156067Z",
     "start_time": "2023-04-15T04:49:28.976948Z"
    },
    "scrolled": true
   },
   "outputs": [
    {
     "name": "stdout",
     "output_type": "stream",
     "text": [
      "2023-04-14 21:49:19,802 [INFO]: list index out of range\r\n",
      "\r\n",
      "THIS CODE SNIPPET THROWS AN ERROR. HELP ME FIX IT. FIRST EXAMINE THE SNIPPET OF CODE THAT CAUSES THE ISSUE AND LOOK AT THE VALUES OF THE LOCAL AND GLOBAL VARIABLES. THEN PROVIDE A RESPONSE WITH EXACTLY TWO SECTIONS, SEPARATED BY AN EMPTY LINE. (THEY SHOULD APPEAR TO THE USER AS A SINGLE SECTION, HOWEVER - DO NOT INCLUDE SECTION TITLES OF ANY KIND.) IN SECTION 1, USE PLAIN ENGLISH TO EXPLAIN WHAT THE PROBLEM IS AND HOW TO FIX IT (IF YOU CAN'T IDENTIFY THE PROBLEM, SECTION 1 SHOULD INSTEAD LIST A FEW POSSIBLE CAUSES OR THINGS I COULD TRY IN ORDER TO IDENTIFY THE ISSUE). IN SECTION 2, WRITE A CORRECTED VERSION OF THE INPUT CODE SNIPPET (IF YOU DON'T KNOW, SECTION 2 SHOULD BE EMPTY). SECTION 2 MUST CONTAIN ONLY PYTHON CODE - THERE MUST NOT BE ANY ENGLISH EXPLANATION OUTSIDE OF CODE COMMENTS OR DOCSTRINGS. SECTION 2 MUST BE ENTIRELY ENCLOSED IN ONE PAIR OF TRIPLE BACKTICKS (\"```\").\r\n",
      "\r\n",
      "CURRENT CODE SNIPPET:\r\n",
      "DEF BUBBLE_SORT(NUMS):\r\n",
      "    FOR I IN RANGE(LEN(NUMS)):\r\n",
      "        FOR J IN RANGE(LEN(NUMS)):\r\n",
      "            IF NUMS[J] > NUMS[J + 1]:\r\n",
      "                NUMS[J + 1], NUMS[J] = NUMS[J], NUMS[J + 1]\r\n",
      "    RETURN NUMS\r\n",
      "\r\n",
      "STACK TRACE:\r\n",
      "TRACEBACK (MOST RECENT CALL LAST):\r\n",
      "  FILE \"<IPYTHON-INPUT-22-165E55A87F8F>\", LINE 2, IN <MODULE>\r\n",
      "    RESULT = BUBBLE_SORT(NUMS)\r\n",
      "  FILE \"<IPYTHON-INPUT-14-3F12A9F434A7>\", LINE 4, IN BUBBLE_SORT\r\n",
      "    IF NUMS[J] > NUMS[J + 1]:\r\n",
      "INDEXERROR: LIST INDEX OUT OF RANGE\r\n",
      "\r\n",
      "\r\n",
      "NEXT LINE:\r\n",
      "            IF NUMS[J] > NUMS[J + 1]:\r\n",
      "\r\n",
      "LOCAL VARIABLES:\r\n",
      "{\r\n",
      "    'NUMS': [1, -100, 3, 4, 5, 5, 5, 9, 22, 33],   # TYPE: LIST\r\n",
      "    'I': 0,   # TYPE: INT\r\n",
      "    'J': 9,   # TYPE: INT\r\n",
      "}\r\n",
      "\r\n",
      "GLOBAL VARIABLES:\r\n",
      "{\r\n",
      "    'NUMS': [1, -100, 3, 4, 5, 5, 5, 9, 22, 33],   # TYPE: LIST\r\n",
      "}\r\n",
      "\r\n",
      "\r\n"
     ]
    }
   ],
   "source": [
    "!cat data/tmp/test.log"
   ]
  },
  {
   "cell_type": "markdown",
   "metadata": {},
   "source": [
    "ChatGPT, file only"
   ]
  },
  {
   "cell_type": "code",
   "execution_count": 25,
   "metadata": {
    "ExecuteTime": {
     "end_time": "2023-04-15T04:50:33.356481Z",
     "start_time": "2023-04-15T04:50:33.309628Z"
    },
    "run_control": {
     "marked": false
    }
   },
   "outputs": [],
   "source": [
    "logger = logging.getLogger(chat_class=DummyChatModel, \n",
    "                           path='data/tmp/test.log',\n",
    "                           stdout=False)"
   ]
  },
  {
   "cell_type": "code",
   "execution_count": 26,
   "metadata": {
    "ExecuteTime": {
     "end_time": "2023-04-15T04:50:37.942431Z",
     "start_time": "2023-04-15T04:50:37.881923Z"
    }
   },
   "outputs": [
    {
     "name": "stdout",
     "output_type": "stream",
     "text": [
      "isinstance(msg, Exception) -> True\n",
      "exc_info: <traceback object at 0x7fa22dab60c0> True\n",
      "Traceback (most recent call last):\n",
      "  File \"<ipython-input-26-165e55a87f8f>\", line 2, in <module>\n",
      "    result = bubble_sort(nums)\n",
      "  File \"<ipython-input-14-3f12a9f434a7>\", line 4, in bubble_sort\n",
      "    if nums[j] > nums[j + 1]:\n",
      "IndexError: list index out of range\n",
      "\n",
      "> <ipython-input-14-3f12a9f434a7>(4)bubble_sort()\n",
      "-> if nums[j] > nums[j + 1]:\n"
     ]
    }
   ],
   "source": [
    "try:\n",
    "    result = bubble_sort(nums)\n",
    "except Exception as e:\n",
    "    logger.info(e)"
   ]
  },
  {
   "cell_type": "code",
   "execution_count": 27,
   "metadata": {
    "ExecuteTime": {
     "end_time": "2023-04-15T04:50:50.975541Z",
     "start_time": "2023-04-15T04:50:50.795956Z"
    },
    "scrolled": true
   },
   "outputs": [
    {
     "name": "stdout",
     "output_type": "stream",
     "text": [
      "2023-04-14 21:49:19,802 [INFO]: list index out of range\r\n",
      "\r\n",
      "THIS CODE SNIPPET THROWS AN ERROR. HELP ME FIX IT. FIRST EXAMINE THE SNIPPET OF CODE THAT CAUSES THE ISSUE AND LOOK AT THE VALUES OF THE LOCAL AND GLOBAL VARIABLES. THEN PROVIDE A RESPONSE WITH EXACTLY TWO SECTIONS, SEPARATED BY AN EMPTY LINE. (THEY SHOULD APPEAR TO THE USER AS A SINGLE SECTION, HOWEVER - DO NOT INCLUDE SECTION TITLES OF ANY KIND.) IN SECTION 1, USE PLAIN ENGLISH TO EXPLAIN WHAT THE PROBLEM IS AND HOW TO FIX IT (IF YOU CAN'T IDENTIFY THE PROBLEM, SECTION 1 SHOULD INSTEAD LIST A FEW POSSIBLE CAUSES OR THINGS I COULD TRY IN ORDER TO IDENTIFY THE ISSUE). IN SECTION 2, WRITE A CORRECTED VERSION OF THE INPUT CODE SNIPPET (IF YOU DON'T KNOW, SECTION 2 SHOULD BE EMPTY). SECTION 2 MUST CONTAIN ONLY PYTHON CODE - THERE MUST NOT BE ANY ENGLISH EXPLANATION OUTSIDE OF CODE COMMENTS OR DOCSTRINGS. SECTION 2 MUST BE ENTIRELY ENCLOSED IN ONE PAIR OF TRIPLE BACKTICKS (\"```\").\r\n",
      "\r\n",
      "CURRENT CODE SNIPPET:\r\n",
      "DEF BUBBLE_SORT(NUMS):\r\n",
      "    FOR I IN RANGE(LEN(NUMS)):\r\n",
      "        FOR J IN RANGE(LEN(NUMS)):\r\n",
      "            IF NUMS[J] > NUMS[J + 1]:\r\n",
      "                NUMS[J + 1], NUMS[J] = NUMS[J], NUMS[J + 1]\r\n",
      "    RETURN NUMS\r\n",
      "\r\n",
      "STACK TRACE:\r\n",
      "TRACEBACK (MOST RECENT CALL LAST):\r\n",
      "  FILE \"<IPYTHON-INPUT-22-165E55A87F8F>\", LINE 2, IN <MODULE>\r\n",
      "    RESULT = BUBBLE_SORT(NUMS)\r\n",
      "  FILE \"<IPYTHON-INPUT-14-3F12A9F434A7>\", LINE 4, IN BUBBLE_SORT\r\n",
      "    IF NUMS[J] > NUMS[J + 1]:\r\n",
      "INDEXERROR: LIST INDEX OUT OF RANGE\r\n",
      "\r\n",
      "\r\n",
      "NEXT LINE:\r\n",
      "            IF NUMS[J] > NUMS[J + 1]:\r\n",
      "\r\n",
      "LOCAL VARIABLES:\r\n",
      "{\r\n",
      "    'NUMS': [1, -100, 3, 4, 5, 5, 5, 9, 22, 33],   # TYPE: LIST\r\n",
      "    'I': 0,   # TYPE: INT\r\n",
      "    'J': 9,   # TYPE: INT\r\n",
      "}\r\n",
      "\r\n",
      "GLOBAL VARIABLES:\r\n",
      "{\r\n",
      "    'NUMS': [1, -100, 3, 4, 5, 5, 5, 9, 22, 33],   # TYPE: LIST\r\n",
      "}\r\n",
      "\r\n",
      "\r\n",
      "2023-04-14 21:50:37,936 [INFO]: list index out of range\r\n",
      "\r\n",
      "THIS CODE SNIPPET THROWS AN ERROR. HELP ME FIX IT. FIRST EXAMINE THE SNIPPET OF CODE THAT CAUSES THE ISSUE AND LOOK AT THE VALUES OF THE LOCAL AND GLOBAL VARIABLES. THEN PROVIDE A RESPONSE WITH EXACTLY TWO SECTIONS, SEPARATED BY AN EMPTY LINE. (THEY SHOULD APPEAR TO THE USER AS A SINGLE SECTION, HOWEVER - DO NOT INCLUDE SECTION TITLES OF ANY KIND.) IN SECTION 1, USE PLAIN ENGLISH TO EXPLAIN WHAT THE PROBLEM IS AND HOW TO FIX IT (IF YOU CAN'T IDENTIFY THE PROBLEM, SECTION 1 SHOULD INSTEAD LIST A FEW POSSIBLE CAUSES OR THINGS I COULD TRY IN ORDER TO IDENTIFY THE ISSUE). IN SECTION 2, WRITE A CORRECTED VERSION OF THE INPUT CODE SNIPPET (IF YOU DON'T KNOW, SECTION 2 SHOULD BE EMPTY). SECTION 2 MUST CONTAIN ONLY PYTHON CODE - THERE MUST NOT BE ANY ENGLISH EXPLANATION OUTSIDE OF CODE COMMENTS OR DOCSTRINGS. SECTION 2 MUST BE ENTIRELY ENCLOSED IN ONE PAIR OF TRIPLE BACKTICKS (\"```\").\r\n",
      "\r\n",
      "CURRENT CODE SNIPPET:\r\n",
      "DEF BUBBLE_SORT(NUMS):\r\n",
      "    FOR I IN RANGE(LEN(NUMS)):\r\n",
      "        FOR J IN RANGE(LEN(NUMS)):\r\n",
      "            IF NUMS[J] > NUMS[J + 1]:\r\n",
      "                NUMS[J + 1], NUMS[J] = NUMS[J], NUMS[J + 1]\r\n",
      "    RETURN NUMS\r\n",
      "\r\n",
      "STACK TRACE:\r\n",
      "TRACEBACK (MOST RECENT CALL LAST):\r\n",
      "  FILE \"<IPYTHON-INPUT-26-165E55A87F8F>\", LINE 2, IN <MODULE>\r\n",
      "    RESULT = BUBBLE_SORT(NUMS)\r\n",
      "  FILE \"<IPYTHON-INPUT-14-3F12A9F434A7>\", LINE 4, IN BUBBLE_SORT\r\n",
      "    IF NUMS[J] > NUMS[J + 1]:\r\n",
      "INDEXERROR: LIST INDEX OUT OF RANGE\r\n",
      "\r\n",
      "\r\n",
      "NEXT LINE:\r\n",
      "            IF NUMS[J] > NUMS[J + 1]:\r\n",
      "\r\n",
      "LOCAL VARIABLES:\r\n",
      "{\r\n",
      "    'NUMS': [-100, 1, 3, 4, 5, 5, 5, 9, 22, 33],   # TYPE: LIST\r\n",
      "    'I': 0,   # TYPE: INT\r\n",
      "    'J': 9,   # TYPE: INT\r\n",
      "}\r\n",
      "\r\n",
      "GLOBAL VARIABLES:\r\n",
      "{\r\n",
      "    'NUMS': [-100, 1, 3, 4, 5, 5, 5, 9, 22, 33],   # TYPE: LIST\r\n",
      "}\r\n",
      "\r\n",
      "\r\n"
     ]
    }
   ],
   "source": [
    "!cat data/tmp/test.log"
   ]
  }
 ],
 "metadata": {
  "kernelspec": {
   "display_name": "Python 3",
   "language": "python",
   "name": "python3"
  },
  "language_info": {
   "codemirror_mode": {
    "name": "ipython",
    "version": 3
   },
   "file_extension": ".py",
   "mimetype": "text/x-python",
   "name": "python",
   "nbconvert_exporter": "python",
   "pygments_lexer": "ipython3",
   "version": "3.8.2"
  }
 },
 "nbformat": 4,
 "nbformat_minor": 2
}
