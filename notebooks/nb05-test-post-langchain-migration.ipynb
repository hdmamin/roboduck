{
 "cells": [
  {
   "cell_type": "code",
   "execution_count": null,
   "metadata": {
    "ExecuteTime": {
     "end_time": "2023-06-01T05:04:00.954595Z",
     "start_time": "2023-06-01T05:04:00.891764Z"
    }
   },
   "outputs": [],
   "source": [
    "%load_ext autoreload\n",
    "%autoreload 2"
   ]
  },
  {
   "cell_type": "code",
   "execution_count": null,
   "metadata": {
    "ExecuteTime": {
     "end_time": "2023-06-01T05:04:04.569821Z",
     "start_time": "2023-06-01T05:04:02.741991Z"
    }
   },
   "outputs": [],
   "source": [
    "import matplotlib.pyplot as plt\n",
    "import numpy as np\n",
    "import os\n",
    "import pandas as pd\n",
    "from pathlib import Path\n",
    "\n",
    "from htools import *"
   ]
  },
  {
   "cell_type": "code",
   "execution_count": null,
   "metadata": {
    "ExecuteTime": {
     "end_time": "2023-06-01T05:04:05.603668Z",
     "start_time": "2023-06-01T05:04:05.567039Z"
    }
   },
   "outputs": [],
   "source": [
    "cd_root()"
   ]
  },
  {
   "cell_type": "code",
   "execution_count": null,
   "metadata": {
    "ExecuteTime": {
     "end_time": "2023-06-01T05:04:07.607832Z",
     "start_time": "2023-06-01T05:04:07.582960Z"
    }
   },
   "outputs": [],
   "source": [
    "def bubble_sort(nums):\n",
    "    for i in range(len(nums)):\n",
    "        for j in range(len(nums)):\n",
    "            if nums[j] > nums[j + 1]:\n",
    "                nums[j + 1], nums[j] = nums[j], nums[j + 1]\n",
    "    return nums"
   ]
  },
  {
   "cell_type": "code",
   "execution_count": null,
   "metadata": {
    "ExecuteTime": {
     "end_time": "2023-06-01T05:04:07.965609Z",
     "start_time": "2023-06-01T05:04:07.943227Z"
    }
   },
   "outputs": [],
   "source": [
    "nums = [3, 4, 1, 22, 9, -100, 5, 5, 5, 33]"
   ]
  },
  {
   "cell_type": "code",
   "execution_count": null,
   "metadata": {
    "ExecuteTime": {
     "end_time": "2023-06-01T05:04:08.443109Z",
     "start_time": "2023-06-01T05:04:08.251490Z"
    }
   },
   "outputs": [],
   "source": [
    "bubble_sort(nums)"
   ]
  },
  {
   "cell_type": "markdown",
   "metadata": {},
   "source": [
    "## Debugger"
   ]
  },
  {
   "cell_type": "markdown",
   "metadata": {},
   "source": [
    "**Dummy Chat Model**"
   ]
  },
  {
   "cell_type": "code",
   "execution_count": null,
   "metadata": {
    "ExecuteTime": {
     "end_time": "2023-06-01T05:04:12.149569Z",
     "start_time": "2023-06-01T05:04:10.898187Z"
    }
   },
   "outputs": [],
   "source": [
    "from roboduck.debug import duck\n",
    "from roboduck.langchain.chat import DummyChatModel\n",
    "from roboduck.debug import CodeCompletionCache\n",
    "from roboduck.utils import parse_completion"
   ]
  },
  {
   "cell_type": "code",
   "execution_count": null,
   "metadata": {
    "ExecuteTime": {
     "end_time": "2023-06-01T05:04:13.784751Z",
     "start_time": "2023-06-01T05:04:13.755969Z"
    }
   },
   "outputs": [],
   "source": [
    "def bubble_sort(nums):\n",
    "    for i in range(len(nums)):\n",
    "        for j in range(len(nums)):\n",
    "            if nums[j] > nums[j + 1]:\n",
    "                nums[j + 1], nums[j] = nums[j], nums[j + 1]\n",
    "                duck(chat_class=DummyChatModel)\n",
    "    return nums"
   ]
  },
  {
   "cell_type": "code",
   "execution_count": null,
   "metadata": {
    "ExecuteTime": {
     "end_time": "2023-05-31T07:14:04.461910Z",
     "start_time": "2023-05-31T07:13:49.699116Z"
    }
   },
   "outputs": [],
   "source": [
    "bubble_sort(nums)"
   ]
  },
  {
   "cell_type": "markdown",
   "metadata": {},
   "source": [
    "**ChatGPT**"
   ]
  },
  {
   "cell_type": "code",
   "execution_count": null,
   "metadata": {
    "ExecuteTime": {
     "end_time": "2023-05-25T03:34:59.143926Z",
     "start_time": "2023-05-25T03:34:59.037755Z"
    }
   },
   "outputs": [],
   "source": [
    "def bubble_sort(nums):\n",
    "    for i in range(len(nums)):\n",
    "        for j in range(len(nums)):\n",
    "            if nums[j] > nums[j + 1]:\n",
    "                nums[j + 1], nums[j] = nums[j], nums[j + 1]\n",
    "                duck()\n",
    "    return nums"
   ]
  },
  {
   "cell_type": "code",
   "execution_count": null,
   "metadata": {
    "ExecuteTime": {
     "end_time": "2023-05-25T03:36:46.095214Z",
     "start_time": "2023-05-25T03:34:59.598083Z"
    }
   },
   "outputs": [],
   "source": [
    "bubble_sort(nums)"
   ]
  },
  {
   "cell_type": "markdown",
   "metadata": {},
   "source": [
    "**GPT4**"
   ]
  },
  {
   "cell_type": "code",
   "execution_count": null,
   "metadata": {
    "ExecuteTime": {
     "end_time": "2023-05-25T03:37:40.972033Z",
     "start_time": "2023-05-25T03:37:40.940511Z"
    }
   },
   "outputs": [],
   "source": [
    "def bubble_sort(nums):\n",
    "    for i in range(len(nums)):\n",
    "        for j in range(len(nums)):\n",
    "            if nums[j] > nums[j + 1]:\n",
    "                nums[j + 1], nums[j] = nums[j], nums[j + 1]\n",
    "                duck(model_name='gpt-4')\n",
    "    return nums"
   ]
  },
  {
   "cell_type": "code",
   "execution_count": null,
   "metadata": {
    "ExecuteTime": {
     "end_time": "2023-05-25T03:38:23.878130Z",
     "start_time": "2023-05-25T03:37:42.585065Z"
    },
    "scrolled": true
   },
   "outputs": [],
   "source": [
    "bubble_sort(nums)"
   ]
  },
  {
   "cell_type": "markdown",
   "metadata": {},
   "source": [
    "## Errors"
   ]
  },
  {
   "cell_type": "code",
   "execution_count": null,
   "metadata": {
    "ExecuteTime": {
     "end_time": "2023-06-02T06:03:56.211419Z",
     "start_time": "2023-06-02T06:03:55.972478Z"
    }
   },
   "outputs": [],
   "source": [
    "from roboduck import errors"
   ]
  },
  {
   "cell_type": "code",
   "execution_count": null,
   "metadata": {
    "ExecuteTime": {
     "end_time": "2023-06-02T06:03:57.216782Z",
     "start_time": "2023-06-02T06:03:57.178464Z"
    }
   },
   "outputs": [],
   "source": [
    "errors.enable(interactive=True)"
   ]
  },
  {
   "cell_type": "code",
   "execution_count": null,
   "metadata": {
    "ExecuteTime": {
     "end_time": "2023-06-02T06:03:58.670043Z",
     "start_time": "2023-06-02T06:03:58.634634Z"
    }
   },
   "outputs": [],
   "source": [
    "def bubble_sort(nums):\n",
    "    for i in range(len(nums)):\n",
    "        for j in range(len(nums)):\n",
    "            if nums[j] > nums[j + 1]:\n",
    "                nums[j + 1], nums[j] = nums[j], nums[j + 1]\n",
    "    return nums"
   ]
  },
  {
   "cell_type": "code",
   "execution_count": null,
   "metadata": {
    "ExecuteTime": {
     "end_time": "2023-06-02T06:03:59.697902Z",
     "start_time": "2023-06-02T06:03:59.669928Z"
    }
   },
   "outputs": [],
   "source": [
    "nums = [3, 4, 1, 22, 9, -100, 5, 5, 5, 33]"
   ]
  },
  {
   "cell_type": "code",
   "execution_count": null,
   "metadata": {
    "ExecuteTime": {
     "end_time": "2023-06-02T06:04:47.383106Z",
     "start_time": "2023-06-02T06:04:00.867698Z"
    }
   },
   "outputs": [],
   "source": [
    "bubble_sort(nums)"
   ]
  },
  {
   "cell_type": "code",
   "execution_count": null,
   "metadata": {},
   "outputs": [],
   "source": []
  },
  {
   "cell_type": "code",
   "execution_count": null,
   "metadata": {},
   "outputs": [],
   "source": []
  },
  {
   "cell_type": "code",
   "execution_count": null,
   "metadata": {},
   "outputs": [],
   "source": []
  },
  {
   "cell_type": "code",
   "execution_count": null,
   "metadata": {},
   "outputs": [],
   "source": []
  },
  {
   "cell_type": "code",
   "execution_count": null,
   "metadata": {},
   "outputs": [],
   "source": []
  },
  {
   "cell_type": "code",
   "execution_count": null,
   "metadata": {},
   "outputs": [],
   "source": []
  },
  {
   "cell_type": "code",
   "execution_count": null,
   "metadata": {},
   "outputs": [],
   "source": []
  },
  {
   "cell_type": "code",
   "execution_count": null,
   "metadata": {},
   "outputs": [],
   "source": []
  },
  {
   "cell_type": "code",
   "execution_count": null,
   "metadata": {},
   "outputs": [],
   "source": []
  },
  {
   "cell_type": "code",
   "execution_count": null,
   "metadata": {},
   "outputs": [],
   "source": []
  },
  {
   "cell_type": "code",
   "execution_count": null,
   "metadata": {
    "ExecuteTime": {
     "end_time": "2023-05-28T03:52:22.327399Z",
     "start_time": "2023-05-28T03:52:22.242618Z"
    }
   },
   "outputs": [],
   "source": [
    "errors.enable(chat_class=DummyChatModel, interactive=True)"
   ]
  },
  {
   "cell_type": "code",
   "execution_count": null,
   "metadata": {
    "ExecuteTime": {
     "end_time": "2023-05-28T03:53:02.143396Z",
     "start_time": "2023-05-28T03:52:26.673548Z"
    }
   },
   "outputs": [],
   "source": [
    "# Not totally obvious but this does not finish executing. The fact that it\n",
    "# doesn't finish is intended, but it should be obvious that that's the case.\n",
    "res = bubble_sort(nums)\n",
    "print('after code')"
   ]
  },
  {
   "cell_type": "code",
   "execution_count": null,
   "metadata": {
    "ExecuteTime": {
     "end_time": "2023-05-28T03:53:15.380652Z",
     "start_time": "2023-05-28T03:53:13.914056Z"
    }
   },
   "outputs": [],
   "source": [
    "res"
   ]
  },
  {
   "cell_type": "code",
   "execution_count": null,
   "metadata": {
    "ExecuteTime": {
     "end_time": "2023-04-13T04:35:34.029135Z",
     "start_time": "2023-04-13T04:35:33.966413Z"
    }
   },
   "outputs": [],
   "source": [
    "# Excepthook does not execute if we catch it.\n",
    "try:\n",
    "    res = bubble_sort(nums)\n",
    "except Exception as e:\n",
    "    print('In except')\n",
    "    print(e)"
   ]
  },
  {
   "cell_type": "code",
   "execution_count": null,
   "metadata": {
    "ExecuteTime": {
     "end_time": "2023-04-13T04:35:58.315413Z",
     "start_time": "2023-04-13T04:35:58.247042Z"
    }
   },
   "outputs": [],
   "source": [
    "errors.enable(auto=True, chat_class=DummyChatModel)"
   ]
  },
  {
   "cell_type": "code",
   "execution_count": null,
   "metadata": {
    "ExecuteTime": {
     "end_time": "2023-04-13T04:36:31.616049Z",
     "start_time": "2023-04-13T04:36:06.855335Z"
    }
   },
   "outputs": [],
   "source": [
    "res = bubble_sort(nums)\n",
    "print('after')"
   ]
  },
  {
   "cell_type": "code",
   "execution_count": null,
   "metadata": {
    "ExecuteTime": {
     "end_time": "2023-04-13T04:36:55.586380Z",
     "start_time": "2023-04-13T04:36:55.507169Z"
    }
   },
   "outputs": [],
   "source": [
    "errors.disable()"
   ]
  },
  {
   "cell_type": "code",
   "execution_count": null,
   "metadata": {
    "ExecuteTime": {
     "end_time": "2023-04-13T04:37:02.948504Z",
     "start_time": "2023-04-13T04:37:02.874537Z"
    }
   },
   "outputs": [],
   "source": [
    "3 + 'z'"
   ]
  },
  {
   "cell_type": "code",
   "execution_count": null,
   "metadata": {
    "ExecuteTime": {
     "end_time": "2023-04-13T04:46:14.719953Z",
     "start_time": "2023-04-13T04:46:14.457396Z"
    }
   },
   "outputs": [],
   "source": [
    "errors.enable(chat_class=DummyChatModel)"
   ]
  },
  {
   "cell_type": "code",
   "execution_count": null,
   "metadata": {
    "ExecuteTime": {
     "end_time": "2023-04-13T04:46:42.566334Z",
     "start_time": "2023-04-13T04:46:14.877925Z"
    }
   },
   "outputs": [],
   "source": [
    "res = bubble_sort(nums)\n",
    "print('after')"
   ]
  },
  {
   "cell_type": "code",
   "execution_count": null,
   "metadata": {
    "ExecuteTime": {
     "end_time": "2023-05-28T03:55:03.169037Z",
     "start_time": "2023-05-28T03:55:03.074364Z"
    }
   },
   "outputs": [],
   "source": [
    "errors.disable()"
   ]
  },
  {
   "cell_type": "markdown",
   "metadata": {},
   "source": [
    "## Magic"
   ]
  },
  {
   "cell_type": "code",
   "execution_count": null,
   "metadata": {
    "ExecuteTime": {
     "end_time": "2023-06-01T05:16:57.426905Z",
     "start_time": "2023-06-01T05:16:57.345299Z"
    },
    "run_control": {
     "marked": false
    }
   },
   "outputs": [],
   "source": [
    "from roboduck import magic"
   ]
  },
  {
   "cell_type": "code",
   "execution_count": null,
   "metadata": {
    "ExecuteTime": {
     "end_time": "2023-06-01T05:16:57.873459Z",
     "start_time": "2023-06-01T05:16:57.846143Z"
    }
   },
   "outputs": [],
   "source": [
    "def bubble_sort(nums):\n",
    "    for i in range(len(nums)):\n",
    "        for j in range(len(nums)):\n",
    "            if nums[j] > nums[j + 1]:\n",
    "                nums[j + 1], nums[j] = nums[j], nums[j + 1]\n",
    "    return nums"
   ]
  },
  {
   "cell_type": "code",
   "execution_count": null,
   "metadata": {
    "ExecuteTime": {
     "end_time": "2023-06-01T05:16:58.767101Z",
     "start_time": "2023-06-01T05:16:58.740599Z"
    }
   },
   "outputs": [],
   "source": [
    "nums = [3, 4, 1, 22, 9, -100, 5, 5, 5, 33]"
   ]
  },
  {
   "cell_type": "code",
   "execution_count": null,
   "metadata": {
    "ExecuteTime": {
     "end_time": "2023-06-01T05:16:59.653231Z",
     "start_time": "2023-06-01T05:16:59.479695Z"
    }
   },
   "outputs": [],
   "source": [
    "bubble_sort(nums)"
   ]
  },
  {
   "cell_type": "code",
   "execution_count": null,
   "metadata": {
    "ExecuteTime": {
     "end_time": "2023-06-01T05:17:37.166911Z",
     "start_time": "2023-06-01T05:17:05.011931Z"
    }
   },
   "outputs": [],
   "source": [
    "%duck -ip"
   ]
  },
  {
   "cell_type": "code",
   "execution_count": null,
   "metadata": {
    "ExecuteTime": {
     "end_time": "2023-06-01T05:17:40.685136Z",
     "start_time": "2023-06-01T05:17:40.617214Z"
    }
   },
   "outputs": [],
   "source": [
    "def bubble_sort(nums):\n",
    "    for i in range(len(nums)):\n",
    "        for j in range(len(nums) - i - 1):\n",
    "            if nums[j] > nums[j + 1]:\n",
    "                nums[j + 1], nums[j] = nums[j], nums[j + 1]\n",
    "    return nums"
   ]
  },
  {
   "cell_type": "code",
   "execution_count": null,
   "metadata": {
    "ExecuteTime": {
     "end_time": "2023-06-01T05:17:45.843679Z",
     "start_time": "2023-06-01T05:17:45.762991Z"
    }
   },
   "outputs": [],
   "source": [
    "bubble_sort(nums)"
   ]
  },
  {
   "cell_type": "markdown",
   "metadata": {},
   "source": [
    "## Logging"
   ]
  },
  {
   "cell_type": "code",
   "execution_count": null,
   "metadata": {
    "ExecuteTime": {
     "end_time": "2023-04-15T04:48:16.925740Z",
     "start_time": "2023-04-15T04:48:16.896647Z"
    }
   },
   "outputs": [],
   "source": [
    "from roboduck import logging"
   ]
  },
  {
   "cell_type": "code",
   "execution_count": null,
   "metadata": {
    "ExecuteTime": {
     "end_time": "2023-04-15T04:48:17.224255Z",
     "start_time": "2023-04-15T04:48:17.108669Z"
    }
   },
   "outputs": [],
   "source": [
    "def bubble_sort(nums):\n",
    "    for i in range(len(nums)):\n",
    "        for j in range(len(nums)):\n",
    "            if nums[j] > nums[j + 1]:\n",
    "                nums[j + 1], nums[j] = nums[j], nums[j + 1]\n",
    "    return nums"
   ]
  },
  {
   "cell_type": "markdown",
   "metadata": {
    "ExecuteTime": {
     "end_time": "2023-04-15T04:50:08.817566Z",
     "start_time": "2023-04-15T04:50:08.736782Z"
    }
   },
   "source": [
    "Dummy model, stdout only."
   ]
  },
  {
   "cell_type": "code",
   "execution_count": null,
   "metadata": {
    "ExecuteTime": {
     "end_time": "2023-04-15T04:48:24.584579Z",
     "start_time": "2023-04-15T04:48:24.557871Z"
    },
    "run_control": {
     "marked": false
    }
   },
   "outputs": [],
   "source": [
    "logger = logging.getLogger(chat_class=DummyChatModel)"
   ]
  },
  {
   "cell_type": "code",
   "execution_count": null,
   "metadata": {
    "ExecuteTime": {
     "end_time": "2023-04-15T04:48:43.830984Z",
     "start_time": "2023-04-15T04:48:43.752012Z"
    }
   },
   "outputs": [],
   "source": [
    "try:\n",
    "    result = bubble_sort(nums)\n",
    "except Exception as e:\n",
    "    logger.info(e)"
   ]
  },
  {
   "cell_type": "markdown",
   "metadata": {
    "ExecuteTime": {
     "end_time": "2023-04-15T04:50:08.817566Z",
     "start_time": "2023-04-15T04:50:08.736782Z"
    }
   },
   "source": [
    "Dummy model, file only."
   ]
  },
  {
   "cell_type": "code",
   "execution_count": null,
   "metadata": {
    "ExecuteTime": {
     "end_time": "2023-04-15T04:49:17.128408Z",
     "start_time": "2023-04-15T04:49:17.051839Z"
    },
    "run_control": {
     "marked": false
    }
   },
   "outputs": [],
   "source": [
    "logger = logging.getLogger(chat_class=DummyChatModel, \n",
    "                           path='data/tmp/test.log',\n",
    "                           stdout=False)"
   ]
  },
  {
   "cell_type": "code",
   "execution_count": null,
   "metadata": {
    "ExecuteTime": {
     "end_time": "2023-04-15T04:49:19.804804Z",
     "start_time": "2023-04-15T04:49:19.750816Z"
    }
   },
   "outputs": [],
   "source": [
    "try:\n",
    "    result = bubble_sort(nums)\n",
    "except Exception as e:\n",
    "    logger.info(e)"
   ]
  },
  {
   "cell_type": "code",
   "execution_count": null,
   "metadata": {
    "ExecuteTime": {
     "end_time": "2023-04-15T04:49:29.156067Z",
     "start_time": "2023-04-15T04:49:28.976948Z"
    },
    "scrolled": true
   },
   "outputs": [],
   "source": [
    "!cat data/tmp/test.log"
   ]
  },
  {
   "cell_type": "markdown",
   "metadata": {},
   "source": [
    "ChatGPT, file only"
   ]
  },
  {
   "cell_type": "code",
   "execution_count": null,
   "metadata": {
    "ExecuteTime": {
     "end_time": "2023-04-15T04:50:33.356481Z",
     "start_time": "2023-04-15T04:50:33.309628Z"
    },
    "run_control": {
     "marked": false
    }
   },
   "outputs": [],
   "source": [
    "logger = logging.getLogger(chat_class=DummyChatModel, \n",
    "                           path='data/tmp/test.log',\n",
    "                           stdout=False)"
   ]
  },
  {
   "cell_type": "code",
   "execution_count": null,
   "metadata": {
    "ExecuteTime": {
     "end_time": "2023-04-15T04:50:37.942431Z",
     "start_time": "2023-04-15T04:50:37.881923Z"
    }
   },
   "outputs": [],
   "source": [
    "try:\n",
    "    result = bubble_sort(nums)\n",
    "except Exception as e:\n",
    "    logger.info(e)"
   ]
  },
  {
   "cell_type": "code",
   "execution_count": null,
   "metadata": {
    "ExecuteTime": {
     "end_time": "2023-04-15T04:50:50.975541Z",
     "start_time": "2023-04-15T04:50:50.795956Z"
    },
    "scrolled": true
   },
   "outputs": [],
   "source": [
    "!cat data/tmp/test.log"
   ]
  },
  {
   "cell_type": "markdown",
   "metadata": {},
   "source": [
    "## Scratch"
   ]
  },
  {
   "cell_type": "code",
   "execution_count": null,
   "metadata": {
    "ExecuteTime": {
     "end_time": "2023-04-20T04:19:30.541358Z",
     "start_time": "2023-04-20T04:19:30.479763Z"
    }
   },
   "outputs": [],
   "source": [
    "import openai\n",
    "from roboduck import Chat, DummyChatModel"
   ]
  },
  {
   "cell_type": "code",
   "execution_count": null,
   "metadata": {
    "ExecuteTime": {
     "end_time": "2023-04-20T04:19:30.882424Z",
     "start_time": "2023-04-20T04:19:30.851846Z"
    }
   },
   "outputs": [],
   "source": [
    "chat = Chat.from_config('tmp', chat_class=DummyChatModel)"
   ]
  },
  {
   "cell_type": "code",
   "execution_count": null,
   "metadata": {
    "ExecuteTime": {
     "end_time": "2023-04-20T04:19:31.440118Z",
     "start_time": "2023-04-20T04:19:31.066575Z"
    }
   },
   "outputs": [],
   "source": [
    "chat.reply(key_='reply', entity='food', name='pasta')"
   ]
  },
  {
   "cell_type": "code",
   "execution_count": null,
   "metadata": {
    "ExecuteTime": {
     "end_time": "2023-04-20T04:19:32.466769Z",
     "start_time": "2023-04-20T04:19:32.122695Z"
    }
   },
   "outputs": [],
   "source": [
    "chat.reply(entity='food', name='pasta')"
   ]
  },
  {
   "cell_type": "code",
   "execution_count": null,
   "metadata": {
    "ExecuteTime": {
     "end_time": "2023-04-20T04:19:59.536807Z",
     "start_time": "2023-04-20T04:19:59.075336Z"
    }
   },
   "outputs": [],
   "source": [
    "chat.reply(key_='tldr', passage='This is a piece of text.')"
   ]
  },
  {
   "cell_type": "code",
   "execution_count": null,
   "metadata": {
    "ExecuteTime": {
     "end_time": "2023-04-20T04:20:10.400556Z",
     "start_time": "2023-04-20T04:20:10.021979Z"
    }
   },
   "outputs": [],
   "source": [
    "chat.tldr(passage='This is a piece of text.')"
   ]
  },
  {
   "cell_type": "code",
   "execution_count": null,
   "metadata": {
    "ExecuteTime": {
     "end_time": "2023-04-22T06:10:48.735979Z",
     "start_time": "2023-04-22T06:10:48.670965Z"
    }
   },
   "outputs": [],
   "source": [
    "def available_models():    \n",
    "    res = {}\n",
    "    \n",
    "    # This logic may not always hold but as of April 2023, this returns\n",
    "    # openai's available chat models.\n",
    "    openai_res = openai.Model.list()\n",
    "    res['openai'] = [row['id'] for row in openai_res['data'] \n",
    "                     if row['id'].startswith('gpt')]\n",
    "    \n",
    "    # TODO: add anthropic/cohere/other?\n",
    "    return res"
   ]
  },
  {
   "cell_type": "code",
   "execution_count": null,
   "metadata": {
    "ExecuteTime": {
     "end_time": "2023-04-22T06:09:26.760384Z",
     "start_time": "2023-04-22T06:09:26.249868Z"
    }
   },
   "outputs": [],
   "source": [
    "available_models()"
   ]
  },
  {
   "cell_type": "code",
   "execution_count": null,
   "metadata": {
    "run_control": {
     "marked": false
    }
   },
   "outputs": [],
   "source": []
  },
  {
   "cell_type": "code",
   "execution_count": null,
   "metadata": {},
   "outputs": [],
   "source": []
  },
  {
   "cell_type": "code",
   "execution_count": null,
   "metadata": {},
   "outputs": [],
   "source": []
  },
  {
   "cell_type": "code",
   "execution_count": null,
   "metadata": {},
   "outputs": [],
   "source": []
  },
  {
   "cell_type": "code",
   "execution_count": 1,
   "metadata": {
    "ExecuteTime": {
     "end_time": "2023-06-02T06:17:45.909735Z",
     "start_time": "2023-06-02T06:17:44.280097Z"
    }
   },
   "outputs": [],
   "source": [
    "from roboduck import duck"
   ]
  },
  {
   "cell_type": "code",
   "execution_count": 5,
   "metadata": {
    "ExecuteTime": {
     "end_time": "2023-06-02T06:17:59.665006Z",
     "start_time": "2023-06-02T06:17:59.641427Z"
    }
   },
   "outputs": [],
   "source": [
    "def bubble_sort(nums):\n",
    "    for i in range(len(nums)):\n",
    "        for j in range(len(nums) - 1):\n",
    "            if nums[j] > nums[j + 1]:\n",
    "                nums[j + 1] = nums[j]\n",
    "                nums[j] = nums[j + 1]\n",
    "                duck()\n",
    "    return nums"
   ]
  },
  {
   "cell_type": "code",
   "execution_count": 6,
   "metadata": {
    "ExecuteTime": {
     "end_time": "2023-06-02T06:18:00.331078Z",
     "start_time": "2023-06-02T06:18:00.296427Z"
    }
   },
   "outputs": [],
   "source": [
    "nums = [3, 1, 9, 2, 1]"
   ]
  },
  {
   "cell_type": "code",
   "execution_count": 7,
   "metadata": {
    "ExecuteTime": {
     "end_time": "2023-06-02T06:18:45.826944Z",
     "start_time": "2023-06-02T06:18:01.226413Z"
    }
   },
   "outputs": [
    {
     "name": "stdout",
     "output_type": "stream",
     "text": [
      "--Return--\n",
      "> /Users/hmamin/roboduck/lib/roboduck/decorators.py(303)wrapper()->None\n",
      "-> return new_func(*args, **kwargs)\n",
      ">>> n\n",
      "> <ipython-input-5-4243e98e732c>(3)bubble_sort()\n",
      "-> for j in range(len(nums) - 1):\n",
      ">>> l\n",
      "  1  \tdef bubble_sort(nums):\n",
      "  2  \t    for i in range(len(nums)):\n",
      "  3  ->\t        for j in range(len(nums) - 1):\n",
      "  4  \t            if nums[j] > nums[j + 1]:\n",
      "  5  \t                nums[j + 1] = nums[j]\n",
      "  6  \t                nums[j] = nums[j + 1]\n",
      "  7  \t                duck()\n",
      "  8  \t    return nums\n",
      "[EOF]\n",
      ">>> nums\n",
      "[3, 3, 9, 2, 1]\n",
      ">>> Why does nums contain two 3s when the input only had one?\n",
      "\u001b[32m[Duck] \u001b[0m\u001b[32mT\u001b[0m\u001b[32mh\u001b[0m\u001b[32me\u001b[0m\u001b[32m \u001b[0m\u001b[32mc\u001b[0m\u001b[32mo\u001b[0m\u001b[32md\u001b[0m\u001b[32me\u001b[0m\u001b[32m \u001b[0m\u001b[32mi\u001b[0m\u001b[32ms\u001b[0m\u001b[32m \u001b[0m\u001b[32mn\u001b[0m\u001b[32mo\u001b[0m\u001b[32mt\u001b[0m\u001b[32m \u001b[0m\u001b[32mc\u001b[0m\u001b[32mo\u001b[0m\u001b[32mr\u001b[0m\u001b[32mr\u001b[0m\u001b[32me\u001b[0m\u001b[32mc\u001b[0m\u001b[32mt\u001b[0m\u001b[32ml\u001b[0m\u001b[32my\u001b[0m\u001b[32m \u001b[0m\u001b[32ms\u001b[0m\u001b[32mw\u001b[0m\u001b[32ma\u001b[0m\u001b[32mp\u001b[0m\u001b[32mp\u001b[0m\u001b[32mi\u001b[0m\u001b[32mn\u001b[0m\u001b[32mg\u001b[0m\u001b[32m \u001b[0m\u001b[32mt\u001b[0m\u001b[32mh\u001b[0m\u001b[32me\u001b[0m\u001b[32m \u001b[0m\u001b[32mv\u001b[0m\u001b[32ma\u001b[0m\u001b[32ml\u001b[0m\u001b[32mu\u001b[0m\u001b[32me\u001b[0m\u001b[32ms\u001b[0m\u001b[32m \u001b[0m\u001b[32mi\u001b[0m\u001b[32mn\u001b[0m\u001b[32m \u001b[0m\u001b[32mt\u001b[0m\u001b[32mh\u001b[0m\u001b[32me\u001b[0m\u001b[32m \u001b[0m\u001b[32ml\u001b[0m\u001b[32mi\u001b[0m\u001b[32ms\u001b[0m\u001b[32mt\u001b[0m\u001b[32m.\u001b[0m\u001b[32m \u001b[0m\u001b[32mI\u001b[0m\u001b[32mn\u001b[0m\u001b[32ms\u001b[0m\u001b[32mt\u001b[0m\u001b[32me\u001b[0m\u001b[32ma\u001b[0m\u001b[32md\u001b[0m\u001b[32m \u001b[0m\u001b[32mo\u001b[0m\u001b[32mf\u001b[0m\u001b[32m \u001b[0m\u001b[32ms\u001b[0m\u001b[32mw\u001b[0m\u001b[32ma\u001b[0m\u001b[32mp\u001b[0m\u001b[32mp\u001b[0m\u001b[32mi\u001b[0m\u001b[32mn\u001b[0m\u001b[32mg\u001b[0m\u001b[32m \u001b[0m\u001b[32mt\u001b[0m\u001b[32mh\u001b[0m\u001b[32me\u001b[0m\u001b[32m \u001b[0m\u001b[32mv\u001b[0m\u001b[32ma\u001b[0m\u001b[32ml\u001b[0m\u001b[32mu\u001b[0m\u001b[32me\u001b[0m\u001b[32ms\u001b[0m\u001b[32m,\u001b[0m\u001b[32m \u001b[0m\u001b[32mi\u001b[0m\u001b[32mt\u001b[0m\u001b[32m \u001b[0m\u001b[32mi\u001b[0m\u001b[32ms\u001b[0m\u001b[32m \u001b[0m\u001b[32ma\u001b[0m\u001b[32ms\u001b[0m\u001b[32ms\u001b[0m\u001b[32mi\u001b[0m\u001b[32mg\u001b[0m\u001b[32mn\u001b[0m\u001b[32mi\u001b[0m\u001b[32mn\u001b[0m\u001b[32mg\u001b[0m\u001b[32m \u001b[0m\u001b[32mt\u001b[0m\u001b[32mh\u001b[0m\u001b[32me\u001b[0m\u001b[32m \u001b[0m\u001b[32mv\u001b[0m\u001b[32ma\u001b[0m\u001b[32ml\u001b[0m\u001b[32mu\u001b[0m\u001b[32me\u001b[0m\u001b[32m \u001b[0m\u001b[32mo\u001b[0m\u001b[32mf\u001b[0m\u001b[32m \u001b[0m\u001b[32mt\u001b[0m\u001b[32mh\u001b[0m\u001b[32me\u001b[0m\u001b[32m \u001b[0m\u001b[32ml\u001b[0m\u001b[32me\u001b[0m\u001b[32mf\u001b[0m\u001b[32mt\u001b[0m\u001b[32m \u001b[0m\u001b[32me\u001b[0m\u001b[32ml\u001b[0m\u001b[32me\u001b[0m\u001b[32mm\u001b[0m\u001b[32me\u001b[0m\u001b[32mn\u001b[0m\u001b[32mt\u001b[0m\u001b[32m \u001b[0m\u001b[32mt\u001b[0m\u001b[32mo\u001b[0m\u001b[32m \u001b[0m\u001b[32mt\u001b[0m\u001b[32mh\u001b[0m\u001b[32me\u001b[0m\u001b[32m \u001b[0m\u001b[32mr\u001b[0m\u001b[32mi\u001b[0m\u001b[32mg\u001b[0m\u001b[32mh\u001b[0m\u001b[32mt\u001b[0m\u001b[32m \u001b[0m\u001b[32me\u001b[0m\u001b[32ml\u001b[0m\u001b[32me\u001b[0m\u001b[32mm\u001b[0m\u001b[32me\u001b[0m\u001b[32mn\u001b[0m\u001b[32mt\u001b[0m\u001b[32m,\u001b[0m\u001b[32m \u001b[0m\u001b[32mw\u001b[0m\u001b[32mh\u001b[0m\u001b[32mi\u001b[0m\u001b[32mc\u001b[0m\u001b[32mh\u001b[0m\u001b[32m \u001b[0m\u001b[32mr\u001b[0m\u001b[32me\u001b[0m\u001b[32ms\u001b[0m\u001b[32mu\u001b[0m\u001b[32ml\u001b[0m\u001b[32mt\u001b[0m\u001b[32ms\u001b[0m\u001b[32m \u001b[0m\u001b[32mi\u001b[0m\u001b[32mn\u001b[0m\u001b[32m \u001b[0m\u001b[32mb\u001b[0m\u001b[32mo\u001b[0m\u001b[32mt\u001b[0m\u001b[32mh\u001b[0m\u001b[32m \u001b[0m\u001b[32me\u001b[0m\u001b[32ml\u001b[0m\u001b[32me\u001b[0m\u001b[32mm\u001b[0m\u001b[32me\u001b[0m\u001b[32mn\u001b[0m\u001b[32mt\u001b[0m\u001b[32ms\u001b[0m\u001b[32m \u001b[0m\u001b[32mh\u001b[0m\u001b[32ma\u001b[0m\u001b[32mv\u001b[0m\u001b[32mi\u001b[0m\u001b[32mn\u001b[0m\u001b[32mg\u001b[0m\u001b[32m \u001b[0m\u001b[32mt\u001b[0m\u001b[32mh\u001b[0m\u001b[32me\u001b[0m\u001b[32m \u001b[0m\u001b[32ms\u001b[0m\u001b[32ma\u001b[0m\u001b[32mm\u001b[0m\u001b[32me\u001b[0m\u001b[32m \u001b[0m\u001b[32mv\u001b[0m\u001b[32ma\u001b[0m\u001b[32ml\u001b[0m\u001b[32mu\u001b[0m\u001b[32me\u001b[0m\u001b[32m.\u001b[0m\u001b[32m \u001b[0m\u001b[32mT\u001b[0m\u001b[32mh\u001b[0m\u001b[32mi\u001b[0m\u001b[32ms\u001b[0m\u001b[32m \u001b[0m\u001b[32mi\u001b[0m\u001b[32ms\u001b[0m\u001b[32m \u001b[0m\u001b[32mw\u001b[0m\u001b[32mh\u001b[0m\u001b[32my\u001b[0m\u001b[32m \u001b[0m\u001b[32mt\u001b[0m\u001b[32mh\u001b[0m\u001b[32me\u001b[0m\u001b[32m \u001b[0m\u001b[32ml\u001b[0m\u001b[32mi\u001b[0m\u001b[32ms\u001b[0m\u001b[32mt\u001b[0m\u001b[32m \u001b[0m\u001b[32mh\u001b[0m\u001b[32ma\u001b[0m\u001b[32ms\u001b[0m\u001b[32m \u001b[0m\u001b[32mt\u001b[0m\u001b[32mw\u001b[0m\u001b[32mo\u001b[0m\u001b[32m \u001b[0m\u001b[32m3\u001b[0m\u001b[32ms\u001b[0m\u001b[32m \u001b[0m\u001b[32mi\u001b[0m\u001b[32mn\u001b[0m\u001b[32ms\u001b[0m\u001b[32mt\u001b[0m\u001b[32me\u001b[0m\u001b[32ma\u001b[0m\u001b[32md\u001b[0m\u001b[32m \u001b[0m\u001b[32mo\u001b[0m\u001b[32mf\u001b[0m\u001b[32m \u001b[0m\u001b[32mo\u001b[0m\u001b[32mn\u001b[0m\u001b[32me\u001b[0m\u001b[32m.\u001b[0m\u001b[32m\n",
      "\u001b[0m\u001b[32m\n",
      "\u001b[0m\u001b[32m`\u001b[0m\u001b[32m`\u001b[0m\u001b[32m`\u001b[0m\u001b[32m\n",
      "\u001b[0m\u001b[32md\u001b[0m\u001b[32me\u001b[0m\u001b[32mf\u001b[0m\u001b[32m \u001b[0m\u001b[32mb\u001b[0m\u001b[32mu\u001b[0m\u001b[32mb\u001b[0m\u001b[32mb\u001b[0m\u001b[32ml\u001b[0m\u001b[32me\u001b[0m\u001b[32m_\u001b[0m\u001b[32ms\u001b[0m\u001b[32mo\u001b[0m\u001b[32mr\u001b[0m\u001b[32mt\u001b[0m\u001b[32m(\u001b[0m\u001b[32mn\u001b[0m\u001b[32mu\u001b[0m\u001b[32mm\u001b[0m\u001b[32ms\u001b[0m\u001b[32m)\u001b[0m\u001b[32m:\u001b[0m\u001b[32m\n",
      "\u001b[0m\u001b[32m \u001b[0m\u001b[32m \u001b[0m\u001b[32m \u001b[0m\u001b[32m \u001b[0m\u001b[32mf\u001b[0m\u001b[32mo\u001b[0m\u001b[32mr\u001b[0m\u001b[32m \u001b[0m\u001b[32mi\u001b[0m\u001b[32m \u001b[0m\u001b[32mi\u001b[0m\u001b[32mn\u001b[0m\u001b[32m \u001b[0m\u001b[32mr\u001b[0m\u001b[32ma\u001b[0m\u001b[32mn\u001b[0m\u001b[32mg\u001b[0m\u001b[32me\u001b[0m\u001b[32m(\u001b[0m\u001b[32ml\u001b[0m\u001b[32me\u001b[0m\u001b[32mn\u001b[0m\u001b[32m(\u001b[0m\u001b[32mn\u001b[0m\u001b[32mu\u001b[0m\u001b[32mm\u001b[0m\u001b[32ms\u001b[0m\u001b[32m)\u001b[0m\u001b[32m)\u001b[0m\u001b[32m:\u001b[0m\u001b[32m\n",
      "\u001b[0m\u001b[32m \u001b[0m\u001b[32m \u001b[0m\u001b[32m \u001b[0m\u001b[32m \u001b[0m\u001b[32m \u001b[0m\u001b[32m \u001b[0m\u001b[32m \u001b[0m\u001b[32m \u001b[0m\u001b[32mf\u001b[0m\u001b[32mo\u001b[0m\u001b[32mr\u001b[0m\u001b[32m \u001b[0m\u001b[32mj\u001b[0m\u001b[32m \u001b[0m\u001b[32mi\u001b[0m\u001b[32mn\u001b[0m\u001b[32m \u001b[0m\u001b[32mr\u001b[0m\u001b[32ma\u001b[0m\u001b[32mn\u001b[0m\u001b[32mg\u001b[0m\u001b[32me\u001b[0m\u001b[32m(\u001b[0m\u001b[32ml\u001b[0m\u001b[32me\u001b[0m\u001b[32mn\u001b[0m\u001b[32m(\u001b[0m\u001b[32mn\u001b[0m\u001b[32mu\u001b[0m\u001b[32mm\u001b[0m\u001b[32ms\u001b[0m\u001b[32m)\u001b[0m\u001b[32m \u001b[0m\u001b[32m-\u001b[0m\u001b[32m \u001b[0m\u001b[32m1\u001b[0m\u001b[32m)\u001b[0m\u001b[32m:\u001b[0m\u001b[32m\n",
      "\u001b[0m\u001b[32m \u001b[0m\u001b[32m \u001b[0m\u001b[32m \u001b[0m\u001b[32m \u001b[0m\u001b[32m \u001b[0m\u001b[32m \u001b[0m\u001b[32m \u001b[0m\u001b[32m \u001b[0m\u001b[32m \u001b[0m\u001b[32m \u001b[0m\u001b[32m \u001b[0m\u001b[32m \u001b[0m\u001b[32mi\u001b[0m\u001b[32mf\u001b[0m\u001b[32m \u001b[0m\u001b[32mn\u001b[0m\u001b[32mu\u001b[0m\u001b[32mm\u001b[0m\u001b[32ms\u001b[0m\u001b[32m[\u001b[0m\u001b[32mj\u001b[0m\u001b[32m]\u001b[0m\u001b[32m \u001b[0m\u001b[32m>\u001b[0m\u001b[32m \u001b[0m\u001b[32mn\u001b[0m\u001b[32mu\u001b[0m\u001b[32mm\u001b[0m\u001b[32ms\u001b[0m\u001b[32m[\u001b[0m\u001b[32mj\u001b[0m\u001b[32m \u001b[0m\u001b[32m+\u001b[0m\u001b[32m \u001b[0m\u001b[32m1\u001b[0m\u001b[32m]\u001b[0m\u001b[32m:\u001b[0m\u001b[32m\n",
      "\u001b[0m\u001b[32m \u001b[0m\u001b[32m \u001b[0m\u001b[32m \u001b[0m\u001b[32m \u001b[0m\u001b[32m \u001b[0m\u001b[32m \u001b[0m\u001b[32m \u001b[0m\u001b[32m \u001b[0m\u001b[32m \u001b[0m\u001b[32m \u001b[0m\u001b[32m \u001b[0m\u001b[32m \u001b[0m\u001b[32m \u001b[0m\u001b[32m \u001b[0m\u001b[32m \u001b[0m\u001b[32m \u001b[0m\u001b[32mn\u001b[0m\u001b[32mu\u001b[0m\u001b[32mm\u001b[0m\u001b[32ms\u001b[0m\u001b[32m[\u001b[0m\u001b[32mj\u001b[0m\u001b[32m]\u001b[0m\u001b[32m,\u001b[0m\u001b[32m \u001b[0m\u001b[32mn\u001b[0m\u001b[32mu\u001b[0m\u001b[32mm\u001b[0m\u001b[32ms\u001b[0m\u001b[32m[\u001b[0m\u001b[32mj\u001b[0m\u001b[32m \u001b[0m\u001b[32m+\u001b[0m\u001b[32m \u001b[0m\u001b[32m1\u001b[0m\u001b[32m]\u001b[0m\u001b[32m \u001b[0m\u001b[32m=\u001b[0m\u001b[32m \u001b[0m\u001b[32mn\u001b[0m\u001b[32mu\u001b[0m\u001b[32mm\u001b[0m\u001b[32ms\u001b[0m\u001b[32m[\u001b[0m\u001b[32mj\u001b[0m\u001b[32m \u001b[0m\u001b[32m+\u001b[0m\u001b[32m \u001b[0m\u001b[32m1\u001b[0m\u001b[32m]\u001b[0m\u001b[32m,\u001b[0m\u001b[32m \u001b[0m\u001b[32mn\u001b[0m\u001b[32mu\u001b[0m\u001b[32mm\u001b[0m\u001b[32ms\u001b[0m\u001b[32m[\u001b[0m\u001b[32mj\u001b[0m\u001b[32m]\u001b[0m\u001b[32m\n",
      "\u001b[0m\u001b[32m \u001b[0m\u001b[32m \u001b[0m\u001b[32m \u001b[0m\u001b[32m \u001b[0m\u001b[32mr\u001b[0m\u001b[32me\u001b[0m\u001b[32mt\u001b[0m\u001b[32mu\u001b[0m\u001b[32mr\u001b[0m\u001b[32mn\u001b[0m\u001b[32m \u001b[0m\u001b[32mn\u001b[0m\u001b[32mu\u001b[0m\u001b[32mm\u001b[0m\u001b[32ms\u001b[0m\u001b[32m\n",
      "\u001b[0m\u001b[32m`\u001b[0m\u001b[32m`\u001b[0m\u001b[32m`\u001b[0m>>> n\n",
      "> <ipython-input-5-4243e98e732c>(4)bubble_sort()\n",
      "-> if nums[j] > nums[j + 1]:\n",
      ">>> n\n",
      "> <ipython-input-5-4243e98e732c>(3)bubble_sort()\n",
      "-> for j in range(len(nums) - 1):\n",
      ">>> n\n",
      "> <ipython-input-5-4243e98e732c>(4)bubble_sort()\n",
      "-> if nums[j] > nums[j + 1]:\n",
      ">>> n\n",
      "> <ipython-input-5-4243e98e732c>(5)bubble_sort()\n",
      "-> nums[j + 1] = nums[j]\n",
      ">>> nums\n",
      "[3, 3, 9, 2, 1]\n",
      ">>> q\n"
     ]
    },
    {
     "ename": "BdbQuit",
     "evalue": "",
     "output_type": "error",
     "traceback": [
      "\u001b[0;31m---------------------------------------------------------------------------\u001b[0m",
      "\u001b[0;31mBdbQuit\u001b[0m                                   Traceback (most recent call last)",
      "\u001b[0;32m<ipython-input-7-9bb1c33833ca>\u001b[0m in \u001b[0;36m<module>\u001b[0;34m\u001b[0m\n\u001b[0;32m----> 1\u001b[0;31m \u001b[0mbubble_sort\u001b[0m\u001b[0;34m(\u001b[0m\u001b[0mnums\u001b[0m\u001b[0;34m)\u001b[0m\u001b[0;34m\u001b[0m\u001b[0;34m\u001b[0m\u001b[0m\n\u001b[0m",
      "\u001b[0;32m<ipython-input-5-4243e98e732c>\u001b[0m in \u001b[0;36mbubble_sort\u001b[0;34m(nums)\u001b[0m\n\u001b[1;32m      3\u001b[0m         \u001b[0;32mfor\u001b[0m \u001b[0mj\u001b[0m \u001b[0;32min\u001b[0m \u001b[0mrange\u001b[0m\u001b[0;34m(\u001b[0m\u001b[0mlen\u001b[0m\u001b[0;34m(\u001b[0m\u001b[0mnums\u001b[0m\u001b[0;34m)\u001b[0m \u001b[0;34m-\u001b[0m \u001b[0;36m1\u001b[0m\u001b[0;34m)\u001b[0m\u001b[0;34m:\u001b[0m\u001b[0;34m\u001b[0m\u001b[0;34m\u001b[0m\u001b[0m\n\u001b[1;32m      4\u001b[0m             \u001b[0;32mif\u001b[0m \u001b[0mnums\u001b[0m\u001b[0;34m[\u001b[0m\u001b[0mj\u001b[0m\u001b[0;34m]\u001b[0m \u001b[0;34m>\u001b[0m \u001b[0mnums\u001b[0m\u001b[0;34m[\u001b[0m\u001b[0mj\u001b[0m \u001b[0;34m+\u001b[0m \u001b[0;36m1\u001b[0m\u001b[0;34m]\u001b[0m\u001b[0;34m:\u001b[0m\u001b[0;34m\u001b[0m\u001b[0;34m\u001b[0m\u001b[0m\n\u001b[0;32m----> 5\u001b[0;31m                 \u001b[0mnums\u001b[0m\u001b[0;34m[\u001b[0m\u001b[0mj\u001b[0m \u001b[0;34m+\u001b[0m \u001b[0;36m1\u001b[0m\u001b[0;34m]\u001b[0m \u001b[0;34m=\u001b[0m \u001b[0mnums\u001b[0m\u001b[0;34m[\u001b[0m\u001b[0mj\u001b[0m\u001b[0;34m]\u001b[0m\u001b[0;34m\u001b[0m\u001b[0;34m\u001b[0m\u001b[0m\n\u001b[0m\u001b[1;32m      6\u001b[0m                 \u001b[0mnums\u001b[0m\u001b[0;34m[\u001b[0m\u001b[0mj\u001b[0m\u001b[0;34m]\u001b[0m \u001b[0;34m=\u001b[0m \u001b[0mnums\u001b[0m\u001b[0;34m[\u001b[0m\u001b[0mj\u001b[0m \u001b[0;34m+\u001b[0m \u001b[0;36m1\u001b[0m\u001b[0;34m]\u001b[0m\u001b[0;34m\u001b[0m\u001b[0;34m\u001b[0m\u001b[0m\n\u001b[1;32m      7\u001b[0m                 \u001b[0mduck\u001b[0m\u001b[0;34m(\u001b[0m\u001b[0;34m)\u001b[0m\u001b[0;34m\u001b[0m\u001b[0;34m\u001b[0m\u001b[0m\n",
      "\u001b[0;32m<ipython-input-5-4243e98e732c>\u001b[0m in \u001b[0;36mbubble_sort\u001b[0;34m(nums)\u001b[0m\n\u001b[1;32m      3\u001b[0m         \u001b[0;32mfor\u001b[0m \u001b[0mj\u001b[0m \u001b[0;32min\u001b[0m \u001b[0mrange\u001b[0m\u001b[0;34m(\u001b[0m\u001b[0mlen\u001b[0m\u001b[0;34m(\u001b[0m\u001b[0mnums\u001b[0m\u001b[0;34m)\u001b[0m \u001b[0;34m-\u001b[0m \u001b[0;36m1\u001b[0m\u001b[0;34m)\u001b[0m\u001b[0;34m:\u001b[0m\u001b[0;34m\u001b[0m\u001b[0;34m\u001b[0m\u001b[0m\n\u001b[1;32m      4\u001b[0m             \u001b[0;32mif\u001b[0m \u001b[0mnums\u001b[0m\u001b[0;34m[\u001b[0m\u001b[0mj\u001b[0m\u001b[0;34m]\u001b[0m \u001b[0;34m>\u001b[0m \u001b[0mnums\u001b[0m\u001b[0;34m[\u001b[0m\u001b[0mj\u001b[0m \u001b[0;34m+\u001b[0m \u001b[0;36m1\u001b[0m\u001b[0;34m]\u001b[0m\u001b[0;34m:\u001b[0m\u001b[0;34m\u001b[0m\u001b[0;34m\u001b[0m\u001b[0m\n\u001b[0;32m----> 5\u001b[0;31m                 \u001b[0mnums\u001b[0m\u001b[0;34m[\u001b[0m\u001b[0mj\u001b[0m \u001b[0;34m+\u001b[0m \u001b[0;36m1\u001b[0m\u001b[0;34m]\u001b[0m \u001b[0;34m=\u001b[0m \u001b[0mnums\u001b[0m\u001b[0;34m[\u001b[0m\u001b[0mj\u001b[0m\u001b[0;34m]\u001b[0m\u001b[0;34m\u001b[0m\u001b[0;34m\u001b[0m\u001b[0m\n\u001b[0m\u001b[1;32m      6\u001b[0m                 \u001b[0mnums\u001b[0m\u001b[0;34m[\u001b[0m\u001b[0mj\u001b[0m\u001b[0;34m]\u001b[0m \u001b[0;34m=\u001b[0m \u001b[0mnums\u001b[0m\u001b[0;34m[\u001b[0m\u001b[0mj\u001b[0m \u001b[0;34m+\u001b[0m \u001b[0;36m1\u001b[0m\u001b[0;34m]\u001b[0m\u001b[0;34m\u001b[0m\u001b[0;34m\u001b[0m\u001b[0m\n\u001b[1;32m      7\u001b[0m                 \u001b[0mduck\u001b[0m\u001b[0;34m(\u001b[0m\u001b[0;34m)\u001b[0m\u001b[0;34m\u001b[0m\u001b[0;34m\u001b[0m\u001b[0m\n",
      "\u001b[0;32m~/anaconda3/envs/py38/lib/python3.8/bdb.py\u001b[0m in \u001b[0;36mtrace_dispatch\u001b[0;34m(self, frame, event, arg)\u001b[0m\n\u001b[1;32m     86\u001b[0m             \u001b[0;32mreturn\u001b[0m \u001b[0;31m# None\u001b[0m\u001b[0;34m\u001b[0m\u001b[0;34m\u001b[0m\u001b[0m\n\u001b[1;32m     87\u001b[0m         \u001b[0;32mif\u001b[0m \u001b[0mevent\u001b[0m \u001b[0;34m==\u001b[0m \u001b[0;34m'line'\u001b[0m\u001b[0;34m:\u001b[0m\u001b[0;34m\u001b[0m\u001b[0;34m\u001b[0m\u001b[0m\n\u001b[0;32m---> 88\u001b[0;31m             \u001b[0;32mreturn\u001b[0m \u001b[0mself\u001b[0m\u001b[0;34m.\u001b[0m\u001b[0mdispatch_line\u001b[0m\u001b[0;34m(\u001b[0m\u001b[0mframe\u001b[0m\u001b[0;34m)\u001b[0m\u001b[0;34m\u001b[0m\u001b[0;34m\u001b[0m\u001b[0m\n\u001b[0m\u001b[1;32m     89\u001b[0m         \u001b[0;32mif\u001b[0m \u001b[0mevent\u001b[0m \u001b[0;34m==\u001b[0m \u001b[0;34m'call'\u001b[0m\u001b[0;34m:\u001b[0m\u001b[0;34m\u001b[0m\u001b[0;34m\u001b[0m\u001b[0m\n\u001b[1;32m     90\u001b[0m             \u001b[0;32mreturn\u001b[0m \u001b[0mself\u001b[0m\u001b[0;34m.\u001b[0m\u001b[0mdispatch_call\u001b[0m\u001b[0;34m(\u001b[0m\u001b[0mframe\u001b[0m\u001b[0;34m,\u001b[0m \u001b[0marg\u001b[0m\u001b[0;34m)\u001b[0m\u001b[0;34m\u001b[0m\u001b[0;34m\u001b[0m\u001b[0m\n",
      "\u001b[0;32m~/anaconda3/envs/py38/lib/python3.8/bdb.py\u001b[0m in \u001b[0;36mdispatch_line\u001b[0;34m(self, frame)\u001b[0m\n\u001b[1;32m    111\u001b[0m         \u001b[0;32mif\u001b[0m \u001b[0mself\u001b[0m\u001b[0;34m.\u001b[0m\u001b[0mstop_here\u001b[0m\u001b[0;34m(\u001b[0m\u001b[0mframe\u001b[0m\u001b[0;34m)\u001b[0m \u001b[0;32mor\u001b[0m \u001b[0mself\u001b[0m\u001b[0;34m.\u001b[0m\u001b[0mbreak_here\u001b[0m\u001b[0;34m(\u001b[0m\u001b[0mframe\u001b[0m\u001b[0;34m)\u001b[0m\u001b[0;34m:\u001b[0m\u001b[0;34m\u001b[0m\u001b[0;34m\u001b[0m\u001b[0m\n\u001b[1;32m    112\u001b[0m             \u001b[0mself\u001b[0m\u001b[0;34m.\u001b[0m\u001b[0muser_line\u001b[0m\u001b[0;34m(\u001b[0m\u001b[0mframe\u001b[0m\u001b[0;34m)\u001b[0m\u001b[0;34m\u001b[0m\u001b[0;34m\u001b[0m\u001b[0m\n\u001b[0;32m--> 113\u001b[0;31m             \u001b[0;32mif\u001b[0m \u001b[0mself\u001b[0m\u001b[0;34m.\u001b[0m\u001b[0mquitting\u001b[0m\u001b[0;34m:\u001b[0m \u001b[0;32mraise\u001b[0m \u001b[0mBdbQuit\u001b[0m\u001b[0;34m\u001b[0m\u001b[0;34m\u001b[0m\u001b[0m\n\u001b[0m\u001b[1;32m    114\u001b[0m         \u001b[0;32mreturn\u001b[0m \u001b[0mself\u001b[0m\u001b[0;34m.\u001b[0m\u001b[0mtrace_dispatch\u001b[0m\u001b[0;34m\u001b[0m\u001b[0;34m\u001b[0m\u001b[0m\n\u001b[1;32m    115\u001b[0m \u001b[0;34m\u001b[0m\u001b[0m\n",
      "\u001b[0;31mBdbQuit\u001b[0m: "
     ]
    }
   ],
   "source": [
    "bubble_sort(nums)"
   ]
  },
  {
   "cell_type": "code",
   "execution_count": null,
   "metadata": {},
   "outputs": [],
   "source": []
  },
  {
   "cell_type": "code",
   "execution_count": null,
   "metadata": {},
   "outputs": [],
   "source": []
  },
  {
   "cell_type": "code",
   "execution_count": null,
   "metadata": {},
   "outputs": [],
   "source": []
  },
  {
   "cell_type": "code",
   "execution_count": null,
   "metadata": {},
   "outputs": [],
   "source": []
  }
 ],
 "metadata": {
  "kernelspec": {
   "display_name": "Python 3",
   "language": "python",
   "name": "python3"
  },
  "language_info": {
   "codemirror_mode": {
    "name": "ipython",
    "version": 3
   },
   "file_extension": ".py",
   "mimetype": "text/x-python",
   "name": "python",
   "nbconvert_exporter": "python",
   "pygments_lexer": "ipython3",
   "version": "3.8.2"
  }
 },
 "nbformat": 4,
 "nbformat_minor": 2
}
