{
 "cells": [
  {
   "cell_type": "code",
   "execution_count": 18,
   "metadata": {
    "ExecuteTime": {
     "end_time": "2023-04-13T04:33:08.806171Z",
     "start_time": "2023-04-13T04:33:08.694690Z"
    }
   },
   "outputs": [
    {
     "name": "stdout",
     "output_type": "stream",
     "text": [
      "The autoreload extension is already loaded. To reload it, use:\n",
      "  %reload_ext autoreload\n"
     ]
    }
   ],
   "source": [
    "%load_ext autoreload\n",
    "%autoreload 2"
   ]
  },
  {
   "cell_type": "code",
   "execution_count": 19,
   "metadata": {
    "ExecuteTime": {
     "end_time": "2023-04-13T04:33:08.901113Z",
     "start_time": "2023-04-13T04:33:08.857262Z"
    }
   },
   "outputs": [],
   "source": [
    "import matplotlib.pyplot as plt\n",
    "import numpy as np\n",
    "import os\n",
    "import pandas as pd\n",
    "from pathlib import Path\n",
    "\n",
    "from htools import *"
   ]
  },
  {
   "cell_type": "code",
   "execution_count": 20,
   "metadata": {
    "ExecuteTime": {
     "end_time": "2023-04-13T04:33:09.106068Z",
     "start_time": "2023-04-13T04:33:09.066799Z"
    }
   },
   "outputs": [
    {
     "name": "stdout",
     "output_type": "stream",
     "text": [
      "Current directory: /Users/hmamin/roboduck\n"
     ]
    }
   ],
   "source": [
    "cd_root()"
   ]
  },
  {
   "cell_type": "code",
   "execution_count": 21,
   "metadata": {
    "ExecuteTime": {
     "end_time": "2023-04-13T04:33:09.645406Z",
     "start_time": "2023-04-13T04:33:09.607663Z"
    }
   },
   "outputs": [],
   "source": [
    "def bubble_sort(nums):\n",
    "    for i in range(len(nums)):\n",
    "        for j in range(len(nums)):\n",
    "            if nums[j] > nums[j + 1]:\n",
    "                nums[j + 1], nums[j] = nums[j], nums[j + 1]\n",
    "    return nums"
   ]
  },
  {
   "cell_type": "code",
   "execution_count": 22,
   "metadata": {
    "ExecuteTime": {
     "end_time": "2023-04-13T04:33:11.236651Z",
     "start_time": "2023-04-13T04:33:11.187326Z"
    }
   },
   "outputs": [],
   "source": [
    "nums = [3, 4, 1, 22, 9, -100, 5, 5, 5, 33]"
   ]
  },
  {
   "cell_type": "code",
   "execution_count": 6,
   "metadata": {
    "ExecuteTime": {
     "end_time": "2023-04-13T04:10:34.530780Z",
     "start_time": "2023-04-13T04:10:34.389819Z"
    }
   },
   "outputs": [
    {
     "ename": "IndexError",
     "evalue": "list index out of range",
     "output_type": "error",
     "traceback": [
      "\u001b[0;31m---------------------------------------------------------------------------\u001b[0m",
      "\u001b[0;31mIndexError\u001b[0m                                Traceback (most recent call last)",
      "\u001b[0;32m<ipython-input-6-9bb1c33833ca>\u001b[0m in \u001b[0;36m<module>\u001b[0;34m\u001b[0m\n\u001b[0;32m----> 1\u001b[0;31m \u001b[0mbubble_sort\u001b[0m\u001b[0;34m(\u001b[0m\u001b[0mnums\u001b[0m\u001b[0;34m)\u001b[0m\u001b[0;34m\u001b[0m\u001b[0;34m\u001b[0m\u001b[0m\n\u001b[0m",
      "\u001b[0;32m<ipython-input-4-3f12a9f434a7>\u001b[0m in \u001b[0;36mbubble_sort\u001b[0;34m(nums)\u001b[0m\n\u001b[1;32m      2\u001b[0m     \u001b[0;32mfor\u001b[0m \u001b[0mi\u001b[0m \u001b[0;32min\u001b[0m \u001b[0mrange\u001b[0m\u001b[0;34m(\u001b[0m\u001b[0mlen\u001b[0m\u001b[0;34m(\u001b[0m\u001b[0mnums\u001b[0m\u001b[0;34m)\u001b[0m\u001b[0;34m)\u001b[0m\u001b[0;34m:\u001b[0m\u001b[0;34m\u001b[0m\u001b[0;34m\u001b[0m\u001b[0m\n\u001b[1;32m      3\u001b[0m         \u001b[0;32mfor\u001b[0m \u001b[0mj\u001b[0m \u001b[0;32min\u001b[0m \u001b[0mrange\u001b[0m\u001b[0;34m(\u001b[0m\u001b[0mlen\u001b[0m\u001b[0;34m(\u001b[0m\u001b[0mnums\u001b[0m\u001b[0;34m)\u001b[0m\u001b[0;34m)\u001b[0m\u001b[0;34m:\u001b[0m\u001b[0;34m\u001b[0m\u001b[0;34m\u001b[0m\u001b[0m\n\u001b[0;32m----> 4\u001b[0;31m             \u001b[0;32mif\u001b[0m \u001b[0mnums\u001b[0m\u001b[0;34m[\u001b[0m\u001b[0mj\u001b[0m\u001b[0;34m]\u001b[0m \u001b[0;34m>\u001b[0m \u001b[0mnums\u001b[0m\u001b[0;34m[\u001b[0m\u001b[0mj\u001b[0m \u001b[0;34m+\u001b[0m \u001b[0;36m1\u001b[0m\u001b[0;34m]\u001b[0m\u001b[0;34m:\u001b[0m\u001b[0;34m\u001b[0m\u001b[0;34m\u001b[0m\u001b[0m\n\u001b[0m\u001b[1;32m      5\u001b[0m                 \u001b[0mnums\u001b[0m\u001b[0;34m[\u001b[0m\u001b[0mj\u001b[0m \u001b[0;34m+\u001b[0m \u001b[0;36m1\u001b[0m\u001b[0;34m]\u001b[0m\u001b[0;34m,\u001b[0m \u001b[0mnums\u001b[0m\u001b[0;34m[\u001b[0m\u001b[0mj\u001b[0m\u001b[0;34m]\u001b[0m \u001b[0;34m=\u001b[0m \u001b[0mnums\u001b[0m\u001b[0;34m[\u001b[0m\u001b[0mj\u001b[0m\u001b[0;34m]\u001b[0m\u001b[0;34m,\u001b[0m \u001b[0mnums\u001b[0m\u001b[0;34m[\u001b[0m\u001b[0mj\u001b[0m \u001b[0;34m+\u001b[0m \u001b[0;36m1\u001b[0m\u001b[0;34m]\u001b[0m\u001b[0;34m\u001b[0m\u001b[0;34m\u001b[0m\u001b[0m\n\u001b[1;32m      6\u001b[0m     \u001b[0;32mreturn\u001b[0m \u001b[0mnums\u001b[0m\u001b[0;34m\u001b[0m\u001b[0;34m\u001b[0m\u001b[0m\n",
      "\u001b[0;31mIndexError\u001b[0m: list index out of range"
     ]
    }
   ],
   "source": [
    "bubble_sort(nums)"
   ]
  },
  {
   "cell_type": "markdown",
   "metadata": {},
   "source": [
    "## Debugger"
   ]
  },
  {
   "cell_type": "markdown",
   "metadata": {},
   "source": [
    "**Dummy Chat Model**"
   ]
  },
  {
   "cell_type": "code",
   "execution_count": 23,
   "metadata": {
    "ExecuteTime": {
     "end_time": "2023-04-13T04:33:13.905721Z",
     "start_time": "2023-04-13T04:33:13.841312Z"
    }
   },
   "outputs": [],
   "source": [
    "from roboduck.debug import duck\n",
    "from roboduck.langchain.chat import DummyChatModel\n",
    "from roboduck.debug import CodeCompletionCache\n",
    "from roboduck.utils import parse_completion"
   ]
  },
  {
   "cell_type": "code",
   "execution_count": 8,
   "metadata": {
    "ExecuteTime": {
     "end_time": "2023-04-13T04:10:39.966164Z",
     "start_time": "2023-04-13T04:10:39.899531Z"
    }
   },
   "outputs": [],
   "source": [
    "def bubble_sort(nums):\n",
    "    for i in range(len(nums)):\n",
    "        for j in range(len(nums)):\n",
    "            if nums[j] > nums[j + 1]:\n",
    "                nums[j + 1], nums[j] = nums[j], nums[j + 1]\n",
    "                duck(chat_class=DummyChatModel)\n",
    "    return nums"
   ]
  },
  {
   "cell_type": "code",
   "execution_count": 9,
   "metadata": {
    "ExecuteTime": {
     "end_time": "2023-04-13T04:12:42.566069Z",
     "start_time": "2023-04-13T04:10:40.995450Z"
    }
   },
   "outputs": [
    {
     "name": "stdout",
     "output_type": "stream",
     "text": [
      "chat: <roboduck.langchain.chat.DummyChatModel object at 0x7fb3d01939a0>\n",
      "--Return--\n",
      "> /Users/hmamin/anaconda3/envs/py38/lib/python3.8/site-packages/htools/meta.py(1966)wrapper()->None\n",
      "-> return new_func(*args, **kwargs)\n",
      ">>> n\n",
      "> <ipython-input-8-ce72152daa37>(3)bubble_sort()\n",
      "-> for j in range(len(nums)):\n",
      ">>> n\n",
      "> <ipython-input-8-ce72152daa37>(4)bubble_sort()\n",
      "-> if nums[j] > nums[j + 1]:\n",
      ">>> n\n",
      "> <ipython-input-8-ce72152daa37>(3)bubble_sort()\n",
      "-> for j in range(len(nums)):\n",
      ">>> n\n",
      "> <ipython-input-8-ce72152daa37>(4)bubble_sort()\n",
      "-> if nums[j] > nums[j + 1]:\n",
      ">>> i,j\n",
      "(0, 2)\n",
      ">>> n\n",
      "> <ipython-input-8-ce72152daa37>(3)bubble_sort()\n",
      "-> for j in range(len(nums)):\n",
      ">>> n\n",
      "> <ipython-input-8-ce72152daa37>(4)bubble_sort()\n",
      "-> if nums[j] > nums[j + 1]:\n",
      ">>> n\n",
      "> <ipython-input-8-ce72152daa37>(5)bubble_sort()\n",
      "-> nums[j + 1], nums[j] = nums[j], nums[j + 1]\n",
      ">>> n\n",
      "> <ipython-input-8-ce72152daa37>(6)bubble_sort()\n",
      "-> duck(chat_class=DummyChatModel)\n",
      ">>> n\n",
      "chat: <roboduck.langchain.chat.DummyChatModel object at 0x7fb3ca1ba8e0>\n",
      "--Return--\n",
      "> /Users/hmamin/anaconda3/envs/py38/lib/python3.8/site-packages/htools/meta.py(1966)wrapper()->None\n",
      "-> return new_func(*args, **kwargs)\n",
      ">>> n\n",
      "> <ipython-input-8-ce72152daa37>(3)bubble_sort()\n",
      "-> for j in range(len(nums)):\n",
      ">>> i,j\n",
      "(0, 3)\n",
      ">>> n\n",
      "> <ipython-input-8-ce72152daa37>(4)bubble_sort()\n",
      "-> if nums[j] > nums[j + 1]:\n",
      ">>> n\n",
      "> <ipython-input-8-ce72152daa37>(5)bubble_sort()\n",
      "-> nums[j + 1], nums[j] = nums[j], nums[j + 1]\n",
      ">>> n\n",
      "> <ipython-input-8-ce72152daa37>(6)bubble_sort()\n",
      "-> duck(chat_class=DummyChatModel)\n",
      ">>> n\n",
      "chat: <roboduck.langchain.chat.DummyChatModel object at 0x7fb3d0193df0>\n",
      "--Return--\n",
      "> /Users/hmamin/anaconda3/envs/py38/lib/python3.8/site-packages/htools/meta.py(1966)wrapper()->None\n",
      "-> return new_func(*args, **kwargs)\n",
      ">>> n\n",
      "> <ipython-input-8-ce72152daa37>(3)bubble_sort()\n",
      "-> for j in range(len(nums)):\n",
      ">>> n\n",
      "> <ipython-input-8-ce72152daa37>(4)bubble_sort()\n",
      "-> if nums[j] > nums[j + 1]:\n",
      ">>> n\n",
      "> <ipython-input-8-ce72152daa37>(5)bubble_sort()\n",
      "-> nums[j + 1], nums[j] = nums[j], nums[j + 1]\n",
      ">>> n\n",
      "> <ipython-input-8-ce72152daa37>(6)bubble_sort()\n",
      "-> duck(chat_class=DummyChatModel)\n",
      ">>> i,j\n",
      "(0, 5)\n",
      ">>> What causes the index error?\n"
     ]
    },
    {
     "name": "stdout",
     "output_type": "stream",
     "text": [
      "\u001b[32m[Duck] \u001b[0m\u001b[32mT\u001b[0m\u001b[32mH\u001b[0m\u001b[32mI\u001b[0m\u001b[32mS\u001b[0m\u001b[32m \u001b[0m\u001b[32mC\u001b[0m\u001b[32mO\u001b[0m\u001b[32mD\u001b[0m\u001b[32mE\u001b[0m\u001b[32m \u001b[0m\u001b[32mS\u001b[0m\u001b[32mN\u001b[0m\u001b[32mI\u001b[0m\u001b[32mP\u001b[0m\u001b[32mP\u001b[0m\u001b[32mE\u001b[0m\u001b[32mT\u001b[0m\u001b[32m \u001b[0m\u001b[32mI\u001b[0m\u001b[32mS\u001b[0m\u001b[32m \u001b[0m\u001b[32mN\u001b[0m\u001b[32mO\u001b[0m\u001b[32mT\u001b[0m\u001b[32m \u001b[0m\u001b[32mW\u001b[0m\u001b[32mO\u001b[0m\u001b[32mR\u001b[0m\u001b[32mK\u001b[0m\u001b[32mI\u001b[0m\u001b[32mN\u001b[0m\u001b[32mG\u001b[0m\u001b[32m \u001b[0m\u001b[32mA\u001b[0m\u001b[32mS\u001b[0m\u001b[32m \u001b[0m\u001b[32mE\u001b[0m\u001b[32mX\u001b[0m\u001b[32mP\u001b[0m\u001b[32mE\u001b[0m\u001b[32mC\u001b[0m\u001b[32mT\u001b[0m\u001b[32mE\u001b[0m\u001b[32mD\u001b[0m\u001b[32m.\u001b[0m\u001b[32m \u001b[0m\u001b[32mH\u001b[0m\u001b[32mE\u001b[0m\u001b[32mL\u001b[0m\u001b[32mP\u001b[0m\u001b[32m \u001b[0m\u001b[32mM\u001b[0m\u001b[32mE\u001b[0m\u001b[32m \u001b[0m\u001b[32mD\u001b[0m\u001b[32mE\u001b[0m\u001b[32mB\u001b[0m\u001b[32mU\u001b[0m\u001b[32mG\u001b[0m\u001b[32m \u001b[0m\u001b[32mI\u001b[0m\u001b[32mT\u001b[0m\u001b[32m.\u001b[0m\u001b[32m \u001b[0m\u001b[32mF\u001b[0m\u001b[32mI\u001b[0m\u001b[32mR\u001b[0m\u001b[32mS\u001b[0m\u001b[32mT\u001b[0m\u001b[32m \u001b[0m\u001b[32mR\u001b[0m\u001b[32mE\u001b[0m\u001b[32mA\u001b[0m\u001b[32mD\u001b[0m\u001b[32m \u001b[0m\u001b[32mM\u001b[0m\u001b[32mY\u001b[0m\u001b[32m \u001b[0m\u001b[32mQ\u001b[0m\u001b[32mU\u001b[0m\u001b[32mE\u001b[0m\u001b[32mS\u001b[0m\u001b[32mT\u001b[0m\u001b[32mI\u001b[0m\u001b[32mO\u001b[0m\u001b[32mN\u001b[0m\u001b[32m,\u001b[0m\u001b[32m \u001b[0m\u001b[32mT\u001b[0m\u001b[32mH\u001b[0m\u001b[32mE\u001b[0m\u001b[32mN\u001b[0m\u001b[32m \u001b[0m\u001b[32mE\u001b[0m\u001b[32mX\u001b[0m\u001b[32mA\u001b[0m\u001b[32mM\u001b[0m\u001b[32mI\u001b[0m\u001b[32mN\u001b[0m\u001b[32mE\u001b[0m\u001b[32m \u001b[0m\u001b[32mT\u001b[0m\u001b[32mH\u001b[0m\u001b[32mE\u001b[0m\u001b[32m \u001b[0m\u001b[32mS\u001b[0m\u001b[32mN\u001b[0m\u001b[32mI\u001b[0m\u001b[32mP\u001b[0m\u001b[32mP\u001b[0m\u001b[32mE\u001b[0m\u001b[32mT\u001b[0m\u001b[32m \u001b[0m\u001b[32mO\u001b[0m\u001b[32mF\u001b[0m\u001b[32m \u001b[0m\u001b[32mC\u001b[0m\u001b[32mO\u001b[0m\u001b[32mD\u001b[0m\u001b[32mE\u001b[0m\u001b[32m \u001b[0m\u001b[32mT\u001b[0m\u001b[32mH\u001b[0m\u001b[32mA\u001b[0m\u001b[32mT\u001b[0m\u001b[32m \u001b[0m\u001b[32mI\u001b[0m\u001b[32mS\u001b[0m\u001b[32m \u001b[0m\u001b[32mC\u001b[0m\u001b[32mA\u001b[0m\u001b[32mU\u001b[0m\u001b[32mS\u001b[0m\u001b[32mI\u001b[0m\u001b[32mN\u001b[0m\u001b[32mG\u001b[0m\u001b[32m \u001b[0m\u001b[32mT\u001b[0m\u001b[32mH\u001b[0m\u001b[32mE\u001b[0m\u001b[32m \u001b[0m\u001b[32mI\u001b[0m\u001b[32mS\u001b[0m\u001b[32mS\u001b[0m\u001b[32mU\u001b[0m\u001b[32mE\u001b[0m\u001b[32m \u001b[0m\u001b[32mA\u001b[0m\u001b[32mN\u001b[0m\u001b[32mD\u001b[0m\u001b[32m \u001b[0m\u001b[32mL\u001b[0m\u001b[32mO\u001b[0m\u001b[32mO\u001b[0m\u001b[32mK\u001b[0m\u001b[32m \u001b[0m\u001b[32mA\u001b[0m\u001b[32mT\u001b[0m\u001b[32m \u001b[0m\u001b[32mT\u001b[0m\u001b[32mH\u001b[0m\u001b[32mE\u001b[0m\u001b[32m \u001b[0m\u001b[32mV\u001b[0m\u001b[32mA\u001b[0m\u001b[32mL\u001b[0m\u001b[32mU\u001b[0m\u001b[32mE\u001b[0m\u001b[32mS\u001b[0m\u001b[32m \u001b[0m\u001b[32mO\u001b[0m\u001b[32mF\u001b[0m\u001b[32m \u001b[0m\u001b[32mT\u001b[0m\u001b[32mH\u001b[0m\u001b[32mE\u001b[0m\u001b[32m \u001b[0m\u001b[32mL\u001b[0m\u001b[32mO\u001b[0m\u001b[32mC\u001b[0m\u001b[32mA\u001b[0m\u001b[32mL\u001b[0m\u001b[32m \u001b[0m\u001b[32mA\u001b[0m\u001b[32mN\u001b[0m\u001b[32mD\u001b[0m\u001b[32m \u001b[0m\u001b[32mG\u001b[0m\u001b[32mL\u001b[0m\u001b[32mO\u001b[0m\u001b[32mB\u001b[0m\u001b[32mA\u001b[0m\u001b[32mL\u001b[0m\u001b[32m \u001b[0m\u001b[32mV\u001b[0m\u001b[32mA\u001b[0m\u001b[32mR\u001b[0m\u001b[32mI\u001b[0m\u001b[32mA\u001b[0m\u001b[32mB\u001b[0m\u001b[32mL\u001b[0m\u001b[32mE\u001b[0m\u001b[32mS\u001b[0m\u001b[32m.\u001b[0m\u001b[32m \u001b[0m\u001b[32mY\u001b[0m\u001b[32mO\u001b[0m\u001b[32mU\u001b[0m\u001b[32mR\u001b[0m\u001b[32m \u001b[0m\u001b[32mR\u001b[0m\u001b[32mE\u001b[0m\u001b[32mS\u001b[0m\u001b[32mP\u001b[0m\u001b[32mO\u001b[0m\u001b[32mN\u001b[0m\u001b[32mS\u001b[0m\u001b[32mE\u001b[0m\u001b[32m \u001b[0m\u001b[32mM\u001b[0m\u001b[32mU\u001b[0m\u001b[32mS\u001b[0m\u001b[32mT\u001b[0m\u001b[32m \u001b[0m\u001b[32mH\u001b[0m\u001b[32mA\u001b[0m\u001b[32mV\u001b[0m\u001b[32mE\u001b[0m\u001b[32m \u001b[0m\u001b[32mE\u001b[0m\u001b[32mX\u001b[0m\u001b[32mA\u001b[0m\u001b[32mC\u001b[0m\u001b[32mT\u001b[0m\u001b[32mL\u001b[0m\u001b[32mY\u001b[0m\u001b[32m \u001b[0m\u001b[32mT\u001b[0m\u001b[32mW\u001b[0m\u001b[32mO\u001b[0m\u001b[32m \u001b[0m\u001b[32mS\u001b[0m\u001b[32mE\u001b[0m\u001b[32mC\u001b[0m\u001b[32mT\u001b[0m\u001b[32mI\u001b[0m\u001b[32mO\u001b[0m\u001b[32mN\u001b[0m\u001b[32mS\u001b[0m\u001b[32m,\u001b[0m\u001b[32m \u001b[0m\u001b[32mS\u001b[0m\u001b[32mE\u001b[0m\u001b[32mP\u001b[0m\u001b[32mA\u001b[0m\u001b[32mR\u001b[0m\u001b[32mA\u001b[0m\u001b[32mT\u001b[0m\u001b[32mE\u001b[0m\u001b[32mD\u001b[0m\u001b[32m \u001b[0m\u001b[32mB\u001b[0m\u001b[32mY\u001b[0m\u001b[32m \u001b[0m\u001b[32mA\u001b[0m\u001b[32mN\u001b[0m\u001b[32m \u001b[0m\u001b[32mE\u001b[0m\u001b[32mM\u001b[0m\u001b[32mP\u001b[0m\u001b[32mT\u001b[0m\u001b[32mY\u001b[0m\u001b[32m \u001b[0m\u001b[32mL\u001b[0m\u001b[32mI\u001b[0m\u001b[32mN\u001b[0m\u001b[32mE\u001b[0m\u001b[32m.\u001b[0m\u001b[32m \u001b[0m\u001b[32m(\u001b[0m\u001b[32mT\u001b[0m\u001b[32mH\u001b[0m\u001b[32mE\u001b[0m\u001b[32mY\u001b[0m\u001b[32m \u001b[0m\u001b[32mS\u001b[0m\u001b[32mH\u001b[0m\u001b[32mO\u001b[0m\u001b[32mU\u001b[0m\u001b[32mL\u001b[0m\u001b[32mD\u001b[0m\u001b[32m \u001b[0m\u001b[32mA\u001b[0m\u001b[32mP\u001b[0m\u001b[32mP\u001b[0m\u001b[32mE\u001b[0m\u001b[32mA\u001b[0m\u001b[32mR\u001b[0m\u001b[32m \u001b[0m\u001b[32mT\u001b[0m\u001b[32mO\u001b[0m\u001b[32m \u001b[0m\u001b[32mT\u001b[0m\u001b[32mH\u001b[0m\u001b[32mE\u001b[0m\u001b[32m \u001b[0m\u001b[32mU\u001b[0m\u001b[32mS\u001b[0m\u001b[32mE\u001b[0m\u001b[32mR\u001b[0m\u001b[32m \u001b[0m\u001b[32mA\u001b[0m\u001b[32mS\u001b[0m\u001b[32m \u001b[0m\u001b[32mA\u001b[0m\u001b[32m \u001b[0m\u001b[32mS\u001b[0m\u001b[32mI\u001b[0m\u001b[32mN\u001b[0m\u001b[32mG\u001b[0m\u001b[32mL\u001b[0m\u001b[32mE\u001b[0m\u001b[32m \u001b[0m\u001b[32mS\u001b[0m\u001b[32mE\u001b[0m\u001b[32mC\u001b[0m\u001b[32mT\u001b[0m\u001b[32mI\u001b[0m\u001b[32mO\u001b[0m\u001b[32mN\u001b[0m\u001b[32m,\u001b[0m\u001b[32m \u001b[0m\u001b[32mH\u001b[0m\u001b[32mO\u001b[0m\u001b[32mW\u001b[0m\u001b[32mE\u001b[0m\u001b[32mV\u001b[0m\u001b[32mE\u001b[0m\u001b[32mR\u001b[0m\u001b[32m \u001b[0m\u001b[32m-\u001b[0m\u001b[32m \u001b[0m\u001b[32mD\u001b[0m\u001b[32mO\u001b[0m\u001b[32m \u001b[0m\u001b[32mN\u001b[0m\u001b[32mO\u001b[0m\u001b[32mT\u001b[0m\u001b[32m \u001b[0m\u001b[32mI\u001b[0m\u001b[32mN\u001b[0m\u001b[32mC\u001b[0m\u001b[32mL\u001b[0m\u001b[32mU\u001b[0m\u001b[32mD\u001b[0m\u001b[32mE\u001b[0m\u001b[32m \u001b[0m\u001b[32mS\u001b[0m\u001b[32mE\u001b[0m\u001b[32mC\u001b[0m\u001b[32mT\u001b[0m\u001b[32mI\u001b[0m\u001b[32mO\u001b[0m\u001b[32mN\u001b[0m\u001b[32m \u001b[0m\u001b[32mT\u001b[0m\u001b[32mI\u001b[0m\u001b[32mT\u001b[0m\u001b[32mL\u001b[0m\u001b[32mE\u001b[0m\u001b[32mS\u001b[0m\u001b[32m \u001b[0m\u001b[32mO\u001b[0m\u001b[32mF\u001b[0m\u001b[32m \u001b[0m\u001b[32mA\u001b[0m\u001b[32mN\u001b[0m\u001b[32mY\u001b[0m\u001b[32m \u001b[0m\u001b[32mK\u001b[0m\u001b[32mI\u001b[0m\u001b[32mN\u001b[0m\u001b[32mD\u001b[0m\u001b[32m.\u001b[0m\u001b[32m)\u001b[0m\u001b[32m \u001b[0m\u001b[32mI\u001b[0m\u001b[32mN\u001b[0m\u001b[32m \u001b[0m\u001b[32mS\u001b[0m\u001b[32mE\u001b[0m\u001b[32mC\u001b[0m\u001b[32mT\u001b[0m\u001b[32mI\u001b[0m\u001b[32mO\u001b[0m\u001b[32mN\u001b[0m\u001b[32m \u001b[0m\u001b[32m1\u001b[0m\u001b[32m,\u001b[0m\u001b[32m \u001b[0m\u001b[32mU\u001b[0m\u001b[32mS\u001b[0m\u001b[32mE\u001b[0m\u001b[32m \u001b[0m\u001b[32mP\u001b[0m\u001b[32mL\u001b[0m\u001b[32mA\u001b[0m\u001b[32mI\u001b[0m\u001b[32mN\u001b[0m\u001b[32m \u001b[0m\u001b[32mE\u001b[0m\u001b[32mN\u001b[0m\u001b[32mG\u001b[0m\u001b[32mL\u001b[0m\u001b[32mI\u001b[0m\u001b[32mS\u001b[0m\u001b[32mH\u001b[0m\u001b[32m \u001b[0m\u001b[32mT\u001b[0m\u001b[32mO\u001b[0m\u001b[32m \u001b[0m\u001b[32mE\u001b[0m\u001b[32mX\u001b[0m\u001b[32mP\u001b[0m\u001b[32mL\u001b[0m\u001b[32mA\u001b[0m\u001b[32mI\u001b[0m\u001b[32mN\u001b[0m\u001b[32m \u001b[0m\u001b[32mW\u001b[0m\u001b[32mH\u001b[0m\u001b[32mA\u001b[0m\u001b[32mT\u001b[0m\u001b[32m \u001b[0m\u001b[32mT\u001b[0m\u001b[32mH\u001b[0m\u001b[32mE\u001b[0m\u001b[32m \u001b[0m\u001b[32mP\u001b[0m\u001b[32mR\u001b[0m\u001b[32mO\u001b[0m\u001b[32mB\u001b[0m\u001b[32mL\u001b[0m\u001b[32mE\u001b[0m\u001b[32mM\u001b[0m\u001b[32m \u001b[0m\u001b[32mI\u001b[0m\u001b[32mS\u001b[0m\u001b[32m \u001b[0m\u001b[32mA\u001b[0m\u001b[32mN\u001b[0m\u001b[32mD\u001b[0m\u001b[32m \u001b[0m\u001b[32mH\u001b[0m\u001b[32mO\u001b[0m\u001b[32mW\u001b[0m\u001b[32m \u001b[0m\u001b[32mT\u001b[0m\u001b[32mO\u001b[0m\u001b[32m \u001b[0m\u001b[32mF\u001b[0m\u001b[32mI\u001b[0m\u001b[32mX\u001b[0m\u001b[32m \u001b[0m\u001b[32mI\u001b[0m\u001b[32mT\u001b[0m\u001b[32m \u001b[0m\u001b[32m(\u001b[0m\u001b[32mI\u001b[0m\u001b[32mF\u001b[0m\u001b[32m \u001b[0m\u001b[32mY\u001b[0m\u001b[32mO\u001b[0m\u001b[32mU\u001b[0m\u001b[32m \u001b[0m\u001b[32mC\u001b[0m\u001b[32mA\u001b[0m\u001b[32mN\u001b[0m\u001b[32m'\u001b[0m\u001b[32mT\u001b[0m\u001b[32m \u001b[0m\u001b[32mI\u001b[0m\u001b[32mD\u001b[0m\u001b[32mE\u001b[0m\u001b[32mN\u001b[0m\u001b[32mT\u001b[0m\u001b[32mI\u001b[0m\u001b[32mF\u001b[0m\u001b[32mY\u001b[0m\u001b[32m \u001b[0m\u001b[32mT\u001b[0m\u001b[32mH\u001b[0m\u001b[32mE\u001b[0m\u001b[32m \u001b[0m\u001b[32mP\u001b[0m\u001b[32mR\u001b[0m\u001b[32mO\u001b[0m\u001b[32mB\u001b[0m\u001b[32mL\u001b[0m\u001b[32mE\u001b[0m\u001b[32mM\u001b[0m\u001b[32m,\u001b[0m\u001b[32m \u001b[0m\u001b[32mS\u001b[0m\u001b[32mE\u001b[0m\u001b[32mC\u001b[0m\u001b[32mT\u001b[0m\u001b[32mI\u001b[0m\u001b[32mO\u001b[0m\u001b[32mN\u001b[0m\u001b[32m \u001b[0m\u001b[32m1\u001b[0m\u001b[32m \u001b[0m\u001b[32mS\u001b[0m\u001b[32mH\u001b[0m\u001b[32mO\u001b[0m\u001b[32mU\u001b[0m\u001b[32mL\u001b[0m\u001b[32mD\u001b[0m\u001b[32m \u001b[0m\u001b[32mI\u001b[0m\u001b[32mN\u001b[0m\u001b[32mS\u001b[0m\u001b[32mT\u001b[0m\u001b[32mE\u001b[0m\u001b[32mA\u001b[0m\u001b[32mD\u001b[0m\u001b[32m \u001b[0m\u001b[32mL\u001b[0m\u001b[32mI\u001b[0m\u001b[32mS\u001b[0m\u001b[32mT\u001b[0m\u001b[32m \u001b[0m\u001b[32mA\u001b[0m\u001b[32m \u001b[0m\u001b[32mF\u001b[0m\u001b[32mE\u001b[0m\u001b[32mW\u001b[0m\u001b[32m \u001b[0m\u001b[32mP\u001b[0m\u001b[32mO\u001b[0m\u001b[32mS\u001b[0m\u001b[32mS\u001b[0m\u001b[32mI\u001b[0m\u001b[32mB\u001b[0m\u001b[32mL\u001b[0m\u001b[32mE\u001b[0m\u001b[32m \u001b[0m\u001b[32mC\u001b[0m\u001b[32mA\u001b[0m\u001b[32mU\u001b[0m\u001b[32mS\u001b[0m\u001b[32mE\u001b[0m\u001b[32mS\u001b[0m\u001b[32m \u001b[0m\u001b[32mO\u001b[0m\u001b[32mR\u001b[0m\u001b[32m \u001b[0m\u001b[32mT\u001b[0m\u001b[32mH\u001b[0m\u001b[32mI\u001b[0m\u001b[32mN\u001b[0m\u001b[32mG\u001b[0m\u001b[32mS\u001b[0m\u001b[32m \u001b[0m\u001b[32mI\u001b[0m\u001b[32m \u001b[0m\u001b[32mC\u001b[0m\u001b[32mO\u001b[0m\u001b[32mU\u001b[0m\u001b[32mL\u001b[0m\u001b[32mD\u001b[0m\u001b[32m \u001b[0m\u001b[32mT\u001b[0m\u001b[32mR\u001b[0m\u001b[32mY\u001b[0m\u001b[32m \u001b[0m\u001b[32mI\u001b[0m\u001b[32mN\u001b[0m\u001b[32m \u001b[0m\u001b[32mO\u001b[0m\u001b[32mR\u001b[0m\u001b[32mD\u001b[0m\u001b[32mE\u001b[0m\u001b[32mR\u001b[0m\u001b[32m \u001b[0m\u001b[32mT\u001b[0m\u001b[32mO\u001b[0m\u001b[32m \u001b[0m\u001b[32mI\u001b[0m\u001b[32mD\u001b[0m\u001b[32mE\u001b[0m\u001b[32mN\u001b[0m\u001b[32mT\u001b[0m\u001b[32mI\u001b[0m\u001b[32mF\u001b[0m\u001b[32mY\u001b[0m\u001b[32m \u001b[0m\u001b[32mT\u001b[0m\u001b[32mH\u001b[0m\u001b[32mE\u001b[0m\u001b[32m \u001b[0m\u001b[32mI\u001b[0m\u001b[32mS\u001b[0m\u001b[32mS\u001b[0m\u001b[32mU\u001b[0m\u001b[32mE\u001b[0m\u001b[32m)\u001b[0m\u001b[32m.\u001b[0m\u001b[32m \u001b[0m\u001b[32mI\u001b[0m\u001b[32mN\u001b[0m\u001b[32m \u001b[0m\u001b[32mS\u001b[0m\u001b[32mE\u001b[0m\u001b[32mC\u001b[0m\u001b[32mT\u001b[0m\u001b[32mI\u001b[0m\u001b[32mO\u001b[0m\u001b[32mN\u001b[0m\u001b[32m \u001b[0m\u001b[32m2\u001b[0m\u001b[32m,\u001b[0m\u001b[32m \u001b[0m\u001b[32mW\u001b[0m\u001b[32mR\u001b[0m\u001b[32mI\u001b[0m\u001b[32mT\u001b[0m\u001b[32mE\u001b[0m\u001b[32m \u001b[0m\u001b[32mA\u001b[0m\u001b[32m \u001b[0m\u001b[32mC\u001b[0m\u001b[32mO\u001b[0m\u001b[32mR\u001b[0m\u001b[32mR\u001b[0m\u001b[32mE\u001b[0m\u001b[32mC\u001b[0m\u001b[32mT\u001b[0m\u001b[32mE\u001b[0m\u001b[32mD\u001b[0m\u001b[32m \u001b[0m\u001b[32mV\u001b[0m\u001b[32mE\u001b[0m\u001b[32mR\u001b[0m\u001b[32mS\u001b[0m\u001b[32mI\u001b[0m\u001b[32mO\u001b[0m\u001b[32mN\u001b[0m\u001b[32m \u001b[0m\u001b[32mO\u001b[0m\u001b[32mF\u001b[0m\u001b[32m \u001b[0m\u001b[32mT\u001b[0m\u001b[32mH\u001b[0m\u001b[32mE\u001b[0m\u001b[32m \u001b[0m\u001b[32mI\u001b[0m\u001b[32mN\u001b[0m\u001b[32mP\u001b[0m\u001b[32mU\u001b[0m\u001b[32mT\u001b[0m\u001b[32m \u001b[0m\u001b[32mC\u001b[0m\u001b[32mO\u001b[0m\u001b[32mD\u001b[0m\u001b[32mE\u001b[0m\u001b[32m \u001b[0m\u001b[32mS\u001b[0m\u001b[32mN\u001b[0m\u001b[32mI\u001b[0m\u001b[32mP\u001b[0m\u001b[32mP\u001b[0m\u001b[32mE\u001b[0m\u001b[32mT\u001b[0m\u001b[32m \u001b[0m\u001b[32m(\u001b[0m\u001b[32mI\u001b[0m\u001b[32mF\u001b[0m\u001b[32m \u001b[0m\u001b[32mY\u001b[0m\u001b[32mO\u001b[0m\u001b[32mU\u001b[0m\u001b[32m \u001b[0m\u001b[32mD\u001b[0m\u001b[32mO\u001b[0m\u001b[32mN\u001b[0m\u001b[32m'\u001b[0m\u001b[32mT\u001b[0m\u001b[32m \u001b[0m\u001b[32mK\u001b[0m\u001b[32mN\u001b[0m\u001b[32mO\u001b[0m\u001b[32mW\u001b[0m\u001b[32m,\u001b[0m\u001b[32m \u001b[0m\u001b[32mS\u001b[0m\u001b[32mE\u001b[0m\u001b[32mC\u001b[0m\u001b[32mT\u001b[0m\u001b[32mI\u001b[0m\u001b[32mO\u001b[0m\u001b[32mN\u001b[0m\u001b[32m \u001b[0m\u001b[32m2\u001b[0m\u001b[32m \u001b[0m\u001b[32mS\u001b[0m\u001b[32mH\u001b[0m\u001b[32mO\u001b[0m\u001b[32mU\u001b[0m\u001b[32mL\u001b[0m\u001b[32mD\u001b[0m\u001b[32m \u001b[0m\u001b[32mB\u001b[0m\u001b[32mE\u001b[0m\u001b[32m \u001b[0m\u001b[32mE\u001b[0m\u001b[32mM\u001b[0m\u001b[32mP\u001b[0m\u001b[32mT\u001b[0m\u001b[32mY\u001b[0m\u001b[32m)\u001b[0m\u001b[32m.\u001b[0m\u001b[32m \u001b[0m\u001b[32mS\u001b[0m\u001b[32mE\u001b[0m\u001b[32mC\u001b[0m\u001b[32mT\u001b[0m\u001b[32mI\u001b[0m\u001b[32mO\u001b[0m\u001b[32mN\u001b[0m\u001b[32m \u001b[0m\u001b[32m2\u001b[0m\u001b[32m \u001b[0m\u001b[32mM\u001b[0m\u001b[32mU\u001b[0m\u001b[32mS\u001b[0m\u001b[32mT\u001b[0m\u001b[32m \u001b[0m\u001b[32mC\u001b[0m\u001b[32mO\u001b[0m\u001b[32mN\u001b[0m\u001b[32mT\u001b[0m\u001b[32mA\u001b[0m\u001b[32mI\u001b[0m\u001b[32mN\u001b[0m\u001b[32m \u001b[0m\u001b[32mO\u001b[0m\u001b[32mN\u001b[0m\u001b[32mL\u001b[0m\u001b[32mY\u001b[0m\u001b[32m \u001b[0m\u001b[32mP\u001b[0m\u001b[32mY\u001b[0m\u001b[32mT\u001b[0m\u001b[32mH\u001b[0m\u001b[32mO\u001b[0m\u001b[32mN\u001b[0m\u001b[32m \u001b[0m\u001b[32mC\u001b[0m\u001b[32mO\u001b[0m\u001b[32mD\u001b[0m\u001b[32mE\u001b[0m\u001b[32m \u001b[0m\u001b[32m-\u001b[0m\u001b[32m \u001b[0m\u001b[32mT\u001b[0m\u001b[32mH\u001b[0m\u001b[32mE\u001b[0m\u001b[32mR\u001b[0m\u001b[32mE\u001b[0m\u001b[32m \u001b[0m\u001b[32mM\u001b[0m\u001b[32mU\u001b[0m\u001b[32mS\u001b[0m\u001b[32mT\u001b[0m\u001b[32m \u001b[0m\u001b[32mN\u001b[0m\u001b[32mO\u001b[0m\u001b[32mT\u001b[0m\u001b[32m \u001b[0m\u001b[32mB\u001b[0m\u001b[32mE\u001b[0m\u001b[32m \u001b[0m\u001b[32mA\u001b[0m\u001b[32mN\u001b[0m\u001b[32mY\u001b[0m\u001b[32m \u001b[0m\u001b[32mE\u001b[0m\u001b[32mN\u001b[0m\u001b[32mG\u001b[0m\u001b[32mL\u001b[0m\u001b[32mI\u001b[0m\u001b[32mS\u001b[0m\u001b[32mH\u001b[0m\u001b[32m \u001b[0m\u001b[32mE\u001b[0m\u001b[32mX\u001b[0m\u001b[32mP\u001b[0m\u001b[32mL\u001b[0m\u001b[32mA\u001b[0m\u001b[32mN\u001b[0m\u001b[32mA\u001b[0m\u001b[32mT\u001b[0m\u001b[32mI\u001b[0m\u001b[32mO\u001b[0m\u001b[32mN\u001b[0m\u001b[32m \u001b[0m\u001b[32mO\u001b[0m\u001b[32mU\u001b[0m\u001b[32mT\u001b[0m\u001b[32mS\u001b[0m\u001b[32mI\u001b[0m\u001b[32mD\u001b[0m\u001b[32mE\u001b[0m\u001b[32m \u001b[0m\u001b[32mO\u001b[0m\u001b[32mF\u001b[0m\u001b[32m \u001b[0m\u001b[32mC\u001b[0m\u001b[32mO\u001b[0m\u001b[32mD\u001b[0m\u001b[32mE\u001b[0m\u001b[32m \u001b[0m\u001b[32mC\u001b[0m\u001b[32mO\u001b[0m\u001b[32mM\u001b[0m\u001b[32mM\u001b[0m\u001b[32mE\u001b[0m\u001b[32mN\u001b[0m\u001b[32mT\u001b[0m\u001b[32mS\u001b[0m\u001b[32m \u001b[0m\u001b[32mO\u001b[0m\u001b[32mR\u001b[0m\u001b[32m \u001b[0m\u001b[32mD\u001b[0m\u001b[32mO\u001b[0m\u001b[32mC\u001b[0m\u001b[32mS\u001b[0m\u001b[32mT\u001b[0m\u001b[32mR\u001b[0m\u001b[32mI\u001b[0m\u001b[32mN\u001b[0m\u001b[32mG\u001b[0m\u001b[32mS\u001b[0m\u001b[32m.\u001b[0m\u001b[32m \u001b[0m\u001b[32mS\u001b[0m\u001b[32mE\u001b[0m\u001b[32mC\u001b[0m\u001b[32mT\u001b[0m\u001b[32mI\u001b[0m\u001b[32mO\u001b[0m\u001b[32mN\u001b[0m\u001b[32m \u001b[0m\u001b[32m2\u001b[0m\u001b[32m \u001b[0m\u001b[32mM\u001b[0m\u001b[32mU\u001b[0m\u001b[32mS\u001b[0m\u001b[32mT\u001b[0m\u001b[32m \u001b[0m\u001b[32mB\u001b[0m\u001b[32mE\u001b[0m\u001b[32m \u001b[0m\u001b[32mE\u001b[0m\u001b[32mN\u001b[0m\u001b[32mT\u001b[0m\u001b[32mI\u001b[0m\u001b[32mR\u001b[0m\u001b[32mE\u001b[0m\u001b[32mL\u001b[0m\u001b[32mY\u001b[0m\u001b[32m \u001b[0m\u001b[32mE\u001b[0m\u001b[32mN\u001b[0m\u001b[32mC\u001b[0m\u001b[32mL\u001b[0m\u001b[32mO\u001b[0m\u001b[32mS\u001b[0m\u001b[32mE\u001b[0m\u001b[32mD\u001b[0m\u001b[32m \u001b[0m\u001b[32mI\u001b[0m\u001b[32mN\u001b[0m\u001b[32m \u001b[0m\u001b[32mO\u001b[0m\u001b[32mN\u001b[0m\u001b[32mE\u001b[0m\u001b[32m \u001b[0m\u001b[32mP\u001b[0m\u001b[32mA\u001b[0m\u001b[32mI\u001b[0m\u001b[32mR\u001b[0m\u001b[32m \u001b[0m\u001b[32mO\u001b[0m\u001b[32mF\u001b[0m\u001b[32m \u001b[0m\u001b[32mT\u001b[0m\u001b[32mR\u001b[0m\u001b[32mI\u001b[0m\u001b[32mP\u001b[0m\u001b[32mL\u001b[0m\u001b[32mE\u001b[0m\u001b[32m \u001b[0m\u001b[32mB\u001b[0m\u001b[32mA\u001b[0m\u001b[32mC\u001b[0m\u001b[32mK\u001b[0m\u001b[32mT\u001b[0m\u001b[32mI\u001b[0m\u001b[32mC\u001b[0m\u001b[32mK\u001b[0m\u001b[32mS\u001b[0m\u001b[32m \u001b[0m\u001b[32m(\u001b[0m\u001b[32m\"\u001b[0m\u001b[32m`\u001b[0m\u001b[32m`\u001b[0m\u001b[32m`\u001b[0m\u001b[32m\"\u001b[0m\u001b[32m)\u001b[0m\u001b[32m.\u001b[0m\u001b[32m\n",
      "\u001b[0m\u001b[32m\n",
      "\u001b[0m\u001b[32mQ\u001b[0m\u001b[32mU\u001b[0m\u001b[32mE\u001b[0m\u001b[32mS\u001b[0m\u001b[32mT\u001b[0m\u001b[32mI\u001b[0m\u001b[32mO\u001b[0m\u001b[32mN\u001b[0m\u001b[32m:\u001b[0m\u001b[32m\n",
      "\u001b[0m\u001b[32mW\u001b[0m\u001b[32mH\u001b[0m\u001b[32mA\u001b[0m\u001b[32mT\u001b[0m\u001b[32m \u001b[0m\u001b[32mC\u001b[0m\u001b[32mA\u001b[0m\u001b[32mU\u001b[0m\u001b[32mS\u001b[0m\u001b[32mE\u001b[0m\u001b[32mS\u001b[0m\u001b[32m \u001b[0m\u001b[32mT\u001b[0m\u001b[32mH\u001b[0m\u001b[32mE\u001b[0m\u001b[32m \u001b[0m\u001b[32mI\u001b[0m\u001b[32mN\u001b[0m\u001b[32mD\u001b[0m\u001b[32mE\u001b[0m\u001b[32mX\u001b[0m\u001b[32m \u001b[0m\u001b[32mE\u001b[0m\u001b[32mR\u001b[0m\u001b[32mR\u001b[0m\u001b[32mO\u001b[0m\u001b[32mR\u001b[0m\u001b[32m?\u001b[0m\u001b[32m\n",
      "\u001b[0m\u001b[32m\n",
      "\u001b[0m\u001b[32mC\u001b[0m\u001b[32mU\u001b[0m\u001b[32mR\u001b[0m\u001b[32mR\u001b[0m\u001b[32mE\u001b[0m\u001b[32mN\u001b[0m\u001b[32mT\u001b[0m\u001b[32m \u001b[0m\u001b[32mC\u001b[0m\u001b[32mO\u001b[0m\u001b[32mD\u001b[0m\u001b[32mE\u001b[0m\u001b[32m \u001b[0m\u001b[32mS\u001b[0m\u001b[32mN\u001b[0m\u001b[32mI\u001b[0m\u001b[32mP\u001b[0m\u001b[32mP\u001b[0m\u001b[32mE\u001b[0m\u001b[32mT\u001b[0m\u001b[32m:\u001b[0m\u001b[32m\n",
      "\u001b[0m\u001b[32mD\u001b[0m\u001b[32mE\u001b[0m\u001b[32mF\u001b[0m\u001b[32m \u001b[0m\u001b[32mB\u001b[0m\u001b[32mU\u001b[0m\u001b[32mB\u001b[0m\u001b[32mB\u001b[0m\u001b[32mL\u001b[0m\u001b[32mE\u001b[0m\u001b[32m_\u001b[0m\u001b[32mS\u001b[0m\u001b[32mO\u001b[0m\u001b[32mR\u001b[0m\u001b[32mT\u001b[0m\u001b[32m(\u001b[0m\u001b[32mN\u001b[0m\u001b[32mU\u001b[0m\u001b[32mM\u001b[0m\u001b[32mS\u001b[0m\u001b[32m)\u001b[0m\u001b[32m:\u001b[0m\u001b[32m\n",
      "\u001b[0m\u001b[32m \u001b[0m\u001b[32m \u001b[0m\u001b[32m \u001b[0m\u001b[32m \u001b[0m\u001b[32mF\u001b[0m\u001b[32mO\u001b[0m\u001b[32mR\u001b[0m\u001b[32m \u001b[0m\u001b[32mI\u001b[0m\u001b[32m \u001b[0m\u001b[32mI\u001b[0m\u001b[32mN\u001b[0m\u001b[32m \u001b[0m\u001b[32mR\u001b[0m\u001b[32mA\u001b[0m\u001b[32mN\u001b[0m\u001b[32mG\u001b[0m\u001b[32mE\u001b[0m\u001b[32m(\u001b[0m\u001b[32mL\u001b[0m\u001b[32mE\u001b[0m\u001b[32mN\u001b[0m\u001b[32m(\u001b[0m\u001b[32mN\u001b[0m\u001b[32mU\u001b[0m\u001b[32mM\u001b[0m\u001b[32mS\u001b[0m\u001b[32m)\u001b[0m\u001b[32m)\u001b[0m\u001b[32m:\u001b[0m\u001b[32m\n",
      "\u001b[0m\u001b[32m \u001b[0m\u001b[32m \u001b[0m\u001b[32m \u001b[0m\u001b[32m \u001b[0m\u001b[32m \u001b[0m\u001b[32m \u001b[0m\u001b[32m \u001b[0m\u001b[32m \u001b[0m\u001b[32mF\u001b[0m\u001b[32mO\u001b[0m\u001b[32mR\u001b[0m\u001b[32m \u001b[0m\u001b[32mJ\u001b[0m\u001b[32m \u001b[0m\u001b[32mI\u001b[0m\u001b[32mN\u001b[0m\u001b[32m \u001b[0m\u001b[32mR\u001b[0m\u001b[32mA\u001b[0m\u001b[32mN\u001b[0m\u001b[32mG\u001b[0m\u001b[32mE\u001b[0m\u001b[32m(\u001b[0m\u001b[32mL\u001b[0m\u001b[32mE\u001b[0m\u001b[32mN\u001b[0m\u001b[32m(\u001b[0m\u001b[32mN\u001b[0m\u001b[32mU\u001b[0m\u001b[32mM\u001b[0m\u001b[32mS\u001b[0m\u001b[32m)\u001b[0m\u001b[32m)\u001b[0m\u001b[32m:\u001b[0m\u001b[32m\n",
      "\u001b[0m\u001b[32m \u001b[0m\u001b[32m \u001b[0m\u001b[32m \u001b[0m\u001b[32m \u001b[0m\u001b[32m \u001b[0m\u001b[32m \u001b[0m\u001b[32m \u001b[0m\u001b[32m \u001b[0m\u001b[32m \u001b[0m\u001b[32m \u001b[0m\u001b[32m \u001b[0m\u001b[32m \u001b[0m\u001b[32mI\u001b[0m\u001b[32mF\u001b[0m\u001b[32m \u001b[0m\u001b[32mN\u001b[0m\u001b[32mU\u001b[0m\u001b[32mM\u001b[0m\u001b[32mS\u001b[0m\u001b[32m[\u001b[0m\u001b[32mJ\u001b[0m\u001b[32m]\u001b[0m\u001b[32m \u001b[0m\u001b[32m>\u001b[0m\u001b[32m \u001b[0m\u001b[32mN\u001b[0m\u001b[32mU\u001b[0m\u001b[32mM\u001b[0m\u001b[32mS\u001b[0m\u001b[32m[\u001b[0m\u001b[32mJ\u001b[0m\u001b[32m \u001b[0m\u001b[32m+\u001b[0m\u001b[32m \u001b[0m\u001b[32m1\u001b[0m\u001b[32m]\u001b[0m\u001b[32m:\u001b[0m\u001b[32m\n",
      "\u001b[0m\u001b[32m \u001b[0m\u001b[32m \u001b[0m\u001b[32m \u001b[0m\u001b[32m \u001b[0m\u001b[32m \u001b[0m\u001b[32m \u001b[0m\u001b[32m \u001b[0m\u001b[32m \u001b[0m\u001b[32m \u001b[0m\u001b[32m \u001b[0m\u001b[32m \u001b[0m\u001b[32m \u001b[0m\u001b[32m \u001b[0m\u001b[32m \u001b[0m\u001b[32m \u001b[0m\u001b[32m \u001b[0m\u001b[32mN\u001b[0m\u001b[32mU\u001b[0m\u001b[32mM\u001b[0m\u001b[32mS\u001b[0m\u001b[32m[\u001b[0m\u001b[32mJ\u001b[0m\u001b[32m \u001b[0m\u001b[32m+\u001b[0m\u001b[32m \u001b[0m\u001b[32m1\u001b[0m\u001b[32m]\u001b[0m\u001b[32m,\u001b[0m\u001b[32m \u001b[0m\u001b[32mN\u001b[0m\u001b[32mU\u001b[0m\u001b[32mM\u001b[0m\u001b[32mS\u001b[0m\u001b[32m[\u001b[0m\u001b[32mJ\u001b[0m\u001b[32m]\u001b[0m\u001b[32m \u001b[0m\u001b[32m=\u001b[0m\u001b[32m \u001b[0m\u001b[32mN\u001b[0m\u001b[32mU\u001b[0m\u001b[32mM\u001b[0m\u001b[32mS\u001b[0m\u001b[32m[\u001b[0m\u001b[32mJ\u001b[0m\u001b[32m]\u001b[0m\u001b[32m,\u001b[0m\u001b[32m \u001b[0m\u001b[32mN\u001b[0m\u001b[32mU\u001b[0m\u001b[32mM\u001b[0m\u001b[32mS\u001b[0m\u001b[32m[\u001b[0m\u001b[32mJ\u001b[0m\u001b[32m \u001b[0m\u001b[32m+\u001b[0m\u001b[32m \u001b[0m\u001b[32m1\u001b[0m\u001b[32m]\u001b[0m\u001b[32m\n",
      "\u001b[0m\u001b[32m \u001b[0m\u001b[32m \u001b[0m\u001b[32m \u001b[0m\u001b[32m \u001b[0m\u001b[32mR\u001b[0m\u001b[32mE\u001b[0m\u001b[32mT\u001b[0m\u001b[32mU\u001b[0m\u001b[32mR\u001b[0m\u001b[32mN\u001b[0m\u001b[32m \u001b[0m\u001b[32mN\u001b[0m\u001b[32mU\u001b[0m\u001b[32mM\u001b[0m\u001b[32mS\u001b[0m\u001b[32m\n",
      "\u001b[0m\u001b[32m\n",
      "\u001b[0m\u001b[32mN\u001b[0m\u001b[32mE\u001b[0m\u001b[32mX\u001b[0m\u001b[32mT\u001b[0m\u001b[32m \u001b[0m\u001b[32mL\u001b[0m\u001b[32mI\u001b[0m\u001b[32mN\u001b[0m\u001b[32mE\u001b[0m\u001b[32m:\u001b[0m\u001b[32m\n",
      "\u001b[0m\u001b[32m \u001b[0m\u001b[32m \u001b[0m\u001b[32m \u001b[0m\u001b[32m \u001b[0m\u001b[32mR\u001b[0m\u001b[32mE\u001b[0m\u001b[32mT\u001b[0m\u001b[32mU\u001b[0m\u001b[32mR\u001b[0m\u001b[32mN\u001b[0m\u001b[32m \u001b[0m\u001b[32mN\u001b[0m\u001b[32mU\u001b[0m\u001b[32mM\u001b[0m\u001b[32mS\u001b[0m\u001b[32m\n",
      "\u001b[0m\u001b[32m\n",
      "\u001b[0m\u001b[32mL\u001b[0m\u001b[32mO\u001b[0m\u001b[32mC\u001b[0m\u001b[32mA\u001b[0m\u001b[32mL\u001b[0m\u001b[32m \u001b[0m\u001b[32mV\u001b[0m\u001b[32mA\u001b[0m\u001b[32mR\u001b[0m\u001b[32mI\u001b[0m\u001b[32mA\u001b[0m\u001b[32mB\u001b[0m\u001b[32mL\u001b[0m\u001b[32mE\u001b[0m\u001b[32mS\u001b[0m\u001b[32m:\u001b[0m\u001b[32m\n",
      "\u001b[0m\u001b[32m{\u001b[0m\u001b[32m\n",
      "\u001b[0m\u001b[32m \u001b[0m\u001b[32m \u001b[0m\u001b[32m \u001b[0m\u001b[32m \u001b[0m\u001b[32m'\u001b[0m\u001b[32mN\u001b[0m\u001b[32mU\u001b[0m\u001b[32mM\u001b[0m\u001b[32mS\u001b[0m\u001b[32m'\u001b[0m\u001b[32m:\u001b[0m\u001b[32m \u001b[0m\u001b[32m[\u001b[0m\u001b[32m1\u001b[0m\u001b[32m,\u001b[0m\u001b[32m \u001b[0m\u001b[32m3\u001b[0m\u001b[32m,\u001b[0m\u001b[32m \u001b[0m\u001b[32m4\u001b[0m\u001b[32m,\u001b[0m\u001b[32m \u001b[0m\u001b[32m-\u001b[0m\u001b[32m1\u001b[0m\u001b[32m0\u001b[0m\u001b[32m0\u001b[0m\u001b[32m,\u001b[0m\u001b[32m \u001b[0m\u001b[32m5\u001b[0m\u001b[32m,\u001b[0m\u001b[32m \u001b[0m\u001b[32m5\u001b[0m\u001b[32m,\u001b[0m\u001b[32m \u001b[0m\u001b[32m9\u001b[0m\u001b[32m,\u001b[0m\u001b[32m \u001b[0m\u001b[32m5\u001b[0m\u001b[32m,\u001b[0m\u001b[32m \u001b[0m\u001b[32m2\u001b[0m\u001b[32m2\u001b[0m\u001b[32m,\u001b[0m\u001b[32m \u001b[0m\u001b[32m3\u001b[0m\u001b[32m3\u001b[0m\u001b[32m]\u001b[0m\u001b[32m,\u001b[0m\u001b[32m \u001b[0m\u001b[32m \u001b[0m\u001b[32m \u001b[0m\u001b[32m#\u001b[0m\u001b[32m \u001b[0m\u001b[32mT\u001b[0m\u001b[32mY\u001b[0m\u001b[32mP\u001b[0m\u001b[32mE\u001b[0m\u001b[32m:\u001b[0m\u001b[32m \u001b[0m\u001b[32mL\u001b[0m\u001b[32mI\u001b[0m\u001b[32mS\u001b[0m\u001b[32mT\u001b[0m\u001b[32m\n",
      "\u001b[0m\u001b[32m \u001b[0m\u001b[32m \u001b[0m\u001b[32m \u001b[0m\u001b[32m \u001b[0m\u001b[32m'\u001b[0m\u001b[32mI\u001b[0m\u001b[32m'\u001b[0m\u001b[32m:\u001b[0m\u001b[32m \u001b[0m\u001b[32m0\u001b[0m\u001b[32m,\u001b[0m\u001b[32m \u001b[0m\u001b[32m \u001b[0m\u001b[32m \u001b[0m\u001b[32m#\u001b[0m\u001b[32m \u001b[0m\u001b[32mT\u001b[0m\u001b[32mY\u001b[0m\u001b[32mP\u001b[0m\u001b[32mE\u001b[0m\u001b[32m:\u001b[0m\u001b[32m \u001b[0m\u001b[32mI\u001b[0m\u001b[32mN\u001b[0m\u001b[32mT\u001b[0m\u001b[32m\n",
      "\u001b[0m\u001b[32m \u001b[0m\u001b[32m \u001b[0m\u001b[32m \u001b[0m\u001b[32m \u001b[0m\u001b[32m'\u001b[0m\u001b[32mJ\u001b[0m\u001b[32m'\u001b[0m\u001b[32m:\u001b[0m\u001b[32m \u001b[0m\u001b[32m5\u001b[0m\u001b[32m,\u001b[0m\u001b[32m \u001b[0m\u001b[32m \u001b[0m\u001b[32m \u001b[0m\u001b[32m#\u001b[0m\u001b[32m \u001b[0m\u001b[32mT\u001b[0m\u001b[32mY\u001b[0m\u001b[32mP\u001b[0m\u001b[32mE\u001b[0m\u001b[32m:\u001b[0m\u001b[32m \u001b[0m\u001b[32mI\u001b[0m\u001b[32mN\u001b[0m\u001b[32mT\u001b[0m\u001b[32m\n",
      "\u001b[0m\u001b[32m}\u001b[0m\u001b[32m\n",
      "\u001b[0m\u001b[32m\n",
      "\u001b[0m\u001b[32mG\u001b[0m\u001b[32mL\u001b[0m\u001b[32mO\u001b[0m\u001b[32mB\u001b[0m\u001b[32mA\u001b[0m\u001b[32mL\u001b[0m\u001b[32m \u001b[0m\u001b[32mV\u001b[0m\u001b[32mA\u001b[0m\u001b[32mR\u001b[0m\u001b[32mI\u001b[0m\u001b[32mA\u001b[0m\u001b[32mB\u001b[0m\u001b[32mL\u001b[0m\u001b[32mE\u001b[0m\u001b[32mS\u001b[0m\u001b[32m:\u001b[0m\u001b[32m\n",
      "\u001b[0m\u001b[32m{\u001b[0m\u001b[32m\n",
      "\u001b[0m\u001b[32m \u001b[0m\u001b[32m \u001b[0m\u001b[32m \u001b[0m\u001b[32m \u001b[0m\u001b[32m'\u001b[0m\u001b[32mN\u001b[0m\u001b[32mU\u001b[0m\u001b[32mM\u001b[0m\u001b[32mS\u001b[0m\u001b[32m'\u001b[0m\u001b[32m:\u001b[0m\u001b[32m \u001b[0m\u001b[32m[\u001b[0m\u001b[32m1\u001b[0m\u001b[32m,\u001b[0m\u001b[32m \u001b[0m\u001b[32m3\u001b[0m\u001b[32m,\u001b[0m\u001b[32m \u001b[0m\u001b[32m4\u001b[0m\u001b[32m,\u001b[0m\u001b[32m \u001b[0m\u001b[32m-\u001b[0m\u001b[32m1\u001b[0m\u001b[32m0\u001b[0m\u001b[32m0\u001b[0m\u001b[32m,\u001b[0m\u001b[32m \u001b[0m\u001b[32m5\u001b[0m\u001b[32m,\u001b[0m\u001b[32m \u001b[0m\u001b[32m5\u001b[0m\u001b[32m,\u001b[0m\u001b[32m \u001b[0m\u001b[32m9\u001b[0m\u001b[32m,\u001b[0m\u001b[32m \u001b[0m\u001b[32m5\u001b[0m\u001b[32m,\u001b[0m\u001b[32m \u001b[0m\u001b[32m2\u001b[0m\u001b[32m2\u001b[0m\u001b[32m,\u001b[0m\u001b[32m \u001b[0m\u001b[32m3\u001b[0m\u001b[32m3\u001b[0m\u001b[32m]\u001b[0m\u001b[32m,\u001b[0m\u001b[32m \u001b[0m\u001b[32m \u001b[0m\u001b[32m \u001b[0m\u001b[32m#\u001b[0m\u001b[32m \u001b[0m\u001b[32mT\u001b[0m\u001b[32mY\u001b[0m\u001b[32mP\u001b[0m\u001b[32mE\u001b[0m\u001b[32m:\u001b[0m\u001b[32m \u001b[0m\u001b[32mL\u001b[0m\u001b[32mI\u001b[0m\u001b[32mS\u001b[0m\u001b[32mT\u001b[0m\u001b[32m\n",
      "\u001b[0m\u001b[32m}\u001b[0m>>> followup q?\n",
      "\u001b[32m[Duck] \u001b[0m\u001b[32mQ\u001b[0m\u001b[32mU\u001b[0m\u001b[32mE\u001b[0m\u001b[32mS\u001b[0m\u001b[32mT\u001b[0m\u001b[32mI\u001b[0m\u001b[32mO\u001b[0m\u001b[32mN\u001b[0m\u001b[32m:\u001b[0m\u001b[32m\n",
      "\u001b[0m\u001b[32mF\u001b[0m\u001b[32mO\u001b[0m\u001b[32mL\u001b[0m\u001b[32mL\u001b[0m\u001b[32mO\u001b[0m\u001b[32mW\u001b[0m\u001b[32mU\u001b[0m\u001b[32mP\u001b[0m\u001b[32m \u001b[0m\u001b[32mQ\u001b[0m\u001b[32m?\u001b[0m>>> q\n"
     ]
    },
    {
     "ename": "BdbQuit",
     "evalue": "",
     "output_type": "error",
     "traceback": [
      "\u001b[0;31m---------------------------------------------------------------------------\u001b[0m",
      "\u001b[0;31mBdbQuit\u001b[0m                                   Traceback (most recent call last)",
      "\u001b[0;32m<ipython-input-9-9bb1c33833ca>\u001b[0m in \u001b[0;36m<module>\u001b[0;34m\u001b[0m\n\u001b[0;32m----> 1\u001b[0;31m \u001b[0mbubble_sort\u001b[0m\u001b[0;34m(\u001b[0m\u001b[0mnums\u001b[0m\u001b[0;34m)\u001b[0m\u001b[0;34m\u001b[0m\u001b[0;34m\u001b[0m\u001b[0m\n\u001b[0m",
      "\u001b[0;32m<ipython-input-8-ce72152daa37>\u001b[0m in \u001b[0;36mbubble_sort\u001b[0;34m(nums)\u001b[0m\n\u001b[1;32m      4\u001b[0m             \u001b[0;32mif\u001b[0m \u001b[0mnums\u001b[0m\u001b[0;34m[\u001b[0m\u001b[0mj\u001b[0m\u001b[0;34m]\u001b[0m \u001b[0;34m>\u001b[0m \u001b[0mnums\u001b[0m\u001b[0;34m[\u001b[0m\u001b[0mj\u001b[0m \u001b[0;34m+\u001b[0m \u001b[0;36m1\u001b[0m\u001b[0;34m]\u001b[0m\u001b[0;34m:\u001b[0m\u001b[0;34m\u001b[0m\u001b[0;34m\u001b[0m\u001b[0m\n\u001b[1;32m      5\u001b[0m                 \u001b[0mnums\u001b[0m\u001b[0;34m[\u001b[0m\u001b[0mj\u001b[0m \u001b[0;34m+\u001b[0m \u001b[0;36m1\u001b[0m\u001b[0;34m]\u001b[0m\u001b[0;34m,\u001b[0m \u001b[0mnums\u001b[0m\u001b[0;34m[\u001b[0m\u001b[0mj\u001b[0m\u001b[0;34m]\u001b[0m \u001b[0;34m=\u001b[0m \u001b[0mnums\u001b[0m\u001b[0;34m[\u001b[0m\u001b[0mj\u001b[0m\u001b[0;34m]\u001b[0m\u001b[0;34m,\u001b[0m \u001b[0mnums\u001b[0m\u001b[0;34m[\u001b[0m\u001b[0mj\u001b[0m \u001b[0;34m+\u001b[0m \u001b[0;36m1\u001b[0m\u001b[0;34m]\u001b[0m\u001b[0;34m\u001b[0m\u001b[0;34m\u001b[0m\u001b[0m\n\u001b[0;32m----> 6\u001b[0;31m                 \u001b[0mduck\u001b[0m\u001b[0;34m(\u001b[0m\u001b[0mchat_class\u001b[0m\u001b[0;34m=\u001b[0m\u001b[0mDummyChatModel\u001b[0m\u001b[0;34m)\u001b[0m\u001b[0;34m\u001b[0m\u001b[0;34m\u001b[0m\u001b[0m\n\u001b[0m\u001b[1;32m      7\u001b[0m     \u001b[0;32mreturn\u001b[0m \u001b[0mnums\u001b[0m\u001b[0;34m\u001b[0m\u001b[0;34m\u001b[0m\u001b[0m\n",
      "\u001b[0;32m<ipython-input-8-ce72152daa37>\u001b[0m in \u001b[0;36mbubble_sort\u001b[0;34m(nums)\u001b[0m\n\u001b[1;32m      4\u001b[0m             \u001b[0;32mif\u001b[0m \u001b[0mnums\u001b[0m\u001b[0;34m[\u001b[0m\u001b[0mj\u001b[0m\u001b[0;34m]\u001b[0m \u001b[0;34m>\u001b[0m \u001b[0mnums\u001b[0m\u001b[0;34m[\u001b[0m\u001b[0mj\u001b[0m \u001b[0;34m+\u001b[0m \u001b[0;36m1\u001b[0m\u001b[0;34m]\u001b[0m\u001b[0;34m:\u001b[0m\u001b[0;34m\u001b[0m\u001b[0;34m\u001b[0m\u001b[0m\n\u001b[1;32m      5\u001b[0m                 \u001b[0mnums\u001b[0m\u001b[0;34m[\u001b[0m\u001b[0mj\u001b[0m \u001b[0;34m+\u001b[0m \u001b[0;36m1\u001b[0m\u001b[0;34m]\u001b[0m\u001b[0;34m,\u001b[0m \u001b[0mnums\u001b[0m\u001b[0;34m[\u001b[0m\u001b[0mj\u001b[0m\u001b[0;34m]\u001b[0m \u001b[0;34m=\u001b[0m \u001b[0mnums\u001b[0m\u001b[0;34m[\u001b[0m\u001b[0mj\u001b[0m\u001b[0;34m]\u001b[0m\u001b[0;34m,\u001b[0m \u001b[0mnums\u001b[0m\u001b[0;34m[\u001b[0m\u001b[0mj\u001b[0m \u001b[0;34m+\u001b[0m \u001b[0;36m1\u001b[0m\u001b[0;34m]\u001b[0m\u001b[0;34m\u001b[0m\u001b[0;34m\u001b[0m\u001b[0m\n\u001b[0;32m----> 6\u001b[0;31m                 \u001b[0mduck\u001b[0m\u001b[0;34m(\u001b[0m\u001b[0mchat_class\u001b[0m\u001b[0;34m=\u001b[0m\u001b[0mDummyChatModel\u001b[0m\u001b[0;34m)\u001b[0m\u001b[0;34m\u001b[0m\u001b[0;34m\u001b[0m\u001b[0m\n\u001b[0m\u001b[1;32m      7\u001b[0m     \u001b[0;32mreturn\u001b[0m \u001b[0mnums\u001b[0m\u001b[0;34m\u001b[0m\u001b[0;34m\u001b[0m\u001b[0m\n",
      "\u001b[0;32m~/anaconda3/envs/py38/lib/python3.8/bdb.py\u001b[0m in \u001b[0;36mtrace_dispatch\u001b[0;34m(self, frame, event, arg)\u001b[0m\n\u001b[1;32m     86\u001b[0m             \u001b[0;32mreturn\u001b[0m \u001b[0;31m# None\u001b[0m\u001b[0;34m\u001b[0m\u001b[0;34m\u001b[0m\u001b[0m\n\u001b[1;32m     87\u001b[0m         \u001b[0;32mif\u001b[0m \u001b[0mevent\u001b[0m \u001b[0;34m==\u001b[0m \u001b[0;34m'line'\u001b[0m\u001b[0;34m:\u001b[0m\u001b[0;34m\u001b[0m\u001b[0;34m\u001b[0m\u001b[0m\n\u001b[0;32m---> 88\u001b[0;31m             \u001b[0;32mreturn\u001b[0m \u001b[0mself\u001b[0m\u001b[0;34m.\u001b[0m\u001b[0mdispatch_line\u001b[0m\u001b[0;34m(\u001b[0m\u001b[0mframe\u001b[0m\u001b[0;34m)\u001b[0m\u001b[0;34m\u001b[0m\u001b[0;34m\u001b[0m\u001b[0m\n\u001b[0m\u001b[1;32m     89\u001b[0m         \u001b[0;32mif\u001b[0m \u001b[0mevent\u001b[0m \u001b[0;34m==\u001b[0m \u001b[0;34m'call'\u001b[0m\u001b[0;34m:\u001b[0m\u001b[0;34m\u001b[0m\u001b[0;34m\u001b[0m\u001b[0m\n\u001b[1;32m     90\u001b[0m             \u001b[0;32mreturn\u001b[0m \u001b[0mself\u001b[0m\u001b[0;34m.\u001b[0m\u001b[0mdispatch_call\u001b[0m\u001b[0;34m(\u001b[0m\u001b[0mframe\u001b[0m\u001b[0;34m,\u001b[0m \u001b[0marg\u001b[0m\u001b[0;34m)\u001b[0m\u001b[0;34m\u001b[0m\u001b[0;34m\u001b[0m\u001b[0m\n",
      "\u001b[0;32m~/anaconda3/envs/py38/lib/python3.8/bdb.py\u001b[0m in \u001b[0;36mdispatch_line\u001b[0;34m(self, frame)\u001b[0m\n\u001b[1;32m    111\u001b[0m         \u001b[0;32mif\u001b[0m \u001b[0mself\u001b[0m\u001b[0;34m.\u001b[0m\u001b[0mstop_here\u001b[0m\u001b[0;34m(\u001b[0m\u001b[0mframe\u001b[0m\u001b[0;34m)\u001b[0m \u001b[0;32mor\u001b[0m \u001b[0mself\u001b[0m\u001b[0;34m.\u001b[0m\u001b[0mbreak_here\u001b[0m\u001b[0;34m(\u001b[0m\u001b[0mframe\u001b[0m\u001b[0;34m)\u001b[0m\u001b[0;34m:\u001b[0m\u001b[0;34m\u001b[0m\u001b[0;34m\u001b[0m\u001b[0m\n\u001b[1;32m    112\u001b[0m             \u001b[0mself\u001b[0m\u001b[0;34m.\u001b[0m\u001b[0muser_line\u001b[0m\u001b[0;34m(\u001b[0m\u001b[0mframe\u001b[0m\u001b[0;34m)\u001b[0m\u001b[0;34m\u001b[0m\u001b[0;34m\u001b[0m\u001b[0m\n\u001b[0;32m--> 113\u001b[0;31m             \u001b[0;32mif\u001b[0m \u001b[0mself\u001b[0m\u001b[0;34m.\u001b[0m\u001b[0mquitting\u001b[0m\u001b[0;34m:\u001b[0m \u001b[0;32mraise\u001b[0m \u001b[0mBdbQuit\u001b[0m\u001b[0;34m\u001b[0m\u001b[0;34m\u001b[0m\u001b[0m\n\u001b[0m\u001b[1;32m    114\u001b[0m         \u001b[0;32mreturn\u001b[0m \u001b[0mself\u001b[0m\u001b[0;34m.\u001b[0m\u001b[0mtrace_dispatch\u001b[0m\u001b[0;34m\u001b[0m\u001b[0;34m\u001b[0m\u001b[0m\n\u001b[1;32m    115\u001b[0m \u001b[0;34m\u001b[0m\u001b[0m\n",
      "\u001b[0;31mBdbQuit\u001b[0m: "
     ]
    }
   ],
   "source": [
    "bubble_sort(nums)"
   ]
  },
  {
   "cell_type": "markdown",
   "metadata": {},
   "source": [
    "**ChatGPT**"
   ]
  },
  {
   "cell_type": "code",
   "execution_count": 10,
   "metadata": {
    "ExecuteTime": {
     "end_time": "2023-04-13T04:12:46.227721Z",
     "start_time": "2023-04-13T04:12:46.192018Z"
    }
   },
   "outputs": [],
   "source": [
    "def bubble_sort(nums):\n",
    "    for i in range(len(nums)):\n",
    "        for j in range(len(nums)):\n",
    "            if nums[j] > nums[j + 1]:\n",
    "                nums[j + 1], nums[j] = nums[j], nums[j + 1]\n",
    "                duck()\n",
    "    return nums"
   ]
  },
  {
   "cell_type": "code",
   "execution_count": 11,
   "metadata": {
    "ExecuteTime": {
     "end_time": "2023-04-13T04:16:54.342393Z",
     "start_time": "2023-04-13T04:13:16.727041Z"
    }
   },
   "outputs": [
    {
     "name": "stdout",
     "output_type": "stream",
     "text": [
      "chat: verbose=False callback_manager=<langchain.callbacks.base.CallbackManager object at 0x7fb3d01ab2b0> client=<class 'openai.api_resources.chat_completion.ChatCompletion'> model_name='gpt-3.5-turbo' model_kwargs={'temperature': 0.0, 'top_p': 1.0, 'frequency_penalty': 0.0, 'presence_penalty': 0.0, 'logit_bias': {2879: -20, 9817: -20}, 'stop': ['QUESTION', 'Section 3']} openai_api_key=None request_timeout=60 max_retries=6 streaming=True n=1 max_tokens=512\n",
      "--Return--\n",
      "> /Users/hmamin/anaconda3/envs/py38/lib/python3.8/site-packages/htools/meta.py(1966)wrapper()->None\n",
      "-> return new_func(*args, **kwargs)\n",
      ">>> n\n",
      "> <ipython-input-10-ea640e3b8b2d>(3)bubble_sort()\n",
      "-> for j in range(len(nums)):\n",
      ">>> nn\n",
      "*** NameError: name 'nn' is not defined\n",
      ">>> n\n",
      "> <ipython-input-10-ea640e3b8b2d>(4)bubble_sort()\n",
      "-> if nums[j] > nums[j + 1]:\n",
      ">>> n\n",
      "> <ipython-input-10-ea640e3b8b2d>(3)bubble_sort()\n",
      "-> for j in range(len(nums)):\n",
      ">>> n\n",
      "> <ipython-input-10-ea640e3b8b2d>(4)bubble_sort()\n",
      "-> if nums[j] > nums[j + 1]:\n",
      ">>> n\n",
      "> <ipython-input-10-ea640e3b8b2d>(3)bubble_sort()\n",
      "-> for j in range(len(nums)):\n",
      ">>> n\n",
      "> <ipython-input-10-ea640e3b8b2d>(4)bubble_sort()\n",
      "-> if nums[j] > nums[j + 1]:\n",
      ">>> n\n",
      "> <ipython-input-10-ea640e3b8b2d>(3)bubble_sort()\n",
      "-> for j in range(len(nums)):\n",
      ">>> i,j\n",
      "(0, 5)\n",
      ">>> n\n",
      "> <ipython-input-10-ea640e3b8b2d>(4)bubble_sort()\n",
      "-> if nums[j] > nums[j + 1]:\n",
      ">>> n\n",
      "> <ipython-input-10-ea640e3b8b2d>(5)bubble_sort()\n",
      "-> nums[j + 1], nums[j] = nums[j], nums[j + 1]\n",
      ">>> i,j\n",
      "(0, 6)\n",
      ">>> How can I prevent the index error that happens next?\n",
      "\u001b[32m[Duck] \u001b[0m\u001b[32m1\u001b[0m\u001b[32m.\u001b[0m\u001b[32m\n",
      "\u001b[0m\u001b[32m\n",
      "\u001b[0m\u001b[32mT\u001b[0m\u001b[32mh\u001b[0m\u001b[32me\u001b[0m\u001b[32m \u001b[0m\u001b[32mp\u001b[0m\u001b[32mr\u001b[0m\u001b[32mo\u001b[0m\u001b[32mb\u001b[0m\u001b[32ml\u001b[0m\u001b[32me\u001b[0m\u001b[32mm\u001b[0m\u001b[32m \u001b[0m\u001b[32mw\u001b[0m\u001b[32mi\u001b[0m\u001b[32mt\u001b[0m\u001b[32mh\u001b[0m\u001b[32m \u001b[0m\u001b[32mt\u001b[0m\u001b[32mh\u001b[0m\u001b[32me\u001b[0m\u001b[32m \u001b[0m\u001b[32mc\u001b[0m\u001b[32mu\u001b[0m\u001b[32mr\u001b[0m\u001b[32mr\u001b[0m\u001b[32me\u001b[0m\u001b[32mn\u001b[0m\u001b[32mt\u001b[0m\u001b[32m \u001b[0m\u001b[32mc\u001b[0m\u001b[32mo\u001b[0m\u001b[32md\u001b[0m\u001b[32me\u001b[0m\u001b[32m \u001b[0m\u001b[32ms\u001b[0m\u001b[32mn\u001b[0m\u001b[32mi\u001b[0m\u001b[32mp\u001b[0m\u001b[32mp\u001b[0m\u001b[32me\u001b[0m\u001b[32mt\u001b[0m\u001b[32m \u001b[0m\u001b[32mi\u001b[0m\u001b[32ms\u001b[0m\u001b[32m \u001b[0m\u001b[32mt\u001b[0m\u001b[32mh\u001b[0m\u001b[32ma\u001b[0m\u001b[32mt\u001b[0m\u001b[32m \u001b[0m\u001b[32mt\u001b[0m\u001b[32mh\u001b[0m\u001b[32me\u001b[0m\u001b[32m \u001b[0m\u001b[32mi\u001b[0m\u001b[32mn\u001b[0m\u001b[32mn\u001b[0m\u001b[32me\u001b[0m\u001b[32mr\u001b[0m\u001b[32m \u001b[0m\u001b[32ml\u001b[0m\u001b[32mo\u001b[0m\u001b[32mo\u001b[0m\u001b[32mp\u001b[0m\u001b[32m \u001b[0m\u001b[32mi\u001b[0m\u001b[32ms\u001b[0m\u001b[32m \u001b[0m\u001b[32mi\u001b[0m\u001b[32mt\u001b[0m\u001b[32me\u001b[0m\u001b[32mr\u001b[0m\u001b[32ma\u001b[0m\u001b[32mt\u001b[0m\u001b[32mi\u001b[0m\u001b[32mn\u001b[0m\u001b[32mg\u001b[0m\u001b[32m \u001b[0m\u001b[32mo\u001b[0m\u001b[32mv\u001b[0m\u001b[32me\u001b[0m\u001b[32mr\u001b[0m\u001b[32m \u001b[0m\u001b[32mt\u001b[0m\u001b[32mh\u001b[0m\u001b[32me\u001b[0m\u001b[32m \u001b[0m\u001b[32me\u001b[0m\u001b[32mn\u001b[0m\u001b[32mt\u001b[0m\u001b[32mi\u001b[0m\u001b[32mr\u001b[0m\u001b[32me\u001b[0m\u001b[32m \u001b[0m\u001b[32ml\u001b[0m\u001b[32mi\u001b[0m\u001b[32ms\u001b[0m\u001b[32mt\u001b[0m\u001b[32m,\u001b[0m\u001b[32m \u001b[0m\u001b[32mi\u001b[0m\u001b[32mn\u001b[0m\u001b[32mc\u001b[0m\u001b[32ml\u001b[0m\u001b[32mu\u001b[0m\u001b[32md\u001b[0m\u001b[32mi\u001b[0m\u001b[32mn\u001b[0m\u001b[32mg\u001b[0m\u001b[32m \u001b[0m\u001b[32mt\u001b[0m\u001b[32mh\u001b[0m\u001b[32me\u001b[0m\u001b[32m \u001b[0m\u001b[32ml\u001b[0m\u001b[32ma\u001b[0m\u001b[32ms\u001b[0m\u001b[32mt\u001b[0m\u001b[32m \u001b[0m\u001b[32me\u001b[0m\u001b[32ml\u001b[0m\u001b[32me\u001b[0m\u001b[32mm\u001b[0m\u001b[32me\u001b[0m\u001b[32mn\u001b[0m\u001b[32mt\u001b[0m\u001b[32m,\u001b[0m\u001b[32m \u001b[0m\u001b[32mw\u001b[0m\u001b[32mh\u001b[0m\u001b[32mi\u001b[0m\u001b[32mc\u001b[0m\u001b[32mh\u001b[0m\u001b[32m \u001b[0m\u001b[32mc\u001b[0m\u001b[32ma\u001b[0m\u001b[32mu\u001b[0m\u001b[32ms\u001b[0m\u001b[32me\u001b[0m\u001b[32ms\u001b[0m\u001b[32m \u001b[0m\u001b[32ma\u001b[0m\u001b[32mn\u001b[0m\u001b[32m \u001b[0m\u001b[32mi\u001b[0m\u001b[32mn\u001b[0m\u001b[32md\u001b[0m\u001b[32me\u001b[0m\u001b[32mx\u001b[0m\u001b[32m \u001b[0m\u001b[32me\u001b[0m\u001b[32mr\u001b[0m\u001b[32mr\u001b[0m\u001b[32mo\u001b[0m\u001b[32mr\u001b[0m\u001b[32m \u001b[0m\u001b[32mw\u001b[0m\u001b[32mh\u001b[0m\u001b[32me\u001b[0m\u001b[32mn\u001b[0m\u001b[32m \u001b[0m\u001b[32mt\u001b[0m\u001b[32mr\u001b[0m\u001b[32my\u001b[0m\u001b[32mi\u001b[0m\u001b[32mn\u001b[0m\u001b[32mg\u001b[0m\u001b[32m \u001b[0m\u001b[32mt\u001b[0m\u001b[32mo\u001b[0m\u001b[32m \u001b[0m\u001b[32ma\u001b[0m\u001b[32mc\u001b[0m\u001b[32mc\u001b[0m\u001b[32me\u001b[0m\u001b[32ms\u001b[0m\u001b[32ms\u001b[0m\u001b[32m \u001b[0m\u001b[32m`\u001b[0m\u001b[32mn\u001b[0m\u001b[32mu\u001b[0m\u001b[32mm\u001b[0m\u001b[32ms\u001b[0m\u001b[32m[\u001b[0m\u001b[32mj\u001b[0m\u001b[32m \u001b[0m\u001b[32m+\u001b[0m\u001b[32m \u001b[0m\u001b[32m1\u001b[0m\u001b[32m]\u001b[0m\u001b[32m`\u001b[0m\u001b[32m \u001b[0m\u001b[32mi\u001b[0m\u001b[32mn\u001b[0m\u001b[32m \u001b[0m\u001b[32mt\u001b[0m\u001b[32mh\u001b[0m\u001b[32me\u001b[0m\u001b[32m \u001b[0m\u001b[32ml\u001b[0m\u001b[32ma\u001b[0m\u001b[32ms\u001b[0m\u001b[32mt\u001b[0m\u001b[32m \u001b[0m\u001b[32mi\u001b[0m\u001b[32mt\u001b[0m\u001b[32me\u001b[0m\u001b[32mr\u001b[0m\u001b[32ma\u001b[0m\u001b[32mt\u001b[0m\u001b[32mi\u001b[0m\u001b[32mo\u001b[0m\u001b[32mn\u001b[0m\u001b[32m.\u001b[0m\u001b[32m \u001b[0m\u001b[32mT\u001b[0m\u001b[32mo\u001b[0m\u001b[32m \u001b[0m\u001b[32mf\u001b[0m\u001b[32mi\u001b[0m\u001b[32mx\u001b[0m\u001b[32m \u001b[0m\u001b[32mt\u001b[0m\u001b[32mh\u001b[0m\u001b[32mi\u001b[0m\u001b[32ms\u001b[0m\u001b[32m,\u001b[0m\u001b[32m \u001b[0m\u001b[32mw\u001b[0m\u001b[32me\u001b[0m\u001b[32m \u001b[0m\u001b[32mn\u001b[0m\u001b[32me\u001b[0m\u001b[32me\u001b[0m\u001b[32md\u001b[0m\u001b[32m \u001b[0m\u001b[32mt\u001b[0m\u001b[32mo\u001b[0m\u001b[32m \u001b[0m\u001b[32mc\u001b[0m\u001b[32mh\u001b[0m\u001b[32ma\u001b[0m\u001b[32mn\u001b[0m\u001b[32mg\u001b[0m\u001b[32me\u001b[0m\u001b[32m \u001b[0m\u001b[32mt\u001b[0m\u001b[32mh\u001b[0m\u001b[32me\u001b[0m\u001b[32m \u001b[0m\u001b[32mr\u001b[0m\u001b[32ma\u001b[0m\u001b[32mn\u001b[0m\u001b[32mg\u001b[0m\u001b[32me\u001b[0m\u001b[32m \u001b[0m\u001b[32mo\u001b[0m\u001b[32mf\u001b[0m\u001b[32m \u001b[0m\u001b[32mt\u001b[0m\u001b[32mh\u001b[0m\u001b[32me\u001b[0m\u001b[32m \u001b[0m\u001b[32mi\u001b[0m\u001b[32mn\u001b[0m\u001b[32mn\u001b[0m\u001b[32me\u001b[0m\u001b[32mr\u001b[0m\u001b[32m \u001b[0m\u001b[32ml\u001b[0m\u001b[32mo\u001b[0m\u001b[32mo\u001b[0m\u001b[32mp\u001b[0m\u001b[32m \u001b[0m\u001b[32mt\u001b[0m\u001b[32mo\u001b[0m\u001b[32m \u001b[0m\u001b[32me\u001b[0m\u001b[32mx\u001b[0m\u001b[32mc\u001b[0m\u001b[32ml\u001b[0m\u001b[32mu\u001b[0m\u001b[32md\u001b[0m\u001b[32me\u001b[0m\u001b[32m \u001b[0m\u001b[32mt\u001b[0m\u001b[32mh\u001b[0m\u001b[32me\u001b[0m\u001b[32m \u001b[0m\u001b[32ml\u001b[0m\u001b[32ma\u001b[0m\u001b[32ms\u001b[0m\u001b[32mt\u001b[0m\u001b[32m \u001b[0m\u001b[32me\u001b[0m\u001b[32ml\u001b[0m\u001b[32me\u001b[0m\u001b[32mm\u001b[0m\u001b[32me\u001b[0m\u001b[32mn\u001b[0m\u001b[32mt\u001b[0m\u001b[32m,\u001b[0m\u001b[32m \u001b[0m\u001b[32ms\u001b[0m\u001b[32mi\u001b[0m\u001b[32mn\u001b[0m\u001b[32mc\u001b[0m\u001b[32me\u001b[0m\u001b[32m \u001b[0m\u001b[32mi\u001b[0m\u001b[32mt\u001b[0m\u001b[32m \u001b[0m\u001b[32mh\u001b[0m\u001b[32ma\u001b[0m\u001b[32ms\u001b[0m\u001b[32m \u001b[0m\u001b[32ma\u001b[0m\u001b[32ml\u001b[0m\u001b[32mr\u001b[0m\u001b[32me\u001b[0m\u001b[32ma\u001b[0m\u001b[32md\u001b[0m\u001b[32my\u001b[0m\u001b[32m \u001b[0m\u001b[32mb\u001b[0m\u001b[32me\u001b[0m\u001b[32me\u001b[0m\u001b[32mn\u001b[0m\u001b[32m \u001b[0m\u001b[32ms\u001b[0m\u001b[32mo\u001b[0m\u001b[32mr\u001b[0m\u001b[32mt\u001b[0m\u001b[32me\u001b[0m\u001b[32md\u001b[0m\u001b[32m \u001b[0m\u001b[32mi\u001b[0m\u001b[32mn\u001b[0m\u001b[32m \u001b[0m\u001b[32mt\u001b[0m\u001b[32mh\u001b[0m\u001b[32me\u001b[0m\u001b[32m \u001b[0m\u001b[32mp\u001b[0m\u001b[32mr\u001b[0m\u001b[32me\u001b[0m\u001b[32mv\u001b[0m\u001b[32mi\u001b[0m\u001b[32mo\u001b[0m\u001b[32mu\u001b[0m\u001b[32ms\u001b[0m\u001b[32m \u001b[0m\u001b[32mi\u001b[0m\u001b[32mt\u001b[0m\u001b[32me\u001b[0m\u001b[32mr\u001b[0m\u001b[32ma\u001b[0m\u001b[32mt\u001b[0m\u001b[32mi\u001b[0m\u001b[32mo\u001b[0m\u001b[32mn\u001b[0m\u001b[32ms\u001b[0m\u001b[32m.\u001b[0m\u001b[32m\n",
      "\u001b[0m\u001b[32m\n",
      "\u001b[0m\u001b[32m2\u001b[0m\u001b[32m.\u001b[0m\u001b[32m\n",
      "\u001b[0m\u001b[32m`\u001b[0m\u001b[32m`\u001b[0m\u001b[32m`\u001b[0m\u001b[32mp\u001b[0m\u001b[32my\u001b[0m\u001b[32mt\u001b[0m\u001b[32mh\u001b[0m\u001b[32mo\u001b[0m\u001b[32mn\u001b[0m\u001b[32m\n",
      "\u001b[0m\u001b[32md\u001b[0m\u001b[32me\u001b[0m\u001b[32mf\u001b[0m\u001b[32m \u001b[0m\u001b[32mb\u001b[0m\u001b[32mu\u001b[0m\u001b[32mb\u001b[0m\u001b[32mb\u001b[0m\u001b[32ml\u001b[0m\u001b[32me\u001b[0m\u001b[32m_\u001b[0m\u001b[32ms\u001b[0m\u001b[32mo\u001b[0m\u001b[32mr\u001b[0m\u001b[32mt\u001b[0m\u001b[32m(\u001b[0m\u001b[32mn\u001b[0m\u001b[32mu\u001b[0m\u001b[32mm\u001b[0m\u001b[32ms\u001b[0m\u001b[32m)\u001b[0m\u001b[32m:\u001b[0m\u001b[32m\n",
      "\u001b[0m\u001b[32m \u001b[0m\u001b[32m \u001b[0m\u001b[32m \u001b[0m\u001b[32m \u001b[0m\u001b[32mf\u001b[0m\u001b[32mo\u001b[0m\u001b[32mr\u001b[0m\u001b[32m \u001b[0m\u001b[32mi\u001b[0m\u001b[32m \u001b[0m\u001b[32mi\u001b[0m\u001b[32mn\u001b[0m\u001b[32m \u001b[0m\u001b[32mr\u001b[0m\u001b[32ma\u001b[0m\u001b[32mn\u001b[0m\u001b[32mg\u001b[0m\u001b[32me\u001b[0m\u001b[32m(\u001b[0m\u001b[32ml\u001b[0m\u001b[32me\u001b[0m\u001b[32mn\u001b[0m\u001b[32m(\u001b[0m\u001b[32mn\u001b[0m\u001b[32mu\u001b[0m\u001b[32mm\u001b[0m\u001b[32ms\u001b[0m\u001b[32m)\u001b[0m\u001b[32m)\u001b[0m\u001b[32m:\u001b[0m\u001b[32m\n",
      "\u001b[0m\u001b[32m \u001b[0m\u001b[32m \u001b[0m\u001b[32m \u001b[0m\u001b[32m \u001b[0m\u001b[32m \u001b[0m\u001b[32m \u001b[0m\u001b[32m \u001b[0m\u001b[32m \u001b[0m\u001b[32mf\u001b[0m\u001b[32mo\u001b[0m\u001b[32mr\u001b[0m\u001b[32m \u001b[0m\u001b[32mj\u001b[0m\u001b[32m \u001b[0m\u001b[32mi\u001b[0m\u001b[32mn\u001b[0m\u001b[32m \u001b[0m\u001b[32mr\u001b[0m\u001b[32ma\u001b[0m\u001b[32mn\u001b[0m\u001b[32mg\u001b[0m\u001b[32me\u001b[0m\u001b[32m(\u001b[0m\u001b[32ml\u001b[0m\u001b[32me\u001b[0m\u001b[32mn\u001b[0m\u001b[32m(\u001b[0m\u001b[32mn\u001b[0m\u001b[32mu\u001b[0m\u001b[32mm\u001b[0m\u001b[32ms\u001b[0m\u001b[32m)\u001b[0m\u001b[32m \u001b[0m\u001b[32m-\u001b[0m\u001b[32m \u001b[0m\u001b[32mi\u001b[0m\u001b[32m \u001b[0m\u001b[32m-\u001b[0m\u001b[32m \u001b[0m\u001b[32m1\u001b[0m\u001b[32m)\u001b[0m\u001b[32m:\u001b[0m\u001b[32m\n",
      "\u001b[0m\u001b[32m \u001b[0m\u001b[32m \u001b[0m\u001b[32m \u001b[0m\u001b[32m \u001b[0m\u001b[32m \u001b[0m\u001b[32m \u001b[0m\u001b[32m \u001b[0m\u001b[32m \u001b[0m\u001b[32m \u001b[0m\u001b[32m \u001b[0m\u001b[32m \u001b[0m\u001b[32m \u001b[0m\u001b[32mi\u001b[0m\u001b[32mf\u001b[0m\u001b[32m \u001b[0m\u001b[32mn\u001b[0m\u001b[32mu\u001b[0m\u001b[32mm\u001b[0m\u001b[32ms\u001b[0m\u001b[32m[\u001b[0m\u001b[32mj\u001b[0m\u001b[32m]\u001b[0m\u001b[32m \u001b[0m\u001b[32m>\u001b[0m\u001b[32m \u001b[0m\u001b[32mn\u001b[0m\u001b[32mu\u001b[0m\u001b[32mm\u001b[0m\u001b[32ms\u001b[0m\u001b[32m[\u001b[0m\u001b[32mj\u001b[0m\u001b[32m \u001b[0m\u001b[32m+\u001b[0m\u001b[32m \u001b[0m\u001b[32m1\u001b[0m\u001b[32m]\u001b[0m\u001b[32m:\u001b[0m\u001b[32m\n",
      "\u001b[0m\u001b[32m \u001b[0m\u001b[32m \u001b[0m\u001b[32m \u001b[0m\u001b[32m \u001b[0m\u001b[32m \u001b[0m\u001b[32m \u001b[0m\u001b[32m \u001b[0m\u001b[32m \u001b[0m\u001b[32m \u001b[0m\u001b[32m \u001b[0m\u001b[32m \u001b[0m\u001b[32m \u001b[0m\u001b[32m \u001b[0m\u001b[32m \u001b[0m\u001b[32m \u001b[0m\u001b[32m \u001b[0m\u001b[32mn\u001b[0m\u001b[32mu\u001b[0m\u001b[32mm\u001b[0m\u001b[32ms\u001b[0m\u001b[32m[\u001b[0m\u001b[32mj\u001b[0m\u001b[32m \u001b[0m\u001b[32m+\u001b[0m\u001b[32m \u001b[0m\u001b[32m1\u001b[0m\u001b[32m]\u001b[0m\u001b[32m,\u001b[0m\u001b[32m \u001b[0m\u001b[32mn\u001b[0m\u001b[32mu\u001b[0m\u001b[32mm\u001b[0m\u001b[32ms\u001b[0m\u001b[32m[\u001b[0m\u001b[32mj\u001b[0m\u001b[32m]\u001b[0m\u001b[32m \u001b[0m\u001b[32m=\u001b[0m\u001b[32m \u001b[0m\u001b[32mn\u001b[0m\u001b[32mu\u001b[0m\u001b[32mm\u001b[0m\u001b[32ms\u001b[0m\u001b[32m[\u001b[0m\u001b[32mj\u001b[0m\u001b[32m]\u001b[0m\u001b[32m,\u001b[0m\u001b[32m \u001b[0m\u001b[32mn\u001b[0m\u001b[32mu\u001b[0m\u001b[32mm\u001b[0m\u001b[32ms\u001b[0m\u001b[32m[\u001b[0m\u001b[32mj\u001b[0m\u001b[32m \u001b[0m\u001b[32m+\u001b[0m\u001b[32m \u001b[0m\u001b[32m1\u001b[0m\u001b[32m]\u001b[0m\u001b[32m\n",
      "\u001b[0m\u001b[32m \u001b[0m\u001b[32m \u001b[0m\u001b[32m \u001b[0m\u001b[32m \u001b[0m\u001b[32mr\u001b[0m\u001b[32me\u001b[0m\u001b[32mt\u001b[0m\u001b[32mu\u001b[0m\u001b[32mr\u001b[0m\u001b[32mn\u001b[0m\u001b[32m \u001b[0m\u001b[32mn\u001b[0m\u001b[32mu\u001b[0m\u001b[32mm\u001b[0m\u001b[32ms\u001b[0m\u001b[32m\n",
      "\u001b[0m\u001b[32m`\u001b[0m\u001b[32m`\u001b[0m\u001b[32m`\u001b[0m>>> Can you add type annotations to your solution?\n",
      "\u001b[32m[Duck] \u001b[0m\u001b[32mC\u001b[0m\u001b[32me\u001b[0m\u001b[32mr\u001b[0m\u001b[32mt\u001b[0m\u001b[32ma\u001b[0m\u001b[32mi\u001b[0m\u001b[32mn\u001b[0m\u001b[32ml\u001b[0m\u001b[32my\u001b[0m\u001b[32m!\u001b[0m\u001b[32m \u001b[0m\u001b[32mH\u001b[0m\u001b[32me\u001b[0m\u001b[32mr\u001b[0m\u001b[32me\u001b[0m\u001b[32m'\u001b[0m\u001b[32ms\u001b[0m\u001b[32m \u001b[0m\u001b[32mt\u001b[0m\u001b[32mh\u001b[0m\u001b[32me\u001b[0m\u001b[32m \u001b[0m\u001b[32mc\u001b[0m\u001b[32mo\u001b[0m\u001b[32mr\u001b[0m\u001b[32mr\u001b[0m\u001b[32me\u001b[0m\u001b[32mc\u001b[0m\u001b[32mt\u001b[0m\u001b[32me\u001b[0m\u001b[32md\u001b[0m\u001b[32m \u001b[0m\u001b[32mc\u001b[0m\u001b[32mo\u001b[0m\u001b[32md\u001b[0m\u001b[32me\u001b[0m\u001b[32m \u001b[0m\u001b[32ms\u001b[0m\u001b[32mn\u001b[0m\u001b[32mi\u001b[0m\u001b[32mp\u001b[0m\u001b[32mp\u001b[0m\u001b[32me\u001b[0m\u001b[32mt\u001b[0m\u001b[32m \u001b[0m\u001b[32mw\u001b[0m\u001b[32mi\u001b[0m\u001b[32mt\u001b[0m\u001b[32mh\u001b[0m\u001b[32m \u001b[0m\u001b[32mt\u001b[0m\u001b[32my\u001b[0m\u001b[32mp\u001b[0m\u001b[32me\u001b[0m\u001b[32m \u001b[0m\u001b[32ma\u001b[0m\u001b[32mn\u001b[0m\u001b[32mn\u001b[0m\u001b[32mo\u001b[0m\u001b[32mt\u001b[0m\u001b[32ma\u001b[0m\u001b[32mt\u001b[0m\u001b[32mi\u001b[0m\u001b[32mo\u001b[0m\u001b[32mn\u001b[0m\u001b[32ms\u001b[0m\u001b[32m:\u001b[0m\u001b[32m\n",
      "\u001b[0m\u001b[32m\n",
      "\u001b[0m\u001b[32m`\u001b[0m\u001b[32m`\u001b[0m\u001b[32m`\u001b[0m\u001b[32mp\u001b[0m\u001b[32my\u001b[0m\u001b[32mt\u001b[0m\u001b[32mh\u001b[0m\u001b[32mo\u001b[0m\u001b[32mn\u001b[0m\u001b[32m\n",
      "\u001b[0m\u001b[32mf\u001b[0m\u001b[32mr\u001b[0m\u001b[32mo\u001b[0m\u001b[32mm\u001b[0m\u001b[32m \u001b[0m\u001b[32mt\u001b[0m\u001b[32my\u001b[0m\u001b[32mp\u001b[0m\u001b[32mi\u001b[0m\u001b[32mn\u001b[0m\u001b[32mg\u001b[0m\u001b[32m \u001b[0m\u001b[32mi\u001b[0m\u001b[32mm\u001b[0m\u001b[32mp\u001b[0m\u001b[32mo\u001b[0m\u001b[32mr\u001b[0m\u001b[32mt\u001b[0m\u001b[32m \u001b[0m\u001b[32mL\u001b[0m\u001b[32mi\u001b[0m\u001b[32ms\u001b[0m\u001b[32mt\u001b[0m\u001b[32m\n",
      "\u001b[0m\u001b[32m\n",
      "\u001b[0m\u001b[32md\u001b[0m\u001b[32me\u001b[0m\u001b[32mf\u001b[0m\u001b[32m \u001b[0m\u001b[32mb\u001b[0m\u001b[32mu\u001b[0m\u001b[32mb\u001b[0m\u001b[32mb\u001b[0m\u001b[32ml\u001b[0m\u001b[32me\u001b[0m\u001b[32m_\u001b[0m\u001b[32ms\u001b[0m\u001b[32mo\u001b[0m\u001b[32mr\u001b[0m\u001b[32mt\u001b[0m\u001b[32m(\u001b[0m\u001b[32mn\u001b[0m\u001b[32mu\u001b[0m\u001b[32mm\u001b[0m\u001b[32ms\u001b[0m\u001b[32m:\u001b[0m\u001b[32m \u001b[0m\u001b[32mL\u001b[0m\u001b[32mi\u001b[0m\u001b[32ms\u001b[0m\u001b[32mt\u001b[0m\u001b[32m[\u001b[0m\u001b[32mi\u001b[0m\u001b[32mn\u001b[0m\u001b[32mt\u001b[0m\u001b[32m]\u001b[0m\u001b[32m)\u001b[0m\u001b[32m \u001b[0m\u001b[32m-\u001b[0m\u001b[32m>\u001b[0m\u001b[32m \u001b[0m\u001b[32mL\u001b[0m\u001b[32mi\u001b[0m\u001b[32ms\u001b[0m\u001b[32mt\u001b[0m\u001b[32m[\u001b[0m\u001b[32mi\u001b[0m\u001b[32mn\u001b[0m\u001b[32mt\u001b[0m\u001b[32m]\u001b[0m\u001b[32m:\u001b[0m\u001b[32m\n",
      "\u001b[0m\u001b[32m \u001b[0m\u001b[32m \u001b[0m\u001b[32m \u001b[0m\u001b[32m \u001b[0m\u001b[32mf\u001b[0m\u001b[32mo\u001b[0m\u001b[32mr\u001b[0m\u001b[32m \u001b[0m\u001b[32mi\u001b[0m\u001b[32m \u001b[0m\u001b[32mi\u001b[0m\u001b[32mn\u001b[0m\u001b[32m \u001b[0m\u001b[32mr\u001b[0m\u001b[32ma\u001b[0m\u001b[32mn\u001b[0m\u001b[32mg\u001b[0m\u001b[32me\u001b[0m\u001b[32m(\u001b[0m\u001b[32ml\u001b[0m\u001b[32me\u001b[0m\u001b[32mn\u001b[0m\u001b[32m(\u001b[0m\u001b[32mn\u001b[0m\u001b[32mu\u001b[0m\u001b[32mm\u001b[0m\u001b[32ms\u001b[0m\u001b[32m)\u001b[0m\u001b[32m)\u001b[0m\u001b[32m:\u001b[0m\u001b[32m\n",
      "\u001b[0m\u001b[32m \u001b[0m\u001b[32m \u001b[0m\u001b[32m \u001b[0m\u001b[32m \u001b[0m\u001b[32m \u001b[0m\u001b[32m \u001b[0m\u001b[32m \u001b[0m\u001b[32m \u001b[0m\u001b[32mf\u001b[0m\u001b[32mo\u001b[0m\u001b[32mr\u001b[0m\u001b[32m \u001b[0m\u001b[32mj\u001b[0m\u001b[32m \u001b[0m\u001b[32mi\u001b[0m\u001b[32mn\u001b[0m\u001b[32m \u001b[0m\u001b[32mr\u001b[0m\u001b[32ma\u001b[0m\u001b[32mn\u001b[0m\u001b[32mg\u001b[0m\u001b[32me\u001b[0m\u001b[32m(\u001b[0m\u001b[32ml\u001b[0m\u001b[32me\u001b[0m\u001b[32mn\u001b[0m\u001b[32m(\u001b[0m\u001b[32mn\u001b[0m\u001b[32mu\u001b[0m\u001b[32mm\u001b[0m\u001b[32ms\u001b[0m\u001b[32m)\u001b[0m\u001b[32m \u001b[0m\u001b[32m-\u001b[0m\u001b[32m \u001b[0m\u001b[32mi\u001b[0m\u001b[32m \u001b[0m\u001b[32m-\u001b[0m\u001b[32m \u001b[0m\u001b[32m1\u001b[0m\u001b[32m)\u001b[0m\u001b[32m:\u001b[0m\u001b[32m\n",
      "\u001b[0m\u001b[32m \u001b[0m\u001b[32m \u001b[0m\u001b[32m \u001b[0m\u001b[32m \u001b[0m\u001b[32m \u001b[0m\u001b[32m \u001b[0m\u001b[32m \u001b[0m\u001b[32m \u001b[0m\u001b[32m \u001b[0m\u001b[32m \u001b[0m\u001b[32m \u001b[0m\u001b[32m \u001b[0m\u001b[32mi\u001b[0m\u001b[32mf\u001b[0m\u001b[32m \u001b[0m\u001b[32mn\u001b[0m\u001b[32mu\u001b[0m\u001b[32mm\u001b[0m\u001b[32ms\u001b[0m\u001b[32m[\u001b[0m\u001b[32mj\u001b[0m\u001b[32m]\u001b[0m\u001b[32m \u001b[0m\u001b[32m>\u001b[0m\u001b[32m \u001b[0m\u001b[32mn\u001b[0m\u001b[32mu\u001b[0m\u001b[32mm\u001b[0m\u001b[32ms\u001b[0m\u001b[32m[\u001b[0m\u001b[32mj\u001b[0m\u001b[32m \u001b[0m\u001b[32m+\u001b[0m\u001b[32m \u001b[0m\u001b[32m1\u001b[0m\u001b[32m]\u001b[0m\u001b[32m:\u001b[0m\u001b[32m\n",
      "\u001b[0m\u001b[32m \u001b[0m\u001b[32m \u001b[0m\u001b[32m \u001b[0m\u001b[32m \u001b[0m\u001b[32m \u001b[0m\u001b[32m \u001b[0m\u001b[32m \u001b[0m\u001b[32m \u001b[0m\u001b[32m \u001b[0m\u001b[32m \u001b[0m\u001b[32m \u001b[0m\u001b[32m \u001b[0m\u001b[32m \u001b[0m\u001b[32m \u001b[0m\u001b[32m \u001b[0m\u001b[32m \u001b[0m\u001b[32mn\u001b[0m\u001b[32mu\u001b[0m\u001b[32mm\u001b[0m\u001b[32ms\u001b[0m\u001b[32m[\u001b[0m\u001b[32mj\u001b[0m\u001b[32m \u001b[0m\u001b[32m+\u001b[0m\u001b[32m \u001b[0m\u001b[32m1\u001b[0m\u001b[32m]\u001b[0m\u001b[32m,\u001b[0m\u001b[32m \u001b[0m\u001b[32mn\u001b[0m\u001b[32mu\u001b[0m\u001b[32mm\u001b[0m\u001b[32ms\u001b[0m\u001b[32m[\u001b[0m\u001b[32mj\u001b[0m\u001b[32m]\u001b[0m\u001b[32m \u001b[0m\u001b[32m=\u001b[0m\u001b[32m \u001b[0m\u001b[32mn\u001b[0m\u001b[32mu\u001b[0m\u001b[32mm\u001b[0m\u001b[32ms\u001b[0m\u001b[32m[\u001b[0m\u001b[32mj\u001b[0m\u001b[32m]\u001b[0m\u001b[32m,\u001b[0m\u001b[32m \u001b[0m\u001b[32mn\u001b[0m\u001b[32mu\u001b[0m\u001b[32mm\u001b[0m\u001b[32ms\u001b[0m\u001b[32m[\u001b[0m\u001b[32mj\u001b[0m\u001b[32m \u001b[0m\u001b[32m+\u001b[0m\u001b[32m \u001b[0m\u001b[32m1\u001b[0m\u001b[32m]\u001b[0m\u001b[32m\n",
      "\u001b[0m\u001b[32m \u001b[0m\u001b[32m \u001b[0m\u001b[32m \u001b[0m\u001b[32m \u001b[0m\u001b[32mr\u001b[0m\u001b[32me\u001b[0m\u001b[32mt\u001b[0m\u001b[32mu\u001b[0m\u001b[32mr\u001b[0m\u001b[32mn\u001b[0m\u001b[32m \u001b[0m\u001b[32mn\u001b[0m\u001b[32mu\u001b[0m\u001b[32mm\u001b[0m\u001b[32ms\u001b[0m\u001b[32m\n",
      "\u001b[0m\u001b[32m`\u001b[0m\u001b[32m`\u001b[0m\u001b[32m`\u001b[0m\u001b[32m \u001b[0m\u001b[32m\n",
      "\u001b[0m\u001b[32m\n",
      "\u001b[0m\u001b[32mI\u001b[0m\u001b[32mn\u001b[0m\u001b[32m \u001b[0m\u001b[32mt\u001b[0m\u001b[32mh\u001b[0m\u001b[32mi\u001b[0m\u001b[32ms\u001b[0m\u001b[32m \u001b[0m\u001b[32mv\u001b[0m\u001b[32me\u001b[0m\u001b[32mr\u001b[0m\u001b[32ms\u001b[0m\u001b[32mi\u001b[0m\u001b[32mo\u001b[0m\u001b[32mn\u001b[0m\u001b[32m,\u001b[0m\u001b[32m \u001b[0m\u001b[32mw\u001b[0m\u001b[32me\u001b[0m\u001b[32m'\u001b[0m\u001b[32mv\u001b[0m\u001b[32me\u001b[0m\u001b[32m \u001b[0m\u001b[32ma\u001b[0m\u001b[32md\u001b[0m\u001b[32md\u001b[0m\u001b[32me\u001b[0m\u001b[32md\u001b[0m\u001b[32m \u001b[0m\u001b[32mt\u001b[0m\u001b[32my\u001b[0m\u001b[32mp\u001b[0m\u001b[32me\u001b[0m\u001b[32m \u001b[0m\u001b[32ma\u001b[0m\u001b[32mn\u001b[0m\u001b[32mn\u001b[0m\u001b[32mo\u001b[0m\u001b[32mt\u001b[0m\u001b[32ma\u001b[0m\u001b[32mt\u001b[0m\u001b[32mi\u001b[0m\u001b[32mo\u001b[0m\u001b[32mn\u001b[0m\u001b[32ms\u001b[0m\u001b[32m \u001b[0m\u001b[32mt\u001b[0m\u001b[32mo\u001b[0m\u001b[32m \u001b[0m\u001b[32mt\u001b[0m\u001b[32mh\u001b[0m\u001b[32me\u001b[0m\u001b[32m \u001b[0m\u001b[32mf\u001b[0m\u001b[32mu\u001b[0m\u001b[32mn\u001b[0m\u001b[32mc\u001b[0m\u001b[32mt\u001b[0m\u001b[32mi\u001b[0m\u001b[32mo\u001b[0m\u001b[32mn\u001b[0m\u001b[32m \u001b[0m\u001b[32md\u001b[0m\u001b[32me\u001b[0m\u001b[32mf\u001b[0m\u001b[32mi\u001b[0m\u001b[32mn\u001b[0m\u001b[32mi\u001b[0m\u001b[32mt\u001b[0m\u001b[32mi\u001b[0m\u001b[32mo\u001b[0m\u001b[32mn\u001b[0m\u001b[32m \u001b[0m\u001b[32mt\u001b[0m\u001b[32mo\u001b[0m\u001b[32m \u001b[0m\u001b[32mi\u001b[0m\u001b[32mn\u001b[0m\u001b[32md\u001b[0m\u001b[32mi\u001b[0m\u001b[32mc\u001b[0m\u001b[32ma\u001b[0m\u001b[32mt\u001b[0m\u001b[32me\u001b[0m\u001b[32m \u001b[0m\u001b[32mt\u001b[0m\u001b[32mh\u001b[0m\u001b[32ma\u001b[0m\u001b[32mt\u001b[0m\u001b[32m \u001b[0m\u001b[32mt\u001b[0m\u001b[32mh\u001b[0m\u001b[32me\u001b[0m\u001b[32m \u001b[0m\u001b[32m`\u001b[0m\u001b[32mn\u001b[0m\u001b[32mu\u001b[0m\u001b[32mm\u001b[0m\u001b[32ms\u001b[0m\u001b[32m`\u001b[0m\u001b[32m \u001b[0m\u001b[32mp\u001b[0m\u001b[32ma\u001b[0m\u001b[32mr\u001b[0m\u001b[32ma\u001b[0m\u001b[32mm\u001b[0m\u001b[32me\u001b[0m\u001b[32mt\u001b[0m\u001b[32me\u001b[0m\u001b[32mr\u001b[0m\u001b[32m \u001b[0m\u001b[32mi\u001b[0m\u001b[32ms\u001b[0m\u001b[32m \u001b[0m\u001b[32ma\u001b[0m\u001b[32m \u001b[0m\u001b[32ml\u001b[0m\u001b[32mi\u001b[0m\u001b[32ms\u001b[0m\u001b[32mt\u001b[0m\u001b[32m \u001b[0m\u001b[32mo\u001b[0m\u001b[32mf\u001b[0m\u001b[32m \u001b[0m\u001b[32mi\u001b[0m\u001b[32mn\u001b[0m\u001b[32mt\u001b[0m\u001b[32me\u001b[0m\u001b[32mg\u001b[0m\u001b[32me\u001b[0m\u001b[32mr\u001b[0m\u001b[32ms\u001b[0m\u001b[32m,\u001b[0m\u001b[32m \u001b[0m\u001b[32ma\u001b[0m\u001b[32mn\u001b[0m\u001b[32md\u001b[0m\u001b[32m \u001b[0m\u001b[32mt\u001b[0m\u001b[32mh\u001b[0m\u001b[32ma\u001b[0m\u001b[32mt\u001b[0m\u001b[32m \u001b[0m\u001b[32mt\u001b[0m\u001b[32mh\u001b[0m\u001b[32me\u001b[0m\u001b[32m \u001b[0m\u001b[32mf\u001b[0m\u001b[32mu\u001b[0m\u001b[32mn\u001b[0m\u001b[32mc\u001b[0m\u001b[32mt\u001b[0m\u001b[32mi\u001b[0m\u001b[32mo\u001b[0m\u001b[32mn\u001b[0m\u001b[32m \u001b[0m\u001b[32mr\u001b[0m\u001b[32me\u001b[0m\u001b[32mt\u001b[0m\u001b[32mu\u001b[0m\u001b[32mr\u001b[0m\u001b[32mn\u001b[0m\u001b[32ms\u001b[0m\u001b[32m \u001b[0m\u001b[32ma\u001b[0m\u001b[32m \u001b[0m\u001b[32ml\u001b[0m\u001b[32mi\u001b[0m\u001b[32ms\u001b[0m\u001b[32mt\u001b[0m\u001b[32m \u001b[0m\u001b[32mo\u001b[0m\u001b[32mf\u001b[0m\u001b[32m \u001b[0m\u001b[32mi\u001b[0m\u001b[32mn\u001b[0m\u001b[32mt\u001b[0m\u001b[32me\u001b[0m\u001b[32mg\u001b[0m\u001b[32me\u001b[0m\u001b[32mr\u001b[0m\u001b[32ms\u001b[0m\u001b[32m.\u001b[0m\u001b[32m \u001b[0m\u001b[32mT\u001b[0m\u001b[32mh\u001b[0m\u001b[32mi\u001b[0m\u001b[32ms\u001b[0m\u001b[32m \u001b[0m\u001b[32mc\u001b[0m\u001b[32ma\u001b[0m\u001b[32mn\u001b[0m\u001b[32m \u001b[0m\u001b[32mh\u001b[0m\u001b[32me\u001b[0m\u001b[32ml\u001b[0m\u001b[32mp\u001b[0m\u001b[32m \u001b[0m\u001b[32mc\u001b[0m\u001b[32ma\u001b[0m\u001b[32mt\u001b[0m\u001b[32mc\u001b[0m\u001b[32mh\u001b[0m\u001b[32m \u001b[0m\u001b[32mt\u001b[0m\u001b[32my\u001b[0m\u001b[32mp\u001b[0m\u001b[32me\u001b[0m\u001b[32m-\u001b[0m\u001b[32mr\u001b[0m\u001b[32me\u001b[0m\u001b[32ml\u001b[0m\u001b[32ma\u001b[0m\u001b[32mt\u001b[0m\u001b[32me\u001b[0m\u001b[32md\u001b[0m\u001b[32m \u001b[0m\u001b[32me\u001b[0m\u001b[32mr\u001b[0m\u001b[32mr\u001b[0m\u001b[32mo\u001b[0m\u001b[32mr\u001b[0m\u001b[32ms\u001b[0m\u001b[32m \u001b[0m\u001b[32me\u001b[0m\u001b[32ma\u001b[0m\u001b[32mr\u001b[0m\u001b[32ml\u001b[0m\u001b[32mi\u001b[0m\u001b[32me\u001b[0m\u001b[32mr\u001b[0m\u001b[32m \u001b[0m\u001b[32mi\u001b[0m\u001b[32mn\u001b[0m\u001b[32m \u001b[0m\u001b[32mt\u001b[0m\u001b[32mh\u001b[0m\u001b[32me\u001b[0m\u001b[32m \u001b[0m\u001b[32md\u001b[0m\u001b[32me\u001b[0m\u001b[32mv\u001b[0m\u001b[32me\u001b[0m\u001b[32ml\u001b[0m\u001b[32mo\u001b[0m\u001b[32mp\u001b[0m\u001b[32mm\u001b[0m\u001b[32me\u001b[0m\u001b[32mn\u001b[0m\u001b[32mt\u001b[0m\u001b[32m \u001b[0m\u001b[32mp\u001b[0m\u001b[32mr\u001b[0m\u001b[32mo\u001b[0m\u001b[32mc\u001b[0m\u001b[32me\u001b[0m\u001b[32ms\u001b[0m\u001b[32ms\u001b[0m\u001b[32m,\u001b[0m\u001b[32m \u001b[0m\u001b[32ma\u001b[0m\u001b[32mn\u001b[0m\u001b[32md\u001b[0m\u001b[32m \u001b[0m\u001b[32ma\u001b[0m\u001b[32ml\u001b[0m\u001b[32ms\u001b[0m\u001b[32mo\u001b[0m\u001b[32m \u001b[0m\u001b[32mm\u001b[0m\u001b[32ma\u001b[0m\u001b[32mk\u001b[0m\u001b[32me\u001b[0m\u001b[32m \u001b[0m\u001b[32mt\u001b[0m\u001b[32mh\u001b[0m\u001b[32me\u001b[0m\u001b[32m \u001b[0m\u001b[32mc\u001b[0m\u001b[32mo\u001b[0m\u001b[32md\u001b[0m\u001b[32me\u001b[0m\u001b[32m \u001b[0m\u001b[32mm\u001b[0m\u001b[32mo\u001b[0m\u001b[32mr\u001b[0m\u001b[32me\u001b[0m\u001b[32m \u001b[0m\u001b[32mr\u001b[0m\u001b[32me\u001b[0m\u001b[32ma\u001b[0m\u001b[32md\u001b[0m\u001b[32ma\u001b[0m\u001b[32mb\u001b[0m\u001b[32ml\u001b[0m\u001b[32me\u001b[0m\u001b[32m \u001b[0m\u001b[32ma\u001b[0m\u001b[32mn\u001b[0m\u001b[32md\u001b[0m\u001b[32m \u001b[0m\u001b[32ms\u001b[0m\u001b[32me\u001b[0m\u001b[32ml\u001b[0m\u001b[32mf\u001b[0m\u001b[32m-\u001b[0m\u001b[32md\u001b[0m\u001b[32mo\u001b[0m\u001b[32mc\u001b[0m\u001b[32mu\u001b[0m\u001b[32mm\u001b[0m\u001b[32me\u001b[0m\u001b[32mn\u001b[0m\u001b[32mt\u001b[0m\u001b[32mi\u001b[0m\u001b[32mn\u001b[0m\u001b[32mg\u001b[0m\u001b[32m.\u001b[0m>>> q\n"
     ]
    },
    {
     "ename": "BdbQuit",
     "evalue": "",
     "output_type": "error",
     "traceback": [
      "\u001b[0;31m---------------------------------------------------------------------------\u001b[0m",
      "\u001b[0;31mBdbQuit\u001b[0m                                   Traceback (most recent call last)",
      "\u001b[0;32m<ipython-input-11-9bb1c33833ca>\u001b[0m in \u001b[0;36m<module>\u001b[0;34m\u001b[0m\n\u001b[0;32m----> 1\u001b[0;31m \u001b[0mbubble_sort\u001b[0m\u001b[0;34m(\u001b[0m\u001b[0mnums\u001b[0m\u001b[0;34m)\u001b[0m\u001b[0;34m\u001b[0m\u001b[0;34m\u001b[0m\u001b[0m\n\u001b[0m",
      "\u001b[0;32m<ipython-input-10-ea640e3b8b2d>\u001b[0m in \u001b[0;36mbubble_sort\u001b[0;34m(nums)\u001b[0m\n\u001b[1;32m      3\u001b[0m         \u001b[0;32mfor\u001b[0m \u001b[0mj\u001b[0m \u001b[0;32min\u001b[0m \u001b[0mrange\u001b[0m\u001b[0;34m(\u001b[0m\u001b[0mlen\u001b[0m\u001b[0;34m(\u001b[0m\u001b[0mnums\u001b[0m\u001b[0;34m)\u001b[0m\u001b[0;34m)\u001b[0m\u001b[0;34m:\u001b[0m\u001b[0;34m\u001b[0m\u001b[0;34m\u001b[0m\u001b[0m\n\u001b[1;32m      4\u001b[0m             \u001b[0;32mif\u001b[0m \u001b[0mnums\u001b[0m\u001b[0;34m[\u001b[0m\u001b[0mj\u001b[0m\u001b[0;34m]\u001b[0m \u001b[0;34m>\u001b[0m \u001b[0mnums\u001b[0m\u001b[0;34m[\u001b[0m\u001b[0mj\u001b[0m \u001b[0;34m+\u001b[0m \u001b[0;36m1\u001b[0m\u001b[0;34m]\u001b[0m\u001b[0;34m:\u001b[0m\u001b[0;34m\u001b[0m\u001b[0;34m\u001b[0m\u001b[0m\n\u001b[0;32m----> 5\u001b[0;31m                 \u001b[0mnums\u001b[0m\u001b[0;34m[\u001b[0m\u001b[0mj\u001b[0m \u001b[0;34m+\u001b[0m \u001b[0;36m1\u001b[0m\u001b[0;34m]\u001b[0m\u001b[0;34m,\u001b[0m \u001b[0mnums\u001b[0m\u001b[0;34m[\u001b[0m\u001b[0mj\u001b[0m\u001b[0;34m]\u001b[0m \u001b[0;34m=\u001b[0m \u001b[0mnums\u001b[0m\u001b[0;34m[\u001b[0m\u001b[0mj\u001b[0m\u001b[0;34m]\u001b[0m\u001b[0;34m,\u001b[0m \u001b[0mnums\u001b[0m\u001b[0;34m[\u001b[0m\u001b[0mj\u001b[0m \u001b[0;34m+\u001b[0m \u001b[0;36m1\u001b[0m\u001b[0;34m]\u001b[0m\u001b[0;34m\u001b[0m\u001b[0;34m\u001b[0m\u001b[0m\n\u001b[0m\u001b[1;32m      6\u001b[0m                 \u001b[0mduck\u001b[0m\u001b[0;34m(\u001b[0m\u001b[0;34m)\u001b[0m\u001b[0;34m\u001b[0m\u001b[0;34m\u001b[0m\u001b[0m\n\u001b[1;32m      7\u001b[0m     \u001b[0;32mreturn\u001b[0m \u001b[0mnums\u001b[0m\u001b[0;34m\u001b[0m\u001b[0;34m\u001b[0m\u001b[0m\n",
      "\u001b[0;32m<ipython-input-10-ea640e3b8b2d>\u001b[0m in \u001b[0;36mbubble_sort\u001b[0;34m(nums)\u001b[0m\n\u001b[1;32m      3\u001b[0m         \u001b[0;32mfor\u001b[0m \u001b[0mj\u001b[0m \u001b[0;32min\u001b[0m \u001b[0mrange\u001b[0m\u001b[0;34m(\u001b[0m\u001b[0mlen\u001b[0m\u001b[0;34m(\u001b[0m\u001b[0mnums\u001b[0m\u001b[0;34m)\u001b[0m\u001b[0;34m)\u001b[0m\u001b[0;34m:\u001b[0m\u001b[0;34m\u001b[0m\u001b[0;34m\u001b[0m\u001b[0m\n\u001b[1;32m      4\u001b[0m             \u001b[0;32mif\u001b[0m \u001b[0mnums\u001b[0m\u001b[0;34m[\u001b[0m\u001b[0mj\u001b[0m\u001b[0;34m]\u001b[0m \u001b[0;34m>\u001b[0m \u001b[0mnums\u001b[0m\u001b[0;34m[\u001b[0m\u001b[0mj\u001b[0m \u001b[0;34m+\u001b[0m \u001b[0;36m1\u001b[0m\u001b[0;34m]\u001b[0m\u001b[0;34m:\u001b[0m\u001b[0;34m\u001b[0m\u001b[0;34m\u001b[0m\u001b[0m\n\u001b[0;32m----> 5\u001b[0;31m                 \u001b[0mnums\u001b[0m\u001b[0;34m[\u001b[0m\u001b[0mj\u001b[0m \u001b[0;34m+\u001b[0m \u001b[0;36m1\u001b[0m\u001b[0;34m]\u001b[0m\u001b[0;34m,\u001b[0m \u001b[0mnums\u001b[0m\u001b[0;34m[\u001b[0m\u001b[0mj\u001b[0m\u001b[0;34m]\u001b[0m \u001b[0;34m=\u001b[0m \u001b[0mnums\u001b[0m\u001b[0;34m[\u001b[0m\u001b[0mj\u001b[0m\u001b[0;34m]\u001b[0m\u001b[0;34m,\u001b[0m \u001b[0mnums\u001b[0m\u001b[0;34m[\u001b[0m\u001b[0mj\u001b[0m \u001b[0;34m+\u001b[0m \u001b[0;36m1\u001b[0m\u001b[0;34m]\u001b[0m\u001b[0;34m\u001b[0m\u001b[0;34m\u001b[0m\u001b[0m\n\u001b[0m\u001b[1;32m      6\u001b[0m                 \u001b[0mduck\u001b[0m\u001b[0;34m(\u001b[0m\u001b[0;34m)\u001b[0m\u001b[0;34m\u001b[0m\u001b[0;34m\u001b[0m\u001b[0m\n\u001b[1;32m      7\u001b[0m     \u001b[0;32mreturn\u001b[0m \u001b[0mnums\u001b[0m\u001b[0;34m\u001b[0m\u001b[0;34m\u001b[0m\u001b[0m\n",
      "\u001b[0;32m~/anaconda3/envs/py38/lib/python3.8/bdb.py\u001b[0m in \u001b[0;36mtrace_dispatch\u001b[0;34m(self, frame, event, arg)\u001b[0m\n\u001b[1;32m     86\u001b[0m             \u001b[0;32mreturn\u001b[0m \u001b[0;31m# None\u001b[0m\u001b[0;34m\u001b[0m\u001b[0;34m\u001b[0m\u001b[0m\n\u001b[1;32m     87\u001b[0m         \u001b[0;32mif\u001b[0m \u001b[0mevent\u001b[0m \u001b[0;34m==\u001b[0m \u001b[0;34m'line'\u001b[0m\u001b[0;34m:\u001b[0m\u001b[0;34m\u001b[0m\u001b[0;34m\u001b[0m\u001b[0m\n\u001b[0;32m---> 88\u001b[0;31m             \u001b[0;32mreturn\u001b[0m \u001b[0mself\u001b[0m\u001b[0;34m.\u001b[0m\u001b[0mdispatch_line\u001b[0m\u001b[0;34m(\u001b[0m\u001b[0mframe\u001b[0m\u001b[0;34m)\u001b[0m\u001b[0;34m\u001b[0m\u001b[0;34m\u001b[0m\u001b[0m\n\u001b[0m\u001b[1;32m     89\u001b[0m         \u001b[0;32mif\u001b[0m \u001b[0mevent\u001b[0m \u001b[0;34m==\u001b[0m \u001b[0;34m'call'\u001b[0m\u001b[0;34m:\u001b[0m\u001b[0;34m\u001b[0m\u001b[0;34m\u001b[0m\u001b[0m\n\u001b[1;32m     90\u001b[0m             \u001b[0;32mreturn\u001b[0m \u001b[0mself\u001b[0m\u001b[0;34m.\u001b[0m\u001b[0mdispatch_call\u001b[0m\u001b[0;34m(\u001b[0m\u001b[0mframe\u001b[0m\u001b[0;34m,\u001b[0m \u001b[0marg\u001b[0m\u001b[0;34m)\u001b[0m\u001b[0;34m\u001b[0m\u001b[0;34m\u001b[0m\u001b[0m\n",
      "\u001b[0;32m~/anaconda3/envs/py38/lib/python3.8/bdb.py\u001b[0m in \u001b[0;36mdispatch_line\u001b[0;34m(self, frame)\u001b[0m\n\u001b[1;32m    111\u001b[0m         \u001b[0;32mif\u001b[0m \u001b[0mself\u001b[0m\u001b[0;34m.\u001b[0m\u001b[0mstop_here\u001b[0m\u001b[0;34m(\u001b[0m\u001b[0mframe\u001b[0m\u001b[0;34m)\u001b[0m \u001b[0;32mor\u001b[0m \u001b[0mself\u001b[0m\u001b[0;34m.\u001b[0m\u001b[0mbreak_here\u001b[0m\u001b[0;34m(\u001b[0m\u001b[0mframe\u001b[0m\u001b[0;34m)\u001b[0m\u001b[0;34m:\u001b[0m\u001b[0;34m\u001b[0m\u001b[0;34m\u001b[0m\u001b[0m\n\u001b[1;32m    112\u001b[0m             \u001b[0mself\u001b[0m\u001b[0;34m.\u001b[0m\u001b[0muser_line\u001b[0m\u001b[0;34m(\u001b[0m\u001b[0mframe\u001b[0m\u001b[0;34m)\u001b[0m\u001b[0;34m\u001b[0m\u001b[0;34m\u001b[0m\u001b[0m\n\u001b[0;32m--> 113\u001b[0;31m             \u001b[0;32mif\u001b[0m \u001b[0mself\u001b[0m\u001b[0;34m.\u001b[0m\u001b[0mquitting\u001b[0m\u001b[0;34m:\u001b[0m \u001b[0;32mraise\u001b[0m \u001b[0mBdbQuit\u001b[0m\u001b[0;34m\u001b[0m\u001b[0;34m\u001b[0m\u001b[0m\n\u001b[0m\u001b[1;32m    114\u001b[0m         \u001b[0;32mreturn\u001b[0m \u001b[0mself\u001b[0m\u001b[0;34m.\u001b[0m\u001b[0mtrace_dispatch\u001b[0m\u001b[0;34m\u001b[0m\u001b[0;34m\u001b[0m\u001b[0m\n\u001b[1;32m    115\u001b[0m \u001b[0;34m\u001b[0m\u001b[0m\n",
      "\u001b[0;31mBdbQuit\u001b[0m: "
     ]
    }
   ],
   "source": [
    "bubble_sort(nums)"
   ]
  },
  {
   "cell_type": "code",
   "execution_count": 14,
   "metadata": {
    "ExecuteTime": {
     "end_time": "2023-04-13T04:17:16.026336Z",
     "start_time": "2023-04-13T04:17:15.988721Z"
    }
   },
   "outputs": [
    {
     "data": {
      "text/plain": [
       "{'last_completion': \"Certainly! Here's the corrected code snippet with type annotations:\\n\\n```python\\nfrom typing import List\\n\\ndef bubble_sort(nums: List[int]) -> List[int]:\\n    for i in range(len(nums)):\\n        for j in range(len(nums) - i - 1):\\n            if nums[j] > nums[j + 1]:\\n                nums[j + 1], nums[j] = nums[j], nums[j + 1]\\n    return nums\\n``` \\n\\nIn this version, we've added type annotations to the function definition to indicate that the `nums` parameter is a list of integers, and that the function returns a list of integers. This can help catch type-related errors earlier in the development process, and also make the code more readable and self-documenting.\",\n",
       " 'last_explanation': \"Certainly! Here's the corrected code snippet with type annotations:\\n\",\n",
       " 'last_code': '',\n",
       " 'last_new_code': 'from typing import List\\n\\ndef bubble_sort(nums: List[int]) -> List[int]:\\n    for i in range(len(nums)):\\n        for j in range(len(nums) - i - 1):\\n            if nums[j] > nums[j + 1]:\\n                nums[j + 1], nums[j] = nums[j], nums[j + 1]\\n    return nums',\n",
       " 'last_code_diff': '\\x1b[32mfrom typing import List\\n\\ndef bubble_sort(nums: List[int]) -> List[int]:\\n    for i in range(len(nums)):\\n        for j in range(len(nums) - i - 1):\\n            if nums[j] > nums[j + 1]:\\n                nums[j + 1], nums[j] = nums[j], nums[j + 1]\\n    return nums\\x1b[0m',\n",
       " 'last_extra': {}}"
      ]
     },
     "execution_count": 14,
     "metadata": {},
     "output_type": "execute_result"
    }
   ],
   "source": [
    "{k: v for k, v in vars(CodeCompletionCache).items() if k.startswith('last_')}"
   ]
  },
  {
   "cell_type": "code",
   "execution_count": 12,
   "metadata": {
    "ExecuteTime": {
     "end_time": "2023-04-13T04:17:02.865961Z",
     "start_time": "2023-04-13T04:17:02.815152Z"
    }
   },
   "outputs": [
    {
     "name": "stdout",
     "output_type": "stream",
     "text": [
      "from typing import List\n",
      "\n",
      "def bubble_sort(nums: List[int]) -> List[int]:\n",
      "    for i in range(len(nums)):\n",
      "        for j in range(len(nums) - i - 1):\n",
      "            if nums[j] > nums[j + 1]:\n",
      "                nums[j + 1], nums[j] = nums[j], nums[j + 1]\n",
      "    return nums\n"
     ]
    }
   ],
   "source": [
    "print(parse_completion(CodeCompletionCache.last_completion)['code'])"
   ]
  },
  {
   "cell_type": "code",
   "execution_count": 13,
   "metadata": {
    "ExecuteTime": {
     "end_time": "2023-04-13T04:17:03.269896Z",
     "start_time": "2023-04-13T04:17:03.228407Z"
    }
   },
   "outputs": [
    {
     "name": "stdout",
     "output_type": "stream",
     "text": [
      "\u001b[32mfrom typing import List\n",
      "\n",
      "def bubble_sort(nums: List[int]) -> List[int]:\n",
      "    for i in range(len(nums)):\n",
      "        for j in range(len(nums) - i - 1):\n",
      "            if nums[j] > nums[j + 1]:\n",
      "                nums[j + 1], nums[j] = nums[j], nums[j + 1]\n",
      "    return nums\u001b[0m\n"
     ]
    }
   ],
   "source": [
    "print(CodeCompletionCache.last_code_diff)"
   ]
  },
  {
   "cell_type": "markdown",
   "metadata": {},
   "source": [
    "## Errors"
   ]
  },
  {
   "cell_type": "code",
   "execution_count": 24,
   "metadata": {
    "ExecuteTime": {
     "end_time": "2023-04-13T04:33:18.739363Z",
     "start_time": "2023-04-13T04:33:18.655659Z"
    }
   },
   "outputs": [],
   "source": [
    "from roboduck import errors"
   ]
  },
  {
   "cell_type": "code",
   "execution_count": 25,
   "metadata": {
    "ExecuteTime": {
     "end_time": "2023-04-13T04:33:18.987211Z",
     "start_time": "2023-04-13T04:33:18.944848Z"
    }
   },
   "outputs": [],
   "source": [
    "def bubble_sort(nums):\n",
    "    for i in range(len(nums)):\n",
    "        for j in range(len(nums)):\n",
    "            if nums[j] > nums[j + 1]:\n",
    "                nums[j + 1], nums[j] = nums[j], nums[j + 1]\n",
    "    return nums"
   ]
  },
  {
   "cell_type": "code",
   "execution_count": 26,
   "metadata": {
    "ExecuteTime": {
     "end_time": "2023-04-13T04:33:21.857169Z",
     "start_time": "2023-04-13T04:33:20.866830Z"
    }
   },
   "outputs": [
    {
     "name": "stdout",
     "output_type": "stream",
     "text": [
      "Traceback (most recent call last):\n",
      "  File \"/Users/hmamin/anaconda3/envs/py38/lib/python3.8/site-packages/IPython/core/interactiveshell.py\", line 3441, in run_code\n",
      "    exec(code_obj, self.user_global_ns, self.user_ns)\n",
      "  File \"<ipython-input-26-9bb1c33833ca>\", line 1, in <module>\n",
      "    bubble_sort(nums)\n",
      "  File \"<ipython-input-25-3f12a9f434a7>\", line 4, in bubble_sort\n",
      "    if nums[j] > nums[j + 1]:\n",
      "IndexError: list index out of range\n",
      "\n",
      "Explain error message? [y/n]\n",
      "n\n"
     ]
    }
   ],
   "source": [
    "bubble_sort(nums)"
   ]
  },
  {
   "cell_type": "code",
   "execution_count": 27,
   "metadata": {
    "ExecuteTime": {
     "end_time": "2023-04-13T04:33:24.471545Z",
     "start_time": "2023-04-13T04:33:24.365294Z"
    }
   },
   "outputs": [],
   "source": [
    "errors.enable(chat_class=DummyChatModel)"
   ]
  },
  {
   "cell_type": "code",
   "execution_count": 28,
   "metadata": {
    "ExecuteTime": {
     "end_time": "2023-04-13T04:34:10.731567Z",
     "start_time": "2023-04-13T04:33:44.150515Z"
    }
   },
   "outputs": [
    {
     "name": "stdout",
     "output_type": "stream",
     "text": [
      "Traceback (most recent call last):\n",
      "  File \"/Users/hmamin/anaconda3/envs/py38/lib/python3.8/site-packages/IPython/core/interactiveshell.py\", line 3441, in run_code\n",
      "    exec(code_obj, self.user_global_ns, self.user_ns)\n",
      "  File \"<ipython-input-28-84875605ccea>\", line 1, in <module>\n",
      "    res = bubble_sort(nums)\n",
      "  File \"<ipython-input-25-3f12a9f434a7>\", line 4, in bubble_sort\n",
      "    if nums[j] > nums[j + 1]:\n",
      "IndexError: list index out of range\n",
      "\n",
      "Explain error message? [y/n]\n",
      "y\n",
      "chat: <roboduck.langchain.chat.DummyChatModel object at 0x7fc01de408e0>\n",
      "> <ipython-input-25-3f12a9f434a7>(4)bubble_sort()\n",
      "-> if nums[j] > nums[j + 1]:\n"
     ]
    },
    {
     "name": "stdout",
     "output_type": "stream",
     "text": [
      "\u001b[32m[Duck] \u001b[0m\u001b[32mT\u001b[0m\u001b[32mH\u001b[0m\u001b[32mI\u001b[0m\u001b[32mS\u001b[0m\u001b[32m \u001b[0m\u001b[32mC\u001b[0m\u001b[32mO\u001b[0m\u001b[32mD\u001b[0m\u001b[32mE\u001b[0m\u001b[32m \u001b[0m\u001b[32mS\u001b[0m\u001b[32mN\u001b[0m\u001b[32mI\u001b[0m\u001b[32mP\u001b[0m\u001b[32mP\u001b[0m\u001b[32mE\u001b[0m\u001b[32mT\u001b[0m\u001b[32m \u001b[0m\u001b[32mT\u001b[0m\u001b[32mH\u001b[0m\u001b[32mR\u001b[0m\u001b[32mO\u001b[0m\u001b[32mW\u001b[0m\u001b[32mS\u001b[0m\u001b[32m \u001b[0m\u001b[32mA\u001b[0m\u001b[32mN\u001b[0m\u001b[32m \u001b[0m\u001b[32mE\u001b[0m\u001b[32mR\u001b[0m\u001b[32mR\u001b[0m\u001b[32mO\u001b[0m\u001b[32mR\u001b[0m\u001b[32m.\u001b[0m\u001b[32m \u001b[0m\u001b[32mH\u001b[0m\u001b[32mE\u001b[0m\u001b[32mL\u001b[0m\u001b[32mP\u001b[0m\u001b[32m \u001b[0m\u001b[32mM\u001b[0m\u001b[32mE\u001b[0m\u001b[32m \u001b[0m\u001b[32mF\u001b[0m\u001b[32mI\u001b[0m\u001b[32mX\u001b[0m\u001b[32m \u001b[0m\u001b[32mI\u001b[0m\u001b[32mT\u001b[0m\u001b[32m.\u001b[0m\u001b[32m \u001b[0m\u001b[32mF\u001b[0m\u001b[32mI\u001b[0m\u001b[32mR\u001b[0m\u001b[32mS\u001b[0m\u001b[32mT\u001b[0m\u001b[32m \u001b[0m\u001b[32mE\u001b[0m\u001b[32mX\u001b[0m\u001b[32mA\u001b[0m\u001b[32mM\u001b[0m\u001b[32mI\u001b[0m\u001b[32mN\u001b[0m\u001b[32mE\u001b[0m\u001b[32m \u001b[0m\u001b[32mT\u001b[0m\u001b[32mH\u001b[0m\u001b[32mE\u001b[0m\u001b[32m \u001b[0m\u001b[32mS\u001b[0m\u001b[32mN\u001b[0m\u001b[32mI\u001b[0m\u001b[32mP\u001b[0m\u001b[32mP\u001b[0m\u001b[32mE\u001b[0m\u001b[32mT\u001b[0m\u001b[32m \u001b[0m\u001b[32mO\u001b[0m\u001b[32mF\u001b[0m\u001b[32m \u001b[0m\u001b[32mC\u001b[0m\u001b[32mO\u001b[0m\u001b[32mD\u001b[0m\u001b[32mE\u001b[0m\u001b[32m \u001b[0m\u001b[32mT\u001b[0m\u001b[32mH\u001b[0m\u001b[32mA\u001b[0m\u001b[32mT\u001b[0m\u001b[32m \u001b[0m\u001b[32mC\u001b[0m\u001b[32mA\u001b[0m\u001b[32mU\u001b[0m\u001b[32mS\u001b[0m\u001b[32mE\u001b[0m\u001b[32mS\u001b[0m\u001b[32m \u001b[0m\u001b[32mT\u001b[0m\u001b[32mH\u001b[0m\u001b[32mE\u001b[0m\u001b[32m \u001b[0m\u001b[32mI\u001b[0m\u001b[32mS\u001b[0m\u001b[32mS\u001b[0m\u001b[32mU\u001b[0m\u001b[32mE\u001b[0m\u001b[32m \u001b[0m\u001b[32mA\u001b[0m\u001b[32mN\u001b[0m\u001b[32mD\u001b[0m\u001b[32m \u001b[0m\u001b[32mL\u001b[0m\u001b[32mO\u001b[0m\u001b[32mO\u001b[0m\u001b[32mK\u001b[0m\u001b[32m \u001b[0m\u001b[32mA\u001b[0m\u001b[32mT\u001b[0m\u001b[32m \u001b[0m\u001b[32mT\u001b[0m\u001b[32mH\u001b[0m\u001b[32mE\u001b[0m\u001b[32m \u001b[0m\u001b[32mV\u001b[0m\u001b[32mA\u001b[0m\u001b[32mL\u001b[0m\u001b[32mU\u001b[0m\u001b[32mE\u001b[0m\u001b[32mS\u001b[0m\u001b[32m \u001b[0m\u001b[32mO\u001b[0m\u001b[32mF\u001b[0m\u001b[32m \u001b[0m\u001b[32mT\u001b[0m\u001b[32mH\u001b[0m\u001b[32mE\u001b[0m\u001b[32m \u001b[0m\u001b[32mL\u001b[0m\u001b[32mO\u001b[0m\u001b[32mC\u001b[0m\u001b[32mA\u001b[0m\u001b[32mL\u001b[0m\u001b[32m \u001b[0m\u001b[32mA\u001b[0m\u001b[32mN\u001b[0m\u001b[32mD\u001b[0m\u001b[32m \u001b[0m\u001b[32mG\u001b[0m\u001b[32mL\u001b[0m\u001b[32mO\u001b[0m\u001b[32mB\u001b[0m\u001b[32mA\u001b[0m\u001b[32mL\u001b[0m\u001b[32m \u001b[0m\u001b[32mV\u001b[0m\u001b[32mA\u001b[0m\u001b[32mR\u001b[0m\u001b[32mI\u001b[0m\u001b[32mA\u001b[0m\u001b[32mB\u001b[0m\u001b[32mL\u001b[0m\u001b[32mE\u001b[0m\u001b[32mS\u001b[0m\u001b[32m.\u001b[0m\u001b[32m \u001b[0m\u001b[32mT\u001b[0m\u001b[32mH\u001b[0m\u001b[32mE\u001b[0m\u001b[32mN\u001b[0m\u001b[32m \u001b[0m\u001b[32mP\u001b[0m\u001b[32mR\u001b[0m\u001b[32mO\u001b[0m\u001b[32mV\u001b[0m\u001b[32mI\u001b[0m\u001b[32mD\u001b[0m\u001b[32mE\u001b[0m\u001b[32m \u001b[0m\u001b[32mA\u001b[0m\u001b[32m \u001b[0m\u001b[32mR\u001b[0m\u001b[32mE\u001b[0m\u001b[32mS\u001b[0m\u001b[32mP\u001b[0m\u001b[32mO\u001b[0m\u001b[32mN\u001b[0m\u001b[32mS\u001b[0m\u001b[32mE\u001b[0m\u001b[32m \u001b[0m\u001b[32mW\u001b[0m\u001b[32mI\u001b[0m\u001b[32mT\u001b[0m\u001b[32mH\u001b[0m\u001b[32m \u001b[0m\u001b[32mE\u001b[0m\u001b[32mX\u001b[0m\u001b[32mA\u001b[0m\u001b[32mC\u001b[0m\u001b[32mT\u001b[0m\u001b[32mL\u001b[0m\u001b[32mY\u001b[0m\u001b[32m \u001b[0m\u001b[32mT\u001b[0m\u001b[32mW\u001b[0m\u001b[32mO\u001b[0m\u001b[32m \u001b[0m\u001b[32mS\u001b[0m\u001b[32mE\u001b[0m\u001b[32mC\u001b[0m\u001b[32mT\u001b[0m\u001b[32mI\u001b[0m\u001b[32mO\u001b[0m\u001b[32mN\u001b[0m\u001b[32mS\u001b[0m\u001b[32m,\u001b[0m\u001b[32m \u001b[0m\u001b[32mS\u001b[0m\u001b[32mE\u001b[0m\u001b[32mP\u001b[0m\u001b[32mA\u001b[0m\u001b[32mR\u001b[0m\u001b[32mA\u001b[0m\u001b[32mT\u001b[0m\u001b[32mE\u001b[0m\u001b[32mD\u001b[0m\u001b[32m \u001b[0m\u001b[32mB\u001b[0m\u001b[32mY\u001b[0m\u001b[32m \u001b[0m\u001b[32mA\u001b[0m\u001b[32mN\u001b[0m\u001b[32m \u001b[0m\u001b[32mE\u001b[0m\u001b[32mM\u001b[0m\u001b[32mP\u001b[0m\u001b[32mT\u001b[0m\u001b[32mY\u001b[0m\u001b[32m \u001b[0m\u001b[32mL\u001b[0m\u001b[32mI\u001b[0m\u001b[32mN\u001b[0m\u001b[32mE\u001b[0m\u001b[32m.\u001b[0m\u001b[32m \u001b[0m\u001b[32m(\u001b[0m\u001b[32mT\u001b[0m\u001b[32mH\u001b[0m\u001b[32mE\u001b[0m\u001b[32mY\u001b[0m\u001b[32m \u001b[0m\u001b[32mS\u001b[0m\u001b[32mH\u001b[0m\u001b[32mO\u001b[0m\u001b[32mU\u001b[0m\u001b[32mL\u001b[0m\u001b[32mD\u001b[0m\u001b[32m \u001b[0m\u001b[32mA\u001b[0m\u001b[32mP\u001b[0m\u001b[32mP\u001b[0m\u001b[32mE\u001b[0m\u001b[32mA\u001b[0m\u001b[32mR\u001b[0m\u001b[32m \u001b[0m\u001b[32mT\u001b[0m\u001b[32mO\u001b[0m\u001b[32m \u001b[0m\u001b[32mT\u001b[0m\u001b[32mH\u001b[0m\u001b[32mE\u001b[0m\u001b[32m \u001b[0m\u001b[32mU\u001b[0m\u001b[32mS\u001b[0m\u001b[32mE\u001b[0m\u001b[32mR\u001b[0m\u001b[32m \u001b[0m\u001b[32mA\u001b[0m\u001b[32mS\u001b[0m\u001b[32m \u001b[0m\u001b[32mA\u001b[0m\u001b[32m \u001b[0m\u001b[32mS\u001b[0m\u001b[32mI\u001b[0m\u001b[32mN\u001b[0m\u001b[32mG\u001b[0m\u001b[32mL\u001b[0m\u001b[32mE\u001b[0m\u001b[32m \u001b[0m\u001b[32mS\u001b[0m\u001b[32mE\u001b[0m\u001b[32mC\u001b[0m\u001b[32mT\u001b[0m\u001b[32mI\u001b[0m\u001b[32mO\u001b[0m\u001b[32mN\u001b[0m\u001b[32m,\u001b[0m\u001b[32m \u001b[0m\u001b[32mH\u001b[0m\u001b[32mO\u001b[0m\u001b[32mW\u001b[0m\u001b[32mE\u001b[0m\u001b[32mV\u001b[0m\u001b[32mE\u001b[0m\u001b[32mR\u001b[0m\u001b[32m \u001b[0m\u001b[32m-\u001b[0m\u001b[32m \u001b[0m\u001b[32mD\u001b[0m\u001b[32mO\u001b[0m\u001b[32m \u001b[0m\u001b[32mN\u001b[0m\u001b[32mO\u001b[0m\u001b[32mT\u001b[0m\u001b[32m \u001b[0m\u001b[32mI\u001b[0m\u001b[32mN\u001b[0m\u001b[32mC\u001b[0m\u001b[32mL\u001b[0m\u001b[32mU\u001b[0m\u001b[32mD\u001b[0m\u001b[32mE\u001b[0m\u001b[32m \u001b[0m\u001b[32mS\u001b[0m\u001b[32mE\u001b[0m\u001b[32mC\u001b[0m\u001b[32mT\u001b[0m\u001b[32mI\u001b[0m\u001b[32mO\u001b[0m\u001b[32mN\u001b[0m\u001b[32m \u001b[0m\u001b[32mT\u001b[0m\u001b[32mI\u001b[0m\u001b[32mT\u001b[0m\u001b[32mL\u001b[0m\u001b[32mE\u001b[0m\u001b[32mS\u001b[0m\u001b[32m \u001b[0m\u001b[32mO\u001b[0m\u001b[32mF\u001b[0m\u001b[32m \u001b[0m\u001b[32mA\u001b[0m\u001b[32mN\u001b[0m\u001b[32mY\u001b[0m\u001b[32m \u001b[0m\u001b[32mK\u001b[0m\u001b[32mI\u001b[0m\u001b[32mN\u001b[0m\u001b[32mD\u001b[0m\u001b[32m.\u001b[0m\u001b[32m)\u001b[0m\u001b[32m \u001b[0m\u001b[32mI\u001b[0m\u001b[32mN\u001b[0m\u001b[32m \u001b[0m\u001b[32mS\u001b[0m\u001b[32mE\u001b[0m\u001b[32mC\u001b[0m\u001b[32mT\u001b[0m\u001b[32mI\u001b[0m\u001b[32mO\u001b[0m\u001b[32mN\u001b[0m\u001b[32m \u001b[0m\u001b[32m1\u001b[0m\u001b[32m,\u001b[0m\u001b[32m \u001b[0m\u001b[32mU\u001b[0m\u001b[32mS\u001b[0m\u001b[32mE\u001b[0m\u001b[32m \u001b[0m\u001b[32mP\u001b[0m\u001b[32mL\u001b[0m\u001b[32mA\u001b[0m\u001b[32mI\u001b[0m\u001b[32mN\u001b[0m\u001b[32m \u001b[0m\u001b[32mE\u001b[0m\u001b[32mN\u001b[0m\u001b[32mG\u001b[0m\u001b[32mL\u001b[0m\u001b[32mI\u001b[0m\u001b[32mS\u001b[0m\u001b[32mH\u001b[0m\u001b[32m \u001b[0m\u001b[32mT\u001b[0m\u001b[32mO\u001b[0m\u001b[32m \u001b[0m\u001b[32mE\u001b[0m\u001b[32mX\u001b[0m\u001b[32mP\u001b[0m\u001b[32mL\u001b[0m\u001b[32mA\u001b[0m\u001b[32mI\u001b[0m\u001b[32mN\u001b[0m\u001b[32m \u001b[0m\u001b[32mW\u001b[0m\u001b[32mH\u001b[0m\u001b[32mA\u001b[0m\u001b[32mT\u001b[0m\u001b[32m \u001b[0m\u001b[32mT\u001b[0m\u001b[32mH\u001b[0m\u001b[32mE\u001b[0m\u001b[32m \u001b[0m\u001b[32mP\u001b[0m\u001b[32mR\u001b[0m\u001b[32mO\u001b[0m\u001b[32mB\u001b[0m\u001b[32mL\u001b[0m\u001b[32mE\u001b[0m\u001b[32mM\u001b[0m\u001b[32m \u001b[0m\u001b[32mI\u001b[0m\u001b[32mS\u001b[0m\u001b[32m \u001b[0m\u001b[32mA\u001b[0m\u001b[32mN\u001b[0m\u001b[32mD\u001b[0m\u001b[32m \u001b[0m\u001b[32mH\u001b[0m\u001b[32mO\u001b[0m\u001b[32mW\u001b[0m\u001b[32m \u001b[0m\u001b[32mT\u001b[0m\u001b[32mO\u001b[0m\u001b[32m \u001b[0m\u001b[32mF\u001b[0m\u001b[32mI\u001b[0m\u001b[32mX\u001b[0m\u001b[32m \u001b[0m\u001b[32mI\u001b[0m\u001b[32mT\u001b[0m\u001b[32m \u001b[0m\u001b[32m(\u001b[0m\u001b[32mI\u001b[0m\u001b[32mF\u001b[0m\u001b[32m \u001b[0m\u001b[32mY\u001b[0m\u001b[32mO\u001b[0m\u001b[32mU\u001b[0m\u001b[32m \u001b[0m\u001b[32mC\u001b[0m\u001b[32mA\u001b[0m\u001b[32mN\u001b[0m\u001b[32m'\u001b[0m\u001b[32mT\u001b[0m\u001b[32m \u001b[0m\u001b[32mI\u001b[0m\u001b[32mD\u001b[0m\u001b[32mE\u001b[0m\u001b[32mN\u001b[0m\u001b[32mT\u001b[0m\u001b[32mI\u001b[0m\u001b[32mF\u001b[0m\u001b[32mY\u001b[0m\u001b[32m \u001b[0m\u001b[32mT\u001b[0m\u001b[32mH\u001b[0m\u001b[32mE\u001b[0m\u001b[32m \u001b[0m\u001b[32mP\u001b[0m\u001b[32mR\u001b[0m\u001b[32mO\u001b[0m\u001b[32mB\u001b[0m\u001b[32mL\u001b[0m\u001b[32mE\u001b[0m\u001b[32mM\u001b[0m\u001b[32m,\u001b[0m\u001b[32m \u001b[0m\u001b[32mS\u001b[0m\u001b[32mE\u001b[0m\u001b[32mC\u001b[0m\u001b[32mT\u001b[0m\u001b[32mI\u001b[0m\u001b[32mO\u001b[0m\u001b[32mN\u001b[0m\u001b[32m \u001b[0m\u001b[32m1\u001b[0m\u001b[32m \u001b[0m\u001b[32mS\u001b[0m\u001b[32mH\u001b[0m\u001b[32mO\u001b[0m\u001b[32mU\u001b[0m\u001b[32mL\u001b[0m\u001b[32mD\u001b[0m\u001b[32m \u001b[0m\u001b[32mI\u001b[0m\u001b[32mN\u001b[0m\u001b[32mS\u001b[0m\u001b[32mT\u001b[0m\u001b[32mE\u001b[0m\u001b[32mA\u001b[0m\u001b[32mD\u001b[0m\u001b[32m \u001b[0m\u001b[32mL\u001b[0m\u001b[32mI\u001b[0m\u001b[32mS\u001b[0m\u001b[32mT\u001b[0m\u001b[32m \u001b[0m\u001b[32mA\u001b[0m\u001b[32m \u001b[0m\u001b[32mF\u001b[0m\u001b[32mE\u001b[0m\u001b[32mW\u001b[0m\u001b[32m \u001b[0m\u001b[32mP\u001b[0m\u001b[32mO\u001b[0m\u001b[32mS\u001b[0m\u001b[32mS\u001b[0m\u001b[32mI\u001b[0m\u001b[32mB\u001b[0m\u001b[32mL\u001b[0m\u001b[32mE\u001b[0m\u001b[32m \u001b[0m\u001b[32mC\u001b[0m\u001b[32mA\u001b[0m\u001b[32mU\u001b[0m\u001b[32mS\u001b[0m\u001b[32mE\u001b[0m\u001b[32mS\u001b[0m\u001b[32m \u001b[0m\u001b[32mO\u001b[0m\u001b[32mR\u001b[0m\u001b[32m \u001b[0m\u001b[32mT\u001b[0m\u001b[32mH\u001b[0m\u001b[32mI\u001b[0m\u001b[32mN\u001b[0m\u001b[32mG\u001b[0m\u001b[32mS\u001b[0m\u001b[32m \u001b[0m\u001b[32mI\u001b[0m\u001b[32m \u001b[0m\u001b[32mC\u001b[0m\u001b[32mO\u001b[0m\u001b[32mU\u001b[0m\u001b[32mL\u001b[0m\u001b[32mD\u001b[0m\u001b[32m \u001b[0m\u001b[32mT\u001b[0m\u001b[32mR\u001b[0m\u001b[32mY\u001b[0m\u001b[32m \u001b[0m\u001b[32mI\u001b[0m\u001b[32mN\u001b[0m\u001b[32m \u001b[0m\u001b[32mO\u001b[0m\u001b[32mR\u001b[0m\u001b[32mD\u001b[0m\u001b[32mE\u001b[0m\u001b[32mR\u001b[0m\u001b[32m \u001b[0m\u001b[32mT\u001b[0m\u001b[32mO\u001b[0m\u001b[32m \u001b[0m\u001b[32mI\u001b[0m\u001b[32mD\u001b[0m\u001b[32mE\u001b[0m\u001b[32mN\u001b[0m\u001b[32mT\u001b[0m\u001b[32mI\u001b[0m\u001b[32mF\u001b[0m\u001b[32mY\u001b[0m\u001b[32m \u001b[0m\u001b[32mT\u001b[0m\u001b[32mH\u001b[0m\u001b[32mE\u001b[0m\u001b[32m \u001b[0m\u001b[32mI\u001b[0m\u001b[32mS\u001b[0m\u001b[32mS\u001b[0m\u001b[32mU\u001b[0m\u001b[32mE\u001b[0m\u001b[32m)\u001b[0m\u001b[32m.\u001b[0m\u001b[32m \u001b[0m\u001b[32mI\u001b[0m\u001b[32mN\u001b[0m\u001b[32m \u001b[0m\u001b[32mS\u001b[0m\u001b[32mE\u001b[0m\u001b[32mC\u001b[0m\u001b[32mT\u001b[0m\u001b[32mI\u001b[0m\u001b[32mO\u001b[0m\u001b[32mN\u001b[0m\u001b[32m \u001b[0m\u001b[32m2\u001b[0m\u001b[32m,\u001b[0m\u001b[32m \u001b[0m\u001b[32mW\u001b[0m\u001b[32mR\u001b[0m\u001b[32mI\u001b[0m\u001b[32mT\u001b[0m\u001b[32mE\u001b[0m\u001b[32m \u001b[0m\u001b[32mA\u001b[0m\u001b[32m \u001b[0m\u001b[32mC\u001b[0m\u001b[32mO\u001b[0m\u001b[32mR\u001b[0m\u001b[32mR\u001b[0m\u001b[32mE\u001b[0m\u001b[32mC\u001b[0m\u001b[32mT\u001b[0m\u001b[32mE\u001b[0m\u001b[32mD\u001b[0m\u001b[32m \u001b[0m\u001b[32mV\u001b[0m\u001b[32mE\u001b[0m\u001b[32mR\u001b[0m\u001b[32mS\u001b[0m\u001b[32mI\u001b[0m\u001b[32mO\u001b[0m\u001b[32mN\u001b[0m\u001b[32m \u001b[0m\u001b[32mO\u001b[0m\u001b[32mF\u001b[0m\u001b[32m \u001b[0m\u001b[32mT\u001b[0m\u001b[32mH\u001b[0m\u001b[32mE\u001b[0m\u001b[32m \u001b[0m\u001b[32mI\u001b[0m\u001b[32mN\u001b[0m\u001b[32mP\u001b[0m\u001b[32mU\u001b[0m\u001b[32mT\u001b[0m\u001b[32m \u001b[0m\u001b[32mC\u001b[0m\u001b[32mO\u001b[0m\u001b[32mD\u001b[0m\u001b[32mE\u001b[0m\u001b[32m \u001b[0m\u001b[32mS\u001b[0m\u001b[32mN\u001b[0m\u001b[32mI\u001b[0m\u001b[32mP\u001b[0m\u001b[32mP\u001b[0m\u001b[32mE\u001b[0m\u001b[32mT\u001b[0m\u001b[32m \u001b[0m\u001b[32m(\u001b[0m\u001b[32mI\u001b[0m\u001b[32mF\u001b[0m\u001b[32m \u001b[0m\u001b[32mY\u001b[0m\u001b[32mO\u001b[0m\u001b[32mU\u001b[0m\u001b[32m \u001b[0m\u001b[32mD\u001b[0m\u001b[32mO\u001b[0m\u001b[32mN\u001b[0m\u001b[32m'\u001b[0m\u001b[32mT\u001b[0m\u001b[32m \u001b[0m\u001b[32mK\u001b[0m\u001b[32mN\u001b[0m\u001b[32mO\u001b[0m\u001b[32mW\u001b[0m\u001b[32m,\u001b[0m\u001b[32m \u001b[0m\u001b[32mS\u001b[0m\u001b[32mE\u001b[0m\u001b[32mC\u001b[0m\u001b[32mT\u001b[0m\u001b[32mI\u001b[0m\u001b[32mO\u001b[0m\u001b[32mN\u001b[0m\u001b[32m \u001b[0m\u001b[32m2\u001b[0m\u001b[32m \u001b[0m\u001b[32mS\u001b[0m\u001b[32mH\u001b[0m\u001b[32mO\u001b[0m\u001b[32mU\u001b[0m\u001b[32mL\u001b[0m\u001b[32mD\u001b[0m\u001b[32m \u001b[0m\u001b[32mB\u001b[0m\u001b[32mE\u001b[0m\u001b[32m \u001b[0m\u001b[32mE\u001b[0m\u001b[32mM\u001b[0m\u001b[32mP\u001b[0m\u001b[32mT\u001b[0m\u001b[32mY\u001b[0m\u001b[32m)\u001b[0m\u001b[32m.\u001b[0m\u001b[32m \u001b[0m\u001b[32mS\u001b[0m\u001b[32mE\u001b[0m\u001b[32mC\u001b[0m\u001b[32mT\u001b[0m\u001b[32mI\u001b[0m\u001b[32mO\u001b[0m\u001b[32mN\u001b[0m\u001b[32m \u001b[0m\u001b[32m2\u001b[0m\u001b[32m \u001b[0m\u001b[32mM\u001b[0m\u001b[32mU\u001b[0m\u001b[32mS\u001b[0m\u001b[32mT\u001b[0m\u001b[32m \u001b[0m\u001b[32mC\u001b[0m\u001b[32mO\u001b[0m\u001b[32mN\u001b[0m\u001b[32mT\u001b[0m\u001b[32mA\u001b[0m\u001b[32mI\u001b[0m\u001b[32mN\u001b[0m\u001b[32m \u001b[0m\u001b[32mO\u001b[0m\u001b[32mN\u001b[0m\u001b[32mL\u001b[0m\u001b[32mY\u001b[0m\u001b[32m \u001b[0m\u001b[32mP\u001b[0m\u001b[32mY\u001b[0m\u001b[32mT\u001b[0m\u001b[32mH\u001b[0m\u001b[32mO\u001b[0m\u001b[32mN\u001b[0m\u001b[32m \u001b[0m\u001b[32mC\u001b[0m\u001b[32mO\u001b[0m\u001b[32mD\u001b[0m\u001b[32mE\u001b[0m\u001b[32m \u001b[0m\u001b[32m-\u001b[0m\u001b[32m \u001b[0m\u001b[32mT\u001b[0m\u001b[32mH\u001b[0m\u001b[32mE\u001b[0m\u001b[32mR\u001b[0m\u001b[32mE\u001b[0m\u001b[32m \u001b[0m\u001b[32mM\u001b[0m\u001b[32mU\u001b[0m\u001b[32mS\u001b[0m\u001b[32mT\u001b[0m\u001b[32m \u001b[0m\u001b[32mN\u001b[0m\u001b[32mO\u001b[0m\u001b[32mT\u001b[0m\u001b[32m \u001b[0m\u001b[32mB\u001b[0m\u001b[32mE\u001b[0m\u001b[32m \u001b[0m\u001b[32mA\u001b[0m\u001b[32mN\u001b[0m\u001b[32mY\u001b[0m\u001b[32m \u001b[0m\u001b[32mE\u001b[0m\u001b[32mN\u001b[0m\u001b[32mG\u001b[0m\u001b[32mL\u001b[0m\u001b[32mI\u001b[0m\u001b[32mS\u001b[0m\u001b[32mH\u001b[0m\u001b[32m \u001b[0m\u001b[32mE\u001b[0m\u001b[32mX\u001b[0m\u001b[32mP\u001b[0m\u001b[32mL\u001b[0m\u001b[32mA\u001b[0m\u001b[32mN\u001b[0m\u001b[32mA\u001b[0m\u001b[32mT\u001b[0m\u001b[32mI\u001b[0m\u001b[32mO\u001b[0m\u001b[32mN\u001b[0m\u001b[32m \u001b[0m\u001b[32mO\u001b[0m\u001b[32mU\u001b[0m\u001b[32mT\u001b[0m\u001b[32mS\u001b[0m\u001b[32mI\u001b[0m\u001b[32mD\u001b[0m\u001b[32mE\u001b[0m\u001b[32m \u001b[0m\u001b[32mO\u001b[0m\u001b[32mF\u001b[0m\u001b[32m \u001b[0m\u001b[32mC\u001b[0m\u001b[32mO\u001b[0m\u001b[32mD\u001b[0m\u001b[32mE\u001b[0m\u001b[32m \u001b[0m\u001b[32mC\u001b[0m\u001b[32mO\u001b[0m\u001b[32mM\u001b[0m\u001b[32mM\u001b[0m\u001b[32mE\u001b[0m\u001b[32mN\u001b[0m\u001b[32mT\u001b[0m\u001b[32mS\u001b[0m\u001b[32m \u001b[0m\u001b[32mO\u001b[0m\u001b[32mR\u001b[0m\u001b[32m \u001b[0m\u001b[32mD\u001b[0m\u001b[32mO\u001b[0m\u001b[32mC\u001b[0m\u001b[32mS\u001b[0m\u001b[32mT\u001b[0m\u001b[32mR\u001b[0m\u001b[32mI\u001b[0m\u001b[32mN\u001b[0m\u001b[32mG\u001b[0m\u001b[32mS\u001b[0m\u001b[32m.\u001b[0m\u001b[32m \u001b[0m\u001b[32mS\u001b[0m\u001b[32mE\u001b[0m\u001b[32mC\u001b[0m\u001b[32mT\u001b[0m\u001b[32mI\u001b[0m\u001b[32mO\u001b[0m\u001b[32mN\u001b[0m\u001b[32m \u001b[0m\u001b[32m2\u001b[0m\u001b[32m \u001b[0m\u001b[32mM\u001b[0m\u001b[32mU\u001b[0m\u001b[32mS\u001b[0m\u001b[32mT\u001b[0m\u001b[32m \u001b[0m\u001b[32mB\u001b[0m\u001b[32mE\u001b[0m\u001b[32m \u001b[0m\u001b[32mE\u001b[0m\u001b[32mN\u001b[0m\u001b[32mT\u001b[0m\u001b[32mI\u001b[0m\u001b[32mR\u001b[0m\u001b[32mE\u001b[0m\u001b[32mL\u001b[0m\u001b[32mY\u001b[0m\u001b[32m \u001b[0m\u001b[32mE\u001b[0m\u001b[32mN\u001b[0m\u001b[32mC\u001b[0m\u001b[32mL\u001b[0m\u001b[32mO\u001b[0m\u001b[32mS\u001b[0m\u001b[32mE\u001b[0m\u001b[32mD\u001b[0m\u001b[32m \u001b[0m\u001b[32mI\u001b[0m\u001b[32mN\u001b[0m\u001b[32m \u001b[0m\u001b[32mO\u001b[0m\u001b[32mN\u001b[0m\u001b[32mE\u001b[0m\u001b[32m \u001b[0m\u001b[32mP\u001b[0m\u001b[32mA\u001b[0m\u001b[32mI\u001b[0m\u001b[32mR\u001b[0m\u001b[32m \u001b[0m\u001b[32mO\u001b[0m\u001b[32mF\u001b[0m\u001b[32m \u001b[0m\u001b[32mT\u001b[0m\u001b[32mR\u001b[0m\u001b[32mI\u001b[0m\u001b[32mP\u001b[0m\u001b[32mL\u001b[0m\u001b[32mE\u001b[0m\u001b[32m \u001b[0m\u001b[32mB\u001b[0m\u001b[32mA\u001b[0m\u001b[32mC\u001b[0m\u001b[32mK\u001b[0m\u001b[32mT\u001b[0m\u001b[32mI\u001b[0m\u001b[32mC\u001b[0m\u001b[32mK\u001b[0m\u001b[32mS\u001b[0m\u001b[32m \u001b[0m\u001b[32m(\u001b[0m\u001b[32m\"\u001b[0m\u001b[32m`\u001b[0m\u001b[32m`\u001b[0m\u001b[32m`\u001b[0m\u001b[32m\"\u001b[0m\u001b[32m)\u001b[0m\u001b[32m.\u001b[0m\u001b[32m\n",
      "\u001b[0m\u001b[32m\n",
      "\u001b[0m\u001b[32mC\u001b[0m\u001b[32mU\u001b[0m\u001b[32mR\u001b[0m\u001b[32mR\u001b[0m\u001b[32mE\u001b[0m\u001b[32mN\u001b[0m\u001b[32mT\u001b[0m\u001b[32m \u001b[0m\u001b[32mC\u001b[0m\u001b[32mO\u001b[0m\u001b[32mD\u001b[0m\u001b[32mE\u001b[0m\u001b[32m \u001b[0m\u001b[32mS\u001b[0m\u001b[32mN\u001b[0m\u001b[32mI\u001b[0m\u001b[32mP\u001b[0m\u001b[32mP\u001b[0m\u001b[32mE\u001b[0m\u001b[32mT\u001b[0m\u001b[32m:\u001b[0m\u001b[32m\n",
      "\u001b[0m\u001b[32mD\u001b[0m\u001b[32mE\u001b[0m\u001b[32mF\u001b[0m\u001b[32m \u001b[0m\u001b[32mB\u001b[0m\u001b[32mU\u001b[0m\u001b[32mB\u001b[0m\u001b[32mB\u001b[0m\u001b[32mL\u001b[0m\u001b[32mE\u001b[0m\u001b[32m_\u001b[0m\u001b[32mS\u001b[0m\u001b[32mO\u001b[0m\u001b[32mR\u001b[0m\u001b[32mT\u001b[0m\u001b[32m(\u001b[0m\u001b[32mN\u001b[0m\u001b[32mU\u001b[0m\u001b[32mM\u001b[0m\u001b[32mS\u001b[0m\u001b[32m)\u001b[0m\u001b[32m:\u001b[0m\u001b[32m\n",
      "\u001b[0m\u001b[32m \u001b[0m\u001b[32m \u001b[0m\u001b[32m \u001b[0m\u001b[32m \u001b[0m\u001b[32mF\u001b[0m\u001b[32mO\u001b[0m\u001b[32mR\u001b[0m\u001b[32m \u001b[0m\u001b[32mI\u001b[0m\u001b[32m \u001b[0m\u001b[32mI\u001b[0m\u001b[32mN\u001b[0m\u001b[32m \u001b[0m\u001b[32mR\u001b[0m\u001b[32mA\u001b[0m\u001b[32mN\u001b[0m\u001b[32mG\u001b[0m\u001b[32mE\u001b[0m\u001b[32m(\u001b[0m\u001b[32mL\u001b[0m\u001b[32mE\u001b[0m\u001b[32mN\u001b[0m\u001b[32m(\u001b[0m\u001b[32mN\u001b[0m\u001b[32mU\u001b[0m\u001b[32mM\u001b[0m\u001b[32mS\u001b[0m\u001b[32m)\u001b[0m\u001b[32m)\u001b[0m\u001b[32m:\u001b[0m\u001b[32m\n",
      "\u001b[0m\u001b[32m \u001b[0m\u001b[32m \u001b[0m\u001b[32m \u001b[0m\u001b[32m \u001b[0m\u001b[32m \u001b[0m\u001b[32m \u001b[0m\u001b[32m \u001b[0m\u001b[32m \u001b[0m\u001b[32mF\u001b[0m\u001b[32mO\u001b[0m\u001b[32mR\u001b[0m\u001b[32m \u001b[0m\u001b[32mJ\u001b[0m\u001b[32m \u001b[0m\u001b[32mI\u001b[0m\u001b[32mN\u001b[0m\u001b[32m \u001b[0m\u001b[32mR\u001b[0m\u001b[32mA\u001b[0m\u001b[32mN\u001b[0m\u001b[32mG\u001b[0m\u001b[32mE\u001b[0m\u001b[32m(\u001b[0m\u001b[32mL\u001b[0m\u001b[32mE\u001b[0m\u001b[32mN\u001b[0m\u001b[32m(\u001b[0m\u001b[32mN\u001b[0m\u001b[32mU\u001b[0m\u001b[32mM\u001b[0m\u001b[32mS\u001b[0m\u001b[32m)\u001b[0m\u001b[32m)\u001b[0m\u001b[32m:\u001b[0m\u001b[32m\n",
      "\u001b[0m\u001b[32m \u001b[0m\u001b[32m \u001b[0m\u001b[32m \u001b[0m\u001b[32m \u001b[0m\u001b[32m \u001b[0m\u001b[32m \u001b[0m\u001b[32m \u001b[0m\u001b[32m \u001b[0m\u001b[32m \u001b[0m\u001b[32m \u001b[0m\u001b[32m \u001b[0m\u001b[32m \u001b[0m\u001b[32mI\u001b[0m\u001b[32mF\u001b[0m\u001b[32m \u001b[0m\u001b[32mN\u001b[0m\u001b[32mU\u001b[0m\u001b[32mM\u001b[0m\u001b[32mS\u001b[0m\u001b[32m[\u001b[0m\u001b[32mJ\u001b[0m\u001b[32m]\u001b[0m\u001b[32m \u001b[0m\u001b[32m>\u001b[0m\u001b[32m \u001b[0m\u001b[32mN\u001b[0m\u001b[32mU\u001b[0m\u001b[32mM\u001b[0m\u001b[32mS\u001b[0m\u001b[32m[\u001b[0m\u001b[32mJ\u001b[0m\u001b[32m \u001b[0m\u001b[32m+\u001b[0m\u001b[32m \u001b[0m\u001b[32m1\u001b[0m\u001b[32m]\u001b[0m\u001b[32m:\u001b[0m\u001b[32m\n",
      "\u001b[0m\u001b[32m \u001b[0m\u001b[32m \u001b[0m\u001b[32m \u001b[0m\u001b[32m \u001b[0m\u001b[32m \u001b[0m\u001b[32m \u001b[0m\u001b[32m \u001b[0m\u001b[32m \u001b[0m\u001b[32m \u001b[0m\u001b[32m \u001b[0m\u001b[32m \u001b[0m\u001b[32m \u001b[0m\u001b[32m \u001b[0m\u001b[32m \u001b[0m\u001b[32m \u001b[0m\u001b[32m \u001b[0m\u001b[32mN\u001b[0m\u001b[32mU\u001b[0m\u001b[32mM\u001b[0m\u001b[32mS\u001b[0m\u001b[32m[\u001b[0m\u001b[32mJ\u001b[0m\u001b[32m \u001b[0m\u001b[32m+\u001b[0m\u001b[32m \u001b[0m\u001b[32m1\u001b[0m\u001b[32m]\u001b[0m\u001b[32m,\u001b[0m\u001b[32m \u001b[0m\u001b[32mN\u001b[0m\u001b[32mU\u001b[0m\u001b[32mM\u001b[0m\u001b[32mS\u001b[0m\u001b[32m[\u001b[0m\u001b[32mJ\u001b[0m\u001b[32m]\u001b[0m\u001b[32m \u001b[0m\u001b[32m=\u001b[0m\u001b[32m \u001b[0m\u001b[32mN\u001b[0m\u001b[32mU\u001b[0m\u001b[32mM\u001b[0m\u001b[32mS\u001b[0m\u001b[32m[\u001b[0m\u001b[32mJ\u001b[0m\u001b[32m]\u001b[0m\u001b[32m,\u001b[0m\u001b[32m \u001b[0m\u001b[32mN\u001b[0m\u001b[32mU\u001b[0m\u001b[32mM\u001b[0m\u001b[32mS\u001b[0m\u001b[32m[\u001b[0m\u001b[32mJ\u001b[0m\u001b[32m \u001b[0m\u001b[32m+\u001b[0m\u001b[32m \u001b[0m\u001b[32m1\u001b[0m\u001b[32m]\u001b[0m\u001b[32m\n",
      "\u001b[0m\u001b[32m \u001b[0m\u001b[32m \u001b[0m\u001b[32m \u001b[0m\u001b[32m \u001b[0m\u001b[32mR\u001b[0m\u001b[32mE\u001b[0m\u001b[32mT\u001b[0m\u001b[32mU\u001b[0m\u001b[32mR\u001b[0m\u001b[32mN\u001b[0m\u001b[32m \u001b[0m\u001b[32mN\u001b[0m\u001b[32mU\u001b[0m\u001b[32mM\u001b[0m\u001b[32mS\u001b[0m\u001b[32m\n",
      "\u001b[0m\u001b[32m\n",
      "\u001b[0m\u001b[32mS\u001b[0m\u001b[32mT\u001b[0m\u001b[32mA\u001b[0m\u001b[32mC\u001b[0m\u001b[32mK\u001b[0m\u001b[32m \u001b[0m\u001b[32mT\u001b[0m\u001b[32mR\u001b[0m\u001b[32mA\u001b[0m\u001b[32mC\u001b[0m\u001b[32mE\u001b[0m\u001b[32m:\u001b[0m\u001b[32m\n",
      "\u001b[0m\u001b[32mT\u001b[0m\u001b[32mR\u001b[0m\u001b[32mA\u001b[0m\u001b[32mC\u001b[0m\u001b[32mE\u001b[0m\u001b[32mB\u001b[0m\u001b[32mA\u001b[0m\u001b[32mC\u001b[0m\u001b[32mK\u001b[0m\u001b[32m \u001b[0m\u001b[32m(\u001b[0m\u001b[32mM\u001b[0m\u001b[32mO\u001b[0m\u001b[32mS\u001b[0m\u001b[32mT\u001b[0m\u001b[32m \u001b[0m\u001b[32mR\u001b[0m\u001b[32mE\u001b[0m\u001b[32mC\u001b[0m\u001b[32mE\u001b[0m\u001b[32mN\u001b[0m\u001b[32mT\u001b[0m\u001b[32m \u001b[0m\u001b[32mC\u001b[0m\u001b[32mA\u001b[0m\u001b[32mL\u001b[0m\u001b[32mL\u001b[0m\u001b[32m \u001b[0m\u001b[32mL\u001b[0m\u001b[32mA\u001b[0m\u001b[32mS\u001b[0m\u001b[32mT\u001b[0m\u001b[32m)\u001b[0m\u001b[32m:\u001b[0m\u001b[32m\n",
      "\u001b[0m\u001b[32m \u001b[0m\u001b[32m \u001b[0m\u001b[32mF\u001b[0m\u001b[32mI\u001b[0m\u001b[32mL\u001b[0m\u001b[32mE\u001b[0m\u001b[32m \u001b[0m\u001b[32m\"\u001b[0m\u001b[32m/\u001b[0m\u001b[32mU\u001b[0m\u001b[32mS\u001b[0m\u001b[32mE\u001b[0m\u001b[32mR\u001b[0m\u001b[32mS\u001b[0m\u001b[32m/\u001b[0m\u001b[32mH\u001b[0m\u001b[32mM\u001b[0m\u001b[32mA\u001b[0m\u001b[32mM\u001b[0m\u001b[32mI\u001b[0m\u001b[32mN\u001b[0m\u001b[32m/\u001b[0m\u001b[32mA\u001b[0m\u001b[32mN\u001b[0m\u001b[32mA\u001b[0m\u001b[32mC\u001b[0m\u001b[32mO\u001b[0m\u001b[32mN\u001b[0m\u001b[32mD\u001b[0m\u001b[32mA\u001b[0m\u001b[32m3\u001b[0m\u001b[32m/\u001b[0m\u001b[32mE\u001b[0m\u001b[32mN\u001b[0m\u001b[32mV\u001b[0m\u001b[32mS\u001b[0m\u001b[32m/\u001b[0m\u001b[32mP\u001b[0m\u001b[32mY\u001b[0m\u001b[32m3\u001b[0m\u001b[32m8\u001b[0m\u001b[32m/\u001b[0m\u001b[32mL\u001b[0m\u001b[32mI\u001b[0m\u001b[32mB\u001b[0m\u001b[32m/\u001b[0m\u001b[32mP\u001b[0m\u001b[32mY\u001b[0m\u001b[32mT\u001b[0m\u001b[32mH\u001b[0m\u001b[32mO\u001b[0m\u001b[32mN\u001b[0m\u001b[32m3\u001b[0m\u001b[32m.\u001b[0m\u001b[32m8\u001b[0m\u001b[32m/\u001b[0m\u001b[32mS\u001b[0m\u001b[32mI\u001b[0m\u001b[32mT\u001b[0m\u001b[32mE\u001b[0m\u001b[32m-\u001b[0m\u001b[32mP\u001b[0m\u001b[32mA\u001b[0m\u001b[32mC\u001b[0m\u001b[32mK\u001b[0m\u001b[32mA\u001b[0m\u001b[32mG\u001b[0m\u001b[32mE\u001b[0m\u001b[32mS\u001b[0m\u001b[32m/\u001b[0m\u001b[32mI\u001b[0m\u001b[32mP\u001b[0m\u001b[32mY\u001b[0m\u001b[32mT\u001b[0m\u001b[32mH\u001b[0m\u001b[32mO\u001b[0m\u001b[32mN\u001b[0m\u001b[32m/\u001b[0m\u001b[32mC\u001b[0m\u001b[32mO\u001b[0m\u001b[32mR\u001b[0m\u001b[32mE\u001b[0m\u001b[32m/\u001b[0m\u001b[32mI\u001b[0m\u001b[32mN\u001b[0m\u001b[32mT\u001b[0m\u001b[32mE\u001b[0m\u001b[32mR\u001b[0m\u001b[32mA\u001b[0m\u001b[32mC\u001b[0m\u001b[32mT\u001b[0m\u001b[32mI\u001b[0m\u001b[32mV\u001b[0m\u001b[32mE\u001b[0m\u001b[32mS\u001b[0m\u001b[32mH\u001b[0m\u001b[32mE\u001b[0m\u001b[32mL\u001b[0m\u001b[32mL\u001b[0m\u001b[32m.\u001b[0m\u001b[32mP\u001b[0m\u001b[32mY\u001b[0m\u001b[32m\"\u001b[0m\u001b[32m,\u001b[0m\u001b[32m \u001b[0m\u001b[32mL\u001b[0m\u001b[32mI\u001b[0m\u001b[32mN\u001b[0m\u001b[32mE\u001b[0m\u001b[32m \u001b[0m\u001b[32m3\u001b[0m\u001b[32m4\u001b[0m\u001b[32m4\u001b[0m\u001b[32m1\u001b[0m\u001b[32m,\u001b[0m\u001b[32m \u001b[0m\u001b[32mI\u001b[0m\u001b[32mN\u001b[0m\u001b[32m \u001b[0m\u001b[32mR\u001b[0m\u001b[32mU\u001b[0m\u001b[32mN\u001b[0m\u001b[32m_\u001b[0m\u001b[32mC\u001b[0m\u001b[32mO\u001b[0m\u001b[32mD\u001b[0m\u001b[32mE\u001b[0m\u001b[32m\n",
      "\u001b[0m\u001b[32m \u001b[0m\u001b[32m \u001b[0m\u001b[32m \u001b[0m\u001b[32m \u001b[0m\u001b[32mE\u001b[0m\u001b[32mX\u001b[0m\u001b[32mE\u001b[0m\u001b[32mC\u001b[0m\u001b[32m(\u001b[0m\u001b[32mC\u001b[0m\u001b[32mO\u001b[0m\u001b[32mD\u001b[0m\u001b[32mE\u001b[0m\u001b[32m_\u001b[0m\u001b[32mO\u001b[0m\u001b[32mB\u001b[0m\u001b[32mJ\u001b[0m\u001b[32m,\u001b[0m\u001b[32m \u001b[0m\u001b[32mS\u001b[0m\u001b[32mE\u001b[0m\u001b[32mL\u001b[0m\u001b[32mF\u001b[0m\u001b[32m.\u001b[0m\u001b[32mU\u001b[0m\u001b[32mS\u001b[0m\u001b[32mE\u001b[0m\u001b[32mR\u001b[0m\u001b[32m_\u001b[0m\u001b[32mG\u001b[0m\u001b[32mL\u001b[0m\u001b[32mO\u001b[0m\u001b[32mB\u001b[0m\u001b[32mA\u001b[0m\u001b[32mL\u001b[0m\u001b[32m_\u001b[0m\u001b[32mN\u001b[0m\u001b[32mS\u001b[0m\u001b[32m,\u001b[0m\u001b[32m \u001b[0m\u001b[32mS\u001b[0m\u001b[32mE\u001b[0m\u001b[32mL\u001b[0m\u001b[32mF\u001b[0m\u001b[32m.\u001b[0m\u001b[32mU\u001b[0m\u001b[32mS\u001b[0m\u001b[32mE\u001b[0m\u001b[32mR\u001b[0m\u001b[32m_\u001b[0m\u001b[32mN\u001b[0m\u001b[32mS\u001b[0m\u001b[32m)\u001b[0m\u001b[32m\n",
      "\u001b[0m\u001b[32m \u001b[0m\u001b[32m \u001b[0m\u001b[32mF\u001b[0m\u001b[32mI\u001b[0m\u001b[32mL\u001b[0m\u001b[32mE\u001b[0m\u001b[32m \u001b[0m\u001b[32m\"\u001b[0m\u001b[32m<\u001b[0m\u001b[32mI\u001b[0m\u001b[32mP\u001b[0m\u001b[32mY\u001b[0m\u001b[32mT\u001b[0m\u001b[32mH\u001b[0m\u001b[32mO\u001b[0m\u001b[32mN\u001b[0m\u001b[32m-\u001b[0m\u001b[32mI\u001b[0m\u001b[32mN\u001b[0m\u001b[32mP\u001b[0m\u001b[32mU\u001b[0m\u001b[32mT\u001b[0m\u001b[32m-\u001b[0m\u001b[32m2\u001b[0m\u001b[32m8\u001b[0m\u001b[32m-\u001b[0m\u001b[32m8\u001b[0m\u001b[32m4\u001b[0m\u001b[32m8\u001b[0m\u001b[32m7\u001b[0m\u001b[32m5\u001b[0m\u001b[32m6\u001b[0m\u001b[32m0\u001b[0m\u001b[32m5\u001b[0m\u001b[32mC\u001b[0m\u001b[32mC\u001b[0m\u001b[32mE\u001b[0m\u001b[32mA\u001b[0m\u001b[32m>\u001b[0m\u001b[32m\"\u001b[0m\u001b[32m,\u001b[0m\u001b[32m \u001b[0m\u001b[32mL\u001b[0m\u001b[32mI\u001b[0m\u001b[32mN\u001b[0m\u001b[32mE\u001b[0m\u001b[32m \u001b[0m\u001b[32m1\u001b[0m\u001b[32m,\u001b[0m\u001b[32m \u001b[0m\u001b[32mI\u001b[0m\u001b[32mN\u001b[0m\u001b[32m \u001b[0m\u001b[32m<\u001b[0m\u001b[32mM\u001b[0m\u001b[32mO\u001b[0m\u001b[32mD\u001b[0m\u001b[32mU\u001b[0m\u001b[32mL\u001b[0m\u001b[32mE\u001b[0m\u001b[32m>\u001b[0m\u001b[32m\n",
      "\u001b[0m\u001b[32m \u001b[0m\u001b[32m \u001b[0m\u001b[32m \u001b[0m\u001b[32m \u001b[0m\u001b[32mR\u001b[0m\u001b[32mE\u001b[0m\u001b[32mS\u001b[0m\u001b[32m \u001b[0m\u001b[32m=\u001b[0m\u001b[32m \u001b[0m\u001b[32mB\u001b[0m\u001b[32mU\u001b[0m\u001b[32mB\u001b[0m\u001b[32mB\u001b[0m\u001b[32mL\u001b[0m\u001b[32mE\u001b[0m\u001b[32m_\u001b[0m\u001b[32mS\u001b[0m\u001b[32mO\u001b[0m\u001b[32mR\u001b[0m\u001b[32mT\u001b[0m\u001b[32m(\u001b[0m\u001b[32mN\u001b[0m\u001b[32mU\u001b[0m\u001b[32mM\u001b[0m\u001b[32mS\u001b[0m\u001b[32m)\u001b[0m\u001b[32m\n",
      "\u001b[0m\u001b[32m \u001b[0m\u001b[32m \u001b[0m\u001b[32mF\u001b[0m\u001b[32mI\u001b[0m\u001b[32mL\u001b[0m\u001b[32mE\u001b[0m\u001b[32m \u001b[0m\u001b[32m\"\u001b[0m\u001b[32m<\u001b[0m\u001b[32mI\u001b[0m\u001b[32mP\u001b[0m\u001b[32mY\u001b[0m\u001b[32mT\u001b[0m\u001b[32mH\u001b[0m\u001b[32mO\u001b[0m\u001b[32mN\u001b[0m\u001b[32m-\u001b[0m\u001b[32mI\u001b[0m\u001b[32mN\u001b[0m\u001b[32mP\u001b[0m\u001b[32mU\u001b[0m\u001b[32mT\u001b[0m\u001b[32m-\u001b[0m\u001b[32m2\u001b[0m\u001b[32m5\u001b[0m\u001b[32m-\u001b[0m\u001b[32m3\u001b[0m\u001b[32mF\u001b[0m\u001b[32m1\u001b[0m\u001b[32m2\u001b[0m\u001b[32mA\u001b[0m\u001b[32m9\u001b[0m\u001b[32mF\u001b[0m\u001b[32m4\u001b[0m\u001b[32m3\u001b[0m\u001b[32m4\u001b[0m\u001b[32mA\u001b[0m\u001b[32m7\u001b[0m\u001b[32m>\u001b[0m\u001b[32m\"\u001b[0m\u001b[32m,\u001b[0m\u001b[32m \u001b[0m\u001b[32mL\u001b[0m\u001b[32mI\u001b[0m\u001b[32mN\u001b[0m\u001b[32mE\u001b[0m\u001b[32m \u001b[0m\u001b[32m4\u001b[0m\u001b[32m,\u001b[0m\u001b[32m \u001b[0m\u001b[32mI\u001b[0m\u001b[32mN\u001b[0m\u001b[32m \u001b[0m\u001b[32mB\u001b[0m\u001b[32mU\u001b[0m\u001b[32mB\u001b[0m\u001b[32mB\u001b[0m\u001b[32mL\u001b[0m\u001b[32mE\u001b[0m\u001b[32m_\u001b[0m\u001b[32mS\u001b[0m\u001b[32mO\u001b[0m\u001b[32mR\u001b[0m\u001b[32mT\u001b[0m\u001b[32m\n",
      "\u001b[0m\u001b[32m \u001b[0m\u001b[32m \u001b[0m\u001b[32m \u001b[0m\u001b[32m \u001b[0m\u001b[32mI\u001b[0m\u001b[32mF\u001b[0m\u001b[32m \u001b[0m\u001b[32mN\u001b[0m\u001b[32mU\u001b[0m\u001b[32mM\u001b[0m\u001b[32mS\u001b[0m\u001b[32m[\u001b[0m\u001b[32mJ\u001b[0m\u001b[32m]\u001b[0m\u001b[32m \u001b[0m\u001b[32m>\u001b[0m\u001b[32m \u001b[0m\u001b[32mN\u001b[0m\u001b[32mU\u001b[0m\u001b[32mM\u001b[0m\u001b[32mS\u001b[0m\u001b[32m[\u001b[0m\u001b[32mJ\u001b[0m\u001b[32m \u001b[0m\u001b[32m+\u001b[0m\u001b[32m \u001b[0m\u001b[32m1\u001b[0m\u001b[32m]\u001b[0m\u001b[32m:\u001b[0m\u001b[32m\n",
      "\u001b[0m\u001b[32mI\u001b[0m\u001b[32mN\u001b[0m\u001b[32mD\u001b[0m\u001b[32mE\u001b[0m\u001b[32mX\u001b[0m\u001b[32mE\u001b[0m\u001b[32mR\u001b[0m\u001b[32mR\u001b[0m\u001b[32mO\u001b[0m\u001b[32mR\u001b[0m\u001b[32m:\u001b[0m\u001b[32m \u001b[0m\u001b[32mL\u001b[0m\u001b[32mI\u001b[0m\u001b[32mS\u001b[0m\u001b[32mT\u001b[0m\u001b[32m \u001b[0m\u001b[32mI\u001b[0m\u001b[32mN\u001b[0m\u001b[32mD\u001b[0m\u001b[32mE\u001b[0m\u001b[32mX\u001b[0m\u001b[32m \u001b[0m\u001b[32mO\u001b[0m\u001b[32mU\u001b[0m\u001b[32mT\u001b[0m\u001b[32m \u001b[0m\u001b[32mO\u001b[0m\u001b[32mF\u001b[0m\u001b[32m \u001b[0m\u001b[32mR\u001b[0m\u001b[32mA\u001b[0m\u001b[32mN\u001b[0m\u001b[32mG\u001b[0m\u001b[32mE\u001b[0m\u001b[32m\n",
      "\u001b[0m\u001b[32m\n",
      "\u001b[0m\u001b[32m\n",
      "\u001b[0m\u001b[32mN\u001b[0m\u001b[32mE\u001b[0m\u001b[32mX\u001b[0m\u001b[32mT\u001b[0m\u001b[32m \u001b[0m\u001b[32mL\u001b[0m\u001b[32mI\u001b[0m\u001b[32mN\u001b[0m\u001b[32mE\u001b[0m\u001b[32m:\u001b[0m\u001b[32m\n",
      "\u001b[0m\u001b[32m \u001b[0m\u001b[32m \u001b[0m\u001b[32m \u001b[0m\u001b[32m \u001b[0m\u001b[32m \u001b[0m\u001b[32m \u001b[0m\u001b[32m \u001b[0m\u001b[32m \u001b[0m\u001b[32m \u001b[0m\u001b[32m \u001b[0m\u001b[32m \u001b[0m\u001b[32m \u001b[0m\u001b[32mI\u001b[0m\u001b[32mF\u001b[0m\u001b[32m \u001b[0m\u001b[32mN\u001b[0m\u001b[32mU\u001b[0m\u001b[32mM\u001b[0m\u001b[32mS\u001b[0m\u001b[32m[\u001b[0m\u001b[32mJ\u001b[0m\u001b[32m]\u001b[0m\u001b[32m \u001b[0m\u001b[32m>\u001b[0m\u001b[32m \u001b[0m\u001b[32mN\u001b[0m\u001b[32mU\u001b[0m\u001b[32mM\u001b[0m\u001b[32mS\u001b[0m\u001b[32m[\u001b[0m\u001b[32mJ\u001b[0m\u001b[32m \u001b[0m\u001b[32m+\u001b[0m\u001b[32m \u001b[0m\u001b[32m1\u001b[0m\u001b[32m]\u001b[0m\u001b[32m:\u001b[0m\u001b[32m\n",
      "\u001b[0m\u001b[32m\n",
      "\u001b[0m\u001b[32mL\u001b[0m\u001b[32mO\u001b[0m\u001b[32mC\u001b[0m\u001b[32mA\u001b[0m\u001b[32mL\u001b[0m\u001b[32m \u001b[0m\u001b[32mV\u001b[0m\u001b[32mA\u001b[0m\u001b[32mR\u001b[0m\u001b[32mI\u001b[0m\u001b[32mA\u001b[0m\u001b[32mB\u001b[0m\u001b[32mL\u001b[0m\u001b[32mE\u001b[0m\u001b[32mS\u001b[0m\u001b[32m:\u001b[0m\u001b[32m\n",
      "\u001b[0m\u001b[32m{\u001b[0m\u001b[32m\n"
     ]
    },
    {
     "name": "stdout",
     "output_type": "stream",
     "text": [
      "\u001b[0m\u001b[32m \u001b[0m\u001b[32m \u001b[0m\u001b[32m \u001b[0m\u001b[32m \u001b[0m\u001b[32m'\u001b[0m\u001b[32mN\u001b[0m\u001b[32mU\u001b[0m\u001b[32mM\u001b[0m\u001b[32mS\u001b[0m\u001b[32m'\u001b[0m\u001b[32m:\u001b[0m\u001b[32m \u001b[0m\u001b[32m[\u001b[0m\u001b[32m1\u001b[0m\u001b[32m,\u001b[0m\u001b[32m \u001b[0m\u001b[32m3\u001b[0m\u001b[32m,\u001b[0m\u001b[32m \u001b[0m\u001b[32m4\u001b[0m\u001b[32m,\u001b[0m\u001b[32m \u001b[0m\u001b[32m-\u001b[0m\u001b[32m1\u001b[0m\u001b[32m0\u001b[0m\u001b[32m0\u001b[0m\u001b[32m,\u001b[0m\u001b[32m \u001b[0m\u001b[32m5\u001b[0m\u001b[32m,\u001b[0m\u001b[32m \u001b[0m\u001b[32m5\u001b[0m\u001b[32m,\u001b[0m\u001b[32m \u001b[0m\u001b[32m5\u001b[0m\u001b[32m,\u001b[0m\u001b[32m \u001b[0m\u001b[32m9\u001b[0m\u001b[32m,\u001b[0m\u001b[32m \u001b[0m\u001b[32m2\u001b[0m\u001b[32m2\u001b[0m\u001b[32m,\u001b[0m\u001b[32m \u001b[0m\u001b[32m3\u001b[0m\u001b[32m3\u001b[0m\u001b[32m]\u001b[0m\u001b[32m,\u001b[0m\u001b[32m \u001b[0m\u001b[32m \u001b[0m\u001b[32m \u001b[0m\u001b[32m#\u001b[0m\u001b[32m \u001b[0m\u001b[32mT\u001b[0m\u001b[32mY\u001b[0m\u001b[32mP\u001b[0m\u001b[32mE\u001b[0m\u001b[32m:\u001b[0m\u001b[32m \u001b[0m\u001b[32mL\u001b[0m\u001b[32mI\u001b[0m\u001b[32mS\u001b[0m\u001b[32mT\u001b[0m\u001b[32m\n",
      "\u001b[0m\u001b[32m \u001b[0m\u001b[32m \u001b[0m\u001b[32m \u001b[0m\u001b[32m \u001b[0m\u001b[32m'\u001b[0m\u001b[32mI\u001b[0m\u001b[32m'\u001b[0m\u001b[32m:\u001b[0m\u001b[32m \u001b[0m\u001b[32m0\u001b[0m\u001b[32m,\u001b[0m\u001b[32m \u001b[0m\u001b[32m \u001b[0m\u001b[32m \u001b[0m\u001b[32m#\u001b[0m\u001b[32m \u001b[0m\u001b[32mT\u001b[0m\u001b[32mY\u001b[0m\u001b[32mP\u001b[0m\u001b[32mE\u001b[0m\u001b[32m:\u001b[0m\u001b[32m \u001b[0m\u001b[32mI\u001b[0m\u001b[32mN\u001b[0m\u001b[32mT\u001b[0m\u001b[32m\n",
      "\u001b[0m\u001b[32m \u001b[0m\u001b[32m \u001b[0m\u001b[32m \u001b[0m\u001b[32m \u001b[0m\u001b[32m'\u001b[0m\u001b[32mJ\u001b[0m\u001b[32m'\u001b[0m\u001b[32m:\u001b[0m\u001b[32m \u001b[0m\u001b[32m9\u001b[0m\u001b[32m,\u001b[0m\u001b[32m \u001b[0m\u001b[32m \u001b[0m\u001b[32m \u001b[0m\u001b[32m#\u001b[0m\u001b[32m \u001b[0m\u001b[32mT\u001b[0m\u001b[32mY\u001b[0m\u001b[32mP\u001b[0m\u001b[32mE\u001b[0m\u001b[32m:\u001b[0m\u001b[32m \u001b[0m\u001b[32mI\u001b[0m\u001b[32mN\u001b[0m\u001b[32mT\u001b[0m\u001b[32m\n",
      "\u001b[0m\u001b[32m}\u001b[0m\u001b[32m\n",
      "\u001b[0m\u001b[32m\n",
      "\u001b[0m\u001b[32mG\u001b[0m\u001b[32mL\u001b[0m\u001b[32mO\u001b[0m\u001b[32mB\u001b[0m\u001b[32mA\u001b[0m\u001b[32mL\u001b[0m\u001b[32m \u001b[0m\u001b[32mV\u001b[0m\u001b[32mA\u001b[0m\u001b[32mR\u001b[0m\u001b[32mI\u001b[0m\u001b[32mA\u001b[0m\u001b[32mB\u001b[0m\u001b[32mL\u001b[0m\u001b[32mE\u001b[0m\u001b[32mS\u001b[0m\u001b[32m:\u001b[0m\u001b[32m\n",
      "\u001b[0m\u001b[32m{\u001b[0m\u001b[32m\n",
      "\u001b[0m\u001b[32m \u001b[0m\u001b[32m \u001b[0m\u001b[32m \u001b[0m\u001b[32m \u001b[0m\u001b[32m'\u001b[0m\u001b[32mN\u001b[0m\u001b[32mU\u001b[0m\u001b[32mM\u001b[0m\u001b[32mS\u001b[0m\u001b[32m'\u001b[0m\u001b[32m:\u001b[0m\u001b[32m \u001b[0m\u001b[32m[\u001b[0m\u001b[32m1\u001b[0m\u001b[32m,\u001b[0m\u001b[32m \u001b[0m\u001b[32m3\u001b[0m\u001b[32m,\u001b[0m\u001b[32m \u001b[0m\u001b[32m4\u001b[0m\u001b[32m,\u001b[0m\u001b[32m \u001b[0m\u001b[32m-\u001b[0m\u001b[32m1\u001b[0m\u001b[32m0\u001b[0m\u001b[32m0\u001b[0m\u001b[32m,\u001b[0m\u001b[32m \u001b[0m\u001b[32m5\u001b[0m\u001b[32m,\u001b[0m\u001b[32m \u001b[0m\u001b[32m5\u001b[0m\u001b[32m,\u001b[0m\u001b[32m \u001b[0m\u001b[32m5\u001b[0m\u001b[32m,\u001b[0m\u001b[32m \u001b[0m\u001b[32m9\u001b[0m\u001b[32m,\u001b[0m\u001b[32m \u001b[0m\u001b[32m2\u001b[0m\u001b[32m2\u001b[0m\u001b[32m,\u001b[0m\u001b[32m \u001b[0m\u001b[32m3\u001b[0m\u001b[32m3\u001b[0m\u001b[32m]\u001b[0m\u001b[32m,\u001b[0m\u001b[32m \u001b[0m\u001b[32m \u001b[0m\u001b[32m \u001b[0m\u001b[32m#\u001b[0m\u001b[32m \u001b[0m\u001b[32mT\u001b[0m\u001b[32mY\u001b[0m\u001b[32mP\u001b[0m\u001b[32mE\u001b[0m\u001b[32m:\u001b[0m\u001b[32m \u001b[0m\u001b[32mL\u001b[0m\u001b[32mI\u001b[0m\u001b[32mS\u001b[0m\u001b[32mT\u001b[0m\u001b[32m\n",
      "\u001b[0m\u001b[32m}\u001b[0m"
     ]
    }
   ],
   "source": [
    "# Not totally obvious but this does not finish executing. The fact that it\n",
    "# doesn't finish is intended, but it should be obvious that that's the case.\n",
    "res = bubble_sort(nums)\n",
    "print('after code')"
   ]
  },
  {
   "cell_type": "code",
   "execution_count": 29,
   "metadata": {
    "ExecuteTime": {
     "end_time": "2023-04-13T04:34:29.564406Z",
     "start_time": "2023-04-13T04:34:26.023785Z"
    }
   },
   "outputs": [
    {
     "name": "stdout",
     "output_type": "stream",
     "text": [
      "Traceback (most recent call last):\n",
      "  File \"/Users/hmamin/anaconda3/envs/py38/lib/python3.8/site-packages/IPython/core/interactiveshell.py\", line 3441, in run_code\n",
      "    exec(code_obj, self.user_global_ns, self.user_ns)\n",
      "  File \"<ipython-input-29-c08785e04264>\", line 1, in <module>\n",
      "    res\n",
      "NameError: name 'res' is not defined\n",
      "\n",
      "Explain error message? [y/n]\n",
      "n\n"
     ]
    }
   ],
   "source": [
    "res"
   ]
  },
  {
   "cell_type": "code",
   "execution_count": 30,
   "metadata": {
    "ExecuteTime": {
     "end_time": "2023-04-13T04:35:34.029135Z",
     "start_time": "2023-04-13T04:35:33.966413Z"
    }
   },
   "outputs": [
    {
     "name": "stdout",
     "output_type": "stream",
     "text": [
      "In except\n",
      "list index out of range\n"
     ]
    }
   ],
   "source": [
    "# Excepthook does not execute if we catch it.\n",
    "try:\n",
    "    res = bubble_sort(nums)\n",
    "except Exception as e:\n",
    "    print('In except')\n",
    "    print(e)"
   ]
  },
  {
   "cell_type": "code",
   "execution_count": 31,
   "metadata": {
    "ExecuteTime": {
     "end_time": "2023-04-13T04:35:58.315413Z",
     "start_time": "2023-04-13T04:35:58.247042Z"
    }
   },
   "outputs": [],
   "source": [
    "errors.enable(auto=True, chat_class=DummyChatModel)"
   ]
  },
  {
   "cell_type": "code",
   "execution_count": 32,
   "metadata": {
    "ExecuteTime": {
     "end_time": "2023-04-13T04:36:31.616049Z",
     "start_time": "2023-04-13T04:36:06.855335Z"
    }
   },
   "outputs": [
    {
     "name": "stdout",
     "output_type": "stream",
     "text": [
      "Traceback (most recent call last):\n",
      "  File \"/Users/hmamin/anaconda3/envs/py38/lib/python3.8/site-packages/IPython/core/interactiveshell.py\", line 3441, in run_code\n",
      "    exec(code_obj, self.user_global_ns, self.user_ns)\n",
      "  File \"<ipython-input-32-0b73b9fcb66d>\", line 1, in <module>\n",
      "    res = bubble_sort(nums)\n",
      "  File \"<ipython-input-25-3f12a9f434a7>\", line 4, in bubble_sort\n",
      "    if nums[j] > nums[j + 1]:\n",
      "IndexError: list index out of range\n",
      "\n",
      "chat: <roboduck.langchain.chat.DummyChatModel object at 0x7fc01c9d4b80>\n",
      "> <ipython-input-25-3f12a9f434a7>(4)bubble_sort()\n",
      "-> if nums[j] > nums[j + 1]:\n"
     ]
    },
    {
     "name": "stdout",
     "output_type": "stream",
     "text": [
      "\u001b[32m[Duck] \u001b[0m\u001b[32mT\u001b[0m\u001b[32mH\u001b[0m\u001b[32mI\u001b[0m\u001b[32mS\u001b[0m\u001b[32m \u001b[0m\u001b[32mC\u001b[0m\u001b[32mO\u001b[0m\u001b[32mD\u001b[0m\u001b[32mE\u001b[0m\u001b[32m \u001b[0m\u001b[32mS\u001b[0m\u001b[32mN\u001b[0m\u001b[32mI\u001b[0m\u001b[32mP\u001b[0m\u001b[32mP\u001b[0m\u001b[32mE\u001b[0m\u001b[32mT\u001b[0m\u001b[32m \u001b[0m\u001b[32mT\u001b[0m\u001b[32mH\u001b[0m\u001b[32mR\u001b[0m\u001b[32mO\u001b[0m\u001b[32mW\u001b[0m\u001b[32mS\u001b[0m\u001b[32m \u001b[0m\u001b[32mA\u001b[0m\u001b[32mN\u001b[0m\u001b[32m \u001b[0m\u001b[32mE\u001b[0m\u001b[32mR\u001b[0m\u001b[32mR\u001b[0m\u001b[32mO\u001b[0m\u001b[32mR\u001b[0m\u001b[32m.\u001b[0m\u001b[32m \u001b[0m\u001b[32mH\u001b[0m\u001b[32mE\u001b[0m\u001b[32mL\u001b[0m\u001b[32mP\u001b[0m\u001b[32m \u001b[0m\u001b[32mM\u001b[0m\u001b[32mE\u001b[0m\u001b[32m \u001b[0m\u001b[32mF\u001b[0m\u001b[32mI\u001b[0m\u001b[32mX\u001b[0m\u001b[32m \u001b[0m\u001b[32mI\u001b[0m\u001b[32mT\u001b[0m\u001b[32m.\u001b[0m\u001b[32m \u001b[0m\u001b[32mF\u001b[0m\u001b[32mI\u001b[0m\u001b[32mR\u001b[0m\u001b[32mS\u001b[0m\u001b[32mT\u001b[0m\u001b[32m \u001b[0m\u001b[32mE\u001b[0m\u001b[32mX\u001b[0m\u001b[32mA\u001b[0m\u001b[32mM\u001b[0m\u001b[32mI\u001b[0m\u001b[32mN\u001b[0m\u001b[32mE\u001b[0m\u001b[32m \u001b[0m\u001b[32mT\u001b[0m\u001b[32mH\u001b[0m\u001b[32mE\u001b[0m\u001b[32m \u001b[0m\u001b[32mS\u001b[0m\u001b[32mN\u001b[0m\u001b[32mI\u001b[0m\u001b[32mP\u001b[0m\u001b[32mP\u001b[0m\u001b[32mE\u001b[0m\u001b[32mT\u001b[0m\u001b[32m \u001b[0m\u001b[32mO\u001b[0m\u001b[32mF\u001b[0m\u001b[32m \u001b[0m\u001b[32mC\u001b[0m\u001b[32mO\u001b[0m\u001b[32mD\u001b[0m\u001b[32mE\u001b[0m\u001b[32m \u001b[0m\u001b[32mT\u001b[0m\u001b[32mH\u001b[0m\u001b[32mA\u001b[0m\u001b[32mT\u001b[0m\u001b[32m \u001b[0m\u001b[32mC\u001b[0m\u001b[32mA\u001b[0m\u001b[32mU\u001b[0m\u001b[32mS\u001b[0m\u001b[32mE\u001b[0m\u001b[32mS\u001b[0m\u001b[32m \u001b[0m\u001b[32mT\u001b[0m\u001b[32mH\u001b[0m\u001b[32mE\u001b[0m\u001b[32m \u001b[0m\u001b[32mI\u001b[0m\u001b[32mS\u001b[0m\u001b[32mS\u001b[0m\u001b[32mU\u001b[0m\u001b[32mE\u001b[0m\u001b[32m \u001b[0m\u001b[32mA\u001b[0m\u001b[32mN\u001b[0m\u001b[32mD\u001b[0m\u001b[32m \u001b[0m\u001b[32mL\u001b[0m\u001b[32mO\u001b[0m\u001b[32mO\u001b[0m\u001b[32mK\u001b[0m\u001b[32m \u001b[0m\u001b[32mA\u001b[0m\u001b[32mT\u001b[0m\u001b[32m \u001b[0m\u001b[32mT\u001b[0m\u001b[32mH\u001b[0m\u001b[32mE\u001b[0m\u001b[32m \u001b[0m\u001b[32mV\u001b[0m\u001b[32mA\u001b[0m\u001b[32mL\u001b[0m\u001b[32mU\u001b[0m\u001b[32mE\u001b[0m\u001b[32mS\u001b[0m\u001b[32m \u001b[0m\u001b[32mO\u001b[0m\u001b[32mF\u001b[0m\u001b[32m \u001b[0m\u001b[32mT\u001b[0m\u001b[32mH\u001b[0m\u001b[32mE\u001b[0m\u001b[32m \u001b[0m\u001b[32mL\u001b[0m\u001b[32mO\u001b[0m\u001b[32mC\u001b[0m\u001b[32mA\u001b[0m\u001b[32mL\u001b[0m\u001b[32m \u001b[0m\u001b[32mA\u001b[0m\u001b[32mN\u001b[0m\u001b[32mD\u001b[0m\u001b[32m \u001b[0m\u001b[32mG\u001b[0m\u001b[32mL\u001b[0m\u001b[32mO\u001b[0m\u001b[32mB\u001b[0m\u001b[32mA\u001b[0m\u001b[32mL\u001b[0m\u001b[32m \u001b[0m\u001b[32mV\u001b[0m\u001b[32mA\u001b[0m\u001b[32mR\u001b[0m\u001b[32mI\u001b[0m\u001b[32mA\u001b[0m\u001b[32mB\u001b[0m\u001b[32mL\u001b[0m\u001b[32mE\u001b[0m\u001b[32mS\u001b[0m\u001b[32m.\u001b[0m\u001b[32m \u001b[0m\u001b[32mT\u001b[0m\u001b[32mH\u001b[0m\u001b[32mE\u001b[0m\u001b[32mN\u001b[0m\u001b[32m \u001b[0m\u001b[32mP\u001b[0m\u001b[32mR\u001b[0m\u001b[32mO\u001b[0m\u001b[32mV\u001b[0m\u001b[32mI\u001b[0m\u001b[32mD\u001b[0m\u001b[32mE\u001b[0m\u001b[32m \u001b[0m\u001b[32mA\u001b[0m\u001b[32m \u001b[0m\u001b[32mR\u001b[0m\u001b[32mE\u001b[0m\u001b[32mS\u001b[0m\u001b[32mP\u001b[0m\u001b[32mO\u001b[0m\u001b[32mN\u001b[0m\u001b[32mS\u001b[0m\u001b[32mE\u001b[0m\u001b[32m \u001b[0m\u001b[32mW\u001b[0m\u001b[32mI\u001b[0m\u001b[32mT\u001b[0m\u001b[32mH\u001b[0m\u001b[32m \u001b[0m\u001b[32mE\u001b[0m\u001b[32mX\u001b[0m\u001b[32mA\u001b[0m\u001b[32mC\u001b[0m\u001b[32mT\u001b[0m\u001b[32mL\u001b[0m\u001b[32mY\u001b[0m\u001b[32m \u001b[0m\u001b[32mT\u001b[0m\u001b[32mW\u001b[0m\u001b[32mO\u001b[0m\u001b[32m \u001b[0m\u001b[32mS\u001b[0m\u001b[32mE\u001b[0m\u001b[32mC\u001b[0m\u001b[32mT\u001b[0m\u001b[32mI\u001b[0m\u001b[32mO\u001b[0m\u001b[32mN\u001b[0m\u001b[32mS\u001b[0m\u001b[32m,\u001b[0m\u001b[32m \u001b[0m\u001b[32mS\u001b[0m\u001b[32mE\u001b[0m\u001b[32mP\u001b[0m\u001b[32mA\u001b[0m\u001b[32mR\u001b[0m\u001b[32mA\u001b[0m\u001b[32mT\u001b[0m\u001b[32mE\u001b[0m\u001b[32mD\u001b[0m\u001b[32m \u001b[0m\u001b[32mB\u001b[0m\u001b[32mY\u001b[0m\u001b[32m \u001b[0m\u001b[32mA\u001b[0m\u001b[32mN\u001b[0m\u001b[32m \u001b[0m\u001b[32mE\u001b[0m\u001b[32mM\u001b[0m\u001b[32mP\u001b[0m\u001b[32mT\u001b[0m\u001b[32mY\u001b[0m\u001b[32m \u001b[0m\u001b[32mL\u001b[0m\u001b[32mI\u001b[0m\u001b[32mN\u001b[0m\u001b[32mE\u001b[0m\u001b[32m.\u001b[0m\u001b[32m \u001b[0m\u001b[32m(\u001b[0m\u001b[32mT\u001b[0m\u001b[32mH\u001b[0m\u001b[32mE\u001b[0m\u001b[32mY\u001b[0m\u001b[32m \u001b[0m\u001b[32mS\u001b[0m\u001b[32mH\u001b[0m\u001b[32mO\u001b[0m\u001b[32mU\u001b[0m\u001b[32mL\u001b[0m\u001b[32mD\u001b[0m\u001b[32m \u001b[0m\u001b[32mA\u001b[0m\u001b[32mP\u001b[0m\u001b[32mP\u001b[0m\u001b[32mE\u001b[0m\u001b[32mA\u001b[0m\u001b[32mR\u001b[0m\u001b[32m \u001b[0m\u001b[32mT\u001b[0m\u001b[32mO\u001b[0m\u001b[32m \u001b[0m\u001b[32mT\u001b[0m\u001b[32mH\u001b[0m\u001b[32mE\u001b[0m\u001b[32m \u001b[0m\u001b[32mU\u001b[0m\u001b[32mS\u001b[0m\u001b[32mE\u001b[0m\u001b[32mR\u001b[0m\u001b[32m \u001b[0m\u001b[32mA\u001b[0m\u001b[32mS\u001b[0m\u001b[32m \u001b[0m\u001b[32mA\u001b[0m\u001b[32m \u001b[0m\u001b[32mS\u001b[0m\u001b[32mI\u001b[0m\u001b[32mN\u001b[0m\u001b[32mG\u001b[0m\u001b[32mL\u001b[0m\u001b[32mE\u001b[0m\u001b[32m \u001b[0m\u001b[32mS\u001b[0m\u001b[32mE\u001b[0m\u001b[32mC\u001b[0m\u001b[32mT\u001b[0m\u001b[32mI\u001b[0m\u001b[32mO\u001b[0m\u001b[32mN\u001b[0m\u001b[32m,\u001b[0m\u001b[32m \u001b[0m\u001b[32mH\u001b[0m\u001b[32mO\u001b[0m\u001b[32mW\u001b[0m\u001b[32mE\u001b[0m\u001b[32mV\u001b[0m\u001b[32mE\u001b[0m\u001b[32mR\u001b[0m\u001b[32m \u001b[0m\u001b[32m-\u001b[0m\u001b[32m \u001b[0m\u001b[32mD\u001b[0m\u001b[32mO\u001b[0m\u001b[32m \u001b[0m\u001b[32mN\u001b[0m\u001b[32mO\u001b[0m\u001b[32mT\u001b[0m\u001b[32m \u001b[0m\u001b[32mI\u001b[0m\u001b[32mN\u001b[0m\u001b[32mC\u001b[0m\u001b[32mL\u001b[0m\u001b[32mU\u001b[0m\u001b[32mD\u001b[0m\u001b[32mE\u001b[0m\u001b[32m \u001b[0m\u001b[32mS\u001b[0m\u001b[32mE\u001b[0m\u001b[32mC\u001b[0m\u001b[32mT\u001b[0m\u001b[32mI\u001b[0m\u001b[32mO\u001b[0m\u001b[32mN\u001b[0m\u001b[32m \u001b[0m\u001b[32mT\u001b[0m\u001b[32mI\u001b[0m\u001b[32mT\u001b[0m\u001b[32mL\u001b[0m\u001b[32mE\u001b[0m\u001b[32mS\u001b[0m\u001b[32m \u001b[0m\u001b[32mO\u001b[0m\u001b[32mF\u001b[0m\u001b[32m \u001b[0m\u001b[32mA\u001b[0m\u001b[32mN\u001b[0m\u001b[32mY\u001b[0m\u001b[32m \u001b[0m\u001b[32mK\u001b[0m\u001b[32mI\u001b[0m\u001b[32mN\u001b[0m\u001b[32mD\u001b[0m\u001b[32m.\u001b[0m\u001b[32m)\u001b[0m\u001b[32m \u001b[0m\u001b[32mI\u001b[0m\u001b[32mN\u001b[0m\u001b[32m \u001b[0m\u001b[32mS\u001b[0m\u001b[32mE\u001b[0m\u001b[32mC\u001b[0m\u001b[32mT\u001b[0m\u001b[32mI\u001b[0m\u001b[32mO\u001b[0m\u001b[32mN\u001b[0m\u001b[32m \u001b[0m\u001b[32m1\u001b[0m\u001b[32m,\u001b[0m\u001b[32m \u001b[0m\u001b[32mU\u001b[0m\u001b[32mS\u001b[0m\u001b[32mE\u001b[0m\u001b[32m \u001b[0m\u001b[32mP\u001b[0m\u001b[32mL\u001b[0m\u001b[32mA\u001b[0m\u001b[32mI\u001b[0m\u001b[32mN\u001b[0m\u001b[32m \u001b[0m\u001b[32mE\u001b[0m\u001b[32mN\u001b[0m\u001b[32mG\u001b[0m\u001b[32mL\u001b[0m\u001b[32mI\u001b[0m\u001b[32mS\u001b[0m\u001b[32mH\u001b[0m\u001b[32m \u001b[0m\u001b[32mT\u001b[0m\u001b[32mO\u001b[0m\u001b[32m \u001b[0m\u001b[32mE\u001b[0m\u001b[32mX\u001b[0m\u001b[32mP\u001b[0m\u001b[32mL\u001b[0m\u001b[32mA\u001b[0m\u001b[32mI\u001b[0m\u001b[32mN\u001b[0m\u001b[32m \u001b[0m\u001b[32mW\u001b[0m\u001b[32mH\u001b[0m\u001b[32mA\u001b[0m\u001b[32mT\u001b[0m\u001b[32m \u001b[0m\u001b[32mT\u001b[0m\u001b[32mH\u001b[0m\u001b[32mE\u001b[0m\u001b[32m \u001b[0m\u001b[32mP\u001b[0m\u001b[32mR\u001b[0m\u001b[32mO\u001b[0m\u001b[32mB\u001b[0m\u001b[32mL\u001b[0m\u001b[32mE\u001b[0m\u001b[32mM\u001b[0m\u001b[32m \u001b[0m\u001b[32mI\u001b[0m\u001b[32mS\u001b[0m\u001b[32m \u001b[0m\u001b[32mA\u001b[0m\u001b[32mN\u001b[0m\u001b[32mD\u001b[0m\u001b[32m \u001b[0m\u001b[32mH\u001b[0m\u001b[32mO\u001b[0m\u001b[32mW\u001b[0m\u001b[32m \u001b[0m\u001b[32mT\u001b[0m\u001b[32mO\u001b[0m\u001b[32m \u001b[0m\u001b[32mF\u001b[0m\u001b[32mI\u001b[0m\u001b[32mX\u001b[0m\u001b[32m \u001b[0m\u001b[32mI\u001b[0m\u001b[32mT\u001b[0m\u001b[32m \u001b[0m\u001b[32m(\u001b[0m\u001b[32mI\u001b[0m\u001b[32mF\u001b[0m\u001b[32m \u001b[0m\u001b[32mY\u001b[0m\u001b[32mO\u001b[0m\u001b[32mU\u001b[0m\u001b[32m \u001b[0m\u001b[32mC\u001b[0m\u001b[32mA\u001b[0m\u001b[32mN\u001b[0m\u001b[32m'\u001b[0m\u001b[32mT\u001b[0m\u001b[32m \u001b[0m\u001b[32mI\u001b[0m\u001b[32mD\u001b[0m\u001b[32mE\u001b[0m\u001b[32mN\u001b[0m\u001b[32mT\u001b[0m\u001b[32mI\u001b[0m\u001b[32mF\u001b[0m\u001b[32mY\u001b[0m\u001b[32m \u001b[0m\u001b[32mT\u001b[0m\u001b[32mH\u001b[0m\u001b[32mE\u001b[0m\u001b[32m \u001b[0m\u001b[32mP\u001b[0m\u001b[32mR\u001b[0m\u001b[32mO\u001b[0m\u001b[32mB\u001b[0m\u001b[32mL\u001b[0m\u001b[32mE\u001b[0m\u001b[32mM\u001b[0m\u001b[32m,\u001b[0m\u001b[32m \u001b[0m\u001b[32mS\u001b[0m\u001b[32mE\u001b[0m\u001b[32mC\u001b[0m\u001b[32mT\u001b[0m\u001b[32mI\u001b[0m\u001b[32mO\u001b[0m\u001b[32mN\u001b[0m\u001b[32m \u001b[0m\u001b[32m1\u001b[0m\u001b[32m \u001b[0m\u001b[32mS\u001b[0m\u001b[32mH\u001b[0m\u001b[32mO\u001b[0m\u001b[32mU\u001b[0m\u001b[32mL\u001b[0m\u001b[32mD\u001b[0m\u001b[32m \u001b[0m\u001b[32mI\u001b[0m\u001b[32mN\u001b[0m\u001b[32mS\u001b[0m\u001b[32mT\u001b[0m\u001b[32mE\u001b[0m\u001b[32mA\u001b[0m\u001b[32mD\u001b[0m\u001b[32m \u001b[0m\u001b[32mL\u001b[0m\u001b[32mI\u001b[0m\u001b[32mS\u001b[0m\u001b[32mT\u001b[0m\u001b[32m \u001b[0m\u001b[32mA\u001b[0m\u001b[32m \u001b[0m\u001b[32mF\u001b[0m\u001b[32mE\u001b[0m\u001b[32mW\u001b[0m\u001b[32m \u001b[0m\u001b[32mP\u001b[0m\u001b[32mO\u001b[0m\u001b[32mS\u001b[0m\u001b[32mS\u001b[0m\u001b[32mI\u001b[0m\u001b[32mB\u001b[0m\u001b[32mL\u001b[0m\u001b[32mE\u001b[0m\u001b[32m \u001b[0m\u001b[32mC\u001b[0m\u001b[32mA\u001b[0m\u001b[32mU\u001b[0m\u001b[32mS\u001b[0m\u001b[32mE\u001b[0m\u001b[32mS\u001b[0m\u001b[32m \u001b[0m\u001b[32mO\u001b[0m\u001b[32mR\u001b[0m\u001b[32m \u001b[0m\u001b[32mT\u001b[0m\u001b[32mH\u001b[0m\u001b[32mI\u001b[0m\u001b[32mN\u001b[0m\u001b[32mG\u001b[0m\u001b[32mS\u001b[0m\u001b[32m \u001b[0m\u001b[32mI\u001b[0m\u001b[32m \u001b[0m\u001b[32mC\u001b[0m\u001b[32mO\u001b[0m\u001b[32mU\u001b[0m\u001b[32mL\u001b[0m\u001b[32mD\u001b[0m\u001b[32m \u001b[0m\u001b[32mT\u001b[0m\u001b[32mR\u001b[0m\u001b[32mY\u001b[0m\u001b[32m \u001b[0m\u001b[32mI\u001b[0m\u001b[32mN\u001b[0m\u001b[32m \u001b[0m\u001b[32mO\u001b[0m\u001b[32mR\u001b[0m\u001b[32mD\u001b[0m\u001b[32mE\u001b[0m\u001b[32mR\u001b[0m\u001b[32m \u001b[0m\u001b[32mT\u001b[0m\u001b[32mO\u001b[0m\u001b[32m \u001b[0m\u001b[32mI\u001b[0m\u001b[32mD\u001b[0m\u001b[32mE\u001b[0m\u001b[32mN\u001b[0m\u001b[32mT\u001b[0m\u001b[32mI\u001b[0m\u001b[32mF\u001b[0m\u001b[32mY\u001b[0m\u001b[32m \u001b[0m\u001b[32mT\u001b[0m\u001b[32mH\u001b[0m\u001b[32mE\u001b[0m\u001b[32m \u001b[0m\u001b[32mI\u001b[0m\u001b[32mS\u001b[0m\u001b[32mS\u001b[0m\u001b[32mU\u001b[0m\u001b[32mE\u001b[0m\u001b[32m)\u001b[0m\u001b[32m.\u001b[0m\u001b[32m \u001b[0m\u001b[32mI\u001b[0m\u001b[32mN\u001b[0m\u001b[32m \u001b[0m\u001b[32mS\u001b[0m\u001b[32mE\u001b[0m\u001b[32mC\u001b[0m\u001b[32mT\u001b[0m\u001b[32mI\u001b[0m\u001b[32mO\u001b[0m\u001b[32mN\u001b[0m\u001b[32m \u001b[0m\u001b[32m2\u001b[0m\u001b[32m,\u001b[0m\u001b[32m \u001b[0m\u001b[32mW\u001b[0m\u001b[32mR\u001b[0m\u001b[32mI\u001b[0m\u001b[32mT\u001b[0m\u001b[32mE\u001b[0m\u001b[32m \u001b[0m\u001b[32mA\u001b[0m\u001b[32m \u001b[0m\u001b[32mC\u001b[0m\u001b[32mO\u001b[0m\u001b[32mR\u001b[0m\u001b[32mR\u001b[0m\u001b[32mE\u001b[0m\u001b[32mC\u001b[0m\u001b[32mT\u001b[0m\u001b[32mE\u001b[0m\u001b[32mD\u001b[0m\u001b[32m \u001b[0m\u001b[32mV\u001b[0m\u001b[32mE\u001b[0m\u001b[32mR\u001b[0m\u001b[32mS\u001b[0m\u001b[32mI\u001b[0m\u001b[32mO\u001b[0m\u001b[32mN\u001b[0m\u001b[32m \u001b[0m\u001b[32mO\u001b[0m\u001b[32mF\u001b[0m\u001b[32m \u001b[0m\u001b[32mT\u001b[0m\u001b[32mH\u001b[0m\u001b[32mE\u001b[0m\u001b[32m \u001b[0m\u001b[32mI\u001b[0m\u001b[32mN\u001b[0m\u001b[32mP\u001b[0m\u001b[32mU\u001b[0m\u001b[32mT\u001b[0m\u001b[32m \u001b[0m\u001b[32mC\u001b[0m\u001b[32mO\u001b[0m\u001b[32mD\u001b[0m\u001b[32mE\u001b[0m\u001b[32m \u001b[0m\u001b[32mS\u001b[0m\u001b[32mN\u001b[0m\u001b[32mI\u001b[0m\u001b[32mP\u001b[0m\u001b[32mP\u001b[0m\u001b[32mE\u001b[0m\u001b[32mT\u001b[0m\u001b[32m \u001b[0m\u001b[32m(\u001b[0m\u001b[32mI\u001b[0m\u001b[32mF\u001b[0m\u001b[32m \u001b[0m\u001b[32mY\u001b[0m\u001b[32mO\u001b[0m\u001b[32mU\u001b[0m\u001b[32m \u001b[0m\u001b[32mD\u001b[0m\u001b[32mO\u001b[0m\u001b[32mN\u001b[0m\u001b[32m'\u001b[0m\u001b[32mT\u001b[0m\u001b[32m \u001b[0m\u001b[32mK\u001b[0m\u001b[32mN\u001b[0m\u001b[32mO\u001b[0m\u001b[32mW\u001b[0m\u001b[32m,\u001b[0m\u001b[32m \u001b[0m\u001b[32mS\u001b[0m\u001b[32mE\u001b[0m\u001b[32mC\u001b[0m\u001b[32mT\u001b[0m\u001b[32mI\u001b[0m\u001b[32mO\u001b[0m\u001b[32mN\u001b[0m\u001b[32m \u001b[0m\u001b[32m2\u001b[0m\u001b[32m \u001b[0m\u001b[32mS\u001b[0m\u001b[32mH\u001b[0m\u001b[32mO\u001b[0m\u001b[32mU\u001b[0m\u001b[32mL\u001b[0m\u001b[32mD\u001b[0m\u001b[32m \u001b[0m\u001b[32mB\u001b[0m\u001b[32mE\u001b[0m\u001b[32m \u001b[0m\u001b[32mE\u001b[0m\u001b[32mM\u001b[0m\u001b[32mP\u001b[0m\u001b[32mT\u001b[0m\u001b[32mY\u001b[0m\u001b[32m)\u001b[0m\u001b[32m.\u001b[0m\u001b[32m \u001b[0m\u001b[32mS\u001b[0m\u001b[32mE\u001b[0m\u001b[32mC\u001b[0m\u001b[32mT\u001b[0m\u001b[32mI\u001b[0m\u001b[32mO\u001b[0m\u001b[32mN\u001b[0m\u001b[32m \u001b[0m\u001b[32m2\u001b[0m\u001b[32m \u001b[0m\u001b[32mM\u001b[0m\u001b[32mU\u001b[0m\u001b[32mS\u001b[0m\u001b[32mT\u001b[0m\u001b[32m \u001b[0m\u001b[32mC\u001b[0m\u001b[32mO\u001b[0m\u001b[32mN\u001b[0m\u001b[32mT\u001b[0m\u001b[32mA\u001b[0m\u001b[32mI\u001b[0m\u001b[32mN\u001b[0m\u001b[32m \u001b[0m\u001b[32mO\u001b[0m\u001b[32mN\u001b[0m\u001b[32mL\u001b[0m\u001b[32mY\u001b[0m\u001b[32m \u001b[0m\u001b[32mP\u001b[0m\u001b[32mY\u001b[0m\u001b[32mT\u001b[0m\u001b[32mH\u001b[0m\u001b[32mO\u001b[0m\u001b[32mN\u001b[0m\u001b[32m \u001b[0m\u001b[32mC\u001b[0m\u001b[32mO\u001b[0m\u001b[32mD\u001b[0m\u001b[32mE\u001b[0m\u001b[32m \u001b[0m\u001b[32m-\u001b[0m\u001b[32m \u001b[0m\u001b[32mT\u001b[0m\u001b[32mH\u001b[0m\u001b[32mE\u001b[0m\u001b[32mR\u001b[0m\u001b[32mE\u001b[0m\u001b[32m \u001b[0m\u001b[32mM\u001b[0m\u001b[32mU\u001b[0m\u001b[32mS\u001b[0m\u001b[32mT\u001b[0m\u001b[32m \u001b[0m\u001b[32mN\u001b[0m\u001b[32mO\u001b[0m\u001b[32mT\u001b[0m\u001b[32m \u001b[0m\u001b[32mB\u001b[0m\u001b[32mE\u001b[0m\u001b[32m \u001b[0m\u001b[32mA\u001b[0m\u001b[32mN\u001b[0m\u001b[32mY\u001b[0m\u001b[32m \u001b[0m\u001b[32mE\u001b[0m\u001b[32mN\u001b[0m\u001b[32mG\u001b[0m\u001b[32mL\u001b[0m\u001b[32mI\u001b[0m\u001b[32mS\u001b[0m\u001b[32mH\u001b[0m\u001b[32m \u001b[0m\u001b[32mE\u001b[0m\u001b[32mX\u001b[0m\u001b[32mP\u001b[0m\u001b[32mL\u001b[0m\u001b[32mA\u001b[0m\u001b[32mN\u001b[0m\u001b[32mA\u001b[0m\u001b[32mT\u001b[0m\u001b[32mI\u001b[0m\u001b[32mO\u001b[0m\u001b[32mN\u001b[0m\u001b[32m \u001b[0m\u001b[32mO\u001b[0m\u001b[32mU\u001b[0m\u001b[32mT\u001b[0m\u001b[32mS\u001b[0m\u001b[32mI\u001b[0m\u001b[32mD\u001b[0m\u001b[32mE\u001b[0m\u001b[32m \u001b[0m\u001b[32mO\u001b[0m\u001b[32mF\u001b[0m\u001b[32m \u001b[0m\u001b[32mC\u001b[0m\u001b[32mO\u001b[0m\u001b[32mD\u001b[0m\u001b[32mE\u001b[0m\u001b[32m \u001b[0m\u001b[32mC\u001b[0m\u001b[32mO\u001b[0m\u001b[32mM\u001b[0m\u001b[32mM\u001b[0m\u001b[32mE\u001b[0m\u001b[32mN\u001b[0m\u001b[32mT\u001b[0m\u001b[32mS\u001b[0m\u001b[32m \u001b[0m\u001b[32mO\u001b[0m\u001b[32mR\u001b[0m\u001b[32m \u001b[0m\u001b[32mD\u001b[0m\u001b[32mO\u001b[0m\u001b[32mC\u001b[0m\u001b[32mS\u001b[0m\u001b[32mT\u001b[0m\u001b[32mR\u001b[0m\u001b[32mI\u001b[0m\u001b[32mN\u001b[0m\u001b[32mG\u001b[0m\u001b[32mS\u001b[0m\u001b[32m.\u001b[0m\u001b[32m \u001b[0m\u001b[32mS\u001b[0m\u001b[32mE\u001b[0m\u001b[32mC\u001b[0m\u001b[32mT\u001b[0m\u001b[32mI\u001b[0m\u001b[32mO\u001b[0m\u001b[32mN\u001b[0m\u001b[32m \u001b[0m\u001b[32m2\u001b[0m\u001b[32m \u001b[0m\u001b[32mM\u001b[0m\u001b[32mU\u001b[0m\u001b[32mS\u001b[0m\u001b[32mT\u001b[0m\u001b[32m \u001b[0m\u001b[32mB\u001b[0m\u001b[32mE\u001b[0m\u001b[32m \u001b[0m\u001b[32mE\u001b[0m\u001b[32mN\u001b[0m\u001b[32mT\u001b[0m\u001b[32mI\u001b[0m\u001b[32mR\u001b[0m\u001b[32mE\u001b[0m\u001b[32mL\u001b[0m\u001b[32mY\u001b[0m\u001b[32m \u001b[0m\u001b[32mE\u001b[0m\u001b[32mN\u001b[0m\u001b[32mC\u001b[0m\u001b[32mL\u001b[0m\u001b[32mO\u001b[0m\u001b[32mS\u001b[0m\u001b[32mE\u001b[0m\u001b[32mD\u001b[0m\u001b[32m \u001b[0m\u001b[32mI\u001b[0m\u001b[32mN\u001b[0m\u001b[32m \u001b[0m\u001b[32mO\u001b[0m\u001b[32mN\u001b[0m\u001b[32mE\u001b[0m\u001b[32m \u001b[0m\u001b[32mP\u001b[0m\u001b[32mA\u001b[0m\u001b[32mI\u001b[0m\u001b[32mR\u001b[0m\u001b[32m \u001b[0m\u001b[32mO\u001b[0m\u001b[32mF\u001b[0m\u001b[32m \u001b[0m\u001b[32mT\u001b[0m\u001b[32mR\u001b[0m\u001b[32mI\u001b[0m\u001b[32mP\u001b[0m\u001b[32mL\u001b[0m\u001b[32mE\u001b[0m\u001b[32m \u001b[0m\u001b[32mB\u001b[0m\u001b[32mA\u001b[0m\u001b[32mC\u001b[0m\u001b[32mK\u001b[0m\u001b[32mT\u001b[0m\u001b[32mI\u001b[0m\u001b[32mC\u001b[0m\u001b[32mK\u001b[0m\u001b[32mS\u001b[0m\u001b[32m \u001b[0m\u001b[32m(\u001b[0m\u001b[32m\"\u001b[0m\u001b[32m`\u001b[0m\u001b[32m`\u001b[0m\u001b[32m`\u001b[0m\u001b[32m\"\u001b[0m\u001b[32m)\u001b[0m\u001b[32m.\u001b[0m\u001b[32m\n",
      "\u001b[0m\u001b[32m\n",
      "\u001b[0m\u001b[32mC\u001b[0m\u001b[32mU\u001b[0m\u001b[32mR\u001b[0m\u001b[32mR\u001b[0m\u001b[32mE\u001b[0m\u001b[32mN\u001b[0m\u001b[32mT\u001b[0m\u001b[32m \u001b[0m\u001b[32mC\u001b[0m\u001b[32mO\u001b[0m\u001b[32mD\u001b[0m\u001b[32mE\u001b[0m\u001b[32m \u001b[0m\u001b[32mS\u001b[0m\u001b[32mN\u001b[0m\u001b[32mI\u001b[0m\u001b[32mP\u001b[0m\u001b[32mP\u001b[0m\u001b[32mE\u001b[0m\u001b[32mT\u001b[0m\u001b[32m:\u001b[0m\u001b[32m\n",
      "\u001b[0m\u001b[32mD\u001b[0m\u001b[32mE\u001b[0m\u001b[32mF\u001b[0m\u001b[32m \u001b[0m\u001b[32mB\u001b[0m\u001b[32mU\u001b[0m\u001b[32mB\u001b[0m\u001b[32mB\u001b[0m\u001b[32mL\u001b[0m\u001b[32mE\u001b[0m\u001b[32m_\u001b[0m\u001b[32mS\u001b[0m\u001b[32mO\u001b[0m\u001b[32mR\u001b[0m\u001b[32mT\u001b[0m\u001b[32m(\u001b[0m\u001b[32mN\u001b[0m\u001b[32mU\u001b[0m\u001b[32mM\u001b[0m\u001b[32mS\u001b[0m\u001b[32m)\u001b[0m\u001b[32m:\u001b[0m\u001b[32m\n",
      "\u001b[0m\u001b[32m \u001b[0m\u001b[32m \u001b[0m\u001b[32m \u001b[0m\u001b[32m \u001b[0m\u001b[32mF\u001b[0m\u001b[32mO\u001b[0m\u001b[32mR\u001b[0m\u001b[32m \u001b[0m\u001b[32mI\u001b[0m\u001b[32m \u001b[0m\u001b[32mI\u001b[0m\u001b[32mN\u001b[0m\u001b[32m \u001b[0m\u001b[32mR\u001b[0m\u001b[32mA\u001b[0m\u001b[32mN\u001b[0m\u001b[32mG\u001b[0m\u001b[32mE\u001b[0m\u001b[32m(\u001b[0m\u001b[32mL\u001b[0m\u001b[32mE\u001b[0m\u001b[32mN\u001b[0m\u001b[32m(\u001b[0m\u001b[32mN\u001b[0m\u001b[32mU\u001b[0m\u001b[32mM\u001b[0m\u001b[32mS\u001b[0m\u001b[32m)\u001b[0m\u001b[32m)\u001b[0m\u001b[32m:\u001b[0m\u001b[32m\n",
      "\u001b[0m\u001b[32m \u001b[0m\u001b[32m \u001b[0m\u001b[32m \u001b[0m\u001b[32m \u001b[0m\u001b[32m \u001b[0m\u001b[32m \u001b[0m\u001b[32m \u001b[0m\u001b[32m \u001b[0m\u001b[32mF\u001b[0m\u001b[32mO\u001b[0m\u001b[32mR\u001b[0m\u001b[32m \u001b[0m\u001b[32mJ\u001b[0m\u001b[32m \u001b[0m\u001b[32mI\u001b[0m\u001b[32mN\u001b[0m\u001b[32m \u001b[0m\u001b[32mR\u001b[0m\u001b[32mA\u001b[0m\u001b[32mN\u001b[0m\u001b[32mG\u001b[0m\u001b[32mE\u001b[0m\u001b[32m(\u001b[0m\u001b[32mL\u001b[0m\u001b[32mE\u001b[0m\u001b[32mN\u001b[0m\u001b[32m(\u001b[0m\u001b[32mN\u001b[0m\u001b[32mU\u001b[0m\u001b[32mM\u001b[0m\u001b[32mS\u001b[0m\u001b[32m)\u001b[0m\u001b[32m)\u001b[0m\u001b[32m:\u001b[0m\u001b[32m\n",
      "\u001b[0m\u001b[32m \u001b[0m\u001b[32m \u001b[0m\u001b[32m \u001b[0m\u001b[32m \u001b[0m\u001b[32m \u001b[0m\u001b[32m \u001b[0m\u001b[32m \u001b[0m\u001b[32m \u001b[0m\u001b[32m \u001b[0m\u001b[32m \u001b[0m\u001b[32m \u001b[0m\u001b[32m \u001b[0m\u001b[32mI\u001b[0m\u001b[32mF\u001b[0m\u001b[32m \u001b[0m\u001b[32mN\u001b[0m\u001b[32mU\u001b[0m\u001b[32mM\u001b[0m\u001b[32mS\u001b[0m\u001b[32m[\u001b[0m\u001b[32mJ\u001b[0m\u001b[32m]\u001b[0m\u001b[32m \u001b[0m\u001b[32m>\u001b[0m\u001b[32m \u001b[0m\u001b[32mN\u001b[0m\u001b[32mU\u001b[0m\u001b[32mM\u001b[0m\u001b[32mS\u001b[0m\u001b[32m[\u001b[0m\u001b[32mJ\u001b[0m\u001b[32m \u001b[0m\u001b[32m+\u001b[0m\u001b[32m \u001b[0m\u001b[32m1\u001b[0m\u001b[32m]\u001b[0m\u001b[32m:\u001b[0m\u001b[32m\n",
      "\u001b[0m\u001b[32m \u001b[0m\u001b[32m \u001b[0m\u001b[32m \u001b[0m\u001b[32m \u001b[0m\u001b[32m \u001b[0m\u001b[32m \u001b[0m\u001b[32m \u001b[0m\u001b[32m \u001b[0m\u001b[32m \u001b[0m\u001b[32m \u001b[0m\u001b[32m \u001b[0m\u001b[32m \u001b[0m\u001b[32m \u001b[0m\u001b[32m \u001b[0m\u001b[32m \u001b[0m\u001b[32m \u001b[0m\u001b[32mN\u001b[0m\u001b[32mU\u001b[0m\u001b[32mM\u001b[0m\u001b[32mS\u001b[0m\u001b[32m[\u001b[0m\u001b[32mJ\u001b[0m\u001b[32m \u001b[0m\u001b[32m+\u001b[0m\u001b[32m \u001b[0m\u001b[32m1\u001b[0m\u001b[32m]\u001b[0m\u001b[32m,\u001b[0m\u001b[32m \u001b[0m\u001b[32mN\u001b[0m\u001b[32mU\u001b[0m\u001b[32mM\u001b[0m\u001b[32mS\u001b[0m\u001b[32m[\u001b[0m\u001b[32mJ\u001b[0m\u001b[32m]\u001b[0m\u001b[32m \u001b[0m\u001b[32m=\u001b[0m\u001b[32m \u001b[0m\u001b[32mN\u001b[0m\u001b[32mU\u001b[0m\u001b[32mM\u001b[0m\u001b[32mS\u001b[0m\u001b[32m[\u001b[0m\u001b[32mJ\u001b[0m\u001b[32m]\u001b[0m\u001b[32m,\u001b[0m\u001b[32m \u001b[0m\u001b[32mN\u001b[0m\u001b[32mU\u001b[0m\u001b[32mM\u001b[0m\u001b[32mS\u001b[0m\u001b[32m[\u001b[0m\u001b[32mJ\u001b[0m\u001b[32m \u001b[0m\u001b[32m+\u001b[0m\u001b[32m \u001b[0m\u001b[32m1\u001b[0m\u001b[32m]\u001b[0m\u001b[32m\n",
      "\u001b[0m\u001b[32m \u001b[0m\u001b[32m \u001b[0m\u001b[32m \u001b[0m\u001b[32m \u001b[0m\u001b[32mR\u001b[0m\u001b[32mE\u001b[0m\u001b[32mT\u001b[0m\u001b[32mU\u001b[0m\u001b[32mR\u001b[0m\u001b[32mN\u001b[0m\u001b[32m \u001b[0m\u001b[32mN\u001b[0m\u001b[32mU\u001b[0m\u001b[32mM\u001b[0m\u001b[32mS\u001b[0m\u001b[32m\n",
      "\u001b[0m\u001b[32m\n",
      "\u001b[0m\u001b[32mS\u001b[0m\u001b[32mT\u001b[0m\u001b[32mA\u001b[0m\u001b[32mC\u001b[0m\u001b[32mK\u001b[0m\u001b[32m \u001b[0m\u001b[32mT\u001b[0m\u001b[32mR\u001b[0m\u001b[32mA\u001b[0m\u001b[32mC\u001b[0m\u001b[32mE\u001b[0m\u001b[32m:\u001b[0m\u001b[32m\n",
      "\u001b[0m\u001b[32mT\u001b[0m\u001b[32mR\u001b[0m\u001b[32mA\u001b[0m\u001b[32mC\u001b[0m\u001b[32mE\u001b[0m\u001b[32mB\u001b[0m\u001b[32mA\u001b[0m\u001b[32mC\u001b[0m\u001b[32mK\u001b[0m\u001b[32m \u001b[0m\u001b[32m(\u001b[0m\u001b[32mM\u001b[0m\u001b[32mO\u001b[0m\u001b[32mS\u001b[0m\u001b[32mT\u001b[0m\u001b[32m \u001b[0m\u001b[32mR\u001b[0m\u001b[32mE\u001b[0m\u001b[32mC\u001b[0m\u001b[32mE\u001b[0m\u001b[32mN\u001b[0m\u001b[32mT\u001b[0m\u001b[32m \u001b[0m\u001b[32mC\u001b[0m\u001b[32mA\u001b[0m\u001b[32mL\u001b[0m\u001b[32mL\u001b[0m\u001b[32m \u001b[0m\u001b[32mL\u001b[0m\u001b[32mA\u001b[0m\u001b[32mS\u001b[0m\u001b[32mT\u001b[0m\u001b[32m)\u001b[0m\u001b[32m:\u001b[0m\u001b[32m\n",
      "\u001b[0m\u001b[32m \u001b[0m\u001b[32m \u001b[0m\u001b[32mF\u001b[0m\u001b[32mI\u001b[0m\u001b[32mL\u001b[0m\u001b[32mE\u001b[0m\u001b[32m \u001b[0m\u001b[32m\"\u001b[0m\u001b[32m/\u001b[0m\u001b[32mU\u001b[0m\u001b[32mS\u001b[0m\u001b[32mE\u001b[0m\u001b[32mR\u001b[0m\u001b[32mS\u001b[0m\u001b[32m/\u001b[0m\u001b[32mH\u001b[0m\u001b[32mM\u001b[0m\u001b[32mA\u001b[0m\u001b[32mM\u001b[0m\u001b[32mI\u001b[0m\u001b[32mN\u001b[0m\u001b[32m/\u001b[0m\u001b[32mA\u001b[0m\u001b[32mN\u001b[0m\u001b[32mA\u001b[0m\u001b[32mC\u001b[0m\u001b[32mO\u001b[0m\u001b[32mN\u001b[0m\u001b[32mD\u001b[0m\u001b[32mA\u001b[0m\u001b[32m3\u001b[0m\u001b[32m/\u001b[0m\u001b[32mE\u001b[0m\u001b[32mN\u001b[0m\u001b[32mV\u001b[0m\u001b[32mS\u001b[0m\u001b[32m/\u001b[0m\u001b[32mP\u001b[0m\u001b[32mY\u001b[0m\u001b[32m3\u001b[0m\u001b[32m8\u001b[0m\u001b[32m/\u001b[0m\u001b[32mL\u001b[0m\u001b[32mI\u001b[0m\u001b[32mB\u001b[0m\u001b[32m/\u001b[0m\u001b[32mP\u001b[0m\u001b[32mY\u001b[0m\u001b[32mT\u001b[0m\u001b[32mH\u001b[0m\u001b[32mO\u001b[0m\u001b[32mN\u001b[0m\u001b[32m3\u001b[0m\u001b[32m.\u001b[0m\u001b[32m8\u001b[0m\u001b[32m/\u001b[0m\u001b[32mS\u001b[0m\u001b[32mI\u001b[0m\u001b[32mT\u001b[0m\u001b[32mE\u001b[0m\u001b[32m-\u001b[0m\u001b[32mP\u001b[0m\u001b[32mA\u001b[0m\u001b[32mC\u001b[0m\u001b[32mK\u001b[0m\u001b[32mA\u001b[0m\u001b[32mG\u001b[0m\u001b[32mE\u001b[0m\u001b[32mS\u001b[0m\u001b[32m/\u001b[0m\u001b[32mI\u001b[0m\u001b[32mP\u001b[0m\u001b[32mY\u001b[0m\u001b[32mT\u001b[0m\u001b[32mH\u001b[0m\u001b[32mO\u001b[0m\u001b[32mN\u001b[0m\u001b[32m/\u001b[0m\u001b[32mC\u001b[0m\u001b[32mO\u001b[0m\u001b[32mR\u001b[0m\u001b[32mE\u001b[0m\u001b[32m/\u001b[0m\u001b[32mI\u001b[0m\u001b[32mN\u001b[0m\u001b[32mT\u001b[0m\u001b[32mE\u001b[0m\u001b[32mR\u001b[0m\u001b[32mA\u001b[0m\u001b[32mC\u001b[0m\u001b[32mT\u001b[0m\u001b[32mI\u001b[0m\u001b[32mV\u001b[0m\u001b[32mE\u001b[0m\u001b[32mS\u001b[0m\u001b[32mH\u001b[0m\u001b[32mE\u001b[0m\u001b[32mL\u001b[0m\u001b[32mL\u001b[0m\u001b[32m.\u001b[0m\u001b[32mP\u001b[0m\u001b[32mY\u001b[0m\u001b[32m\"\u001b[0m\u001b[32m,\u001b[0m\u001b[32m \u001b[0m\u001b[32mL\u001b[0m\u001b[32mI\u001b[0m\u001b[32mN\u001b[0m\u001b[32mE\u001b[0m\u001b[32m \u001b[0m\u001b[32m3\u001b[0m\u001b[32m4\u001b[0m\u001b[32m4\u001b[0m\u001b[32m1\u001b[0m\u001b[32m,\u001b[0m\u001b[32m \u001b[0m\u001b[32mI\u001b[0m\u001b[32mN\u001b[0m\u001b[32m \u001b[0m\u001b[32mR\u001b[0m\u001b[32mU\u001b[0m\u001b[32mN\u001b[0m\u001b[32m_\u001b[0m\u001b[32mC\u001b[0m\u001b[32mO\u001b[0m\u001b[32mD\u001b[0m\u001b[32mE\u001b[0m\u001b[32m\n",
      "\u001b[0m\u001b[32m \u001b[0m\u001b[32m \u001b[0m\u001b[32m \u001b[0m\u001b[32m \u001b[0m\u001b[32mE\u001b[0m\u001b[32mX\u001b[0m\u001b[32mE\u001b[0m\u001b[32mC\u001b[0m\u001b[32m(\u001b[0m\u001b[32mC\u001b[0m\u001b[32mO\u001b[0m\u001b[32mD\u001b[0m\u001b[32mE\u001b[0m\u001b[32m_\u001b[0m\u001b[32mO\u001b[0m\u001b[32mB\u001b[0m\u001b[32mJ\u001b[0m\u001b[32m,\u001b[0m\u001b[32m \u001b[0m\u001b[32mS\u001b[0m\u001b[32mE\u001b[0m\u001b[32mL\u001b[0m\u001b[32mF\u001b[0m\u001b[32m.\u001b[0m\u001b[32mU\u001b[0m\u001b[32mS\u001b[0m\u001b[32mE\u001b[0m\u001b[32mR\u001b[0m\u001b[32m_\u001b[0m\u001b[32mG\u001b[0m\u001b[32mL\u001b[0m\u001b[32mO\u001b[0m\u001b[32mB\u001b[0m\u001b[32mA\u001b[0m\u001b[32mL\u001b[0m\u001b[32m_\u001b[0m\u001b[32mN\u001b[0m\u001b[32mS\u001b[0m\u001b[32m,\u001b[0m\u001b[32m \u001b[0m\u001b[32mS\u001b[0m\u001b[32mE\u001b[0m\u001b[32mL\u001b[0m\u001b[32mF\u001b[0m\u001b[32m.\u001b[0m\u001b[32mU\u001b[0m\u001b[32mS\u001b[0m\u001b[32mE\u001b[0m\u001b[32mR\u001b[0m\u001b[32m_\u001b[0m\u001b[32mN\u001b[0m\u001b[32mS\u001b[0m\u001b[32m)\u001b[0m\u001b[32m\n",
      "\u001b[0m\u001b[32m \u001b[0m\u001b[32m \u001b[0m\u001b[32mF\u001b[0m\u001b[32mI\u001b[0m\u001b[32mL\u001b[0m\u001b[32mE\u001b[0m\u001b[32m \u001b[0m\u001b[32m\"\u001b[0m\u001b[32m<\u001b[0m\u001b[32mI\u001b[0m\u001b[32mP\u001b[0m\u001b[32mY\u001b[0m\u001b[32mT\u001b[0m\u001b[32mH\u001b[0m\u001b[32mO\u001b[0m\u001b[32mN\u001b[0m\u001b[32m-\u001b[0m\u001b[32mI\u001b[0m\u001b[32mN\u001b[0m\u001b[32mP\u001b[0m\u001b[32mU\u001b[0m\u001b[32mT\u001b[0m\u001b[32m-\u001b[0m\u001b[32m3\u001b[0m\u001b[32m2\u001b[0m\u001b[32m-\u001b[0m\u001b[32m0\u001b[0m\u001b[32mB\u001b[0m\u001b[32m7\u001b[0m\u001b[32m3\u001b[0m\u001b[32mB\u001b[0m\u001b[32m9\u001b[0m\u001b[32mF\u001b[0m\u001b[32mC\u001b[0m\u001b[32mB\u001b[0m\u001b[32m6\u001b[0m\u001b[32m6\u001b[0m\u001b[32mD\u001b[0m\u001b[32m>\u001b[0m\u001b[32m\"\u001b[0m\u001b[32m,\u001b[0m\u001b[32m \u001b[0m\u001b[32mL\u001b[0m\u001b[32mI\u001b[0m\u001b[32mN\u001b[0m\u001b[32mE\u001b[0m\u001b[32m \u001b[0m\u001b[32m1\u001b[0m\u001b[32m,\u001b[0m\u001b[32m \u001b[0m\u001b[32mI\u001b[0m\u001b[32mN\u001b[0m\u001b[32m \u001b[0m\u001b[32m<\u001b[0m\u001b[32mM\u001b[0m\u001b[32mO\u001b[0m\u001b[32mD\u001b[0m\u001b[32mU\u001b[0m\u001b[32mL\u001b[0m\u001b[32mE\u001b[0m\u001b[32m>\u001b[0m\u001b[32m\n",
      "\u001b[0m\u001b[32m \u001b[0m\u001b[32m \u001b[0m\u001b[32m \u001b[0m\u001b[32m \u001b[0m\u001b[32mR\u001b[0m\u001b[32mE\u001b[0m\u001b[32mS\u001b[0m\u001b[32m \u001b[0m\u001b[32m=\u001b[0m\u001b[32m \u001b[0m\u001b[32mB\u001b[0m\u001b[32mU\u001b[0m\u001b[32mB\u001b[0m\u001b[32mB\u001b[0m\u001b[32mL\u001b[0m\u001b[32mE\u001b[0m\u001b[32m_\u001b[0m\u001b[32mS\u001b[0m\u001b[32mO\u001b[0m\u001b[32mR\u001b[0m\u001b[32mT\u001b[0m\u001b[32m(\u001b[0m\u001b[32mN\u001b[0m\u001b[32mU\u001b[0m\u001b[32mM\u001b[0m\u001b[32mS\u001b[0m\u001b[32m)\u001b[0m\u001b[32m\n",
      "\u001b[0m\u001b[32m \u001b[0m\u001b[32m \u001b[0m\u001b[32mF\u001b[0m\u001b[32mI\u001b[0m\u001b[32mL\u001b[0m\u001b[32mE\u001b[0m\u001b[32m \u001b[0m\u001b[32m\"\u001b[0m\u001b[32m<\u001b[0m\u001b[32mI\u001b[0m\u001b[32mP\u001b[0m\u001b[32mY\u001b[0m\u001b[32mT\u001b[0m\u001b[32mH\u001b[0m\u001b[32mO\u001b[0m\u001b[32mN\u001b[0m\u001b[32m-\u001b[0m\u001b[32mI\u001b[0m\u001b[32mN\u001b[0m\u001b[32mP\u001b[0m\u001b[32mU\u001b[0m\u001b[32mT\u001b[0m\u001b[32m-\u001b[0m\u001b[32m2\u001b[0m\u001b[32m5\u001b[0m\u001b[32m-\u001b[0m\u001b[32m3\u001b[0m\u001b[32mF\u001b[0m\u001b[32m1\u001b[0m\u001b[32m2\u001b[0m\u001b[32mA\u001b[0m\u001b[32m9\u001b[0m\u001b[32mF\u001b[0m\u001b[32m4\u001b[0m\u001b[32m3\u001b[0m\u001b[32m4\u001b[0m\u001b[32mA\u001b[0m\u001b[32m7\u001b[0m\u001b[32m>\u001b[0m\u001b[32m\"\u001b[0m\u001b[32m,\u001b[0m\u001b[32m \u001b[0m\u001b[32mL\u001b[0m\u001b[32mI\u001b[0m\u001b[32mN\u001b[0m\u001b[32mE\u001b[0m\u001b[32m \u001b[0m\u001b[32m4\u001b[0m\u001b[32m,\u001b[0m\u001b[32m \u001b[0m\u001b[32mI\u001b[0m\u001b[32mN\u001b[0m\u001b[32m \u001b[0m\u001b[32mB\u001b[0m\u001b[32mU\u001b[0m\u001b[32mB\u001b[0m\u001b[32mB\u001b[0m\u001b[32mL\u001b[0m\u001b[32mE\u001b[0m\u001b[32m_\u001b[0m\u001b[32mS\u001b[0m\u001b[32mO\u001b[0m\u001b[32mR\u001b[0m\u001b[32mT\u001b[0m\u001b[32m\n",
      "\u001b[0m\u001b[32m \u001b[0m\u001b[32m \u001b[0m\u001b[32m \u001b[0m\u001b[32m \u001b[0m\u001b[32mI\u001b[0m\u001b[32mF\u001b[0m\u001b[32m \u001b[0m\u001b[32mN\u001b[0m\u001b[32mU\u001b[0m\u001b[32mM\u001b[0m\u001b[32mS\u001b[0m\u001b[32m[\u001b[0m\u001b[32mJ\u001b[0m\u001b[32m]\u001b[0m\u001b[32m \u001b[0m\u001b[32m>\u001b[0m\u001b[32m \u001b[0m\u001b[32mN\u001b[0m\u001b[32mU\u001b[0m\u001b[32mM\u001b[0m\u001b[32mS\u001b[0m\u001b[32m[\u001b[0m\u001b[32mJ\u001b[0m\u001b[32m \u001b[0m\u001b[32m+\u001b[0m\u001b[32m \u001b[0m\u001b[32m1\u001b[0m\u001b[32m]\u001b[0m\u001b[32m:\u001b[0m\u001b[32m\n",
      "\u001b[0m\u001b[32mI\u001b[0m\u001b[32mN\u001b[0m\u001b[32mD\u001b[0m\u001b[32mE\u001b[0m\u001b[32mX\u001b[0m\u001b[32mE\u001b[0m\u001b[32mR\u001b[0m\u001b[32mR\u001b[0m\u001b[32mO\u001b[0m\u001b[32mR\u001b[0m\u001b[32m:\u001b[0m\u001b[32m \u001b[0m\u001b[32mL\u001b[0m\u001b[32mI\u001b[0m\u001b[32mS\u001b[0m\u001b[32mT\u001b[0m\u001b[32m \u001b[0m\u001b[32mI\u001b[0m\u001b[32mN\u001b[0m\u001b[32mD\u001b[0m\u001b[32mE\u001b[0m\u001b[32mX\u001b[0m\u001b[32m \u001b[0m\u001b[32mO\u001b[0m\u001b[32mU\u001b[0m\u001b[32mT\u001b[0m\u001b[32m \u001b[0m\u001b[32mO\u001b[0m\u001b[32mF\u001b[0m\u001b[32m \u001b[0m\u001b[32mR\u001b[0m\u001b[32mA\u001b[0m\u001b[32mN\u001b[0m\u001b[32mG\u001b[0m\u001b[32mE\u001b[0m\u001b[32m\n",
      "\u001b[0m\u001b[32m\n",
      "\u001b[0m\u001b[32m\n",
      "\u001b[0m\u001b[32mN\u001b[0m\u001b[32mE\u001b[0m\u001b[32mX\u001b[0m\u001b[32mT\u001b[0m\u001b[32m \u001b[0m\u001b[32mL\u001b[0m\u001b[32mI\u001b[0m\u001b[32mN\u001b[0m\u001b[32mE\u001b[0m\u001b[32m:\u001b[0m\u001b[32m\n",
      "\u001b[0m\u001b[32m \u001b[0m\u001b[32m \u001b[0m\u001b[32m \u001b[0m\u001b[32m \u001b[0m\u001b[32m \u001b[0m\u001b[32m \u001b[0m\u001b[32m \u001b[0m\u001b[32m \u001b[0m\u001b[32m \u001b[0m\u001b[32m \u001b[0m\u001b[32m \u001b[0m\u001b[32m \u001b[0m\u001b[32mI\u001b[0m\u001b[32mF\u001b[0m\u001b[32m \u001b[0m\u001b[32mN\u001b[0m\u001b[32mU\u001b[0m\u001b[32mM\u001b[0m\u001b[32mS\u001b[0m\u001b[32m[\u001b[0m\u001b[32mJ\u001b[0m\u001b[32m]\u001b[0m\u001b[32m \u001b[0m\u001b[32m>\u001b[0m\u001b[32m \u001b[0m\u001b[32mN\u001b[0m\u001b[32mU\u001b[0m\u001b[32mM\u001b[0m\u001b[32mS\u001b[0m\u001b[32m[\u001b[0m\u001b[32mJ\u001b[0m\u001b[32m \u001b[0m\u001b[32m+\u001b[0m\u001b[32m \u001b[0m\u001b[32m1\u001b[0m\u001b[32m]\u001b[0m\u001b[32m:\u001b[0m\u001b[32m\n",
      "\u001b[0m\u001b[32m\n",
      "\u001b[0m\u001b[32mL\u001b[0m\u001b[32mO\u001b[0m\u001b[32mC\u001b[0m\u001b[32mA\u001b[0m\u001b[32mL\u001b[0m\u001b[32m \u001b[0m\u001b[32mV\u001b[0m\u001b[32mA\u001b[0m\u001b[32mR\u001b[0m\u001b[32mI\u001b[0m\u001b[32mA\u001b[0m\u001b[32mB\u001b[0m\u001b[32mL\u001b[0m\u001b[32mE\u001b[0m\u001b[32mS\u001b[0m\u001b[32m:\u001b[0m\u001b[32m\n",
      "\u001b[0m\u001b[32m{\u001b[0m\u001b[32m\n"
     ]
    },
    {
     "name": "stdout",
     "output_type": "stream",
     "text": [
      "\u001b[0m\u001b[32m \u001b[0m\u001b[32m \u001b[0m\u001b[32m \u001b[0m\u001b[32m \u001b[0m\u001b[32m'\u001b[0m\u001b[32mN\u001b[0m\u001b[32mU\u001b[0m\u001b[32mM\u001b[0m\u001b[32mS\u001b[0m\u001b[32m'\u001b[0m\u001b[32m:\u001b[0m\u001b[32m \u001b[0m\u001b[32m[\u001b[0m\u001b[32m1\u001b[0m\u001b[32m,\u001b[0m\u001b[32m \u001b[0m\u001b[32m-\u001b[0m\u001b[32m1\u001b[0m\u001b[32m0\u001b[0m\u001b[32m0\u001b[0m\u001b[32m,\u001b[0m\u001b[32m \u001b[0m\u001b[32m3\u001b[0m\u001b[32m,\u001b[0m\u001b[32m \u001b[0m\u001b[32m4\u001b[0m\u001b[32m,\u001b[0m\u001b[32m \u001b[0m\u001b[32m5\u001b[0m\u001b[32m,\u001b[0m\u001b[32m \u001b[0m\u001b[32m5\u001b[0m\u001b[32m,\u001b[0m\u001b[32m \u001b[0m\u001b[32m5\u001b[0m\u001b[32m,\u001b[0m\u001b[32m \u001b[0m\u001b[32m9\u001b[0m\u001b[32m,\u001b[0m\u001b[32m \u001b[0m\u001b[32m2\u001b[0m\u001b[32m2\u001b[0m\u001b[32m,\u001b[0m\u001b[32m \u001b[0m\u001b[32m3\u001b[0m\u001b[32m3\u001b[0m\u001b[32m]\u001b[0m\u001b[32m,\u001b[0m\u001b[32m \u001b[0m\u001b[32m \u001b[0m\u001b[32m \u001b[0m\u001b[32m#\u001b[0m\u001b[32m \u001b[0m\u001b[32mT\u001b[0m\u001b[32mY\u001b[0m\u001b[32mP\u001b[0m\u001b[32mE\u001b[0m\u001b[32m:\u001b[0m\u001b[32m \u001b[0m\u001b[32mL\u001b[0m\u001b[32mI\u001b[0m\u001b[32mS\u001b[0m\u001b[32mT\u001b[0m\u001b[32m\n",
      "\u001b[0m\u001b[32m \u001b[0m\u001b[32m \u001b[0m\u001b[32m \u001b[0m\u001b[32m \u001b[0m\u001b[32m'\u001b[0m\u001b[32mI\u001b[0m\u001b[32m'\u001b[0m\u001b[32m:\u001b[0m\u001b[32m \u001b[0m\u001b[32m0\u001b[0m\u001b[32m,\u001b[0m\u001b[32m \u001b[0m\u001b[32m \u001b[0m\u001b[32m \u001b[0m\u001b[32m#\u001b[0m\u001b[32m \u001b[0m\u001b[32mT\u001b[0m\u001b[32mY\u001b[0m\u001b[32mP\u001b[0m\u001b[32mE\u001b[0m\u001b[32m:\u001b[0m\u001b[32m \u001b[0m\u001b[32mI\u001b[0m\u001b[32mN\u001b[0m\u001b[32mT\u001b[0m\u001b[32m\n",
      "\u001b[0m\u001b[32m \u001b[0m\u001b[32m \u001b[0m\u001b[32m \u001b[0m\u001b[32m \u001b[0m\u001b[32m'\u001b[0m\u001b[32mJ\u001b[0m\u001b[32m'\u001b[0m\u001b[32m:\u001b[0m\u001b[32m \u001b[0m\u001b[32m9\u001b[0m\u001b[32m,\u001b[0m\u001b[32m \u001b[0m\u001b[32m \u001b[0m\u001b[32m \u001b[0m\u001b[32m#\u001b[0m\u001b[32m \u001b[0m\u001b[32mT\u001b[0m\u001b[32mY\u001b[0m\u001b[32mP\u001b[0m\u001b[32mE\u001b[0m\u001b[32m:\u001b[0m\u001b[32m \u001b[0m\u001b[32mI\u001b[0m\u001b[32mN\u001b[0m\u001b[32mT\u001b[0m\u001b[32m\n",
      "\u001b[0m\u001b[32m}\u001b[0m\u001b[32m\n",
      "\u001b[0m\u001b[32m\n",
      "\u001b[0m\u001b[32mG\u001b[0m\u001b[32mL\u001b[0m\u001b[32mO\u001b[0m\u001b[32mB\u001b[0m\u001b[32mA\u001b[0m\u001b[32mL\u001b[0m\u001b[32m \u001b[0m\u001b[32mV\u001b[0m\u001b[32mA\u001b[0m\u001b[32mR\u001b[0m\u001b[32mI\u001b[0m\u001b[32mA\u001b[0m\u001b[32mB\u001b[0m\u001b[32mL\u001b[0m\u001b[32mE\u001b[0m\u001b[32mS\u001b[0m\u001b[32m:\u001b[0m\u001b[32m\n",
      "\u001b[0m\u001b[32m{\u001b[0m\u001b[32m\n",
      "\u001b[0m\u001b[32m \u001b[0m\u001b[32m \u001b[0m\u001b[32m \u001b[0m\u001b[32m \u001b[0m\u001b[32m'\u001b[0m\u001b[32mN\u001b[0m\u001b[32mU\u001b[0m\u001b[32mM\u001b[0m\u001b[32mS\u001b[0m\u001b[32m'\u001b[0m\u001b[32m:\u001b[0m\u001b[32m \u001b[0m\u001b[32m[\u001b[0m\u001b[32m1\u001b[0m\u001b[32m,\u001b[0m\u001b[32m \u001b[0m\u001b[32m-\u001b[0m\u001b[32m1\u001b[0m\u001b[32m0\u001b[0m\u001b[32m0\u001b[0m\u001b[32m,\u001b[0m\u001b[32m \u001b[0m\u001b[32m3\u001b[0m\u001b[32m,\u001b[0m\u001b[32m \u001b[0m\u001b[32m4\u001b[0m\u001b[32m,\u001b[0m\u001b[32m \u001b[0m\u001b[32m5\u001b[0m\u001b[32m,\u001b[0m\u001b[32m \u001b[0m\u001b[32m5\u001b[0m\u001b[32m,\u001b[0m\u001b[32m \u001b[0m\u001b[32m5\u001b[0m\u001b[32m,\u001b[0m\u001b[32m \u001b[0m\u001b[32m9\u001b[0m\u001b[32m,\u001b[0m\u001b[32m \u001b[0m\u001b[32m2\u001b[0m\u001b[32m2\u001b[0m\u001b[32m,\u001b[0m\u001b[32m \u001b[0m\u001b[32m3\u001b[0m\u001b[32m3\u001b[0m\u001b[32m]\u001b[0m\u001b[32m,\u001b[0m\u001b[32m \u001b[0m\u001b[32m \u001b[0m\u001b[32m \u001b[0m\u001b[32m#\u001b[0m\u001b[32m \u001b[0m\u001b[32mT\u001b[0m\u001b[32mY\u001b[0m\u001b[32mP\u001b[0m\u001b[32mE\u001b[0m\u001b[32m:\u001b[0m\u001b[32m \u001b[0m\u001b[32mL\u001b[0m\u001b[32mI\u001b[0m\u001b[32mS\u001b[0m\u001b[32mT\u001b[0m\u001b[32m\n",
      "\u001b[0m\u001b[32m}\u001b[0m"
     ]
    }
   ],
   "source": [
    "res = bubble_sort(nums)\n",
    "print('after')"
   ]
  },
  {
   "cell_type": "code",
   "execution_count": 33,
   "metadata": {
    "ExecuteTime": {
     "end_time": "2023-04-13T04:36:55.586380Z",
     "start_time": "2023-04-13T04:36:55.507169Z"
    }
   },
   "outputs": [],
   "source": [
    "errors.disable()"
   ]
  },
  {
   "cell_type": "code",
   "execution_count": 35,
   "metadata": {
    "ExecuteTime": {
     "end_time": "2023-04-13T04:37:02.948504Z",
     "start_time": "2023-04-13T04:37:02.874537Z"
    }
   },
   "outputs": [
    {
     "ename": "TypeError",
     "evalue": "unsupported operand type(s) for +: 'int' and 'str'",
     "output_type": "error",
     "traceback": [
      "\u001b[0;31m---------------------------------------------------------------------------\u001b[0m",
      "\u001b[0;31mTypeError\u001b[0m                                 Traceback (most recent call last)",
      "\u001b[0;32m<ipython-input-35-ba2e8bbdb292>\u001b[0m in \u001b[0;36m<module>\u001b[0;34m\u001b[0m\n\u001b[0;32m----> 1\u001b[0;31m \u001b[0;36m3\u001b[0m \u001b[0;34m+\u001b[0m \u001b[0;34m'z'\u001b[0m\u001b[0;34m\u001b[0m\u001b[0;34m\u001b[0m\u001b[0m\n\u001b[0m",
      "\u001b[0;31mTypeError\u001b[0m: unsupported operand type(s) for +: 'int' and 'str'"
     ]
    }
   ],
   "source": [
    "3 + 'z'"
   ]
  },
  {
   "cell_type": "code",
   "execution_count": 40,
   "metadata": {
    "ExecuteTime": {
     "end_time": "2023-04-13T04:46:14.719953Z",
     "start_time": "2023-04-13T04:46:14.457396Z"
    }
   },
   "outputs": [],
   "source": [
    "errors.enable(chat_class=DummyChatModel)"
   ]
  },
  {
   "cell_type": "code",
   "execution_count": 41,
   "metadata": {
    "ExecuteTime": {
     "end_time": "2023-04-13T04:46:42.566334Z",
     "start_time": "2023-04-13T04:46:14.877925Z"
    }
   },
   "outputs": [
    {
     "name": "stdout",
     "output_type": "stream",
     "text": [
      "Traceback (most recent call last):\n",
      "  File \"/Users/hmamin/anaconda3/envs/py38/lib/python3.8/site-packages/IPython/core/interactiveshell.py\", line 3441, in run_code\n",
      "    exec(code_obj, self.user_global_ns, self.user_ns)\n",
      "  File \"<ipython-input-41-0b73b9fcb66d>\", line 1, in <module>\n",
      "    res = bubble_sort(nums)\n",
      "  File \"<ipython-input-25-3f12a9f434a7>\", line 4, in bubble_sort\n",
      "    if nums[j] > nums[j + 1]:\n",
      "IndexError: list index out of range\n",
      "\n",
      "Explain error message? [y/n]\n",
      "y\n",
      "> <ipython-input-25-3f12a9f434a7>(4)bubble_sort()\n",
      "-> if nums[j] > nums[j + 1]:\n"
     ]
    },
    {
     "name": "stdout",
     "output_type": "stream",
     "text": [
      "\u001b[31m[Duck] \u001b[0m\u001b[31mT\u001b[0m\u001b[31mH\u001b[0m\u001b[31mI\u001b[0m\u001b[31mS\u001b[0m\u001b[31m \u001b[0m\u001b[31mC\u001b[0m\u001b[31mO\u001b[0m\u001b[31mD\u001b[0m\u001b[31mE\u001b[0m\u001b[31m \u001b[0m\u001b[31mS\u001b[0m\u001b[31mN\u001b[0m\u001b[31mI\u001b[0m\u001b[31mP\u001b[0m\u001b[31mP\u001b[0m\u001b[31mE\u001b[0m\u001b[31mT\u001b[0m\u001b[31m \u001b[0m\u001b[31mT\u001b[0m\u001b[31mH\u001b[0m\u001b[31mR\u001b[0m\u001b[31mO\u001b[0m\u001b[31mW\u001b[0m\u001b[31mS\u001b[0m\u001b[31m \u001b[0m\u001b[31mA\u001b[0m\u001b[31mN\u001b[0m\u001b[31m \u001b[0m\u001b[31mE\u001b[0m\u001b[31mR\u001b[0m\u001b[31mR\u001b[0m\u001b[31mO\u001b[0m\u001b[31mR\u001b[0m\u001b[31m.\u001b[0m\u001b[31m \u001b[0m\u001b[31mH\u001b[0m\u001b[31mE\u001b[0m\u001b[31mL\u001b[0m\u001b[31mP\u001b[0m\u001b[31m \u001b[0m\u001b[31mM\u001b[0m\u001b[31mE\u001b[0m\u001b[31m \u001b[0m\u001b[31mF\u001b[0m\u001b[31mI\u001b[0m\u001b[31mX\u001b[0m\u001b[31m \u001b[0m\u001b[31mI\u001b[0m\u001b[31mT\u001b[0m\u001b[31m.\u001b[0m\u001b[31m \u001b[0m\u001b[31mF\u001b[0m\u001b[31mI\u001b[0m\u001b[31mR\u001b[0m\u001b[31mS\u001b[0m\u001b[31mT\u001b[0m\u001b[31m \u001b[0m\u001b[31mE\u001b[0m\u001b[31mX\u001b[0m\u001b[31mA\u001b[0m\u001b[31mM\u001b[0m\u001b[31mI\u001b[0m\u001b[31mN\u001b[0m\u001b[31mE\u001b[0m\u001b[31m \u001b[0m\u001b[31mT\u001b[0m\u001b[31mH\u001b[0m\u001b[31mE\u001b[0m\u001b[31m \u001b[0m\u001b[31mS\u001b[0m\u001b[31mN\u001b[0m\u001b[31mI\u001b[0m\u001b[31mP\u001b[0m\u001b[31mP\u001b[0m\u001b[31mE\u001b[0m\u001b[31mT\u001b[0m\u001b[31m \u001b[0m\u001b[31mO\u001b[0m\u001b[31mF\u001b[0m\u001b[31m \u001b[0m\u001b[31mC\u001b[0m\u001b[31mO\u001b[0m\u001b[31mD\u001b[0m\u001b[31mE\u001b[0m\u001b[31m \u001b[0m\u001b[31mT\u001b[0m\u001b[31mH\u001b[0m\u001b[31mA\u001b[0m\u001b[31mT\u001b[0m\u001b[31m \u001b[0m\u001b[31mC\u001b[0m\u001b[31mA\u001b[0m\u001b[31mU\u001b[0m\u001b[31mS\u001b[0m\u001b[31mE\u001b[0m\u001b[31mS\u001b[0m\u001b[31m \u001b[0m\u001b[31mT\u001b[0m\u001b[31mH\u001b[0m\u001b[31mE\u001b[0m\u001b[31m \u001b[0m\u001b[31mI\u001b[0m\u001b[31mS\u001b[0m\u001b[31mS\u001b[0m\u001b[31mU\u001b[0m\u001b[31mE\u001b[0m\u001b[31m \u001b[0m\u001b[31mA\u001b[0m\u001b[31mN\u001b[0m\u001b[31mD\u001b[0m\u001b[31m \u001b[0m\u001b[31mL\u001b[0m\u001b[31mO\u001b[0m\u001b[31mO\u001b[0m\u001b[31mK\u001b[0m\u001b[31m \u001b[0m\u001b[31mA\u001b[0m\u001b[31mT\u001b[0m\u001b[31m \u001b[0m\u001b[31mT\u001b[0m\u001b[31mH\u001b[0m\u001b[31mE\u001b[0m\u001b[31m \u001b[0m\u001b[31mV\u001b[0m\u001b[31mA\u001b[0m\u001b[31mL\u001b[0m\u001b[31mU\u001b[0m\u001b[31mE\u001b[0m\u001b[31mS\u001b[0m\u001b[31m \u001b[0m\u001b[31mO\u001b[0m\u001b[31mF\u001b[0m\u001b[31m \u001b[0m\u001b[31mT\u001b[0m\u001b[31mH\u001b[0m\u001b[31mE\u001b[0m\u001b[31m \u001b[0m\u001b[31mL\u001b[0m\u001b[31mO\u001b[0m\u001b[31mC\u001b[0m\u001b[31mA\u001b[0m\u001b[31mL\u001b[0m\u001b[31m \u001b[0m\u001b[31mA\u001b[0m\u001b[31mN\u001b[0m\u001b[31mD\u001b[0m\u001b[31m \u001b[0m\u001b[31mG\u001b[0m\u001b[31mL\u001b[0m\u001b[31mO\u001b[0m\u001b[31mB\u001b[0m\u001b[31mA\u001b[0m\u001b[31mL\u001b[0m\u001b[31m \u001b[0m\u001b[31mV\u001b[0m\u001b[31mA\u001b[0m\u001b[31mR\u001b[0m\u001b[31mI\u001b[0m\u001b[31mA\u001b[0m\u001b[31mB\u001b[0m\u001b[31mL\u001b[0m\u001b[31mE\u001b[0m\u001b[31mS\u001b[0m\u001b[31m.\u001b[0m\u001b[31m \u001b[0m\u001b[31mT\u001b[0m\u001b[31mH\u001b[0m\u001b[31mE\u001b[0m\u001b[31mN\u001b[0m\u001b[31m \u001b[0m\u001b[31mP\u001b[0m\u001b[31mR\u001b[0m\u001b[31mO\u001b[0m\u001b[31mV\u001b[0m\u001b[31mI\u001b[0m\u001b[31mD\u001b[0m\u001b[31mE\u001b[0m\u001b[31m \u001b[0m\u001b[31mA\u001b[0m\u001b[31m \u001b[0m\u001b[31mR\u001b[0m\u001b[31mE\u001b[0m\u001b[31mS\u001b[0m\u001b[31mP\u001b[0m\u001b[31mO\u001b[0m\u001b[31mN\u001b[0m\u001b[31mS\u001b[0m\u001b[31mE\u001b[0m\u001b[31m \u001b[0m\u001b[31mW\u001b[0m\u001b[31mI\u001b[0m\u001b[31mT\u001b[0m\u001b[31mH\u001b[0m\u001b[31m \u001b[0m\u001b[31mE\u001b[0m\u001b[31mX\u001b[0m\u001b[31mA\u001b[0m\u001b[31mC\u001b[0m\u001b[31mT\u001b[0m\u001b[31mL\u001b[0m\u001b[31mY\u001b[0m\u001b[31m \u001b[0m\u001b[31mT\u001b[0m\u001b[31mW\u001b[0m\u001b[31mO\u001b[0m\u001b[31m \u001b[0m\u001b[31mS\u001b[0m\u001b[31mE\u001b[0m\u001b[31mC\u001b[0m\u001b[31mT\u001b[0m\u001b[31mI\u001b[0m\u001b[31mO\u001b[0m\u001b[31mN\u001b[0m\u001b[31mS\u001b[0m\u001b[31m,\u001b[0m\u001b[31m \u001b[0m\u001b[31mS\u001b[0m\u001b[31mE\u001b[0m\u001b[31mP\u001b[0m\u001b[31mA\u001b[0m\u001b[31mR\u001b[0m\u001b[31mA\u001b[0m\u001b[31mT\u001b[0m\u001b[31mE\u001b[0m\u001b[31mD\u001b[0m\u001b[31m \u001b[0m\u001b[31mB\u001b[0m\u001b[31mY\u001b[0m\u001b[31m \u001b[0m\u001b[31mA\u001b[0m\u001b[31mN\u001b[0m\u001b[31m \u001b[0m\u001b[31mE\u001b[0m\u001b[31mM\u001b[0m\u001b[31mP\u001b[0m\u001b[31mT\u001b[0m\u001b[31mY\u001b[0m\u001b[31m \u001b[0m\u001b[31mL\u001b[0m\u001b[31mI\u001b[0m\u001b[31mN\u001b[0m\u001b[31mE\u001b[0m\u001b[31m.\u001b[0m\u001b[31m \u001b[0m\u001b[31m(\u001b[0m\u001b[31mT\u001b[0m\u001b[31mH\u001b[0m\u001b[31mE\u001b[0m\u001b[31mY\u001b[0m\u001b[31m \u001b[0m\u001b[31mS\u001b[0m\u001b[31mH\u001b[0m\u001b[31mO\u001b[0m\u001b[31mU\u001b[0m\u001b[31mL\u001b[0m\u001b[31mD\u001b[0m\u001b[31m \u001b[0m\u001b[31mA\u001b[0m\u001b[31mP\u001b[0m\u001b[31mP\u001b[0m\u001b[31mE\u001b[0m\u001b[31mA\u001b[0m\u001b[31mR\u001b[0m\u001b[31m \u001b[0m\u001b[31mT\u001b[0m\u001b[31mO\u001b[0m\u001b[31m \u001b[0m\u001b[31mT\u001b[0m\u001b[31mH\u001b[0m\u001b[31mE\u001b[0m\u001b[31m \u001b[0m\u001b[31mU\u001b[0m\u001b[31mS\u001b[0m\u001b[31mE\u001b[0m\u001b[31mR\u001b[0m\u001b[31m \u001b[0m\u001b[31mA\u001b[0m\u001b[31mS\u001b[0m\u001b[31m \u001b[0m\u001b[31mA\u001b[0m\u001b[31m \u001b[0m\u001b[31mS\u001b[0m\u001b[31mI\u001b[0m\u001b[31mN\u001b[0m\u001b[31mG\u001b[0m\u001b[31mL\u001b[0m\u001b[31mE\u001b[0m\u001b[31m \u001b[0m\u001b[31mS\u001b[0m\u001b[31mE\u001b[0m\u001b[31mC\u001b[0m\u001b[31mT\u001b[0m\u001b[31mI\u001b[0m\u001b[31mO\u001b[0m\u001b[31mN\u001b[0m\u001b[31m,\u001b[0m\u001b[31m \u001b[0m\u001b[31mH\u001b[0m\u001b[31mO\u001b[0m\u001b[31mW\u001b[0m\u001b[31mE\u001b[0m\u001b[31mV\u001b[0m\u001b[31mE\u001b[0m\u001b[31mR\u001b[0m\u001b[31m \u001b[0m\u001b[31m-\u001b[0m\u001b[31m \u001b[0m\u001b[31mD\u001b[0m\u001b[31mO\u001b[0m\u001b[31m \u001b[0m\u001b[31mN\u001b[0m\u001b[31mO\u001b[0m\u001b[31mT\u001b[0m\u001b[31m \u001b[0m\u001b[31mI\u001b[0m\u001b[31mN\u001b[0m\u001b[31mC\u001b[0m\u001b[31mL\u001b[0m\u001b[31mU\u001b[0m\u001b[31mD\u001b[0m\u001b[31mE\u001b[0m\u001b[31m \u001b[0m\u001b[31mS\u001b[0m\u001b[31mE\u001b[0m\u001b[31mC\u001b[0m\u001b[31mT\u001b[0m\u001b[31mI\u001b[0m\u001b[31mO\u001b[0m\u001b[31mN\u001b[0m\u001b[31m \u001b[0m\u001b[31mT\u001b[0m\u001b[31mI\u001b[0m\u001b[31mT\u001b[0m\u001b[31mL\u001b[0m\u001b[31mE\u001b[0m\u001b[31mS\u001b[0m\u001b[31m \u001b[0m\u001b[31mO\u001b[0m\u001b[31mF\u001b[0m\u001b[31m \u001b[0m\u001b[31mA\u001b[0m\u001b[31mN\u001b[0m\u001b[31mY\u001b[0m\u001b[31m \u001b[0m\u001b[31mK\u001b[0m\u001b[31mI\u001b[0m\u001b[31mN\u001b[0m\u001b[31mD\u001b[0m\u001b[31m.\u001b[0m\u001b[31m)\u001b[0m\u001b[31m \u001b[0m\u001b[31mI\u001b[0m\u001b[31mN\u001b[0m\u001b[31m \u001b[0m\u001b[31mS\u001b[0m\u001b[31mE\u001b[0m\u001b[31mC\u001b[0m\u001b[31mT\u001b[0m\u001b[31mI\u001b[0m\u001b[31mO\u001b[0m\u001b[31mN\u001b[0m\u001b[31m \u001b[0m\u001b[31m1\u001b[0m\u001b[31m,\u001b[0m\u001b[31m \u001b[0m\u001b[31mU\u001b[0m\u001b[31mS\u001b[0m\u001b[31mE\u001b[0m\u001b[31m \u001b[0m\u001b[31mP\u001b[0m\u001b[31mL\u001b[0m\u001b[31mA\u001b[0m\u001b[31mI\u001b[0m\u001b[31mN\u001b[0m\u001b[31m \u001b[0m\u001b[31mE\u001b[0m\u001b[31mN\u001b[0m\u001b[31mG\u001b[0m\u001b[31mL\u001b[0m\u001b[31mI\u001b[0m\u001b[31mS\u001b[0m\u001b[31mH\u001b[0m\u001b[31m \u001b[0m\u001b[31mT\u001b[0m\u001b[31mO\u001b[0m\u001b[31m \u001b[0m\u001b[31mE\u001b[0m\u001b[31mX\u001b[0m\u001b[31mP\u001b[0m\u001b[31mL\u001b[0m\u001b[31mA\u001b[0m\u001b[31mI\u001b[0m\u001b[31mN\u001b[0m\u001b[31m \u001b[0m\u001b[31mW\u001b[0m\u001b[31mH\u001b[0m\u001b[31mA\u001b[0m\u001b[31mT\u001b[0m\u001b[31m \u001b[0m\u001b[31mT\u001b[0m\u001b[31mH\u001b[0m\u001b[31mE\u001b[0m\u001b[31m \u001b[0m\u001b[31mP\u001b[0m\u001b[31mR\u001b[0m\u001b[31mO\u001b[0m\u001b[31mB\u001b[0m\u001b[31mL\u001b[0m\u001b[31mE\u001b[0m\u001b[31mM\u001b[0m\u001b[31m \u001b[0m\u001b[31mI\u001b[0m\u001b[31mS\u001b[0m\u001b[31m \u001b[0m\u001b[31mA\u001b[0m\u001b[31mN\u001b[0m\u001b[31mD\u001b[0m\u001b[31m \u001b[0m\u001b[31mH\u001b[0m\u001b[31mO\u001b[0m\u001b[31mW\u001b[0m\u001b[31m \u001b[0m\u001b[31mT\u001b[0m\u001b[31mO\u001b[0m\u001b[31m \u001b[0m\u001b[31mF\u001b[0m\u001b[31mI\u001b[0m\u001b[31mX\u001b[0m\u001b[31m \u001b[0m\u001b[31mI\u001b[0m\u001b[31mT\u001b[0m\u001b[31m \u001b[0m\u001b[31m(\u001b[0m\u001b[31mI\u001b[0m\u001b[31mF\u001b[0m\u001b[31m \u001b[0m\u001b[31mY\u001b[0m\u001b[31mO\u001b[0m\u001b[31mU\u001b[0m\u001b[31m \u001b[0m\u001b[31mC\u001b[0m\u001b[31mA\u001b[0m\u001b[31mN\u001b[0m\u001b[31m'\u001b[0m\u001b[31mT\u001b[0m\u001b[31m \u001b[0m\u001b[31mI\u001b[0m\u001b[31mD\u001b[0m\u001b[31mE\u001b[0m\u001b[31mN\u001b[0m\u001b[31mT\u001b[0m\u001b[31mI\u001b[0m\u001b[31mF\u001b[0m\u001b[31mY\u001b[0m\u001b[31m \u001b[0m\u001b[31mT\u001b[0m\u001b[31mH\u001b[0m\u001b[31mE\u001b[0m\u001b[31m \u001b[0m\u001b[31mP\u001b[0m\u001b[31mR\u001b[0m\u001b[31mO\u001b[0m\u001b[31mB\u001b[0m\u001b[31mL\u001b[0m\u001b[31mE\u001b[0m\u001b[31mM\u001b[0m\u001b[31m,\u001b[0m\u001b[31m \u001b[0m\u001b[31mS\u001b[0m\u001b[31mE\u001b[0m\u001b[31mC\u001b[0m\u001b[31mT\u001b[0m\u001b[31mI\u001b[0m\u001b[31mO\u001b[0m\u001b[31mN\u001b[0m\u001b[31m \u001b[0m\u001b[31m1\u001b[0m\u001b[31m \u001b[0m\u001b[31mS\u001b[0m\u001b[31mH\u001b[0m\u001b[31mO\u001b[0m\u001b[31mU\u001b[0m\u001b[31mL\u001b[0m\u001b[31mD\u001b[0m\u001b[31m \u001b[0m\u001b[31mI\u001b[0m\u001b[31mN\u001b[0m\u001b[31mS\u001b[0m\u001b[31mT\u001b[0m\u001b[31mE\u001b[0m\u001b[31mA\u001b[0m\u001b[31mD\u001b[0m\u001b[31m \u001b[0m\u001b[31mL\u001b[0m\u001b[31mI\u001b[0m\u001b[31mS\u001b[0m\u001b[31mT\u001b[0m\u001b[31m \u001b[0m\u001b[31mA\u001b[0m\u001b[31m \u001b[0m\u001b[31mF\u001b[0m\u001b[31mE\u001b[0m\u001b[31mW\u001b[0m\u001b[31m \u001b[0m\u001b[31mP\u001b[0m\u001b[31mO\u001b[0m\u001b[31mS\u001b[0m\u001b[31mS\u001b[0m\u001b[31mI\u001b[0m\u001b[31mB\u001b[0m\u001b[31mL\u001b[0m\u001b[31mE\u001b[0m\u001b[31m \u001b[0m\u001b[31mC\u001b[0m\u001b[31mA\u001b[0m\u001b[31mU\u001b[0m\u001b[31mS\u001b[0m\u001b[31mE\u001b[0m\u001b[31mS\u001b[0m\u001b[31m \u001b[0m\u001b[31mO\u001b[0m\u001b[31mR\u001b[0m\u001b[31m \u001b[0m\u001b[31mT\u001b[0m\u001b[31mH\u001b[0m\u001b[31mI\u001b[0m\u001b[31mN\u001b[0m\u001b[31mG\u001b[0m\u001b[31mS\u001b[0m\u001b[31m \u001b[0m\u001b[31mI\u001b[0m\u001b[31m \u001b[0m\u001b[31mC\u001b[0m\u001b[31mO\u001b[0m\u001b[31mU\u001b[0m\u001b[31mL\u001b[0m\u001b[31mD\u001b[0m\u001b[31m \u001b[0m\u001b[31mT\u001b[0m\u001b[31mR\u001b[0m\u001b[31mY\u001b[0m\u001b[31m \u001b[0m\u001b[31mI\u001b[0m\u001b[31mN\u001b[0m\u001b[31m \u001b[0m\u001b[31mO\u001b[0m\u001b[31mR\u001b[0m\u001b[31mD\u001b[0m\u001b[31mE\u001b[0m\u001b[31mR\u001b[0m\u001b[31m \u001b[0m\u001b[31mT\u001b[0m\u001b[31mO\u001b[0m\u001b[31m \u001b[0m\u001b[31mI\u001b[0m\u001b[31mD\u001b[0m\u001b[31mE\u001b[0m\u001b[31mN\u001b[0m\u001b[31mT\u001b[0m\u001b[31mI\u001b[0m\u001b[31mF\u001b[0m\u001b[31mY\u001b[0m\u001b[31m \u001b[0m\u001b[31mT\u001b[0m\u001b[31mH\u001b[0m\u001b[31mE\u001b[0m\u001b[31m \u001b[0m\u001b[31mI\u001b[0m\u001b[31mS\u001b[0m\u001b[31mS\u001b[0m\u001b[31mU\u001b[0m\u001b[31mE\u001b[0m\u001b[31m)\u001b[0m\u001b[31m.\u001b[0m\u001b[31m \u001b[0m\u001b[31mI\u001b[0m\u001b[31mN\u001b[0m\u001b[31m \u001b[0m\u001b[31mS\u001b[0m\u001b[31mE\u001b[0m\u001b[31mC\u001b[0m\u001b[31mT\u001b[0m\u001b[31mI\u001b[0m\u001b[31mO\u001b[0m\u001b[31mN\u001b[0m\u001b[31m \u001b[0m\u001b[31m2\u001b[0m\u001b[31m,\u001b[0m\u001b[31m \u001b[0m\u001b[31mW\u001b[0m\u001b[31mR\u001b[0m\u001b[31mI\u001b[0m\u001b[31mT\u001b[0m\u001b[31mE\u001b[0m\u001b[31m \u001b[0m\u001b[31mA\u001b[0m\u001b[31m \u001b[0m\u001b[31mC\u001b[0m\u001b[31mO\u001b[0m\u001b[31mR\u001b[0m\u001b[31mR\u001b[0m\u001b[31mE\u001b[0m\u001b[31mC\u001b[0m\u001b[31mT\u001b[0m\u001b[31mE\u001b[0m\u001b[31mD\u001b[0m\u001b[31m \u001b[0m\u001b[31mV\u001b[0m\u001b[31mE\u001b[0m\u001b[31mR\u001b[0m\u001b[31mS\u001b[0m\u001b[31mI\u001b[0m\u001b[31mO\u001b[0m\u001b[31mN\u001b[0m\u001b[31m \u001b[0m\u001b[31mO\u001b[0m\u001b[31mF\u001b[0m\u001b[31m \u001b[0m\u001b[31mT\u001b[0m\u001b[31mH\u001b[0m\u001b[31mE\u001b[0m\u001b[31m \u001b[0m\u001b[31mI\u001b[0m\u001b[31mN\u001b[0m\u001b[31mP\u001b[0m\u001b[31mU\u001b[0m\u001b[31mT\u001b[0m\u001b[31m \u001b[0m\u001b[31mC\u001b[0m\u001b[31mO\u001b[0m\u001b[31mD\u001b[0m\u001b[31mE\u001b[0m\u001b[31m \u001b[0m\u001b[31mS\u001b[0m\u001b[31mN\u001b[0m\u001b[31mI\u001b[0m\u001b[31mP\u001b[0m\u001b[31mP\u001b[0m\u001b[31mE\u001b[0m\u001b[31mT\u001b[0m\u001b[31m \u001b[0m\u001b[31m(\u001b[0m\u001b[31mI\u001b[0m\u001b[31mF\u001b[0m\u001b[31m \u001b[0m\u001b[31mY\u001b[0m\u001b[31mO\u001b[0m\u001b[31mU\u001b[0m\u001b[31m \u001b[0m\u001b[31mD\u001b[0m\u001b[31mO\u001b[0m\u001b[31mN\u001b[0m\u001b[31m'\u001b[0m\u001b[31mT\u001b[0m\u001b[31m \u001b[0m\u001b[31mK\u001b[0m\u001b[31mN\u001b[0m\u001b[31mO\u001b[0m\u001b[31mW\u001b[0m\u001b[31m,\u001b[0m\u001b[31m \u001b[0m\u001b[31mS\u001b[0m\u001b[31mE\u001b[0m\u001b[31mC\u001b[0m\u001b[31mT\u001b[0m\u001b[31mI\u001b[0m\u001b[31mO\u001b[0m\u001b[31mN\u001b[0m\u001b[31m \u001b[0m\u001b[31m2\u001b[0m\u001b[31m \u001b[0m\u001b[31mS\u001b[0m\u001b[31mH\u001b[0m\u001b[31mO\u001b[0m\u001b[31mU\u001b[0m\u001b[31mL\u001b[0m\u001b[31mD\u001b[0m\u001b[31m \u001b[0m\u001b[31mB\u001b[0m\u001b[31mE\u001b[0m\u001b[31m \u001b[0m\u001b[31mE\u001b[0m\u001b[31mM\u001b[0m\u001b[31mP\u001b[0m\u001b[31mT\u001b[0m\u001b[31mY\u001b[0m\u001b[31m)\u001b[0m\u001b[31m.\u001b[0m\u001b[31m \u001b[0m\u001b[31mS\u001b[0m\u001b[31mE\u001b[0m\u001b[31mC\u001b[0m\u001b[31mT\u001b[0m\u001b[31mI\u001b[0m\u001b[31mO\u001b[0m\u001b[31mN\u001b[0m\u001b[31m \u001b[0m\u001b[31m2\u001b[0m\u001b[31m \u001b[0m\u001b[31mM\u001b[0m\u001b[31mU\u001b[0m\u001b[31mS\u001b[0m\u001b[31mT\u001b[0m\u001b[31m \u001b[0m\u001b[31mC\u001b[0m\u001b[31mO\u001b[0m\u001b[31mN\u001b[0m\u001b[31mT\u001b[0m\u001b[31mA\u001b[0m\u001b[31mI\u001b[0m\u001b[31mN\u001b[0m\u001b[31m \u001b[0m\u001b[31mO\u001b[0m\u001b[31mN\u001b[0m\u001b[31mL\u001b[0m\u001b[31mY\u001b[0m\u001b[31m \u001b[0m\u001b[31mP\u001b[0m\u001b[31mY\u001b[0m\u001b[31mT\u001b[0m\u001b[31mH\u001b[0m\u001b[31mO\u001b[0m\u001b[31mN\u001b[0m\u001b[31m \u001b[0m\u001b[31mC\u001b[0m\u001b[31mO\u001b[0m\u001b[31mD\u001b[0m\u001b[31mE\u001b[0m\u001b[31m \u001b[0m\u001b[31m-\u001b[0m\u001b[31m \u001b[0m\u001b[31mT\u001b[0m\u001b[31mH\u001b[0m\u001b[31mE\u001b[0m\u001b[31mR\u001b[0m\u001b[31mE\u001b[0m\u001b[31m \u001b[0m\u001b[31mM\u001b[0m\u001b[31mU\u001b[0m\u001b[31mS\u001b[0m\u001b[31mT\u001b[0m\u001b[31m \u001b[0m\u001b[31mN\u001b[0m\u001b[31mO\u001b[0m\u001b[31mT\u001b[0m\u001b[31m \u001b[0m\u001b[31mB\u001b[0m\u001b[31mE\u001b[0m\u001b[31m \u001b[0m\u001b[31mA\u001b[0m\u001b[31mN\u001b[0m\u001b[31mY\u001b[0m\u001b[31m \u001b[0m\u001b[31mE\u001b[0m\u001b[31mN\u001b[0m\u001b[31mG\u001b[0m\u001b[31mL\u001b[0m\u001b[31mI\u001b[0m\u001b[31mS\u001b[0m\u001b[31mH\u001b[0m\u001b[31m \u001b[0m\u001b[31mE\u001b[0m\u001b[31mX\u001b[0m\u001b[31mP\u001b[0m\u001b[31mL\u001b[0m\u001b[31mA\u001b[0m\u001b[31mN\u001b[0m\u001b[31mA\u001b[0m\u001b[31mT\u001b[0m\u001b[31mI\u001b[0m\u001b[31mO\u001b[0m\u001b[31mN\u001b[0m\u001b[31m \u001b[0m\u001b[31mO\u001b[0m\u001b[31mU\u001b[0m\u001b[31mT\u001b[0m\u001b[31mS\u001b[0m\u001b[31mI\u001b[0m\u001b[31mD\u001b[0m\u001b[31mE\u001b[0m\u001b[31m \u001b[0m\u001b[31mO\u001b[0m\u001b[31mF\u001b[0m\u001b[31m \u001b[0m\u001b[31mC\u001b[0m\u001b[31mO\u001b[0m\u001b[31mD\u001b[0m\u001b[31mE\u001b[0m\u001b[31m \u001b[0m\u001b[31mC\u001b[0m\u001b[31mO\u001b[0m\u001b[31mM\u001b[0m\u001b[31mM\u001b[0m\u001b[31mE\u001b[0m\u001b[31mN\u001b[0m\u001b[31mT\u001b[0m\u001b[31mS\u001b[0m\u001b[31m \u001b[0m\u001b[31mO\u001b[0m\u001b[31mR\u001b[0m\u001b[31m \u001b[0m\u001b[31mD\u001b[0m\u001b[31mO\u001b[0m\u001b[31mC\u001b[0m\u001b[31mS\u001b[0m\u001b[31mT\u001b[0m\u001b[31mR\u001b[0m\u001b[31mI\u001b[0m\u001b[31mN\u001b[0m\u001b[31mG\u001b[0m\u001b[31mS\u001b[0m\u001b[31m.\u001b[0m\u001b[31m \u001b[0m\u001b[31mS\u001b[0m\u001b[31mE\u001b[0m\u001b[31mC\u001b[0m\u001b[31mT\u001b[0m\u001b[31mI\u001b[0m\u001b[31mO\u001b[0m\u001b[31mN\u001b[0m\u001b[31m \u001b[0m\u001b[31m2\u001b[0m\u001b[31m \u001b[0m\u001b[31mM\u001b[0m\u001b[31mU\u001b[0m\u001b[31mS\u001b[0m\u001b[31mT\u001b[0m\u001b[31m \u001b[0m\u001b[31mB\u001b[0m\u001b[31mE\u001b[0m\u001b[31m \u001b[0m\u001b[31mE\u001b[0m\u001b[31mN\u001b[0m\u001b[31mT\u001b[0m\u001b[31mI\u001b[0m\u001b[31mR\u001b[0m\u001b[31mE\u001b[0m\u001b[31mL\u001b[0m\u001b[31mY\u001b[0m\u001b[31m \u001b[0m\u001b[31mE\u001b[0m\u001b[31mN\u001b[0m\u001b[31mC\u001b[0m\u001b[31mL\u001b[0m\u001b[31mO\u001b[0m\u001b[31mS\u001b[0m\u001b[31mE\u001b[0m\u001b[31mD\u001b[0m\u001b[31m \u001b[0m\u001b[31mI\u001b[0m\u001b[31mN\u001b[0m\u001b[31m \u001b[0m\u001b[31mO\u001b[0m\u001b[31mN\u001b[0m\u001b[31mE\u001b[0m\u001b[31m \u001b[0m\u001b[31mP\u001b[0m\u001b[31mA\u001b[0m\u001b[31mI\u001b[0m\u001b[31mR\u001b[0m\u001b[31m \u001b[0m\u001b[31mO\u001b[0m\u001b[31mF\u001b[0m\u001b[31m \u001b[0m\u001b[31mT\u001b[0m\u001b[31mR\u001b[0m\u001b[31mI\u001b[0m\u001b[31mP\u001b[0m\u001b[31mL\u001b[0m\u001b[31mE\u001b[0m\u001b[31m \u001b[0m\u001b[31mB\u001b[0m\u001b[31mA\u001b[0m\u001b[31mC\u001b[0m\u001b[31mK\u001b[0m\u001b[31mT\u001b[0m\u001b[31mI\u001b[0m\u001b[31mC\u001b[0m\u001b[31mK\u001b[0m\u001b[31mS\u001b[0m\u001b[31m \u001b[0m\u001b[31m(\u001b[0m\u001b[31m\"\u001b[0m\u001b[31m`\u001b[0m\u001b[31m`\u001b[0m\u001b[31m`\u001b[0m\u001b[31m\"\u001b[0m\u001b[31m)\u001b[0m\u001b[31m.\u001b[0m\u001b[31m\n",
      "\u001b[0m\u001b[31m\n",
      "\u001b[0m\u001b[31mC\u001b[0m\u001b[31mU\u001b[0m\u001b[31mR\u001b[0m\u001b[31mR\u001b[0m\u001b[31mE\u001b[0m\u001b[31mN\u001b[0m\u001b[31mT\u001b[0m\u001b[31m \u001b[0m\u001b[31mC\u001b[0m\u001b[31mO\u001b[0m\u001b[31mD\u001b[0m\u001b[31mE\u001b[0m\u001b[31m \u001b[0m\u001b[31mS\u001b[0m\u001b[31mN\u001b[0m\u001b[31mI\u001b[0m\u001b[31mP\u001b[0m\u001b[31mP\u001b[0m\u001b[31mE\u001b[0m\u001b[31mT\u001b[0m\u001b[31m:\u001b[0m\u001b[31m\n",
      "\u001b[0m\u001b[31mD\u001b[0m\u001b[31mE\u001b[0m\u001b[31mF\u001b[0m\u001b[31m \u001b[0m\u001b[31mB\u001b[0m\u001b[31mU\u001b[0m\u001b[31mB\u001b[0m\u001b[31mB\u001b[0m\u001b[31mL\u001b[0m\u001b[31mE\u001b[0m\u001b[31m_\u001b[0m\u001b[31mS\u001b[0m\u001b[31mO\u001b[0m\u001b[31mR\u001b[0m\u001b[31mT\u001b[0m\u001b[31m(\u001b[0m\u001b[31mN\u001b[0m\u001b[31mU\u001b[0m\u001b[31mM\u001b[0m\u001b[31mS\u001b[0m\u001b[31m)\u001b[0m\u001b[31m:\u001b[0m\u001b[31m\n",
      "\u001b[0m\u001b[31m \u001b[0m\u001b[31m \u001b[0m\u001b[31m \u001b[0m\u001b[31m \u001b[0m\u001b[31mF\u001b[0m\u001b[31mO\u001b[0m\u001b[31mR\u001b[0m\u001b[31m \u001b[0m\u001b[31mI\u001b[0m\u001b[31m \u001b[0m\u001b[31mI\u001b[0m\u001b[31mN\u001b[0m\u001b[31m \u001b[0m\u001b[31mR\u001b[0m\u001b[31mA\u001b[0m\u001b[31mN\u001b[0m\u001b[31mG\u001b[0m\u001b[31mE\u001b[0m\u001b[31m(\u001b[0m\u001b[31mL\u001b[0m\u001b[31mE\u001b[0m\u001b[31mN\u001b[0m\u001b[31m(\u001b[0m\u001b[31mN\u001b[0m\u001b[31mU\u001b[0m\u001b[31mM\u001b[0m\u001b[31mS\u001b[0m\u001b[31m)\u001b[0m\u001b[31m)\u001b[0m\u001b[31m:\u001b[0m\u001b[31m\n",
      "\u001b[0m\u001b[31m \u001b[0m\u001b[31m \u001b[0m\u001b[31m \u001b[0m\u001b[31m \u001b[0m\u001b[31m \u001b[0m\u001b[31m \u001b[0m\u001b[31m \u001b[0m\u001b[31m \u001b[0m\u001b[31mF\u001b[0m\u001b[31mO\u001b[0m\u001b[31mR\u001b[0m\u001b[31m \u001b[0m\u001b[31mJ\u001b[0m\u001b[31m \u001b[0m\u001b[31mI\u001b[0m\u001b[31mN\u001b[0m\u001b[31m \u001b[0m\u001b[31mR\u001b[0m\u001b[31mA\u001b[0m\u001b[31mN\u001b[0m\u001b[31mG\u001b[0m\u001b[31mE\u001b[0m\u001b[31m(\u001b[0m\u001b[31mL\u001b[0m\u001b[31mE\u001b[0m\u001b[31mN\u001b[0m\u001b[31m(\u001b[0m\u001b[31mN\u001b[0m\u001b[31mU\u001b[0m\u001b[31mM\u001b[0m\u001b[31mS\u001b[0m\u001b[31m)\u001b[0m\u001b[31m)\u001b[0m\u001b[31m:\u001b[0m\u001b[31m\n",
      "\u001b[0m\u001b[31m \u001b[0m\u001b[31m \u001b[0m\u001b[31m \u001b[0m\u001b[31m \u001b[0m\u001b[31m \u001b[0m\u001b[31m \u001b[0m\u001b[31m \u001b[0m\u001b[31m \u001b[0m\u001b[31m \u001b[0m\u001b[31m \u001b[0m\u001b[31m \u001b[0m\u001b[31m \u001b[0m\u001b[31mI\u001b[0m\u001b[31mF\u001b[0m\u001b[31m \u001b[0m\u001b[31mN\u001b[0m\u001b[31mU\u001b[0m\u001b[31mM\u001b[0m\u001b[31mS\u001b[0m\u001b[31m[\u001b[0m\u001b[31mJ\u001b[0m\u001b[31m]\u001b[0m\u001b[31m \u001b[0m\u001b[31m>\u001b[0m\u001b[31m \u001b[0m\u001b[31mN\u001b[0m\u001b[31mU\u001b[0m\u001b[31mM\u001b[0m\u001b[31mS\u001b[0m\u001b[31m[\u001b[0m\u001b[31mJ\u001b[0m\u001b[31m \u001b[0m\u001b[31m+\u001b[0m\u001b[31m \u001b[0m\u001b[31m1\u001b[0m\u001b[31m]\u001b[0m\u001b[31m:\u001b[0m\u001b[31m\n",
      "\u001b[0m\u001b[31m \u001b[0m\u001b[31m \u001b[0m\u001b[31m \u001b[0m\u001b[31m \u001b[0m\u001b[31m \u001b[0m\u001b[31m \u001b[0m\u001b[31m \u001b[0m\u001b[31m \u001b[0m\u001b[31m \u001b[0m\u001b[31m \u001b[0m\u001b[31m \u001b[0m\u001b[31m \u001b[0m\u001b[31m \u001b[0m\u001b[31m \u001b[0m\u001b[31m \u001b[0m\u001b[31m \u001b[0m\u001b[31mN\u001b[0m\u001b[31mU\u001b[0m\u001b[31mM\u001b[0m\u001b[31mS\u001b[0m\u001b[31m[\u001b[0m\u001b[31mJ\u001b[0m\u001b[31m \u001b[0m\u001b[31m+\u001b[0m\u001b[31m \u001b[0m\u001b[31m1\u001b[0m\u001b[31m]\u001b[0m\u001b[31m,\u001b[0m\u001b[31m \u001b[0m\u001b[31mN\u001b[0m\u001b[31mU\u001b[0m\u001b[31mM\u001b[0m\u001b[31mS\u001b[0m\u001b[31m[\u001b[0m\u001b[31mJ\u001b[0m\u001b[31m]\u001b[0m\u001b[31m \u001b[0m\u001b[31m=\u001b[0m\u001b[31m \u001b[0m\u001b[31mN\u001b[0m\u001b[31mU\u001b[0m\u001b[31mM\u001b[0m\u001b[31mS\u001b[0m\u001b[31m[\u001b[0m\u001b[31mJ\u001b[0m\u001b[31m]\u001b[0m\u001b[31m,\u001b[0m\u001b[31m \u001b[0m\u001b[31mN\u001b[0m\u001b[31mU\u001b[0m\u001b[31mM\u001b[0m\u001b[31mS\u001b[0m\u001b[31m[\u001b[0m\u001b[31mJ\u001b[0m\u001b[31m \u001b[0m\u001b[31m+\u001b[0m\u001b[31m \u001b[0m\u001b[31m1\u001b[0m\u001b[31m]\u001b[0m\u001b[31m\n",
      "\u001b[0m\u001b[31m \u001b[0m\u001b[31m \u001b[0m\u001b[31m \u001b[0m\u001b[31m \u001b[0m\u001b[31mR\u001b[0m\u001b[31mE\u001b[0m\u001b[31mT\u001b[0m\u001b[31mU\u001b[0m\u001b[31mR\u001b[0m\u001b[31mN\u001b[0m\u001b[31m \u001b[0m\u001b[31mN\u001b[0m\u001b[31mU\u001b[0m\u001b[31mM\u001b[0m\u001b[31mS\u001b[0m\u001b[31m\n",
      "\u001b[0m\u001b[31m\n",
      "\u001b[0m\u001b[31mS\u001b[0m\u001b[31mT\u001b[0m\u001b[31mA\u001b[0m\u001b[31mC\u001b[0m\u001b[31mK\u001b[0m\u001b[31m \u001b[0m\u001b[31mT\u001b[0m\u001b[31mR\u001b[0m\u001b[31mA\u001b[0m\u001b[31mC\u001b[0m\u001b[31mE\u001b[0m\u001b[31m:\u001b[0m\u001b[31m\n",
      "\u001b[0m\u001b[31mT\u001b[0m\u001b[31mR\u001b[0m\u001b[31mA\u001b[0m\u001b[31mC\u001b[0m\u001b[31mE\u001b[0m\u001b[31mB\u001b[0m\u001b[31mA\u001b[0m\u001b[31mC\u001b[0m\u001b[31mK\u001b[0m\u001b[31m \u001b[0m\u001b[31m(\u001b[0m\u001b[31mM\u001b[0m\u001b[31mO\u001b[0m\u001b[31mS\u001b[0m\u001b[31mT\u001b[0m\u001b[31m \u001b[0m\u001b[31mR\u001b[0m\u001b[31mE\u001b[0m\u001b[31mC\u001b[0m\u001b[31mE\u001b[0m\u001b[31mN\u001b[0m\u001b[31mT\u001b[0m\u001b[31m \u001b[0m\u001b[31mC\u001b[0m\u001b[31mA\u001b[0m\u001b[31mL\u001b[0m\u001b[31mL\u001b[0m\u001b[31m \u001b[0m\u001b[31mL\u001b[0m\u001b[31mA\u001b[0m\u001b[31mS\u001b[0m\u001b[31mT\u001b[0m\u001b[31m)\u001b[0m\u001b[31m:\u001b[0m\u001b[31m\n",
      "\u001b[0m\u001b[31m \u001b[0m\u001b[31m \u001b[0m\u001b[31mF\u001b[0m\u001b[31mI\u001b[0m\u001b[31mL\u001b[0m\u001b[31mE\u001b[0m\u001b[31m \u001b[0m\u001b[31m\"\u001b[0m\u001b[31m/\u001b[0m\u001b[31mU\u001b[0m\u001b[31mS\u001b[0m\u001b[31mE\u001b[0m\u001b[31mR\u001b[0m\u001b[31mS\u001b[0m\u001b[31m/\u001b[0m\u001b[31mH\u001b[0m\u001b[31mM\u001b[0m\u001b[31mA\u001b[0m\u001b[31mM\u001b[0m\u001b[31mI\u001b[0m\u001b[31mN\u001b[0m\u001b[31m/\u001b[0m\u001b[31mA\u001b[0m\u001b[31mN\u001b[0m\u001b[31mA\u001b[0m\u001b[31mC\u001b[0m\u001b[31mO\u001b[0m\u001b[31mN\u001b[0m\u001b[31mD\u001b[0m\u001b[31mA\u001b[0m\u001b[31m3\u001b[0m\u001b[31m/\u001b[0m\u001b[31mE\u001b[0m\u001b[31mN\u001b[0m\u001b[31mV\u001b[0m\u001b[31mS\u001b[0m\u001b[31m/\u001b[0m\u001b[31mP\u001b[0m\u001b[31mY\u001b[0m\u001b[31m3\u001b[0m\u001b[31m8\u001b[0m\u001b[31m/\u001b[0m\u001b[31mL\u001b[0m\u001b[31mI\u001b[0m\u001b[31mB\u001b[0m\u001b[31m/\u001b[0m\u001b[31mP\u001b[0m\u001b[31mY\u001b[0m\u001b[31mT\u001b[0m\u001b[31mH\u001b[0m\u001b[31mO\u001b[0m\u001b[31mN\u001b[0m\u001b[31m3\u001b[0m\u001b[31m.\u001b[0m\u001b[31m8\u001b[0m\u001b[31m/\u001b[0m\u001b[31mS\u001b[0m\u001b[31mI\u001b[0m\u001b[31mT\u001b[0m\u001b[31mE\u001b[0m\u001b[31m-\u001b[0m\u001b[31mP\u001b[0m\u001b[31mA\u001b[0m\u001b[31mC\u001b[0m\u001b[31mK\u001b[0m\u001b[31mA\u001b[0m\u001b[31mG\u001b[0m\u001b[31mE\u001b[0m\u001b[31mS\u001b[0m\u001b[31m/\u001b[0m\u001b[31mI\u001b[0m\u001b[31mP\u001b[0m\u001b[31mY\u001b[0m\u001b[31mT\u001b[0m\u001b[31mH\u001b[0m\u001b[31mO\u001b[0m\u001b[31mN\u001b[0m\u001b[31m/\u001b[0m\u001b[31mC\u001b[0m\u001b[31mO\u001b[0m\u001b[31mR\u001b[0m\u001b[31mE\u001b[0m\u001b[31m/\u001b[0m\u001b[31mI\u001b[0m\u001b[31mN\u001b[0m\u001b[31mT\u001b[0m\u001b[31mE\u001b[0m\u001b[31mR\u001b[0m\u001b[31mA\u001b[0m\u001b[31mC\u001b[0m\u001b[31mT\u001b[0m\u001b[31mI\u001b[0m\u001b[31mV\u001b[0m\u001b[31mE\u001b[0m\u001b[31mS\u001b[0m\u001b[31mH\u001b[0m\u001b[31mE\u001b[0m\u001b[31mL\u001b[0m\u001b[31mL\u001b[0m\u001b[31m.\u001b[0m\u001b[31mP\u001b[0m\u001b[31mY\u001b[0m\u001b[31m\"\u001b[0m\u001b[31m,\u001b[0m\u001b[31m \u001b[0m\u001b[31mL\u001b[0m\u001b[31mI\u001b[0m\u001b[31mN\u001b[0m\u001b[31mE\u001b[0m\u001b[31m \u001b[0m\u001b[31m3\u001b[0m\u001b[31m4\u001b[0m\u001b[31m4\u001b[0m\u001b[31m1\u001b[0m\u001b[31m,\u001b[0m\u001b[31m \u001b[0m\u001b[31mI\u001b[0m\u001b[31mN\u001b[0m\u001b[31m \u001b[0m\u001b[31mR\u001b[0m\u001b[31mU\u001b[0m\u001b[31mN\u001b[0m\u001b[31m_\u001b[0m\u001b[31mC\u001b[0m\u001b[31mO\u001b[0m\u001b[31mD\u001b[0m\u001b[31mE\u001b[0m\u001b[31m\n",
      "\u001b[0m\u001b[31m \u001b[0m\u001b[31m \u001b[0m\u001b[31m \u001b[0m\u001b[31m \u001b[0m\u001b[31mE\u001b[0m\u001b[31mX\u001b[0m\u001b[31mE\u001b[0m\u001b[31mC\u001b[0m\u001b[31m(\u001b[0m\u001b[31mC\u001b[0m\u001b[31mO\u001b[0m\u001b[31mD\u001b[0m\u001b[31mE\u001b[0m\u001b[31m_\u001b[0m\u001b[31mO\u001b[0m\u001b[31mB\u001b[0m\u001b[31mJ\u001b[0m\u001b[31m,\u001b[0m\u001b[31m \u001b[0m\u001b[31mS\u001b[0m\u001b[31mE\u001b[0m\u001b[31mL\u001b[0m\u001b[31mF\u001b[0m\u001b[31m.\u001b[0m\u001b[31mU\u001b[0m\u001b[31mS\u001b[0m\u001b[31mE\u001b[0m\u001b[31mR\u001b[0m\u001b[31m_\u001b[0m\u001b[31mG\u001b[0m\u001b[31mL\u001b[0m\u001b[31mO\u001b[0m\u001b[31mB\u001b[0m\u001b[31mA\u001b[0m\u001b[31mL\u001b[0m\u001b[31m_\u001b[0m\u001b[31mN\u001b[0m\u001b[31mS\u001b[0m\u001b[31m,\u001b[0m\u001b[31m \u001b[0m\u001b[31mS\u001b[0m\u001b[31mE\u001b[0m\u001b[31mL\u001b[0m\u001b[31mF\u001b[0m\u001b[31m.\u001b[0m\u001b[31mU\u001b[0m\u001b[31mS\u001b[0m\u001b[31mE\u001b[0m\u001b[31mR\u001b[0m\u001b[31m_\u001b[0m\u001b[31mN\u001b[0m\u001b[31mS\u001b[0m\u001b[31m)\u001b[0m\u001b[31m\n",
      "\u001b[0m\u001b[31m \u001b[0m\u001b[31m \u001b[0m\u001b[31mF\u001b[0m\u001b[31mI\u001b[0m\u001b[31mL\u001b[0m\u001b[31mE\u001b[0m\u001b[31m \u001b[0m\u001b[31m\"\u001b[0m\u001b[31m<\u001b[0m\u001b[31mI\u001b[0m\u001b[31mP\u001b[0m\u001b[31mY\u001b[0m\u001b[31mT\u001b[0m\u001b[31mH\u001b[0m\u001b[31mO\u001b[0m\u001b[31mN\u001b[0m\u001b[31m-\u001b[0m\u001b[31mI\u001b[0m\u001b[31mN\u001b[0m\u001b[31mP\u001b[0m\u001b[31mU\u001b[0m\u001b[31mT\u001b[0m\u001b[31m-\u001b[0m\u001b[31m4\u001b[0m\u001b[31m1\u001b[0m\u001b[31m-\u001b[0m\u001b[31m0\u001b[0m\u001b[31mB\u001b[0m\u001b[31m7\u001b[0m\u001b[31m3\u001b[0m\u001b[31mB\u001b[0m\u001b[31m9\u001b[0m\u001b[31mF\u001b[0m\u001b[31mC\u001b[0m\u001b[31mB\u001b[0m\u001b[31m6\u001b[0m\u001b[31m6\u001b[0m\u001b[31mD\u001b[0m\u001b[31m>\u001b[0m\u001b[31m\"\u001b[0m\u001b[31m,\u001b[0m\u001b[31m \u001b[0m\u001b[31mL\u001b[0m\u001b[31mI\u001b[0m\u001b[31mN\u001b[0m\u001b[31mE\u001b[0m\u001b[31m \u001b[0m\u001b[31m1\u001b[0m\u001b[31m,\u001b[0m\u001b[31m \u001b[0m\u001b[31mI\u001b[0m\u001b[31mN\u001b[0m\u001b[31m \u001b[0m\u001b[31m<\u001b[0m\u001b[31mM\u001b[0m\u001b[31mO\u001b[0m\u001b[31mD\u001b[0m\u001b[31mU\u001b[0m\u001b[31mL\u001b[0m\u001b[31mE\u001b[0m\u001b[31m>\u001b[0m\u001b[31m\n",
      "\u001b[0m\u001b[31m \u001b[0m\u001b[31m \u001b[0m\u001b[31m \u001b[0m\u001b[31m \u001b[0m\u001b[31mR\u001b[0m\u001b[31mE\u001b[0m\u001b[31mS\u001b[0m\u001b[31m \u001b[0m\u001b[31m=\u001b[0m\u001b[31m \u001b[0m\u001b[31mB\u001b[0m\u001b[31mU\u001b[0m\u001b[31mB\u001b[0m\u001b[31mB\u001b[0m\u001b[31mL\u001b[0m\u001b[31mE\u001b[0m\u001b[31m_\u001b[0m\u001b[31mS\u001b[0m\u001b[31mO\u001b[0m\u001b[31mR\u001b[0m\u001b[31mT\u001b[0m\u001b[31m(\u001b[0m\u001b[31mN\u001b[0m\u001b[31mU\u001b[0m\u001b[31mM\u001b[0m\u001b[31mS\u001b[0m\u001b[31m)\u001b[0m\u001b[31m\n",
      "\u001b[0m\u001b[31m \u001b[0m\u001b[31m \u001b[0m\u001b[31mF\u001b[0m\u001b[31mI\u001b[0m\u001b[31mL\u001b[0m\u001b[31mE\u001b[0m\u001b[31m \u001b[0m\u001b[31m\"\u001b[0m\u001b[31m<\u001b[0m\u001b[31mI\u001b[0m\u001b[31mP\u001b[0m\u001b[31mY\u001b[0m\u001b[31mT\u001b[0m\u001b[31mH\u001b[0m\u001b[31mO\u001b[0m\u001b[31mN\u001b[0m\u001b[31m-\u001b[0m\u001b[31mI\u001b[0m\u001b[31mN\u001b[0m\u001b[31mP\u001b[0m\u001b[31mU\u001b[0m\u001b[31mT\u001b[0m\u001b[31m-\u001b[0m\u001b[31m2\u001b[0m\u001b[31m5\u001b[0m\u001b[31m-\u001b[0m\u001b[31m3\u001b[0m\u001b[31mF\u001b[0m\u001b[31m1\u001b[0m\u001b[31m2\u001b[0m\u001b[31mA\u001b[0m\u001b[31m9\u001b[0m\u001b[31mF\u001b[0m\u001b[31m4\u001b[0m\u001b[31m3\u001b[0m\u001b[31m4\u001b[0m\u001b[31mA\u001b[0m\u001b[31m7\u001b[0m\u001b[31m>\u001b[0m\u001b[31m\"\u001b[0m\u001b[31m,\u001b[0m\u001b[31m \u001b[0m\u001b[31mL\u001b[0m\u001b[31mI\u001b[0m\u001b[31mN\u001b[0m\u001b[31mE\u001b[0m\u001b[31m \u001b[0m\u001b[31m4\u001b[0m\u001b[31m,\u001b[0m\u001b[31m \u001b[0m\u001b[31mI\u001b[0m\u001b[31mN\u001b[0m\u001b[31m \u001b[0m\u001b[31mB\u001b[0m\u001b[31mU\u001b[0m\u001b[31mB\u001b[0m\u001b[31mB\u001b[0m\u001b[31mL\u001b[0m\u001b[31mE\u001b[0m\u001b[31m_\u001b[0m\u001b[31mS\u001b[0m\u001b[31mO\u001b[0m\u001b[31mR\u001b[0m\u001b[31mT\u001b[0m\u001b[31m\n",
      "\u001b[0m\u001b[31m \u001b[0m\u001b[31m \u001b[0m\u001b[31m \u001b[0m\u001b[31m \u001b[0m\u001b[31mI\u001b[0m\u001b[31mF\u001b[0m\u001b[31m \u001b[0m\u001b[31mN\u001b[0m\u001b[31mU\u001b[0m\u001b[31mM\u001b[0m\u001b[31mS\u001b[0m\u001b[31m[\u001b[0m\u001b[31mJ\u001b[0m\u001b[31m]\u001b[0m\u001b[31m \u001b[0m\u001b[31m>\u001b[0m\u001b[31m \u001b[0m\u001b[31mN\u001b[0m\u001b[31mU\u001b[0m\u001b[31mM\u001b[0m\u001b[31mS\u001b[0m\u001b[31m[\u001b[0m\u001b[31mJ\u001b[0m\u001b[31m \u001b[0m\u001b[31m+\u001b[0m\u001b[31m \u001b[0m\u001b[31m1\u001b[0m\u001b[31m]\u001b[0m\u001b[31m:\u001b[0m\u001b[31m\n",
      "\u001b[0m\u001b[31mI\u001b[0m\u001b[31mN\u001b[0m\u001b[31mD\u001b[0m\u001b[31mE\u001b[0m\u001b[31mX\u001b[0m\u001b[31mE\u001b[0m\u001b[31mR\u001b[0m\u001b[31mR\u001b[0m\u001b[31mO\u001b[0m\u001b[31mR\u001b[0m\u001b[31m:\u001b[0m\u001b[31m \u001b[0m\u001b[31mL\u001b[0m\u001b[31mI\u001b[0m\u001b[31mS\u001b[0m\u001b[31mT\u001b[0m\u001b[31m \u001b[0m\u001b[31mI\u001b[0m\u001b[31mN\u001b[0m\u001b[31mD\u001b[0m\u001b[31mE\u001b[0m\u001b[31mX\u001b[0m\u001b[31m \u001b[0m\u001b[31mO\u001b[0m\u001b[31mU\u001b[0m\u001b[31mT\u001b[0m\u001b[31m \u001b[0m\u001b[31mO\u001b[0m\u001b[31mF\u001b[0m\u001b[31m \u001b[0m\u001b[31mR\u001b[0m\u001b[31mA\u001b[0m\u001b[31mN\u001b[0m\u001b[31mG\u001b[0m\u001b[31mE\u001b[0m\u001b[31m\n",
      "\u001b[0m\u001b[31m\n",
      "\u001b[0m\u001b[31m\n",
      "\u001b[0m\u001b[31mN\u001b[0m\u001b[31mE\u001b[0m\u001b[31mX\u001b[0m\u001b[31mT\u001b[0m\u001b[31m \u001b[0m\u001b[31mL\u001b[0m\u001b[31mI\u001b[0m\u001b[31mN\u001b[0m\u001b[31mE\u001b[0m\u001b[31m:\u001b[0m\u001b[31m\n",
      "\u001b[0m\u001b[31m \u001b[0m\u001b[31m \u001b[0m\u001b[31m \u001b[0m\u001b[31m \u001b[0m\u001b[31m \u001b[0m\u001b[31m \u001b[0m\u001b[31m \u001b[0m\u001b[31m \u001b[0m\u001b[31m \u001b[0m\u001b[31m \u001b[0m\u001b[31m \u001b[0m\u001b[31m \u001b[0m\u001b[31mI\u001b[0m\u001b[31mF\u001b[0m\u001b[31m \u001b[0m\u001b[31mN\u001b[0m\u001b[31mU\u001b[0m\u001b[31mM\u001b[0m\u001b[31mS\u001b[0m\u001b[31m[\u001b[0m\u001b[31mJ\u001b[0m\u001b[31m]\u001b[0m\u001b[31m \u001b[0m\u001b[31m>\u001b[0m\u001b[31m \u001b[0m\u001b[31mN\u001b[0m\u001b[31mU\u001b[0m\u001b[31mM\u001b[0m\u001b[31mS\u001b[0m\u001b[31m[\u001b[0m\u001b[31mJ\u001b[0m\u001b[31m \u001b[0m\u001b[31m+\u001b[0m\u001b[31m \u001b[0m\u001b[31m1\u001b[0m\u001b[31m]\u001b[0m\u001b[31m:\u001b[0m\u001b[31m\n",
      "\u001b[0m\u001b[31m\n",
      "\u001b[0m\u001b[31mL\u001b[0m\u001b[31mO\u001b[0m\u001b[31mC\u001b[0m\u001b[31mA\u001b[0m\u001b[31mL\u001b[0m\u001b[31m \u001b[0m\u001b[31mV\u001b[0m\u001b[31mA\u001b[0m\u001b[31mR\u001b[0m\u001b[31mI\u001b[0m\u001b[31mA\u001b[0m\u001b[31mB\u001b[0m\u001b[31mL\u001b[0m\u001b[31mE\u001b[0m\u001b[31mS\u001b[0m\u001b[31m:\u001b[0m\u001b[31m\n",
      "\u001b[0m\u001b[31m{\u001b[0m\u001b[31m\n"
     ]
    },
    {
     "name": "stdout",
     "output_type": "stream",
     "text": [
      "\u001b[0m\u001b[31m \u001b[0m\u001b[31m \u001b[0m\u001b[31m \u001b[0m\u001b[31m \u001b[0m\u001b[31m'\u001b[0m\u001b[31mN\u001b[0m\u001b[31mU\u001b[0m\u001b[31mM\u001b[0m\u001b[31mS\u001b[0m\u001b[31m'\u001b[0m\u001b[31m:\u001b[0m\u001b[31m \u001b[0m\u001b[31m[\u001b[0m\u001b[31m-\u001b[0m\u001b[31m1\u001b[0m\u001b[31m0\u001b[0m\u001b[31m0\u001b[0m\u001b[31m,\u001b[0m\u001b[31m \u001b[0m\u001b[31m1\u001b[0m\u001b[31m,\u001b[0m\u001b[31m \u001b[0m\u001b[31m3\u001b[0m\u001b[31m,\u001b[0m\u001b[31m \u001b[0m\u001b[31m4\u001b[0m\u001b[31m,\u001b[0m\u001b[31m \u001b[0m\u001b[31m5\u001b[0m\u001b[31m,\u001b[0m\u001b[31m \u001b[0m\u001b[31m5\u001b[0m\u001b[31m,\u001b[0m\u001b[31m \u001b[0m\u001b[31m5\u001b[0m\u001b[31m,\u001b[0m\u001b[31m \u001b[0m\u001b[31m9\u001b[0m\u001b[31m,\u001b[0m\u001b[31m \u001b[0m\u001b[31m2\u001b[0m\u001b[31m2\u001b[0m\u001b[31m,\u001b[0m\u001b[31m \u001b[0m\u001b[31m3\u001b[0m\u001b[31m3\u001b[0m\u001b[31m]\u001b[0m\u001b[31m,\u001b[0m\u001b[31m \u001b[0m\u001b[31m \u001b[0m\u001b[31m \u001b[0m\u001b[31m#\u001b[0m\u001b[31m \u001b[0m\u001b[31mT\u001b[0m\u001b[31mY\u001b[0m\u001b[31mP\u001b[0m\u001b[31mE\u001b[0m\u001b[31m:\u001b[0m\u001b[31m \u001b[0m\u001b[31mL\u001b[0m\u001b[31mI\u001b[0m\u001b[31mS\u001b[0m\u001b[31mT\u001b[0m\u001b[31m\n",
      "\u001b[0m\u001b[31m \u001b[0m\u001b[31m \u001b[0m\u001b[31m \u001b[0m\u001b[31m \u001b[0m\u001b[31m'\u001b[0m\u001b[31mI\u001b[0m\u001b[31m'\u001b[0m\u001b[31m:\u001b[0m\u001b[31m \u001b[0m\u001b[31m0\u001b[0m\u001b[31m,\u001b[0m\u001b[31m \u001b[0m\u001b[31m \u001b[0m\u001b[31m \u001b[0m\u001b[31m#\u001b[0m\u001b[31m \u001b[0m\u001b[31mT\u001b[0m\u001b[31mY\u001b[0m\u001b[31mP\u001b[0m\u001b[31mE\u001b[0m\u001b[31m:\u001b[0m\u001b[31m \u001b[0m\u001b[31mI\u001b[0m\u001b[31mN\u001b[0m\u001b[31mT\u001b[0m\u001b[31m\n",
      "\u001b[0m\u001b[31m \u001b[0m\u001b[31m \u001b[0m\u001b[31m \u001b[0m\u001b[31m \u001b[0m\u001b[31m'\u001b[0m\u001b[31mJ\u001b[0m\u001b[31m'\u001b[0m\u001b[31m:\u001b[0m\u001b[31m \u001b[0m\u001b[31m9\u001b[0m\u001b[31m,\u001b[0m\u001b[31m \u001b[0m\u001b[31m \u001b[0m\u001b[31m \u001b[0m\u001b[31m#\u001b[0m\u001b[31m \u001b[0m\u001b[31mT\u001b[0m\u001b[31mY\u001b[0m\u001b[31mP\u001b[0m\u001b[31mE\u001b[0m\u001b[31m:\u001b[0m\u001b[31m \u001b[0m\u001b[31mI\u001b[0m\u001b[31mN\u001b[0m\u001b[31mT\u001b[0m\u001b[31m\n",
      "\u001b[0m\u001b[31m}\u001b[0m\u001b[31m\n",
      "\u001b[0m\u001b[31m\n",
      "\u001b[0m\u001b[31mG\u001b[0m\u001b[31mL\u001b[0m\u001b[31mO\u001b[0m\u001b[31mB\u001b[0m\u001b[31mA\u001b[0m\u001b[31mL\u001b[0m\u001b[31m \u001b[0m\u001b[31mV\u001b[0m\u001b[31mA\u001b[0m\u001b[31mR\u001b[0m\u001b[31mI\u001b[0m\u001b[31mA\u001b[0m\u001b[31mB\u001b[0m\u001b[31mL\u001b[0m\u001b[31mE\u001b[0m\u001b[31mS\u001b[0m\u001b[31m:\u001b[0m\u001b[31m\n",
      "\u001b[0m\u001b[31m{\u001b[0m\u001b[31m\n",
      "\u001b[0m\u001b[31m \u001b[0m\u001b[31m \u001b[0m\u001b[31m \u001b[0m\u001b[31m'\u001b[0m\u001b[31mN\u001b[0m\u001b[31mU\u001b[0m\u001b[31mM\u001b[0m\u001b[31mS\u001b[0m\u001b[31m'\u001b[0m\u001b[31m:\u001b[0m\u001b[31m \u001b[0m\u001b[31m[\u001b[0m\u001b[31m-\u001b[0m\u001b[31m1\u001b[0m\u001b[31m0\u001b[0m\u001b[31m0\u001b[0m\u001b[31m,\u001b[0m\u001b[31m \u001b[0m\u001b[31m1\u001b[0m\u001b[31m,\u001b[0m\u001b[31m \u001b[0m\u001b[31m3\u001b[0m\u001b[31m,\u001b[0m\u001b[31m \u001b[0m\u001b[31m4\u001b[0m\u001b[31m,\u001b[0m\u001b[31m \u001b[0m\u001b[31m5\u001b[0m\u001b[31m,\u001b[0m\u001b[31m \u001b[0m\u001b[31m5\u001b[0m\u001b[31m,\u001b[0m\u001b[31m \u001b[0m\u001b[31m5\u001b[0m\u001b[31m,\u001b[0m\u001b[31m \u001b[0m\u001b[31m9\u001b[0m\u001b[31m,\u001b[0m\u001b[31m \u001b[0m\u001b[31m2\u001b[0m\u001b[31m2\u001b[0m\u001b[31m,\u001b[0m\u001b[31m \u001b[0m\u001b[31m3\u001b[0m\u001b[31m3\u001b[0m\u001b[31m]\u001b[0m\u001b[31m,\u001b[0m\u001b[31m \u001b[0m\u001b[31m \u001b[0m\u001b[31m \u001b[0m\u001b[31m#\u001b[0m\u001b[31m \u001b[0m\u001b[31mT\u001b[0m\u001b[31mY\u001b[0m\u001b[31mP\u001b[0m\u001b[31mE\u001b[0m\u001b[31m:\u001b[0m\u001b[31m \u001b[0m\u001b[31mL\u001b[0m\u001b[31mI\u001b[0m\u001b[31mS\u001b[0m\u001b[31mT\u001b[0m\u001b[31m\n",
      "\u001b[0m\u001b[31m}\u001b[0m"
     ]
    }
   ],
   "source": [
    "res = bubble_sort(nums)\n",
    "print('after')"
   ]
  },
  {
   "cell_type": "code",
   "execution_count": 42,
   "metadata": {
    "ExecuteTime": {
     "end_time": "2023-04-14T04:21:58.366761Z",
     "start_time": "2023-04-14T04:21:58.321148Z"
    }
   },
   "outputs": [],
   "source": [
    "errors.disable()"
   ]
  },
  {
   "cell_type": "code",
   "execution_count": 43,
   "metadata": {
    "ExecuteTime": {
     "end_time": "2023-04-14T04:22:12.943615Z",
     "start_time": "2023-04-14T04:22:12.883646Z"
    }
   },
   "outputs": [],
   "source": [
    "from roboduck import magic"
   ]
  },
  {
   "cell_type": "code",
   "execution_count": 44,
   "metadata": {
    "ExecuteTime": {
     "end_time": "2023-04-14T04:22:13.943526Z",
     "start_time": "2023-04-14T04:22:13.848658Z"
    }
   },
   "outputs": [],
   "source": [
    "def bubble_sort(nums):\n",
    "    for i in range(len(nums)):\n",
    "        for j in range(len(nums)):\n",
    "            if nums[j] > nums[j + 1]:\n",
    "                nums[j + 1], nums[j] = nums[j], nums[j + 1]\n",
    "    return nums"
   ]
  },
  {
   "cell_type": "code",
   "execution_count": 45,
   "metadata": {
    "ExecuteTime": {
     "end_time": "2023-04-14T04:22:23.264537Z",
     "start_time": "2023-04-14T04:22:23.204603Z"
    }
   },
   "outputs": [
    {
     "ename": "IndexError",
     "evalue": "list index out of range",
     "output_type": "error",
     "traceback": [
      "\u001b[0;31m---------------------------------------------------------------------------\u001b[0m",
      "\u001b[0;31mIndexError\u001b[0m                                Traceback (most recent call last)",
      "\u001b[0;32m<ipython-input-45-9bb1c33833ca>\u001b[0m in \u001b[0;36m<module>\u001b[0;34m\u001b[0m\n\u001b[0;32m----> 1\u001b[0;31m \u001b[0mbubble_sort\u001b[0m\u001b[0;34m(\u001b[0m\u001b[0mnums\u001b[0m\u001b[0;34m)\u001b[0m\u001b[0;34m\u001b[0m\u001b[0;34m\u001b[0m\u001b[0m\n\u001b[0m",
      "\u001b[0;32m<ipython-input-44-3f12a9f434a7>\u001b[0m in \u001b[0;36mbubble_sort\u001b[0;34m(nums)\u001b[0m\n\u001b[1;32m      2\u001b[0m     \u001b[0;32mfor\u001b[0m \u001b[0mi\u001b[0m \u001b[0;32min\u001b[0m \u001b[0mrange\u001b[0m\u001b[0;34m(\u001b[0m\u001b[0mlen\u001b[0m\u001b[0;34m(\u001b[0m\u001b[0mnums\u001b[0m\u001b[0;34m)\u001b[0m\u001b[0;34m)\u001b[0m\u001b[0;34m:\u001b[0m\u001b[0;34m\u001b[0m\u001b[0;34m\u001b[0m\u001b[0m\n\u001b[1;32m      3\u001b[0m         \u001b[0;32mfor\u001b[0m \u001b[0mj\u001b[0m \u001b[0;32min\u001b[0m \u001b[0mrange\u001b[0m\u001b[0;34m(\u001b[0m\u001b[0mlen\u001b[0m\u001b[0;34m(\u001b[0m\u001b[0mnums\u001b[0m\u001b[0;34m)\u001b[0m\u001b[0;34m)\u001b[0m\u001b[0;34m:\u001b[0m\u001b[0;34m\u001b[0m\u001b[0;34m\u001b[0m\u001b[0m\n\u001b[0;32m----> 4\u001b[0;31m             \u001b[0;32mif\u001b[0m \u001b[0mnums\u001b[0m\u001b[0;34m[\u001b[0m\u001b[0mj\u001b[0m\u001b[0;34m]\u001b[0m \u001b[0;34m>\u001b[0m \u001b[0mnums\u001b[0m\u001b[0;34m[\u001b[0m\u001b[0mj\u001b[0m \u001b[0;34m+\u001b[0m \u001b[0;36m1\u001b[0m\u001b[0;34m]\u001b[0m\u001b[0;34m:\u001b[0m\u001b[0;34m\u001b[0m\u001b[0;34m\u001b[0m\u001b[0m\n\u001b[0m\u001b[1;32m      5\u001b[0m                 \u001b[0mnums\u001b[0m\u001b[0;34m[\u001b[0m\u001b[0mj\u001b[0m \u001b[0;34m+\u001b[0m \u001b[0;36m1\u001b[0m\u001b[0;34m]\u001b[0m\u001b[0;34m,\u001b[0m \u001b[0mnums\u001b[0m\u001b[0;34m[\u001b[0m\u001b[0mj\u001b[0m\u001b[0;34m]\u001b[0m \u001b[0;34m=\u001b[0m \u001b[0mnums\u001b[0m\u001b[0;34m[\u001b[0m\u001b[0mj\u001b[0m\u001b[0;34m]\u001b[0m\u001b[0;34m,\u001b[0m \u001b[0mnums\u001b[0m\u001b[0;34m[\u001b[0m\u001b[0mj\u001b[0m \u001b[0;34m+\u001b[0m \u001b[0;36m1\u001b[0m\u001b[0;34m]\u001b[0m\u001b[0;34m\u001b[0m\u001b[0;34m\u001b[0m\u001b[0m\n\u001b[1;32m      6\u001b[0m     \u001b[0;32mreturn\u001b[0m \u001b[0mnums\u001b[0m\u001b[0;34m\u001b[0m\u001b[0;34m\u001b[0m\u001b[0m\n",
      "\u001b[0;31mIndexError\u001b[0m: list index out of range"
     ]
    }
   ],
   "source": [
    "bubble_sort(nums)"
   ]
  },
  {
   "cell_type": "code",
   "execution_count": 46,
   "metadata": {
    "ExecuteTime": {
     "end_time": "2023-04-14T04:23:08.541264Z",
     "start_time": "2023-04-14T04:23:00.590273Z"
    }
   },
   "outputs": [
    {
     "name": "stdout",
     "output_type": "stream",
     "text": [
      "Traceback (most recent call last):\n",
      "  File \"/Users/hmamin/anaconda3/envs/py38/lib/python3.8/site-packages/IPython/core/interactiveshell.py\", line 3441, in run_code\n",
      "    exec(code_obj, self.user_global_ns, self.user_ns)\n",
      "  File \"<ipython-input-45-9bb1c33833ca>\", line 1, in <module>\n",
      "    bubble_sort(nums)\n",
      "  File \"<ipython-input-44-3f12a9f434a7>\", line 4, in bubble_sort\n",
      "    if nums[j] > nums[j + 1]:\n",
      "IndexError: list index out of range\n",
      "\n",
      "> <ipython-input-44-3f12a9f434a7>(4)bubble_sort()\n",
      "-> if nums[j] > nums[j + 1]:\n",
      "\u001b[31m[Duck] \u001b[0m\u001b[31mT\u001b[0m\u001b[31mh\u001b[0m\u001b[31me\u001b[0m\u001b[31m \u001b[0m\u001b[31mp\u001b[0m\u001b[31mr\u001b[0m\u001b[31mo\u001b[0m\u001b[31mb\u001b[0m\u001b[31ml\u001b[0m\u001b[31me\u001b[0m\u001b[31mm\u001b[0m\u001b[31m \u001b[0m\u001b[31mw\u001b[0m\u001b[31mi\u001b[0m\u001b[31mt\u001b[0m\u001b[31mh\u001b[0m\u001b[31m \u001b[0m\u001b[31mt\u001b[0m\u001b[31mh\u001b[0m\u001b[31me\u001b[0m\u001b[31m \u001b[0m\u001b[31mc\u001b[0m\u001b[31mo\u001b[0m\u001b[31md\u001b[0m\u001b[31me\u001b[0m\u001b[31m \u001b[0m\u001b[31mi\u001b[0m\u001b[31ms\u001b[0m\u001b[31m \u001b[0m\u001b[31mt\u001b[0m\u001b[31mh\u001b[0m\u001b[31ma\u001b[0m\u001b[31mt\u001b[0m\u001b[31m \u001b[0m\u001b[31mt\u001b[0m\u001b[31mh\u001b[0m\u001b[31me\u001b[0m\u001b[31m \u001b[0m\u001b[31mi\u001b[0m\u001b[31mn\u001b[0m\u001b[31mn\u001b[0m\u001b[31me\u001b[0m\u001b[31mr\u001b[0m\u001b[31m \u001b[0m\u001b[31ml\u001b[0m\u001b[31mo\u001b[0m\u001b[31mo\u001b[0m\u001b[31mp\u001b[0m\u001b[31m \u001b[0m\u001b[31mi\u001b[0m\u001b[31ms\u001b[0m\u001b[31m \u001b[0m\u001b[31mi\u001b[0m\u001b[31mt\u001b[0m\u001b[31me\u001b[0m\u001b[31mr\u001b[0m\u001b[31ma\u001b[0m\u001b[31mt\u001b[0m\u001b[31mi\u001b[0m\u001b[31mn\u001b[0m\u001b[31mg\u001b[0m\u001b[31m \u001b[0m\u001b[31mo\u001b[0m\u001b[31mv\u001b[0m\u001b[31me\u001b[0m\u001b[31mr\u001b[0m\u001b[31m \u001b[0m\u001b[31mt\u001b[0m\u001b[31mh\u001b[0m\u001b[31me\u001b[0m\u001b[31m \u001b[0m\u001b[31me\u001b[0m\u001b[31mn\u001b[0m\u001b[31mt\u001b[0m\u001b[31mi\u001b[0m\u001b[31mr\u001b[0m\u001b[31me\u001b[0m\u001b[31m \u001b[0m\u001b[31ml\u001b[0m\u001b[31mi\u001b[0m\u001b[31ms\u001b[0m\u001b[31mt\u001b[0m\u001b[31m,\u001b[0m\u001b[31m \u001b[0m\u001b[31mi\u001b[0m\u001b[31mn\u001b[0m\u001b[31mc\u001b[0m\u001b[31ml\u001b[0m\u001b[31mu\u001b[0m\u001b[31md\u001b[0m\u001b[31mi\u001b[0m\u001b[31mn\u001b[0m\u001b[31mg\u001b[0m\u001b[31m \u001b[0m\u001b[31mt\u001b[0m\u001b[31mh\u001b[0m\u001b[31me\u001b[0m\u001b[31m \u001b[0m\u001b[31ml\u001b[0m\u001b[31ma\u001b[0m\u001b[31ms\u001b[0m\u001b[31mt\u001b[0m\u001b[31m \u001b[0m\u001b[31me\u001b[0m\u001b[31ml\u001b[0m\u001b[31me\u001b[0m\u001b[31mm\u001b[0m\u001b[31me\u001b[0m\u001b[31mn\u001b[0m\u001b[31mt\u001b[0m\u001b[31m,\u001b[0m\u001b[31m \u001b[0m\u001b[31mw\u001b[0m\u001b[31mh\u001b[0m\u001b[31mi\u001b[0m\u001b[31mc\u001b[0m\u001b[31mh\u001b[0m\u001b[31m \u001b[0m\u001b[31mc\u001b[0m\u001b[31ma\u001b[0m\u001b[31mu\u001b[0m\u001b[31ms\u001b[0m\u001b[31me\u001b[0m\u001b[31ms\u001b[0m\u001b[31m \u001b[0m\u001b[31ma\u001b[0m\u001b[31mn\u001b[0m\u001b[31m \u001b[0m\u001b[31mI\u001b[0m\u001b[31mn\u001b[0m\u001b[31md\u001b[0m\u001b[31me\u001b[0m\u001b[31mx\u001b[0m\u001b[31mE\u001b[0m\u001b[31mr\u001b[0m\u001b[31mr\u001b[0m\u001b[31mo\u001b[0m\u001b[31mr\u001b[0m\u001b[31m \u001b[0m\u001b[31mw\u001b[0m\u001b[31mh\u001b[0m\u001b[31me\u001b[0m\u001b[31mn\u001b[0m\u001b[31m \u001b[0m\u001b[31mt\u001b[0m\u001b[31mr\u001b[0m\u001b[31my\u001b[0m\u001b[31mi\u001b[0m\u001b[31mn\u001b[0m\u001b[31mg\u001b[0m\u001b[31m \u001b[0m\u001b[31mt\u001b[0m\u001b[31mo\u001b[0m\u001b[31m \u001b[0m\u001b[31ma\u001b[0m\u001b[31mc\u001b[0m\u001b[31mc\u001b[0m\u001b[31me\u001b[0m\u001b[31ms\u001b[0m\u001b[31ms\u001b[0m\u001b[31m \u001b[0m\u001b[31mn\u001b[0m\u001b[31mu\u001b[0m\u001b[31mm\u001b[0m\u001b[31ms\u001b[0m\u001b[31m[\u001b[0m\u001b[31mj\u001b[0m\u001b[31m+\u001b[0m\u001b[31m1\u001b[0m\u001b[31m]\u001b[0m\u001b[31m.\u001b[0m\u001b[31m \u001b[0m\u001b[31mT\u001b[0m\u001b[31mo\u001b[0m\u001b[31m \u001b[0m\u001b[31mf\u001b[0m\u001b[31mi\u001b[0m\u001b[31mx\u001b[0m\u001b[31m \u001b[0m\u001b[31mt\u001b[0m\u001b[31mh\u001b[0m\u001b[31mi\u001b[0m\u001b[31ms\u001b[0m\u001b[31m,\u001b[0m\u001b[31m \u001b[0m\u001b[31mc\u001b[0m\u001b[31mh\u001b[0m\u001b[31ma\u001b[0m\u001b[31mn\u001b[0m\u001b[31mg\u001b[0m\u001b[31me\u001b[0m\u001b[31m \u001b[0m\u001b[31mt\u001b[0m\u001b[31mh\u001b[0m\u001b[31me\u001b[0m\u001b[31m \u001b[0m\u001b[31mr\u001b[0m\u001b[31ma\u001b[0m\u001b[31mn\u001b[0m\u001b[31mg\u001b[0m\u001b[31me\u001b[0m\u001b[31m \u001b[0m\u001b[31mo\u001b[0m\u001b[31mf\u001b[0m\u001b[31m \u001b[0m\u001b[31mt\u001b[0m\u001b[31mh\u001b[0m\u001b[31me\u001b[0m\u001b[31m \u001b[0m\u001b[31mi\u001b[0m\u001b[31mn\u001b[0m\u001b[31mn\u001b[0m\u001b[31me\u001b[0m\u001b[31mr\u001b[0m\u001b[31m \u001b[0m\u001b[31ml\u001b[0m\u001b[31mo\u001b[0m\u001b[31mo\u001b[0m\u001b[31mp\u001b[0m\u001b[31m \u001b[0m\u001b[31mt\u001b[0m\u001b[31mo\u001b[0m\u001b[31m \u001b[0m\u001b[31me\u001b[0m\u001b[31mx\u001b[0m\u001b[31mc\u001b[0m\u001b[31ml\u001b[0m\u001b[31mu\u001b[0m\u001b[31md\u001b[0m\u001b[31me\u001b[0m\u001b[31m \u001b[0m\u001b[31mt\u001b[0m\u001b[31mh\u001b[0m\u001b[31me\u001b[0m\u001b[31m \u001b[0m\u001b[31ml\u001b[0m\u001b[31ma\u001b[0m\u001b[31ms\u001b[0m\u001b[31mt\u001b[0m\u001b[31m \u001b[0m\u001b[31me\u001b[0m\u001b[31ml\u001b[0m\u001b[31me\u001b[0m\u001b[31mm\u001b[0m\u001b[31me\u001b[0m\u001b[31mn\u001b[0m\u001b[31mt\u001b[0m\u001b[31m \u001b[0m\u001b[31mb\u001b[0m\u001b[31my\u001b[0m\u001b[31m \u001b[0m\u001b[31ms\u001b[0m\u001b[31mu\u001b[0m\u001b[31mb\u001b[0m\u001b[31mt\u001b[0m\u001b[31mr\u001b[0m\u001b[31ma\u001b[0m\u001b[31mc\u001b[0m\u001b[31mt\u001b[0m\u001b[31mi\u001b[0m\u001b[31mn\u001b[0m\u001b[31mg\u001b[0m\u001b[31m \u001b[0m\u001b[31m1\u001b[0m\u001b[31m \u001b[0m\u001b[31mf\u001b[0m\u001b[31mr\u001b[0m\u001b[31mo\u001b[0m\u001b[31mm\u001b[0m\u001b[31m \u001b[0m\u001b[31mt\u001b[0m\u001b[31mh\u001b[0m\u001b[31me\u001b[0m\u001b[31m \u001b[0m\u001b[31ml\u001b[0m\u001b[31me\u001b[0m\u001b[31mn\u001b[0m\u001b[31mg\u001b[0m\u001b[31mt\u001b[0m\u001b[31mh\u001b[0m\u001b[31m \u001b[0m\u001b[31mo\u001b[0m\u001b[31mf\u001b[0m\u001b[31m \u001b[0m\u001b[31mt\u001b[0m\u001b[31mh\u001b[0m\u001b[31me\u001b[0m\u001b[31m \u001b[0m\u001b[31ml\u001b[0m\u001b[31mi\u001b[0m\u001b[31ms\u001b[0m\u001b[31mt\u001b[0m\u001b[31m.\u001b[0m\u001b[31m \u001b[0m\u001b[31m\n",
      "\u001b[0m\u001b[31m\n",
      "\u001b[0m\u001b[31m`\u001b[0m\u001b[31m`\u001b[0m\u001b[31m`\u001b[0m\u001b[31m\n",
      "\u001b[0m\u001b[31md\u001b[0m\u001b[31me\u001b[0m\u001b[31mf\u001b[0m\u001b[31m \u001b[0m\u001b[31mb\u001b[0m\u001b[31mu\u001b[0m\u001b[31mb\u001b[0m\u001b[31mb\u001b[0m\u001b[31ml\u001b[0m\u001b[31me\u001b[0m\u001b[31m_\u001b[0m\u001b[31ms\u001b[0m\u001b[31mo\u001b[0m\u001b[31mr\u001b[0m\u001b[31mt\u001b[0m\u001b[31m(\u001b[0m\u001b[31mn\u001b[0m\u001b[31mu\u001b[0m\u001b[31mm\u001b[0m\u001b[31ms\u001b[0m\u001b[31m)\u001b[0m\u001b[31m:\u001b[0m\u001b[31m\n",
      "\u001b[0m\u001b[31m \u001b[0m\u001b[31m \u001b[0m\u001b[31m \u001b[0m\u001b[31m \u001b[0m\u001b[31mf\u001b[0m\u001b[31mo\u001b[0m\u001b[31mr\u001b[0m\u001b[31m \u001b[0m\u001b[31mi\u001b[0m\u001b[31m \u001b[0m\u001b[31mi\u001b[0m\u001b[31mn\u001b[0m\u001b[31m \u001b[0m\u001b[31mr\u001b[0m\u001b[31ma\u001b[0m\u001b[31mn\u001b[0m\u001b[31mg\u001b[0m\u001b[31me\u001b[0m\u001b[31m(\u001b[0m\u001b[31ml\u001b[0m\u001b[31me\u001b[0m\u001b[31mn\u001b[0m\u001b[31m(\u001b[0m\u001b[31mn\u001b[0m\u001b[31mu\u001b[0m\u001b[31mm\u001b[0m\u001b[31ms\u001b[0m\u001b[31m)\u001b[0m\u001b[31m)\u001b[0m\u001b[31m:\u001b[0m\u001b[31m\n",
      "\u001b[0m\u001b[31m \u001b[0m\u001b[31m \u001b[0m\u001b[31m \u001b[0m\u001b[31m \u001b[0m\u001b[31m \u001b[0m\u001b[31m \u001b[0m\u001b[31m \u001b[0m\u001b[31m \u001b[0m\u001b[31mf\u001b[0m\u001b[31mo\u001b[0m\u001b[31mr\u001b[0m\u001b[31m \u001b[0m\u001b[31mj\u001b[0m\u001b[31m \u001b[0m\u001b[31mi\u001b[0m\u001b[31mn\u001b[0m\u001b[31m \u001b[0m\u001b[31mr\u001b[0m\u001b[31ma\u001b[0m\u001b[31mn\u001b[0m\u001b[31mg\u001b[0m\u001b[31me\u001b[0m\u001b[31m(\u001b[0m\u001b[31ml\u001b[0m\u001b[31me\u001b[0m\u001b[31mn\u001b[0m\u001b[31m(\u001b[0m\u001b[31mn\u001b[0m\u001b[31mu\u001b[0m\u001b[31mm\u001b[0m\u001b[31ms\u001b[0m\u001b[31m)\u001b[0m\u001b[31m \u001b[0m\u001b[31m-\u001b[0m\u001b[31m \u001b[0m\u001b[31m1\u001b[0m\u001b[31m)\u001b[0m\u001b[31m:\u001b[0m\u001b[31m \u001b[0m\u001b[31m \u001b[0m\u001b[31m#\u001b[0m\u001b[31m \u001b[0m\u001b[31ms\u001b[0m\u001b[31mu\u001b[0m\u001b[31mb\u001b[0m\u001b[31mt\u001b[0m\u001b[31mr\u001b[0m\u001b[31ma\u001b[0m\u001b[31mc\u001b[0m\u001b[31mt\u001b[0m\u001b[31m \u001b[0m\u001b[31m1\u001b[0m\u001b[31m \u001b[0m\u001b[31mf\u001b[0m\u001b[31mr\u001b[0m\u001b[31mo\u001b[0m\u001b[31mm\u001b[0m\u001b[31m \u001b[0m\u001b[31mt\u001b[0m\u001b[31mh\u001b[0m\u001b[31me\u001b[0m\u001b[31m \u001b[0m\u001b[31ml\u001b[0m\u001b[31me\u001b[0m\u001b[31mn\u001b[0m\u001b[31mg\u001b[0m\u001b[31mt\u001b[0m\u001b[31mh\u001b[0m\u001b[31m \u001b[0m\u001b[31mo\u001b[0m\u001b[31mf\u001b[0m\u001b[31m \u001b[0m\u001b[31mt\u001b[0m\u001b[31mh\u001b[0m\u001b[31me\u001b[0m\u001b[31m \u001b[0m\u001b[31ml\u001b[0m\u001b[31mi\u001b[0m\u001b[31ms\u001b[0m\u001b[31mt\u001b[0m\u001b[31m\n",
      "\u001b[0m\u001b[31m \u001b[0m\u001b[31m \u001b[0m\u001b[31m \u001b[0m\u001b[31m \u001b[0m\u001b[31m \u001b[0m\u001b[31m \u001b[0m\u001b[31m \u001b[0m\u001b[31m \u001b[0m\u001b[31m \u001b[0m\u001b[31m \u001b[0m\u001b[31m \u001b[0m\u001b[31m \u001b[0m\u001b[31mi\u001b[0m\u001b[31mf\u001b[0m\u001b[31m \u001b[0m\u001b[31mn\u001b[0m\u001b[31mu\u001b[0m\u001b[31mm\u001b[0m\u001b[31ms\u001b[0m\u001b[31m[\u001b[0m\u001b[31mj\u001b[0m\u001b[31m]\u001b[0m\u001b[31m \u001b[0m\u001b[31m>\u001b[0m\u001b[31m \u001b[0m\u001b[31mn\u001b[0m\u001b[31mu\u001b[0m\u001b[31mm\u001b[0m\u001b[31ms\u001b[0m\u001b[31m[\u001b[0m\u001b[31mj\u001b[0m\u001b[31m \u001b[0m\u001b[31m+\u001b[0m\u001b[31m \u001b[0m\u001b[31m1\u001b[0m\u001b[31m]\u001b[0m\u001b[31m:\u001b[0m\u001b[31m\n",
      "\u001b[0m\u001b[31m \u001b[0m\u001b[31m \u001b[0m\u001b[31m \u001b[0m\u001b[31m \u001b[0m\u001b[31m \u001b[0m\u001b[31m \u001b[0m\u001b[31m \u001b[0m\u001b[31m \u001b[0m\u001b[31m \u001b[0m\u001b[31m \u001b[0m\u001b[31m \u001b[0m\u001b[31m \u001b[0m\u001b[31m \u001b[0m\u001b[31m \u001b[0m\u001b[31m \u001b[0m\u001b[31m \u001b[0m\u001b[31mn\u001b[0m\u001b[31mu\u001b[0m\u001b[31mm\u001b[0m\u001b[31ms\u001b[0m\u001b[31m[\u001b[0m\u001b[31mj\u001b[0m\u001b[31m \u001b[0m\u001b[31m+\u001b[0m\u001b[31m \u001b[0m\u001b[31m1\u001b[0m\u001b[31m]\u001b[0m\u001b[31m,\u001b[0m\u001b[31m \u001b[0m\u001b[31mn\u001b[0m\u001b[31mu\u001b[0m\u001b[31mm\u001b[0m\u001b[31ms\u001b[0m\u001b[31m[\u001b[0m\u001b[31mj\u001b[0m\u001b[31m]\u001b[0m\u001b[31m \u001b[0m\u001b[31m=\u001b[0m\u001b[31m \u001b[0m\u001b[31mn\u001b[0m\u001b[31mu\u001b[0m\u001b[31mm\u001b[0m\u001b[31ms\u001b[0m\u001b[31m[\u001b[0m\u001b[31mj\u001b[0m\u001b[31m]\u001b[0m\u001b[31m,\u001b[0m\u001b[31m \u001b[0m\u001b[31mn\u001b[0m\u001b[31mu\u001b[0m\u001b[31mm\u001b[0m\u001b[31ms\u001b[0m\u001b[31m[\u001b[0m\u001b[31mj\u001b[0m\u001b[31m \u001b[0m\u001b[31m+\u001b[0m\u001b[31m \u001b[0m\u001b[31m1\u001b[0m\u001b[31m]\u001b[0m\u001b[31m\n",
      "\u001b[0m\u001b[31m \u001b[0m\u001b[31m \u001b[0m\u001b[31m \u001b[0m\u001b[31m \u001b[0m\u001b[31mr\u001b[0m\u001b[31me\u001b[0m\u001b[31mt\u001b[0m\u001b[31mu\u001b[0m\u001b[31mr\u001b[0m\u001b[31mn\u001b[0m\u001b[31m \u001b[0m\u001b[31mn\u001b[0m\u001b[31mu\u001b[0m\u001b[31mm\u001b[0m\u001b[31ms\u001b[0m\u001b[31m\n",
      "\u001b[0m\u001b[31m`\u001b[0m\u001b[31m`\u001b[0m\u001b[31m`\u001b[0m"
     ]
    },
    {
     "ename": "AttributeError",
     "evalue": "type object 'CodeCompletionCache' has no attribute 'reset'",
     "output_type": "error",
     "traceback": [
      "\u001b[0;31m---------------------------------------------------------------------------\u001b[0m",
      "\u001b[0;31mAttributeError\u001b[0m                            Traceback (most recent call last)",
      "\u001b[0;32m<ipython-input-46-22b3170fa45e>\u001b[0m in \u001b[0;36m<module>\u001b[0;34m\u001b[0m\n\u001b[0;32m----> 1\u001b[0;31m \u001b[0mget_ipython\u001b[0m\u001b[0;34m(\u001b[0m\u001b[0;34m)\u001b[0m\u001b[0;34m.\u001b[0m\u001b[0mrun_line_magic\u001b[0m\u001b[0;34m(\u001b[0m\u001b[0;34m'duck'\u001b[0m\u001b[0;34m,\u001b[0m \u001b[0;34m'-p'\u001b[0m\u001b[0;34m)\u001b[0m\u001b[0;34m\u001b[0m\u001b[0;34m\u001b[0m\u001b[0m\n\u001b[0m",
      "\u001b[0;32m~/anaconda3/envs/py38/lib/python3.8/site-packages/IPython/core/interactiveshell.py\u001b[0m in \u001b[0;36mrun_line_magic\u001b[0;34m(self, magic_name, line, _stack_depth)\u001b[0m\n\u001b[1;32m   2346\u001b[0m                 \u001b[0mkwargs\u001b[0m\u001b[0;34m[\u001b[0m\u001b[0;34m'local_ns'\u001b[0m\u001b[0;34m]\u001b[0m \u001b[0;34m=\u001b[0m \u001b[0mself\u001b[0m\u001b[0;34m.\u001b[0m\u001b[0mget_local_scope\u001b[0m\u001b[0;34m(\u001b[0m\u001b[0mstack_depth\u001b[0m\u001b[0;34m)\u001b[0m\u001b[0;34m\u001b[0m\u001b[0;34m\u001b[0m\u001b[0m\n\u001b[1;32m   2347\u001b[0m             \u001b[0;32mwith\u001b[0m \u001b[0mself\u001b[0m\u001b[0;34m.\u001b[0m\u001b[0mbuiltin_trap\u001b[0m\u001b[0;34m:\u001b[0m\u001b[0;34m\u001b[0m\u001b[0;34m\u001b[0m\u001b[0m\n\u001b[0;32m-> 2348\u001b[0;31m                 \u001b[0mresult\u001b[0m \u001b[0;34m=\u001b[0m \u001b[0mfn\u001b[0m\u001b[0;34m(\u001b[0m\u001b[0;34m*\u001b[0m\u001b[0margs\u001b[0m\u001b[0;34m,\u001b[0m \u001b[0;34m**\u001b[0m\u001b[0mkwargs\u001b[0m\u001b[0;34m)\u001b[0m\u001b[0;34m\u001b[0m\u001b[0;34m\u001b[0m\u001b[0m\n\u001b[0m\u001b[1;32m   2349\u001b[0m             \u001b[0;32mreturn\u001b[0m \u001b[0mresult\u001b[0m\u001b[0;34m\u001b[0m\u001b[0;34m\u001b[0m\u001b[0m\n\u001b[1;32m   2350\u001b[0m \u001b[0;34m\u001b[0m\u001b[0m\n",
      "\u001b[0;32m<decorator-gen-119>\u001b[0m in \u001b[0;36mduck\u001b[0;34m(self, line)\u001b[0m\n",
      "\u001b[0;32m~/anaconda3/envs/py38/lib/python3.8/site-packages/IPython/core/magic.py\u001b[0m in \u001b[0;36m<lambda>\u001b[0;34m(f, *a, **k)\u001b[0m\n\u001b[1;32m    185\u001b[0m     \u001b[0;31m# but it's overkill for just that one bit of state.\u001b[0m\u001b[0;34m\u001b[0m\u001b[0;34m\u001b[0m\u001b[0;34m\u001b[0m\u001b[0m\n\u001b[1;32m    186\u001b[0m     \u001b[0;32mdef\u001b[0m \u001b[0mmagic_deco\u001b[0m\u001b[0;34m(\u001b[0m\u001b[0marg\u001b[0m\u001b[0;34m)\u001b[0m\u001b[0;34m:\u001b[0m\u001b[0;34m\u001b[0m\u001b[0;34m\u001b[0m\u001b[0m\n\u001b[0;32m--> 187\u001b[0;31m         \u001b[0mcall\u001b[0m \u001b[0;34m=\u001b[0m \u001b[0;32mlambda\u001b[0m \u001b[0mf\u001b[0m\u001b[0;34m,\u001b[0m \u001b[0;34m*\u001b[0m\u001b[0ma\u001b[0m\u001b[0;34m,\u001b[0m \u001b[0;34m**\u001b[0m\u001b[0mk\u001b[0m\u001b[0;34m:\u001b[0m \u001b[0mf\u001b[0m\u001b[0;34m(\u001b[0m\u001b[0;34m*\u001b[0m\u001b[0ma\u001b[0m\u001b[0;34m,\u001b[0m \u001b[0;34m**\u001b[0m\u001b[0mk\u001b[0m\u001b[0;34m)\u001b[0m\u001b[0;34m\u001b[0m\u001b[0;34m\u001b[0m\u001b[0m\n\u001b[0m\u001b[1;32m    188\u001b[0m \u001b[0;34m\u001b[0m\u001b[0m\n\u001b[1;32m    189\u001b[0m         \u001b[0;32mif\u001b[0m \u001b[0mcallable\u001b[0m\u001b[0;34m(\u001b[0m\u001b[0marg\u001b[0m\u001b[0;34m)\u001b[0m\u001b[0;34m:\u001b[0m\u001b[0;34m\u001b[0m\u001b[0;34m\u001b[0m\u001b[0m\n",
      "\u001b[0;32m~/roboduck/lib/roboduck/magic.py\u001b[0m in \u001b[0;36mduck\u001b[0;34m(self, line)\u001b[0m\n\u001b[1;32m    114\u001b[0m             self.shell.set_next_input(CodeCompletionCache.last_new_code,\n\u001b[1;32m    115\u001b[0m                                       replace=False)\n\u001b[0;32m--> 116\u001b[0;31m         \u001b[0mCodeCompletionCache\u001b[0m\u001b[0;34m.\u001b[0m\u001b[0mreset\u001b[0m\u001b[0;34m(\u001b[0m\u001b[0;34m)\u001b[0m\u001b[0;34m\u001b[0m\u001b[0;34m\u001b[0m\u001b[0m\n\u001b[0m\u001b[1;32m    117\u001b[0m \u001b[0;34m\u001b[0m\u001b[0m\n\u001b[1;32m    118\u001b[0m \u001b[0;34m\u001b[0m\u001b[0m\n",
      "\u001b[0;31mAttributeError\u001b[0m: type object 'CodeCompletionCache' has no attribute 'reset'"
     ]
    }
   ],
   "source": [
    "%duck -p"
   ]
  },
  {
   "cell_type": "code",
   "execution_count": null,
   "metadata": {},
   "outputs": [],
   "source": [
    "def bubble_sort(nums):\n",
    "    for i in range(len(nums)):\n",
    "        for j in range(len(nums) - 1):  # subtract 1 from the length of the list\n",
    "            if nums[j] > nums[j + 1]:\n",
    "                nums[j + 1], nums[j] = nums[j], nums[j + 1]\n",
    "    return nums"
   ]
  },
  {
   "cell_type": "code",
   "execution_count": null,
   "metadata": {},
   "outputs": [],
   "source": []
  }
 ],
 "metadata": {
  "kernelspec": {
   "display_name": "Python 3",
   "language": "python",
   "name": "python3"
  },
  "language_info": {
   "codemirror_mode": {
    "name": "ipython",
    "version": 3
   },
   "file_extension": ".py",
   "mimetype": "text/x-python",
   "name": "python",
   "nbconvert_exporter": "python",
   "pygments_lexer": "ipython3",
   "version": "3.8.2"
  }
 },
 "nbformat": 4,
 "nbformat_minor": 2
}
