{
 "cells": [
  {
   "cell_type": "code",
   "execution_count": 1,
   "metadata": {
    "ExecuteTime": {
     "end_time": "2023-04-10T02:53:49.497332Z",
     "start_time": "2023-04-10T02:53:49.475629Z"
    }
   },
   "outputs": [
    {
     "name": "stdout",
     "output_type": "stream",
     "text": [
      "The autoreload extension is already loaded. To reload it, use:\n",
      "  %reload_ext autoreload\n"
     ]
    }
   ],
   "source": [
    "%load_ext autoreload\n",
    "%autoreload 2"
   ]
  },
  {
   "cell_type": "code",
   "execution_count": 3,
   "metadata": {
    "ExecuteTime": {
     "end_time": "2023-04-10T02:53:54.396282Z",
     "start_time": "2023-04-10T02:53:54.307837Z"
    }
   },
   "outputs": [],
   "source": [
    "import matplotlib.pyplot as plt\n",
    "import numpy as np\n",
    "import os\n",
    "import pandas as pd\n",
    "from pathlib import Path\n",
    "\n",
    "from htools import *"
   ]
  },
  {
   "cell_type": "code",
   "execution_count": 4,
   "metadata": {
    "ExecuteTime": {
     "end_time": "2023-04-10T02:53:54.515845Z",
     "start_time": "2023-04-10T02:53:54.486555Z"
    }
   },
   "outputs": [
    {
     "name": "stdout",
     "output_type": "stream",
     "text": [
      "Current directory: /Users/hmamin/roboduck\n"
     ]
    }
   ],
   "source": [
    "cd_root()"
   ]
  },
  {
   "cell_type": "code",
   "execution_count": 5,
   "metadata": {
    "ExecuteTime": {
     "end_time": "2023-04-10T02:53:54.643238Z",
     "start_time": "2023-04-10T02:53:54.612887Z"
    }
   },
   "outputs": [],
   "source": [
    "def bubble_sort(nums):\n",
    "    for i in range(len(nums)):\n",
    "        for j in range(len(nums)):\n",
    "            if nums[j] > nums[j + 1]:\n",
    "                nums[j + 1], nums[j] = nums[j], nums[j + 1]\n",
    "    return nums"
   ]
  },
  {
   "cell_type": "code",
   "execution_count": 6,
   "metadata": {
    "ExecuteTime": {
     "end_time": "2023-04-10T02:53:54.762565Z",
     "start_time": "2023-04-10T02:53:54.734860Z"
    }
   },
   "outputs": [],
   "source": [
    "nums = [3, 4, 1, 22, 9, -100, 5, 5, 5, 33]"
   ]
  },
  {
   "cell_type": "code",
   "execution_count": 7,
   "metadata": {
    "ExecuteTime": {
     "end_time": "2023-04-10T02:53:54.920611Z",
     "start_time": "2023-04-10T02:53:54.879184Z"
    }
   },
   "outputs": [
    {
     "ename": "IndexError",
     "evalue": "list index out of range",
     "output_type": "error",
     "traceback": [
      "\u001b[0;31m---------------------------------------------------------------------------\u001b[0m",
      "\u001b[0;31mIndexError\u001b[0m                                Traceback (most recent call last)",
      "\u001b[0;32m<ipython-input-7-9bb1c33833ca>\u001b[0m in \u001b[0;36m<module>\u001b[0;34m\u001b[0m\n\u001b[0;32m----> 1\u001b[0;31m \u001b[0mbubble_sort\u001b[0m\u001b[0;34m(\u001b[0m\u001b[0mnums\u001b[0m\u001b[0;34m)\u001b[0m\u001b[0;34m\u001b[0m\u001b[0;34m\u001b[0m\u001b[0m\n\u001b[0m",
      "\u001b[0;32m<ipython-input-5-3f12a9f434a7>\u001b[0m in \u001b[0;36mbubble_sort\u001b[0;34m(nums)\u001b[0m\n\u001b[1;32m      2\u001b[0m     \u001b[0;32mfor\u001b[0m \u001b[0mi\u001b[0m \u001b[0;32min\u001b[0m \u001b[0mrange\u001b[0m\u001b[0;34m(\u001b[0m\u001b[0mlen\u001b[0m\u001b[0;34m(\u001b[0m\u001b[0mnums\u001b[0m\u001b[0;34m)\u001b[0m\u001b[0;34m)\u001b[0m\u001b[0;34m:\u001b[0m\u001b[0;34m\u001b[0m\u001b[0;34m\u001b[0m\u001b[0m\n\u001b[1;32m      3\u001b[0m         \u001b[0;32mfor\u001b[0m \u001b[0mj\u001b[0m \u001b[0;32min\u001b[0m \u001b[0mrange\u001b[0m\u001b[0;34m(\u001b[0m\u001b[0mlen\u001b[0m\u001b[0;34m(\u001b[0m\u001b[0mnums\u001b[0m\u001b[0;34m)\u001b[0m\u001b[0;34m)\u001b[0m\u001b[0;34m:\u001b[0m\u001b[0;34m\u001b[0m\u001b[0;34m\u001b[0m\u001b[0m\n\u001b[0;32m----> 4\u001b[0;31m             \u001b[0;32mif\u001b[0m \u001b[0mnums\u001b[0m\u001b[0;34m[\u001b[0m\u001b[0mj\u001b[0m\u001b[0;34m]\u001b[0m \u001b[0;34m>\u001b[0m \u001b[0mnums\u001b[0m\u001b[0;34m[\u001b[0m\u001b[0mj\u001b[0m \u001b[0;34m+\u001b[0m \u001b[0;36m1\u001b[0m\u001b[0;34m]\u001b[0m\u001b[0;34m:\u001b[0m\u001b[0;34m\u001b[0m\u001b[0;34m\u001b[0m\u001b[0m\n\u001b[0m\u001b[1;32m      5\u001b[0m                 \u001b[0mnums\u001b[0m\u001b[0;34m[\u001b[0m\u001b[0mj\u001b[0m \u001b[0;34m+\u001b[0m \u001b[0;36m1\u001b[0m\u001b[0;34m]\u001b[0m\u001b[0;34m,\u001b[0m \u001b[0mnums\u001b[0m\u001b[0;34m[\u001b[0m\u001b[0mj\u001b[0m\u001b[0;34m]\u001b[0m \u001b[0;34m=\u001b[0m \u001b[0mnums\u001b[0m\u001b[0;34m[\u001b[0m\u001b[0mj\u001b[0m\u001b[0;34m]\u001b[0m\u001b[0;34m,\u001b[0m \u001b[0mnums\u001b[0m\u001b[0;34m[\u001b[0m\u001b[0mj\u001b[0m \u001b[0;34m+\u001b[0m \u001b[0;36m1\u001b[0m\u001b[0;34m]\u001b[0m\u001b[0;34m\u001b[0m\u001b[0;34m\u001b[0m\u001b[0m\n\u001b[1;32m      6\u001b[0m     \u001b[0;32mreturn\u001b[0m \u001b[0mnums\u001b[0m\u001b[0;34m\u001b[0m\u001b[0;34m\u001b[0m\u001b[0m\n",
      "\u001b[0;31mIndexError\u001b[0m: list index out of range"
     ]
    }
   ],
   "source": [
    "bubble_sort(nums)"
   ]
  },
  {
   "cell_type": "code",
   "execution_count": 12,
   "metadata": {
    "ExecuteTime": {
     "end_time": "2023-04-10T02:57:36.512372Z",
     "start_time": "2023-04-10T02:57:36.433088Z"
    }
   },
   "outputs": [],
   "source": [
    "from roboduck.debug import duck\n",
    "from roboduck.langchain.chat import DummyChatModel"
   ]
  },
  {
   "cell_type": "code",
   "execution_count": 13,
   "metadata": {
    "ExecuteTime": {
     "end_time": "2023-04-10T02:57:36.699313Z",
     "start_time": "2023-04-10T02:57:36.660502Z"
    }
   },
   "outputs": [],
   "source": [
    "def bubble_sort(nums):\n",
    "    for i in range(len(nums)):\n",
    "        for j in range(len(nums)):\n",
    "            if nums[j] > nums[j + 1]:\n",
    "                nums[j + 1], nums[j] = nums[j], nums[j + 1]\n",
    "                duck(chat_class=DummyChatModel)\n",
    "    return nums"
   ]
  },
  {
   "cell_type": "code",
   "execution_count": 14,
   "metadata": {
    "ExecuteTime": {
     "end_time": "2023-04-10T02:59:00.680253Z",
     "start_time": "2023-04-10T02:57:36.884223Z"
    }
   },
   "outputs": [
    {
     "name": "stdout",
     "output_type": "stream",
     "text": [
      "chat: <roboduck.langchain.chat.DummyChatModel object at 0x7faf503191c0>\n",
      "--Return--\n",
      "> /Users/hmamin/anaconda3/envs/py38/lib/python3.8/site-packages/htools/meta.py(1966)wrapper()->None\n",
      "-> return new_func(*args, **kwargs)\n",
      ">>> n\n",
      "> <ipython-input-13-ce72152daa37>(3)bubble_sort()\n",
      "-> for j in range(len(nums)):\n",
      ">>> n\n",
      "> <ipython-input-13-ce72152daa37>(4)bubble_sort()\n",
      "-> if nums[j] > nums[j + 1]:\n",
      ">>> n\n",
      "> <ipython-input-13-ce72152daa37>(3)bubble_sort()\n",
      "-> for j in range(len(nums)):\n",
      ">>> n\n",
      "> <ipython-input-13-ce72152daa37>(4)bubble_sort()\n",
      "-> if nums[j] > nums[j + 1]:\n",
      ">>> i,j\n",
      "(0, 4)\n",
      ">>> Why?\n"
     ]
    },
    {
     "name": "stdout",
     "output_type": "stream",
     "text": [
      "\u001b[32m[Duck] \u001b[0m\u001b[32mT\u001b[0m\u001b[32mH\u001b[0m\u001b[32mI\u001b[0m\u001b[32mS\u001b[0m\u001b[32m \u001b[0m\u001b[32mC\u001b[0m\u001b[32mO\u001b[0m\u001b[32mD\u001b[0m\u001b[32mE\u001b[0m\u001b[32m \u001b[0m\u001b[32mS\u001b[0m\u001b[32mN\u001b[0m\u001b[32mI\u001b[0m\u001b[32mP\u001b[0m\u001b[32mP\u001b[0m\u001b[32mE\u001b[0m\u001b[32mT\u001b[0m\u001b[32m \u001b[0m\u001b[32mI\u001b[0m\u001b[32mS\u001b[0m\u001b[32m \u001b[0m\u001b[32mN\u001b[0m\u001b[32mO\u001b[0m\u001b[32mT\u001b[0m\u001b[32m \u001b[0m\u001b[32mW\u001b[0m\u001b[32mO\u001b[0m\u001b[32mR\u001b[0m\u001b[32mK\u001b[0m\u001b[32mI\u001b[0m\u001b[32mN\u001b[0m\u001b[32mG\u001b[0m\u001b[32m \u001b[0m\u001b[32mA\u001b[0m\u001b[32mS\u001b[0m\u001b[32m \u001b[0m\u001b[32mE\u001b[0m\u001b[32mX\u001b[0m\u001b[32mP\u001b[0m\u001b[32mE\u001b[0m\u001b[32mC\u001b[0m\u001b[32mT\u001b[0m\u001b[32mE\u001b[0m\u001b[32mD\u001b[0m\u001b[32m.\u001b[0m\u001b[32m \u001b[0m\u001b[32mH\u001b[0m\u001b[32mE\u001b[0m\u001b[32mL\u001b[0m\u001b[32mP\u001b[0m\u001b[32m \u001b[0m\u001b[32mM\u001b[0m\u001b[32mE\u001b[0m\u001b[32m \u001b[0m\u001b[32mD\u001b[0m\u001b[32mE\u001b[0m\u001b[32mB\u001b[0m\u001b[32mU\u001b[0m\u001b[32mG\u001b[0m\u001b[32m \u001b[0m\u001b[32mI\u001b[0m\u001b[32mT\u001b[0m\u001b[32m.\u001b[0m\u001b[32m \u001b[0m\u001b[32mF\u001b[0m\u001b[32mI\u001b[0m\u001b[32mR\u001b[0m\u001b[32mS\u001b[0m\u001b[32mT\u001b[0m\u001b[32m \u001b[0m\u001b[32mR\u001b[0m\u001b[32mE\u001b[0m\u001b[32mA\u001b[0m\u001b[32mD\u001b[0m\u001b[32m \u001b[0m\u001b[32mM\u001b[0m\u001b[32mY\u001b[0m\u001b[32m \u001b[0m\u001b[32mQ\u001b[0m\u001b[32mU\u001b[0m\u001b[32mE\u001b[0m\u001b[32mS\u001b[0m\u001b[32mT\u001b[0m\u001b[32mI\u001b[0m\u001b[32mO\u001b[0m\u001b[32mN\u001b[0m\u001b[32m,\u001b[0m\u001b[32m \u001b[0m\u001b[32mT\u001b[0m\u001b[32mH\u001b[0m\u001b[32mE\u001b[0m\u001b[32mN\u001b[0m\u001b[32m \u001b[0m\u001b[32mE\u001b[0m\u001b[32mX\u001b[0m\u001b[32mA\u001b[0m\u001b[32mM\u001b[0m\u001b[32mI\u001b[0m\u001b[32mN\u001b[0m\u001b[32mE\u001b[0m\u001b[32m \u001b[0m\u001b[32mT\u001b[0m\u001b[32mH\u001b[0m\u001b[32mE\u001b[0m\u001b[32m \u001b[0m\u001b[32mS\u001b[0m\u001b[32mN\u001b[0m\u001b[32mI\u001b[0m\u001b[32mP\u001b[0m\u001b[32mP\u001b[0m\u001b[32mE\u001b[0m\u001b[32mT\u001b[0m\u001b[32m \u001b[0m\u001b[32mO\u001b[0m\u001b[32mF\u001b[0m\u001b[32m \u001b[0m\u001b[32mC\u001b[0m\u001b[32mO\u001b[0m\u001b[32mD\u001b[0m\u001b[32mE\u001b[0m\u001b[32m \u001b[0m\u001b[32mT\u001b[0m\u001b[32mH\u001b[0m\u001b[32mA\u001b[0m\u001b[32mT\u001b[0m\u001b[32m \u001b[0m\u001b[32mI\u001b[0m\u001b[32mS\u001b[0m\u001b[32m \u001b[0m\u001b[32mC\u001b[0m\u001b[32mA\u001b[0m\u001b[32mU\u001b[0m\u001b[32mS\u001b[0m\u001b[32mI\u001b[0m\u001b[32mN\u001b[0m\u001b[32mG\u001b[0m\u001b[32m \u001b[0m\u001b[32mT\u001b[0m\u001b[32mH\u001b[0m\u001b[32mE\u001b[0m\u001b[32m \u001b[0m\u001b[32mI\u001b[0m\u001b[32mS\u001b[0m\u001b[32mS\u001b[0m\u001b[32mU\u001b[0m\u001b[32mE\u001b[0m\u001b[32m \u001b[0m\u001b[32mA\u001b[0m\u001b[32mN\u001b[0m\u001b[32mD\u001b[0m\u001b[32m \u001b[0m\u001b[32mL\u001b[0m\u001b[32mO\u001b[0m\u001b[32mO\u001b[0m\u001b[32mK\u001b[0m\u001b[32m \u001b[0m\u001b[32mA\u001b[0m\u001b[32mT\u001b[0m\u001b[32m \u001b[0m\u001b[32mT\u001b[0m\u001b[32mH\u001b[0m\u001b[32mE\u001b[0m\u001b[32m \u001b[0m\u001b[32mV\u001b[0m\u001b[32mA\u001b[0m\u001b[32mL\u001b[0m\u001b[32mU\u001b[0m\u001b[32mE\u001b[0m\u001b[32mS\u001b[0m\u001b[32m \u001b[0m\u001b[32mO\u001b[0m\u001b[32mF\u001b[0m\u001b[32m \u001b[0m\u001b[32mT\u001b[0m\u001b[32mH\u001b[0m\u001b[32mE\u001b[0m\u001b[32m \u001b[0m\u001b[32mL\u001b[0m\u001b[32mO\u001b[0m\u001b[32mC\u001b[0m\u001b[32mA\u001b[0m\u001b[32mL\u001b[0m\u001b[32m \u001b[0m\u001b[32mA\u001b[0m\u001b[32mN\u001b[0m\u001b[32mD\u001b[0m\u001b[32m \u001b[0m\u001b[32mG\u001b[0m\u001b[32mL\u001b[0m\u001b[32mO\u001b[0m\u001b[32mB\u001b[0m\u001b[32mA\u001b[0m\u001b[32mL\u001b[0m\u001b[32m \u001b[0m\u001b[32mV\u001b[0m\u001b[32mA\u001b[0m\u001b[32mR\u001b[0m\u001b[32mI\u001b[0m\u001b[32mA\u001b[0m\u001b[32mB\u001b[0m\u001b[32mL\u001b[0m\u001b[32mE\u001b[0m\u001b[32mS\u001b[0m\u001b[32m.\u001b[0m\u001b[32m \u001b[0m\u001b[32mY\u001b[0m\u001b[32mO\u001b[0m\u001b[32mU\u001b[0m\u001b[32mR\u001b[0m\u001b[32m \u001b[0m\u001b[32mR\u001b[0m\u001b[32mE\u001b[0m\u001b[32mS\u001b[0m\u001b[32mP\u001b[0m\u001b[32mO\u001b[0m\u001b[32mN\u001b[0m\u001b[32mS\u001b[0m\u001b[32mE\u001b[0m\u001b[32m \u001b[0m\u001b[32mM\u001b[0m\u001b[32mU\u001b[0m\u001b[32mS\u001b[0m\u001b[32mT\u001b[0m\u001b[32m \u001b[0m\u001b[32mH\u001b[0m\u001b[32mA\u001b[0m\u001b[32mV\u001b[0m\u001b[32mE\u001b[0m\u001b[32m \u001b[0m\u001b[32mE\u001b[0m\u001b[32mX\u001b[0m\u001b[32mA\u001b[0m\u001b[32mC\u001b[0m\u001b[32mT\u001b[0m\u001b[32mL\u001b[0m\u001b[32mY\u001b[0m\u001b[32m \u001b[0m\u001b[32mT\u001b[0m\u001b[32mW\u001b[0m\u001b[32mO\u001b[0m\u001b[32m \u001b[0m\u001b[32mS\u001b[0m\u001b[32mE\u001b[0m\u001b[32mC\u001b[0m\u001b[32mT\u001b[0m\u001b[32mI\u001b[0m\u001b[32mO\u001b[0m\u001b[32mN\u001b[0m\u001b[32mS\u001b[0m\u001b[32m,\u001b[0m\u001b[32m \u001b[0m\u001b[32mS\u001b[0m\u001b[32mE\u001b[0m\u001b[32mP\u001b[0m\u001b[32mA\u001b[0m\u001b[32mR\u001b[0m\u001b[32mA\u001b[0m\u001b[32mT\u001b[0m\u001b[32mE\u001b[0m\u001b[32mD\u001b[0m\u001b[32m \u001b[0m\u001b[32mB\u001b[0m\u001b[32mY\u001b[0m\u001b[32m \u001b[0m\u001b[32mA\u001b[0m\u001b[32mN\u001b[0m\u001b[32m \u001b[0m\u001b[32mE\u001b[0m\u001b[32mM\u001b[0m\u001b[32mP\u001b[0m\u001b[32mT\u001b[0m\u001b[32mY\u001b[0m\u001b[32m \u001b[0m\u001b[32mL\u001b[0m\u001b[32mI\u001b[0m\u001b[32mN\u001b[0m\u001b[32mE\u001b[0m\u001b[32m.\u001b[0m\u001b[32m \u001b[0m\u001b[32mD\u001b[0m\u001b[32mO\u001b[0m\u001b[32m \u001b[0m\u001b[32mN\u001b[0m\u001b[32mO\u001b[0m\u001b[32mT\u001b[0m\u001b[32m \u001b[0m\u001b[32mI\u001b[0m\u001b[32mN\u001b[0m\u001b[32mC\u001b[0m\u001b[32mL\u001b[0m\u001b[32mU\u001b[0m\u001b[32mD\u001b[0m\u001b[32mE\u001b[0m\u001b[32m \u001b[0m\u001b[32mS\u001b[0m\u001b[32mE\u001b[0m\u001b[32mC\u001b[0m\u001b[32mT\u001b[0m\u001b[32mI\u001b[0m\u001b[32mO\u001b[0m\u001b[32mN\u001b[0m\u001b[32m \u001b[0m\u001b[32mT\u001b[0m\u001b[32mI\u001b[0m\u001b[32mT\u001b[0m\u001b[32mL\u001b[0m\u001b[32mE\u001b[0m\u001b[32mS\u001b[0m\u001b[32m \u001b[0m\u001b[32mO\u001b[0m\u001b[32mF\u001b[0m\u001b[32m \u001b[0m\u001b[32mA\u001b[0m\u001b[32mN\u001b[0m\u001b[32mY\u001b[0m\u001b[32m \u001b[0m\u001b[32mK\u001b[0m\u001b[32mI\u001b[0m\u001b[32mN\u001b[0m\u001b[32mD\u001b[0m\u001b[32m.\u001b[0m\u001b[32m \u001b[0m\u001b[32mI\u001b[0m\u001b[32mN\u001b[0m\u001b[32m \u001b[0m\u001b[32mS\u001b[0m\u001b[32mE\u001b[0m\u001b[32mC\u001b[0m\u001b[32mT\u001b[0m\u001b[32mI\u001b[0m\u001b[32mO\u001b[0m\u001b[32mN\u001b[0m\u001b[32m \u001b[0m\u001b[32m1\u001b[0m\u001b[32m,\u001b[0m\u001b[32m \u001b[0m\u001b[32mU\u001b[0m\u001b[32mS\u001b[0m\u001b[32mE\u001b[0m\u001b[32m \u001b[0m\u001b[32mP\u001b[0m\u001b[32mL\u001b[0m\u001b[32mA\u001b[0m\u001b[32mI\u001b[0m\u001b[32mN\u001b[0m\u001b[32m \u001b[0m\u001b[32mE\u001b[0m\u001b[32mN\u001b[0m\u001b[32mG\u001b[0m\u001b[32mL\u001b[0m\u001b[32mI\u001b[0m\u001b[32mS\u001b[0m\u001b[32mH\u001b[0m\u001b[32m \u001b[0m\u001b[32mT\u001b[0m\u001b[32mO\u001b[0m\u001b[32m \u001b[0m\u001b[32mE\u001b[0m\u001b[32mX\u001b[0m\u001b[32mP\u001b[0m\u001b[32mL\u001b[0m\u001b[32mA\u001b[0m\u001b[32mI\u001b[0m\u001b[32mN\u001b[0m\u001b[32m \u001b[0m\u001b[32mW\u001b[0m\u001b[32mH\u001b[0m\u001b[32mA\u001b[0m\u001b[32mT\u001b[0m\u001b[32m \u001b[0m\u001b[32mT\u001b[0m\u001b[32mH\u001b[0m\u001b[32mE\u001b[0m\u001b[32m \u001b[0m\u001b[32mP\u001b[0m\u001b[32mR\u001b[0m\u001b[32mO\u001b[0m\u001b[32mB\u001b[0m\u001b[32mL\u001b[0m\u001b[32mE\u001b[0m\u001b[32mM\u001b[0m\u001b[32m \u001b[0m\u001b[32mI\u001b[0m\u001b[32mS\u001b[0m\u001b[32m \u001b[0m\u001b[32mA\u001b[0m\u001b[32mN\u001b[0m\u001b[32mD\u001b[0m\u001b[32m \u001b[0m\u001b[32mH\u001b[0m\u001b[32mO\u001b[0m\u001b[32mW\u001b[0m\u001b[32m \u001b[0m\u001b[32mT\u001b[0m\u001b[32mO\u001b[0m\u001b[32m \u001b[0m\u001b[32mF\u001b[0m\u001b[32mI\u001b[0m\u001b[32mX\u001b[0m\u001b[32m \u001b[0m\u001b[32mI\u001b[0m\u001b[32mT\u001b[0m\u001b[32m \u001b[0m\u001b[32m(\u001b[0m\u001b[32mI\u001b[0m\u001b[32mF\u001b[0m\u001b[32m \u001b[0m\u001b[32mY\u001b[0m\u001b[32mO\u001b[0m\u001b[32mU\u001b[0m\u001b[32m \u001b[0m\u001b[32mC\u001b[0m\u001b[32mO\u001b[0m\u001b[32mU\u001b[0m\u001b[32mL\u001b[0m\u001b[32mD\u001b[0m\u001b[32mN\u001b[0m\u001b[32m'\u001b[0m\u001b[32mT\u001b[0m\u001b[32m \u001b[0m\u001b[32mI\u001b[0m\u001b[32mD\u001b[0m\u001b[32mE\u001b[0m\u001b[32mN\u001b[0m\u001b[32mT\u001b[0m\u001b[32mI\u001b[0m\u001b[32mF\u001b[0m\u001b[32mY\u001b[0m\u001b[32m \u001b[0m\u001b[32mT\u001b[0m\u001b[32mH\u001b[0m\u001b[32mE\u001b[0m\u001b[32m \u001b[0m\u001b[32mP\u001b[0m\u001b[32mR\u001b[0m\u001b[32mO\u001b[0m\u001b[32mB\u001b[0m\u001b[32mL\u001b[0m\u001b[32mE\u001b[0m\u001b[32mM\u001b[0m\u001b[32m,\u001b[0m\u001b[32m \u001b[0m\u001b[32mS\u001b[0m\u001b[32mE\u001b[0m\u001b[32mC\u001b[0m\u001b[32mT\u001b[0m\u001b[32mI\u001b[0m\u001b[32mO\u001b[0m\u001b[32mN\u001b[0m\u001b[32m \u001b[0m\u001b[32m1\u001b[0m\u001b[32m \u001b[0m\u001b[32mS\u001b[0m\u001b[32mH\u001b[0m\u001b[32mO\u001b[0m\u001b[32mU\u001b[0m\u001b[32mL\u001b[0m\u001b[32mD\u001b[0m\u001b[32m \u001b[0m\u001b[32mI\u001b[0m\u001b[32mN\u001b[0m\u001b[32mS\u001b[0m\u001b[32mT\u001b[0m\u001b[32mE\u001b[0m\u001b[32mA\u001b[0m\u001b[32mD\u001b[0m\u001b[32m \u001b[0m\u001b[32mL\u001b[0m\u001b[32mI\u001b[0m\u001b[32mS\u001b[0m\u001b[32mT\u001b[0m\u001b[32m \u001b[0m\u001b[32mA\u001b[0m\u001b[32m \u001b[0m\u001b[32mF\u001b[0m\u001b[32mE\u001b[0m\u001b[32mW\u001b[0m\u001b[32m \u001b[0m\u001b[32mP\u001b[0m\u001b[32mO\u001b[0m\u001b[32mS\u001b[0m\u001b[32mS\u001b[0m\u001b[32mI\u001b[0m\u001b[32mB\u001b[0m\u001b[32mL\u001b[0m\u001b[32mE\u001b[0m\u001b[32m \u001b[0m\u001b[32mC\u001b[0m\u001b[32mA\u001b[0m\u001b[32mU\u001b[0m\u001b[32mS\u001b[0m\u001b[32mE\u001b[0m\u001b[32mS\u001b[0m\u001b[32m \u001b[0m\u001b[32mO\u001b[0m\u001b[32mR\u001b[0m\u001b[32m \u001b[0m\u001b[32mT\u001b[0m\u001b[32mH\u001b[0m\u001b[32mI\u001b[0m\u001b[32mN\u001b[0m\u001b[32mG\u001b[0m\u001b[32mS\u001b[0m\u001b[32m \u001b[0m\u001b[32mI\u001b[0m\u001b[32m \u001b[0m\u001b[32mC\u001b[0m\u001b[32mO\u001b[0m\u001b[32mU\u001b[0m\u001b[32mL\u001b[0m\u001b[32mD\u001b[0m\u001b[32m \u001b[0m\u001b[32mT\u001b[0m\u001b[32mR\u001b[0m\u001b[32mY\u001b[0m\u001b[32m \u001b[0m\u001b[32mI\u001b[0m\u001b[32mN\u001b[0m\u001b[32m \u001b[0m\u001b[32mO\u001b[0m\u001b[32mR\u001b[0m\u001b[32mD\u001b[0m\u001b[32mE\u001b[0m\u001b[32mR\u001b[0m\u001b[32m \u001b[0m\u001b[32mT\u001b[0m\u001b[32mO\u001b[0m\u001b[32m \u001b[0m\u001b[32mI\u001b[0m\u001b[32mD\u001b[0m\u001b[32mE\u001b[0m\u001b[32mN\u001b[0m\u001b[32mT\u001b[0m\u001b[32mI\u001b[0m\u001b[32mF\u001b[0m\u001b[32mY\u001b[0m\u001b[32m \u001b[0m\u001b[32mT\u001b[0m\u001b[32mH\u001b[0m\u001b[32mE\u001b[0m\u001b[32m \u001b[0m\u001b[32mI\u001b[0m\u001b[32mS\u001b[0m\u001b[32mS\u001b[0m\u001b[32mU\u001b[0m\u001b[32mE\u001b[0m\u001b[32m)\u001b[0m\u001b[32m.\u001b[0m\u001b[32m \u001b[0m\u001b[32mI\u001b[0m\u001b[32mN\u001b[0m\u001b[32m \u001b[0m\u001b[32mS\u001b[0m\u001b[32mE\u001b[0m\u001b[32mC\u001b[0m\u001b[32mT\u001b[0m\u001b[32mI\u001b[0m\u001b[32mO\u001b[0m\u001b[32mN\u001b[0m\u001b[32m \u001b[0m\u001b[32m2\u001b[0m\u001b[32m,\u001b[0m\u001b[32m \u001b[0m\u001b[32mW\u001b[0m\u001b[32mR\u001b[0m\u001b[32mI\u001b[0m\u001b[32mT\u001b[0m\u001b[32mE\u001b[0m\u001b[32m \u001b[0m\u001b[32mA\u001b[0m\u001b[32m \u001b[0m\u001b[32mC\u001b[0m\u001b[32mO\u001b[0m\u001b[32mR\u001b[0m\u001b[32mR\u001b[0m\u001b[32mE\u001b[0m\u001b[32mC\u001b[0m\u001b[32mT\u001b[0m\u001b[32mE\u001b[0m\u001b[32mD\u001b[0m\u001b[32m \u001b[0m\u001b[32mV\u001b[0m\u001b[32mE\u001b[0m\u001b[32mR\u001b[0m\u001b[32mS\u001b[0m\u001b[32mI\u001b[0m\u001b[32mO\u001b[0m\u001b[32mN\u001b[0m\u001b[32m \u001b[0m\u001b[32mO\u001b[0m\u001b[32mF\u001b[0m\u001b[32m \u001b[0m\u001b[32mT\u001b[0m\u001b[32mH\u001b[0m\u001b[32mE\u001b[0m\u001b[32m \u001b[0m\u001b[32mI\u001b[0m\u001b[32mN\u001b[0m\u001b[32mP\u001b[0m\u001b[32mU\u001b[0m\u001b[32mT\u001b[0m\u001b[32m \u001b[0m\u001b[32mC\u001b[0m\u001b[32mO\u001b[0m\u001b[32mD\u001b[0m\u001b[32mE\u001b[0m\u001b[32m \u001b[0m\u001b[32mS\u001b[0m\u001b[32mN\u001b[0m\u001b[32mI\u001b[0m\u001b[32mP\u001b[0m\u001b[32mP\u001b[0m\u001b[32mE\u001b[0m\u001b[32mT\u001b[0m\u001b[32m \u001b[0m\u001b[32m(\u001b[0m\u001b[32mI\u001b[0m\u001b[32mF\u001b[0m\u001b[32m \u001b[0m\u001b[32mY\u001b[0m\u001b[32mO\u001b[0m\u001b[32mU\u001b[0m\u001b[32m \u001b[0m\u001b[32mD\u001b[0m\u001b[32mO\u001b[0m\u001b[32mN\u001b[0m\u001b[32m'\u001b[0m\u001b[32mT\u001b[0m\u001b[32m \u001b[0m\u001b[32mK\u001b[0m\u001b[32mN\u001b[0m\u001b[32mO\u001b[0m\u001b[32mW\u001b[0m\u001b[32m,\u001b[0m\u001b[32m \u001b[0m\u001b[32mS\u001b[0m\u001b[32mE\u001b[0m\u001b[32mC\u001b[0m\u001b[32mT\u001b[0m\u001b[32mI\u001b[0m\u001b[32mO\u001b[0m\u001b[32mN\u001b[0m\u001b[32m \u001b[0m\u001b[32m2\u001b[0m\u001b[32m \u001b[0m\u001b[32mS\u001b[0m\u001b[32mH\u001b[0m\u001b[32mO\u001b[0m\u001b[32mU\u001b[0m\u001b[32mL\u001b[0m\u001b[32mD\u001b[0m\u001b[32m \u001b[0m\u001b[32mB\u001b[0m\u001b[32mE\u001b[0m\u001b[32m \u001b[0m\u001b[32mE\u001b[0m\u001b[32mM\u001b[0m\u001b[32mP\u001b[0m\u001b[32mT\u001b[0m\u001b[32mY\u001b[0m\u001b[32m)\u001b[0m\u001b[32m.\u001b[0m\u001b[32m \u001b[0m\u001b[32mS\u001b[0m\u001b[32mE\u001b[0m\u001b[32mC\u001b[0m\u001b[32mT\u001b[0m\u001b[32mI\u001b[0m\u001b[32mO\u001b[0m\u001b[32mN\u001b[0m\u001b[32m \u001b[0m\u001b[32m2\u001b[0m\u001b[32m \u001b[0m\u001b[32mM\u001b[0m\u001b[32mU\u001b[0m\u001b[32mS\u001b[0m\u001b[32mT\u001b[0m\u001b[32m \u001b[0m\u001b[32mC\u001b[0m\u001b[32mO\u001b[0m\u001b[32mN\u001b[0m\u001b[32mT\u001b[0m\u001b[32mA\u001b[0m\u001b[32mI\u001b[0m\u001b[32mN\u001b[0m\u001b[32m \u001b[0m\u001b[32mO\u001b[0m\u001b[32mN\u001b[0m\u001b[32mL\u001b[0m\u001b[32mY\u001b[0m\u001b[32m \u001b[0m\u001b[32mP\u001b[0m\u001b[32mY\u001b[0m\u001b[32mT\u001b[0m\u001b[32mH\u001b[0m\u001b[32mO\u001b[0m\u001b[32mN\u001b[0m\u001b[32m \u001b[0m\u001b[32mC\u001b[0m\u001b[32mO\u001b[0m\u001b[32mD\u001b[0m\u001b[32mE\u001b[0m\u001b[32m \u001b[0m\u001b[32m-\u001b[0m\u001b[32m \u001b[0m\u001b[32mT\u001b[0m\u001b[32mH\u001b[0m\u001b[32mE\u001b[0m\u001b[32mR\u001b[0m\u001b[32mE\u001b[0m\u001b[32m \u001b[0m\u001b[32mM\u001b[0m\u001b[32mU\u001b[0m\u001b[32mS\u001b[0m\u001b[32mT\u001b[0m\u001b[32m \u001b[0m\u001b[32mN\u001b[0m\u001b[32mO\u001b[0m\u001b[32mT\u001b[0m\u001b[32m \u001b[0m\u001b[32mB\u001b[0m\u001b[32mE\u001b[0m\u001b[32m \u001b[0m\u001b[32mA\u001b[0m\u001b[32mN\u001b[0m\u001b[32mY\u001b[0m\u001b[32m \u001b[0m\u001b[32mE\u001b[0m\u001b[32mN\u001b[0m\u001b[32mG\u001b[0m\u001b[32mL\u001b[0m\u001b[32mI\u001b[0m\u001b[32mS\u001b[0m\u001b[32mH\u001b[0m\u001b[32m \u001b[0m\u001b[32mE\u001b[0m\u001b[32mX\u001b[0m\u001b[32mP\u001b[0m\u001b[32mL\u001b[0m\u001b[32mA\u001b[0m\u001b[32mN\u001b[0m\u001b[32mA\u001b[0m\u001b[32mT\u001b[0m\u001b[32mI\u001b[0m\u001b[32mO\u001b[0m\u001b[32mN\u001b[0m\u001b[32m \u001b[0m\u001b[32mO\u001b[0m\u001b[32mU\u001b[0m\u001b[32mT\u001b[0m\u001b[32mS\u001b[0m\u001b[32mI\u001b[0m\u001b[32mD\u001b[0m\u001b[32mE\u001b[0m\u001b[32m \u001b[0m\u001b[32mO\u001b[0m\u001b[32mF\u001b[0m\u001b[32m \u001b[0m\u001b[32mC\u001b[0m\u001b[32mO\u001b[0m\u001b[32mD\u001b[0m\u001b[32mE\u001b[0m\u001b[32m \u001b[0m\u001b[32mC\u001b[0m\u001b[32mO\u001b[0m\u001b[32mM\u001b[0m\u001b[32mM\u001b[0m\u001b[32mE\u001b[0m\u001b[32mN\u001b[0m\u001b[32mT\u001b[0m\u001b[32mS\u001b[0m\u001b[32m \u001b[0m\u001b[32mO\u001b[0m\u001b[32mR\u001b[0m\u001b[32m \u001b[0m\u001b[32mD\u001b[0m\u001b[32mO\u001b[0m\u001b[32mC\u001b[0m\u001b[32mS\u001b[0m\u001b[32mT\u001b[0m\u001b[32mR\u001b[0m\u001b[32mI\u001b[0m\u001b[32mN\u001b[0m\u001b[32mG\u001b[0m\u001b[32mS\u001b[0m\u001b[32m.\u001b[0m\u001b[32m \u001b[0m\u001b[32mS\u001b[0m\u001b[32mE\u001b[0m\u001b[32mC\u001b[0m\u001b[32mT\u001b[0m\u001b[32mI\u001b[0m\u001b[32mO\u001b[0m\u001b[32mN\u001b[0m\u001b[32m \u001b[0m\u001b[32m2\u001b[0m\u001b[32m \u001b[0m\u001b[32mM\u001b[0m\u001b[32mU\u001b[0m\u001b[32mS\u001b[0m\u001b[32mT\u001b[0m\u001b[32m \u001b[0m\u001b[32mB\u001b[0m\u001b[32mE\u001b[0m\u001b[32m \u001b[0m\u001b[32mE\u001b[0m\u001b[32mN\u001b[0m\u001b[32mT\u001b[0m\u001b[32mI\u001b[0m\u001b[32mR\u001b[0m\u001b[32mE\u001b[0m\u001b[32mL\u001b[0m\u001b[32mY\u001b[0m\u001b[32m \u001b[0m\u001b[32mE\u001b[0m\u001b[32mN\u001b[0m\u001b[32mC\u001b[0m\u001b[32mL\u001b[0m\u001b[32mO\u001b[0m"
     ]
    },
    {
     "name": "stdout",
     "output_type": "stream",
     "text": [
      "\u001b[32mS\u001b[0m\u001b[32mE\u001b[0m\u001b[32mD\u001b[0m\u001b[32m \u001b[0m\u001b[32mI\u001b[0m\u001b[32mN\u001b[0m\u001b[32m \u001b[0m\u001b[32mO\u001b[0m\u001b[32mN\u001b[0m\u001b[32mE\u001b[0m\u001b[32m \u001b[0m\u001b[32mP\u001b[0m\u001b[32mA\u001b[0m\u001b[32mI\u001b[0m\u001b[32mR\u001b[0m\u001b[32m \u001b[0m\u001b[32mO\u001b[0m\u001b[32mF\u001b[0m\u001b[32m \u001b[0m\u001b[32mT\u001b[0m\u001b[32mR\u001b[0m\u001b[32mI\u001b[0m\u001b[32mP\u001b[0m\u001b[32mL\u001b[0m\u001b[32mE\u001b[0m\u001b[32m \u001b[0m\u001b[32mB\u001b[0m\u001b[32mA\u001b[0m\u001b[32mC\u001b[0m\u001b[32mK\u001b[0m\u001b[32mT\u001b[0m\u001b[32mI\u001b[0m\u001b[32mC\u001b[0m\u001b[32mK\u001b[0m\u001b[32mS\u001b[0m\u001b[32m \u001b[0m\u001b[32m(\u001b[0m\u001b[32m\"\u001b[0m\u001b[32m`\u001b[0m\u001b[32m`\u001b[0m\u001b[32m`\u001b[0m\u001b[32m\"\u001b[0m\u001b[32m)\u001b[0m\u001b[32m.\u001b[0m\u001b[32m \u001b[0m\u001b[32m\n",
      "\u001b[0m\u001b[32m\n",
      "\u001b[0m\u001b[32mQ\u001b[0m\u001b[32mU\u001b[0m\u001b[32mE\u001b[0m\u001b[32mS\u001b[0m\u001b[32mT\u001b[0m\u001b[32mI\u001b[0m\u001b[32mO\u001b[0m\u001b[32mN\u001b[0m\u001b[32m:\u001b[0m\u001b[32m\n",
      "\u001b[0m\u001b[32mW\u001b[0m\u001b[32mH\u001b[0m\u001b[32mY\u001b[0m\u001b[32m?\u001b[0m\u001b[32m\n",
      "\u001b[0m\u001b[32m\n",
      "\u001b[0m\u001b[32mC\u001b[0m\u001b[32mU\u001b[0m\u001b[32mR\u001b[0m\u001b[32mR\u001b[0m\u001b[32mE\u001b[0m\u001b[32mN\u001b[0m\u001b[32mT\u001b[0m\u001b[32m \u001b[0m\u001b[32mC\u001b[0m\u001b[32mO\u001b[0m\u001b[32mD\u001b[0m\u001b[32mE\u001b[0m\u001b[32m \u001b[0m\u001b[32mS\u001b[0m\u001b[32mN\u001b[0m\u001b[32mI\u001b[0m\u001b[32mP\u001b[0m\u001b[32mP\u001b[0m\u001b[32mE\u001b[0m\u001b[32mT\u001b[0m\u001b[32m:\u001b[0m\u001b[32m\n",
      "\u001b[0m\u001b[32mD\u001b[0m\u001b[32mE\u001b[0m\u001b[32mF\u001b[0m\u001b[32m \u001b[0m\u001b[32mB\u001b[0m\u001b[32mU\u001b[0m\u001b[32mB\u001b[0m\u001b[32mB\u001b[0m\u001b[32mL\u001b[0m\u001b[32mE\u001b[0m\u001b[32m_\u001b[0m\u001b[32mS\u001b[0m\u001b[32mO\u001b[0m\u001b[32mR\u001b[0m\u001b[32mT\u001b[0m\u001b[32m(\u001b[0m\u001b[32mN\u001b[0m\u001b[32mU\u001b[0m\u001b[32mM\u001b[0m\u001b[32mS\u001b[0m\u001b[32m)\u001b[0m\u001b[32m:\u001b[0m\u001b[32m\n",
      "\u001b[0m\u001b[32m \u001b[0m\u001b[32m \u001b[0m\u001b[32m \u001b[0m\u001b[32m \u001b[0m\u001b[32mF\u001b[0m\u001b[32mO\u001b[0m\u001b[32mR\u001b[0m\u001b[32m \u001b[0m\u001b[32mI\u001b[0m\u001b[32m \u001b[0m\u001b[32mI\u001b[0m\u001b[32mN\u001b[0m\u001b[32m \u001b[0m\u001b[32mR\u001b[0m\u001b[32mA\u001b[0m\u001b[32mN\u001b[0m\u001b[32mG\u001b[0m\u001b[32mE\u001b[0m\u001b[32m(\u001b[0m\u001b[32mL\u001b[0m\u001b[32mE\u001b[0m\u001b[32mN\u001b[0m\u001b[32m(\u001b[0m\u001b[32mN\u001b[0m\u001b[32mU\u001b[0m\u001b[32mM\u001b[0m\u001b[32mS\u001b[0m\u001b[32m)\u001b[0m\u001b[32m)\u001b[0m\u001b[32m:\u001b[0m\u001b[32m\n",
      "\u001b[0m\u001b[32m \u001b[0m\u001b[32m \u001b[0m\u001b[32m \u001b[0m\u001b[32m \u001b[0m\u001b[32m \u001b[0m\u001b[32m \u001b[0m\u001b[32m \u001b[0m\u001b[32m \u001b[0m\u001b[32mF\u001b[0m\u001b[32mO\u001b[0m\u001b[32mR\u001b[0m\u001b[32m \u001b[0m\u001b[32mJ\u001b[0m\u001b[32m \u001b[0m\u001b[32mI\u001b[0m\u001b[32mN\u001b[0m\u001b[32m \u001b[0m\u001b[32mR\u001b[0m\u001b[32mA\u001b[0m\u001b[32mN\u001b[0m\u001b[32mG\u001b[0m\u001b[32mE\u001b[0m\u001b[32m(\u001b[0m\u001b[32mL\u001b[0m\u001b[32mE\u001b[0m\u001b[32mN\u001b[0m\u001b[32m(\u001b[0m\u001b[32mN\u001b[0m\u001b[32mU\u001b[0m\u001b[32mM\u001b[0m\u001b[32mS\u001b[0m\u001b[32m)\u001b[0m\u001b[32m)\u001b[0m\u001b[32m:\u001b[0m\u001b[32m\n",
      "\u001b[0m\u001b[32m \u001b[0m\u001b[32m \u001b[0m\u001b[32m \u001b[0m\u001b[32m \u001b[0m\u001b[32m \u001b[0m\u001b[32m \u001b[0m\u001b[32m \u001b[0m\u001b[32m \u001b[0m\u001b[32m \u001b[0m\u001b[32m \u001b[0m\u001b[32m \u001b[0m\u001b[32m \u001b[0m\u001b[32mI\u001b[0m\u001b[32mF\u001b[0m\u001b[32m \u001b[0m\u001b[32mN\u001b[0m\u001b[32mU\u001b[0m\u001b[32mM\u001b[0m\u001b[32mS\u001b[0m\u001b[32m[\u001b[0m\u001b[32mJ\u001b[0m\u001b[32m]\u001b[0m\u001b[32m \u001b[0m\u001b[32m>\u001b[0m\u001b[32m \u001b[0m\u001b[32mN\u001b[0m\u001b[32mU\u001b[0m\u001b[32mM\u001b[0m\u001b[32mS\u001b[0m\u001b[32m[\u001b[0m\u001b[32mJ\u001b[0m\u001b[32m \u001b[0m\u001b[32m+\u001b[0m\u001b[32m \u001b[0m\u001b[32m1\u001b[0m\u001b[32m]\u001b[0m\u001b[32m:\u001b[0m\u001b[32m\n",
      "\u001b[0m\u001b[32m \u001b[0m\u001b[32m \u001b[0m\u001b[32m \u001b[0m\u001b[32m \u001b[0m\u001b[32m \u001b[0m\u001b[32m \u001b[0m\u001b[32m \u001b[0m\u001b[32m \u001b[0m\u001b[32m \u001b[0m\u001b[32m \u001b[0m\u001b[32m \u001b[0m\u001b[32m \u001b[0m\u001b[32m \u001b[0m\u001b[32m \u001b[0m\u001b[32m \u001b[0m\u001b[32m \u001b[0m\u001b[32mN\u001b[0m\u001b[32mU\u001b[0m\u001b[32mM\u001b[0m\u001b[32mS\u001b[0m\u001b[32m[\u001b[0m\u001b[32mJ\u001b[0m\u001b[32m \u001b[0m\u001b[32m+\u001b[0m\u001b[32m \u001b[0m\u001b[32m1\u001b[0m\u001b[32m]\u001b[0m\u001b[32m,\u001b[0m\u001b[32m \u001b[0m\u001b[32mN\u001b[0m\u001b[32mU\u001b[0m\u001b[32mM\u001b[0m\u001b[32mS\u001b[0m\u001b[32m[\u001b[0m\u001b[32mJ\u001b[0m\u001b[32m]\u001b[0m\u001b[32m \u001b[0m\u001b[32m=\u001b[0m\u001b[32m \u001b[0m\u001b[32mN\u001b[0m\u001b[32mU\u001b[0m\u001b[32mM\u001b[0m\u001b[32mS\u001b[0m\u001b[32m[\u001b[0m\u001b[32mJ\u001b[0m\u001b[32m]\u001b[0m\u001b[32m,\u001b[0m\u001b[32m \u001b[0m\u001b[32mN\u001b[0m\u001b[32mU\u001b[0m\u001b[32mM\u001b[0m\u001b[32mS\u001b[0m\u001b[32m[\u001b[0m\u001b[32mJ\u001b[0m\u001b[32m \u001b[0m\u001b[32m+\u001b[0m\u001b[32m \u001b[0m\u001b[32m1\u001b[0m\u001b[32m]\u001b[0m\u001b[32m\n",
      "\u001b[0m\u001b[32m \u001b[0m\u001b[32m \u001b[0m\u001b[32m \u001b[0m\u001b[32m \u001b[0m\u001b[32mR\u001b[0m\u001b[32mE\u001b[0m\u001b[32mT\u001b[0m\u001b[32mU\u001b[0m\u001b[32mR\u001b[0m\u001b[32mN\u001b[0m\u001b[32m \u001b[0m\u001b[32mN\u001b[0m\u001b[32mU\u001b[0m\u001b[32mM\u001b[0m\u001b[32mS\u001b[0m\u001b[32m\n",
      "\u001b[0m\u001b[32m\n",
      "\u001b[0m\u001b[32mN\u001b[0m\u001b[32mE\u001b[0m\u001b[32mX\u001b[0m\u001b[32mT\u001b[0m\u001b[32m \u001b[0m\u001b[32mL\u001b[0m\u001b[32mI\u001b[0m\u001b[32mN\u001b[0m\u001b[32mE\u001b[0m\u001b[32m:\u001b[0m\u001b[32m\n",
      "\u001b[0m\u001b[32m \u001b[0m\u001b[32m \u001b[0m\u001b[32m \u001b[0m\u001b[32m \u001b[0m\u001b[32m \u001b[0m\u001b[32m \u001b[0m\u001b[32m \u001b[0m\u001b[32m \u001b[0m\u001b[32m \u001b[0m\u001b[32m \u001b[0m\u001b[32m \u001b[0m\u001b[32m \u001b[0m\u001b[32mI\u001b[0m\u001b[32mF\u001b[0m\u001b[32m \u001b[0m\u001b[32mN\u001b[0m\u001b[32mU\u001b[0m\u001b[32mM\u001b[0m\u001b[32mS\u001b[0m\u001b[32m[\u001b[0m\u001b[32mJ\u001b[0m\u001b[32m]\u001b[0m\u001b[32m \u001b[0m\u001b[32m>\u001b[0m\u001b[32m \u001b[0m\u001b[32mN\u001b[0m\u001b[32mU\u001b[0m\u001b[32mM\u001b[0m\u001b[32mS\u001b[0m\u001b[32m[\u001b[0m\u001b[32mJ\u001b[0m\u001b[32m \u001b[0m\u001b[32m+\u001b[0m\u001b[32m \u001b[0m\u001b[32m1\u001b[0m\u001b[32m]\u001b[0m\u001b[32m:\u001b[0m\u001b[32m\n",
      "\u001b[0m\u001b[32m\n",
      "\u001b[0m\u001b[32mL\u001b[0m\u001b[32mO\u001b[0m\u001b[32mC\u001b[0m\u001b[32mA\u001b[0m\u001b[32mL\u001b[0m\u001b[32m \u001b[0m\u001b[32mV\u001b[0m\u001b[32mA\u001b[0m\u001b[32mR\u001b[0m\u001b[32mI\u001b[0m\u001b[32mA\u001b[0m\u001b[32mB\u001b[0m\u001b[32mL\u001b[0m\u001b[32mE\u001b[0m\u001b[32mS\u001b[0m\u001b[32m:\u001b[0m\u001b[32m\n",
      "\u001b[0m\u001b[32m{\u001b[0m\u001b[32m\n",
      "\u001b[0m\u001b[32m \u001b[0m\u001b[32m \u001b[0m\u001b[32m \u001b[0m\u001b[32m \u001b[0m\u001b[32m'\u001b[0m\u001b[32mN\u001b[0m\u001b[32mU\u001b[0m\u001b[32mM\u001b[0m\u001b[32mS\u001b[0m\u001b[32m'\u001b[0m\u001b[32m:\u001b[0m\u001b[32m \u001b[0m\u001b[32m[\u001b[0m\u001b[32m1\u001b[0m\u001b[32m,\u001b[0m\u001b[32m \u001b[0m\u001b[32m3\u001b[0m\u001b[32m,\u001b[0m\u001b[32m \u001b[0m\u001b[32m-\u001b[0m\u001b[32m1\u001b[0m\u001b[32m0\u001b[0m\u001b[32m0\u001b[0m\u001b[32m,\u001b[0m\u001b[32m \u001b[0m\u001b[32m4\u001b[0m\u001b[32m,\u001b[0m\u001b[32m \u001b[0m\u001b[32m5\u001b[0m\u001b[32m,\u001b[0m\u001b[32m \u001b[0m\u001b[32m9\u001b[0m\u001b[32m,\u001b[0m\u001b[32m \u001b[0m\u001b[32m5\u001b[0m\u001b[32m,\u001b[0m\u001b[32m \u001b[0m\u001b[32m5\u001b[0m\u001b[32m,\u001b[0m\u001b[32m \u001b[0m\u001b[32m2\u001b[0m\u001b[32m2\u001b[0m\u001b[32m,\u001b[0m\u001b[32m \u001b[0m\u001b[32m3\u001b[0m\u001b[32m3\u001b[0m\u001b[32m]\u001b[0m\u001b[32m,\u001b[0m\u001b[32m \u001b[0m\u001b[32m \u001b[0m\u001b[32m \u001b[0m\u001b[32m#\u001b[0m\u001b[32m \u001b[0m\u001b[32mT\u001b[0m\u001b[32mY\u001b[0m\u001b[32mP\u001b[0m\u001b[32mE\u001b[0m\u001b[32m:\u001b[0m\u001b[32m \u001b[0m\u001b[32mL\u001b[0m\u001b[32mI\u001b[0m\u001b[32mS\u001b[0m\u001b[32mT\u001b[0m\u001b[32m\n",
      "\u001b[0m\u001b[32m \u001b[0m\u001b[32m \u001b[0m\u001b[32m \u001b[0m\u001b[32m \u001b[0m\u001b[32m'\u001b[0m\u001b[32mI\u001b[0m\u001b[32m'\u001b[0m\u001b[32m:\u001b[0m\u001b[32m \u001b[0m\u001b[32m0\u001b[0m\u001b[32m,\u001b[0m\u001b[32m \u001b[0m\u001b[32m \u001b[0m\u001b[32m \u001b[0m\u001b[32m#\u001b[0m\u001b[32m \u001b[0m\u001b[32mT\u001b[0m\u001b[32mY\u001b[0m\u001b[32mP\u001b[0m\u001b[32mE\u001b[0m\u001b[32m:\u001b[0m\u001b[32m \u001b[0m\u001b[32mI\u001b[0m\u001b[32mN\u001b[0m\u001b[32mT\u001b[0m\u001b[32m\n",
      "\u001b[0m\u001b[32m \u001b[0m\u001b[32m \u001b[0m\u001b[32m \u001b[0m\u001b[32m \u001b[0m\u001b[32m'\u001b[0m\u001b[32mJ\u001b[0m\u001b[32m'\u001b[0m\u001b[32m:\u001b[0m\u001b[32m \u001b[0m\u001b[32m4\u001b[0m\u001b[32m,\u001b[0m\u001b[32m \u001b[0m\u001b[32m \u001b[0m\u001b[32m \u001b[0m\u001b[32m#\u001b[0m\u001b[32m \u001b[0m\u001b[32mT\u001b[0m\u001b[32mY\u001b[0m\u001b[32mP\u001b[0m\u001b[32mE\u001b[0m\u001b[32m:\u001b[0m\u001b[32m \u001b[0m\u001b[32mI\u001b[0m\u001b[32mN\u001b[0m\u001b[32mT\u001b[0m\u001b[32m\n",
      "\u001b[0m\u001b[32m}\u001b[0m\u001b[32m\n",
      "\u001b[0m\u001b[32m\n",
      "\u001b[0m\u001b[32mG\u001b[0m\u001b[32mL\u001b[0m\u001b[32mO\u001b[0m\u001b[32mB\u001b[0m\u001b[32mA\u001b[0m\u001b[32mL\u001b[0m\u001b[32m \u001b[0m\u001b[32mV\u001b[0m\u001b[32mA\u001b[0m\u001b[32mR\u001b[0m\u001b[32mI\u001b[0m\u001b[32mA\u001b[0m\u001b[32mB\u001b[0m\u001b[32mL\u001b[0m\u001b[32mE\u001b[0m\u001b[32mS\u001b[0m\u001b[32m:\u001b[0m\u001b[32m\n",
      "\u001b[0m\u001b[32m{\u001b[0m\u001b[32m\n",
      "\u001b[0m\u001b[32m \u001b[0m\u001b[32m \u001b[0m\u001b[32m \u001b[0m\u001b[32m \u001b[0m\u001b[32m'\u001b[0m\u001b[32mN\u001b[0m\u001b[32mU\u001b[0m\u001b[32mM\u001b[0m\u001b[32mS\u001b[0m\u001b[32m'\u001b[0m\u001b[32m:\u001b[0m\u001b[32m \u001b[0m\u001b[32m[\u001b[0m\u001b[32m1\u001b[0m\u001b[32m,\u001b[0m\u001b[32m \u001b[0m\u001b[32m3\u001b[0m\u001b[32m,\u001b[0m\u001b[32m \u001b[0m\u001b[32m-\u001b[0m\u001b[32m1\u001b[0m\u001b[32m0\u001b[0m\u001b[32m0\u001b[0m\u001b[32m,\u001b[0m\u001b[32m \u001b[0m\u001b[32m4\u001b[0m\u001b[32m,\u001b[0m\u001b[32m \u001b[0m\u001b[32m5\u001b[0m\u001b[32m,\u001b[0m\u001b[32m \u001b[0m\u001b[32m9\u001b[0m\u001b[32m,\u001b[0m\u001b[32m \u001b[0m\u001b[32m5\u001b[0m\u001b[32m,\u001b[0m\u001b[32m \u001b[0m\u001b[32m5\u001b[0m\u001b[32m,\u001b[0m\u001b[32m \u001b[0m\u001b[32m2\u001b[0m\u001b[32m2\u001b[0m\u001b[32m,\u001b[0m\u001b[32m \u001b[0m\u001b[32m3\u001b[0m\u001b[32m3\u001b[0m\u001b[32m]\u001b[0m\u001b[32m,\u001b[0m\u001b[32m \u001b[0m\u001b[32m \u001b[0m\u001b[32m \u001b[0m\u001b[32m#\u001b[0m\u001b[32m \u001b[0m\u001b[32mT\u001b[0m\u001b[32mY\u001b[0m\u001b[32mP\u001b[0m\u001b[32mE\u001b[0m\u001b[32m:\u001b[0m\u001b[32m \u001b[0m\u001b[32mL\u001b[0m\u001b[32mI\u001b[0m\u001b[32mS\u001b[0m\u001b[32mT\u001b[0m\u001b[32m\n",
      "\u001b[0m\u001b[32m}\u001b[0m>>> Followup: why?\n",
      "\u001b[32m[Duck] \u001b[0m\u001b[32mQ\u001b[0m\u001b[32mU\u001b[0m\u001b[32mE\u001b[0m\u001b[32mS\u001b[0m\u001b[32mT\u001b[0m\u001b[32mI\u001b[0m\u001b[32mO\u001b[0m\u001b[32mN\u001b[0m\u001b[32m:\u001b[0m\u001b[32m\n",
      "\u001b[0m\u001b[32mF\u001b[0m\u001b[32mO\u001b[0m\u001b[32mL\u001b[0m\u001b[32mL\u001b[0m\u001b[32mO\u001b[0m\u001b[32mW\u001b[0m\u001b[32mU\u001b[0m\u001b[32mP\u001b[0m\u001b[32m:\u001b[0m\u001b[32m \u001b[0m\u001b[32mW\u001b[0m\u001b[32mH\u001b[0m\u001b[32mY\u001b[0m\u001b[32m?\u001b[0m>>> n\n",
      "> <ipython-input-13-ce72152daa37>(3)bubble_sort()\n",
      "-> for j in range(len(nums)):\n",
      ">>> n\n",
      "> <ipython-input-13-ce72152daa37>(4)bubble_sort()\n",
      "-> if nums[j] > nums[j + 1]:\n",
      ">>> n\n",
      "> <ipython-input-13-ce72152daa37>(5)bubble_sort()\n",
      "-> nums[j + 1], nums[j] = nums[j], nums[j + 1]\n",
      ">>> n\n",
      "> <ipython-input-13-ce72152daa37>(6)bubble_sort()\n",
      "-> duck(chat_class=DummyChatModel)\n",
      ">>> i,j\n",
      "(0, 5)\n",
      ">>> A new question?\n"
     ]
    },
    {
     "name": "stdout",
     "output_type": "stream",
     "text": [
      "\u001b[32m[Duck] \u001b[0m\u001b[32mT\u001b[0m\u001b[32mH\u001b[0m\u001b[32mI\u001b[0m\u001b[32mS\u001b[0m\u001b[32m \u001b[0m\u001b[32mC\u001b[0m\u001b[32mO\u001b[0m\u001b[32mD\u001b[0m\u001b[32mE\u001b[0m\u001b[32m \u001b[0m\u001b[32mS\u001b[0m\u001b[32mN\u001b[0m\u001b[32mI\u001b[0m\u001b[32mP\u001b[0m\u001b[32mP\u001b[0m\u001b[32mE\u001b[0m\u001b[32mT\u001b[0m\u001b[32m \u001b[0m\u001b[32mI\u001b[0m\u001b[32mS\u001b[0m\u001b[32m \u001b[0m\u001b[32mN\u001b[0m\u001b[32mO\u001b[0m\u001b[32mT\u001b[0m\u001b[32m \u001b[0m\u001b[32mW\u001b[0m\u001b[32mO\u001b[0m\u001b[32mR\u001b[0m\u001b[32mK\u001b[0m\u001b[32mI\u001b[0m\u001b[32mN\u001b[0m\u001b[32mG\u001b[0m\u001b[32m \u001b[0m\u001b[32mA\u001b[0m\u001b[32mS\u001b[0m\u001b[32m \u001b[0m\u001b[32mE\u001b[0m\u001b[32mX\u001b[0m\u001b[32mP\u001b[0m\u001b[32mE\u001b[0m\u001b[32mC\u001b[0m\u001b[32mT\u001b[0m\u001b[32mE\u001b[0m\u001b[32mD\u001b[0m\u001b[32m.\u001b[0m\u001b[32m \u001b[0m\u001b[32mH\u001b[0m\u001b[32mE\u001b[0m\u001b[32mL\u001b[0m\u001b[32mP\u001b[0m\u001b[32m \u001b[0m\u001b[32mM\u001b[0m\u001b[32mE\u001b[0m\u001b[32m \u001b[0m\u001b[32mD\u001b[0m\u001b[32mE\u001b[0m\u001b[32mB\u001b[0m\u001b[32mU\u001b[0m\u001b[32mG\u001b[0m\u001b[32m \u001b[0m\u001b[32mI\u001b[0m\u001b[32mT\u001b[0m\u001b[32m.\u001b[0m\u001b[32m \u001b[0m\u001b[32mF\u001b[0m\u001b[32mI\u001b[0m\u001b[32mR\u001b[0m\u001b[32mS\u001b[0m\u001b[32mT\u001b[0m\u001b[32m \u001b[0m\u001b[32mR\u001b[0m\u001b[32mE\u001b[0m\u001b[32mA\u001b[0m\u001b[32mD\u001b[0m\u001b[32m \u001b[0m\u001b[32mM\u001b[0m\u001b[32mY\u001b[0m\u001b[32m \u001b[0m\u001b[32mQ\u001b[0m\u001b[32mU\u001b[0m\u001b[32mE\u001b[0m\u001b[32mS\u001b[0m\u001b[32mT\u001b[0m\u001b[32mI\u001b[0m\u001b[32mO\u001b[0m\u001b[32mN\u001b[0m\u001b[32m,\u001b[0m\u001b[32m \u001b[0m\u001b[32mT\u001b[0m\u001b[32mH\u001b[0m\u001b[32mE\u001b[0m\u001b[32mN\u001b[0m\u001b[32m \u001b[0m\u001b[32mE\u001b[0m\u001b[32mX\u001b[0m\u001b[32mA\u001b[0m\u001b[32mM\u001b[0m\u001b[32mI\u001b[0m\u001b[32mN\u001b[0m\u001b[32mE\u001b[0m\u001b[32m \u001b[0m\u001b[32mT\u001b[0m\u001b[32mH\u001b[0m\u001b[32mE\u001b[0m\u001b[32m \u001b[0m\u001b[32mS\u001b[0m\u001b[32mN\u001b[0m\u001b[32mI\u001b[0m\u001b[32mP\u001b[0m\u001b[32mP\u001b[0m\u001b[32mE\u001b[0m\u001b[32mT\u001b[0m\u001b[32m \u001b[0m\u001b[32mO\u001b[0m\u001b[32mF\u001b[0m\u001b[32m \u001b[0m\u001b[32mC\u001b[0m\u001b[32mO\u001b[0m\u001b[32mD\u001b[0m\u001b[32mE\u001b[0m\u001b[32m \u001b[0m\u001b[32mT\u001b[0m\u001b[32mH\u001b[0m\u001b[32mA\u001b[0m\u001b[32mT\u001b[0m\u001b[32m \u001b[0m\u001b[32mI\u001b[0m\u001b[32mS\u001b[0m\u001b[32m \u001b[0m\u001b[32mC\u001b[0m\u001b[32mA\u001b[0m\u001b[32mU\u001b[0m\u001b[32mS\u001b[0m\u001b[32mI\u001b[0m\u001b[32mN\u001b[0m\u001b[32mG\u001b[0m\u001b[32m \u001b[0m\u001b[32mT\u001b[0m\u001b[32mH\u001b[0m\u001b[32mE\u001b[0m\u001b[32m \u001b[0m\u001b[32mI\u001b[0m\u001b[32mS\u001b[0m\u001b[32mS\u001b[0m\u001b[32mU\u001b[0m\u001b[32mE\u001b[0m\u001b[32m \u001b[0m\u001b[32mA\u001b[0m\u001b[32mN\u001b[0m\u001b[32mD\u001b[0m\u001b[32m \u001b[0m\u001b[32mL\u001b[0m\u001b[32mO\u001b[0m\u001b[32mO\u001b[0m\u001b[32mK\u001b[0m\u001b[32m \u001b[0m\u001b[32mA\u001b[0m\u001b[32mT\u001b[0m\u001b[32m \u001b[0m\u001b[32mT\u001b[0m\u001b[32mH\u001b[0m\u001b[32mE\u001b[0m\u001b[32m \u001b[0m\u001b[32mV\u001b[0m\u001b[32mA\u001b[0m\u001b[32mL\u001b[0m\u001b[32mU\u001b[0m\u001b[32mE\u001b[0m\u001b[32mS\u001b[0m\u001b[32m \u001b[0m\u001b[32mO\u001b[0m\u001b[32mF\u001b[0m\u001b[32m \u001b[0m\u001b[32mT\u001b[0m\u001b[32mH\u001b[0m\u001b[32mE\u001b[0m\u001b[32m \u001b[0m\u001b[32mL\u001b[0m\u001b[32mO\u001b[0m\u001b[32mC\u001b[0m\u001b[32mA\u001b[0m\u001b[32mL\u001b[0m\u001b[32m \u001b[0m\u001b[32mA\u001b[0m\u001b[32mN\u001b[0m\u001b[32mD\u001b[0m\u001b[32m \u001b[0m\u001b[32mG\u001b[0m\u001b[32mL\u001b[0m\u001b[32mO\u001b[0m\u001b[32mB\u001b[0m\u001b[32mA\u001b[0m\u001b[32mL\u001b[0m\u001b[32m \u001b[0m\u001b[32mV\u001b[0m\u001b[32mA\u001b[0m\u001b[32mR\u001b[0m\u001b[32mI\u001b[0m\u001b[32mA\u001b[0m\u001b[32mB\u001b[0m\u001b[32mL\u001b[0m\u001b[32mE\u001b[0m\u001b[32mS\u001b[0m\u001b[32m.\u001b[0m\u001b[32m \u001b[0m\u001b[32mY\u001b[0m\u001b[32mO\u001b[0m\u001b[32mU\u001b[0m\u001b[32mR\u001b[0m\u001b[32m \u001b[0m\u001b[32mR\u001b[0m\u001b[32mE\u001b[0m\u001b[32mS\u001b[0m\u001b[32mP\u001b[0m\u001b[32mO\u001b[0m\u001b[32mN\u001b[0m\u001b[32mS\u001b[0m\u001b[32mE\u001b[0m\u001b[32m \u001b[0m\u001b[32mM\u001b[0m\u001b[32mU\u001b[0m\u001b[32mS\u001b[0m\u001b[32mT\u001b[0m\u001b[32m \u001b[0m\u001b[32mH\u001b[0m\u001b[32mA\u001b[0m\u001b[32mV\u001b[0m\u001b[32mE\u001b[0m\u001b[32m \u001b[0m\u001b[32mE\u001b[0m\u001b[32mX\u001b[0m\u001b[32mA\u001b[0m\u001b[32mC\u001b[0m\u001b[32mT\u001b[0m\u001b[32mL\u001b[0m\u001b[32mY\u001b[0m\u001b[32m \u001b[0m\u001b[32mT\u001b[0m\u001b[32mW\u001b[0m\u001b[32mO\u001b[0m\u001b[32m \u001b[0m\u001b[32mS\u001b[0m\u001b[32mE\u001b[0m\u001b[32mC\u001b[0m\u001b[32mT\u001b[0m\u001b[32mI\u001b[0m\u001b[32mO\u001b[0m\u001b[32mN\u001b[0m\u001b[32mS\u001b[0m\u001b[32m,\u001b[0m\u001b[32m \u001b[0m\u001b[32mS\u001b[0m\u001b[32mE\u001b[0m\u001b[32mP\u001b[0m\u001b[32mA\u001b[0m\u001b[32mR\u001b[0m\u001b[32mA\u001b[0m\u001b[32mT\u001b[0m\u001b[32mE\u001b[0m\u001b[32mD\u001b[0m\u001b[32m \u001b[0m\u001b[32mB\u001b[0m\u001b[32mY\u001b[0m\u001b[32m \u001b[0m\u001b[32mA\u001b[0m\u001b[32mN\u001b[0m\u001b[32m \u001b[0m\u001b[32mE\u001b[0m\u001b[32mM\u001b[0m\u001b[32mP\u001b[0m\u001b[32mT\u001b[0m\u001b[32mY\u001b[0m\u001b[32m \u001b[0m\u001b[32mL\u001b[0m\u001b[32mI\u001b[0m\u001b[32mN\u001b[0m\u001b[32mE\u001b[0m\u001b[32m.\u001b[0m\u001b[32m \u001b[0m\u001b[32mD\u001b[0m\u001b[32mO\u001b[0m\u001b[32m \u001b[0m\u001b[32mN\u001b[0m\u001b[32mO\u001b[0m\u001b[32mT\u001b[0m\u001b[32m \u001b[0m\u001b[32mI\u001b[0m\u001b[32mN\u001b[0m\u001b[32mC\u001b[0m\u001b[32mL\u001b[0m\u001b[32mU\u001b[0m\u001b[32mD\u001b[0m\u001b[32mE\u001b[0m\u001b[32m \u001b[0m\u001b[32mS\u001b[0m\u001b[32mE\u001b[0m\u001b[32mC\u001b[0m\u001b[32mT\u001b[0m\u001b[32mI\u001b[0m\u001b[32mO\u001b[0m\u001b[32mN\u001b[0m\u001b[32m \u001b[0m\u001b[32mT\u001b[0m\u001b[32mI\u001b[0m\u001b[32mT\u001b[0m\u001b[32mL\u001b[0m\u001b[32mE\u001b[0m\u001b[32mS\u001b[0m\u001b[32m \u001b[0m\u001b[32mO\u001b[0m\u001b[32mF\u001b[0m\u001b[32m \u001b[0m\u001b[32mA\u001b[0m\u001b[32mN\u001b[0m\u001b[32mY\u001b[0m\u001b[32m \u001b[0m\u001b[32mK\u001b[0m\u001b[32mI\u001b[0m\u001b[32mN\u001b[0m\u001b[32mD\u001b[0m\u001b[32m.\u001b[0m\u001b[32m \u001b[0m\u001b[32mI\u001b[0m\u001b[32mN\u001b[0m\u001b[32m \u001b[0m\u001b[32mS\u001b[0m\u001b[32mE\u001b[0m\u001b[32mC\u001b[0m\u001b[32mT\u001b[0m\u001b[32mI\u001b[0m\u001b[32mO\u001b[0m\u001b[32mN\u001b[0m\u001b[32m \u001b[0m\u001b[32m1\u001b[0m\u001b[32m,\u001b[0m\u001b[32m \u001b[0m\u001b[32mU\u001b[0m\u001b[32mS\u001b[0m\u001b[32mE\u001b[0m\u001b[32m \u001b[0m\u001b[32mP\u001b[0m\u001b[32mL\u001b[0m\u001b[32mA\u001b[0m\u001b[32mI\u001b[0m\u001b[32mN\u001b[0m\u001b[32m \u001b[0m\u001b[32mE\u001b[0m\u001b[32mN\u001b[0m\u001b[32mG\u001b[0m\u001b[32mL\u001b[0m\u001b[32mI\u001b[0m\u001b[32mS\u001b[0m\u001b[32mH\u001b[0m\u001b[32m \u001b[0m\u001b[32mT\u001b[0m\u001b[32mO\u001b[0m\u001b[32m \u001b[0m\u001b[32mE\u001b[0m\u001b[32mX\u001b[0m\u001b[32mP\u001b[0m\u001b[32mL\u001b[0m\u001b[32mA\u001b[0m\u001b[32mI\u001b[0m\u001b[32mN\u001b[0m\u001b[32m \u001b[0m\u001b[32mW\u001b[0m\u001b[32mH\u001b[0m\u001b[32mA\u001b[0m\u001b[32mT\u001b[0m\u001b[32m \u001b[0m\u001b[32mT\u001b[0m\u001b[32mH\u001b[0m\u001b[32mE\u001b[0m\u001b[32m \u001b[0m\u001b[32mP\u001b[0m\u001b[32mR\u001b[0m\u001b[32mO\u001b[0m\u001b[32mB\u001b[0m\u001b[32mL\u001b[0m\u001b[32mE\u001b[0m\u001b[32mM\u001b[0m\u001b[32m \u001b[0m\u001b[32mI\u001b[0m\u001b[32mS\u001b[0m\u001b[32m \u001b[0m\u001b[32mA\u001b[0m\u001b[32mN\u001b[0m\u001b[32mD\u001b[0m\u001b[32m \u001b[0m\u001b[32mH\u001b[0m\u001b[32mO\u001b[0m\u001b[32mW\u001b[0m\u001b[32m \u001b[0m\u001b[32mT\u001b[0m\u001b[32mO\u001b[0m\u001b[32m \u001b[0m\u001b[32mF\u001b[0m\u001b[32mI\u001b[0m\u001b[32mX\u001b[0m\u001b[32m \u001b[0m\u001b[32mI\u001b[0m\u001b[32mT\u001b[0m\u001b[32m \u001b[0m\u001b[32m(\u001b[0m\u001b[32mI\u001b[0m\u001b[32mF\u001b[0m\u001b[32m \u001b[0m\u001b[32mY\u001b[0m\u001b[32mO\u001b[0m\u001b[32mU\u001b[0m\u001b[32m \u001b[0m\u001b[32mC\u001b[0m\u001b[32mO\u001b[0m\u001b[32mU\u001b[0m\u001b[32mL\u001b[0m\u001b[32mD\u001b[0m\u001b[32mN\u001b[0m\u001b[32m'\u001b[0m\u001b[32mT\u001b[0m\u001b[32m \u001b[0m\u001b[32mI\u001b[0m\u001b[32mD\u001b[0m\u001b[32mE\u001b[0m\u001b[32mN\u001b[0m\u001b[32mT\u001b[0m\u001b[32mI\u001b[0m\u001b[32mF\u001b[0m\u001b[32mY\u001b[0m\u001b[32m \u001b[0m\u001b[32mT\u001b[0m\u001b[32mH\u001b[0m\u001b[32mE\u001b[0m\u001b[32m \u001b[0m\u001b[32mP\u001b[0m\u001b[32mR\u001b[0m\u001b[32mO\u001b[0m\u001b[32mB\u001b[0m\u001b[32mL\u001b[0m\u001b[32mE\u001b[0m\u001b[32mM\u001b[0m\u001b[32m,\u001b[0m\u001b[32m \u001b[0m\u001b[32mS\u001b[0m\u001b[32mE\u001b[0m\u001b[32mC\u001b[0m\u001b[32mT\u001b[0m\u001b[32mI\u001b[0m\u001b[32mO\u001b[0m\u001b[32mN\u001b[0m\u001b[32m \u001b[0m\u001b[32m1\u001b[0m\u001b[32m \u001b[0m\u001b[32mS\u001b[0m\u001b[32mH\u001b[0m\u001b[32mO\u001b[0m\u001b[32mU\u001b[0m\u001b[32mL\u001b[0m\u001b[32mD\u001b[0m\u001b[32m \u001b[0m\u001b[32mI\u001b[0m\u001b[32mN\u001b[0m\u001b[32mS\u001b[0m\u001b[32mT\u001b[0m\u001b[32mE\u001b[0m\u001b[32mA\u001b[0m\u001b[32mD\u001b[0m\u001b[32m \u001b[0m\u001b[32mL\u001b[0m\u001b[32mI\u001b[0m\u001b[32mS\u001b[0m\u001b[32mT\u001b[0m\u001b[32m \u001b[0m\u001b[32mA\u001b[0m\u001b[32m \u001b[0m\u001b[32mF\u001b[0m\u001b[32mE\u001b[0m\u001b[32mW\u001b[0m\u001b[32m \u001b[0m\u001b[32mP\u001b[0m\u001b[32mO\u001b[0m\u001b[32mS\u001b[0m\u001b[32mS\u001b[0m\u001b[32mI\u001b[0m\u001b[32mB\u001b[0m\u001b[32mL\u001b[0m\u001b[32mE\u001b[0m\u001b[32m \u001b[0m\u001b[32mC\u001b[0m\u001b[32mA\u001b[0m\u001b[32mU\u001b[0m\u001b[32mS\u001b[0m\u001b[32mE\u001b[0m\u001b[32mS\u001b[0m\u001b[32m \u001b[0m\u001b[32mO\u001b[0m\u001b[32mR\u001b[0m\u001b[32m \u001b[0m\u001b[32mT\u001b[0m\u001b[32mH\u001b[0m\u001b[32mI\u001b[0m\u001b[32mN\u001b[0m\u001b[32mG\u001b[0m\u001b[32mS\u001b[0m\u001b[32m \u001b[0m\u001b[32mI\u001b[0m\u001b[32m \u001b[0m\u001b[32mC\u001b[0m\u001b[32mO\u001b[0m\u001b[32mU\u001b[0m\u001b[32mL\u001b[0m\u001b[32mD\u001b[0m\u001b[32m \u001b[0m\u001b[32mT\u001b[0m\u001b[32mR\u001b[0m\u001b[32mY\u001b[0m\u001b[32m \u001b[0m\u001b[32mI\u001b[0m\u001b[32mN\u001b[0m\u001b[32m \u001b[0m\u001b[32mO\u001b[0m\u001b[32mR\u001b[0m\u001b[32mD\u001b[0m\u001b[32mE\u001b[0m\u001b[32mR\u001b[0m\u001b[32m \u001b[0m\u001b[32mT\u001b[0m\u001b[32mO\u001b[0m\u001b[32m \u001b[0m\u001b[32mI\u001b[0m\u001b[32mD\u001b[0m\u001b[32mE\u001b[0m\u001b[32mN\u001b[0m\u001b[32mT\u001b[0m\u001b[32mI\u001b[0m\u001b[32mF\u001b[0m\u001b[32mY\u001b[0m\u001b[32m \u001b[0m\u001b[32mT\u001b[0m\u001b[32mH\u001b[0m\u001b[32mE\u001b[0m\u001b[32m \u001b[0m\u001b[32mI\u001b[0m\u001b[32mS\u001b[0m\u001b[32mS\u001b[0m\u001b[32mU\u001b[0m\u001b[32mE\u001b[0m\u001b[32m)\u001b[0m\u001b[32m.\u001b[0m\u001b[32m \u001b[0m\u001b[32mI\u001b[0m\u001b[32mN\u001b[0m\u001b[32m \u001b[0m\u001b[32mS\u001b[0m\u001b[32mE\u001b[0m\u001b[32mC\u001b[0m\u001b[32mT\u001b[0m\u001b[32mI\u001b[0m\u001b[32mO\u001b[0m\u001b[32mN\u001b[0m\u001b[32m \u001b[0m\u001b[32m2\u001b[0m\u001b[32m,\u001b[0m\u001b[32m \u001b[0m\u001b[32mW\u001b[0m\u001b[32mR\u001b[0m\u001b[32mI\u001b[0m\u001b[32mT\u001b[0m\u001b[32mE\u001b[0m\u001b[32m \u001b[0m\u001b[32mA\u001b[0m\u001b[32m \u001b[0m\u001b[32mC\u001b[0m\u001b[32mO\u001b[0m\u001b[32mR\u001b[0m\u001b[32mR\u001b[0m\u001b[32mE\u001b[0m\u001b[32mC\u001b[0m\u001b[32mT\u001b[0m\u001b[32mE\u001b[0m\u001b[32mD\u001b[0m\u001b[32m \u001b[0m\u001b[32mV\u001b[0m\u001b[32mE\u001b[0m\u001b[32mR\u001b[0m\u001b[32mS\u001b[0m\u001b[32mI\u001b[0m\u001b[32mO\u001b[0m\u001b[32mN\u001b[0m\u001b[32m \u001b[0m\u001b[32mO\u001b[0m\u001b[32mF\u001b[0m\u001b[32m \u001b[0m\u001b[32mT\u001b[0m\u001b[32mH\u001b[0m\u001b[32mE\u001b[0m\u001b[32m \u001b[0m\u001b[32mI\u001b[0m\u001b[32mN\u001b[0m\u001b[32mP\u001b[0m\u001b[32mU\u001b[0m\u001b[32mT\u001b[0m\u001b[32m \u001b[0m\u001b[32mC\u001b[0m\u001b[32mO\u001b[0m\u001b[32mD\u001b[0m\u001b[32mE\u001b[0m\u001b[32m \u001b[0m\u001b[32mS\u001b[0m\u001b[32mN\u001b[0m\u001b[32mI\u001b[0m\u001b[32mP\u001b[0m\u001b[32mP\u001b[0m\u001b[32mE\u001b[0m\u001b[32mT\u001b[0m\u001b[32m \u001b[0m\u001b[32m(\u001b[0m\u001b[32mI\u001b[0m\u001b[32mF\u001b[0m\u001b[32m \u001b[0m\u001b[32mY\u001b[0m\u001b[32mO\u001b[0m\u001b[32mU\u001b[0m\u001b[32m \u001b[0m\u001b[32mD\u001b[0m\u001b[32mO\u001b[0m\u001b[32mN\u001b[0m\u001b[32m'\u001b[0m\u001b[32mT\u001b[0m\u001b[32m \u001b[0m\u001b[32mK\u001b[0m\u001b[32mN\u001b[0m\u001b[32mO\u001b[0m\u001b[32mW\u001b[0m\u001b[32m,\u001b[0m\u001b[32m \u001b[0m\u001b[32mS\u001b[0m\u001b[32mE\u001b[0m\u001b[32mC\u001b[0m\u001b[32mT\u001b[0m\u001b[32mI\u001b[0m\u001b[32mO\u001b[0m\u001b[32mN\u001b[0m\u001b[32m \u001b[0m\u001b[32m2\u001b[0m\u001b[32m \u001b[0m\u001b[32mS\u001b[0m\u001b[32mH\u001b[0m\u001b[32mO\u001b[0m\u001b[32mU\u001b[0m\u001b[32mL\u001b[0m\u001b[32mD\u001b[0m\u001b[32m \u001b[0m\u001b[32mB\u001b[0m\u001b[32mE\u001b[0m\u001b[32m \u001b[0m\u001b[32mE\u001b[0m\u001b[32mM\u001b[0m\u001b[32mP\u001b[0m\u001b[32mT\u001b[0m\u001b[32mY\u001b[0m\u001b[32m)\u001b[0m\u001b[32m.\u001b[0m\u001b[32m \u001b[0m\u001b[32mS\u001b[0m\u001b[32mE\u001b[0m\u001b[32mC\u001b[0m\u001b[32mT\u001b[0m\u001b[32mI\u001b[0m\u001b[32mO\u001b[0m\u001b[32mN\u001b[0m\u001b[32m \u001b[0m\u001b[32m2\u001b[0m\u001b[32m \u001b[0m\u001b[32mM\u001b[0m\u001b[32mU\u001b[0m\u001b[32mS\u001b[0m\u001b[32mT\u001b[0m\u001b[32m \u001b[0m\u001b[32mC\u001b[0m\u001b[32mO\u001b[0m\u001b[32mN\u001b[0m\u001b[32mT\u001b[0m\u001b[32mA\u001b[0m\u001b[32mI\u001b[0m\u001b[32mN\u001b[0m\u001b[32m \u001b[0m\u001b[32mO\u001b[0m\u001b[32mN\u001b[0m\u001b[32mL\u001b[0m\u001b[32mY\u001b[0m\u001b[32m \u001b[0m\u001b[32mP\u001b[0m\u001b[32mY\u001b[0m\u001b[32mT\u001b[0m\u001b[32mH\u001b[0m\u001b[32mO\u001b[0m\u001b[32mN\u001b[0m\u001b[32m \u001b[0m\u001b[32mC\u001b[0m\u001b[32mO\u001b[0m\u001b[32mD\u001b[0m\u001b[32mE\u001b[0m\u001b[32m \u001b[0m\u001b[32m-\u001b[0m\u001b[32m \u001b[0m\u001b[32mT\u001b[0m\u001b[32mH\u001b[0m\u001b[32mE\u001b[0m\u001b[32mR\u001b[0m\u001b[32mE\u001b[0m\u001b[32m \u001b[0m\u001b[32mM\u001b[0m\u001b[32mU\u001b[0m\u001b[32mS\u001b[0m\u001b[32mT\u001b[0m\u001b[32m \u001b[0m\u001b[32mN\u001b[0m\u001b[32mO\u001b[0m\u001b[32mT\u001b[0m\u001b[32m \u001b[0m\u001b[32mB\u001b[0m\u001b[32mE\u001b[0m\u001b[32m \u001b[0m\u001b[32mA\u001b[0m\u001b[32mN\u001b[0m\u001b[32mY\u001b[0m\u001b[32m \u001b[0m\u001b[32mE\u001b[0m\u001b[32mN\u001b[0m\u001b[32mG\u001b[0m\u001b[32mL\u001b[0m\u001b[32mI\u001b[0m\u001b[32mS\u001b[0m\u001b[32mH\u001b[0m\u001b[32m \u001b[0m\u001b[32mE\u001b[0m\u001b[32mX\u001b[0m\u001b[32mP\u001b[0m\u001b[32mL\u001b[0m\u001b[32mA\u001b[0m\u001b[32mN\u001b[0m\u001b[32mA\u001b[0m\u001b[32mT\u001b[0m\u001b[32mI\u001b[0m\u001b[32mO\u001b[0m\u001b[32mN\u001b[0m\u001b[32m \u001b[0m\u001b[32mO\u001b[0m\u001b[32mU\u001b[0m\u001b[32mT\u001b[0m\u001b[32mS\u001b[0m\u001b[32mI\u001b[0m\u001b[32mD\u001b[0m\u001b[32mE\u001b[0m\u001b[32m \u001b[0m\u001b[32mO\u001b[0m\u001b[32mF\u001b[0m\u001b[32m \u001b[0m\u001b[32mC\u001b[0m\u001b[32mO\u001b[0m\u001b[32mD\u001b[0m\u001b[32mE\u001b[0m\u001b[32m \u001b[0m\u001b[32mC\u001b[0m\u001b[32mO\u001b[0m\u001b[32mM\u001b[0m\u001b[32mM\u001b[0m\u001b[32mE\u001b[0m\u001b[32mN\u001b[0m\u001b[32mT\u001b[0m\u001b[32mS\u001b[0m\u001b[32m \u001b[0m\u001b[32mO\u001b[0m\u001b[32mR\u001b[0m\u001b[32m \u001b[0m\u001b[32mD\u001b[0m\u001b[32mO\u001b[0m\u001b[32mC\u001b[0m\u001b[32mS\u001b[0m\u001b[32mT\u001b[0m\u001b[32mR\u001b[0m\u001b[32mI\u001b[0m\u001b[32mN\u001b[0m\u001b[32mG\u001b[0m\u001b[32mS\u001b[0m\u001b[32m.\u001b[0m\u001b[32m \u001b[0m\u001b[32mS\u001b[0m\u001b[32mE\u001b[0m\u001b[32mC\u001b[0m\u001b[32mT\u001b[0m\u001b[32mI\u001b[0m\u001b[32mO\u001b[0m\u001b[32mN\u001b[0m\u001b[32m \u001b[0m\u001b[32m2\u001b[0m\u001b[32m \u001b[0m\u001b[32mM\u001b[0m\u001b[32mU\u001b[0m\u001b[32mS\u001b[0m\u001b[32mT\u001b[0m\u001b[32m \u001b[0m\u001b[32mB\u001b[0m\u001b[32mE\u001b[0m\u001b[32m \u001b[0m\u001b[32mE\u001b[0m\u001b[32mN\u001b[0m\u001b[32mT\u001b[0m\u001b[32mI\u001b[0m\u001b[32mR\u001b[0m\u001b[32mE\u001b[0m\u001b[32mL\u001b[0m\u001b[32mY\u001b[0m\u001b[32m \u001b[0m\u001b[32mE\u001b[0m\u001b[32mN\u001b[0m\u001b[32mC\u001b[0m\u001b[32mL\u001b[0m\u001b[32mO\u001b[0m\u001b[32mS\u001b[0m"
     ]
    },
    {
     "name": "stdout",
     "output_type": "stream",
     "text": [
      "\u001b[32mE\u001b[0m\u001b[32mD\u001b[0m\u001b[32m \u001b[0m\u001b[32mI\u001b[0m\u001b[32mN\u001b[0m\u001b[32m \u001b[0m\u001b[32mO\u001b[0m\u001b[32mN\u001b[0m\u001b[32mE\u001b[0m\u001b[32m \u001b[0m\u001b[32mP\u001b[0m\u001b[32mA\u001b[0m\u001b[32mI\u001b[0m\u001b[32mR\u001b[0m\u001b[32m \u001b[0m\u001b[32mO\u001b[0m\u001b[32mF\u001b[0m\u001b[32m \u001b[0m\u001b[32mT\u001b[0m\u001b[32mR\u001b[0m\u001b[32mI\u001b[0m\u001b[32mP\u001b[0m\u001b[32mL\u001b[0m\u001b[32mE\u001b[0m\u001b[32m \u001b[0m\u001b[32mB\u001b[0m\u001b[32mA\u001b[0m\u001b[32mC\u001b[0m\u001b[32mK\u001b[0m\u001b[32mT\u001b[0m\u001b[32mI\u001b[0m\u001b[32mC\u001b[0m\u001b[32mK\u001b[0m\u001b[32mS\u001b[0m\u001b[32m \u001b[0m\u001b[32m(\u001b[0m\u001b[32m\"\u001b[0m\u001b[32m`\u001b[0m\u001b[32m`\u001b[0m\u001b[32m`\u001b[0m\u001b[32m\"\u001b[0m\u001b[32m)\u001b[0m\u001b[32m.\u001b[0m\u001b[32m \u001b[0m\u001b[32m\n",
      "\u001b[0m\u001b[32m\n",
      "\u001b[0m\u001b[32mQ\u001b[0m\u001b[32mU\u001b[0m\u001b[32mE\u001b[0m\u001b[32mS\u001b[0m\u001b[32mT\u001b[0m\u001b[32mI\u001b[0m\u001b[32mO\u001b[0m\u001b[32mN\u001b[0m\u001b[32m:\u001b[0m\u001b[32m\n",
      "\u001b[0m\u001b[32mA\u001b[0m\u001b[32m \u001b[0m\u001b[32mN\u001b[0m\u001b[32mE\u001b[0m\u001b[32mW\u001b[0m\u001b[32m \u001b[0m\u001b[32mQ\u001b[0m\u001b[32mU\u001b[0m\u001b[32mE\u001b[0m\u001b[32mS\u001b[0m\u001b[32mT\u001b[0m\u001b[32mI\u001b[0m\u001b[32mO\u001b[0m\u001b[32mN\u001b[0m\u001b[32m?\u001b[0m\u001b[32m\n",
      "\u001b[0m\u001b[32m\n",
      "\u001b[0m\u001b[32mC\u001b[0m\u001b[32mU\u001b[0m\u001b[32mR\u001b[0m\u001b[32mR\u001b[0m\u001b[32mE\u001b[0m\u001b[32mN\u001b[0m\u001b[32mT\u001b[0m\u001b[32m \u001b[0m\u001b[32mC\u001b[0m\u001b[32mO\u001b[0m\u001b[32mD\u001b[0m\u001b[32mE\u001b[0m\u001b[32m \u001b[0m\u001b[32mS\u001b[0m\u001b[32mN\u001b[0m\u001b[32mI\u001b[0m\u001b[32mP\u001b[0m\u001b[32mP\u001b[0m\u001b[32mE\u001b[0m\u001b[32mT\u001b[0m\u001b[32m:\u001b[0m\u001b[32m\n",
      "\u001b[0m\u001b[32mD\u001b[0m\u001b[32mE\u001b[0m\u001b[32mF\u001b[0m\u001b[32m \u001b[0m\u001b[32mB\u001b[0m\u001b[32mU\u001b[0m\u001b[32mB\u001b[0m\u001b[32mB\u001b[0m\u001b[32mL\u001b[0m\u001b[32mE\u001b[0m\u001b[32m_\u001b[0m\u001b[32mS\u001b[0m\u001b[32mO\u001b[0m\u001b[32mR\u001b[0m\u001b[32mT\u001b[0m\u001b[32m(\u001b[0m\u001b[32mN\u001b[0m\u001b[32mU\u001b[0m\u001b[32mM\u001b[0m\u001b[32mS\u001b[0m\u001b[32m)\u001b[0m\u001b[32m:\u001b[0m\u001b[32m\n",
      "\u001b[0m\u001b[32m \u001b[0m\u001b[32m \u001b[0m\u001b[32m \u001b[0m\u001b[32m \u001b[0m\u001b[32mF\u001b[0m\u001b[32mO\u001b[0m\u001b[32mR\u001b[0m\u001b[32m \u001b[0m\u001b[32mI\u001b[0m\u001b[32m \u001b[0m\u001b[32mI\u001b[0m\u001b[32mN\u001b[0m\u001b[32m \u001b[0m\u001b[32mR\u001b[0m\u001b[32mA\u001b[0m\u001b[32mN\u001b[0m\u001b[32mG\u001b[0m\u001b[32mE\u001b[0m\u001b[32m(\u001b[0m\u001b[32mL\u001b[0m\u001b[32mE\u001b[0m\u001b[32mN\u001b[0m\u001b[32m(\u001b[0m\u001b[32mN\u001b[0m\u001b[32mU\u001b[0m\u001b[32mM\u001b[0m\u001b[32mS\u001b[0m\u001b[32m)\u001b[0m\u001b[32m)\u001b[0m\u001b[32m:\u001b[0m\u001b[32m\n",
      "\u001b[0m\u001b[32m \u001b[0m\u001b[32m \u001b[0m\u001b[32m \u001b[0m\u001b[32m \u001b[0m\u001b[32m \u001b[0m\u001b[32m \u001b[0m\u001b[32m \u001b[0m\u001b[32m \u001b[0m\u001b[32mF\u001b[0m\u001b[32mO\u001b[0m\u001b[32mR\u001b[0m\u001b[32m \u001b[0m\u001b[32mJ\u001b[0m\u001b[32m \u001b[0m\u001b[32mI\u001b[0m\u001b[32mN\u001b[0m\u001b[32m \u001b[0m\u001b[32mR\u001b[0m\u001b[32mA\u001b[0m\u001b[32mN\u001b[0m\u001b[32mG\u001b[0m\u001b[32mE\u001b[0m\u001b[32m(\u001b[0m\u001b[32mL\u001b[0m\u001b[32mE\u001b[0m\u001b[32mN\u001b[0m\u001b[32m(\u001b[0m\u001b[32mN\u001b[0m\u001b[32mU\u001b[0m\u001b[32mM\u001b[0m\u001b[32mS\u001b[0m\u001b[32m)\u001b[0m\u001b[32m)\u001b[0m\u001b[32m:\u001b[0m\u001b[32m\n",
      "\u001b[0m\u001b[32m \u001b[0m\u001b[32m \u001b[0m\u001b[32m \u001b[0m\u001b[32m \u001b[0m\u001b[32m \u001b[0m\u001b[32m \u001b[0m\u001b[32m \u001b[0m\u001b[32m \u001b[0m\u001b[32m \u001b[0m\u001b[32m \u001b[0m\u001b[32m \u001b[0m\u001b[32m \u001b[0m\u001b[32mI\u001b[0m\u001b[32mF\u001b[0m\u001b[32m \u001b[0m\u001b[32mN\u001b[0m\u001b[32mU\u001b[0m\u001b[32mM\u001b[0m\u001b[32mS\u001b[0m\u001b[32m[\u001b[0m\u001b[32mJ\u001b[0m\u001b[32m]\u001b[0m\u001b[32m \u001b[0m\u001b[32m>\u001b[0m\u001b[32m \u001b[0m\u001b[32mN\u001b[0m\u001b[32mU\u001b[0m\u001b[32mM\u001b[0m\u001b[32mS\u001b[0m\u001b[32m[\u001b[0m\u001b[32mJ\u001b[0m\u001b[32m \u001b[0m\u001b[32m+\u001b[0m\u001b[32m \u001b[0m\u001b[32m1\u001b[0m\u001b[32m]\u001b[0m\u001b[32m:\u001b[0m\u001b[32m\n",
      "\u001b[0m\u001b[32m \u001b[0m\u001b[32m \u001b[0m\u001b[32m \u001b[0m\u001b[32m \u001b[0m\u001b[32m \u001b[0m\u001b[32m \u001b[0m\u001b[32m \u001b[0m\u001b[32m \u001b[0m\u001b[32m \u001b[0m\u001b[32m \u001b[0m\u001b[32m \u001b[0m\u001b[32m \u001b[0m\u001b[32m \u001b[0m\u001b[32m \u001b[0m\u001b[32m \u001b[0m\u001b[32m \u001b[0m\u001b[32mN\u001b[0m\u001b[32mU\u001b[0m\u001b[32mM\u001b[0m\u001b[32mS\u001b[0m\u001b[32m[\u001b[0m\u001b[32mJ\u001b[0m\u001b[32m \u001b[0m\u001b[32m+\u001b[0m\u001b[32m \u001b[0m\u001b[32m1\u001b[0m\u001b[32m]\u001b[0m\u001b[32m,\u001b[0m\u001b[32m \u001b[0m\u001b[32mN\u001b[0m\u001b[32mU\u001b[0m\u001b[32mM\u001b[0m\u001b[32mS\u001b[0m\u001b[32m[\u001b[0m\u001b[32mJ\u001b[0m\u001b[32m]\u001b[0m\u001b[32m \u001b[0m\u001b[32m=\u001b[0m\u001b[32m \u001b[0m\u001b[32mN\u001b[0m\u001b[32mU\u001b[0m\u001b[32mM\u001b[0m\u001b[32mS\u001b[0m\u001b[32m[\u001b[0m\u001b[32mJ\u001b[0m\u001b[32m]\u001b[0m\u001b[32m,\u001b[0m\u001b[32m \u001b[0m\u001b[32mN\u001b[0m\u001b[32mU\u001b[0m\u001b[32mM\u001b[0m\u001b[32mS\u001b[0m\u001b[32m[\u001b[0m\u001b[32mJ\u001b[0m\u001b[32m \u001b[0m\u001b[32m+\u001b[0m\u001b[32m \u001b[0m\u001b[32m1\u001b[0m\u001b[32m]\u001b[0m\u001b[32m\n",
      "\u001b[0m\u001b[32m \u001b[0m\u001b[32m \u001b[0m\u001b[32m \u001b[0m\u001b[32m \u001b[0m\u001b[32mR\u001b[0m\u001b[32mE\u001b[0m\u001b[32mT\u001b[0m\u001b[32mU\u001b[0m\u001b[32mR\u001b[0m\u001b[32mN\u001b[0m\u001b[32m \u001b[0m\u001b[32mN\u001b[0m\u001b[32mU\u001b[0m\u001b[32mM\u001b[0m\u001b[32mS\u001b[0m\u001b[32m\n",
      "\u001b[0m\u001b[32m\n",
      "\u001b[0m\u001b[32mN\u001b[0m\u001b[32mE\u001b[0m\u001b[32mX\u001b[0m\u001b[32mT\u001b[0m\u001b[32m \u001b[0m\u001b[32mL\u001b[0m\u001b[32mI\u001b[0m\u001b[32mN\u001b[0m\u001b[32mE\u001b[0m\u001b[32m:\u001b[0m\u001b[32m\n",
      "\u001b[0m\u001b[32m \u001b[0m\u001b[32m \u001b[0m\u001b[32m \u001b[0m\u001b[32m \u001b[0m\u001b[32mR\u001b[0m\u001b[32mE\u001b[0m\u001b[32mT\u001b[0m\u001b[32mU\u001b[0m\u001b[32mR\u001b[0m\u001b[32mN\u001b[0m\u001b[32m \u001b[0m\u001b[32mN\u001b[0m\u001b[32mU\u001b[0m\u001b[32mM\u001b[0m\u001b[32mS\u001b[0m\u001b[32m\n",
      "\u001b[0m\u001b[32m\n",
      "\u001b[0m\u001b[32mL\u001b[0m\u001b[32mO\u001b[0m\u001b[32mC\u001b[0m\u001b[32mA\u001b[0m\u001b[32mL\u001b[0m\u001b[32m \u001b[0m\u001b[32mV\u001b[0m\u001b[32mA\u001b[0m\u001b[32mR\u001b[0m\u001b[32mI\u001b[0m\u001b[32mA\u001b[0m\u001b[32mB\u001b[0m\u001b[32mL\u001b[0m\u001b[32mE\u001b[0m\u001b[32mS\u001b[0m\u001b[32m:\u001b[0m\u001b[32m\n",
      "\u001b[0m\u001b[32m{\u001b[0m\u001b[32m\n",
      "\u001b[0m\u001b[32m \u001b[0m\u001b[32m \u001b[0m\u001b[32m \u001b[0m\u001b[32m \u001b[0m\u001b[32m'\u001b[0m\u001b[32mN\u001b[0m\u001b[32mU\u001b[0m\u001b[32mM\u001b[0m\u001b[32mS\u001b[0m\u001b[32m'\u001b[0m\u001b[32m:\u001b[0m\u001b[32m \u001b[0m\u001b[32m[\u001b[0m\u001b[32m1\u001b[0m\u001b[32m,\u001b[0m\u001b[32m \u001b[0m\u001b[32m3\u001b[0m\u001b[32m,\u001b[0m\u001b[32m \u001b[0m\u001b[32m-\u001b[0m\u001b[32m1\u001b[0m\u001b[32m0\u001b[0m\u001b[32m0\u001b[0m\u001b[32m,\u001b[0m\u001b[32m \u001b[0m\u001b[32m4\u001b[0m\u001b[32m,\u001b[0m\u001b[32m \u001b[0m\u001b[32m5\u001b[0m\u001b[32m,\u001b[0m\u001b[32m \u001b[0m\u001b[32m5\u001b[0m\u001b[32m,\u001b[0m\u001b[32m \u001b[0m\u001b[32m9\u001b[0m\u001b[32m,\u001b[0m\u001b[32m \u001b[0m\u001b[32m5\u001b[0m\u001b[32m,\u001b[0m\u001b[32m \u001b[0m\u001b[32m2\u001b[0m\u001b[32m2\u001b[0m\u001b[32m,\u001b[0m\u001b[32m \u001b[0m\u001b[32m3\u001b[0m\u001b[32m3\u001b[0m\u001b[32m]\u001b[0m\u001b[32m,\u001b[0m\u001b[32m \u001b[0m\u001b[32m \u001b[0m\u001b[32m \u001b[0m\u001b[32m#\u001b[0m\u001b[32m \u001b[0m\u001b[32mT\u001b[0m\u001b[32mY\u001b[0m\u001b[32mP\u001b[0m\u001b[32mE\u001b[0m\u001b[32m:\u001b[0m\u001b[32m \u001b[0m\u001b[32mL\u001b[0m\u001b[32mI\u001b[0m\u001b[32mS\u001b[0m\u001b[32mT\u001b[0m\u001b[32m\n",
      "\u001b[0m\u001b[32m \u001b[0m\u001b[32m \u001b[0m\u001b[32m \u001b[0m\u001b[32m \u001b[0m\u001b[32m'\u001b[0m\u001b[32mI\u001b[0m\u001b[32m'\u001b[0m\u001b[32m:\u001b[0m\u001b[32m \u001b[0m\u001b[32m0\u001b[0m\u001b[32m,\u001b[0m\u001b[32m \u001b[0m\u001b[32m \u001b[0m\u001b[32m \u001b[0m\u001b[32m#\u001b[0m\u001b[32m \u001b[0m\u001b[32mT\u001b[0m\u001b[32mY\u001b[0m\u001b[32mP\u001b[0m\u001b[32mE\u001b[0m\u001b[32m:\u001b[0m\u001b[32m \u001b[0m\u001b[32mI\u001b[0m\u001b[32mN\u001b[0m\u001b[32mT\u001b[0m\u001b[32m\n",
      "\u001b[0m\u001b[32m \u001b[0m\u001b[32m \u001b[0m\u001b[32m \u001b[0m\u001b[32m \u001b[0m\u001b[32m'\u001b[0m\u001b[32mJ\u001b[0m\u001b[32m'\u001b[0m\u001b[32m:\u001b[0m\u001b[32m \u001b[0m\u001b[32m5\u001b[0m\u001b[32m,\u001b[0m\u001b[32m \u001b[0m\u001b[32m \u001b[0m\u001b[32m \u001b[0m\u001b[32m#\u001b[0m\u001b[32m \u001b[0m\u001b[32mT\u001b[0m\u001b[32mY\u001b[0m\u001b[32mP\u001b[0m\u001b[32mE\u001b[0m\u001b[32m:\u001b[0m\u001b[32m \u001b[0m\u001b[32mI\u001b[0m\u001b[32mN\u001b[0m\u001b[32mT\u001b[0m\u001b[32m\n",
      "\u001b[0m\u001b[32m}\u001b[0m\u001b[32m\n",
      "\u001b[0m\u001b[32m\n",
      "\u001b[0m\u001b[32mG\u001b[0m\u001b[32mL\u001b[0m\u001b[32mO\u001b[0m\u001b[32mB\u001b[0m\u001b[32mA\u001b[0m\u001b[32mL\u001b[0m\u001b[32m \u001b[0m\u001b[32mV\u001b[0m\u001b[32mA\u001b[0m\u001b[32mR\u001b[0m\u001b[32mI\u001b[0m\u001b[32mA\u001b[0m\u001b[32mB\u001b[0m\u001b[32mL\u001b[0m\u001b[32mE\u001b[0m\u001b[32mS\u001b[0m\u001b[32m:\u001b[0m\u001b[32m\n",
      "\u001b[0m\u001b[32m{\u001b[0m\u001b[32m\n",
      "\u001b[0m\u001b[32m \u001b[0m\u001b[32m \u001b[0m\u001b[32m \u001b[0m\u001b[32m \u001b[0m\u001b[32m'\u001b[0m\u001b[32mN\u001b[0m\u001b[32mU\u001b[0m\u001b[32mM\u001b[0m\u001b[32mS\u001b[0m\u001b[32m'\u001b[0m\u001b[32m:\u001b[0m\u001b[32m \u001b[0m\u001b[32m[\u001b[0m\u001b[32m1\u001b[0m\u001b[32m,\u001b[0m\u001b[32m \u001b[0m\u001b[32m3\u001b[0m\u001b[32m,\u001b[0m\u001b[32m \u001b[0m\u001b[32m-\u001b[0m\u001b[32m1\u001b[0m\u001b[32m0\u001b[0m\u001b[32m0\u001b[0m\u001b[32m,\u001b[0m\u001b[32m \u001b[0m\u001b[32m4\u001b[0m\u001b[32m,\u001b[0m\u001b[32m \u001b[0m\u001b[32m5\u001b[0m\u001b[32m,\u001b[0m\u001b[32m \u001b[0m\u001b[32m5\u001b[0m\u001b[32m,\u001b[0m\u001b[32m \u001b[0m\u001b[32m9\u001b[0m\u001b[32m,\u001b[0m\u001b[32m \u001b[0m\u001b[32m5\u001b[0m\u001b[32m,\u001b[0m\u001b[32m \u001b[0m\u001b[32m2\u001b[0m\u001b[32m2\u001b[0m\u001b[32m,\u001b[0m\u001b[32m \u001b[0m\u001b[32m3\u001b[0m\u001b[32m3\u001b[0m\u001b[32m]\u001b[0m\u001b[32m,\u001b[0m\u001b[32m \u001b[0m\u001b[32m \u001b[0m\u001b[32m \u001b[0m\u001b[32m#\u001b[0m\u001b[32m \u001b[0m\u001b[32mT\u001b[0m\u001b[32mY\u001b[0m\u001b[32mP\u001b[0m\u001b[32mE\u001b[0m\u001b[32m:\u001b[0m\u001b[32m \u001b[0m\u001b[32mL\u001b[0m\u001b[32mI\u001b[0m\u001b[32mS\u001b[0m\u001b[32mT\u001b[0m\u001b[32m\n",
      "\u001b[0m\u001b[32m}\u001b[0m>>> q\n"
     ]
    },
    {
     "ename": "BdbQuit",
     "evalue": "",
     "output_type": "error",
     "traceback": [
      "\u001b[0;31m---------------------------------------------------------------------------\u001b[0m",
      "\u001b[0;31mBdbQuit\u001b[0m                                   Traceback (most recent call last)",
      "\u001b[0;32m<ipython-input-14-9bb1c33833ca>\u001b[0m in \u001b[0;36m<module>\u001b[0;34m\u001b[0m\n\u001b[0;32m----> 1\u001b[0;31m \u001b[0mbubble_sort\u001b[0m\u001b[0;34m(\u001b[0m\u001b[0mnums\u001b[0m\u001b[0;34m)\u001b[0m\u001b[0;34m\u001b[0m\u001b[0;34m\u001b[0m\u001b[0m\n\u001b[0m",
      "\u001b[0;32m<ipython-input-13-ce72152daa37>\u001b[0m in \u001b[0;36mbubble_sort\u001b[0;34m(nums)\u001b[0m\n\u001b[1;32m      4\u001b[0m             \u001b[0;32mif\u001b[0m \u001b[0mnums\u001b[0m\u001b[0;34m[\u001b[0m\u001b[0mj\u001b[0m\u001b[0;34m]\u001b[0m \u001b[0;34m>\u001b[0m \u001b[0mnums\u001b[0m\u001b[0;34m[\u001b[0m\u001b[0mj\u001b[0m \u001b[0;34m+\u001b[0m \u001b[0;36m1\u001b[0m\u001b[0;34m]\u001b[0m\u001b[0;34m:\u001b[0m\u001b[0;34m\u001b[0m\u001b[0;34m\u001b[0m\u001b[0m\n\u001b[1;32m      5\u001b[0m                 \u001b[0mnums\u001b[0m\u001b[0;34m[\u001b[0m\u001b[0mj\u001b[0m \u001b[0;34m+\u001b[0m \u001b[0;36m1\u001b[0m\u001b[0;34m]\u001b[0m\u001b[0;34m,\u001b[0m \u001b[0mnums\u001b[0m\u001b[0;34m[\u001b[0m\u001b[0mj\u001b[0m\u001b[0;34m]\u001b[0m \u001b[0;34m=\u001b[0m \u001b[0mnums\u001b[0m\u001b[0;34m[\u001b[0m\u001b[0mj\u001b[0m\u001b[0;34m]\u001b[0m\u001b[0;34m,\u001b[0m \u001b[0mnums\u001b[0m\u001b[0;34m[\u001b[0m\u001b[0mj\u001b[0m \u001b[0;34m+\u001b[0m \u001b[0;36m1\u001b[0m\u001b[0;34m]\u001b[0m\u001b[0;34m\u001b[0m\u001b[0;34m\u001b[0m\u001b[0m\n\u001b[0;32m----> 6\u001b[0;31m                 \u001b[0mduck\u001b[0m\u001b[0;34m(\u001b[0m\u001b[0mchat_class\u001b[0m\u001b[0;34m=\u001b[0m\u001b[0mDummyChatModel\u001b[0m\u001b[0;34m)\u001b[0m\u001b[0;34m\u001b[0m\u001b[0;34m\u001b[0m\u001b[0m\n\u001b[0m\u001b[1;32m      7\u001b[0m     \u001b[0;32mreturn\u001b[0m \u001b[0mnums\u001b[0m\u001b[0;34m\u001b[0m\u001b[0;34m\u001b[0m\u001b[0m\n",
      "\u001b[0;32m<ipython-input-13-ce72152daa37>\u001b[0m in \u001b[0;36mbubble_sort\u001b[0;34m(nums)\u001b[0m\n\u001b[1;32m      4\u001b[0m             \u001b[0;32mif\u001b[0m \u001b[0mnums\u001b[0m\u001b[0;34m[\u001b[0m\u001b[0mj\u001b[0m\u001b[0;34m]\u001b[0m \u001b[0;34m>\u001b[0m \u001b[0mnums\u001b[0m\u001b[0;34m[\u001b[0m\u001b[0mj\u001b[0m \u001b[0;34m+\u001b[0m \u001b[0;36m1\u001b[0m\u001b[0;34m]\u001b[0m\u001b[0;34m:\u001b[0m\u001b[0;34m\u001b[0m\u001b[0;34m\u001b[0m\u001b[0m\n\u001b[1;32m      5\u001b[0m                 \u001b[0mnums\u001b[0m\u001b[0;34m[\u001b[0m\u001b[0mj\u001b[0m \u001b[0;34m+\u001b[0m \u001b[0;36m1\u001b[0m\u001b[0;34m]\u001b[0m\u001b[0;34m,\u001b[0m \u001b[0mnums\u001b[0m\u001b[0;34m[\u001b[0m\u001b[0mj\u001b[0m\u001b[0;34m]\u001b[0m \u001b[0;34m=\u001b[0m \u001b[0mnums\u001b[0m\u001b[0;34m[\u001b[0m\u001b[0mj\u001b[0m\u001b[0;34m]\u001b[0m\u001b[0;34m,\u001b[0m \u001b[0mnums\u001b[0m\u001b[0;34m[\u001b[0m\u001b[0mj\u001b[0m \u001b[0;34m+\u001b[0m \u001b[0;36m1\u001b[0m\u001b[0;34m]\u001b[0m\u001b[0;34m\u001b[0m\u001b[0;34m\u001b[0m\u001b[0m\n\u001b[0;32m----> 6\u001b[0;31m                 \u001b[0mduck\u001b[0m\u001b[0;34m(\u001b[0m\u001b[0mchat_class\u001b[0m\u001b[0;34m=\u001b[0m\u001b[0mDummyChatModel\u001b[0m\u001b[0;34m)\u001b[0m\u001b[0;34m\u001b[0m\u001b[0;34m\u001b[0m\u001b[0m\n\u001b[0m\u001b[1;32m      7\u001b[0m     \u001b[0;32mreturn\u001b[0m \u001b[0mnums\u001b[0m\u001b[0;34m\u001b[0m\u001b[0;34m\u001b[0m\u001b[0m\n",
      "\u001b[0;32m~/anaconda3/envs/py38/lib/python3.8/bdb.py\u001b[0m in \u001b[0;36mtrace_dispatch\u001b[0;34m(self, frame, event, arg)\u001b[0m\n\u001b[1;32m     86\u001b[0m             \u001b[0;32mreturn\u001b[0m \u001b[0;31m# None\u001b[0m\u001b[0;34m\u001b[0m\u001b[0;34m\u001b[0m\u001b[0m\n\u001b[1;32m     87\u001b[0m         \u001b[0;32mif\u001b[0m \u001b[0mevent\u001b[0m \u001b[0;34m==\u001b[0m \u001b[0;34m'line'\u001b[0m\u001b[0;34m:\u001b[0m\u001b[0;34m\u001b[0m\u001b[0;34m\u001b[0m\u001b[0m\n\u001b[0;32m---> 88\u001b[0;31m             \u001b[0;32mreturn\u001b[0m \u001b[0mself\u001b[0m\u001b[0;34m.\u001b[0m\u001b[0mdispatch_line\u001b[0m\u001b[0;34m(\u001b[0m\u001b[0mframe\u001b[0m\u001b[0;34m)\u001b[0m\u001b[0;34m\u001b[0m\u001b[0;34m\u001b[0m\u001b[0m\n\u001b[0m\u001b[1;32m     89\u001b[0m         \u001b[0;32mif\u001b[0m \u001b[0mevent\u001b[0m \u001b[0;34m==\u001b[0m \u001b[0;34m'call'\u001b[0m\u001b[0;34m:\u001b[0m\u001b[0;34m\u001b[0m\u001b[0;34m\u001b[0m\u001b[0m\n\u001b[1;32m     90\u001b[0m             \u001b[0;32mreturn\u001b[0m \u001b[0mself\u001b[0m\u001b[0;34m.\u001b[0m\u001b[0mdispatch_call\u001b[0m\u001b[0;34m(\u001b[0m\u001b[0mframe\u001b[0m\u001b[0;34m,\u001b[0m \u001b[0marg\u001b[0m\u001b[0;34m)\u001b[0m\u001b[0;34m\u001b[0m\u001b[0;34m\u001b[0m\u001b[0m\n",
      "\u001b[0;32m~/anaconda3/envs/py38/lib/python3.8/bdb.py\u001b[0m in \u001b[0;36mdispatch_line\u001b[0;34m(self, frame)\u001b[0m\n\u001b[1;32m    111\u001b[0m         \u001b[0;32mif\u001b[0m \u001b[0mself\u001b[0m\u001b[0;34m.\u001b[0m\u001b[0mstop_here\u001b[0m\u001b[0;34m(\u001b[0m\u001b[0mframe\u001b[0m\u001b[0;34m)\u001b[0m \u001b[0;32mor\u001b[0m \u001b[0mself\u001b[0m\u001b[0;34m.\u001b[0m\u001b[0mbreak_here\u001b[0m\u001b[0;34m(\u001b[0m\u001b[0mframe\u001b[0m\u001b[0;34m)\u001b[0m\u001b[0;34m:\u001b[0m\u001b[0;34m\u001b[0m\u001b[0;34m\u001b[0m\u001b[0m\n\u001b[1;32m    112\u001b[0m             \u001b[0mself\u001b[0m\u001b[0;34m.\u001b[0m\u001b[0muser_line\u001b[0m\u001b[0;34m(\u001b[0m\u001b[0mframe\u001b[0m\u001b[0;34m)\u001b[0m\u001b[0;34m\u001b[0m\u001b[0;34m\u001b[0m\u001b[0m\n\u001b[0;32m--> 113\u001b[0;31m             \u001b[0;32mif\u001b[0m \u001b[0mself\u001b[0m\u001b[0;34m.\u001b[0m\u001b[0mquitting\u001b[0m\u001b[0;34m:\u001b[0m \u001b[0;32mraise\u001b[0m \u001b[0mBdbQuit\u001b[0m\u001b[0;34m\u001b[0m\u001b[0;34m\u001b[0m\u001b[0m\n\u001b[0m\u001b[1;32m    114\u001b[0m         \u001b[0;32mreturn\u001b[0m \u001b[0mself\u001b[0m\u001b[0;34m.\u001b[0m\u001b[0mtrace_dispatch\u001b[0m\u001b[0;34m\u001b[0m\u001b[0;34m\u001b[0m\u001b[0m\n\u001b[1;32m    115\u001b[0m \u001b[0;34m\u001b[0m\u001b[0m\n",
      "\u001b[0;31mBdbQuit\u001b[0m: "
     ]
    }
   ],
   "source": [
    "bubble_sort(nums)"
   ]
  },
  {
   "cell_type": "markdown",
   "metadata": {},
   "source": [
    "Actual openai model."
   ]
  },
  {
   "cell_type": "code",
   "execution_count": 15,
   "metadata": {
    "ExecuteTime": {
     "end_time": "2023-04-10T02:59:21.156856Z",
     "start_time": "2023-04-10T02:59:21.123172Z"
    }
   },
   "outputs": [],
   "source": [
    "def bubble_sort(nums):\n",
    "    for i in range(len(nums)):\n",
    "        for j in range(len(nums)):\n",
    "            if nums[j] > nums[j + 1]:\n",
    "                nums[j + 1], nums[j] = nums[j], nums[j + 1]\n",
    "                duck()\n",
    "    return nums"
   ]
  },
  {
   "cell_type": "code",
   "execution_count": 16,
   "metadata": {
    "ExecuteTime": {
     "end_time": "2023-04-10T03:02:13.530130Z",
     "start_time": "2023-04-10T02:59:22.567358Z"
    }
   },
   "outputs": [
    {
     "name": "stdout",
     "output_type": "stream",
     "text": [
      "chat: verbose=False callback_manager=<langchain.callbacks.base.CallbackManager object at 0x7faf50215a30> client=<class 'openai.api_resources.chat_completion.ChatCompletion'> model_name='gpt-3.5-turbo' model_kwargs={'temperature': 0.0, 'top_p': 1.0, 'frequency_penalty': 0.0, 'presence_penalty': 0.0, 'logit_bias': {}, 'stop': ['QUESTION', 'SOLUTION PART 3']} openai_api_key=None request_timeout=60 max_retries=6 streaming=True n=1 max_tokens=512\n",
      "--Return--\n",
      "> /Users/hmamin/anaconda3/envs/py38/lib/python3.8/site-packages/htools/meta.py(1966)wrapper()->None\n",
      "-> return new_func(*args, **kwargs)\n",
      ">>> n\n",
      "> <ipython-input-15-ea640e3b8b2d>(3)bubble_sort()\n",
      "-> for j in range(len(nums)):\n",
      ">>> n\n",
      "> <ipython-input-15-ea640e3b8b2d>(4)bubble_sort()\n",
      "-> if nums[j] > nums[j + 1]:\n",
      ">>> n\n",
      "> <ipython-input-15-ea640e3b8b2d>(3)bubble_sort()\n",
      "-> for j in range(len(nums)):\n",
      ">>> n\n",
      "> <ipython-input-15-ea640e3b8b2d>(4)bubble_sort()\n",
      "-> if nums[j] > nums[j + 1]:\n",
      ">>> i,j\n",
      "(0, 3)\n",
      ">>> n\n",
      "> <ipython-input-15-ea640e3b8b2d>(3)bubble_sort()\n",
      "-> for j in range(len(nums)):\n",
      ">>> n\n",
      "> <ipython-input-15-ea640e3b8b2d>(4)bubble_sort()\n",
      "-> if nums[j] > nums[j + 1]:\n",
      ">>> n\n",
      "> <ipython-input-15-ea640e3b8b2d>(3)bubble_sort()\n",
      "-> for j in range(len(nums)):\n",
      ">>> n\n",
      "> <ipython-input-15-ea640e3b8b2d>(4)bubble_sort()\n",
      "-> if nums[j] > nums[j + 1]:\n",
      ">>> n\n",
      "> <ipython-input-15-ea640e3b8b2d>(3)bubble_sort()\n",
      "-> for j in range(len(nums)):\n",
      ">>> n\n",
      "> <ipython-input-15-ea640e3b8b2d>(4)bubble_sort()\n",
      "-> if nums[j] > nums[j + 1]:\n",
      ">>> n\n",
      "> <ipython-input-15-ea640e3b8b2d>(5)bubble_sort()\n",
      "-> nums[j + 1], nums[j] = nums[j], nums[j + 1]\n",
      ">>> i,j\n",
      "(0, 6)\n",
      ">>> n\n",
      "> <ipython-input-15-ea640e3b8b2d>(6)bubble_sort()\n",
      "-> duck()\n",
      ">>> n\n",
      "chat: verbose=False callback_manager=<langchain.callbacks.base.CallbackManager object at 0x7faf50325f40> client=<class 'openai.api_resources.chat_completion.ChatCompletion'> model_name='gpt-3.5-turbo' model_kwargs={'temperature': 0.0, 'top_p': 1.0, 'frequency_penalty': 0.0, 'presence_penalty': 0.0, 'logit_bias': {}, 'stop': ['QUESTION', 'SOLUTION PART 3']} openai_api_key=None request_timeout=60 max_retries=6 streaming=True n=1 max_tokens=512\n",
      "--Return--\n",
      "> /Users/hmamin/anaconda3/envs/py38/lib/python3.8/site-packages/htools/meta.py(1966)wrapper()->None\n",
      "-> return new_func(*args, **kwargs)\n",
      ">>> i,j\n",
      "*** NameError: name 'i' is not defined\n",
      ">>> n\n",
      "> <ipython-input-15-ea640e3b8b2d>(3)bubble_sort()\n",
      "-> for j in range(len(nums)):\n",
      ">>> i,j\n",
      "(0, 6)\n",
      ">>> n\n",
      "> <ipython-input-15-ea640e3b8b2d>(4)bubble_sort()\n",
      "-> if nums[j] > nums[j + 1]:\n",
      ">>> n\n",
      "> <ipython-input-15-ea640e3b8b2d>(3)bubble_sort()\n",
      "-> for j in range(len(nums)):\n",
      ">>> ij\n",
      "*** NameError: name 'ij' is not defined\n",
      ">>> i,j\n",
      "(0, 7)\n",
      ">>> Why do we get an index error soon after this?\n",
      "\u001b[32m[Duck] \u001b[0m\u001b[32m1\u001b[0m\u001b[32m.\u001b[0m\u001b[32m\n",
      "\u001b[0m\u001b[32m\n",
      "\u001b[0m\u001b[32mT\u001b[0m\u001b[32mh\u001b[0m\u001b[32me\u001b[0m\u001b[32m \u001b[0m\u001b[32mp\u001b[0m\u001b[32mr\u001b[0m\u001b[32mo\u001b[0m\u001b[32mb\u001b[0m\u001b[32ml\u001b[0m\u001b[32me\u001b[0m\u001b[32mm\u001b[0m\u001b[32m \u001b[0m\u001b[32mi\u001b[0m\u001b[32ms\u001b[0m\u001b[32m \u001b[0m\u001b[32mt\u001b[0m\u001b[32mh\u001b[0m\u001b[32ma\u001b[0m\u001b[32mt\u001b[0m\u001b[32m \u001b[0m\u001b[32mt\u001b[0m\u001b[32mh\u001b[0m\u001b[32me\u001b[0m\u001b[32m \u001b[0m\u001b[32mc\u001b[0m\u001b[32mo\u001b[0m\u001b[32md\u001b[0m\u001b[32me\u001b[0m\u001b[32m \u001b[0m\u001b[32mi\u001b[0m\u001b[32ms\u001b[0m\u001b[32m \u001b[0m\u001b[32mt\u001b[0m\u001b[32mr\u001b[0m\u001b[32my\u001b[0m\u001b[32mi\u001b[0m\u001b[32mn\u001b[0m\u001b[32mg\u001b[0m\u001b[32m \u001b[0m\u001b[32mt\u001b[0m\u001b[32mo\u001b[0m\u001b[32m \u001b[0m\u001b[32ma\u001b[0m\u001b[32mc\u001b[0m\u001b[32mc\u001b[0m\u001b[32me\u001b[0m\u001b[32ms\u001b[0m\u001b[32ms\u001b[0m\u001b[32m \u001b[0m\u001b[32ma\u001b[0m\u001b[32mn\u001b[0m\u001b[32m \u001b[0m\u001b[32mi\u001b[0m\u001b[32mn\u001b[0m\u001b[32md\u001b[0m\u001b[32me\u001b[0m\u001b[32mx\u001b[0m\u001b[32m \u001b[0m\u001b[32mt\u001b[0m\u001b[32mh\u001b[0m\u001b[32ma\u001b[0m\u001b[32mt\u001b[0m\u001b[32m \u001b[0m\u001b[32mi\u001b[0m\u001b[32ms\u001b[0m\u001b[32m \u001b[0m\u001b[32mo\u001b[0m\u001b[32mu\u001b[0m\u001b[32mt\u001b[0m\u001b[32m \u001b[0m\u001b[32mo\u001b[0m\u001b[32mf\u001b[0m\u001b[32m \u001b[0m\u001b[32mr\u001b[0m\u001b[32ma\u001b[0m\u001b[32mn\u001b[0m\u001b[32mg\u001b[0m\u001b[32me\u001b[0m\u001b[32m.\u001b[0m\u001b[32m \u001b[0m\u001b[32mS\u001b[0m\u001b[32mp\u001b[0m\u001b[32me\u001b[0m\u001b[32mc\u001b[0m\u001b[32mi\u001b[0m\u001b[32mf\u001b[0m\u001b[32mi\u001b[0m\u001b[32mc\u001b[0m\u001b[32ma\u001b[0m\u001b[32ml\u001b[0m\u001b[32ml\u001b[0m\u001b[32my\u001b[0m\u001b[32m,\u001b[0m\u001b[32m \u001b[0m\u001b[32mi\u001b[0m\u001b[32mn\u001b[0m\u001b[32m \u001b[0m\u001b[32mt\u001b[0m\u001b[32mh\u001b[0m\u001b[32me\u001b[0m\u001b[32m \u001b[0m\u001b[32mi\u001b[0m\u001b[32mn\u001b[0m\u001b[32mn\u001b[0m\u001b[32me\u001b[0m\u001b[32mr\u001b[0m\u001b[32m \u001b[0m\u001b[32ml\u001b[0m\u001b[32mo\u001b[0m\u001b[32mo\u001b[0m\u001b[32mp\u001b[0m\u001b[32m,\u001b[0m\u001b[32m \u001b[0m\u001b[32mw\u001b[0m\u001b[32mh\u001b[0m\u001b[32me\u001b[0m\u001b[32mn\u001b[0m\u001b[32m \u001b[0m\u001b[32mj\u001b[0m\u001b[32m \u001b[0m\u001b[32mi\u001b[0m\u001b[32ms\u001b[0m\u001b[32m \u001b[0m\u001b[32me\u001b[0m\u001b[32mq\u001b[0m\u001b[32mu\u001b[0m\u001b[32ma\u001b[0m\u001b[32ml\u001b[0m\u001b[32m \u001b[0m\u001b[32mt\u001b[0m\u001b[32mo\u001b[0m\u001b[32m \u001b[0m\u001b[32ml\u001b[0m\u001b[32me\u001b[0m\u001b[32mn\u001b[0m\u001b[32m(\u001b[0m\u001b[32mn\u001b[0m\u001b[32mu\u001b[0m\u001b[32mm\u001b[0m\u001b[32ms\u001b[0m\u001b[32m)\u001b[0m\u001b[32m \u001b[0m\u001b[32m-\u001b[0m\u001b[32m \u001b[0m\u001b[32m1\u001b[0m\u001b[32m,\u001b[0m\u001b[32m \u001b[0m\u001b[32mt\u001b[0m\u001b[32mh\u001b[0m\u001b[32me\u001b[0m\u001b[32m \u001b[0m\u001b[32mc\u001b[0m\u001b[32mo\u001b[0m\u001b[32md\u001b[0m\u001b[32me\u001b[0m\u001b[32m \u001b[0m\u001b[32mt\u001b[0m\u001b[32mr\u001b[0m\u001b[32mi\u001b[0m\u001b[32me\u001b[0m\u001b[32ms\u001b[0m\u001b[32m \u001b[0m\u001b[32mt\u001b[0m\u001b[32mo\u001b[0m\u001b[32m \u001b[0m\u001b[32ma\u001b[0m\u001b[32mc\u001b[0m\u001b[32mc\u001b[0m\u001b[32me\u001b[0m\u001b[32ms\u001b[0m\u001b[32ms\u001b[0m\u001b[32m \u001b[0m\u001b[32mn\u001b[0m\u001b[32mu\u001b[0m\u001b[32mm\u001b[0m\u001b[32ms\u001b[0m\u001b[32m[\u001b[0m\u001b[32mj\u001b[0m\u001b[32m \u001b[0m\u001b[32m+\u001b[0m\u001b[32m \u001b[0m\u001b[32m1\u001b[0m\u001b[32m]\u001b[0m\u001b[32m,\u001b[0m\u001b[32m \u001b[0m\u001b[32mw\u001b[0m\u001b[32mh\u001b[0m\u001b[32mi\u001b[0m\u001b[32mc\u001b[0m\u001b[32mh\u001b[0m\u001b[32m \u001b[0m\u001b[32mi\u001b[0m\u001b[32ms\u001b[0m\u001b[32m \u001b[0m\u001b[32me\u001b[0m\u001b[32mq\u001b[0m\u001b[32mu\u001b[0m\u001b[32mi\u001b[0m\u001b[32mv\u001b[0m\u001b[32ma\u001b[0m\u001b[32ml\u001b[0m\u001b[32me\u001b[0m\u001b[32mn\u001b[0m\u001b[32mt\u001b[0m\u001b[32m \u001b[0m\u001b[32mt\u001b[0m\u001b[32mo\u001b[0m\u001b[32m \u001b[0m\u001b[32mn\u001b[0m\u001b[32mu\u001b[0m\u001b[32mm\u001b[0m\u001b[32ms\u001b[0m\u001b[32m[\u001b[0m\u001b[32ml\u001b[0m\u001b[32me\u001b[0m\u001b[32mn\u001b[0m\u001b[32m(\u001b[0m\u001b[32mn\u001b[0m\u001b[32mu\u001b[0m\u001b[32mm\u001b[0m\u001b[32ms\u001b[0m\u001b[32m)\u001b[0m\u001b[32m]\u001b[0m\u001b[32m,\u001b[0m\u001b[32m \u001b[0m\u001b[32mb\u001b[0m\u001b[32mu\u001b[0m\u001b[32mt\u001b[0m\u001b[32m \u001b[0m\u001b[32mt\u001b[0m\u001b[32mh\u001b[0m\u001b[32me\u001b[0m\u001b[32m \u001b[0m\u001b[32ml\u001b[0m\u001b[32ma\u001b[0m\u001b[32ms\u001b[0m\u001b[32mt\u001b[0m\u001b[32m \u001b[0m\u001b[32mv\u001b[0m\u001b[32ma\u001b[0m\u001b[32ml\u001b[0m\u001b[32mi\u001b[0m\u001b[32md\u001b[0m\u001b[32m \u001b[0m\u001b[32mi\u001b[0m\u001b[32mn\u001b[0m\u001b[32md\u001b[0m\u001b[32me\u001b[0m\u001b[32mx\u001b[0m\u001b[32m \u001b[0m\u001b[32mi\u001b[0m\u001b[32mn\u001b[0m\u001b[32m \u001b[0m\u001b[32mn\u001b[0m\u001b[32mu\u001b[0m\u001b[32mm\u001b[0m\u001b[32ms\u001b[0m\u001b[32m \u001b[0m\u001b[32mi\u001b[0m\u001b[32ms\u001b[0m\u001b[32m \u001b[0m\u001b[32ml\u001b[0m\u001b[32me\u001b[0m\u001b[32mn\u001b[0m\u001b[32m(\u001b[0m\u001b[32mn\u001b[0m\u001b[32mu\u001b[0m\u001b[32mm\u001b[0m\u001b[32ms\u001b[0m\u001b[32m)\u001b[0m\u001b[32m \u001b[0m\u001b[32m-\u001b[0m\u001b[32m \u001b[0m\u001b[32m1\u001b[0m\u001b[32m.\u001b[0m\u001b[32m \u001b[0m\u001b[32mT\u001b[0m\u001b[32mo\u001b[0m\u001b[32m \u001b[0m\u001b[32mf\u001b[0m\u001b[32mi\u001b[0m\u001b[32mx\u001b[0m\u001b[32m \u001b[0m\u001b[32mt\u001b[0m\u001b[32mh\u001b[0m\u001b[32mi\u001b[0m\u001b[32ms\u001b[0m\u001b[32m,\u001b[0m\u001b[32m \u001b[0m\u001b[32mw\u001b[0m\u001b[32me\u001b[0m\u001b[32m \u001b[0m\u001b[32mn\u001b[0m\u001b[32me\u001b[0m\u001b[32me\u001b[0m\u001b[32md\u001b[0m\u001b[32m \u001b[0m\u001b[32mt\u001b[0m\u001b[32mo\u001b[0m\u001b[32m \u001b[0m\u001b[32mc\u001b[0m\u001b[32mh\u001b[0m\u001b[32ma\u001b[0m\u001b[32mn\u001b[0m\u001b[32mg\u001b[0m\u001b[32me\u001b[0m\u001b[32m \u001b[0m\u001b[32mt\u001b[0m\u001b[32mh\u001b[0m\u001b[32me\u001b[0m\u001b[32m \u001b[0m\u001b[32mr\u001b[0m\u001b[32ma\u001b[0m\u001b[32mn\u001b[0m\u001b[32mg\u001b[0m\u001b[32me\u001b[0m\u001b[32m \u001b[0m\u001b[32mo\u001b[0m\u001b[32mf\u001b[0m\u001b[32m \u001b[0m\u001b[32mt\u001b[0m\u001b[32mh\u001b[0m\u001b[32me\u001b[0m\u001b[32m \u001b[0m\u001b[32mi\u001b[0m\u001b[32mn\u001b[0m\u001b[32mn\u001b[0m\u001b[32me\u001b[0m\u001b[32mr\u001b[0m\u001b[32m \u001b[0m\u001b[32ml\u001b[0m\u001b[32mo\u001b[0m\u001b[32mo\u001b[0m\u001b[32mp\u001b[0m\u001b[32m \u001b[0m\u001b[32mt\u001b[0m\u001b[32mo\u001b[0m\u001b[32m \u001b[0m\u001b[32mg\u001b[0m\u001b[32mo\u001b[0m\u001b[32m \u001b[0m\u001b[32mu\u001b[0m\u001b[32mp\u001b[0m\u001b[32m \u001b[0m\u001b[32mt\u001b[0m\u001b[32mo\u001b[0m\u001b[32m \u001b[0m\u001b[32ml\u001b[0m\u001b[32me\u001b[0m\u001b[32mn\u001b[0m\u001b[32m(\u001b[0m\u001b[32mn\u001b[0m\u001b[32mu\u001b[0m\u001b[32mm\u001b[0m\u001b[32ms\u001b[0m\u001b[32m)\u001b[0m\u001b[32m \u001b[0m\u001b[32m-\u001b[0m\u001b[32m \u001b[0m\u001b[32mi\u001b[0m\u001b[32m \u001b[0m\u001b[32m-\u001b[0m\u001b[32m \u001b[0m\u001b[32m1\u001b[0m\u001b[32m \u001b[0m\u001b[32mi\u001b[0m\u001b[32mn\u001b[0m\u001b[32ms\u001b[0m\u001b[32mt\u001b[0m\u001b[32me\u001b[0m\u001b[32ma\u001b[0m\u001b[32md\u001b[0m\u001b[32m \u001b[0m\u001b[32mo\u001b[0m\u001b[32mf\u001b[0m\u001b[32m \u001b[0m\u001b[32ml\u001b[0m\u001b[32me\u001b[0m\u001b[32mn\u001b[0m\u001b[32m(\u001b[0m\u001b[32mn\u001b[0m\u001b[32mu\u001b[0m\u001b[32mm\u001b[0m\u001b[32ms\u001b[0m\u001b[32m)\u001b[0m\u001b[32m.\u001b[0m\u001b[32m\n",
      "\u001b[0m\u001b[32m\n",
      "\u001b[0m\u001b[32m2\u001b[0m\u001b[32m.\u001b[0m\u001b[32m\n",
      "\u001b[0m\u001b[32m`\u001b[0m\u001b[32m`\u001b[0m\u001b[32m`\u001b[0m\u001b[32mp\u001b[0m\u001b[32my\u001b[0m\u001b[32mt\u001b[0m\u001b[32mh\u001b[0m\u001b[32mo\u001b[0m\u001b[32mn\u001b[0m\u001b[32m\n",
      "\u001b[0m\u001b[32md\u001b[0m\u001b[32me\u001b[0m\u001b[32mf\u001b[0m\u001b[32m \u001b[0m\u001b[32mb\u001b[0m\u001b[32mu\u001b[0m\u001b[32mb\u001b[0m\u001b[32mb\u001b[0m\u001b[32ml\u001b[0m\u001b[32me\u001b[0m\u001b[32m_\u001b[0m\u001b[32ms\u001b[0m\u001b[32mo\u001b[0m\u001b[32mr\u001b[0m\u001b[32mt\u001b[0m\u001b[32m(\u001b[0m\u001b[32mn\u001b[0m\u001b[32mu\u001b[0m\u001b[32mm\u001b[0m\u001b[32ms\u001b[0m\u001b[32m)\u001b[0m\u001b[32m:\u001b[0m\u001b[32m\n",
      "\u001b[0m\u001b[32m \u001b[0m\u001b[32m \u001b[0m\u001b[32m \u001b[0m\u001b[32m \u001b[0m\u001b[32mf\u001b[0m\u001b[32mo\u001b[0m\u001b[32mr\u001b[0m\u001b[32m \u001b[0m\u001b[32mi\u001b[0m\u001b[32m \u001b[0m\u001b[32mi\u001b[0m\u001b[32mn\u001b[0m\u001b[32m \u001b[0m\u001b[32mr\u001b[0m\u001b[32ma\u001b[0m\u001b[32mn\u001b[0m\u001b[32mg\u001b[0m\u001b[32me\u001b[0m\u001b[32m(\u001b[0m\u001b[32ml\u001b[0m\u001b[32me\u001b[0m\u001b[32mn\u001b[0m\u001b[32m(\u001b[0m\u001b[32mn\u001b[0m\u001b[32mu\u001b[0m\u001b[32mm\u001b[0m\u001b[32ms\u001b[0m\u001b[32m)\u001b[0m\u001b[32m)\u001b[0m\u001b[32m:\u001b[0m\u001b[32m\n",
      "\u001b[0m\u001b[32m \u001b[0m\u001b[32m \u001b[0m\u001b[32m \u001b[0m\u001b[32m \u001b[0m\u001b[32m \u001b[0m\u001b[32m \u001b[0m\u001b[32m \u001b[0m\u001b[32m \u001b[0m\u001b[32mf\u001b[0m\u001b[32mo\u001b[0m\u001b[32mr\u001b[0m\u001b[32m \u001b[0m\u001b[32mj\u001b[0m\u001b[32m \u001b[0m\u001b[32mi\u001b[0m\u001b[32mn\u001b[0m\u001b[32m \u001b[0m\u001b[32mr\u001b[0m\u001b[32ma\u001b[0m\u001b[32mn\u001b[0m\u001b[32mg\u001b[0m\u001b[32me\u001b[0m\u001b[32m(\u001b[0m\u001b[32ml\u001b[0m\u001b[32me\u001b[0m\u001b[32mn\u001b[0m\u001b[32m(\u001b[0m\u001b[32mn\u001b[0m\u001b[32mu\u001b[0m\u001b[32mm\u001b[0m\u001b[32ms\u001b[0m\u001b[32m)\u001b[0m\u001b[32m \u001b[0m\u001b[32m-\u001b[0m\u001b[32m \u001b[0m\u001b[32mi\u001b[0m\u001b[32m \u001b[0m\u001b[32m-\u001b[0m\u001b[32m \u001b[0m\u001b[32m1\u001b[0m\u001b[32m)\u001b[0m\u001b[32m:\u001b[0m\u001b[32m\n",
      "\u001b[0m\u001b[32m \u001b[0m\u001b[32m \u001b[0m\u001b[32m \u001b[0m\u001b[32m \u001b[0m\u001b[32m \u001b[0m\u001b[32m \u001b[0m\u001b[32m \u001b[0m\u001b[32m \u001b[0m\u001b[32m \u001b[0m\u001b[32m \u001b[0m\u001b[32m \u001b[0m\u001b[32m \u001b[0m\u001b[32mi\u001b[0m\u001b[32mf\u001b[0m\u001b[32m \u001b[0m\u001b[32mn\u001b[0m\u001b[32mu\u001b[0m\u001b[32mm\u001b[0m\u001b[32ms\u001b[0m\u001b[32m[\u001b[0m\u001b[32mj\u001b[0m\u001b[32m]\u001b[0m\u001b[32m \u001b[0m\u001b[32m>\u001b[0m\u001b[32m \u001b[0m\u001b[32mn\u001b[0m\u001b[32mu\u001b[0m\u001b[32mm\u001b[0m\u001b[32ms\u001b[0m\u001b[32m[\u001b[0m\u001b[32mj\u001b[0m\u001b[32m \u001b[0m\u001b[32m+\u001b[0m\u001b[32m \u001b[0m\u001b[32m1\u001b[0m\u001b[32m]\u001b[0m\u001b[32m:\u001b[0m\u001b[32m\n"
     ]
    },
    {
     "name": "stdout",
     "output_type": "stream",
     "text": [
      "\u001b[0m\u001b[32m \u001b[0m\u001b[32m \u001b[0m\u001b[32m \u001b[0m\u001b[32m \u001b[0m\u001b[32m \u001b[0m\u001b[32m \u001b[0m\u001b[32m \u001b[0m\u001b[32m \u001b[0m\u001b[32m \u001b[0m\u001b[32m \u001b[0m\u001b[32m \u001b[0m\u001b[32m \u001b[0m\u001b[32m \u001b[0m\u001b[32m \u001b[0m\u001b[32m \u001b[0m\u001b[32m \u001b[0m\u001b[32mn\u001b[0m\u001b[32mu\u001b[0m\u001b[32mm\u001b[0m\u001b[32ms\u001b[0m\u001b[32m[\u001b[0m\u001b[32mj\u001b[0m\u001b[32m \u001b[0m\u001b[32m+\u001b[0m\u001b[32m \u001b[0m\u001b[32m1\u001b[0m\u001b[32m]\u001b[0m\u001b[32m,\u001b[0m\u001b[32m \u001b[0m\u001b[32mn\u001b[0m\u001b[32mu\u001b[0m\u001b[32mm\u001b[0m\u001b[32ms\u001b[0m\u001b[32m[\u001b[0m\u001b[32mj\u001b[0m\u001b[32m]\u001b[0m\u001b[32m \u001b[0m\u001b[32m=\u001b[0m\u001b[32m \u001b[0m\u001b[32mn\u001b[0m\u001b[32mu\u001b[0m\u001b[32mm\u001b[0m\u001b[32ms\u001b[0m\u001b[32m[\u001b[0m\u001b[32mj\u001b[0m\u001b[32m]\u001b[0m\u001b[32m,\u001b[0m\u001b[32m \u001b[0m\u001b[32mn\u001b[0m\u001b[32mu\u001b[0m\u001b[32mm\u001b[0m\u001b[32ms\u001b[0m\u001b[32m[\u001b[0m\u001b[32mj\u001b[0m\u001b[32m \u001b[0m\u001b[32m+\u001b[0m\u001b[32m \u001b[0m\u001b[32m1\u001b[0m\u001b[32m]\u001b[0m\u001b[32m\n",
      "\u001b[0m\u001b[32m \u001b[0m\u001b[32m \u001b[0m\u001b[32m \u001b[0m\u001b[32m \u001b[0m\u001b[32mr\u001b[0m\u001b[32me\u001b[0m\u001b[32mt\u001b[0m\u001b[32mu\u001b[0m\u001b[32mr\u001b[0m\u001b[32mn\u001b[0m\u001b[32m \u001b[0m\u001b[32mn\u001b[0m\u001b[32mu\u001b[0m\u001b[32mm\u001b[0m\u001b[32ms\u001b[0m\u001b[32m\n",
      "\u001b[0m\u001b[32m`\u001b[0m\u001b[32m`\u001b[0m\u001b[32m`\u001b[0m>>> q\n"
     ]
    },
    {
     "ename": "BdbQuit",
     "evalue": "",
     "output_type": "error",
     "traceback": [
      "\u001b[0;31m---------------------------------------------------------------------------\u001b[0m",
      "\u001b[0;31mBdbQuit\u001b[0m                                   Traceback (most recent call last)",
      "\u001b[0;32m<ipython-input-16-9bb1c33833ca>\u001b[0m in \u001b[0;36m<module>\u001b[0;34m\u001b[0m\n\u001b[0;32m----> 1\u001b[0;31m \u001b[0mbubble_sort\u001b[0m\u001b[0;34m(\u001b[0m\u001b[0mnums\u001b[0m\u001b[0;34m)\u001b[0m\u001b[0;34m\u001b[0m\u001b[0;34m\u001b[0m\u001b[0m\n\u001b[0m",
      "\u001b[0;32m<ipython-input-15-ea640e3b8b2d>\u001b[0m in \u001b[0;36mbubble_sort\u001b[0;34m(nums)\u001b[0m\n\u001b[1;32m      1\u001b[0m \u001b[0;32mdef\u001b[0m \u001b[0mbubble_sort\u001b[0m\u001b[0;34m(\u001b[0m\u001b[0mnums\u001b[0m\u001b[0;34m)\u001b[0m\u001b[0;34m:\u001b[0m\u001b[0;34m\u001b[0m\u001b[0;34m\u001b[0m\u001b[0m\n\u001b[1;32m      2\u001b[0m     \u001b[0;32mfor\u001b[0m \u001b[0mi\u001b[0m \u001b[0;32min\u001b[0m \u001b[0mrange\u001b[0m\u001b[0;34m(\u001b[0m\u001b[0mlen\u001b[0m\u001b[0;34m(\u001b[0m\u001b[0mnums\u001b[0m\u001b[0;34m)\u001b[0m\u001b[0;34m)\u001b[0m\u001b[0;34m:\u001b[0m\u001b[0;34m\u001b[0m\u001b[0;34m\u001b[0m\u001b[0m\n\u001b[0;32m----> 3\u001b[0;31m         \u001b[0;32mfor\u001b[0m \u001b[0mj\u001b[0m \u001b[0;32min\u001b[0m \u001b[0mrange\u001b[0m\u001b[0;34m(\u001b[0m\u001b[0mlen\u001b[0m\u001b[0;34m(\u001b[0m\u001b[0mnums\u001b[0m\u001b[0;34m)\u001b[0m\u001b[0;34m)\u001b[0m\u001b[0;34m:\u001b[0m\u001b[0;34m\u001b[0m\u001b[0;34m\u001b[0m\u001b[0m\n\u001b[0m\u001b[1;32m      4\u001b[0m             \u001b[0;32mif\u001b[0m \u001b[0mnums\u001b[0m\u001b[0;34m[\u001b[0m\u001b[0mj\u001b[0m\u001b[0;34m]\u001b[0m \u001b[0;34m>\u001b[0m \u001b[0mnums\u001b[0m\u001b[0;34m[\u001b[0m\u001b[0mj\u001b[0m \u001b[0;34m+\u001b[0m \u001b[0;36m1\u001b[0m\u001b[0;34m]\u001b[0m\u001b[0;34m:\u001b[0m\u001b[0;34m\u001b[0m\u001b[0;34m\u001b[0m\u001b[0m\n\u001b[1;32m      5\u001b[0m                 \u001b[0mnums\u001b[0m\u001b[0;34m[\u001b[0m\u001b[0mj\u001b[0m \u001b[0;34m+\u001b[0m \u001b[0;36m1\u001b[0m\u001b[0;34m]\u001b[0m\u001b[0;34m,\u001b[0m \u001b[0mnums\u001b[0m\u001b[0;34m[\u001b[0m\u001b[0mj\u001b[0m\u001b[0;34m]\u001b[0m \u001b[0;34m=\u001b[0m \u001b[0mnums\u001b[0m\u001b[0;34m[\u001b[0m\u001b[0mj\u001b[0m\u001b[0;34m]\u001b[0m\u001b[0;34m,\u001b[0m \u001b[0mnums\u001b[0m\u001b[0;34m[\u001b[0m\u001b[0mj\u001b[0m \u001b[0;34m+\u001b[0m \u001b[0;36m1\u001b[0m\u001b[0;34m]\u001b[0m\u001b[0;34m\u001b[0m\u001b[0;34m\u001b[0m\u001b[0m\n",
      "\u001b[0;32m<ipython-input-15-ea640e3b8b2d>\u001b[0m in \u001b[0;36mbubble_sort\u001b[0;34m(nums)\u001b[0m\n\u001b[1;32m      1\u001b[0m \u001b[0;32mdef\u001b[0m \u001b[0mbubble_sort\u001b[0m\u001b[0;34m(\u001b[0m\u001b[0mnums\u001b[0m\u001b[0;34m)\u001b[0m\u001b[0;34m:\u001b[0m\u001b[0;34m\u001b[0m\u001b[0;34m\u001b[0m\u001b[0m\n\u001b[1;32m      2\u001b[0m     \u001b[0;32mfor\u001b[0m \u001b[0mi\u001b[0m \u001b[0;32min\u001b[0m \u001b[0mrange\u001b[0m\u001b[0;34m(\u001b[0m\u001b[0mlen\u001b[0m\u001b[0;34m(\u001b[0m\u001b[0mnums\u001b[0m\u001b[0;34m)\u001b[0m\u001b[0;34m)\u001b[0m\u001b[0;34m:\u001b[0m\u001b[0;34m\u001b[0m\u001b[0;34m\u001b[0m\u001b[0m\n\u001b[0;32m----> 3\u001b[0;31m         \u001b[0;32mfor\u001b[0m \u001b[0mj\u001b[0m \u001b[0;32min\u001b[0m \u001b[0mrange\u001b[0m\u001b[0;34m(\u001b[0m\u001b[0mlen\u001b[0m\u001b[0;34m(\u001b[0m\u001b[0mnums\u001b[0m\u001b[0;34m)\u001b[0m\u001b[0;34m)\u001b[0m\u001b[0;34m:\u001b[0m\u001b[0;34m\u001b[0m\u001b[0;34m\u001b[0m\u001b[0m\n\u001b[0m\u001b[1;32m      4\u001b[0m             \u001b[0;32mif\u001b[0m \u001b[0mnums\u001b[0m\u001b[0;34m[\u001b[0m\u001b[0mj\u001b[0m\u001b[0;34m]\u001b[0m \u001b[0;34m>\u001b[0m \u001b[0mnums\u001b[0m\u001b[0;34m[\u001b[0m\u001b[0mj\u001b[0m \u001b[0;34m+\u001b[0m \u001b[0;36m1\u001b[0m\u001b[0;34m]\u001b[0m\u001b[0;34m:\u001b[0m\u001b[0;34m\u001b[0m\u001b[0;34m\u001b[0m\u001b[0m\n\u001b[1;32m      5\u001b[0m                 \u001b[0mnums\u001b[0m\u001b[0;34m[\u001b[0m\u001b[0mj\u001b[0m \u001b[0;34m+\u001b[0m \u001b[0;36m1\u001b[0m\u001b[0;34m]\u001b[0m\u001b[0;34m,\u001b[0m \u001b[0mnums\u001b[0m\u001b[0;34m[\u001b[0m\u001b[0mj\u001b[0m\u001b[0;34m]\u001b[0m \u001b[0;34m=\u001b[0m \u001b[0mnums\u001b[0m\u001b[0;34m[\u001b[0m\u001b[0mj\u001b[0m\u001b[0;34m]\u001b[0m\u001b[0;34m,\u001b[0m \u001b[0mnums\u001b[0m\u001b[0;34m[\u001b[0m\u001b[0mj\u001b[0m \u001b[0;34m+\u001b[0m \u001b[0;36m1\u001b[0m\u001b[0;34m]\u001b[0m\u001b[0;34m\u001b[0m\u001b[0;34m\u001b[0m\u001b[0m\n",
      "\u001b[0;32m~/anaconda3/envs/py38/lib/python3.8/bdb.py\u001b[0m in \u001b[0;36mtrace_dispatch\u001b[0;34m(self, frame, event, arg)\u001b[0m\n\u001b[1;32m     86\u001b[0m             \u001b[0;32mreturn\u001b[0m \u001b[0;31m# None\u001b[0m\u001b[0;34m\u001b[0m\u001b[0;34m\u001b[0m\u001b[0m\n\u001b[1;32m     87\u001b[0m         \u001b[0;32mif\u001b[0m \u001b[0mevent\u001b[0m \u001b[0;34m==\u001b[0m \u001b[0;34m'line'\u001b[0m\u001b[0;34m:\u001b[0m\u001b[0;34m\u001b[0m\u001b[0;34m\u001b[0m\u001b[0m\n\u001b[0;32m---> 88\u001b[0;31m             \u001b[0;32mreturn\u001b[0m \u001b[0mself\u001b[0m\u001b[0;34m.\u001b[0m\u001b[0mdispatch_line\u001b[0m\u001b[0;34m(\u001b[0m\u001b[0mframe\u001b[0m\u001b[0;34m)\u001b[0m\u001b[0;34m\u001b[0m\u001b[0;34m\u001b[0m\u001b[0m\n\u001b[0m\u001b[1;32m     89\u001b[0m         \u001b[0;32mif\u001b[0m \u001b[0mevent\u001b[0m \u001b[0;34m==\u001b[0m \u001b[0;34m'call'\u001b[0m\u001b[0;34m:\u001b[0m\u001b[0;34m\u001b[0m\u001b[0;34m\u001b[0m\u001b[0m\n\u001b[1;32m     90\u001b[0m             \u001b[0;32mreturn\u001b[0m \u001b[0mself\u001b[0m\u001b[0;34m.\u001b[0m\u001b[0mdispatch_call\u001b[0m\u001b[0;34m(\u001b[0m\u001b[0mframe\u001b[0m\u001b[0;34m,\u001b[0m \u001b[0marg\u001b[0m\u001b[0;34m)\u001b[0m\u001b[0;34m\u001b[0m\u001b[0;34m\u001b[0m\u001b[0m\n",
      "\u001b[0;32m~/anaconda3/envs/py38/lib/python3.8/bdb.py\u001b[0m in \u001b[0;36mdispatch_line\u001b[0;34m(self, frame)\u001b[0m\n\u001b[1;32m    111\u001b[0m         \u001b[0;32mif\u001b[0m \u001b[0mself\u001b[0m\u001b[0;34m.\u001b[0m\u001b[0mstop_here\u001b[0m\u001b[0;34m(\u001b[0m\u001b[0mframe\u001b[0m\u001b[0;34m)\u001b[0m \u001b[0;32mor\u001b[0m \u001b[0mself\u001b[0m\u001b[0;34m.\u001b[0m\u001b[0mbreak_here\u001b[0m\u001b[0;34m(\u001b[0m\u001b[0mframe\u001b[0m\u001b[0;34m)\u001b[0m\u001b[0;34m:\u001b[0m\u001b[0;34m\u001b[0m\u001b[0;34m\u001b[0m\u001b[0m\n\u001b[1;32m    112\u001b[0m             \u001b[0mself\u001b[0m\u001b[0;34m.\u001b[0m\u001b[0muser_line\u001b[0m\u001b[0;34m(\u001b[0m\u001b[0mframe\u001b[0m\u001b[0;34m)\u001b[0m\u001b[0;34m\u001b[0m\u001b[0;34m\u001b[0m\u001b[0m\n\u001b[0;32m--> 113\u001b[0;31m             \u001b[0;32mif\u001b[0m \u001b[0mself\u001b[0m\u001b[0;34m.\u001b[0m\u001b[0mquitting\u001b[0m\u001b[0;34m:\u001b[0m \u001b[0;32mraise\u001b[0m \u001b[0mBdbQuit\u001b[0m\u001b[0;34m\u001b[0m\u001b[0;34m\u001b[0m\u001b[0m\n\u001b[0m\u001b[1;32m    114\u001b[0m         \u001b[0;32mreturn\u001b[0m \u001b[0mself\u001b[0m\u001b[0;34m.\u001b[0m\u001b[0mtrace_dispatch\u001b[0m\u001b[0;34m\u001b[0m\u001b[0;34m\u001b[0m\u001b[0m\n\u001b[1;32m    115\u001b[0m \u001b[0;34m\u001b[0m\u001b[0m\n",
      "\u001b[0;31mBdbQuit\u001b[0m: "
     ]
    }
   ],
   "source": [
    "bubble_sort(nums)"
   ]
  },
  {
   "cell_type": "code",
   "execution_count": 22,
   "metadata": {
    "ExecuteTime": {
     "end_time": "2023-04-10T03:03:44.439961Z",
     "start_time": "2023-04-10T03:03:44.382247Z"
    }
   },
   "outputs": [],
   "source": [
    "from roboduck.debug import CodeCompletionCache\n",
    "from roboduck.utils import parse_completion"
   ]
  },
  {
   "cell_type": "code",
   "execution_count": 20,
   "metadata": {
    "ExecuteTime": {
     "end_time": "2023-04-10T03:03:01.819598Z",
     "start_time": "2023-04-10T03:03:01.781987Z"
    }
   },
   "outputs": [
    {
     "data": {
      "text/plain": [
       "{'last_completion': '1.\\n\\nThe problem is that the code is trying to access an index that is out of range. Specifically, in the inner loop, when j is equal to len(nums) - 1, the code tries to access nums[j + 1], which is equivalent to nums[len(nums)], but the last valid index in nums is len(nums) - 1. To fix this, we need to change the range of the inner loop to go up to len(nums) - i - 1 instead of len(nums).\\n\\n2.\\n```python\\ndef bubble_sort(nums):\\n    for i in range(len(nums)):\\n        for j in range(len(nums) - i - 1):\\n            if nums[j] > nums[j + 1]:\\n                nums[j + 1], nums[j] = nums[j], nums[j + 1]\\n    return nums\\n```',\n",
       " 'last_explanation': '1.\\n\\nThe problem is that the code is trying to access an index that is out of range. Specifically, in the inner loop, when j is equal to len(nums) - 1, the code tries to access nums[j + 1], which is equivalent to nums[len(nums)], but the last valid index in nums is len(nums) - 1. To fix this, we need to change the range of the inner loop to go up to len(nums) - i - 1 instead of len(nums).\\n\\n2.\\n',\n",
       " 'last_code': 'def bubble_sort(nums):\\n    for i in range(len(nums)):\\n        for j in range(len(nums)):\\n            if nums[j] > nums[j + 1]:\\n                nums[j + 1], nums[j] = nums[j], nums[j + 1]\\n    return nums',\n",
       " 'last_new_code': '',\n",
       " 'last_code_diff': '',\n",
       " 'last_extra': {}}"
      ]
     },
     "execution_count": 20,
     "metadata": {},
     "output_type": "execute_result"
    }
   ],
   "source": [
    "{k: v for k, v in vars(CodeCompletionCache).items() if k.startswith('last_')}"
   ]
  },
  {
   "cell_type": "code",
   "execution_count": 23,
   "metadata": {
    "ExecuteTime": {
     "end_time": "2023-04-10T03:03:48.320783Z",
     "start_time": "2023-04-10T03:03:48.282643Z"
    }
   },
   "outputs": [
    {
     "data": {
      "text/plain": [
       "{'explanation': '1.\\n\\nThe problem is that the code is trying to access an index that is out of range. Specifically, in the inner loop, when j is equal to len(nums) - 1, the code tries to access nums[j + 1], which is equivalent to nums[len(nums)], but the last valid index in nums is len(nums) - 1. To fix this, we need to change the range of the inner loop to go up to len(nums) - i - 1 instead of len(nums).\\n\\n2.\\n',\n",
       " 'code': ''}"
      ]
     },
     "execution_count": 23,
     "metadata": {},
     "output_type": "execute_result"
    }
   ],
   "source": [
    "parse_completion(CodeCompletionCache.last_completion)"
   ]
  },
  {
   "cell_type": "code",
   "execution_count": null,
   "metadata": {},
   "outputs": [],
   "source": []
  }
 ],
 "metadata": {
  "kernelspec": {
   "display_name": "Python 3",
   "language": "python",
   "name": "python3"
  },
  "language_info": {
   "codemirror_mode": {
    "name": "ipython",
    "version": 3
   },
   "file_extension": ".py",
   "mimetype": "text/x-python",
   "name": "python",
   "nbconvert_exporter": "python",
   "pygments_lexer": "ipython3",
   "version": "3.8.2"
  }
 },
 "nbformat": 4,
 "nbformat_minor": 2
}
