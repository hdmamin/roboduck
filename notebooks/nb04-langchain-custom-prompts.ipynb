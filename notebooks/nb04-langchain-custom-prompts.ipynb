{
 "cells": [
  {
   "cell_type": "code",
   "execution_count": 1,
   "metadata": {
    "ExecuteTime": {
     "end_time": "2023-03-23T02:35:06.262511Z",
     "start_time": "2023-03-23T02:35:06.246939Z"
    }
   },
   "outputs": [
    {
     "name": "stdout",
     "output_type": "stream",
     "text": [
      "The autoreload extension is already loaded. To reload it, use:\n",
      "  %reload_ext autoreload\n"
     ]
    }
   ],
   "source": [
    "%load_ext autoreload\n",
    "%autoreload 2"
   ]
  },
  {
   "cell_type": "code",
   "execution_count": 2,
   "metadata": {
    "ExecuteTime": {
     "end_time": "2023-03-23T02:35:10.481604Z",
     "start_time": "2023-03-23T02:35:06.430852Z"
    }
   },
   "outputs": [
    {
     "name": "stdout",
     "output_type": "stream",
     "text": [
      "Object loaded from /Users/hmamin/jabberwocky/data/misc/gooseai_sample_responses.pkl.\n"
     ]
    }
   ],
   "source": [
    "from langchain.prompts import PromptTemplate, ChatPromptTemplate, \\\n",
    "    HumanMessagePromptTemplate, SystemMessagePromptTemplate\n",
    "from langchain.schema import SystemMessage\n",
    "from langchain.chat_models.openai import ChatOpenAI\n",
    "import matplotlib.pyplot as plt\n",
    "import numpy as np\n",
    "import os\n",
    "import pandas as pd\n",
    "from pathlib import Path\n",
    "\n",
    "from htools import *\n",
    "from jabberwocky.openai_utils import *"
   ]
  },
  {
   "cell_type": "code",
   "execution_count": 3,
   "metadata": {
    "ExecuteTime": {
     "end_time": "2023-03-23T02:35:10.543340Z",
     "start_time": "2023-03-23T02:35:10.486723Z"
    }
   },
   "outputs": [
    {
     "name": "stdout",
     "output_type": "stream",
     "text": [
      "Current directory: /Users/hmamin/roboduck\n"
     ]
    }
   ],
   "source": [
    "cd_root()"
   ]
  },
  {
   "cell_type": "code",
   "execution_count": 4,
   "metadata": {
    "ExecuteTime": {
     "end_time": "2023-03-22T03:36:05.365365Z",
     "start_time": "2023-03-22T03:36:05.300385Z"
    },
    "run_control": {
     "marked": false
    }
   },
   "outputs": [],
   "source": [
    "os.environ['OPENAI_API_KEY'] = api_key = load_openai_api_key()"
   ]
  },
  {
   "cell_type": "code",
   "execution_count": 9,
   "metadata": {
    "ExecuteTime": {
     "end_time": "2023-03-22T03:40:24.813278Z",
     "start_time": "2023-03-22T03:40:24.729465Z"
    }
   },
   "outputs": [
    {
     "name": "stdout",
     "output_type": "stream",
     "text": [
      "debug: Could try davinci text as well but codex is free for now. You may want to strip triple double-quotes from the end in case codex generates them (we don't include that as a stop phrase because codex might generate a docstring as part of a correct code snippet).\n",
      "-------------------------------------------------------------------------------\n",
      "\n",
      "\"\"\"ANSWER KEY\n",
      "\n",
      "This code snippet is not working as expected. Help me debug it. First read my question, then examine the snippet of code that is causing the issue and look at the values of the local and global variables. In the section titled SOLUTION PART 1, use plain English to explain what the problem is and how to fix it. In the section titled SOLUTION PART 2, write a corrected version of the input code snippet. If you don't know what the problem is, SOLUTION PART 1 should list a few possible causes or things I could try in order to identify the issue and SOLUTION PART 2 should say N/A. Be concise and use simple language because I am a beginning programmer.\n",
      "\n",
      "QUESTION:\n",
      "{question}\n",
      "\n",
      "CURRENT CODE SNIPPET:\n",
      "{code}\n",
      "\n",
      "LOCAL VARIABLES:\n",
      "{local_vars}\n",
      "\n",
      "GLOBAL VARIABLES:\n",
      "{global_vars}\n",
      "\n",
      "SOLUTION PART 1:\n"
     ]
    }
   ],
   "source": [
    "print(load_prompt('debug')['prompt'])"
   ]
  },
  {
   "cell_type": "code",
   "execution_count": 31,
   "metadata": {
    "ExecuteTime": {
     "end_time": "2023-03-22T03:56:22.606753Z",
     "start_time": "2023-03-22T03:56:22.565301Z"
    }
   },
   "outputs": [],
   "source": [
    "system_prompt_text = \"\"\"You are an incredibly effective AI programming assistant. You have in-depth knowledge across a broad range of sub-fields within computer science, software development, and data science, and your goal is to help Python programmers resolve their most challenging bugs.\n",
    "\"\"\"\n",
    "system_prompt = SystemMessage(content=system_prompt_text)"
   ]
  },
  {
   "cell_type": "code",
   "execution_count": 46,
   "metadata": {
    "ExecuteTime": {
     "end_time": "2023-03-22T04:02:31.442166Z",
     "start_time": "2023-03-22T04:02:31.373314Z"
    },
    "run_control": {
     "marked": false
    }
   },
   "outputs": [],
   "source": [
    "user_prompt_text = \"\"\"This code snippet is not working as expected. Help me debug it. First read my question, then examine the snippet of code that is causing the issue and look at the values of the local and global variables. Your response must have exactly two parts. In the section titled SOLUTION PART 1, use plain English to explain what the problem is and how to fix it (if you don't know what the problem is, SOLUTION PART 1 should instead list a few possible causes or things I could try in order to identify the issue). In the section titled SOLUTION PART 2, write a corrected version of the input code snippet (if you don't know, SOLUTION PART 2 should say None). SOLUTION PART 2 must contain only python code - there must not be any English explanation outside of code comments or docstrings. Be concise and use simple language because I am a beginning programmer.\n",
    "\n",
    "QUESTION:\n",
    "{question}\n",
    "\n",
    "CURRENT CODE SNIPPET:\n",
    "{code}\n",
    "\n",
    "LOCAL VARIABLES:\n",
    "{local_vars}\n",
    "\n",
    "GLOBAL VARIABLES:\n",
    "{global_vars}\"\"\"\n",
    "user_prompt_template = HumanMessagePromptTemplate.from_template(\n",
    "    user_prompt_text\n",
    ")"
   ]
  },
  {
   "cell_type": "code",
   "execution_count": 51,
   "metadata": {
    "ExecuteTime": {
     "end_time": "2023-03-22T04:05:23.018828Z",
     "start_time": "2023-03-22T04:05:22.971790Z"
    }
   },
   "outputs": [],
   "source": [
    "kwargs = {\n",
    "    'question': 'Why will this throw an index error soon?',\n",
    "    'code': \"\"\"def bubble_sort(nums):\n",
    "    for i in range(len(nums)):\n",
    "        for j in range(len(nums)):\n",
    "            if nums[j] > nums[j + 1]:\n",
    "                nums[j + 1], nums[j] = nums[j], nums[j + 1]\n",
    "    return nums\"\"\",\n",
    "    'local_vars': \"\"\"{\n",
    "    'nums': [3, 4, 2, 1, 5, 9],   # type: list\n",
    "    'i': 0,   # type: int\n",
    "    'j': 4,   # type: int\n",
    "}\"\"\",\n",
    "    'global_vars': \"\"\"{\n",
    "}\"\"\"\n",
    "}"
   ]
  },
  {
   "cell_type": "code",
   "execution_count": 53,
   "metadata": {
    "ExecuteTime": {
     "end_time": "2023-03-22T04:05:44.016807Z",
     "start_time": "2023-03-22T04:05:43.964772Z"
    }
   },
   "outputs": [],
   "source": [
    "messages = [\n",
    "    system_prompt,\n",
    "    user_prompt_template.format(**kwargs)\n",
    "]"
   ]
  },
  {
   "cell_type": "code",
   "execution_count": 55,
   "metadata": {
    "ExecuteTime": {
     "end_time": "2023-03-22T04:05:49.065093Z",
     "start_time": "2023-03-22T04:05:49.026666Z"
    }
   },
   "outputs": [
    {
     "name": "stdout",
     "output_type": "stream",
     "text": [
      "You are an incredibly effective AI programming assistant. You have in-depth knowledge across a broad range of sub-fields within computer science, software development, and data science, and your goal is to help Python programmers resolve their most challenging bugs.\n",
      "\n",
      "This code snippet is not working as expected. Help me debug it. First read my question, then examine the snippet of code that is causing the issue and look at the values of the local and global variables. Your response must have exactly two parts. In the section titled SOLUTION PART 1, use plain English to explain what the problem is and how to fix it (if you don't know what the problem is, SOLUTION PART 1 should instead list a few possible causes or things I could try in order to identify the issue). In the section titled SOLUTION PART 2, write a corrected version of the input code snippet (if you don't know, SOLUTION PART 2 should say None). SOLUTION PART 2 must contain only python code - there must not be any English explanation outside of code comments or docstrings. Be concise and use simple language because I am a beginning programmer.\n",
      "\n",
      "QUESTION:\n",
      "Why will this throw an index error soon?\n",
      "\n",
      "CURRENT CODE SNIPPET:\n",
      "def bubble_sort(nums):\n",
      "    for i in range(len(nums)):\n",
      "        for j in range(len(nums)):\n",
      "            if nums[j] > nums[j + 1]:\n",
      "                nums[j + 1], nums[j] = nums[j], nums[j + 1]\n",
      "    return nums\n",
      "\n",
      "LOCAL VARIABLES:\n",
      "{\n",
      "    'nums': [3, 4, 2, 1, 5, 9],   # type: list\n",
      "    'i': 0,   # type: int\n",
      "    'j': 4,   # type: int\n",
      "}\n",
      "\n",
      "GLOBAL VARIABLES:\n",
      "{\n",
      "}\n"
     ]
    }
   ],
   "source": [
    "print('\\n'.join(m.content for m in messages))"
   ]
  },
  {
   "cell_type": "code",
   "execution_count": 56,
   "metadata": {
    "ExecuteTime": {
     "end_time": "2023-03-22T04:06:18.274723Z",
     "start_time": "2023-03-22T04:06:18.216120Z"
    }
   },
   "outputs": [],
   "source": [
    "chat = ChatOpenAI(temperature=0, model_name='gpt-3.5-turbo')"
   ]
  },
  {
   "cell_type": "code",
   "execution_count": 58,
   "metadata": {
    "ExecuteTime": {
     "end_time": "2023-03-22T04:06:34.986994Z",
     "start_time": "2023-03-22T04:06:34.949026Z"
    }
   },
   "outputs": [
    {
     "name": "stdout",
     "output_type": "stream",
     "text": [
      "SOLUTION PART 1:\n",
      "The code will throw an index error soon because the inner loop is iterating up to the length of the list, which means that on the last iteration, `nums[j + 1]` will be out of range. To fix this, we need to change the range of the inner loop to `range(len(nums) - i - 1)`.\n",
      "\n",
      "SOLUTION PART 2:\n",
      "\n",
      "```\n",
      "def bubble_sort(nums):\n",
      "    for i in range(len(nums)):\n",
      "        for j in range(len(nums) - i - 1):\n",
      "            if nums[j] > nums[j + 1]:\n",
      "                nums[j + 1], nums[j] = nums[j], nums[j + 1]\n",
      "    return nums\n",
      "```\n"
     ]
    }
   ],
   "source": [
    "res = chat(messages)\n",
    "print(res.content)"
   ]
  },
  {
   "cell_type": "code",
   "execution_count": 60,
   "metadata": {
    "ExecuteTime": {
     "end_time": "2023-03-22T04:11:21.695628Z",
     "start_time": "2023-03-22T04:11:21.649258Z"
    }
   },
   "outputs": [],
   "source": [
    "messages.append(res)\n",
    "messages.append(\n",
    "    user_prompt_template.format(\n",
    "        **{**kwargs, \n",
    "           'question': 'Can you revise your solution so you only find the length of nums once?'}\n",
    "    )\n",
    ")"
   ]
  },
  {
   "cell_type": "code",
   "execution_count": 62,
   "metadata": {
    "ExecuteTime": {
     "end_time": "2023-03-22T04:11:55.671084Z",
     "start_time": "2023-03-22T04:11:49.538517Z"
    }
   },
   "outputs": [
    {
     "name": "stdout",
     "output_type": "stream",
     "text": [
      "SOLUTION PART 1:\n",
      "The problem with the current code is that it is calling `len(nums)` twice in the inner loop, which is inefficient. To fix this, we can store the length of `nums` in a variable before the loop and use that variable instead.\n",
      "\n",
      "SOLUTION PART 2:\n",
      "\n",
      "```\n",
      "def bubble_sort(nums):\n",
      "    n = len(nums)\n",
      "    for i in range(n):\n",
      "        for j in range(n - i - 1):\n",
      "            if nums[j] > nums[j + 1]:\n",
      "                nums[j + 1], nums[j] = nums[j], nums[j + 1]\n",
      "    return nums\n",
      "```\n"
     ]
    }
   ],
   "source": [
    "res = chat(messages)\n",
    "print(res.content)"
   ]
  },
  {
   "cell_type": "code",
   "execution_count": null,
   "metadata": {},
   "outputs": [],
   "source": []
  },
  {
   "cell_type": "code",
   "execution_count": null,
   "metadata": {},
   "outputs": [],
   "source": []
  },
  {
   "cell_type": "markdown",
   "metadata": {
    "run_control": {
     "marked": true
    }
   },
   "source": [
    "## Debug scratch\n",
    "\n",
    "See if we can use frames to identify whether we need to provide context for a user message (i.e. if frame has changed since we last did)."
   ]
  },
  {
   "cell_type": "code",
   "execution_count": 4,
   "metadata": {
    "ExecuteTime": {
     "end_time": "2023-03-23T02:35:33.486423Z",
     "start_time": "2023-03-23T02:35:33.415676Z"
    }
   },
   "outputs": [],
   "source": [
    "from roboduck.debugger import duck"
   ]
  },
  {
   "cell_type": "code",
   "execution_count": 70,
   "metadata": {
    "ExecuteTime": {
     "end_time": "2023-03-23T04:02:00.648795Z",
     "start_time": "2023-03-23T04:01:59.817553Z"
    }
   },
   "outputs": [],
   "source": [
    "def binary_search(x, nums):\n",
    "    if not nums:\n",
    "        return -1\n",
    "    duck(backend='repeat')\n",
    "    mid = len(nums) // 2\n",
    "    if x == nums[mid]:\n",
    "        return x\n",
    "    if x > nums[mid]:\n",
    "        return binary_search(x, nums[mid + 1:])\n",
    "    if x < nums[mid]:\n",
    "        return binary_search(x, nums[:mid])"
   ]
  },
  {
   "cell_type": "code",
   "execution_count": 71,
   "metadata": {
    "ExecuteTime": {
     "end_time": "2023-03-23T04:02:00.686427Z",
     "start_time": "2023-03-23T04:02:00.651642Z"
    }
   },
   "outputs": [],
   "source": [
    "nums = [33, 44, 55, 66, 77, 88, 99, 111]"
   ]
  },
  {
   "cell_type": "code",
   "execution_count": 72,
   "metadata": {
    "ExecuteTime": {
     "end_time": "2023-03-23T04:02:44.774242Z",
     "start_time": "2023-03-23T04:02:00.695613Z"
    }
   },
   "outputs": [
    {
     "name": "stdout",
     "output_type": "stream",
     "text": [
      "> <ipython-input-70-8a37149461d4>(5)binary_search()\n",
      "-> mid = len(nums) // 2\n",
      ">>> l .\n",
      "  1  \tdef binary_search(x, nums):\n",
      "  2  \t    if not nums:\n",
      "  3  \t        return -1\n",
      "  4  \t    duck(backend='repeat')\n",
      "  5  ->\t    mid = len(nums) // 2\n",
      "  6  \t    if x == nums[mid]:\n",
      "  7  \t        return x\n",
      "  8  \t    if x > nums[mid]:\n",
      "  9  \t        return binary_search(x, nums[mid + 1:])\n",
      " 10  \t    if x < nums[mid]:\n",
      " 11  \t        return binary_search(x, nums[:mid])\n",
      ">>> y?\n",
      "next line:     mid = len(nums) // 2\n",
      "\u001b[32m[Duck] \u001b[0m\u001b[32m\"\u001b[0m\u001b[32m\"\u001b[0m\u001b[32m\"\u001b[0m>>> n\n",
      "> <ipython-input-70-8a37149461d4>(6)binary_search()\n",
      "-> if x == nums[mid]:\n",
      ">>> n\n",
      "> <ipython-input-70-8a37149461d4>(8)binary_search()\n",
      "-> if x > nums[mid]:\n",
      ">>> n\n",
      "> <ipython-input-70-8a37149461d4>(10)binary_search()\n",
      "-> if x < nums[mid]:\n",
      ">>> n\n",
      "> <ipython-input-70-8a37149461d4>(11)binary_search()\n",
      "-> return binary_search(x, nums[:mid])\n",
      ">>> l .\n",
      "  6  \t    if x == nums[mid]:\n",
      "  7  \t        return x\n",
      "  8  \t    if x > nums[mid]:\n",
      "  9  \t        return binary_search(x, nums[mid + 1:])\n",
      " 10  \t    if x < nums[mid]:\n",
      " 11  ->\t        return binary_search(x, nums[:mid])\n",
      "[EOF]\n",
      ">>> [dev] What wrong?\n",
      "next line:         return binary_search(x, nums[:mid])\n",
      "\u001b[31m\"\"\"ANSWER KEY\n",
      "\n",
      "This code snippet is not working as expected. Help me debug it. First read my question, then examine the snippet of code that is causing the issue and look at the values of the local and global variables. In the section titled SOLUTION PART 1, use plain English to explain what the problem is and how to fix it. In the section titled SOLUTION PART 2, write a corrected version of the input code snippet. If you don't know what the problem is, SOLUTION PART 1 should list a few possible causes or things I could try in order to identify the issue and SOLUTION PART 2 should say N/A. Be concise and use simple language because I am a beginning programmer.\n",
      "\n",
      "QUESTION:\n",
      "[dev] What wrong?\n",
      "\n",
      "CURRENT CODE SNIPPET:\n",
      "def binary_search(x, nums):\n",
      "    if not nums:\n",
      "        return -1\n",
      "    mid = len(nums) // 2\n",
      "    if x == nums[mid]:\n",
      "        return x\n",
      "    if x > nums[mid]:\n",
      "        return binary_search(x, nums[mid + 1:])\n",
      "    if x < nums[mid]:\n",
      "        return binary_search(x, nums[:mid])\n",
      "\n",
      "LOCAL VARIABLES:\n",
      "{\n",
      "    'x': 3,   # type: int\n",
      "    'nums': [33, 44, 55, 66, 77, 88, 99, 111],   # type: list\n",
      "    'mid': 4,   # type: int\n",
      "}\n",
      "\n",
      "GLOBAL VARIABLES:\n",
      "{\n",
      "}\n",
      "\n",
      "SOLUTION PART 1:\u001b[0m\n",
      "\u001b[32m[Duck] \u001b[0m\u001b[32m\"\u001b[0m\u001b[32m\"\u001b[0m\u001b[32m\"\u001b[0m>>> q\n"
     ]
    },
    {
     "ename": "BdbQuit",
     "evalue": "",
     "output_type": "error",
     "traceback": [
      "\u001b[0;31m---------------------------------------------------------------------------\u001b[0m",
      "\u001b[0;31mBdbQuit\u001b[0m                                   Traceback (most recent call last)",
      "\u001b[0;32m<ipython-input-72-1d506c8d773a>\u001b[0m in \u001b[0;36m<module>\u001b[0;34m\u001b[0m\n\u001b[0;32m----> 1\u001b[0;31m \u001b[0mbinary_search\u001b[0m\u001b[0;34m(\u001b[0m\u001b[0;36m3\u001b[0m\u001b[0;34m,\u001b[0m \u001b[0mnums\u001b[0m\u001b[0;34m)\u001b[0m\u001b[0;34m\u001b[0m\u001b[0;34m\u001b[0m\u001b[0m\n\u001b[0m",
      "\u001b[0;32m<ipython-input-70-8a37149461d4>\u001b[0m in \u001b[0;36mbinary_search\u001b[0;34m(x, nums)\u001b[0m\n\u001b[1;32m      9\u001b[0m         \u001b[0;32mreturn\u001b[0m \u001b[0mbinary_search\u001b[0m\u001b[0;34m(\u001b[0m\u001b[0mx\u001b[0m\u001b[0;34m,\u001b[0m \u001b[0mnums\u001b[0m\u001b[0;34m[\u001b[0m\u001b[0mmid\u001b[0m \u001b[0;34m+\u001b[0m \u001b[0;36m1\u001b[0m\u001b[0;34m:\u001b[0m\u001b[0;34m]\u001b[0m\u001b[0;34m)\u001b[0m\u001b[0;34m\u001b[0m\u001b[0;34m\u001b[0m\u001b[0m\n\u001b[1;32m     10\u001b[0m     \u001b[0;32mif\u001b[0m \u001b[0mx\u001b[0m \u001b[0;34m<\u001b[0m \u001b[0mnums\u001b[0m\u001b[0;34m[\u001b[0m\u001b[0mmid\u001b[0m\u001b[0;34m]\u001b[0m\u001b[0;34m:\u001b[0m\u001b[0;34m\u001b[0m\u001b[0;34m\u001b[0m\u001b[0m\n\u001b[0;32m---> 11\u001b[0;31m         \u001b[0;32mreturn\u001b[0m \u001b[0mbinary_search\u001b[0m\u001b[0;34m(\u001b[0m\u001b[0mx\u001b[0m\u001b[0;34m,\u001b[0m \u001b[0mnums\u001b[0m\u001b[0;34m[\u001b[0m\u001b[0;34m:\u001b[0m\u001b[0mmid\u001b[0m\u001b[0;34m]\u001b[0m\u001b[0;34m)\u001b[0m\u001b[0;34m\u001b[0m\u001b[0;34m\u001b[0m\u001b[0m\n\u001b[0m",
      "\u001b[0;32m<ipython-input-70-8a37149461d4>\u001b[0m in \u001b[0;36mbinary_search\u001b[0;34m(x, nums)\u001b[0m\n\u001b[1;32m      9\u001b[0m         \u001b[0;32mreturn\u001b[0m \u001b[0mbinary_search\u001b[0m\u001b[0;34m(\u001b[0m\u001b[0mx\u001b[0m\u001b[0;34m,\u001b[0m \u001b[0mnums\u001b[0m\u001b[0;34m[\u001b[0m\u001b[0mmid\u001b[0m \u001b[0;34m+\u001b[0m \u001b[0;36m1\u001b[0m\u001b[0;34m:\u001b[0m\u001b[0;34m]\u001b[0m\u001b[0;34m)\u001b[0m\u001b[0;34m\u001b[0m\u001b[0;34m\u001b[0m\u001b[0m\n\u001b[1;32m     10\u001b[0m     \u001b[0;32mif\u001b[0m \u001b[0mx\u001b[0m \u001b[0;34m<\u001b[0m \u001b[0mnums\u001b[0m\u001b[0;34m[\u001b[0m\u001b[0mmid\u001b[0m\u001b[0;34m]\u001b[0m\u001b[0;34m:\u001b[0m\u001b[0;34m\u001b[0m\u001b[0;34m\u001b[0m\u001b[0m\n\u001b[0;32m---> 11\u001b[0;31m         \u001b[0;32mreturn\u001b[0m \u001b[0mbinary_search\u001b[0m\u001b[0;34m(\u001b[0m\u001b[0mx\u001b[0m\u001b[0;34m,\u001b[0m \u001b[0mnums\u001b[0m\u001b[0;34m[\u001b[0m\u001b[0;34m:\u001b[0m\u001b[0mmid\u001b[0m\u001b[0;34m]\u001b[0m\u001b[0;34m)\u001b[0m\u001b[0;34m\u001b[0m\u001b[0;34m\u001b[0m\u001b[0m\n\u001b[0m",
      "\u001b[0;32m~/anaconda3/envs/py38/lib/python3.8/bdb.py\u001b[0m in \u001b[0;36mtrace_dispatch\u001b[0;34m(self, frame, event, arg)\u001b[0m\n\u001b[1;32m     86\u001b[0m             \u001b[0;32mreturn\u001b[0m \u001b[0;31m# None\u001b[0m\u001b[0;34m\u001b[0m\u001b[0;34m\u001b[0m\u001b[0m\n\u001b[1;32m     87\u001b[0m         \u001b[0;32mif\u001b[0m \u001b[0mevent\u001b[0m \u001b[0;34m==\u001b[0m \u001b[0;34m'line'\u001b[0m\u001b[0;34m:\u001b[0m\u001b[0;34m\u001b[0m\u001b[0;34m\u001b[0m\u001b[0m\n\u001b[0;32m---> 88\u001b[0;31m             \u001b[0;32mreturn\u001b[0m \u001b[0mself\u001b[0m\u001b[0;34m.\u001b[0m\u001b[0mdispatch_line\u001b[0m\u001b[0;34m(\u001b[0m\u001b[0mframe\u001b[0m\u001b[0;34m)\u001b[0m\u001b[0;34m\u001b[0m\u001b[0;34m\u001b[0m\u001b[0m\n\u001b[0m\u001b[1;32m     89\u001b[0m         \u001b[0;32mif\u001b[0m \u001b[0mevent\u001b[0m \u001b[0;34m==\u001b[0m \u001b[0;34m'call'\u001b[0m\u001b[0;34m:\u001b[0m\u001b[0;34m\u001b[0m\u001b[0;34m\u001b[0m\u001b[0m\n\u001b[1;32m     90\u001b[0m             \u001b[0;32mreturn\u001b[0m \u001b[0mself\u001b[0m\u001b[0;34m.\u001b[0m\u001b[0mdispatch_call\u001b[0m\u001b[0;34m(\u001b[0m\u001b[0mframe\u001b[0m\u001b[0;34m,\u001b[0m \u001b[0marg\u001b[0m\u001b[0;34m)\u001b[0m\u001b[0;34m\u001b[0m\u001b[0;34m\u001b[0m\u001b[0m\n",
      "\u001b[0;32m~/anaconda3/envs/py38/lib/python3.8/bdb.py\u001b[0m in \u001b[0;36mdispatch_line\u001b[0;34m(self, frame)\u001b[0m\n\u001b[1;32m    111\u001b[0m         \u001b[0;32mif\u001b[0m \u001b[0mself\u001b[0m\u001b[0;34m.\u001b[0m\u001b[0mstop_here\u001b[0m\u001b[0;34m(\u001b[0m\u001b[0mframe\u001b[0m\u001b[0;34m)\u001b[0m \u001b[0;32mor\u001b[0m \u001b[0mself\u001b[0m\u001b[0;34m.\u001b[0m\u001b[0mbreak_here\u001b[0m\u001b[0;34m(\u001b[0m\u001b[0mframe\u001b[0m\u001b[0;34m)\u001b[0m\u001b[0;34m:\u001b[0m\u001b[0;34m\u001b[0m\u001b[0;34m\u001b[0m\u001b[0m\n\u001b[1;32m    112\u001b[0m             \u001b[0mself\u001b[0m\u001b[0;34m.\u001b[0m\u001b[0muser_line\u001b[0m\u001b[0;34m(\u001b[0m\u001b[0mframe\u001b[0m\u001b[0;34m)\u001b[0m\u001b[0;34m\u001b[0m\u001b[0;34m\u001b[0m\u001b[0m\n\u001b[0;32m--> 113\u001b[0;31m             \u001b[0;32mif\u001b[0m \u001b[0mself\u001b[0m\u001b[0;34m.\u001b[0m\u001b[0mquitting\u001b[0m\u001b[0;34m:\u001b[0m \u001b[0;32mraise\u001b[0m \u001b[0mBdbQuit\u001b[0m\u001b[0;34m\u001b[0m\u001b[0;34m\u001b[0m\u001b[0m\n\u001b[0m\u001b[1;32m    114\u001b[0m         \u001b[0;32mreturn\u001b[0m \u001b[0mself\u001b[0m\u001b[0;34m.\u001b[0m\u001b[0mtrace_dispatch\u001b[0m\u001b[0;34m\u001b[0m\u001b[0;34m\u001b[0m\u001b[0m\n\u001b[1;32m    115\u001b[0m \u001b[0;34m\u001b[0m\u001b[0m\n",
      "\u001b[0;31mBdbQuit\u001b[0m: "
     ]
    }
   ],
   "source": [
    "binary_search(3, nums)"
   ]
  },
  {
   "cell_type": "code",
   "execution_count": 13,
   "metadata": {
    "ExecuteTime": {
     "end_time": "2023-03-23T02:39:22.174903Z",
     "start_time": "2023-03-23T02:39:22.130813Z"
    }
   },
   "outputs": [
    {
     "data": {
      "text/plain": [
       "33"
      ]
     },
     "execution_count": 13,
     "metadata": {},
     "output_type": "execute_result"
    }
   ],
   "source": [
    "binary_search(33, nums)"
   ]
  },
  {
   "cell_type": "code",
   "execution_count": 14,
   "metadata": {
    "ExecuteTime": {
     "end_time": "2023-03-23T02:39:26.415594Z",
     "start_time": "2023-03-23T02:39:26.371426Z"
    }
   },
   "outputs": [
    {
     "data": {
      "text/plain": [
       "-1"
      ]
     },
     "execution_count": 14,
     "metadata": {},
     "output_type": "execute_result"
    }
   ],
   "source": [
    "binary_search(39, nums)"
   ]
  },
  {
   "cell_type": "code",
   "execution_count": 15,
   "metadata": {
    "ExecuteTime": {
     "end_time": "2023-03-23T02:39:40.877084Z",
     "start_time": "2023-03-23T02:39:40.824221Z"
    }
   },
   "outputs": [
    {
     "data": {
      "text/plain": [
       "111"
      ]
     },
     "execution_count": 15,
     "metadata": {},
     "output_type": "execute_result"
    }
   ],
   "source": [
    "binary_search(111, nums)"
   ]
  },
  {
   "cell_type": "code",
   "execution_count": 16,
   "metadata": {
    "ExecuteTime": {
     "end_time": "2023-03-23T02:39:44.851555Z",
     "start_time": "2023-03-23T02:39:44.810780Z"
    }
   },
   "outputs": [
    {
     "data": {
      "text/plain": [
       "-1"
      ]
     },
     "execution_count": 16,
     "metadata": {},
     "output_type": "execute_result"
    }
   ],
   "source": [
    "binary_search(112, nums)"
   ]
  },
  {
   "cell_type": "code",
   "execution_count": null,
   "metadata": {},
   "outputs": [],
   "source": []
  },
  {
   "cell_type": "code",
   "execution_count": 73,
   "metadata": {
    "ExecuteTime": {
     "end_time": "2023-03-23T04:06:26.680330Z",
     "start_time": "2023-03-23T04:06:25.828803Z"
    }
   },
   "outputs": [],
   "source": [
    "def test():\n",
    "    for i in range(5):\n",
    "        print(i)\n",
    "        duck(backend='repeat')"
   ]
  },
  {
   "cell_type": "code",
   "execution_count": null,
   "metadata": {
    "ExecuteTime": {
     "start_time": "2023-03-23T04:06:28.998Z"
    }
   },
   "outputs": [
    {
     "name": "stdout",
     "output_type": "stream",
     "text": [
      "0\n",
      "> <ipython-input-73-943befe6b744>(2)test()\n",
      "-> for i in range(5):\n",
      ">>> i\n",
      "0\n",
      ">>> l .\n",
      "  1  \tdef test():\n",
      "  2  ->\t    for i in range(5):\n",
      "  3  \t        print(i)\n",
      "  4  \t        duck(backend='repeat')\n",
      "[EOF]\n",
      ">>> y?\n",
      "frmae_id 140192236901280\n",
      "next line:     for i in range(5):\n",
      "\u001b[32m[Duck] \u001b[0m\u001b[32m\"\u001b[0m\u001b[32m\"\u001b[0m\u001b[32m\"\u001b[0m>>> n\n",
      "> <ipython-input-73-943befe6b744>(3)test()\n",
      "-> print(i)\n",
      ">>> i\n",
      "1\n",
      ">>> y?\n",
      "frmae_id 140192236901280\n",
      "next line:         print(i)\n",
      "\u001b[32m[Duck] \u001b[0m\u001b[32m\"\u001b[0m\u001b[32m\"\u001b[0m\u001b[32m\"\u001b[0m>>> n\n",
      "1\n",
      "> <ipython-input-73-943befe6b744>(4)test()\n",
      "-> duck(backend='repeat')\n",
      ">>> i\n",
      "1\n",
      ">>> n\n",
      "> <ipython-input-73-943befe6b744>(2)test()\n",
      "-> for i in range(5):\n",
      ">>> i\n",
      "1\n",
      ">>> l .\n",
      "  1  \tdef test():\n",
      "  2  ->\t    for i in range(5):\n",
      "  3  \t        print(i)\n",
      "  4  \t        duck(backend='repeat')\n",
      "[EOF]\n",
      ">>> i\n",
      "1\n",
      ">>> y?\n",
      "frmae_id 140192236901280\n",
      "next line:     for i in range(5):\n",
      "\u001b[32m[Duck] \u001b[0m\u001b[32m\"\u001b[0m\u001b[32m\"\u001b[0m\u001b[32m\"\u001b[0m>>> n\n",
      "> <ipython-input-73-943befe6b744>(3)test()\n",
      "-> print(i)\n",
      ">>> l .\n",
      "  1  \tdef test():\n",
      "  2  \t    for i in range(5):\n",
      "  3  ->\t        print(i)\n",
      "  4  \t        duck(backend='repeat')\n",
      "[EOF]\n",
      ">>> y?\n",
      "frmae_id 140192236901280\n",
      "next line:         print(i)\n",
      "\u001b[32m[Duck] \u001b[0m\u001b[32m\"\u001b[0m\u001b[32m\"\u001b[0m\u001b[32m\"\u001b[0m>>> i\n",
      "2\n",
      ">>> n\n",
      "2\n",
      "> <ipython-input-73-943befe6b744>(4)test()\n",
      "-> duck(backend='repeat')\n",
      ">>> n\n",
      "> <ipython-input-73-943befe6b744>(2)test()\n",
      "-> for i in range(5):\n",
      ">>> n\n",
      "> <ipython-input-73-943befe6b744>(3)test()\n",
      "-> print(i)\n",
      ">>> i\n",
      "3\n",
      ">>> n\n",
      "3\n",
      "> <ipython-input-73-943befe6b744>(4)test()\n",
      "-> duck(backend='repeat')\n",
      ">>> n\n",
      "> <ipython-input-73-943befe6b744>(2)test()\n",
      "-> for i in range(5):\n",
      ">>> i\n",
      "3\n",
      ">>> n\n",
      "> <ipython-input-73-943befe6b744>(3)test()\n",
      "-> print(i)\n",
      ">>> i\n",
      "4\n",
      ">>> y?\n",
      "frmae_id 140192236901280\n",
      "next line:         print(i)\n",
      "\u001b[32m[Duck] \u001b[0m\u001b[32m\"\u001b[0m\u001b[32m\"\u001b[0m\u001b[32m\"\u001b[0m"
     ]
    }
   ],
   "source": [
    "test()"
   ]
  },
  {
   "cell_type": "code",
   "execution_count": null,
   "metadata": {},
   "outputs": [],
   "source": []
  }
 ],
 "metadata": {
  "kernelspec": {
   "display_name": "Python 3",
   "language": "python",
   "name": "python3"
  },
  "language_info": {
   "codemirror_mode": {
    "name": "ipython",
    "version": 3
   },
   "file_extension": ".py",
   "mimetype": "text/x-python",
   "name": "python",
   "nbconvert_exporter": "python",
   "pygments_lexer": "ipython3",
   "version": "3.8.2"
  }
 },
 "nbformat": 4,
 "nbformat_minor": 2
}
